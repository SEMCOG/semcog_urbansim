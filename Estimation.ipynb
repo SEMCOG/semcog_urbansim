{
 "metadata": {
  "name": "",
  "signature": "sha256:30229a78d557df34c73f776304729bb820d9c106794eda2840e5370752d92343"
 },
 "nbformat": 3,
 "nbformat_minor": 0,
 "worksheets": [
  {
   "cells": [
    {
     "cell_type": "code",
     "collapsed": false,
     "input": [
      "%load_ext autoreload\n",
      "\n",
      "%autoreload 1\n",
      "%aimport models\n",
      "%aimport dataset\n",
      "%aimport variables.var_calc\n",
      "var_calc = variables.var_calc"
     ],
     "language": "python",
     "metadata": {},
     "outputs": [],
     "prompt_number": 1
    },
    {
     "cell_type": "code",
     "collapsed": false,
     "input": [
      "dset = dataset.SemcogDataset(\"data/semcog_data.h5\")"
     ],
     "language": "python",
     "metadata": {},
     "outputs": [],
     "prompt_number": 2
    },
    {
     "cell_type": "code",
     "collapsed": false,
     "input": [
      "var_calc.calculate(dset)"
     ],
     "language": "python",
     "metadata": {},
     "outputs": [
      {
       "output_type": "stream",
       "stream": "stdout",
       "text": [
        "Fetching buildings\n",
        "Fetching travel_data"
       ]
      },
      {
       "output_type": "stream",
       "stream": "stdout",
       "text": [
        "\n",
        "Fetching parcels"
       ]
      },
      {
       "output_type": "stream",
       "stream": "stdout",
       "text": [
        "\n",
        "Fetching households"
       ]
      },
      {
       "output_type": "stream",
       "stream": "stdout",
       "text": [
        "\n",
        "Fetching jobs"
       ]
      },
      {
       "output_type": "stream",
       "stream": "stdout",
       "text": [
        "\n",
        "Fetching cities"
       ]
      },
      {
       "output_type": "stream",
       "stream": "stdout",
       "text": [
        "\n",
        "Fetching building_sqft_per_job"
       ]
      },
      {
       "output_type": "stream",
       "stream": "stdout",
       "text": [
        "\n"
       ]
      }
     ],
     "prompt_number": 3
    },
    {
     "cell_type": "code",
     "collapsed": false,
     "input": [
      "models.hlcm_estimate(dset)"
     ],
     "language": "python",
     "metadata": {},
     "outputs": [
      {
       "output_type": "stream",
       "stream": "stdout",
       "text": [
        "Running location choice model estimation\n",
        "\n",
        "Null Log-liklihood: -58680.345"
       ]
      },
      {
       "output_type": "stream",
       "stream": "stdout",
       "text": [
        "\n",
        "Log-liklihood at convergence: -56938.172\n",
        "Log-liklihood Ratio: 0.030\n",
        "\n",
        "+-----------------------------------+-------------+------------+---------+\n",
        "| Component                         | Coefficient | Std. Error | T-Score |\n",
        "+-----------------------------------+-------------+------------+---------+\n",
        "| np.log1p(sqft_per_unit)           |    -0.115   |   0.009    | -12.452 |\n",
        "| np.log1p(jobs_within_30_min)      |    0.020    |   0.004    |  4.777  |\n",
        "| np.log1p(crime08)                 |    0.098    |   0.013    |  7.315  |\n",
        "| np.log1p(popden)                  |    -0.099   |   0.010    | -10.070 |\n",
        "| np.log1p(income * unit_price_res) |    0.145    |   0.003    |  54.682 |\n",
        "+-----------------------------------+-------------+------------+---------+\n"
       ]
      }
     ],
     "prompt_number": 13
    },
    {
     "cell_type": "code",
     "collapsed": false,
     "input": [
      "models.elcm_estimate(dset)"
     ],
     "language": "python",
     "metadata": {},
     "outputs": [
      {
       "output_type": "stream",
       "stream": "stdout",
       "text": [
        "Running location choice model estimation\n",
        "\n",
        "Removing 53 choice situations because chosen alt doesn't exist"
       ]
      },
      {
       "output_type": "stream",
       "stream": "stdout",
       "text": [
        "\n",
        "Null Log-liklihood: -58473.008"
       ]
      },
      {
       "output_type": "stream",
       "stream": "stdout",
       "text": [
        "\n",
        "Log-liklihood at convergence: -15608.965\n",
        "Log-liklihood Ratio: 0.733\n",
        "\n",
        "+--------------------------------+-------------+------------+---------+\n",
        "| Component                      | Coefficient | Std. Error | T-Score |\n",
        "+--------------------------------+-------------+------------+---------+\n",
        "| np.log1p(non_residential_sqft) |    0.641    |   0.004    | 152.382 |\n",
        "| np.log1p(improvement_value)    |    0.189    |   0.004    |  53.694 |\n",
        "| np.log1p(jobs_within_30_min)   |    0.209    |   0.006    |  34.558 |\n",
        "| np.log1p(popden)               |    -0.201   |   0.014    | -14.735 |\n",
        "| np.log1p(crime08)              |    -0.135   |   0.019    |  -7.076 |\n",
        "+--------------------------------+-------------+------------+---------+\n"
       ]
      }
     ],
     "prompt_number": 14
    },
    {
     "cell_type": "code",
     "collapsed": false,
     "input": [
      "models.rsh_estimate(dset)"
     ],
     "language": "python",
     "metadata": {},
     "outputs": [
      {
       "output_type": "stream",
       "stream": "stdout",
       "text": [
        "Running hedonic estimation\n",
        "\n",
        "                               OLS Regression Results                               \n",
        "====================================================================================\n",
        "Dep. Variable:     np.log1p(unit_price_res)   R-squared:                       0.177\n",
        "Model:                                  OLS   Adj. R-squared:                  0.177\n",
        "Method:                       Least Squares   F-statistic:                     3851.\n",
        "Date:                      Wed, 28 May 2014   Prob (F-statistic):               0.00\n",
        "Time:                              15:53:03   Log-Likelihood:                -58999.\n",
        "No. Observations:                    161456   AIC:                         1.180e+05\n",
        "Df Residuals:                        161446   BIC:                         1.181e+05\n",
        "Df Model:                                 9                                         \n",
        "================================================================================================\n",
        "                                   coef    std err          t      P>|t|      [95.0% Conf. Int.]\n",
        "------------------------------------------------------------------------------------------------\n",
        "Intercept                        9.7726      0.111     88.044      0.000         9.555     9.990\n",
        "I(year_built < 1940)[T.True]     0.0165      0.005      3.194      0.001         0.006     0.027\n",
        "year_built                      -0.0010    5.6e-05    -17.664      0.000        -0.001    -0.001\n",
        "stories                          0.0775      0.003     30.301      0.000         0.072     0.083\n",
        "np.log1p(sqft_per_unit)          0.4724      0.003    175.147      0.000         0.467     0.478\n",
        "np.log1p(popden)                -0.0530      0.001    -40.541      0.000        -0.056    -0.050\n",
        "dist_hwy                       4.84e-07   9.74e-08      4.970      0.000      2.93e-07  6.75e-07\n",
        "dist_road                    -8.469e-06   9.27e-07     -9.140      0.000     -1.03e-05 -6.65e-06\n",
        "crime08                          0.0060   9.45e-05     63.418      0.000         0.006     0.006\n",
        "np.log1p(jobs_within_30_min)     0.0141      0.001     17.486      0.000         0.013     0.016\n",
        "==============================================================================\n",
        "Omnibus:                   117345.842   Durbin-Watson:                   0.814\n",
        "Prob(Omnibus):                  0.000   Jarque-Bera (JB):          3043902.391\n",
        "Skew:                           3.232   Prob(JB):                         0.00\n",
        "Kurtosis:                      23.266   Cond. No.                     2.08e+06\n",
        "==============================================================================\n",
        "\n",
        "Warnings:\n",
        "[1] The condition number is large, 2.08e+06. This might indicate that there are\n",
        "strong multicollinearity or other numerical problems."
       ]
      },
      {
       "output_type": "stream",
       "stream": "stdout",
       "text": [
        "\n"
       ]
      }
     ],
     "prompt_number": 15
    },
    {
     "cell_type": "code",
     "collapsed": false,
     "input": [
      "models.nrh_estimate(dset)"
     ],
     "language": "python",
     "metadata": {},
     "outputs": [
      {
       "output_type": "stream",
       "stream": "stdout",
       "text": [
        "Running hedonic estimation\n",
        "\n",
        "                                 OLS Regression Results                                \n",
        "=======================================================================================\n",
        "Dep. Variable:     np.log1p(unit_price_nonres)   R-squared:                       0.340\n",
        "Model:                                     OLS   Adj. R-squared:                  0.340\n",
        "Method:                          Least Squares   F-statistic:                     6585.\n",
        "Date:                         Wed, 28 May 2014   Prob (F-statistic):               0.00\n",
        "Time:                                 15:53:07   Log-Likelihood:            -1.5256e+05\n",
        "No. Observations:                       115044   AIC:                         3.051e+05\n",
        "Df Residuals:                           115034   BIC:                         3.052e+05\n",
        "Df Model:                                    9                                         \n",
        "==================================================================================================\n",
        "                                     coef    std err          t      P>|t|      [95.0% Conf. Int.]\n",
        "--------------------------------------------------------------------------------------------------\n",
        "Intercept                        -14.7027      0.311    -47.232      0.000       -15.313   -14.093\n",
        "I(year_built < 1940)[T.True]      -0.0026      0.011     -0.242      0.809        -0.024     0.018\n",
        "year_built                         0.0103      0.000     65.373      0.000         0.010     0.011\n",
        "stories                            0.0282      0.003      9.255      0.000         0.022     0.034\n",
        "np.log1p(non_residential_sqft)    -0.2864      0.002   -130.745      0.000        -0.291    -0.282\n",
        "np.log1p(popden)                   0.0308      0.003      9.443      0.000         0.024     0.037\n",
        "dist_hwy                       -4.402e-06   3.37e-07    -13.059      0.000     -5.06e-06 -3.74e-06\n",
        "dist_road                         -0.0001    5.6e-06    -21.171      0.000        -0.000    -0.000\n",
        "crime08                           -0.0160      0.000   -139.157      0.000        -0.016    -0.016\n",
        "np.log1p(jobs_within_30_min)       0.0307      0.001     23.193      0.000         0.028     0.033\n",
        "==============================================================================\n",
        "Omnibus:                     7888.514   Durbin-Watson:                   0.766\n",
        "Prob(Omnibus):                  0.000   Jarque-Bera (JB):            40773.649\n",
        "Skew:                          -0.017   Prob(JB):                         0.00\n",
        "Kurtosis:                       5.916   Cond. No.                     1.36e+06\n",
        "==============================================================================\n",
        "\n",
        "Warnings:\n",
        "[1] The condition number is large, 1.36e+06. This might indicate that there are\n",
        "strong multicollinearity or other numerical problems."
       ]
      },
      {
       "output_type": "stream",
       "stream": "stdout",
       "text": [
        "\n"
       ]
      }
     ],
     "prompt_number": 16
    },
    {
     "cell_type": "code",
     "collapsed": false,
     "input": [],
     "language": "python",
     "metadata": {},
     "outputs": [],
     "prompt_number": 7
    }
   ],
   "metadata": {}
  }
 ]
}