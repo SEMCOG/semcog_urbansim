{
 "metadata": {
  "name": "",
  "signature": "sha256:2fddc93f8990a7a5d6a7b39d2a470d6e9cf5ec71b95ee94e426ffab38de6b589"
 },
 "nbformat": 3,
 "nbformat_minor": 0,
 "worksheets": [
  {
   "cells": [
    {
     "cell_type": "code",
     "collapsed": false,
     "input": [
      "%load_ext autoreload\n",
      "%autoreload 1\n",
      "%aimport models\n",
      "%aimport dataset"
     ],
     "language": "python",
     "metadata": {},
     "outputs": [],
     "prompt_number": 1
    },
    {
     "cell_type": "code",
     "collapsed": false,
     "input": [
      "dset = dataset.SemcogDataset(\"data/semcog_data.h5\")"
     ],
     "language": "python",
     "metadata": {},
     "outputs": [
      {
       "output_type": "stream",
       "stream": "stdout",
       "text": [
        "Fetching cities\n"
       ]
      }
     ],
     "prompt_number": 2
    },
    {
     "cell_type": "code",
     "collapsed": false,
     "input": [
      "# not required but preps all dataframes in advance\n",
      "models.cache_variables(dset)"
     ],
     "language": "python",
     "metadata": {},
     "outputs": [
      {
       "output_type": "stream",
       "stream": "stdout",
       "text": [
        "Fetching buildings\n",
        "Fetching parcels"
       ]
      },
      {
       "output_type": "stream",
       "stream": "stdout",
       "text": [
        "\n",
        "Fetching zones"
       ]
      },
      {
       "output_type": "stream",
       "stream": "stdout",
       "text": [
        "\n",
        "Fetching households\n",
        "Fetching building_sqft_per_job"
       ]
      },
      {
       "output_type": "stream",
       "stream": "stdout",
       "text": [
        "\n",
        "Fetching travel_data"
       ]
      },
      {
       "output_type": "stream",
       "stream": "stdout",
       "text": [
        "\n",
        "Fetching jobs"
       ]
      },
      {
       "output_type": "stream",
       "stream": "stdout",
       "text": [
        "\n"
       ]
      }
     ],
     "prompt_number": 3
    },
    {
     "cell_type": "code",
     "collapsed": false,
     "input": [
      "models.rsh_estimate(dset)"
     ],
     "language": "python",
     "metadata": {},
     "outputs": [
      {
       "output_type": "stream",
       "stream": "stdout",
       "text": [
        "Running hedonic estimation\n",
        "\n",
        "                                 OLS Regression Results                                 \n",
        "========================================================================================\n",
        "Dep. Variable:     np.log1p(unit_price_res_est)   R-squared:                       0.144\n",
        "Model:                                      OLS   Adj. R-squared:                  0.144\n",
        "Method:                           Least Squares   F-statistic:                 2.694e+04\n",
        "Date:                          Mon, 02 Jun 2014   Prob (F-statistic):               0.00\n",
        "Time:                                  15:38:55   Log-Likelihood:            -6.7007e+05\n",
        "No. Observations:                       1443592   AIC:                         1.340e+06\n",
        "Df Residuals:                           1443582   BIC:                         1.340e+06\n",
        "Df Model:                                     9                                         \n",
        "================================================================================================\n",
        "                                   coef    std err          t      P>|t|      [95.0% Conf. Int.]\n",
        "------------------------------------------------------------------------------------------------\n",
        "Intercept                       -4.2900      0.037   -115.659      0.000        -4.363    -4.217\n",
        "I(year_built < 1940)[T.True]    -0.0414      0.001    -33.978      0.000        -0.044    -0.039\n",
        "year_built                       0.0041   1.94e-05    213.184      0.000         0.004     0.004\n",
        "stories                          0.0661      0.001     71.169      0.000         0.064     0.068\n",
        "np.log1p(sqft_per_unit)         -0.0645      0.001    -80.664      0.000        -0.066    -0.063\n",
        "np.log1p(popden)                 0.0162      0.001     29.832      0.000         0.015     0.017\n",
        "dist_hwy                     -6.896e-07   3.75e-08    -18.370      0.000     -7.63e-07 -6.16e-07\n",
        "dist_road                    -1.034e-06   3.92e-07     -2.636      0.008      -1.8e-06 -2.65e-07\n",
        "crime08                         -0.0033   1.63e-05   -202.870      0.000        -0.003    -0.003\n",
        "np.log1p(jobs_within_30_min)     0.0137      0.000     72.727      0.000         0.013     0.014\n",
        "==============================================================================\n",
        "Omnibus:                   552873.952   Durbin-Watson:                   0.773\n",
        "Prob(Omnibus):                  0.000   Jarque-Bera (JB):         13398401.077\n",
        "Skew:                           1.295   Prob(JB):                         0.00\n",
        "Kurtosis:                      17.698   Cond. No.                     1.65e+06\n",
        "==============================================================================\n",
        "\n",
        "Warnings:\n",
        "[1] The condition number is large, 1.65e+06. This might indicate that there are\n",
        "strong multicollinearity or other numerical problems."
       ]
      },
      {
       "output_type": "stream",
       "stream": "stdout",
       "text": [
        "\n"
       ]
      }
     ],
     "prompt_number": 5
    },
    {
     "cell_type": "code",
     "collapsed": false,
     "input": [
      "models.nrh_estimate(dset)"
     ],
     "language": "python",
     "metadata": {},
     "outputs": [
      {
       "output_type": "stream",
       "stream": "stdout",
       "text": [
        "Running hedonic estimation\n",
        "\n",
        "                                   OLS Regression Results                                  \n",
        "===========================================================================================\n",
        "Dep. Variable:     np.log1p(unit_price_nonres_est)   R-squared:                       0.340\n",
        "Model:                                         OLS   Adj. R-squared:                  0.340\n",
        "Method:                              Least Squares   F-statistic:                     6578.\n",
        "Date:                             Mon, 02 Jun 2014   Prob (F-statistic):               0.00\n",
        "Time:                                     15:39:09   Log-Likelihood:            -1.5258e+05\n",
        "No. Observations:                           115044   AIC:                         3.052e+05\n",
        "Df Residuals:                               115034   BIC:                         3.053e+05\n",
        "Df Model:                                        9                                         \n",
        "==================================================================================================\n",
        "                                     coef    std err          t      P>|t|      [95.0% Conf. Int.]\n",
        "--------------------------------------------------------------------------------------------------\n",
        "Intercept                        -14.5804      0.311    -46.888      0.000       -15.190   -13.971\n",
        "I(year_built < 1940)[T.True]      -0.0041      0.011     -0.385      0.701        -0.025     0.017\n",
        "year_built                         0.0103      0.000     65.074      0.000         0.010     0.011\n",
        "stories                            0.0281      0.003      9.211      0.000         0.022     0.034\n",
        "np.log1p(non_residential_sqft)    -0.2875      0.002   -131.620      0.000        -0.292    -0.283\n",
        "np.log1p(popden)                   0.0237      0.003      7.070      0.000         0.017     0.030\n",
        "dist_hwy                       -4.263e-06   3.38e-07    -12.626      0.000     -4.92e-06  -3.6e-06\n",
        "dist_road                         -0.0001   5.66e-06    -21.218      0.000        -0.000    -0.000\n",
        "crime08                           -0.0158      0.000   -142.307      0.000        -0.016    -0.016\n",
        "np.log1p(jobs_within_30_min)       0.0307      0.001     23.081      0.000         0.028     0.033\n",
        "==============================================================================\n",
        "Omnibus:                     7870.239   Durbin-Watson:                   0.768\n",
        "Prob(Omnibus):                  0.000   Jarque-Bera (JB):            40533.214\n",
        "Skew:                          -0.023   Prob(JB):                         0.00\n",
        "Kurtosis:                       5.908   Cond. No.                     1.35e+06\n",
        "==============================================================================\n",
        "\n",
        "Warnings:\n",
        "[1] The condition number is large, 1.35e+06. This might indicate that there are\n",
        "strong multicollinearity or other numerical problems."
       ]
      },
      {
       "output_type": "stream",
       "stream": "stdout",
       "text": [
        "\n"
       ]
      }
     ],
     "prompt_number": 6
    },
    {
     "cell_type": "code",
     "collapsed": false,
     "input": [
      "models.rsh_simulate(dset)\n",
      "models.nrh_simulate(dset)"
     ],
     "language": "python",
     "metadata": {},
     "outputs": [
      {
       "output_type": "stream",
       "stream": "stdout",
       "text": [
        "Running hedonic simulation\n",
        "\n",
        "count    1817653.000000\n",
        "mean          33.562732\n",
        "std            5.727134\n",
        "min            0.007900\n",
        "25%           30.208779\n",
        "50%           34.369136\n",
        "75%           37.423475\n",
        "max          959.325276\n",
        "dtype: float64"
       ]
      },
      {
       "output_type": "stream",
       "stream": "stdout",
       "text": [
        "\n",
        "Running hedonic simulation\n"
       ]
      },
      {
       "output_type": "stream",
       "stream": "stdout",
       "text": [
        "\n",
        "count    1.178970e+05\n",
        "mean     1.955942e+01\n",
        "std      1.224291e+01\n",
        "min      2.065311e-08\n",
        "25%      1.042008e+01\n",
        "50%      1.805387e+01\n",
        "75%      2.631360e+01\n",
        "max      3.658308e+02\n",
        "dtype: float64"
       ]
      },
      {
       "output_type": "stream",
       "stream": "stdout",
       "text": [
        "\n"
       ]
      }
     ],
     "prompt_number": 7
    },
    {
     "cell_type": "code",
     "collapsed": false,
     "input": [
      "models.hlcm_estimate(dset)"
     ],
     "language": "python",
     "metadata": {},
     "outputs": [
      {
       "output_type": "stream",
       "stream": "stdout",
       "text": [
        "Running location choice model estimation\n",
        "\n",
        "Null Log-liklihood: -58680.345"
       ]
      },
      {
       "output_type": "stream",
       "stream": "stdout",
       "text": [
        "\n",
        "Log-liklihood at convergence: -53303.231\n",
        "Log-liklihood Ratio: 0.092\n",
        "\n",
        "+-----------------------------------+-------------+------------+---------+\n",
        "| Component                         | Coefficient | Std. Error | T-Score |\n",
        "+-----------------------------------+-------------+------------+---------+\n",
        "| np.log1p(sqft_per_unit)           |    0.081    |   0.010    |  8.510  |\n",
        "| np.log1p(jobs_within_30_min)      |    -0.004   |   0.005    |  -0.728 |\n",
        "| np.log1p(crime08)                 |    -0.036   |   0.015    |  -2.511 |\n",
        "| np.log1p(popden)                  |    0.047    |   0.013    |  3.519  |\n",
        "| np.log1p(income * unit_price_res) |    0.179    |   0.004    |  46.046 |\n",
        "| np.log1p(residential_units)       |    1.152    |   0.012    |  94.858 |\n",
        "+-----------------------------------+-------------+------------+---------+\n"
       ]
      }
     ],
     "prompt_number": 9
    },
    {
     "cell_type": "code",
     "collapsed": false,
     "input": [
      "models.elcm_estimate(dset)"
     ],
     "language": "python",
     "metadata": {},
     "outputs": [
      {
       "output_type": "stream",
       "stream": "stdout",
       "text": [
        "Running location choice model estimation\n",
        "\n",
        "Removing 79 choice situations because chosen alt doesn't exist"
       ]
      },
      {
       "output_type": "stream",
       "stream": "stdout",
       "text": [
        "\n",
        "Null Log-liklihood: -58371.295"
       ]
      },
      {
       "output_type": "stream",
       "stream": "stdout",
       "text": [
        "\n",
        "Log-liklihood at convergence: -16269.273\n",
        "Log-liklihood Ratio: 0.721\n",
        "\n",
        "+--------------------------------+-------------+------------+---------+\n",
        "| Component                      | Coefficient | Std. Error | T-Score |\n",
        "+--------------------------------+-------------+------------+---------+\n",
        "| np.log1p(non_residential_sqft) |    0.724    |   0.004    | 171.792 |\n",
        "| np.log1p(jobs_within_30_min)   |    0.267    |   0.005    |  51.378 |\n",
        "| np.log1p(popden)               |    -0.143   |   0.013    | -11.154 |\n",
        "| np.log1p(crime08)              |    -0.367   |   0.019    | -19.798 |\n",
        "+--------------------------------+-------------+------------+---------+\n"
       ]
      }
     ],
     "prompt_number": 10
    },
    {
     "cell_type": "code",
     "collapsed": false,
     "input": [],
     "language": "python",
     "metadata": {},
     "outputs": [],
     "prompt_number": 7
    }
   ],
   "metadata": {}
  }
 ]
}