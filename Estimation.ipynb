{
 "metadata": {
  "name": "",
  "signature": "sha256:f116285cb17578e6d81b94fedcdff22bde912d195ba1f767e1a5e6d4eb3b281a"
 },
 "nbformat": 3,
 "nbformat_minor": 0,
 "worksheets": [
  {
   "cells": [
    {
     "cell_type": "code",
     "collapsed": false,
     "input": [
      "%load_ext autoreload\n",
      "%autoreload 1\n",
      "%aimport models\n",
      "%aimport dataset"
     ],
     "language": "python",
     "metadata": {},
     "outputs": [],
     "prompt_number": 1
    },
    {
     "cell_type": "code",
     "collapsed": false,
     "input": [
      "dset = dataset.SemcogDataset(\"data/semcog_data.h5\")"
     ],
     "language": "python",
     "metadata": {},
     "outputs": [
      {
       "output_type": "stream",
       "stream": "stdout",
       "text": [
        "Fetching cities\n"
       ]
      }
     ],
     "prompt_number": 2
    },
    {
     "cell_type": "code",
     "collapsed": false,
     "input": [
      "models.build_networks(dset)"
     ],
     "language": "python",
     "metadata": {},
     "outputs": [
      {
       "output_type": "stream",
       "stream": "stdout",
       "text": [
        "Fetching parcels\n"
       ]
      }
     ],
     "prompt_number": 3
    },
    {
     "cell_type": "code",
     "collapsed": false,
     "input": [
      "# not required but preps all dataframes in advance\n",
      "models.cache_variables(dset)"
     ],
     "language": "python",
     "metadata": {},
     "outputs": [
      {
       "output_type": "stream",
       "stream": "stdout",
       "text": [
        "Fetching buildings\n",
        "Fetching zones"
       ]
      },
      {
       "output_type": "stream",
       "stream": "stdout",
       "text": [
        "\n",
        "Fetching households\n",
        "Fetching building_sqft_per_job"
       ]
      },
      {
       "output_type": "stream",
       "stream": "stdout",
       "text": [
        "\n",
        "Fetching travel_data"
       ]
      },
      {
       "output_type": "stream",
       "stream": "stdout",
       "text": [
        "\n",
        "Fetching jobs"
       ]
      },
      {
       "output_type": "stream",
       "stream": "stdout",
       "text": [
        "\n"
       ]
      }
     ],
     "prompt_number": 4
    },
    {
     "cell_type": "code",
     "collapsed": false,
     "input": [
      "models.neighborhood_vars(dset)"
     ],
     "language": "python",
     "metadata": {},
     "outputs": [
      {
       "output_type": "stream",
       "stream": "stdout",
       "text": [
        "Computing accessibility variables\n",
        "Computing sum_residential_units\n",
        "    dataframe = buildings, varname=residential_units"
       ]
      },
      {
       "output_type": "stream",
       "stream": "stdout",
       "text": [
        "\n",
        "    radius = 500, aggregation = AGG_SUM, decay = DECAY_LINEAR\n",
        "Computing sum_nonresidential_units"
       ]
      },
      {
       "output_type": "stream",
       "stream": "stdout",
       "text": [
        "\n",
        "    dataframe = buildings, varname=job_spaces"
       ]
      },
      {
       "output_type": "stream",
       "stream": "stdout",
       "text": [
        "\n",
        "    radius = 500, aggregation = AGG_SUM, decay = DECAY_LINEAR\n",
        "Computing ave_unit_sqft"
       ]
      },
      {
       "output_type": "stream",
       "stream": "stdout",
       "text": [
        "\n",
        "    dataframe = buildings, varname=sqft_per_unit"
       ]
      },
      {
       "output_type": "stream",
       "stream": "stdout",
       "text": [
        "\n",
        "    radius = 500, aggregation = AGG_AVE, decay = DECAY_FLAT\n",
        "Computing ave_lot_sqft"
       ]
      },
      {
       "output_type": "stream",
       "stream": "stdout",
       "text": [
        "\n",
        "    dataframe = buildings, varname=land_area"
       ]
      },
      {
       "output_type": "stream",
       "stream": "stdout",
       "text": [
        "\n",
        "    radius = 500, aggregation = AGG_AVE, decay = DECAY_FLAT\n",
        "Computing population"
       ]
      },
      {
       "output_type": "stream",
       "stream": "stdout",
       "text": [
        "\n",
        "    dataframe = households, varname=persons"
       ]
      },
      {
       "output_type": "stream",
       "stream": "stdout",
       "text": [
        "\n",
        "    radius = 500, aggregation = AGG_SUM, decay = DECAY_LINEAR\n",
        "Computing poor"
       ]
      },
      {
       "output_type": "stream",
       "stream": "stdout",
       "text": [
        "\n",
        "    dataframe = households, varname=persons"
       ]
      },
      {
       "output_type": "stream",
       "stream": "stdout",
       "text": [
        "\n",
        "    radius = 500, aggregation = AGG_SUM, decay = DECAY_LINEAR\n",
        "Computing sfdu"
       ]
      },
      {
       "output_type": "stream",
       "stream": "stdout",
       "text": [
        "\n",
        "    dataframe = buildings, varname=None"
       ]
      },
      {
       "output_type": "stream",
       "stream": "stdout",
       "text": [
        "\n",
        "    radius = 500, aggregation = AGG_SUM, decay = DECAY_LINEAR\n",
        "Computing hhsize"
       ]
      },
      {
       "output_type": "stream",
       "stream": "stdout",
       "text": [
        "\n",
        "    dataframe = households, varname=persons"
       ]
      },
      {
       "output_type": "stream",
       "stream": "stdout",
       "text": [
        "\n",
        "    radius = 500, aggregation = AGG_AVE, decay = DECAY_FLAT\n",
        "Computing jobs"
       ]
      },
      {
       "output_type": "stream",
       "stream": "stdout",
       "text": [
        "\n",
        "    dataframe = jobs, varname=None"
       ]
      },
      {
       "output_type": "stream",
       "stream": "stdout",
       "text": [
        "\n",
        "    radius = 500, aggregation = AGG_SUM, decay = DECAY_LINEAR\n",
        "Computing ave_income"
       ]
      },
      {
       "output_type": "stream",
       "stream": "stdout",
       "text": [
        "\n",
        "    dataframe = households, varname=income\n",
        "    radius = 500, aggregation = AGG_AVE, decay = DECAY_FLAT\n"
       ]
      }
     ],
     "prompt_number": 6
    },
    {
     "cell_type": "code",
     "collapsed": false,
     "input": [
      "models.rsh_estimate(dset)"
     ],
     "language": "python",
     "metadata": {},
     "outputs": [
      {
       "output_type": "stream",
       "stream": "stdout",
       "text": [
        "Running hedonic estimation\n",
        "\n",
        "                                 OLS Regression Results                                 \n",
        "========================================================================================\n",
        "Dep. Variable:     np.log1p(unit_price_res_est)   R-squared:                       0.167\n",
        "Model:                                      OLS   Adj. R-squared:                  0.167\n",
        "Method:                           Least Squares   F-statistic:                 2.227e+04\n",
        "Date:                          Thu, 05 Jun 2014   Prob (F-statistic):               0.00\n",
        "Time:                                  10:11:04   Log-Likelihood:            -6.5018e+05\n",
        "No. Observations:                       1443592   AIC:                         1.300e+06\n",
        "Df Residuals:                           1443578   BIC:                         1.301e+06\n",
        "Df Model:                                    13                                         \n",
        "================================================================================================\n",
        "                                   coef    std err          t      P>|t|      [95.0% Conf. Int.]\n",
        "------------------------------------------------------------------------------------------------\n",
        "Intercept                       -5.0048      0.037   -134.679      0.000        -5.078    -4.932\n",
        "I(year_built < 1940)[T.True]    -0.0347      0.001    -28.848      0.000        -0.037    -0.032\n",
        "year_built                       0.0040   1.93e-05    208.410      0.000         0.004     0.004\n",
        "stories                          0.0650      0.001     70.322      0.000         0.063     0.067\n",
        "np.log1p(sqft_per_unit)         -0.1057      0.001   -126.453      0.000        -0.107    -0.104\n",
        "np.log1p(popden)                 0.0542      0.001     76.672      0.000         0.053     0.056\n",
        "dist_hwy                     -8.663e-07   3.71e-08    -23.326      0.000     -9.39e-07 -7.94e-07\n",
        "dist_road                    -1.171e-06   3.94e-07     -2.971      0.003     -1.94e-06 -3.98e-07\n",
        "crime08                         -0.0024   1.68e-05   -141.882      0.000        -0.002    -0.002\n",
        "np.log1p(jobs_within_30_min)     0.0114      0.000     61.076      0.000         0.011     0.012\n",
        "sum_residential_units            0.0195      0.001     14.186      0.000         0.017     0.022\n",
        "poor                            -0.0648      0.001    -47.587      0.000        -0.067    -0.062\n",
        "jobs                             0.0044      0.000     21.546      0.000         0.004     0.005\n",
        "ave_income                       0.1278      0.001    191.191      0.000         0.126     0.129\n",
        "==============================================================================\n",
        "Omnibus:                   550492.207   Durbin-Watson:                   0.713\n",
        "Prob(Omnibus):                  0.000   Jarque-Bera (JB):         12540016.368\n",
        "Skew:                           1.305   Prob(JB):                         0.00\n",
        "Kurtosis:                      17.201   Cond. No.                     1.68e+06\n",
        "==============================================================================\n",
        "\n",
        "Warnings:\n",
        "[1] The condition number is large, 1.68e+06. This might indicate that there are\n",
        "strong multicollinearity or other numerical problems."
       ]
      },
      {
       "output_type": "stream",
       "stream": "stdout",
       "text": [
        "\n"
       ]
      }
     ],
     "prompt_number": 7
    },
    {
     "cell_type": "code",
     "collapsed": false,
     "input": [
      "models.nrh_estimate(dset)"
     ],
     "language": "python",
     "metadata": {},
     "outputs": [
      {
       "output_type": "stream",
       "stream": "stdout",
       "text": [
        "Running hedonic estimation\n",
        "\n",
        "                                   OLS Regression Results                                  \n",
        "===========================================================================================\n",
        "Dep. Variable:     np.log1p(unit_price_nonres_est)   R-squared:                       0.340\n",
        "Model:                                         OLS   Adj. R-squared:                  0.340\n",
        "Method:                              Least Squares   F-statistic:                     6578.\n",
        "Date:                             Wed, 04 Jun 2014   Prob (F-statistic):               0.00\n",
        "Time:                                     08:33:04   Log-Likelihood:            -1.5258e+05\n",
        "No. Observations:                           115044   AIC:                         3.052e+05\n",
        "Df Residuals:                               115034   BIC:                         3.053e+05\n",
        "Df Model:                                        9                                         \n",
        "==================================================================================================\n",
        "                                     coef    std err          t      P>|t|      [95.0% Conf. Int.]\n",
        "--------------------------------------------------------------------------------------------------\n",
        "Intercept                        -14.5804      0.311    -46.888      0.000       -15.190   -13.971\n",
        "I(year_built < 1940)[T.True]      -0.0041      0.011     -0.385      0.701        -0.025     0.017\n",
        "year_built                         0.0103      0.000     65.074      0.000         0.010     0.011\n",
        "stories                            0.0281      0.003      9.211      0.000         0.022     0.034\n",
        "np.log1p(non_residential_sqft)    -0.2875      0.002   -131.620      0.000        -0.292    -0.283\n",
        "np.log1p(popden)                   0.0237      0.003      7.070      0.000         0.017     0.030\n",
        "dist_hwy                       -4.263e-06   3.38e-07    -12.626      0.000     -4.92e-06  -3.6e-06\n",
        "dist_road                         -0.0001   5.66e-06    -21.218      0.000        -0.000    -0.000\n",
        "crime08                           -0.0158      0.000   -142.307      0.000        -0.016    -0.016\n",
        "np.log1p(jobs_within_30_min)       0.0307      0.001     23.081      0.000         0.028     0.033\n",
        "==============================================================================\n",
        "Omnibus:                     7870.239   Durbin-Watson:                   0.768\n",
        "Prob(Omnibus):                  0.000   Jarque-Bera (JB):            40533.214\n",
        "Skew:                          -0.023   Prob(JB):                         0.00\n",
        "Kurtosis:                       5.908   Cond. No.                     1.35e+06\n",
        "==============================================================================\n",
        "\n",
        "Warnings:\n",
        "[1] The condition number is large, 1.35e+06. This might indicate that there are\n",
        "strong multicollinearity or other numerical problems."
       ]
      },
      {
       "output_type": "stream",
       "stream": "stdout",
       "text": [
        "\n"
       ]
      }
     ],
     "prompt_number": 7
    },
    {
     "cell_type": "code",
     "collapsed": false,
     "input": [
      "models.rsh_simulate(dset)\n",
      "models.nrh_simulate(dset)"
     ],
     "language": "python",
     "metadata": {},
     "outputs": [
      {
       "output_type": "stream",
       "stream": "stdout",
       "text": [
        "Running hedonic simulation\n",
        "\n",
        "count    1817653.000000\n",
        "mean          33.562732\n",
        "std            5.727134\n",
        "min            0.007900\n",
        "25%           30.208779\n",
        "50%           34.369136\n",
        "75%           37.423475\n",
        "max          959.325276\n",
        "dtype: float64"
       ]
      },
      {
       "output_type": "stream",
       "stream": "stdout",
       "text": [
        "\n",
        "Running hedonic simulation\n"
       ]
      },
      {
       "output_type": "stream",
       "stream": "stdout",
       "text": [
        "\n",
        "count    1.178970e+05\n",
        "mean     1.955942e+01\n",
        "std      1.224291e+01\n",
        "min      2.065311e-08\n",
        "25%      1.042008e+01\n",
        "50%      1.805387e+01\n",
        "75%      2.631360e+01\n",
        "max      3.658308e+02\n",
        "dtype: float64"
       ]
      },
      {
       "output_type": "stream",
       "stream": "stdout",
       "text": [
        "\n"
       ]
      }
     ],
     "prompt_number": 8
    },
    {
     "cell_type": "code",
     "collapsed": false,
     "input": [
      "models.hlcm_estimate(dset)"
     ],
     "language": "python",
     "metadata": {},
     "outputs": [
      {
       "output_type": "stream",
       "stream": "stdout",
       "text": [
        "Running location choice model estimation\n",
        "\n",
        "Null Log-liklihood: -58680.345"
       ]
      },
      {
       "output_type": "stream",
       "stream": "stdout",
       "text": [
        "\n",
        "Log-liklihood at convergence: -53198.678\n",
        "Log-liklihood Ratio: 0.093\n",
        "\n",
        "+-----------------------------------+-------------+------------+---------+\n",
        "| Component                         | Coefficient | Std. Error | T-Score |\n",
        "+-----------------------------------+-------------+------------+---------+\n",
        "| np.log1p(sqft_per_unit)           |    0.091    |   0.010    |  9.343  |\n",
        "| np.log1p(jobs_within_30_min)      |    0.005    |   0.005    |  1.081  |\n",
        "| np.log1p(crime08)                 |    -0.056   |   0.015    |  -3.842 |\n",
        "| np.log1p(popden)                  |    0.044    |   0.013    |  3.316  |\n",
        "| np.log1p(income * unit_price_res) |    0.177    |   0.004    |  45.246 |\n",
        "| np.log1p(residential_units)       |    1.170    |   0.012    |  95.725 |\n",
        "+-----------------------------------+-------------+------------+---------+\n"
       ]
      }
     ],
     "prompt_number": 9
    },
    {
     "cell_type": "code",
     "collapsed": false,
     "input": [
      "models.elcm_estimate(dset)"
     ],
     "language": "python",
     "metadata": {},
     "outputs": [
      {
       "output_type": "stream",
       "stream": "stdout",
       "text": [
        "Running location choice model estimation\n",
        "\n",
        "Removing 59 choice situations because chosen alt doesn't exist"
       ]
      },
      {
       "output_type": "stream",
       "stream": "stdout",
       "text": [
        "\n",
        "Null Log-liklihood: -58449.536"
       ]
      },
      {
       "output_type": "stream",
       "stream": "stdout",
       "text": [
        "\n",
        "Log-liklihood at convergence: -16461.271\n",
        "Log-liklihood Ratio: 0.718\n",
        "\n",
        "+--------------------------------+-------------+------------+---------+\n",
        "| Component                      | Coefficient | Std. Error | T-Score |\n",
        "+--------------------------------+-------------+------------+---------+\n",
        "| np.log1p(non_residential_sqft) |    0.714    |   0.004    | 172.096 |\n",
        "| np.log1p(jobs_within_30_min)   |    0.279    |   0.005    |  51.867 |\n",
        "| np.log1p(popden)               |    -0.135   |   0.013    | -10.539 |\n",
        "| np.log1p(crime08)              |    -0.402   |   0.019    | -21.319 |\n",
        "+--------------------------------+-------------+------------+---------+\n"
       ]
      }
     ],
     "prompt_number": 10
    },
    {
     "cell_type": "code",
     "collapsed": false,
     "input": [],
     "language": "python",
     "metadata": {},
     "outputs": [],
     "prompt_number": 10
    }
   ],
   "metadata": {}
  }
 ]
}