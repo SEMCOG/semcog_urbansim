{
 "metadata": {
  "name": "",
  "signature": "sha256:cc906c121a760eb58f0d5af80541fbd7355b8a86997fbe60f9eb46bc5e14500f"
 },
 "nbformat": 3,
 "nbformat_minor": 0,
 "worksheets": [
  {
   "cells": [
    {
     "cell_type": "code",
     "collapsed": false,
     "input": [
      "%load_ext autoreload\n",
      "\n",
      "%autoreload 1\n",
      "%aimport models\n",
      "%aimport dataset\n",
      "from variables import var_calc"
     ],
     "language": "python",
     "metadata": {},
     "outputs": [],
     "prompt_number": 1
    },
    {
     "cell_type": "code",
     "collapsed": false,
     "input": [
      "dset = dataset.SemcogDataset(\"data/semcog_data.h5\")\n",
      "vacant_residential_units, vacant_job_spaces = var_calc.calculate(dset)"
     ],
     "language": "python",
     "metadata": {},
     "outputs": [
      {
       "output_type": "stream",
       "stream": "stdout",
       "text": [
        "Fetching buildings\n",
        "Fetching travel_data"
       ]
      },
      {
       "output_type": "stream",
       "stream": "stdout",
       "text": [
        "\n",
        "Fetching parcels"
       ]
      },
      {
       "output_type": "stream",
       "stream": "stdout",
       "text": [
        "\n",
        "Fetching households"
       ]
      },
      {
       "output_type": "stream",
       "stream": "stdout",
       "text": [
        "\n",
        "Fetching jobs"
       ]
      },
      {
       "output_type": "stream",
       "stream": "stdout",
       "text": [
        "\n",
        "Fetching cities"
       ]
      },
      {
       "output_type": "stream",
       "stream": "stdout",
       "text": [
        "\n",
        "Fetching building_sqft_per_job"
       ]
      },
      {
       "output_type": "stream",
       "stream": "stdout",
       "text": [
        "\n"
       ]
      }
     ],
     "prompt_number": 2
    },
    {
     "cell_type": "code",
     "collapsed": false,
     "input": [
      "models.hlcm_estimate(dset)"
     ],
     "language": "python",
     "metadata": {},
     "outputs": [
      {
       "output_type": "stream",
       "stream": "stdout",
       "text": [
        "Running location choice model estimation\n",
        "\n",
        "Removing 15000 choice situations because chosen alt doesn't exist"
       ]
      },
      {
       "output_type": "stream",
       "stream": "stdout",
       "text": [
        "\n",
        "Null Log-liklihood: -69077.553"
       ]
      },
      {
       "output_type": "stream",
       "stream": "stdout",
       "text": [
        "\n",
        "Log-liklihood at convergence: -67776.522\n",
        "Log-liklihood Ratio: 0.019\n",
        "\n",
        "+---------------------------------+-------------+------------+---------+\n",
        "| Component                       | Coefficient | Std. Error | T-Score |\n",
        "+---------------------------------+-------------+------------+---------+\n",
        "| sqft_per_unit                   |    -0.000   |   0.000    | -32.231 |\n",
        "| income:np.log1p(unit_price_res) |    0.000    |   0.000    | 238.747 |\n",
        "| jobs_within_30_min              |    0.000    |   0.000    |  0.433  |\n",
        "| crime08                         |    0.000    |   0.000    |  0.102  |\n",
        "| popden                          |    0.000    |   0.002    |  0.023  |\n",
        "+---------------------------------+-------------+------------+---------+\n"
       ]
      }
     ],
     "prompt_number": 9
    },
    {
     "cell_type": "code",
     "collapsed": false,
     "input": [
      "models.elcm_estimate(dset)"
     ],
     "language": "python",
     "metadata": {},
     "outputs": [
      {
       "output_type": "stream",
       "stream": "stdout",
       "text": [
        "Fetching jobs_for_estimation\n",
        "Running location choice model estimation\n",
        "\n",
        "Removing 48000 choice situations because chosen alt doesn't exist"
       ]
      },
      {
       "output_type": "stream",
       "stream": "stdout",
       "text": [
        "\n",
        "Null Log-liklihood: -187777.104"
       ]
      },
      {
       "output_type": "stream",
       "stream": "stdout",
       "text": [
        "\n",
        "Log-liklihood at convergence: -49822.998\n",
        "Log-liklihood Ratio: 0.735\n",
        "\n",
        "+--------------------------------+-------------+------------+---------+\n",
        "| Component                      | Coefficient | Std. Error | T-Score |\n",
        "+--------------------------------+-------------+------------+---------+\n",
        "| np.log1p(non_residential_sqft) |    0.645    |   0.002    | 272.551 |\n",
        "| np.log1p(improvement_value)    |    0.176    |   0.002    | 103.784 |\n",
        "| jobs_within_30_min             |    0.000    |   0.000    |  52.614 |\n",
        "| popden                         |    -0.050   |   0.001    | -36.544 |\n",
        "| crime08                        |    -0.010   |   0.000    | -34.062 |\n",
        "+--------------------------------+-------------+------------+---------+\n"
       ]
      }
     ],
     "prompt_number": 3
    },
    {
     "cell_type": "code",
     "collapsed": false,
     "input": [
      "models.rsh_estimate(dset)"
     ],
     "language": "python",
     "metadata": {},
     "outputs": [
      {
       "output_type": "stream",
       "stream": "stdout",
       "text": [
        "Fetching homesales\n",
        "Fetching nodes"
       ]
      },
      {
       "output_type": "stream",
       "stream": "stdout",
       "text": [
        "\n",
        "WARNING: fetching precomputed nodes off of disk\n",
        "Running hedonic estimation\n"
       ]
      },
      {
       "output_type": "stream",
       "stream": "stdout",
       "text": [
        "\n",
        "                               OLS Regression Results                               \n",
        "====================================================================================\n",
        "Dep. Variable:     np.log1p(sale_price_flt)   R-squared:                       0.222\n",
        "Model:                                  OLS   Adj. R-squared:                  0.222\n",
        "Method:                       Least Squares   F-statistic:                     6158.\n",
        "Date:                      Sun, 25 May 2014   Prob (F-statistic):               0.00\n",
        "Time:                              21:49:14   Log-Likelihood:            -1.4306e+05\n",
        "No. Observations:                    194138   AIC:                         2.861e+05\n",
        "Df Residuals:                        194128   BIC:                         2.862e+05\n",
        "Df Model:                                 9                                         \n",
        "================================================================================================\n",
        "                                   coef    std err          t      P>|t|      [95.0% Conf. Int.]\n",
        "------------------------------------------------------------------------------------------------\n",
        "Intercept                        3.8474      0.038    101.840      0.000         3.773     3.921\n",
        "I(year_built < 1940)[T.True]     0.2369      0.004     61.673      0.000         0.229     0.244\n",
        "I(year_built > 2005)[T.True]     0.0237      0.006      3.653      0.000         0.011     0.036\n",
        "np.log1p(unit_sqft)             -0.2330      0.003    -71.959      0.000        -0.239    -0.227\n",
        "np.log1p(unit_lot_size)          0.0850      0.002     56.201      0.000         0.082     0.088\n",
        "sum_residential_units           -0.0895      0.002    -47.796      0.000        -0.093    -0.086\n",
        "ave_unit_sqft                   -0.3068      0.004    -73.993      0.000        -0.315    -0.299\n",
        "ave_lot_sqft                    -0.0346      0.001    -64.330      0.000        -0.036    -0.034\n",
        "ave_income                       0.4880      0.002    195.932      0.000         0.483     0.493\n",
        "jobs                             0.0245      0.001     49.022      0.000         0.024     0.026\n",
        "==============================================================================\n",
        "Omnibus:                    42605.865   Durbin-Watson:                   0.607\n",
        "Prob(Omnibus):                  0.000   Jarque-Bera (JB):           534598.117\n",
        "Skew:                           0.703   Prob(JB):                         0.00\n",
        "Kurtosis:                      11.007   Cond. No.                         702.\n",
        "=============================================================================="
       ]
      },
      {
       "output_type": "stream",
       "stream": "stdout",
       "text": [
        "\n"
       ]
      }
     ],
     "prompt_number": 3
    },
    {
     "cell_type": "code",
     "collapsed": false,
     "input": [
      "models.nrh_estimate(dset)"
     ],
     "language": "python",
     "metadata": {},
     "outputs": [
      {
       "output_type": "stream",
       "stream": "stdout",
       "text": [
        "Fetching costar\n",
        "Running hedonic estimation\n"
       ]
      },
      {
       "output_type": "stream",
       "stream": "stdout",
       "text": [
        "\n",
        "                            OLS Regression Results                            \n",
        "==============================================================================\n",
        "Dep. Variable:         np.log1p(rent)   R-squared:                       0.221\n",
        "Model:                            OLS   Adj. R-squared:                  0.221\n",
        "Method:                 Least Squares   F-statistic:                     407.0\n",
        "Date:                Sun, 25 May 2014   Prob (F-statistic):               0.00\n",
        "Time:                        21:49:19   Log-Likelihood:                -4921.2\n",
        "No. Observations:                7176   AIC:                             9854.\n",
        "Df Residuals:                    7170   BIC:                             9896.\n",
        "Df Model:                           5                                         \n",
        "================================================================================================\n",
        "                                   coef    std err          t      P>|t|      [95.0% Conf. Int.]\n",
        "------------------------------------------------------------------------------------------------\n",
        "Intercept                        2.0783      0.033     62.350      0.000         2.013     2.144\n",
        "I(year_built < 1940)[T.True]     0.1420      0.014      9.831      0.000         0.114     0.170\n",
        "I(year_built > 2005)[T.True]     0.2474      0.033      7.416      0.000         0.182     0.313\n",
        "np.log1p(stories)                0.5043      0.014     35.676      0.000         0.477     0.532\n",
        "ave_income                       0.0233      0.002     14.297      0.000         0.020     0.027\n",
        "jobs                            -0.0042      0.003     -1.652      0.099        -0.009     0.001\n",
        "==============================================================================\n",
        "Omnibus:                      223.863   Durbin-Watson:                   1.532\n",
        "Prob(Omnibus):                  0.000   Jarque-Bera (JB):              600.198\n",
        "Skew:                           0.039   Prob(JB):                    4.66e-131\n",
        "Kurtosis:                       4.415   Cond. No.                         90.0\n",
        "=============================================================================="
       ]
      },
      {
       "output_type": "stream",
       "stream": "stdout",
       "text": [
        "\n"
       ]
      }
     ],
     "prompt_number": 5
    },
    {
     "cell_type": "code",
     "collapsed": false,
     "input": [],
     "language": "python",
     "metadata": {},
     "outputs": []
    }
   ],
   "metadata": {}
  }
 ]
}