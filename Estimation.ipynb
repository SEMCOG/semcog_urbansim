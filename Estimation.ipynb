{
 "metadata": {
  "name": "",
  "signature": "sha256:0f416f21c1255ee7c0109740d4e6e65a24b3e694d482e03a237e76f7ef5a6112"
 },
 "nbformat": 3,
 "nbformat_minor": 0,
 "worksheets": [
  {
   "cells": [
    {
     "cell_type": "code",
     "collapsed": false,
     "input": [
      "%load_ext autoreload\n",
      "%autoreload 2\n",
      "import models\n",
      "import urbansim.sim.simulation as sim"
     ],
     "language": "python",
     "metadata": {},
     "outputs": [],
     "prompt_number": 1
    },
    {
     "cell_type": "code",
     "collapsed": false,
     "input": [
      "sim.run([\"build_networks\"])\n",
      "sim.run([\"neighborhood_vars\"])"
     ],
     "language": "python",
     "metadata": {},
     "outputs": [
      {
       "output_type": "stream",
       "stream": "stdout",
       "text": [
        "Running model 'build_networks'\n",
        "Time to execute model 'build_networks': 21.86s"
       ]
      },
      {
       "output_type": "stream",
       "stream": "stdout",
       "text": [
        "\n",
        "Total time to execute: 21.86s\n",
        "Running model 'neighborhood_vars'\n",
        "Computing accessibility variables\n",
        "Computing sum_residential_units\n",
        "Computing sum_nonresidential_units"
       ]
      },
      {
       "output_type": "stream",
       "stream": "stdout",
       "text": [
        "\n",
        "Computing ave_unit_sqft"
       ]
      },
      {
       "output_type": "stream",
       "stream": "stdout",
       "text": [
        "\n",
        "Computing ave_lot_sqft"
       ]
      },
      {
       "output_type": "stream",
       "stream": "stdout",
       "text": [
        "\n",
        "Computing population"
       ]
      },
      {
       "output_type": "stream",
       "stream": "stdout",
       "text": [
        "\n",
        "Computing poor"
       ]
      },
      {
       "output_type": "stream",
       "stream": "stdout",
       "text": [
        "\n",
        "Computing sfdu"
       ]
      },
      {
       "output_type": "stream",
       "stream": "stdout",
       "text": [
        "\n",
        "Computing hhsize"
       ]
      },
      {
       "output_type": "stream",
       "stream": "stdout",
       "text": [
        "\n",
        "Computing jobs"
       ]
      },
      {
       "output_type": "stream",
       "stream": "stdout",
       "text": [
        "\n",
        "Computing ave_income"
       ]
      },
      {
       "output_type": "stream",
       "stream": "stdout",
       "text": [
        "\n",
        "Time to execute model 'neighborhood_vars': 21.41s"
       ]
      },
      {
       "output_type": "stream",
       "stream": "stdout",
       "text": [
        "\n",
        "Total time to execute: 21.41s\n"
       ]
      }
     ],
     "prompt_number": 2
    },
    {
     "cell_type": "heading",
     "level": 2,
     "metadata": {},
     "source": [
      "Hedonic Estimation"
     ]
    },
    {
     "cell_type": "code",
     "collapsed": false,
     "input": [
      "sim.run([\"rsh_estimate\"])"
     ],
     "language": "python",
     "metadata": {},
     "outputs": [
      {
       "output_type": "stream",
       "stream": "stdout",
       "text": [
        "Running model 'rsh_estimate'\n",
        "REGRESSION RESULTS FOR SEGMENT 16\n"
       ]
      },
      {
       "output_type": "stream",
       "stream": "stdout",
       "text": [
        "\n",
        "                               OLS Regression Results                               \n",
        "====================================================================================\n",
        "Dep. Variable:     np.log1p(sqft_price_res)   R-squared:                       0.082\n",
        "Model:                                  OLS   Adj. R-squared:                  0.080\n",
        "Method:                       Least Squares   F-statistic:                     61.44\n",
        "Date:                      Wed, 20 Aug 2014   Prob (F-statistic):          3.20e-155\n",
        "Time:                              16:15:42   Log-Likelihood:                -8091.0\n",
        "No. Observations:                      8997   AIC:                         1.621e+04\n",
        "Df Residuals:                          8983   BIC:                         1.631e+04\n",
        "Df Model:                                13                                         \n",
        "================================================================================================\n",
        "                                   coef    std err          t      P>|t|      [95.0% Conf. Int.]\n",
        "------------------------------------------------------------------------------------------------\n",
        "Intercept                       -1.4425      0.630     -2.291      0.022        -2.677    -0.208\n",
        "I(year_built < 1940)[T.True]    -0.1067      0.029     -3.657      0.000        -0.164    -0.050\n",
        "year_built                       0.0030      0.000      9.834      0.000         0.002     0.004\n",
        "stories                          0.0796      0.021      3.870      0.000         0.039     0.120\n",
        "np.log1p(sqft_per_unit)         -0.1237      0.016     -7.888      0.000        -0.155    -0.093\n",
        "np.log1p(popden)                -0.0527      0.035     -1.492      0.136        -0.122     0.017\n",
        "dist_hwy                     -2.172e-06   4.88e-07     -4.447      0.000     -3.13e-06 -1.21e-06\n",
        "dist_road                    -1.797e-06   3.35e-06     -0.537      0.591     -8.36e-06  4.77e-06\n",
        "crime08                          0.0008      0.001      0.689      0.491        -0.001     0.003\n",
        "np.log1p(jobs_within_30_min)     0.0070      0.005      1.355      0.175        -0.003     0.017\n",
        "sum_residential_units           -0.0028      0.012     -0.228      0.820        -0.027     0.021\n",
        "poor                            -0.0043      0.010     -0.419      0.675        -0.024     0.016\n",
        "jobs                             0.0055      0.006      0.950      0.342        -0.006     0.017\n",
        "ave_income                       0.0018      0.012      0.149      0.882        -0.022     0.025\n",
        "==============================================================================\n",
        "Omnibus:                       59.669   Durbin-Watson:                   1.657\n",
        "Prob(Omnibus):                  0.000   Jarque-Bera (JB):               60.780\n",
        "Skew:                           0.201   Prob(JB):                     6.34e-14\n",
        "Kurtosis:                       2.968   Cond. No.                     2.53e+06\n",
        "==============================================================================\n",
        "\n",
        "Warnings:\n",
        "[1] The condition number is large, 2.53e+06. This might indicate that there are\n",
        "strong multicollinearity or other numerical problems."
       ]
      },
      {
       "output_type": "stream",
       "stream": "stdout",
       "text": [
        "\n",
        "REGRESSION RESULTS FOR SEGMENT 17\n",
        "\n",
        "                               OLS Regression Results                               \n",
        "====================================================================================\n",
        "Dep. Variable:     np.log1p(sqft_price_res)   R-squared:                       0.224\n",
        "Model:                                  OLS   Adj. R-squared:                  0.224\n",
        "Method:                       Least Squares   F-statistic:                 3.206e+04\n",
        "Date:                      Wed, 20 Aug 2014   Prob (F-statistic):               0.00\n",
        "Time:                              16:15:44   Log-Likelihood:            -8.3810e+05\n",
        "No. Observations:                   1441898   AIC:                         1.676e+06\n",
        "Df Residuals:                       1441884   BIC:                         1.676e+06\n",
        "Df Model:                                13                                         \n",
        "================================================================================================\n",
        "                                   coef    std err          t      P>|t|      [95.0% Conf. Int.]\n",
        "------------------------------------------------------------------------------------------------\n",
        "Intercept                       -4.5011      0.046    -98.517      0.000        -4.591    -4.412\n",
        "I(year_built < 1940)[T.True]    -0.1219      0.001    -89.462      0.000        -0.125    -0.119\n",
        "year_built                       0.0031   2.27e-05    137.560      0.000         0.003     0.003\n",
        "stories                          0.0379      0.001     30.096      0.000         0.035     0.040\n",
        "np.log1p(sqft_per_unit)         -0.1237      0.001   -114.414      0.000        -0.126    -0.122\n",
        "np.log1p(popden)                 0.1066      0.001    143.241      0.000         0.105     0.108\n",
        "dist_hwy                      -7.06e-07    4.3e-08    -16.423      0.000      -7.9e-07 -6.22e-07\n",
        "dist_road                     1.513e-07   4.56e-07      0.332      0.740     -7.43e-07  1.05e-06\n",
        "crime08                         -0.0017   2.01e-05    -85.751      0.000        -0.002    -0.002\n",
        "np.log1p(jobs_within_30_min)     0.0027      0.000     13.081      0.000         0.002     0.003\n",
        "sum_residential_units           -0.0320      0.001    -30.723      0.000        -0.034    -0.030\n",
        "poor                            -0.0339      0.001    -41.708      0.000        -0.035    -0.032\n",
        "jobs                             0.0074      0.000     32.061      0.000         0.007     0.008\n",
        "ave_income                       0.3120      0.002    205.332      0.000         0.309     0.315\n",
        "==============================================================================\n",
        "Omnibus:                   264100.609   Durbin-Watson:                   0.772\n",
        "Prob(Omnibus):                  0.000   Jarque-Bera (JB):          6830406.755\n",
        "Skew:                           0.145   Prob(JB):                         0.00\n",
        "Kurtosis:                      13.659   Cond. No.                     1.78e+06\n",
        "==============================================================================\n",
        "\n",
        "Warnings:\n",
        "[1] The condition number is large, 1.78e+06. This might indicate that there are\n",
        "strong multicollinearity or other numerical problems."
       ]
      },
      {
       "output_type": "stream",
       "stream": "stdout",
       "text": [
        "\n",
        "REGRESSION RESULTS FOR SEGMENT 18\n",
        "\n",
        "                               OLS Regression Results                               \n",
        "====================================================================================\n",
        "Dep. Variable:     np.log1p(sqft_price_res)   R-squared:                       0.083\n",
        "Model:                                  OLS   Adj. R-squared:                  0.083\n",
        "Method:                       Least Squares   F-statistic:                     217.5\n",
        "Date:                      Wed, 20 Aug 2014   Prob (F-statistic):               0.00\n",
        "Time:                              16:15:44   Log-Likelihood:                -29121.\n",
        "No. Observations:                     31272   AIC:                         5.827e+04\n",
        "Df Residuals:                         31258   BIC:                         5.839e+04\n",
        "Df Model:                                13                                         \n",
        "================================================================================================\n",
        "                                   coef    std err          t      P>|t|      [95.0% Conf. Int.]\n",
        "------------------------------------------------------------------------------------------------\n",
        "Intercept                      -13.0381      0.703    -18.558      0.000       -14.415   -11.661\n",
        "I(year_built < 1940)[T.True]     1.2233      0.035     34.469      0.000         1.154     1.293\n",
        "year_built                       0.0093      0.000     25.928      0.000         0.009     0.010\n",
        "stories                         -0.0052      0.003     -1.484      0.138        -0.012     0.002\n",
        "np.log1p(sqft_per_unit)         -0.1196      0.010    -11.980      0.000        -0.139    -0.100\n",
        "np.log1p(popden)                -0.0907      0.007    -13.465      0.000        -0.104    -0.078\n",
        "dist_hwy                     -4.046e-06   3.27e-07    -12.372      0.000     -4.69e-06  -3.4e-06\n",
        "dist_road                     4.776e-05   4.62e-06     10.340      0.000      3.87e-05  5.68e-05\n",
        "crime08                       1.695e-05      0.000      0.067      0.947        -0.000     0.001\n",
        "np.log1p(jobs_within_30_min)    -0.0014      0.002     -0.616      0.538        -0.006     0.003\n",
        "sum_residential_units            0.0238      0.008      2.848      0.004         0.007     0.040\n",
        "poor                            -0.0651      0.006    -10.932      0.000        -0.077    -0.053\n",
        "jobs                            -0.0234      0.002    -11.870      0.000        -0.027    -0.020\n",
        "ave_income                      -0.0061      0.010     -0.588      0.557        -0.026     0.014\n",
        "==============================================================================\n",
        "Omnibus:                     3465.557   Durbin-Watson:                   0.539\n",
        "Prob(Omnibus):                  0.000   Jarque-Bera (JB):            27664.871\n",
        "Skew:                          -0.227   Prob(JB):                         0.00\n",
        "Kurtosis:                       7.585   Cond. No.                     3.86e+06\n",
        "==============================================================================\n",
        "\n",
        "Warnings:\n",
        "[1] The condition number is large, 3.86e+06. This might indicate that there are\n",
        "strong multicollinearity or other numerical problems."
       ]
      },
      {
       "output_type": "stream",
       "stream": "stdout",
       "text": [
        "\n",
        "REGRESSION RESULTS FOR SEGMENT 19\n",
        "\n",
        "                               OLS Regression Results                               \n",
        "====================================================================================\n",
        "Dep. Variable:     np.log1p(sqft_price_res)   R-squared:                       0.601\n",
        "Model:                                  OLS   Adj. R-squared:                  0.601\n",
        "Method:                       Least Squares   F-statistic:                     2813.\n",
        "Date:                      Wed, 20 Aug 2014   Prob (F-statistic):               0.00\n",
        "Time:                              16:15:44   Log-Likelihood:                -27472.\n",
        "No. Observations:                     24300   AIC:                         5.497e+04\n",
        "Df Residuals:                         24286   BIC:                         5.508e+04\n",
        "Df Model:                                13                                         \n",
        "================================================================================================\n",
        "                                   coef    std err          t      P>|t|      [95.0% Conf. Int.]\n",
        "------------------------------------------------------------------------------------------------\n",
        "Intercept                       -3.3131      0.641     -5.166      0.000        -4.570    -2.056\n",
        "I(year_built < 1940)[T.True]     0.1819      0.022      8.214      0.000         0.138     0.225\n",
        "year_built                       0.0063      0.000     20.198      0.000         0.006     0.007\n",
        "stories                          0.0146      0.003      4.215      0.000         0.008     0.021\n",
        "np.log1p(sqft_per_unit)         -0.8447      0.005   -186.644      0.000        -0.854    -0.836\n",
        "np.log1p(popden)                -0.0450      0.009     -4.863      0.000        -0.063    -0.027\n",
        "dist_hwy                     -2.938e-07   7.67e-07     -0.383      0.702      -1.8e-06  1.21e-06\n",
        "dist_road                     1.268e-05   1.05e-05      1.209      0.227     -7.88e-06  3.32e-05\n",
        "crime08                         -0.0026      0.000    -10.211      0.000        -0.003    -0.002\n",
        "np.log1p(jobs_within_30_min)     0.0416      0.005      8.068      0.000         0.031     0.052\n",
        "sum_residential_units           -0.0189      0.011     -1.720      0.085        -0.040     0.003\n",
        "poor                             0.0029      0.009      0.326      0.744        -0.015     0.020\n",
        "jobs                             0.0219      0.003      8.256      0.000         0.017     0.027\n",
        "ave_income                      -0.0019      0.014     -0.132      0.895        -0.030     0.026\n",
        "==============================================================================\n",
        "Omnibus:                     4798.659   Durbin-Watson:                   0.557\n",
        "Prob(Omnibus):                  0.000   Jarque-Bera (JB):            32677.615\n",
        "Skew:                           0.779   Prob(JB):                         0.00\n",
        "Kurtosis:                       8.463   Cond. No.                     1.36e+06\n",
        "==============================================================================\n",
        "\n",
        "Warnings:\n",
        "[1] The condition number is large, 1.36e+06. This might indicate that there are\n",
        "strong multicollinearity or other numerical problems."
       ]
      },
      {
       "output_type": "stream",
       "stream": "stdout",
       "text": [
        "\n",
        "REGRESSION RESULTS FOR SEGMENT 20\n",
        "\n",
        "                               OLS Regression Results                               \n",
        "====================================================================================\n",
        "Dep. Variable:     np.log1p(sqft_price_res)   R-squared:                       0.852\n",
        "Model:                                  OLS   Adj. R-squared:                  0.852\n",
        "Method:                       Least Squares   F-statistic:                     7306.\n",
        "Date:                      Wed, 20 Aug 2014   Prob (F-statistic):               0.00\n",
        "Time:                              16:15:44   Log-Likelihood:                -16700.\n",
        "No. Observations:                     16457   AIC:                         3.343e+04\n",
        "Df Residuals:                         16443   BIC:                         3.354e+04\n",
        "Df Model:                                13                                         \n",
        "================================================================================================\n",
        "                                   coef    std err          t      P>|t|      [95.0% Conf. Int.]\n",
        "------------------------------------------------------------------------------------------------\n",
        "Intercept                       -4.6563      0.642     -7.248      0.000        -5.916    -3.397\n",
        "I(year_built < 1940)[T.True]     0.0631      0.029      2.195      0.028         0.007     0.119\n",
        "year_built                       0.0045      0.000     13.076      0.000         0.004     0.005\n",
        "stories                          0.1918      0.022      8.877      0.000         0.149     0.234\n",
        "np.log1p(sqft_per_unit)         -0.8810      0.005   -189.493      0.000        -0.890    -0.872\n",
        "np.log1p(popden)                 0.2688      0.012     22.998      0.000         0.246     0.292\n",
        "dist_hwy                     -1.031e-05   5.74e-07    -17.955      0.000     -1.14e-05 -9.18e-06\n",
        "dist_road                        0.0001    5.7e-06     21.628      0.000         0.000     0.000\n",
        "crime08                          0.0046      0.001      7.395      0.000         0.003     0.006\n",
        "np.log1p(jobs_within_30_min)     0.0725      0.008      9.445      0.000         0.057     0.087\n",
        "sum_residential_units           -0.2243      0.013    -16.684      0.000        -0.251    -0.198\n",
        "poor                             0.0761      0.009      8.395      0.000         0.058     0.094\n",
        "jobs                            -0.0823      0.004    -22.161      0.000        -0.090    -0.075\n",
        "ave_income                       0.4297      0.018     23.755      0.000         0.394     0.465\n",
        "==============================================================================\n",
        "Omnibus:                     4927.058   Durbin-Watson:                   0.348\n",
        "Prob(Omnibus):                  0.000   Jarque-Bera (JB):            28926.565\n",
        "Skew:                           1.311   Prob(JB):                         0.00\n",
        "Kurtosis:                       8.942   Cond. No.                     1.85e+06\n",
        "==============================================================================\n",
        "\n",
        "Warnings:\n",
        "[1] The condition number is large, 1.85e+06. This might indicate that there are\n",
        "strong multicollinearity or other numerical problems."
       ]
      },
      {
       "output_type": "stream",
       "stream": "stdout",
       "text": [
        "\n",
        "Time to execute model 'rsh_estimate': 47.81s"
       ]
      },
      {
       "output_type": "stream",
       "stream": "stdout",
       "text": [
        "\n",
        "Total time to execute: 47.81s\n"
       ]
      }
     ],
     "prompt_number": 3
    },
    {
     "cell_type": "code",
     "collapsed": false,
     "input": [
      "sim.run([\"nrh_estimate\"])"
     ],
     "language": "python",
     "metadata": {},
     "outputs": [
      {
       "output_type": "stream",
       "stream": "stdout",
       "text": [
        "Running model 'nrh_estimate'\n",
        "REGRESSION RESULTS FOR SEGMENT Retail\n"
       ]
      },
      {
       "output_type": "stream",
       "stream": "stdout",
       "text": [
        "\n",
        "                            OLS Regression Results                            \n",
        "==============================================================================\n",
        "Dep. Variable:         np.log1p(rent)   R-squared:                       0.053\n",
        "Model:                            OLS   Adj. R-squared:                  0.013\n",
        "Method:                 Least Squares   F-statistic:                     1.316\n",
        "Date:                Mon, 04 Aug 2014   Prob (F-statistic):              0.262\n",
        "Time:                        13:49:31   Log-Likelihood:                -73.855\n",
        "No. Observations:                 124   AIC:                             159.7\n",
        "Df Residuals:                     118   BIC:                             176.6\n",
        "Df Model:                           5                                         \n",
        "================================================================================================\n",
        "                                   coef    std err          t      P>|t|      [95.0% Conf. Int.]\n",
        "------------------------------------------------------------------------------------------------\n",
        "Intercept                       -0.8609      2.476     -0.348      0.729        -5.765     4.043\n",
        "I(year_built < 1940)[T.True]    -0.0941      0.105     -0.896      0.372        -0.302     0.114\n",
        "I(year_built > 2005)[T.True]    -0.1046      0.246     -0.426      0.671        -0.591     0.382\n",
        "np.log1p(stories)               -0.0755      0.110     -0.684      0.495        -0.294     0.143\n",
        "ave_income                       0.2976      0.193      1.545      0.125        -0.084     0.679\n",
        "jobs                             0.1151      0.046      2.482      0.014         0.023     0.207\n",
        "==============================================================================\n",
        "Omnibus:                       15.597   Durbin-Watson:                   2.433\n",
        "Prob(Omnibus):                  0.000   Jarque-Bera (JB):               31.800\n",
        "Skew:                           0.492   Prob(JB):                     1.24e-07\n",
        "Kurtosis:                       5.277   Cond. No.                         910.\n",
        "==============================================================================\n",
        "REGRESSION RESULTS FOR SEGMENT Office\n",
        "\n",
        "                            OLS Regression Results                            \n",
        "==============================================================================\n",
        "Dep. Variable:         np.log1p(rent)   R-squared:                       0.044\n",
        "Model:                            OLS   Adj. R-squared:                  0.031\n",
        "Method:                 Least Squares   F-statistic:                     3.490\n",
        "Date:                Mon, 04 Aug 2014   Prob (F-statistic):            0.00426\n",
        "Time:                        13:49:31   Log-Likelihood:                -168.79\n",
        "No. Observations:                 385   AIC:                             349.6\n",
        "Df Residuals:                     379   BIC:                             373.3\n",
        "Df Model:                           5                                         \n",
        "================================================================================================\n",
        "                                   coef    std err          t      P>|t|      [95.0% Conf. Int.]\n",
        "------------------------------------------------------------------------------------------------\n",
        "Intercept                        3.5244      0.207     17.017      0.000         3.117     3.932\n",
        "I(year_built < 1940)[T.True]    -0.0787      0.046     -1.698      0.090        -0.170     0.012\n",
        "I(year_built > 2005)[T.True]    -0.0188      0.173     -0.109      0.913        -0.358     0.321\n",
        "np.log1p(stories)                0.0493      0.035      1.401      0.162        -0.020     0.118\n",
        "ave_income                      -0.0417      0.023     -1.831      0.068        -0.086     0.003\n",
        "jobs                             0.0194      0.018      1.079      0.281        -0.016     0.055\n",
        "==============================================================================\n",
        "Omnibus:                      106.606   Durbin-Watson:                   1.811\n",
        "Prob(Omnibus):                  0.000   Jarque-Bera (JB):              544.913\n",
        "Skew:                           1.074   Prob(JB):                    4.72e-119\n",
        "Kurtosis:                       8.418   Cond. No.                         167.\n",
        "==============================================================================\n",
        "REGRESSION RESULTS FOR SEGMENT Industrial\n",
        "\n",
        "                            OLS Regression Results                            \n",
        "==============================================================================\n",
        "Dep. Variable:         np.log1p(rent)   R-squared:                       0.984\n",
        "Model:                            OLS   Adj. R-squared:                  0.983\n",
        "Method:                 Least Squares   F-statistic:                     931.2\n",
        "Date:                Mon, 04 Aug 2014   Prob (F-statistic):           1.19e-66\n",
        "Time:                        13:49:31   Log-Likelihood:                -21.284\n",
        "No. Observations:                  81   AIC:                             52.57\n",
        "Df Residuals:                      76   BIC:                             64.54\n",
        "Df Model:                           5                                         \n",
        "================================================================================================\n",
        "                                   coef    std err          t      P>|t|      [95.0% Conf. Int.]\n",
        "------------------------------------------------------------------------------------------------\n",
        "Intercept                        2.5185      0.347      7.266      0.000         1.828     3.209\n",
        "I(year_built < 1940)[T.True]     0.0130      0.083      0.157      0.876        -0.152     0.178\n",
        "I(year_built > 2005)[T.True] -9.623e-17   1.68e-16     -0.573      0.568     -4.31e-16  2.38e-16\n",
        "np.log1p(stories)                0.0788      0.134      0.588      0.558        -0.188     0.346\n",
        "ave_income                      -0.0388      0.039     -0.994      0.323        -0.116     0.039\n",
        "jobs                             0.0338      0.035      0.956      0.342        -0.037     0.104\n",
        "==============================================================================\n",
        "Omnibus:                        8.537   Durbin-Watson:                   1.893\n",
        "Prob(Omnibus):                  0.014   Jarque-Bera (JB):               18.123\n",
        "Skew:                           0.117   Prob(JB):                     0.000116\n",
        "Kurtosis:                       5.305   Cond. No.                     6.08e+09\n",
        "==============================================================================\n",
        "\n",
        "Warnings:\n",
        "[1] The smallest eigenvalue is 4.44e-16. This might indicate that there are\n",
        "strong multicollinearity problems or that the design matrix is singular."
       ]
      },
      {
       "output_type": "stream",
       "stream": "stdout",
       "text": [
        "\n"
       ]
      }
     ],
     "prompt_number": 6
    },
    {
     "cell_type": "heading",
     "level": 2,
     "metadata": {},
     "source": [
      "LCM Estimation"
     ]
    },
    {
     "cell_type": "code",
     "collapsed": false,
     "input": [
      "sim.run([\"hlcm_estimate\"])"
     ],
     "language": "python",
     "metadata": {},
     "outputs": [
      {
       "output_type": "stream",
       "stream": "stdout",
       "text": [
        "Running model 'hlcmo_estimate'\n",
        "Dropped 14198 rows because they contained nans"
       ]
      },
      {
       "output_type": "stream",
       "stream": "stdout",
       "text": [
        "\n",
        "LCM RESULTS FOR SEGMENT 0\n"
       ]
      },
      {
       "output_type": "stream",
       "stream": "stdout",
       "text": [
        "\n",
        "Null Log-liklihood: -65540.782\n",
        "Log-liklihood at convergence: -64538.480\n",
        "Log-liklihood Ratio: 0.015\n",
        "\n",
        "+-----------------------------------+-------------+------------+---------+\n",
        "| Component                         | Coefficient | Std. Error | T-Score |\n",
        "+-----------------------------------+-------------+------------+---------+\n",
        "| np.log1p(residential_sales_price) |    -1.813   |   0.158    | -11.458 |\n",
        "| np.log1p(unit_sqft)               |    -0.878   |   0.065    | -13.562 |\n",
        "| sum_residential_units             |    -1.712   |   0.071    | -24.273 |\n",
        "| ave_unit_sqft                     |    0.153    |   0.059    |  2.588  |\n",
        "| ave_lot_sqft                      |    -0.440   |   0.053    |  -8.377 |\n",
        "| ave_income                        |    -1.307   |   0.146    |  -8.967 |\n",
        "| hhsize                            |    -3.000   |   0.142    | -21.189 |\n",
        "| jobs                              |    0.134    |   0.020    |  6.564  |\n",
        "| poor                              |    -0.166   |   0.079    |  -2.101 |\n",
        "| population                        |    1.995    |   0.072    |  27.624 |\n",
        "+-----------------------------------+-------------+------------+---------+\n",
        "LCM RESULTS FOR SEGMENT 1\n",
        "\n",
        "Null Log-liklihood: -67926.260\n",
        "Log-liklihood at convergence: -67352.881\n",
        "Log-liklihood Ratio: 0.008\n",
        "\n",
        "+-----------------------------------+-------------+------------+---------+\n",
        "| Component                         | Coefficient | Std. Error | T-Score |\n",
        "+-----------------------------------+-------------+------------+---------+\n",
        "| np.log1p(residential_sales_price) |    -2.426   |   0.151    | -16.076 |\n",
        "| np.log1p(unit_sqft)               |    -1.171   |   0.062    | -18.862 |\n",
        "| sum_residential_units             |    -1.119   |   0.070    | -16.000 |\n",
        "| ave_unit_sqft                     |    0.148    |   0.056    |  2.633  |\n",
        "| ave_lot_sqft                      |    -0.721   |   0.052    | -13.916 |\n",
        "| ave_income                        |    -0.291   |   0.141    |  -2.067 |\n",
        "| hhsize                            |    -2.339   |   0.142    | -16.451 |\n",
        "| jobs                              |    0.114    |   0.020    |  5.604  |\n",
        "| poor                              |    -0.079   |   0.077    |  -1.028 |\n",
        "| population                        |    1.353    |   0.072    |  18.878 |\n",
        "+-----------------------------------+-------------+------------+---------+\n",
        "LCM RESULTS FOR SEGMENT 2\n",
        "\n",
        "Null Log-liklihood: -67990.733\n",
        "Log-liklihood at convergence: -67445.162\n",
        "Log-liklihood Ratio: 0.008\n",
        "\n",
        "+-----------------------------------+-------------+------------+---------+\n",
        "| Component                         | Coefficient | Std. Error | T-Score |\n",
        "+-----------------------------------+-------------+------------+---------+\n",
        "| np.log1p(residential_sales_price) |    -2.699   |   0.153    | -17.586 |\n",
        "| np.log1p(unit_sqft)               |    -1.315   |   0.062    | -21.117 |\n",
        "| sum_residential_units             |    -0.983   |   0.070    | -14.113 |\n",
        "| ave_unit_sqft                     |    0.060    |   0.056    |  1.070  |\n",
        "| ave_lot_sqft                      |    -0.688   |   0.053    | -13.110 |\n",
        "| ave_income                        |    -0.289   |   0.144    |  -2.003 |\n",
        "| hhsize                            |    -2.002   |   0.143    | -14.012 |\n",
        "| jobs                              |    0.123    |   0.020    |  6.085  |\n",
        "| poor                              |    -0.498   |   0.078    |  -6.346 |\n",
        "| population                        |    1.629    |   0.074    |  22.036 |\n",
        "+-----------------------------------+-------------+------------+---------+\n",
        "LCM RESULTS FOR SEGMENT 3\n",
        "\n",
        "Null Log-liklihood: -68220.991\n",
        "Log-liklihood at convergence: -67181.828\n",
        "Log-liklihood Ratio: 0.015\n",
        "\n",
        "+-----------------------------------+-------------+------------+---------+\n",
        "| Component                         | Coefficient | Std. Error | T-Score |\n",
        "+-----------------------------------+-------------+------------+---------+\n",
        "| np.log1p(residential_sales_price) |    -3.000   |   0.145    | -20.682 |\n",
        "| np.log1p(unit_sqft)               |    -1.474   |   0.059    | -24.924 |\n",
        "| sum_residential_units             |    -1.088   |   0.068    | -16.016 |\n",
        "| ave_unit_sqft                     |    0.244    |   0.057    |  4.263  |\n",
        "| ave_lot_sqft                      |    -0.814   |   0.052    | -15.565 |\n",
        "| ave_income                        |    1.054    |   0.138    |  7.627  |\n",
        "| hhsize                            |    -3.000   |   0.145    | -20.757 |\n",
        "| jobs                              |    0.201    |   0.020    |  9.796  |\n",
        "| poor                              |    -0.328   |   0.077    |  -4.279 |\n",
        "| population                        |    1.519    |   0.071    |  21.368 |\n",
        "+-----------------------------------+-------------+------------+---------+\n"
       ]
      }
     ],
     "prompt_number": 8
    },
    {
     "cell_type": "code",
     "collapsed": false,
     "input": [
      "sim.run([\"elcm_estimate\"])"
     ],
     "language": "python",
     "metadata": {},
     "outputs": [
      {
       "output_type": "stream",
       "stream": "stdout",
       "text": [
        "Running model 'hlcmr_estimate'\n",
        "Dropped 11825 rows because they contained nans"
       ]
      },
      {
       "output_type": "stream",
       "stream": "stdout",
       "text": [
        "\n",
        "LCM RESULTS FOR SEGMENT 0\n"
       ]
      },
      {
       "output_type": "stream",
       "stream": "stdout",
       "text": [
        "\n",
        "Null Log-liklihood: -23025.851\n",
        "Log-liklihood at convergence: -18233.270\n",
        "Log-liklihood Ratio: 0.208\n",
        "\n",
        "+----------------------------+-------------+------------+---------+\n",
        "| Component                  | Coefficient | Std. Error | T-Score |\n",
        "+----------------------------+-------------+------------+---------+\n",
        "| np.log1p(residential_rent) |    -3.000   |   0.819    |  -3.663 |\n",
        "| np.log1p(unit_sqft)        |    -0.909   |   0.133    |  -6.819 |\n",
        "| sum_residential_units      |    -0.322   |   0.129    |  -2.502 |\n",
        "| ave_unit_sqft              |    -0.036   |   0.106    |  -0.341 |\n",
        "| ave_lot_sqft               |    0.712    |   0.053    |  13.497 |\n",
        "| ave_income                 |    -1.051   |   0.134    |  -7.835 |\n",
        "| hhsize                     |    -3.000   |   0.274    | -10.957 |\n",
        "| jobs                       |    0.321    |   0.060    |  5.341  |\n",
        "| poor                       |    0.846    |   0.097    |  8.703  |\n",
        "+----------------------------+-------------+------------+---------+\n",
        "LCM RESULTS FOR SEGMENT 1\n",
        "\n",
        "Null Log-liklihood: -23025.851\n",
        "Log-liklihood at convergence: -20099.998\n",
        "Log-liklihood Ratio: 0.127\n",
        "\n",
        "+----------------------------+-------------+------------+---------+\n",
        "| Component                  | Coefficient | Std. Error | T-Score |\n",
        "+----------------------------+-------------+------------+---------+\n",
        "| np.log1p(residential_rent) |    -3.000   |   0.798    |  -3.761 |\n",
        "| np.log1p(unit_sqft)        |    -1.030   |   0.131    |  -7.866 |\n",
        "| sum_residential_units      |    0.239    |   0.127    |  1.878  |\n",
        "| ave_unit_sqft              |    -0.190   |   0.104    |  -1.825 |\n",
        "| ave_lot_sqft               |    0.412    |   0.046    |  8.904  |\n",
        "| ave_income                 |    -0.813   |   0.133    |  -6.108 |\n",
        "| hhsize                     |    -3.000   |   0.272    | -11.022 |\n",
        "| jobs                       |    0.086    |   0.059    |  1.459  |\n",
        "| poor                       |    0.312    |   0.096    |  3.246  |\n",
        "+----------------------------+-------------+------------+---------+\n",
        "LCM RESULTS FOR SEGMENT 2\n",
        "\n",
        "Null Log-liklihood: -23025.851\n",
        "Log-liklihood at convergence: -20684.476\n",
        "Log-liklihood Ratio: 0.102\n",
        "\n",
        "+----------------------------+-------------+------------+---------+\n",
        "| Component                  | Coefficient | Std. Error | T-Score |\n",
        "+----------------------------+-------------+------------+---------+\n",
        "| np.log1p(residential_rent) |    -3.000   |   0.723    |  -4.147 |\n",
        "| np.log1p(unit_sqft)        |    -1.151   |   0.119    |  -9.651 |\n",
        "| sum_residential_units      |    0.612    |   0.121    |  5.059  |\n",
        "| ave_unit_sqft              |    -0.330   |   0.104    |  -3.186 |\n",
        "| ave_lot_sqft               |    0.194    |   0.048    |  4.045  |\n",
        "| ave_income                 |    -0.122   |   0.129    |  -0.949 |\n",
        "| hhsize                     |    -3.000   |   0.268    | -11.188 |\n",
        "| jobs                       |    0.111    |   0.054    |  2.069  |\n",
        "| poor                       |    -0.276   |   0.090    |  -3.070 |\n",
        "+----------------------------+-------------+------------+---------+\n",
        "LCM RESULTS FOR SEGMENT 3\n",
        "\n",
        "Null Log-liklihood: -23025.851\n",
        "Log-liklihood at convergence: -20552.425\n",
        "Log-liklihood Ratio: 0.107\n",
        "\n",
        "+----------------------------+-------------+------------+---------+\n",
        "| Component                  | Coefficient | Std. Error | T-Score |\n",
        "+----------------------------+-------------+------------+---------+\n",
        "| np.log1p(residential_rent) |    -3.000   |   0.697    |  -4.303 |\n",
        "| np.log1p(unit_sqft)        |    -1.198   |   0.116    | -10.366 |\n",
        "| sum_residential_units      |    0.656    |   0.125    |  5.267  |\n",
        "| ave_unit_sqft              |    -0.363   |   0.103    |  -3.541 |\n",
        "| ave_lot_sqft               |    0.082    |   0.056    |  1.480  |\n",
        "| ave_income                 |    1.008    |   0.128    |  7.850  |\n",
        "| hhsize                     |    -3.000   |   0.285    | -10.512 |\n",
        "| jobs                       |    0.271    |   0.054    |  5.020  |\n",
        "| poor                       |    -0.523   |   0.094    |  -5.561 |\n",
        "+----------------------------+-------------+------------+---------+\n"
       ]
      }
     ],
     "prompt_number": 9
    }
   ],
   "metadata": {}
  }
 ]
}