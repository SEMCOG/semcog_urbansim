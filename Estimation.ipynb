{
 "cells": [
  {
   "cell_type": "code",
   "execution_count": null,
   "metadata": {
    "collapsed": false
   },
   "outputs": [],
   "source": [
    "from urbansim.models.dcm import MNLDiscreteChoiceModel\n",
    "\n",
    "import os\n",
    "import numpy as np\n",
    "import pandas as pd\n",
    "\n",
    "import orca\n",
    "from urbansim.utils import misc\n",
    "\n",
    "import dataset\n",
    "import variables\n",
    "import models\n",
    "import utils\n",
    "\n",
    "orca.run([\"build_networks\"])\n",
    "orca.run([\"neighborhood_vars\"])"
   ]
  },
  {
   "cell_type": "markdown",
   "metadata": {},
   "source": [
    "### Estimate HLCM from config"
   ]
  },
  {
   "cell_type": "code",
   "execution_count": 2,
   "metadata": {
    "collapsed": false
   },
   "outputs": [
    {
     "name": "stdout",
     "output_type": "stream",
     "text": [
      "Disaggregating drv_60min_jobs to buildings from nodes_drv\n",
      "Disaggregating ave_nonres_sqft_price to buildings from nodes_walk\n",
      "Disaggregating retail_jobs to buildings from nodes_walk\n",
      "Disaggregating ln_popden to buildings from nodes_walk\n",
      "Disaggregating a_ln_emp_50min_transit to buildings from zones\n",
      "Disaggregating percent_race1 to buildings from nodes_walk\n",
      "Disaggregating percent_hh_with_children to buildings from nodes_walk\n"
     ]
    },
    {
     "name": "stderr",
     "output_type": "stream",
     "text": [
      "/home/janowicz/udst/urbansim/urbansim/urbanchoice/interaction.py:83: SettingWithCopyWarning: \n",
      "A value is trying to be set on a copy of a slice from a DataFrame.\n",
      "Try using .loc[row_indexer,col_indexer] = value instead\n",
      "\n",
      "See the caveats in the documentation: http://pandas.pydata.org/pandas-docs/stable/indexing.html#indexing-view-versus-copy\n",
      "  alts_sample['join_index'] = np.repeat(choosers.index.values, SAMPLE_SIZE)\n"
     ]
    },
    {
     "name": "stdout",
     "output_type": "stream",
     "text": [
      "{'convergence': -11103.158068510478, 'null': -13815.51055796495, 'ratio': 0.19632661985776123}\n"
     ]
    },
    {
     "data": {
      "text/html": [
       "<div>\n",
       "<table border=\"1\" class=\"dataframe\">\n",
       "  <thead>\n",
       "    <tr style=\"text-align: right;\">\n",
       "      <th></th>\n",
       "      <th>Coefficient</th>\n",
       "      <th>Std. Error</th>\n",
       "      <th>T-Score</th>\n",
       "    </tr>\n",
       "  </thead>\n",
       "  <tbody>\n",
       "    <tr>\n",
       "      <th>residential_units</th>\n",
       "      <td>0.020587</td>\n",
       "      <td>0.000719</td>\n",
       "      <td>28.640595</td>\n",
       "    </tr>\n",
       "    <tr>\n",
       "      <th>b_is_pre_1945</th>\n",
       "      <td>0.508882</td>\n",
       "      <td>0.039600</td>\n",
       "      <td>12.850403</td>\n",
       "    </tr>\n",
       "    <tr>\n",
       "      <th>has_children:nodes_walk_percent_hh_with_children</th>\n",
       "      <td>3.000000</td>\n",
       "      <td>0.193764</td>\n",
       "      <td>15.482763</td>\n",
       "    </tr>\n",
       "    <tr>\n",
       "      <th>has_workers:zones_a_ln_emp_50min_transit</th>\n",
       "      <td>0.026849</td>\n",
       "      <td>0.003979</td>\n",
       "      <td>6.747746</td>\n",
       "    </tr>\n",
       "    <tr>\n",
       "      <th>drv_nearest_healthcenter</th>\n",
       "      <td>-0.082261</td>\n",
       "      <td>0.005307</td>\n",
       "      <td>-15.499156</td>\n",
       "    </tr>\n",
       "    <tr>\n",
       "      <th>b_ln_land_area</th>\n",
       "      <td>1.060727</td>\n",
       "      <td>0.019718</td>\n",
       "      <td>53.793863</td>\n",
       "    </tr>\n",
       "    <tr>\n",
       "      <th>nodes_drv_drv_60min_jobs</th>\n",
       "      <td>0.015205</td>\n",
       "      <td>0.011741</td>\n",
       "      <td>1.295049</td>\n",
       "    </tr>\n",
       "    <tr>\n",
       "      <th>is_race1:nodes_walk_percent_race1</th>\n",
       "      <td>3.000000</td>\n",
       "      <td>0.071664</td>\n",
       "      <td>41.861785</td>\n",
       "    </tr>\n",
       "    <tr>\n",
       "      <th>persons:nodes_walk_ln_popden</th>\n",
       "      <td>0.153513</td>\n",
       "      <td>0.006905</td>\n",
       "      <td>22.231100</td>\n",
       "    </tr>\n",
       "    <tr>\n",
       "      <th>nodes_walk_ave_nonres_sqft_price</th>\n",
       "      <td>0.000807</td>\n",
       "      <td>0.000319</td>\n",
       "      <td>2.526350</td>\n",
       "    </tr>\n",
       "    <tr>\n",
       "      <th>is_young:nodes_walk_retail_jobs</th>\n",
       "      <td>0.001384</td>\n",
       "      <td>0.000756</td>\n",
       "      <td>1.830747</td>\n",
       "    </tr>\n",
       "    <tr>\n",
       "      <th>ln_income:nodes_walk_ln_popden</th>\n",
       "      <td>0.026263</td>\n",
       "      <td>0.002446</td>\n",
       "      <td>10.736031</td>\n",
       "    </tr>\n",
       "    <tr>\n",
       "      <th>sqft_price_res</th>\n",
       "      <td>-0.005107</td>\n",
       "      <td>0.000346</td>\n",
       "      <td>-14.747408</td>\n",
       "    </tr>\n",
       "  </tbody>\n",
       "</table>\n",
       "</div>"
      ],
      "text/plain": [
       "                                                  Coefficient  Std. Error  \\\n",
       "residential_units                                    0.020587    0.000719   \n",
       "b_is_pre_1945                                        0.508882    0.039600   \n",
       "has_children:nodes_walk_percent_hh_with_children     3.000000    0.193764   \n",
       "has_workers:zones_a_ln_emp_50min_transit             0.026849    0.003979   \n",
       "drv_nearest_healthcenter                            -0.082261    0.005307   \n",
       "b_ln_land_area                                       1.060727    0.019718   \n",
       "nodes_drv_drv_60min_jobs                             0.015205    0.011741   \n",
       "is_race1:nodes_walk_percent_race1                    3.000000    0.071664   \n",
       "persons:nodes_walk_ln_popden                         0.153513    0.006905   \n",
       "nodes_walk_ave_nonres_sqft_price                     0.000807    0.000319   \n",
       "is_young:nodes_walk_retail_jobs                      0.001384    0.000756   \n",
       "ln_income:nodes_walk_ln_popden                       0.026263    0.002446   \n",
       "sqft_price_res                                      -0.005107    0.000346   \n",
       "\n",
       "                                                    T-Score  \n",
       "residential_units                                 28.640595  \n",
       "b_is_pre_1945                                     12.850403  \n",
       "has_children:nodes_walk_percent_hh_with_children  15.482763  \n",
       "has_workers:zones_a_ln_emp_50min_transit           6.747746  \n",
       "drv_nearest_healthcenter                         -15.499156  \n",
       "b_ln_land_area                                    53.793863  \n",
       "nodes_drv_drv_60min_jobs                           1.295049  \n",
       "is_race1:nodes_walk_percent_race1                 41.861785  \n",
       "persons:nodes_walk_ln_popden                      22.231100  \n",
       "nodes_walk_ave_nonres_sqft_price                   2.526350  \n",
       "is_young:nodes_walk_retail_jobs                    1.830747  \n",
       "ln_income:nodes_walk_ln_popden                    10.736031  \n",
       "sqft_price_res                                   -14.747408  "
      ]
     },
     "execution_count": 2,
     "metadata": {},
     "output_type": "execute_result"
    }
   ],
   "source": [
    "hlcm1_model = MNLDiscreteChoiceModel.from_yaml(str_or_buffer=misc.config('hlcm/hlcm1.yaml'))\n",
    "\n",
    "hh = orca.get_table('households').to_frame(hlcm1_model.columns_used())\n",
    "b = orca.get_table('buildings').to_frame(hlcm1_model.columns_used())\n",
    "\n",
    "hh = hh[hh.income_quartile == 1]\n",
    "b = b.fillna(0)\n",
    "hh = hh.fillna(0)\n",
    "\n",
    "print hlcm1_model.fit(hh, b, hh[hlcm1_model.choice_column])\n",
    "\n",
    "hlcm1_model.fit_parameters"
   ]
  },
  {
   "cell_type": "markdown",
   "metadata": {},
   "source": [
    "## Hedonic Estimation"
   ]
  },
  {
   "cell_type": "code",
   "execution_count": null,
   "metadata": {
    "collapsed": false
   },
   "outputs": [],
   "source": [
    "orca.run([\"rsh_estimate\"])"
   ]
  },
  {
   "cell_type": "code",
   "execution_count": null,
   "metadata": {
    "collapsed": false
   },
   "outputs": [],
   "source": [
    "orca.run([\"nrh_estimate\"])"
   ]
  },
  {
   "cell_type": "markdown",
   "metadata": {},
   "source": [
    "## LCM Estimation"
   ]
  },
  {
   "cell_type": "code",
   "execution_count": null,
   "metadata": {
    "collapsed": false
   },
   "outputs": [],
   "source": [
    "orca.run([\"hlcm_estimate\"])"
   ]
  },
  {
   "cell_type": "code",
   "execution_count": null,
   "metadata": {
    "collapsed": false
   },
   "outputs": [],
   "source": [
    "orca.run([\"elcm_estimate\"])"
   ]
  },
  {
   "cell_type": "code",
   "execution_count": null,
   "metadata": {
    "collapsed": true
   },
   "outputs": [],
   "source": []
  }
 ],
 "metadata": {
  "anaconda-cloud": {},
  "kernelspec": {
   "display_name": "Python [conda root]",
   "language": "python",
   "name": "conda-root-py"
  },
  "language_info": {
   "codemirror_mode": {
    "name": "ipython",
    "version": 2
   },
   "file_extension": ".py",
   "mimetype": "text/x-python",
   "name": "python",
   "nbconvert_exporter": "python",
   "pygments_lexer": "ipython2",
   "version": "2.7.12"
  }
 },
 "nbformat": 4,
 "nbformat_minor": 0
}
