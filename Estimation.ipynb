{
 "cells": [
  {
   "cell_type": "code",
   "execution_count": null,
   "metadata": {
    "collapsed": false
   },
   "outputs": [],
   "source": [
    "from urbansim.models.dcm import MNLDiscreteChoiceModel\n",
    "\n",
    "import os\n",
    "import numpy as np\n",
    "import pandas as pd\n",
    "\n",
    "import orca\n",
    "from urbansim.utils import misc\n",
    "\n",
    "import dataset\n",
    "import variables\n",
    "import models\n",
    "import utils\n",
    "\n",
    "import yaml\n",
    "\n",
    "orca.run([\"build_networks\"])\n",
    "orca.run([\"neighborhood_vars\"])"
   ]
  },
  {
   "cell_type": "markdown",
   "metadata": {},
   "source": [
    "### Estimate HLCM from config"
   ]
  },
  {
   "cell_type": "code",
   "execution_count": null,
   "metadata": {
    "collapsed": false
   },
   "outputs": [],
   "source": [
    "hlcm1_model = MNLDiscreteChoiceModel.from_yaml(str_or_buffer=misc.config('hlcm/hlcm1.yaml'))\n",
    "\n",
    "hh = orca.get_table('households').to_frame(hlcm1_model.columns_used())\n",
    "b = orca.get_table('buildings').to_frame(hlcm1_model.columns_used())\n",
    "\n",
    "hh = hh[hh.income_quartile == 1]\n",
    "b = b.fillna(0)\n",
    "hh = hh.fillna(0)\n",
    "\n",
    "print hlcm1_model.fit(hh, b, hh[hlcm1_model.choice_column])\n",
    "\n",
    "hlcm1_model.fit_parameters"
   ]
  },
  {
   "cell_type": "markdown",
   "metadata": {},
   "source": [
    "## Hedonic Estimation"
   ]
  },
  {
   "cell_type": "code",
   "execution_count": null,
   "metadata": {
    "collapsed": false,
    "scrolled": true
   },
   "outputs": [],
   "source": [
    "orca.run([\"rsh_estimate\"])"
   ]
  },
  {
   "cell_type": "code",
   "execution_count": null,
   "metadata": {
    "collapsed": false
   },
   "outputs": [],
   "source": [
    "orca.run([\"nrh_estimate\"])#"
   ]
  },
  {
   "cell_type": "markdown",
   "metadata": {},
   "source": [
    "# adjust hedonic model specification and update yamls based on P values"
   ]
  },
  {
   "cell_type": "code",
   "execution_count": null,
   "metadata": {
    "collapsed": true
   },
   "outputs": [],
   "source": [
    "import math\n",
    "import yaml\n",
    "conf = \"./configs/rsh\""
   ]
  },
  {
   "cell_type": "code",
   "execution_count": null,
   "metadata": {
    "collapsed": false,
    "scrolled": false
   },
   "outputs": [],
   "source": [
    "with open(conf + \".yaml\", 'r') as stream:\n",
    "    dict_spec = yaml.load(stream)"
   ]
  },
  {
   "cell_type": "code",
   "execution_count": null,
   "metadata": {
    "collapsed": true
   },
   "outputs": [],
   "source": [
    "droplist =['building_id', 'building_type_id', 'non_residential_sqft', 'parcel_id', \n",
    "           'improvement_value', 'sqft_price_nonres', 'sqft_price_res', 'city_id', \n",
    "           'parcels_max_far',  'semmcd','parcels_county_id', 'nodeid_drv', 'zones_taz',\n",
    "           'parcels_max_dua', 'parcels_allowed',  'parcels_school_id',  'parcels_land_cost', \n",
    "           'y', 'building_type_id_is_99', 'x', 'parcels_sev_value', \n",
    "           'zones_acres', 'general_type', 'parcels_land_use_type_id', 'zones_tazce10_n', \n",
    "           'parcels_census_bg_id', 'large_area_id', 'parcels_max_height']"
   ]
  },
  {
   "cell_type": "code",
   "execution_count": null,
   "metadata": {
    "collapsed": false
   },
   "outputs": [],
   "source": [
    "total=0\n",
    "for m in dict_spec['models'].keys():\n",
    "    print 'model: ', m\n",
    "    \n",
    "    if not(m in [42,43,341,541,9341,9941,11541,12541,14741,16141,42.0,41.0]):\n",
    "        mdl = dict_spec['models'][m]['model_expression'].replace(\"  \",\" \")\n",
    "        for item in droplist:\n",
    "            mdl  = mdl.replace(' + ' + item + ' + ',' + ')\n",
    "\n",
    "        rmlist = []\n",
    "        for k, v in dict_spec['models'][m]['fit_parameters']['P-Values'].iteritems():\n",
    "            if (v > 0.05) or (math.isnan(v)):\n",
    "                mdl  = mdl.replace('+ ' + k + ' +',' +')\n",
    "                rmlist.append(k)\n",
    "                total += 1\n",
    "        print rmlist\n",
    "\n",
    "        dict_spec['models'][m]['model_expression'] = mdl\n",
    "print \"total bad vars before changes: \", total    \n",
    "    "
   ]
  },
  {
   "cell_type": "code",
   "execution_count": null,
   "metadata": {
    "collapsed": true
   },
   "outputs": [],
   "source": [
    "with open(conf + \"_new.yaml\" , 'w') as outfile:\n",
    "    yaml.dump(dict_spec, outfile, default_flow_style=False, indent=4)"
   ]
  },
  {
   "cell_type": "code",
   "execution_count": null,
   "metadata": {
    "collapsed": true
   },
   "outputs": [],
   "source": []
  },
  {
   "cell_type": "markdown",
   "metadata": {},
   "source": [
    "## LCM Estimation"
   ]
  },
  {
   "cell_type": "code",
   "execution_count": null,
   "metadata": {
    "collapsed": false
   },
   "outputs": [],
   "source": [
    "orca.run([\"elcm_estimate\"])"
   ]
  },
  {
   "cell_type": "code",
   "execution_count": null,
   "metadata": {
    "collapsed": true
   },
   "outputs": [],
   "source": []
  },
  {
   "cell_type": "code",
   "execution_count": null,
   "metadata": {
    "collapsed": true
   },
   "outputs": [],
   "source": []
  },
  {
   "cell_type": "markdown",
   "metadata": {},
   "source": [
    "# data inspection"
   ]
  },
  {
   "cell_type": "code",
   "execution_count": null,
   "metadata": {
    "collapsed": true
   },
   "outputs": [],
   "source": [
    "# EXTRACT BUILDING data for external estimation\n",
    "\n",
    "#buildings=orca.get_table('buildings').to_frame()\n",
    "#buildings.dropna(axis=1, how='any', inplace=True)\n",
    "#store=pd.HDFStore('hedonic.h5')\n",
    "#buildings.to_hdf(store, 'buildings', complib='blosc', complevel=9)\n",
    "#store.close()\n"
   ]
  },
  {
   "cell_type": "code",
   "execution_count": null,
   "metadata": {
    "collapsed": false
   },
   "outputs": [],
   "source": [
    "df=orca.get_table('nodes_walk').to_frame()"
   ]
  },
  {
   "cell_type": "code",
   "execution_count": null,
   "metadata": {
    "collapsed": false
   },
   "outputs": [],
   "source": [
    "df[df.isnull().any(axis=1)]"
   ]
  },
  {
   "cell_type": "code",
   "execution_count": null,
   "metadata": {
    "collapsed": true
   },
   "outputs": [],
   "source": [
    "df=orca.get_table('zones').to_frame()"
   ]
  },
  {
   "cell_type": "code",
   "execution_count": null,
   "metadata": {
    "collapsed": true
   },
   "outputs": [],
   "source": []
  }
 ],
 "metadata": {
  "anaconda-cloud": {},
  "kernelspec": {
   "display_name": "Python [Root]",
   "language": "python",
   "name": "Python [Root]"
  },
  "language_info": {
   "codemirror_mode": {
    "name": "ipython",
    "version": 2
   },
   "file_extension": ".py",
   "mimetype": "text/x-python",
   "name": "python",
   "nbconvert_exporter": "python",
   "pygments_lexer": "ipython2",
   "version": "2.7.12"
  }
 },
 "nbformat": 4,
 "nbformat_minor": 0
}
