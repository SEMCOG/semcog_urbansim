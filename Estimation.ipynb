{
 "metadata": {
  "name": "",
  "signature": "sha256:e76f133a64ab980b7b75484c387db05db140e4952271acf9206da7ee822f0693"
 },
 "nbformat": 3,
 "nbformat_minor": 0,
 "worksheets": [
  {
   "cells": [
    {
     "cell_type": "code",
     "collapsed": false,
     "input": [
      "%load_ext autoreload\n",
      "%autoreload 2\n",
      "import models\n",
      "import urbansim.sim.simulation as sim"
     ],
     "language": "python",
     "metadata": {},
     "outputs": [],
     "prompt_number": 1
    },
    {
     "cell_type": "code",
     "collapsed": false,
     "input": [
      "sim.run([\"build_networks\"])\n",
      "sim.run([\"neighborhood_vars\"])"
     ],
     "language": "python",
     "metadata": {},
     "outputs": [
      {
       "output_type": "stream",
       "stream": "stdout",
       "text": [
        "Running model 'neighborhood_vars'\n",
        "Computing accessibility variables\n",
        "Computing sum_residential_units\n",
        "    Fields available to accvar = residential_units, _node_id0\n",
        "    dataframe = buildings, varname=residential_units"
       ]
      },
      {
       "output_type": "stream",
       "stream": "stdout",
       "text": [
        "\n",
        "    radius = 1500, aggregation = AGG_SUM, decay = DECAY_LINEAR\n",
        "Computing sum_nonresidential_units"
       ]
      },
      {
       "output_type": "stream",
       "stream": "stdout",
       "text": [
        "\n",
        "    Fields available to accvar = job_spaces, _node_id0\n",
        "    dataframe = buildings, varname=job_spaces"
       ]
      },
      {
       "output_type": "stream",
       "stream": "stdout",
       "text": [
        "\n",
        "    radius = 1500, aggregation = AGG_SUM, decay = DECAY_LINEAR\n",
        "Computing ave_unit_sqft"
       ]
      },
      {
       "output_type": "stream",
       "stream": "stdout",
       "text": [
        "\n",
        "    Fields available to accvar = unit_sqft, general_type, _node_id0\n",
        "    Filters = ['general_type == \"Residential\"']"
       ]
      },
      {
       "output_type": "stream",
       "stream": "stdout",
       "text": [
        "\n",
        "    dataframe = buildings, varname=unit_sqft\n",
        "    radius = 1500, aggregation = AGG_AVE, decay = DECAY_FLAT\n",
        "Computing ave_lot_sqft"
       ]
      },
      {
       "output_type": "stream",
       "stream": "stdout",
       "text": [
        "\n",
        "    Fields available to accvar = unit_lot_size, _node_id0\n",
        "    dataframe = buildings, varname=unit_lot_size"
       ]
      },
      {
       "output_type": "stream",
       "stream": "stdout",
       "text": [
        "\n",
        "    radius = 1500, aggregation = AGG_AVE, decay = DECAY_FLAT\n",
        "Computing population"
       ]
      },
      {
       "output_type": "stream",
       "stream": "stdout",
       "text": [
        "\n",
        "    Fields available to accvar = persons, _node_id0\n",
        "    dataframe = households, varname=persons"
       ]
      },
      {
       "output_type": "stream",
       "stream": "stdout",
       "text": [
        "\n",
        "    radius = 1500, aggregation = AGG_SUM, decay = DECAY_LINEAR\n",
        "Computing poor"
       ]
      },
      {
       "output_type": "stream",
       "stream": "stdout",
       "text": [
        "\n",
        "    Fields available to accvar = persons, income, _node_id0\n",
        "    Filters = ['income < 40000']\n",
        "    dataframe = households, varname=persons\n",
        "    radius = 1500, aggregation = AGG_SUM, decay = DECAY_LINEAR\n",
        "Computing renters"
       ]
      },
      {
       "output_type": "stream",
       "stream": "stdout",
       "text": [
        "\n",
        "    Fields available to accvar = tenure, _node_id0\n",
        "    Filters = ['tenure == 2']\n",
        "    dataframe = households, varname=None\n",
        "    radius = 1500, aggregation = AGG_SUM, decay = DECAY_LINEAR\n",
        "Computing sfdu"
       ]
      },
      {
       "output_type": "stream",
       "stream": "stdout",
       "text": [
        "\n",
        "    Fields available to accvar = building_type_id, _node_id0\n",
        "    Filters = ['building_type_id == 1']\n",
        "    dataframe = buildings, varname=None\n",
        "    radius = 1500, aggregation = AGG_SUM, decay = DECAY_LINEAR\n",
        "Computing hhsize"
       ]
      },
      {
       "output_type": "stream",
       "stream": "stdout",
       "text": [
        "\n",
        "    Fields available to accvar = persons, _node_id0\n",
        "    dataframe = households, varname=persons\n",
        "    radius = 1500, aggregation = AGG_AVE, decay = DECAY_FLAT\n",
        "Computing jobs"
       ]
      },
      {
       "output_type": "stream",
       "stream": "stdout",
       "text": [
        "\n",
        "    Fields available to accvar = _node_id0\n",
        "    dataframe = jobs, varname=None"
       ]
      },
      {
       "output_type": "stream",
       "stream": "stdout",
       "text": [
        "\n",
        "    radius = 1500, aggregation = AGG_SUM, decay = DECAY_LINEAR\n",
        "Computing ave_income"
       ]
      },
      {
       "output_type": "stream",
       "stream": "stdout",
       "text": [
        "\n",
        "    Fields available to accvar = income, _node_id0\n",
        "    dataframe = households, varname=income\n",
        "    radius = 1500, aggregation = AGG_AVE, decay = DECAY_FLAT\n",
        "Done"
       ]
      },
      {
       "output_type": "stream",
       "stream": "stdout",
       "text": [
        "\n"
       ]
      }
     ],
     "prompt_number": 3
    },
    {
     "cell_type": "heading",
     "level": 2,
     "metadata": {},
     "source": [
      "Hedonic Estimation"
     ]
    },
    {
     "cell_type": "code",
     "collapsed": false,
     "input": [
      "sim.run([\"rsh_estimate\"])"
     ],
     "language": "python",
     "metadata": {},
     "outputs": [
      {
       "output_type": "stream",
       "stream": "stdout",
       "text": [
        "Running model 'rsh_estimate'\n",
        "                               OLS Regression Results                               \n",
        "====================================================================================\n",
        "Dep. Variable:     np.log1p(sale_price_flt)   R-squared:                       0.217\n",
        "Model:                                  OLS   Adj. R-squared:                  0.216\n",
        "Method:                       Least Squares   F-statistic:                     302.7\n",
        "Date:                      Mon, 04 Aug 2014   Prob (F-statistic):               0.00\n",
        "Time:                              13:49:30   Log-Likelihood:                -4992.8\n",
        "No. Observations:                      8738   AIC:                         1.000e+04\n",
        "Df Residuals:                          8729   BIC:                         1.007e+04\n",
        "Df Model:                                 8                                         \n",
        "================================================================================================\n",
        "                                   coef    std err          t      P>|t|      [95.0% Conf. Int.]\n",
        "------------------------------------------------------------------------------------------------\n",
        "Intercept                        8.6208      0.113     76.353      0.000         8.399     8.842\n",
        "I(year_built < 1940)[T.True]     0.0436      0.010      4.357      0.000         0.024     0.063\n",
        "I(year_built > 2005)[T.True]     0.0713      0.076      0.932      0.351        -0.079     0.221\n",
        "np.log1p(unit_sqft)             -0.4346      0.010    -44.067      0.000        -0.454    -0.415\n",
        "np.log1p(unit_lot_size)          0.0634      0.007      8.871      0.000         0.049     0.077\n",
        "sum_residential_units            0.0837      0.007     12.529      0.000         0.071     0.097\n",
        "ave_unit_sqft                   -0.0016      0.026     -0.060      0.952        -0.053     0.050\n",
        "ave_lot_sqft                    -0.2809      0.016    -17.135      0.000        -0.313    -0.249\n",
        "ave_income                       0.1621      0.014     11.254      0.000         0.134     0.190\n",
        "==============================================================================\n",
        "Omnibus:                      867.822   Durbin-Watson:                   1.324\n",
        "Prob(Omnibus):                  0.000   Jarque-Bera (JB):             2405.219\n",
        "Skew:                          -0.551   Prob(JB):                         0.00\n",
        "Kurtosis:                       5.322   Cond. No.                         515.\n",
        "=============================================================================="
       ]
      },
      {
       "output_type": "stream",
       "stream": "stdout",
       "text": [
        "\n"
       ]
      }
     ],
     "prompt_number": 4
    },
    {
     "cell_type": "code",
     "collapsed": false,
     "input": [
      "sim.run([\"nrh_estimate\"])"
     ],
     "language": "python",
     "metadata": {},
     "outputs": [
      {
       "output_type": "stream",
       "stream": "stdout",
       "text": [
        "Running model 'nrh_estimate'\n",
        "REGRESSION RESULTS FOR SEGMENT Retail\n"
       ]
      },
      {
       "output_type": "stream",
       "stream": "stdout",
       "text": [
        "\n",
        "                            OLS Regression Results                            \n",
        "==============================================================================\n",
        "Dep. Variable:         np.log1p(rent)   R-squared:                       0.053\n",
        "Model:                            OLS   Adj. R-squared:                  0.013\n",
        "Method:                 Least Squares   F-statistic:                     1.316\n",
        "Date:                Mon, 04 Aug 2014   Prob (F-statistic):              0.262\n",
        "Time:                        13:49:31   Log-Likelihood:                -73.855\n",
        "No. Observations:                 124   AIC:                             159.7\n",
        "Df Residuals:                     118   BIC:                             176.6\n",
        "Df Model:                           5                                         \n",
        "================================================================================================\n",
        "                                   coef    std err          t      P>|t|      [95.0% Conf. Int.]\n",
        "------------------------------------------------------------------------------------------------\n",
        "Intercept                       -0.8609      2.476     -0.348      0.729        -5.765     4.043\n",
        "I(year_built < 1940)[T.True]    -0.0941      0.105     -0.896      0.372        -0.302     0.114\n",
        "I(year_built > 2005)[T.True]    -0.1046      0.246     -0.426      0.671        -0.591     0.382\n",
        "np.log1p(stories)               -0.0755      0.110     -0.684      0.495        -0.294     0.143\n",
        "ave_income                       0.2976      0.193      1.545      0.125        -0.084     0.679\n",
        "jobs                             0.1151      0.046      2.482      0.014         0.023     0.207\n",
        "==============================================================================\n",
        "Omnibus:                       15.597   Durbin-Watson:                   2.433\n",
        "Prob(Omnibus):                  0.000   Jarque-Bera (JB):               31.800\n",
        "Skew:                           0.492   Prob(JB):                     1.24e-07\n",
        "Kurtosis:                       5.277   Cond. No.                         910.\n",
        "==============================================================================\n",
        "REGRESSION RESULTS FOR SEGMENT Office\n",
        "\n",
        "                            OLS Regression Results                            \n",
        "==============================================================================\n",
        "Dep. Variable:         np.log1p(rent)   R-squared:                       0.044\n",
        "Model:                            OLS   Adj. R-squared:                  0.031\n",
        "Method:                 Least Squares   F-statistic:                     3.490\n",
        "Date:                Mon, 04 Aug 2014   Prob (F-statistic):            0.00426\n",
        "Time:                        13:49:31   Log-Likelihood:                -168.79\n",
        "No. Observations:                 385   AIC:                             349.6\n",
        "Df Residuals:                     379   BIC:                             373.3\n",
        "Df Model:                           5                                         \n",
        "================================================================================================\n",
        "                                   coef    std err          t      P>|t|      [95.0% Conf. Int.]\n",
        "------------------------------------------------------------------------------------------------\n",
        "Intercept                        3.5244      0.207     17.017      0.000         3.117     3.932\n",
        "I(year_built < 1940)[T.True]    -0.0787      0.046     -1.698      0.090        -0.170     0.012\n",
        "I(year_built > 2005)[T.True]    -0.0188      0.173     -0.109      0.913        -0.358     0.321\n",
        "np.log1p(stories)                0.0493      0.035      1.401      0.162        -0.020     0.118\n",
        "ave_income                      -0.0417      0.023     -1.831      0.068        -0.086     0.003\n",
        "jobs                             0.0194      0.018      1.079      0.281        -0.016     0.055\n",
        "==============================================================================\n",
        "Omnibus:                      106.606   Durbin-Watson:                   1.811\n",
        "Prob(Omnibus):                  0.000   Jarque-Bera (JB):              544.913\n",
        "Skew:                           1.074   Prob(JB):                    4.72e-119\n",
        "Kurtosis:                       8.418   Cond. No.                         167.\n",
        "==============================================================================\n",
        "REGRESSION RESULTS FOR SEGMENT Industrial\n",
        "\n",
        "                            OLS Regression Results                            \n",
        "==============================================================================\n",
        "Dep. Variable:         np.log1p(rent)   R-squared:                       0.984\n",
        "Model:                            OLS   Adj. R-squared:                  0.983\n",
        "Method:                 Least Squares   F-statistic:                     931.2\n",
        "Date:                Mon, 04 Aug 2014   Prob (F-statistic):           1.19e-66\n",
        "Time:                        13:49:31   Log-Likelihood:                -21.284\n",
        "No. Observations:                  81   AIC:                             52.57\n",
        "Df Residuals:                      76   BIC:                             64.54\n",
        "Df Model:                           5                                         \n",
        "================================================================================================\n",
        "                                   coef    std err          t      P>|t|      [95.0% Conf. Int.]\n",
        "------------------------------------------------------------------------------------------------\n",
        "Intercept                        2.5185      0.347      7.266      0.000         1.828     3.209\n",
        "I(year_built < 1940)[T.True]     0.0130      0.083      0.157      0.876        -0.152     0.178\n",
        "I(year_built > 2005)[T.True] -9.623e-17   1.68e-16     -0.573      0.568     -4.31e-16  2.38e-16\n",
        "np.log1p(stories)                0.0788      0.134      0.588      0.558        -0.188     0.346\n",
        "ave_income                      -0.0388      0.039     -0.994      0.323        -0.116     0.039\n",
        "jobs                             0.0338      0.035      0.956      0.342        -0.037     0.104\n",
        "==============================================================================\n",
        "Omnibus:                        8.537   Durbin-Watson:                   1.893\n",
        "Prob(Omnibus):                  0.014   Jarque-Bera (JB):               18.123\n",
        "Skew:                           0.117   Prob(JB):                     0.000116\n",
        "Kurtosis:                       5.305   Cond. No.                     6.08e+09\n",
        "==============================================================================\n",
        "\n",
        "Warnings:\n",
        "[1] The smallest eigenvalue is 4.44e-16. This might indicate that there are\n",
        "strong multicollinearity problems or that the design matrix is singular."
       ]
      },
      {
       "output_type": "stream",
       "stream": "stdout",
       "text": [
        "\n"
       ]
      }
     ],
     "prompt_number": 6
    },
    {
     "cell_type": "heading",
     "level": 2,
     "metadata": {},
     "source": [
      "LCM Estimation"
     ]
    },
    {
     "cell_type": "code",
     "collapsed": false,
     "input": [
      "sim.run([\"hlcm_estimate\"])"
     ],
     "language": "python",
     "metadata": {},
     "outputs": [
      {
       "output_type": "stream",
       "stream": "stdout",
       "text": [
        "Running model 'hlcmo_estimate'\n",
        "Dropped 14198 rows because they contained nans"
       ]
      },
      {
       "output_type": "stream",
       "stream": "stdout",
       "text": [
        "\n",
        "LCM RESULTS FOR SEGMENT 0\n"
       ]
      },
      {
       "output_type": "stream",
       "stream": "stdout",
       "text": [
        "\n",
        "Null Log-liklihood: -65540.782\n",
        "Log-liklihood at convergence: -64538.480\n",
        "Log-liklihood Ratio: 0.015\n",
        "\n",
        "+-----------------------------------+-------------+------------+---------+\n",
        "| Component                         | Coefficient | Std. Error | T-Score |\n",
        "+-----------------------------------+-------------+------------+---------+\n",
        "| np.log1p(residential_sales_price) |    -1.813   |   0.158    | -11.458 |\n",
        "| np.log1p(unit_sqft)               |    -0.878   |   0.065    | -13.562 |\n",
        "| sum_residential_units             |    -1.712   |   0.071    | -24.273 |\n",
        "| ave_unit_sqft                     |    0.153    |   0.059    |  2.588  |\n",
        "| ave_lot_sqft                      |    -0.440   |   0.053    |  -8.377 |\n",
        "| ave_income                        |    -1.307   |   0.146    |  -8.967 |\n",
        "| hhsize                            |    -3.000   |   0.142    | -21.189 |\n",
        "| jobs                              |    0.134    |   0.020    |  6.564  |\n",
        "| poor                              |    -0.166   |   0.079    |  -2.101 |\n",
        "| population                        |    1.995    |   0.072    |  27.624 |\n",
        "+-----------------------------------+-------------+------------+---------+\n",
        "LCM RESULTS FOR SEGMENT 1\n",
        "\n",
        "Null Log-liklihood: -67926.260\n",
        "Log-liklihood at convergence: -67352.881\n",
        "Log-liklihood Ratio: 0.008\n",
        "\n",
        "+-----------------------------------+-------------+------------+---------+\n",
        "| Component                         | Coefficient | Std. Error | T-Score |\n",
        "+-----------------------------------+-------------+------------+---------+\n",
        "| np.log1p(residential_sales_price) |    -2.426   |   0.151    | -16.076 |\n",
        "| np.log1p(unit_sqft)               |    -1.171   |   0.062    | -18.862 |\n",
        "| sum_residential_units             |    -1.119   |   0.070    | -16.000 |\n",
        "| ave_unit_sqft                     |    0.148    |   0.056    |  2.633  |\n",
        "| ave_lot_sqft                      |    -0.721   |   0.052    | -13.916 |\n",
        "| ave_income                        |    -0.291   |   0.141    |  -2.067 |\n",
        "| hhsize                            |    -2.339   |   0.142    | -16.451 |\n",
        "| jobs                              |    0.114    |   0.020    |  5.604  |\n",
        "| poor                              |    -0.079   |   0.077    |  -1.028 |\n",
        "| population                        |    1.353    |   0.072    |  18.878 |\n",
        "+-----------------------------------+-------------+------------+---------+\n",
        "LCM RESULTS FOR SEGMENT 2\n",
        "\n",
        "Null Log-liklihood: -67990.733\n",
        "Log-liklihood at convergence: -67445.162\n",
        "Log-liklihood Ratio: 0.008\n",
        "\n",
        "+-----------------------------------+-------------+------------+---------+\n",
        "| Component                         | Coefficient | Std. Error | T-Score |\n",
        "+-----------------------------------+-------------+------------+---------+\n",
        "| np.log1p(residential_sales_price) |    -2.699   |   0.153    | -17.586 |\n",
        "| np.log1p(unit_sqft)               |    -1.315   |   0.062    | -21.117 |\n",
        "| sum_residential_units             |    -0.983   |   0.070    | -14.113 |\n",
        "| ave_unit_sqft                     |    0.060    |   0.056    |  1.070  |\n",
        "| ave_lot_sqft                      |    -0.688   |   0.053    | -13.110 |\n",
        "| ave_income                        |    -0.289   |   0.144    |  -2.003 |\n",
        "| hhsize                            |    -2.002   |   0.143    | -14.012 |\n",
        "| jobs                              |    0.123    |   0.020    |  6.085  |\n",
        "| poor                              |    -0.498   |   0.078    |  -6.346 |\n",
        "| population                        |    1.629    |   0.074    |  22.036 |\n",
        "+-----------------------------------+-------------+------------+---------+\n",
        "LCM RESULTS FOR SEGMENT 3\n",
        "\n",
        "Null Log-liklihood: -68220.991\n",
        "Log-liklihood at convergence: -67181.828\n",
        "Log-liklihood Ratio: 0.015\n",
        "\n",
        "+-----------------------------------+-------------+------------+---------+\n",
        "| Component                         | Coefficient | Std. Error | T-Score |\n",
        "+-----------------------------------+-------------+------------+---------+\n",
        "| np.log1p(residential_sales_price) |    -3.000   |   0.145    | -20.682 |\n",
        "| np.log1p(unit_sqft)               |    -1.474   |   0.059    | -24.924 |\n",
        "| sum_residential_units             |    -1.088   |   0.068    | -16.016 |\n",
        "| ave_unit_sqft                     |    0.244    |   0.057    |  4.263  |\n",
        "| ave_lot_sqft                      |    -0.814   |   0.052    | -15.565 |\n",
        "| ave_income                        |    1.054    |   0.138    |  7.627  |\n",
        "| hhsize                            |    -3.000   |   0.145    | -20.757 |\n",
        "| jobs                              |    0.201    |   0.020    |  9.796  |\n",
        "| poor                              |    -0.328   |   0.077    |  -4.279 |\n",
        "| population                        |    1.519    |   0.071    |  21.368 |\n",
        "+-----------------------------------+-------------+------------+---------+\n"
       ]
      }
     ],
     "prompt_number": 8
    },
    {
     "cell_type": "code",
     "collapsed": false,
     "input": [
      "sim.run([\"elcm_estimate\"])"
     ],
     "language": "python",
     "metadata": {},
     "outputs": [
      {
       "output_type": "stream",
       "stream": "stdout",
       "text": [
        "Running model 'hlcmr_estimate'\n",
        "Dropped 11825 rows because they contained nans"
       ]
      },
      {
       "output_type": "stream",
       "stream": "stdout",
       "text": [
        "\n",
        "LCM RESULTS FOR SEGMENT 0\n"
       ]
      },
      {
       "output_type": "stream",
       "stream": "stdout",
       "text": [
        "\n",
        "Null Log-liklihood: -23025.851\n",
        "Log-liklihood at convergence: -18233.270\n",
        "Log-liklihood Ratio: 0.208\n",
        "\n",
        "+----------------------------+-------------+------------+---------+\n",
        "| Component                  | Coefficient | Std. Error | T-Score |\n",
        "+----------------------------+-------------+------------+---------+\n",
        "| np.log1p(residential_rent) |    -3.000   |   0.819    |  -3.663 |\n",
        "| np.log1p(unit_sqft)        |    -0.909   |   0.133    |  -6.819 |\n",
        "| sum_residential_units      |    -0.322   |   0.129    |  -2.502 |\n",
        "| ave_unit_sqft              |    -0.036   |   0.106    |  -0.341 |\n",
        "| ave_lot_sqft               |    0.712    |   0.053    |  13.497 |\n",
        "| ave_income                 |    -1.051   |   0.134    |  -7.835 |\n",
        "| hhsize                     |    -3.000   |   0.274    | -10.957 |\n",
        "| jobs                       |    0.321    |   0.060    |  5.341  |\n",
        "| poor                       |    0.846    |   0.097    |  8.703  |\n",
        "+----------------------------+-------------+------------+---------+\n",
        "LCM RESULTS FOR SEGMENT 1\n",
        "\n",
        "Null Log-liklihood: -23025.851\n",
        "Log-liklihood at convergence: -20099.998\n",
        "Log-liklihood Ratio: 0.127\n",
        "\n",
        "+----------------------------+-------------+------------+---------+\n",
        "| Component                  | Coefficient | Std. Error | T-Score |\n",
        "+----------------------------+-------------+------------+---------+\n",
        "| np.log1p(residential_rent) |    -3.000   |   0.798    |  -3.761 |\n",
        "| np.log1p(unit_sqft)        |    -1.030   |   0.131    |  -7.866 |\n",
        "| sum_residential_units      |    0.239    |   0.127    |  1.878  |\n",
        "| ave_unit_sqft              |    -0.190   |   0.104    |  -1.825 |\n",
        "| ave_lot_sqft               |    0.412    |   0.046    |  8.904  |\n",
        "| ave_income                 |    -0.813   |   0.133    |  -6.108 |\n",
        "| hhsize                     |    -3.000   |   0.272    | -11.022 |\n",
        "| jobs                       |    0.086    |   0.059    |  1.459  |\n",
        "| poor                       |    0.312    |   0.096    |  3.246  |\n",
        "+----------------------------+-------------+------------+---------+\n",
        "LCM RESULTS FOR SEGMENT 2\n",
        "\n",
        "Null Log-liklihood: -23025.851\n",
        "Log-liklihood at convergence: -20684.476\n",
        "Log-liklihood Ratio: 0.102\n",
        "\n",
        "+----------------------------+-------------+------------+---------+\n",
        "| Component                  | Coefficient | Std. Error | T-Score |\n",
        "+----------------------------+-------------+------------+---------+\n",
        "| np.log1p(residential_rent) |    -3.000   |   0.723    |  -4.147 |\n",
        "| np.log1p(unit_sqft)        |    -1.151   |   0.119    |  -9.651 |\n",
        "| sum_residential_units      |    0.612    |   0.121    |  5.059  |\n",
        "| ave_unit_sqft              |    -0.330   |   0.104    |  -3.186 |\n",
        "| ave_lot_sqft               |    0.194    |   0.048    |  4.045  |\n",
        "| ave_income                 |    -0.122   |   0.129    |  -0.949 |\n",
        "| hhsize                     |    -3.000   |   0.268    | -11.188 |\n",
        "| jobs                       |    0.111    |   0.054    |  2.069  |\n",
        "| poor                       |    -0.276   |   0.090    |  -3.070 |\n",
        "+----------------------------+-------------+------------+---------+\n",
        "LCM RESULTS FOR SEGMENT 3\n",
        "\n",
        "Null Log-liklihood: -23025.851\n",
        "Log-liklihood at convergence: -20552.425\n",
        "Log-liklihood Ratio: 0.107\n",
        "\n",
        "+----------------------------+-------------+------------+---------+\n",
        "| Component                  | Coefficient | Std. Error | T-Score |\n",
        "+----------------------------+-------------+------------+---------+\n",
        "| np.log1p(residential_rent) |    -3.000   |   0.697    |  -4.303 |\n",
        "| np.log1p(unit_sqft)        |    -1.198   |   0.116    | -10.366 |\n",
        "| sum_residential_units      |    0.656    |   0.125    |  5.267  |\n",
        "| ave_unit_sqft              |    -0.363   |   0.103    |  -3.541 |\n",
        "| ave_lot_sqft               |    0.082    |   0.056    |  1.480  |\n",
        "| ave_income                 |    1.008    |   0.128    |  7.850  |\n",
        "| hhsize                     |    -3.000   |   0.285    | -10.512 |\n",
        "| jobs                       |    0.271    |   0.054    |  5.020  |\n",
        "| poor                       |    -0.523   |   0.094    |  -5.561 |\n",
        "+----------------------------+-------------+------------+---------+\n"
       ]
      }
     ],
     "prompt_number": 9
    }
   ],
   "metadata": {}
  }
 ]
}