{
 "cells": [
  {
   "cell_type": "code",
   "execution_count": 1,
   "metadata": {},
   "outputs": [],
   "source": [
    "%%capture\n",
    "import numpy as np\n",
    "import pandas as pd\n",
    "from urbansim.models import MNLDiscreteChoiceModel\n",
    "\n",
    "import orca\n",
    "import datasources\n",
    "import variables\n",
    "import models\n",
    "\n",
    "import warnings\n",
    "warnings.filterwarnings(\"ignore\")"
   ]
  },
  {
   "cell_type": "markdown",
   "metadata": {},
   "source": [
    "### CONCEPTUAL\n",
    "The concept of these ELCMs estimations migrates the idea of the choosers being all jobs in the table to the choosers being those jobs that were unallocated after the transition and relocation models. <br>\n",
    "#### STEPS\n",
    "The following steps are executed in order to estime chooser-mover elcms. Before running any model, the base jobs table is saved as “jobs_2015” in order to keep the building_id column which will correspond to the choice column. Then, the transition and relocation models are run. With a new jobs orca table where there are relocated and transitioned (new and dropped) jobs, the building_id is merged to the “jobs_2015” table based on the job_id. The new building_id column is called “building_id_2016”. This column will reveal with a value of -1 those jobs that were relocated after running the models.\n",
    "Afterwards, the choosers and alternatives tables are created to estimate models at a unit-level (hh_spot_id), using the choices of the jobs as the building_id of the “jobs_2015” and those alternatives with vacant jobs spaces after the models ran. In the estimation stage, the jobs that have now a building_id_2016 == -1 will be tagged as movers. So, the fitting is done with the choosers as the jobs with `building_id_2016 == -1`, with their observed choice before being unplaced, and the alternatives are all units with vacant_jobs_soaces > 0, so buildings that after the relocation and transition model were left with space."
   ]
  },
  {
   "cell_type": "code",
   "execution_count": 2,
   "metadata": {},
   "outputs": [],
   "source": [
    "import warnings\n",
    "warnings.filterwarnings(\"ignore\")"
   ]
  },
  {
   "cell_type": "code",
   "execution_count": 3,
   "metadata": {},
   "outputs": [
    {
     "data": {
      "text/html": [
       "\n",
       "    <div class=\"bk-root\">\n",
       "        <a href=\"https://bokeh.pydata.org\" target=\"_blank\" class=\"bk-logo bk-logo-small bk-logo-notebook\"></a>\n",
       "        <span id=\"1001\">Loading BokehJS ...</span>\n",
       "    </div>"
      ]
     },
     "metadata": {},
     "output_type": "display_data"
    },
    {
     "data": {
      "application/javascript": [
       "\n",
       "(function(root) {\n",
       "  function now() {\n",
       "    return new Date();\n",
       "  }\n",
       "\n",
       "  var force = true;\n",
       "\n",
       "  if (typeof root._bokeh_onload_callbacks === \"undefined\" || force === true) {\n",
       "    root._bokeh_onload_callbacks = [];\n",
       "    root._bokeh_is_loading = undefined;\n",
       "  }\n",
       "\n",
       "  var JS_MIME_TYPE = 'application/javascript';\n",
       "  var HTML_MIME_TYPE = 'text/html';\n",
       "  var EXEC_MIME_TYPE = 'application/vnd.bokehjs_exec.v0+json';\n",
       "  var CLASS_NAME = 'output_bokeh rendered_html';\n",
       "\n",
       "  /**\n",
       "   * Render data to the DOM node\n",
       "   */\n",
       "  function render(props, node) {\n",
       "    var script = document.createElement(\"script\");\n",
       "    node.appendChild(script);\n",
       "  }\n",
       "\n",
       "  /**\n",
       "   * Handle when an output is cleared or removed\n",
       "   */\n",
       "  function handleClearOutput(event, handle) {\n",
       "    var cell = handle.cell;\n",
       "\n",
       "    var id = cell.output_area._bokeh_element_id;\n",
       "    var server_id = cell.output_area._bokeh_server_id;\n",
       "    // Clean up Bokeh references\n",
       "    if (id != null && id in Bokeh.index) {\n",
       "      Bokeh.index[id].model.document.clear();\n",
       "      delete Bokeh.index[id];\n",
       "    }\n",
       "\n",
       "    if (server_id !== undefined) {\n",
       "      // Clean up Bokeh references\n",
       "      var cmd = \"from bokeh.io.state import curstate; print(curstate().uuid_to_server['\" + server_id + \"'].get_sessions()[0].document.roots[0]._id)\";\n",
       "      cell.notebook.kernel.execute(cmd, {\n",
       "        iopub: {\n",
       "          output: function(msg) {\n",
       "            var id = msg.content.text.trim();\n",
       "            if (id in Bokeh.index) {\n",
       "              Bokeh.index[id].model.document.clear();\n",
       "              delete Bokeh.index[id];\n",
       "            }\n",
       "          }\n",
       "        }\n",
       "      });\n",
       "      // Destroy server and session\n",
       "      var cmd = \"import bokeh.io.notebook as ion; ion.destroy_server('\" + server_id + \"')\";\n",
       "      cell.notebook.kernel.execute(cmd);\n",
       "    }\n",
       "  }\n",
       "\n",
       "  /**\n",
       "   * Handle when a new output is added\n",
       "   */\n",
       "  function handleAddOutput(event, handle) {\n",
       "    var output_area = handle.output_area;\n",
       "    var output = handle.output;\n",
       "\n",
       "    // limit handleAddOutput to display_data with EXEC_MIME_TYPE content only\n",
       "    if ((output.output_type != \"display_data\") || (!output.data.hasOwnProperty(EXEC_MIME_TYPE))) {\n",
       "      return\n",
       "    }\n",
       "\n",
       "    var toinsert = output_area.element.find(\".\" + CLASS_NAME.split(' ')[0]);\n",
       "\n",
       "    if (output.metadata[EXEC_MIME_TYPE][\"id\"] !== undefined) {\n",
       "      toinsert[toinsert.length - 1].firstChild.textContent = output.data[JS_MIME_TYPE];\n",
       "      // store reference to embed id on output_area\n",
       "      output_area._bokeh_element_id = output.metadata[EXEC_MIME_TYPE][\"id\"];\n",
       "    }\n",
       "    if (output.metadata[EXEC_MIME_TYPE][\"server_id\"] !== undefined) {\n",
       "      var bk_div = document.createElement(\"div\");\n",
       "      bk_div.innerHTML = output.data[HTML_MIME_TYPE];\n",
       "      var script_attrs = bk_div.children[0].attributes;\n",
       "      for (var i = 0; i < script_attrs.length; i++) {\n",
       "        toinsert[toinsert.length - 1].firstChild.setAttribute(script_attrs[i].name, script_attrs[i].value);\n",
       "      }\n",
       "      // store reference to server id on output_area\n",
       "      output_area._bokeh_server_id = output.metadata[EXEC_MIME_TYPE][\"server_id\"];\n",
       "    }\n",
       "  }\n",
       "\n",
       "  function register_renderer(events, OutputArea) {\n",
       "\n",
       "    function append_mime(data, metadata, element) {\n",
       "      // create a DOM node to render to\n",
       "      var toinsert = this.create_output_subarea(\n",
       "        metadata,\n",
       "        CLASS_NAME,\n",
       "        EXEC_MIME_TYPE\n",
       "      );\n",
       "      this.keyboard_manager.register_events(toinsert);\n",
       "      // Render to node\n",
       "      var props = {data: data, metadata: metadata[EXEC_MIME_TYPE]};\n",
       "      render(props, toinsert[toinsert.length - 1]);\n",
       "      element.append(toinsert);\n",
       "      return toinsert\n",
       "    }\n",
       "\n",
       "    /* Handle when an output is cleared or removed */\n",
       "    events.on('clear_output.CodeCell', handleClearOutput);\n",
       "    events.on('delete.Cell', handleClearOutput);\n",
       "\n",
       "    /* Handle when a new output is added */\n",
       "    events.on('output_added.OutputArea', handleAddOutput);\n",
       "\n",
       "    /**\n",
       "     * Register the mime type and append_mime function with output_area\n",
       "     */\n",
       "    OutputArea.prototype.register_mime_type(EXEC_MIME_TYPE, append_mime, {\n",
       "      /* Is output safe? */\n",
       "      safe: true,\n",
       "      /* Index of renderer in `output_area.display_order` */\n",
       "      index: 0\n",
       "    });\n",
       "  }\n",
       "\n",
       "  // register the mime type if in Jupyter Notebook environment and previously unregistered\n",
       "  if (root.Jupyter !== undefined) {\n",
       "    var events = require('base/js/events');\n",
       "    var OutputArea = require('notebook/js/outputarea').OutputArea;\n",
       "\n",
       "    if (OutputArea.prototype.mime_types().indexOf(EXEC_MIME_TYPE) == -1) {\n",
       "      register_renderer(events, OutputArea);\n",
       "    }\n",
       "  }\n",
       "\n",
       "  \n",
       "  if (typeof (root._bokeh_timeout) === \"undefined\" || force === true) {\n",
       "    root._bokeh_timeout = Date.now() + 5000;\n",
       "    root._bokeh_failed_load = false;\n",
       "  }\n",
       "\n",
       "  var NB_LOAD_WARNING = {'data': {'text/html':\n",
       "     \"<div style='background-color: #fdd'>\\n\"+\n",
       "     \"<p>\\n\"+\n",
       "     \"BokehJS does not appear to have successfully loaded. If loading BokehJS from CDN, this \\n\"+\n",
       "     \"may be due to a slow or bad network connection. Possible fixes:\\n\"+\n",
       "     \"</p>\\n\"+\n",
       "     \"<ul>\\n\"+\n",
       "     \"<li>re-rerun `output_notebook()` to attempt to load from CDN again, or</li>\\n\"+\n",
       "     \"<li>use INLINE resources instead, as so:</li>\\n\"+\n",
       "     \"</ul>\\n\"+\n",
       "     \"<code>\\n\"+\n",
       "     \"from bokeh.resources import INLINE\\n\"+\n",
       "     \"output_notebook(resources=INLINE)\\n\"+\n",
       "     \"</code>\\n\"+\n",
       "     \"</div>\"}};\n",
       "\n",
       "  function display_loaded() {\n",
       "    var el = document.getElementById(\"1001\");\n",
       "    if (el != null) {\n",
       "      el.textContent = \"BokehJS is loading...\";\n",
       "    }\n",
       "    if (root.Bokeh !== undefined) {\n",
       "      if (el != null) {\n",
       "        el.textContent = \"BokehJS \" + root.Bokeh.version + \" successfully loaded.\";\n",
       "      }\n",
       "    } else if (Date.now() < root._bokeh_timeout) {\n",
       "      setTimeout(display_loaded, 100)\n",
       "    }\n",
       "  }\n",
       "\n",
       "\n",
       "  function run_callbacks() {\n",
       "    try {\n",
       "      root._bokeh_onload_callbacks.forEach(function(callback) {\n",
       "        if (callback != null)\n",
       "          callback();\n",
       "      });\n",
       "    } finally {\n",
       "      delete root._bokeh_onload_callbacks\n",
       "    }\n",
       "    console.debug(\"Bokeh: all callbacks have finished\");\n",
       "  }\n",
       "\n",
       "  function load_libs(css_urls, js_urls, callback) {\n",
       "    if (css_urls == null) css_urls = [];\n",
       "    if (js_urls == null) js_urls = [];\n",
       "\n",
       "    root._bokeh_onload_callbacks.push(callback);\n",
       "    if (root._bokeh_is_loading > 0) {\n",
       "      console.debug(\"Bokeh: BokehJS is being loaded, scheduling callback at\", now());\n",
       "      return null;\n",
       "    }\n",
       "    if (js_urls == null || js_urls.length === 0) {\n",
       "      run_callbacks();\n",
       "      return null;\n",
       "    }\n",
       "    console.debug(\"Bokeh: BokehJS not loaded, scheduling load and callback at\", now());\n",
       "    root._bokeh_is_loading = css_urls.length + js_urls.length;\n",
       "\n",
       "    function on_load() {\n",
       "      root._bokeh_is_loading--;\n",
       "      if (root._bokeh_is_loading === 0) {\n",
       "        console.debug(\"Bokeh: all BokehJS libraries/stylesheets loaded\");\n",
       "        run_callbacks()\n",
       "      }\n",
       "    }\n",
       "\n",
       "    function on_error() {\n",
       "      console.error(\"failed to load \" + url);\n",
       "    }\n",
       "\n",
       "    for (var i = 0; i < css_urls.length; i++) {\n",
       "      var url = css_urls[i];\n",
       "      const element = document.createElement(\"link\");\n",
       "      element.onload = on_load;\n",
       "      element.onerror = on_error;\n",
       "      element.rel = \"stylesheet\";\n",
       "      element.type = \"text/css\";\n",
       "      element.href = url;\n",
       "      console.debug(\"Bokeh: injecting link tag for BokehJS stylesheet: \", url);\n",
       "      document.body.appendChild(element);\n",
       "    }\n",
       "\n",
       "    for (var i = 0; i < js_urls.length; i++) {\n",
       "      var url = js_urls[i];\n",
       "      var element = document.createElement('script');\n",
       "      element.onload = on_load;\n",
       "      element.onerror = on_error;\n",
       "      element.async = false;\n",
       "      element.src = url;\n",
       "      console.debug(\"Bokeh: injecting script tag for BokehJS library: \", url);\n",
       "      document.head.appendChild(element);\n",
       "    }\n",
       "  };var element = document.getElementById(\"1001\");\n",
       "  if (element == null) {\n",
       "    console.error(\"Bokeh: ERROR: autoload.js configured with elementid '1001' but no matching script tag was found. \")\n",
       "    return false;\n",
       "  }\n",
       "\n",
       "  function inject_raw_css(css) {\n",
       "    const element = document.createElement(\"style\");\n",
       "    element.appendChild(document.createTextNode(css));\n",
       "    document.body.appendChild(element);\n",
       "  }\n",
       "\n",
       "  var js_urls = [\"https://cdn.pydata.org/bokeh/release/bokeh-1.2.0.min.js\", \"https://cdn.pydata.org/bokeh/release/bokeh-widgets-1.2.0.min.js\", \"https://cdn.pydata.org/bokeh/release/bokeh-tables-1.2.0.min.js\", \"https://cdn.pydata.org/bokeh/release/bokeh-gl-1.2.0.min.js\"];\n",
       "  var css_urls = [\"https://cdn.pydata.org/bokeh/release/bokeh-1.2.0.min.css\", \"https://cdn.pydata.org/bokeh/release/bokeh-widgets-1.2.0.min.css\", \"https://cdn.pydata.org/bokeh/release/bokeh-tables-1.2.0.min.css\"];\n",
       "\n",
       "  var inline_js = [\n",
       "    function(Bokeh) {\n",
       "      Bokeh.set_log_level(\"info\");\n",
       "    },\n",
       "    \n",
       "    function(Bokeh) {\n",
       "      \n",
       "    },\n",
       "    function(Bokeh) {} // ensure no trailing comma for IE\n",
       "  ];\n",
       "\n",
       "  function run_inline_js() {\n",
       "    \n",
       "    if ((root.Bokeh !== undefined) || (force === true)) {\n",
       "      for (var i = 0; i < inline_js.length; i++) {\n",
       "        inline_js[i].call(root, root.Bokeh);\n",
       "      }if (force === true) {\n",
       "        display_loaded();\n",
       "      }} else if (Date.now() < root._bokeh_timeout) {\n",
       "      setTimeout(run_inline_js, 100);\n",
       "    } else if (!root._bokeh_failed_load) {\n",
       "      console.log(\"Bokeh: BokehJS failed to load within specified timeout.\");\n",
       "      root._bokeh_failed_load = true;\n",
       "    } else if (force !== true) {\n",
       "      var cell = $(document.getElementById(\"1001\")).parents('.cell').data().cell;\n",
       "      cell.output_area.append_execute_result(NB_LOAD_WARNING)\n",
       "    }\n",
       "\n",
       "  }\n",
       "\n",
       "  if (root._bokeh_is_loading === 0) {\n",
       "    console.debug(\"Bokeh: BokehJS loaded, going straight to plotting\");\n",
       "    run_inline_js();\n",
       "  } else {\n",
       "    load_libs(css_urls, js_urls, function() {\n",
       "      console.debug(\"Bokeh: BokehJS plotting callback run at\", now());\n",
       "      run_inline_js();\n",
       "    });\n",
       "  }\n",
       "}(window));"
      ],
      "application/vnd.bokehjs_load.v0+json": "\n(function(root) {\n  function now() {\n    return new Date();\n  }\n\n  var force = true;\n\n  if (typeof root._bokeh_onload_callbacks === \"undefined\" || force === true) {\n    root._bokeh_onload_callbacks = [];\n    root._bokeh_is_loading = undefined;\n  }\n\n  \n\n  \n  if (typeof (root._bokeh_timeout) === \"undefined\" || force === true) {\n    root._bokeh_timeout = Date.now() + 5000;\n    root._bokeh_failed_load = false;\n  }\n\n  var NB_LOAD_WARNING = {'data': {'text/html':\n     \"<div style='background-color: #fdd'>\\n\"+\n     \"<p>\\n\"+\n     \"BokehJS does not appear to have successfully loaded. If loading BokehJS from CDN, this \\n\"+\n     \"may be due to a slow or bad network connection. Possible fixes:\\n\"+\n     \"</p>\\n\"+\n     \"<ul>\\n\"+\n     \"<li>re-rerun `output_notebook()` to attempt to load from CDN again, or</li>\\n\"+\n     \"<li>use INLINE resources instead, as so:</li>\\n\"+\n     \"</ul>\\n\"+\n     \"<code>\\n\"+\n     \"from bokeh.resources import INLINE\\n\"+\n     \"output_notebook(resources=INLINE)\\n\"+\n     \"</code>\\n\"+\n     \"</div>\"}};\n\n  function display_loaded() {\n    var el = document.getElementById(\"1001\");\n    if (el != null) {\n      el.textContent = \"BokehJS is loading...\";\n    }\n    if (root.Bokeh !== undefined) {\n      if (el != null) {\n        el.textContent = \"BokehJS \" + root.Bokeh.version + \" successfully loaded.\";\n      }\n    } else if (Date.now() < root._bokeh_timeout) {\n      setTimeout(display_loaded, 100)\n    }\n  }\n\n\n  function run_callbacks() {\n    try {\n      root._bokeh_onload_callbacks.forEach(function(callback) {\n        if (callback != null)\n          callback();\n      });\n    } finally {\n      delete root._bokeh_onload_callbacks\n    }\n    console.debug(\"Bokeh: all callbacks have finished\");\n  }\n\n  function load_libs(css_urls, js_urls, callback) {\n    if (css_urls == null) css_urls = [];\n    if (js_urls == null) js_urls = [];\n\n    root._bokeh_onload_callbacks.push(callback);\n    if (root._bokeh_is_loading > 0) {\n      console.debug(\"Bokeh: BokehJS is being loaded, scheduling callback at\", now());\n      return null;\n    }\n    if (js_urls == null || js_urls.length === 0) {\n      run_callbacks();\n      return null;\n    }\n    console.debug(\"Bokeh: BokehJS not loaded, scheduling load and callback at\", now());\n    root._bokeh_is_loading = css_urls.length + js_urls.length;\n\n    function on_load() {\n      root._bokeh_is_loading--;\n      if (root._bokeh_is_loading === 0) {\n        console.debug(\"Bokeh: all BokehJS libraries/stylesheets loaded\");\n        run_callbacks()\n      }\n    }\n\n    function on_error() {\n      console.error(\"failed to load \" + url);\n    }\n\n    for (var i = 0; i < css_urls.length; i++) {\n      var url = css_urls[i];\n      const element = document.createElement(\"link\");\n      element.onload = on_load;\n      element.onerror = on_error;\n      element.rel = \"stylesheet\";\n      element.type = \"text/css\";\n      element.href = url;\n      console.debug(\"Bokeh: injecting link tag for BokehJS stylesheet: \", url);\n      document.body.appendChild(element);\n    }\n\n    for (var i = 0; i < js_urls.length; i++) {\n      var url = js_urls[i];\n      var element = document.createElement('script');\n      element.onload = on_load;\n      element.onerror = on_error;\n      element.async = false;\n      element.src = url;\n      console.debug(\"Bokeh: injecting script tag for BokehJS library: \", url);\n      document.head.appendChild(element);\n    }\n  };var element = document.getElementById(\"1001\");\n  if (element == null) {\n    console.error(\"Bokeh: ERROR: autoload.js configured with elementid '1001' but no matching script tag was found. \")\n    return false;\n  }\n\n  function inject_raw_css(css) {\n    const element = document.createElement(\"style\");\n    element.appendChild(document.createTextNode(css));\n    document.body.appendChild(element);\n  }\n\n  var js_urls = [\"https://cdn.pydata.org/bokeh/release/bokeh-1.2.0.min.js\", \"https://cdn.pydata.org/bokeh/release/bokeh-widgets-1.2.0.min.js\", \"https://cdn.pydata.org/bokeh/release/bokeh-tables-1.2.0.min.js\", \"https://cdn.pydata.org/bokeh/release/bokeh-gl-1.2.0.min.js\"];\n  var css_urls = [\"https://cdn.pydata.org/bokeh/release/bokeh-1.2.0.min.css\", \"https://cdn.pydata.org/bokeh/release/bokeh-widgets-1.2.0.min.css\", \"https://cdn.pydata.org/bokeh/release/bokeh-tables-1.2.0.min.css\"];\n\n  var inline_js = [\n    function(Bokeh) {\n      Bokeh.set_log_level(\"info\");\n    },\n    \n    function(Bokeh) {\n      \n    },\n    function(Bokeh) {} // ensure no trailing comma for IE\n  ];\n\n  function run_inline_js() {\n    \n    if ((root.Bokeh !== undefined) || (force === true)) {\n      for (var i = 0; i < inline_js.length; i++) {\n        inline_js[i].call(root, root.Bokeh);\n      }if (force === true) {\n        display_loaded();\n      }} else if (Date.now() < root._bokeh_timeout) {\n      setTimeout(run_inline_js, 100);\n    } else if (!root._bokeh_failed_load) {\n      console.log(\"Bokeh: BokehJS failed to load within specified timeout.\");\n      root._bokeh_failed_load = true;\n    } else if (force !== true) {\n      var cell = $(document.getElementById(\"1001\")).parents('.cell').data().cell;\n      cell.output_area.append_execute_result(NB_LOAD_WARNING)\n    }\n\n  }\n\n  if (root._bokeh_is_loading === 0) {\n    console.debug(\"Bokeh: BokehJS loaded, going straight to plotting\");\n    run_inline_js();\n  } else {\n    load_libs(css_urls, js_urls, function() {\n      console.debug(\"Bokeh: BokehJS plotting callback run at\", now());\n      run_inline_js();\n    });\n  }\n}(window));"
     },
     "metadata": {},
     "output_type": "display_data"
    }
   ],
   "source": [
    "import matplotlib.pyplot as plt\n",
    "%matplotlib notebook\n",
    "%matplotlib inline\n",
    "\n",
    "import seaborn as sb\n",
    "\n",
    "from bokeh.io import output_notebook, show\n",
    "from bokeh.plotting import Figure\n",
    "from datashader.bokeh_ext import create_ramp_legend, create_categorical_legend\n",
    "\n",
    "output_notebook()\n",
    "\n",
    "import datashader.transfer_functions as tf\n",
    "\n",
    "import datashader as ds\n",
    "from datashader.colors import viridis\n",
    "\n",
    "def visualize_variable(variable_name):\n",
    "    p = orca.get_table('blocks').to_frame(['x', 'y', variable_name])\n",
    "    \n",
    "    cvs = ds.Canvas(plot_width=1000, plot_height=700)\n",
    "    agg = cvs.points(p, 'x', 'y', ds.mean(variable_name))\n",
    "    img = tf.set_background(tf.shade(agg, cmap=viridis),\"white\")\n",
    "    return img\n",
    "\n",
    "def plot_probas(proba):\n",
    "    p = orca.get_table('blocks').to_frame(['x', 'y'])\n",
    "    p['proba'] = proba\n",
    "\n",
    "    cvs = ds.Canvas(plot_width=1000, plot_height=700)\n",
    "    agg = cvs.points(p, 'x', 'y', ds.mean('proba'))\n",
    "    img= tf.set_background(tf.shade(agg, cmap=viridis),\"white\")\n",
    "    return img"
   ]
  },
  {
   "cell_type": "markdown",
   "metadata": {},
   "source": [
    "### CHOOSER MOVER"
   ]
  },
  {
   "cell_type": "code",
   "execution_count": 4,
   "metadata": {},
   "outputs": [
    {
     "name": "stdout",
     "output_type": "stream",
     "text": [
      "Number of jobs: 2,774,223\n"
     ]
    },
    {
     "data": {
      "image/png": "[encoded data removed]",
      "text/plain": [
       "<Figure size 432x288 with 1 Axes>"
      ]
     },
     "metadata": {
      "needs_background": "light"
     },
     "output_type": "display_data"
    },
    {
     "name": "stdout",
     "output_type": "stream",
     "text": [
      "Number of unallocated jobs: 0\n",
      "Number of buildings: 1,660,654\n"
     ]
    },
    {
     "data": {
      "image/png": "[encoded data removed]",
      "text/plain": [
       "<Figure size 432x288 with 1 Axes>"
      ]
     },
     "metadata": {
      "needs_background": "light"
     },
     "output_type": "display_data"
    },
    {
     "name": "stdout",
     "output_type": "stream",
     "text": [
      "Number of Job Spaces: 1,660,654\n"
     ]
    },
    {
     "data": {
      "image/png": "[encoded data removed]",
      "text/plain": [
       "<Figure size 360x360 with 1 Axes>"
      ]
     },
     "metadata": {
      "needs_background": "light"
     },
     "output_type": "display_data"
    },
    {
     "name": "stdout",
     "output_type": "stream",
     "text": [
      "Number of Empty Buildings: 0\n",
      "Number of vacant job spaces: 1,226,747.0\n",
      "large_area_id\n",
      "3      370125.0\n",
      "5      300296.0\n",
      "93      19529.0\n",
      "99     155636.0\n",
      "115     46414.0\n",
      "125    232532.0\n",
      "147     44176.0\n",
      "161     58039.0\n",
      "Name: vacant_job_spaces, dtype: float64\n"
     ]
    }
   ],
   "source": [
    "jobs = orca.get_table('jobs').local\n",
    "print('Number of jobs: {:,}'.format(len(jobs)))\n",
    "ax = sb.countplot(x='large_area_id' , data=jobs)\n",
    "plt.suptitle('Number of jobs by large area id')\n",
    "plt.show()\n",
    "# print('jobs by large area: \\n{}'.format(jobs.large_area_id.value_counts()))\n",
    "print('Number of unallocated jobs: {:,}'.format(len(jobs[jobs.building_id == -1])))\n",
    "\n",
    "bldg = orca.get_table('buildings').to_frame(['large_area_id', 'job_spaces', 'vacant_job_spaces'])\n",
    "print('Number of buildings: {:,}'.format(len(bldg)))\n",
    "ax = sb.countplot(x='large_area_id' , data=bldg)\n",
    "plt.suptitle('Number of Buildings by large area id')\n",
    "plt.show()\n",
    "# print('Buildings by large area: \\n{}'.format(bldg.large_area_id.value_counts()))\n",
    "print('Number of Job Spaces: {:,}'.format(len(bldg)))\n",
    "ax = sb.catplot(x='large_area_id' ,y= 'job_spaces', kind='bar',\n",
    "                data=bldg.groupby('large_area_id').job_spaces.sum().reset_index())\n",
    "plt.show()\n",
    "# print('job_spaces by large area: \\n{}'.format(bldg.groupby('large_area_id').job_spaces.sum()))\n",
    "print('Number of Empty Buildings: {:,}'.format(len(jobs[jobs.building_id == -1])))\n",
    "print('Number of vacant job spaces: {:,}\\n{}'.format(bldg.vacant_job_spaces.sum(),\n",
    "                                                        bldg.groupby('large_area_id').vacant_job_spaces.sum()))"
   ]
  },
  {
   "cell_type": "code",
   "execution_count": 5,
   "metadata": {},
   "outputs": [
    {
     "data": {
      "text/plain": [
       "<orca.orca._SeriesWrapper at 0x1376be850>"
      ]
     },
     "execution_count": 5,
     "metadata": {},
     "output_type": "execute_result"
    }
   ],
   "source": [
    "# ADD TO THE ORCA TABLE A FIX COLUMN WITH THE BUILDING ID 2015\n",
    "orca.add_column('jobs', 'building_id_2015', jobs.building_id)\n",
    "orca.add_column('buildings', 'vacant_2015', bldg.vacant_job_spaces)"
   ]
  },
  {
   "cell_type": "code",
   "execution_count": 6,
   "metadata": {},
   "outputs": [
    {
     "data": {
      "text/plain": [
       "0"
      ]
     },
     "execution_count": 6,
     "metadata": {},
     "output_type": "execute_result"
    }
   ],
   "source": [
    "# BEFORE RUNNING THE RELOCATION AND TRANSITION MODELS THERE SHOULD NOT BE NULL VALUES IN BLDG ID 2015\n",
    "orca.get_table('jobs').to_frame(['building_id_2015']).building_id_2015.isnull().sum()"
   ]
  },
  {
   "cell_type": "code",
   "execution_count": 7,
   "metadata": {},
   "outputs": [
    {
     "name": "stdout",
     "output_type": "stream",
     "text": [
      "Running iteration 1 with iteration value 2015\n",
      "Running step 'jobs_transition_semcog'\n",
      "Time to execute step 'jobs_transition_semcog': 64.77 s\n",
      "Running step 'jobs_relocation'\n",
      "Total currently unplaced: 1809\n",
      "Agents (jobs) unplaced by relocation: 131344\n",
      "Total currently unplaced: 133109\n",
      "Time to execute step 'jobs_relocation': 2.84 s\n",
      "Total time to execute iteration 1 with iteration value 2015: 67.60 s\n"
     ]
    }
   ],
   "source": [
    "# RUN TRANSITION AND RELOCATION MODELS, so next building ids will be of 2016. \n",
    "transition_semcog = ['jobs_transition_semcog']\n",
    "relocation_models = ['jobs_relocation']\n",
    "orca.run(transition_semcog + relocation_models, iter_vars=[2015])"
   ]
  },
  {
   "cell_type": "code",
   "execution_count": 8,
   "metadata": {},
   "outputs": [
    {
     "name": "stdout",
     "output_type": "stream",
     "text": [
      "Number of jobs: 2,774,533\n"
     ]
    },
    {
     "data": {
      "image/png": "[encoded data removed]",
      "text/plain": [
       "<Figure size 432x288 with 1 Axes>"
      ]
     },
     "metadata": {
      "needs_background": "light"
     },
     "output_type": "display_data"
    },
    {
     "name": "stdout",
     "output_type": "stream",
     "text": [
      "Number of unallocated jobs in 2016: 133,109\n",
      "Number of buildings: 1,660,654\n"
     ]
    },
    {
     "data": {
      "image/png": "[encoded data removed]",
      "text/plain": [
       "<Figure size 432x288 with 1 Axes>"
      ]
     },
     "metadata": {
      "needs_background": "light"
     },
     "output_type": "display_data"
    },
    {
     "name": "stdout",
     "output_type": "stream",
     "text": [
      "Number of Job Spaces: 1,660,654\n"
     ]
    },
    {
     "data": {
      "image/png": "[encoded data removed]",
      "text/plain": [
       "<Figure size 360x360 with 1 Axes>"
      ]
     },
     "metadata": {
      "needs_background": "light"
     },
     "output_type": "display_data"
    },
    {
     "name": "stdout",
     "output_type": "stream",
     "text": [
      "Number of Empty Buildings: 133,109\n",
      "Number of vacant Job Spaces: 1,359,546.0\n",
      "large_area_id\n",
      "3      399465.0\n",
      "5      314863.0\n",
      "93      23076.0\n",
      "99     174704.0\n",
      "115     48863.0\n",
      "125    283607.0\n",
      "147     46786.0\n",
      "161     68182.0\n",
      "Name: vacant_job_spaces, dtype: float64\n"
     ]
    }
   ],
   "source": [
    "jobs_16 = orca.get_table('jobs').local\n",
    "print('Number of jobs: {:,}'.format(len(jobs_16)))\n",
    "ax = sb.countplot(x='large_area_id' , data=jobs_16)\n",
    "plt.suptitle('Number of Jobs by large area id')\n",
    "plt.show()\n",
    "print('Number of unallocated jobs in 2016: {:,}'.format(len(jobs_16[jobs_16.building_id == -1])))\n",
    "\n",
    "bldg_16 = orca.get_table('buildings').to_frame(['large_area_id', 'job_spaces', 'vacant_job_spaces'])\n",
    "print('Number of buildings: {:,}'.format(len(bldg_16)))\n",
    "ax = sb.countplot(x='large_area_id' , data=bldg_16)\n",
    "plt.suptitle('Number of Buildings by large area id')\n",
    "plt.show()\n",
    "print('Number of Job Spaces: {:,}'.format(len(bldg_16)))\n",
    "ax = sb.catplot(x='large_area_id' ,y= 'job_spaces', kind='bar',\n",
    "                data=bldg_16.groupby('large_area_id').job_spaces.sum().reset_index())\n",
    "plt.show()\n",
    "print('Number of Empty Buildings: {:,}'.format(len(jobs_16[jobs_16.building_id == -1])))\n",
    "print('Number of vacant Job Spaces: {:,}\\n{}'.format(bldg_16.vacant_job_spaces.sum(),\n",
    "                                                        bldg_16.groupby('large_area_id').vacant_job_spaces.sum()))"
   ]
  },
  {
   "cell_type": "code",
   "execution_count": 9,
   "metadata": {},
   "outputs": [
    {
     "name": "stdout",
     "output_type": "stream",
     "text": [
      "Number of jobs that got unalloacted in 2016: 131,300\n",
      "Number of jobs deleted in 2016: 1,499\n",
      "Finally, all relocated/transitioned jobs that will be the choosers in the ELCMS: 132,799\n"
     ]
    }
   ],
   "source": [
    "# Add to the 2015 Jobs table the Jobs to got unallocated\n",
    "jobs_2016 = orca.get_table('jobs').to_frame(['building_id']).rename(columns = {'building_id':'building_id_16'})\n",
    "jobs2 = jobs.join(jobs_2016)\n",
    "print('Number of jobs that got unalloacted in 2016: {:,}'.format(len(jobs2[jobs2.building_id_16 == -1])))\n",
    "print('Number of jobs deleted in 2016: {:,}'.format(len(jobs2[jobs2.building_id_16.isnull()])))\n",
    "jobs2.building_id_16.fillna(-1, inplace=True)\n",
    "print('Finally, all relocated/transitioned jobs that will be the choosers in the ELCMS: {:,}'.format(len(jobs2[jobs2.building_id_16 == -1])))"
   ]
  },
  {
   "cell_type": "code",
   "execution_count": 10,
   "metadata": {},
   "outputs": [
    {
     "data": {
      "text/plain": [
       "10    22770\n",
       "16    15137\n",
       "14    14045\n",
       "9     13867\n",
       "12    13626\n",
       "5     12969\n",
       "3     11077\n",
       "17     8614\n",
       "4      6778\n",
       "15     3791\n",
       "6      3029\n",
       "2      2687\n",
       "8      2250\n",
       "11     1766\n",
       "7       238\n",
       "1        99\n",
       "13       44\n",
       "18       12\n",
       "Name: sector_id, dtype: int64"
      ]
     },
     "execution_count": 10,
     "metadata": {},
     "output_type": "execute_result"
    }
   ],
   "source": [
    "jobs2[jobs2.building_id_16 == -1].sector_id.value_counts()"
   ]
  },
  {
   "cell_type": "code",
   "execution_count": 30,
   "metadata": {
    "scrolled": true
   },
   "outputs": [],
   "source": [
    "# orca.get_table('building_types').to_frame(['building_type_name','generic_building_type_name'])"
   ]
  },
  {
   "cell_type": "markdown",
   "metadata": {},
   "source": [
    "## UNIT-LEVEL"
   ]
  },
  {
   "cell_type": "code",
   "execution_count": 12,
   "metadata": {},
   "outputs": [],
   "source": [
    "# Getting all the variables from the ELCM clustvars models\n",
    "import yaml\n",
    "import os\n",
    "path = 'configs/elcm_unit_level/'\n",
    "elcm_files = os.listdir(path)\n",
    "elcm_vars = []\n",
    "for filen in elcm_files:\n",
    "    with open(path + filen) as f:\n",
    "        store = yaml.safe_load(f)\n",
    "        elcm_vars.extend(store['model_expression'])\n",
    "elcm_vars = set(elcm_vars)"
   ]
  },
  {
   "cell_type": "code",
   "execution_count": 13,
   "metadata": {},
   "outputs": [
    {
     "name": "stdout",
     "output_type": "stream",
     "text": [
      "Disaggregating ln_empden_9 to buildings from zones\n",
      "Disaggregating ln_empden_8 to buildings from zones\n",
      "Disaggregating ln_empden_5 to buildings from zones\n",
      "Disaggregating ln_empden_4 to buildings from zones\n",
      "Disaggregating ln_empden_3 to buildings from zones\n",
      "Disaggregating popden to buildings from zones\n",
      "Disaggregating prop_office_buildings to buildings from zones\n",
      "Disaggregating ln_empden_14 to buildings from zones\n",
      "Disaggregating ln_popden to buildings from zones\n",
      "Disaggregating empden to buildings from zones\n",
      "Disaggregating ln_empden_6 to buildings from zones\n",
      "Disaggregating prop_medical_buildings to buildings from zones\n",
      "Disaggregating ln_empden_2 to buildings from zones\n",
      "Disaggregating ln_empden_11 to buildings from zones\n",
      "Disaggregating ln_empden_10 to buildings from zones\n",
      "Disaggregating ln_empden_17 to buildings from zones\n",
      "Disaggregating ln_empden_16 to buildings from zones\n",
      "Disaggregating prop_industrial_buildings to buildings from zones\n",
      "Disaggregating ln_empden to buildings from zones\n"
     ]
    }
   ],
   "source": [
    "# Alternatives and choosers\n",
    "elcm_vars2 = list(elcm_vars) + ['non_residential_sqft', 'zone_id', 'building_type_id', 'parcel_id',\n",
    "                               'job_spaces','vacant_job_spaces']\n",
    "alternatives = orca.get_table('buildings').to_frame(elcm_vars2)\n",
    "# alternatives = alternatives[alternatives.non_residential_sqft > 0]\n",
    "jobs = orca.get_table('jobs').local\n",
    "choosers = jobs2.copy()"
   ]
  },
  {
   "cell_type": "code",
   "execution_count": 14,
   "metadata": {
    "scrolled": true
   },
   "outputs": [
    {
     "name": "stdout",
     "output_type": "stream",
     "text": [
      "1    2641424\n",
      "0    1873145\n",
      "Name: occupied, dtype: int64\n"
     ]
    }
   ],
   "source": [
    "### Unit-level alternatives: adding spot_id\n",
    "buildings = orca.get_table('buildings').to_frame(['vacant_job_spaces'])\n",
    "units_reloca16 = choosers[choosers.building_id_16 == -1].groupby('building_id').count()[['building_id_16']]\n",
    "buildings = buildings.join(units_reloca16).fillna(0)\n",
    "buildings['vacant_job_spaces'] = buildings.vacant_job_spaces - buildings.building_id_16\n",
    "remaining_job_capac = buildings[buildings.vacant_job_spaces > 0].vacant_job_spaces\n",
    "vacant_job_spots = np.repeat(remaining_job_capac.index, remaining_job_capac.values.astype(int))\n",
    "\n",
    "occupied_job_spots = choosers[choosers.building_id_16 == -1].building_id\n",
    "occupied_job_spots = pd.DataFrame(occupied_job_spots)\n",
    "occupied_job_spots['occupied'] = 0\n",
    "relocated_jobs_spots = choosers[(choosers.building_id != -1) & (choosers.building_id_16 != -1)].building_id\n",
    "relocated_jobs_spots = pd.DataFrame(relocated_jobs_spots)\n",
    "relocated_jobs_spots['occupied'] = 1\n",
    "used_jobs_spots = pd.concat([relocated_jobs_spots, occupied_job_spots])\n",
    "\n",
    "next_id = used_jobs_spots.index.max() + 1\n",
    "vacant_idx = np.arange(next_id, next_id + len(vacant_job_spots)) \n",
    "vacant_job_spots = pd.Series(vacant_job_spots, index = vacant_idx)\n",
    "vacant_job_spots = pd.DataFrame(vacant_job_spots)\n",
    "vacant_job_spots['occupied'] = 0\n",
    "\n",
    "job_spots = pd.concat([used_jobs_spots, vacant_job_spots])\n",
    "job_spots.index.name = 'job_spot_id'\n",
    "\n",
    "choosers['job_spot_id'] = choosers.index.values\n",
    "\n",
    "alternatives = pd.merge(job_spots, alternatives, left_on='building_id', right_index=True)\n",
    "\n",
    "print job_spots.occupied.value_counts()"
   ]
  },
  {
   "cell_type": "code",
   "execution_count": 15,
   "metadata": {},
   "outputs": [
    {
     "data": {
      "text/html": [
       "<div>\n",
       "<style scoped>\n",
       "    .dataframe tbody tr th:only-of-type {\n",
       "        vertical-align: middle;\n",
       "    }\n",
       "\n",
       "    .dataframe tbody tr th {\n",
       "        vertical-align: top;\n",
       "    }\n",
       "\n",
       "    .dataframe thead th {\n",
       "        text-align: right;\n",
       "    }\n",
       "</style>\n",
       "<table border=\"1\" class=\"dataframe\">\n",
       "  <thead>\n",
       "    <tr style=\"text-align: right;\">\n",
       "      <th></th>\n",
       "      <th>building_id</th>\n",
       "      <th>occupied</th>\n",
       "    </tr>\n",
       "  </thead>\n",
       "  <tbody>\n",
       "    <tr>\n",
       "      <th>26</th>\n",
       "      <td>2212493</td>\n",
       "      <td>0</td>\n",
       "    </tr>\n",
       "    <tr>\n",
       "      <th>67</th>\n",
       "      <td>2296585</td>\n",
       "      <td>0</td>\n",
       "    </tr>\n",
       "    <tr>\n",
       "      <th>92</th>\n",
       "      <td>2296585</td>\n",
       "      <td>0</td>\n",
       "    </tr>\n",
       "    <tr>\n",
       "      <th>107</th>\n",
       "      <td>2299049</td>\n",
       "      <td>0</td>\n",
       "    </tr>\n",
       "    <tr>\n",
       "      <th>116</th>\n",
       "      <td>2299672</td>\n",
       "      <td>0</td>\n",
       "    </tr>\n",
       "  </tbody>\n",
       "</table>\n",
       "</div>"
      ],
      "text/plain": [
       "     building_id  occupied\n",
       "26       2212493         0\n",
       "67       2296585         0\n",
       "92       2296585         0\n",
       "107      2299049         0\n",
       "116      2299672         0"
      ]
     },
     "execution_count": 15,
     "metadata": {},
     "output_type": "execute_result"
    }
   ],
   "source": [
    "occupied_job_spots.head()"
   ]
  },
  {
   "cell_type": "code",
   "execution_count": 16,
   "metadata": {},
   "outputs": [
    {
     "data": {
      "text/html": [
       "<div>\n",
       "<style scoped>\n",
       "    .dataframe tbody tr th:only-of-type {\n",
       "        vertical-align: middle;\n",
       "    }\n",
       "\n",
       "    .dataframe tbody tr th {\n",
       "        vertical-align: top;\n",
       "    }\n",
       "\n",
       "    .dataframe thead th {\n",
       "        text-align: right;\n",
       "    }\n",
       "</style>\n",
       "<table border=\"1\" class=\"dataframe\">\n",
       "  <thead>\n",
       "    <tr style=\"text-align: right;\">\n",
       "      <th></th>\n",
       "      <th>home_based_status</th>\n",
       "      <th>sector_id</th>\n",
       "      <th>large_area_id</th>\n",
       "      <th>sqft</th>\n",
       "      <th>semcog_id</th>\n",
       "      <th>building_id</th>\n",
       "      <th>building_id_16</th>\n",
       "      <th>job_spot_id</th>\n",
       "    </tr>\n",
       "  </thead>\n",
       "  <tbody>\n",
       "    <tr>\n",
       "      <th>26</th>\n",
       "      <td>0</td>\n",
       "      <td>2</td>\n",
       "      <td>125.0</td>\n",
       "      <td>1000</td>\n",
       "      <td>1803</td>\n",
       "      <td>2212493</td>\n",
       "      <td>-1.0</td>\n",
       "      <td>26</td>\n",
       "    </tr>\n",
       "    <tr>\n",
       "      <th>67</th>\n",
       "      <td>0</td>\n",
       "      <td>16</td>\n",
       "      <td>125.0</td>\n",
       "      <td>100</td>\n",
       "      <td>1810</td>\n",
       "      <td>2296585</td>\n",
       "      <td>-1.0</td>\n",
       "      <td>67</td>\n",
       "    </tr>\n",
       "    <tr>\n",
       "      <th>92</th>\n",
       "      <td>0</td>\n",
       "      <td>16</td>\n",
       "      <td>125.0</td>\n",
       "      <td>100</td>\n",
       "      <td>1810</td>\n",
       "      <td>2296585</td>\n",
       "      <td>-1.0</td>\n",
       "      <td>92</td>\n",
       "    </tr>\n",
       "    <tr>\n",
       "      <th>107</th>\n",
       "      <td>0</td>\n",
       "      <td>10</td>\n",
       "      <td>125.0</td>\n",
       "      <td>250</td>\n",
       "      <td>1811</td>\n",
       "      <td>2299049</td>\n",
       "      <td>-1.0</td>\n",
       "      <td>107</td>\n",
       "    </tr>\n",
       "    <tr>\n",
       "      <th>116</th>\n",
       "      <td>0</td>\n",
       "      <td>4</td>\n",
       "      <td>125.0</td>\n",
       "      <td>250</td>\n",
       "      <td>1813</td>\n",
       "      <td>2299672</td>\n",
       "      <td>-1.0</td>\n",
       "      <td>116</td>\n",
       "    </tr>\n",
       "  </tbody>\n",
       "</table>\n",
       "</div>"
      ],
      "text/plain": [
       "    home_based_status sector_id  large_area_id  sqft semcog_id  building_id  \\\n",
       "26                  0         2          125.0  1000      1803      2212493   \n",
       "67                  0        16          125.0   100      1810      2296585   \n",
       "92                  0        16          125.0   100      1810      2296585   \n",
       "107                 0        10          125.0   250      1811      2299049   \n",
       "116                 0         4          125.0   250      1813      2299672   \n",
       "\n",
       "     building_id_16  job_spot_id  \n",
       "26             -1.0           26  \n",
       "67             -1.0           67  \n",
       "92             -1.0           92  \n",
       "107            -1.0          107  \n",
       "116            -1.0          116  "
      ]
     },
     "execution_count": 16,
     "metadata": {},
     "output_type": "execute_result"
    }
   ],
   "source": [
    "choosers[choosers.building_id_16 == -1].head()"
   ]
  },
  {
   "cell_type": "code",
   "execution_count": 17,
   "metadata": {},
   "outputs": [
    {
     "data": {
      "text/plain": [
       "<orca.orca.DataFrameWrapper at 0x12217fe90>"
      ]
     },
     "execution_count": 17,
     "metadata": {},
     "output_type": "execute_result"
    }
   ],
   "source": [
    "orca.add_table('choosers', choosers)\n",
    "orca.add_table('alternatives', alternatives)"
   ]
  },
  {
   "cell_type": "code",
   "execution_count": 18,
   "metadata": {},
   "outputs": [],
   "source": [
    "alts_fit_filters = '(occupied == 0)'\n",
    "\n",
    "def register_elcm_model(dcm, sector_id):\n",
    "    dcm.choice_column = 'building_id'\n",
    "    dcm.alts_predict_filters = 'vacant_job_spaces > 0'\n",
    "    dcm.choosers_predict_filters = '(sector_id == {}) & (home_based_status == 0)'.format(str(sector_id))\n",
    "    dcm.to_yaml('./configs/choosermover/elcm/elcm{}.yaml'.format(str(sector_id)))"
   ]
  },
  {
   "cell_type": "code",
   "execution_count": 19,
   "metadata": {
    "scrolled": true
   },
   "outputs": [
    {
     "data": {
      "text/html": [
       "<div>\n",
       "<style scoped>\n",
       "    .dataframe tbody tr th:only-of-type {\n",
       "        vertical-align: middle;\n",
       "    }\n",
       "\n",
       "    .dataframe tbody tr th {\n",
       "        vertical-align: top;\n",
       "    }\n",
       "\n",
       "    .dataframe thead th {\n",
       "        text-align: right;\n",
       "    }\n",
       "</style>\n",
       "<table border=\"1\" class=\"dataframe\">\n",
       "  <thead>\n",
       "    <tr style=\"text-align: right;\">\n",
       "      <th></th>\n",
       "      <th>home_based_status</th>\n",
       "      <th>sector_id</th>\n",
       "      <th>large_area_id</th>\n",
       "      <th>sqft</th>\n",
       "      <th>semcog_id</th>\n",
       "      <th>building_id</th>\n",
       "      <th>building_id_16</th>\n",
       "      <th>job_spot_id</th>\n",
       "    </tr>\n",
       "  </thead>\n",
       "  <tbody>\n",
       "    <tr>\n",
       "      <th>8306</th>\n",
       "      <td>1</td>\n",
       "      <td>5</td>\n",
       "      <td>93.0</td>\n",
       "      <td>0</td>\n",
       "      <td>432</td>\n",
       "      <td>7078976</td>\n",
       "      <td>-1.0</td>\n",
       "      <td>8306</td>\n",
       "    </tr>\n",
       "    <tr>\n",
       "      <th>9524</th>\n",
       "      <td>1</td>\n",
       "      <td>5</td>\n",
       "      <td>93.0</td>\n",
       "      <td>0</td>\n",
       "      <td>728</td>\n",
       "      <td>7115835</td>\n",
       "      <td>-1.0</td>\n",
       "      <td>9524</td>\n",
       "    </tr>\n",
       "    <tr>\n",
       "      <th>9622</th>\n",
       "      <td>1</td>\n",
       "      <td>5</td>\n",
       "      <td>93.0</td>\n",
       "      <td>0</td>\n",
       "      <td>772</td>\n",
       "      <td>7099591</td>\n",
       "      <td>-1.0</td>\n",
       "      <td>9622</td>\n",
       "    </tr>\n",
       "    <tr>\n",
       "      <th>40465</th>\n",
       "      <td>1</td>\n",
       "      <td>18</td>\n",
       "      <td>93.0</td>\n",
       "      <td>0</td>\n",
       "      <td>6665</td>\n",
       "      <td>7048075</td>\n",
       "      <td>-1.0</td>\n",
       "      <td>40465</td>\n",
       "    </tr>\n",
       "    <tr>\n",
       "      <th>45946</th>\n",
       "      <td>1</td>\n",
       "      <td>5</td>\n",
       "      <td>93.0</td>\n",
       "      <td>0</td>\n",
       "      <td>7381</td>\n",
       "      <td>7056430</td>\n",
       "      <td>-1.0</td>\n",
       "      <td>45946</td>\n",
       "    </tr>\n",
       "    <tr>\n",
       "      <th>45987</th>\n",
       "      <td>1</td>\n",
       "      <td>5</td>\n",
       "      <td>93.0</td>\n",
       "      <td>0</td>\n",
       "      <td>7387</td>\n",
       "      <td>7063015</td>\n",
       "      <td>-1.0</td>\n",
       "      <td>45987</td>\n",
       "    </tr>\n",
       "    <tr>\n",
       "      <th>50656</th>\n",
       "      <td>1</td>\n",
       "      <td>9</td>\n",
       "      <td>93.0</td>\n",
       "      <td>0</td>\n",
       "      <td>7914</td>\n",
       "      <td>7029245</td>\n",
       "      <td>-1.0</td>\n",
       "      <td>50656</td>\n",
       "    </tr>\n",
       "    <tr>\n",
       "      <th>71849</th>\n",
       "      <td>1</td>\n",
       "      <td>2</td>\n",
       "      <td>125.0</td>\n",
       "      <td>0</td>\n",
       "      <td>11335</td>\n",
       "      <td>2311164</td>\n",
       "      <td>-1.0</td>\n",
       "      <td>71849</td>\n",
       "    </tr>\n",
       "    <tr>\n",
       "      <th>84103</th>\n",
       "      <td>1</td>\n",
       "      <td>3</td>\n",
       "      <td>125.0</td>\n",
       "      <td>0</td>\n",
       "      <td>13414</td>\n",
       "      <td>2289814</td>\n",
       "      <td>-1.0</td>\n",
       "      <td>84103</td>\n",
       "    </tr>\n",
       "    <tr>\n",
       "      <th>112895</th>\n",
       "      <td>1</td>\n",
       "      <td>5</td>\n",
       "      <td>125.0</td>\n",
       "      <td>0</td>\n",
       "      <td>17352</td>\n",
       "      <td>2494997</td>\n",
       "      <td>-1.0</td>\n",
       "      <td>112895</td>\n",
       "    </tr>\n",
       "    <tr>\n",
       "      <th>131772</th>\n",
       "      <td>1</td>\n",
       "      <td>5</td>\n",
       "      <td>93.0</td>\n",
       "      <td>0</td>\n",
       "      <td>19881</td>\n",
       "      <td>7011184</td>\n",
       "      <td>-1.0</td>\n",
       "      <td>131772</td>\n",
       "    </tr>\n",
       "    <tr>\n",
       "      <th>132841</th>\n",
       "      <td>1</td>\n",
       "      <td>5</td>\n",
       "      <td>93.0</td>\n",
       "      <td>0</td>\n",
       "      <td>20096</td>\n",
       "      <td>7012014</td>\n",
       "      <td>-1.0</td>\n",
       "      <td>132841</td>\n",
       "    </tr>\n",
       "    <tr>\n",
       "      <th>174399</th>\n",
       "      <td>1</td>\n",
       "      <td>8</td>\n",
       "      <td>125.0</td>\n",
       "      <td>0</td>\n",
       "      <td>28216</td>\n",
       "      <td>2376343</td>\n",
       "      <td>-1.0</td>\n",
       "      <td>174399</td>\n",
       "    </tr>\n",
       "    <tr>\n",
       "      <th>175928</th>\n",
       "      <td>1</td>\n",
       "      <td>2</td>\n",
       "      <td>125.0</td>\n",
       "      <td>0</td>\n",
       "      <td>29064</td>\n",
       "      <td>2272787</td>\n",
       "      <td>-1.0</td>\n",
       "      <td>175928</td>\n",
       "    </tr>\n",
       "    <tr>\n",
       "      <th>176735</th>\n",
       "      <td>1</td>\n",
       "      <td>2</td>\n",
       "      <td>125.0</td>\n",
       "      <td>0</td>\n",
       "      <td>29581</td>\n",
       "      <td>2343300</td>\n",
       "      <td>-1.0</td>\n",
       "      <td>176735</td>\n",
       "    </tr>\n",
       "    <tr>\n",
       "      <th>185142</th>\n",
       "      <td>1</td>\n",
       "      <td>3</td>\n",
       "      <td>125.0</td>\n",
       "      <td>0</td>\n",
       "      <td>33507</td>\n",
       "      <td>2218709</td>\n",
       "      <td>-1.0</td>\n",
       "      <td>185142</td>\n",
       "    </tr>\n",
       "    <tr>\n",
       "      <th>188297</th>\n",
       "      <td>1</td>\n",
       "      <td>5</td>\n",
       "      <td>93.0</td>\n",
       "      <td>0</td>\n",
       "      <td>35148</td>\n",
       "      <td>7052647</td>\n",
       "      <td>-1.0</td>\n",
       "      <td>188297</td>\n",
       "    </tr>\n",
       "    <tr>\n",
       "      <th>189459</th>\n",
       "      <td>1</td>\n",
       "      <td>2</td>\n",
       "      <td>125.0</td>\n",
       "      <td>0</td>\n",
       "      <td>35537</td>\n",
       "      <td>2291649</td>\n",
       "      <td>-1.0</td>\n",
       "      <td>189459</td>\n",
       "    </tr>\n",
       "    <tr>\n",
       "      <th>190809</th>\n",
       "      <td>1</td>\n",
       "      <td>8</td>\n",
       "      <td>125.0</td>\n",
       "      <td>0</td>\n",
       "      <td>36128</td>\n",
       "      <td>2308278</td>\n",
       "      <td>-1.0</td>\n",
       "      <td>190809</td>\n",
       "    </tr>\n",
       "    <tr>\n",
       "      <th>310383</th>\n",
       "      <td>1</td>\n",
       "      <td>16</td>\n",
       "      <td>125.0</td>\n",
       "      <td>0</td>\n",
       "      <td>55402</td>\n",
       "      <td>2427017</td>\n",
       "      <td>-1.0</td>\n",
       "      <td>310383</td>\n",
       "    </tr>\n",
       "    <tr>\n",
       "      <th>311846</th>\n",
       "      <td>1</td>\n",
       "      <td>17</td>\n",
       "      <td>125.0</td>\n",
       "      <td>0</td>\n",
       "      <td>56429</td>\n",
       "      <td>2385855</td>\n",
       "      <td>-1.0</td>\n",
       "      <td>311846</td>\n",
       "    </tr>\n",
       "    <tr>\n",
       "      <th>326110</th>\n",
       "      <td>1</td>\n",
       "      <td>2</td>\n",
       "      <td>125.0</td>\n",
       "      <td>0</td>\n",
       "      <td>58654</td>\n",
       "      <td>2420308</td>\n",
       "      <td>-1.0</td>\n",
       "      <td>326110</td>\n",
       "    </tr>\n",
       "    <tr>\n",
       "      <th>348270</th>\n",
       "      <td>1</td>\n",
       "      <td>8</td>\n",
       "      <td>125.0</td>\n",
       "      <td>0</td>\n",
       "      <td>62228</td>\n",
       "      <td>2561377</td>\n",
       "      <td>-1.0</td>\n",
       "      <td>348270</td>\n",
       "    </tr>\n",
       "    <tr>\n",
       "      <th>367015</th>\n",
       "      <td>1</td>\n",
       "      <td>16</td>\n",
       "      <td>125.0</td>\n",
       "      <td>0</td>\n",
       "      <td>65143</td>\n",
       "      <td>2468667</td>\n",
       "      <td>-1.0</td>\n",
       "      <td>367015</td>\n",
       "    </tr>\n",
       "    <tr>\n",
       "      <th>370102</th>\n",
       "      <td>1</td>\n",
       "      <td>16</td>\n",
       "      <td>125.0</td>\n",
       "      <td>0</td>\n",
       "      <td>66681</td>\n",
       "      <td>2009684</td>\n",
       "      <td>-1.0</td>\n",
       "      <td>370102</td>\n",
       "    </tr>\n",
       "    <tr>\n",
       "      <th>530164</th>\n",
       "      <td>1</td>\n",
       "      <td>18</td>\n",
       "      <td>125.0</td>\n",
       "      <td>0</td>\n",
       "      <td>88402</td>\n",
       "      <td>2471912</td>\n",
       "      <td>-1.0</td>\n",
       "      <td>530164</td>\n",
       "    </tr>\n",
       "    <tr>\n",
       "      <th>733853</th>\n",
       "      <td>1</td>\n",
       "      <td>17</td>\n",
       "      <td>99.0</td>\n",
       "      <td>0</td>\n",
       "      <td>119279</td>\n",
       "      <td>3195167</td>\n",
       "      <td>-1.0</td>\n",
       "      <td>733853</td>\n",
       "    </tr>\n",
       "    <tr>\n",
       "      <th>750740</th>\n",
       "      <td>1</td>\n",
       "      <td>3</td>\n",
       "      <td>125.0</td>\n",
       "      <td>0</td>\n",
       "      <td>122298</td>\n",
       "      <td>2186726</td>\n",
       "      <td>-1.0</td>\n",
       "      <td>750740</td>\n",
       "    </tr>\n",
       "    <tr>\n",
       "      <th>755980</th>\n",
       "      <td>1</td>\n",
       "      <td>3</td>\n",
       "      <td>125.0</td>\n",
       "      <td>0</td>\n",
       "      <td>124910</td>\n",
       "      <td>2516820</td>\n",
       "      <td>-1.0</td>\n",
       "      <td>755980</td>\n",
       "    </tr>\n",
       "    <tr>\n",
       "      <th>768846</th>\n",
       "      <td>1</td>\n",
       "      <td>17</td>\n",
       "      <td>125.0</td>\n",
       "      <td>0</td>\n",
       "      <td>130732</td>\n",
       "      <td>2567074</td>\n",
       "      <td>-1.0</td>\n",
       "      <td>768846</td>\n",
       "    </tr>\n",
       "    <tr>\n",
       "      <th>...</th>\n",
       "      <td>...</td>\n",
       "      <td>...</td>\n",
       "      <td>...</td>\n",
       "      <td>...</td>\n",
       "      <td>...</td>\n",
       "      <td>...</td>\n",
       "      <td>...</td>\n",
       "      <td>...</td>\n",
       "    </tr>\n",
       "    <tr>\n",
       "      <th>2662201</th>\n",
       "      <td>1</td>\n",
       "      <td>9</td>\n",
       "      <td>99.0</td>\n",
       "      <td>0</td>\n",
       "      <td>743307</td>\n",
       "      <td>3174181</td>\n",
       "      <td>-1.0</td>\n",
       "      <td>2662201</td>\n",
       "    </tr>\n",
       "    <tr>\n",
       "      <th>2664245</th>\n",
       "      <td>1</td>\n",
       "      <td>9</td>\n",
       "      <td>99.0</td>\n",
       "      <td>0</td>\n",
       "      <td>744330</td>\n",
       "      <td>3120810</td>\n",
       "      <td>-1.0</td>\n",
       "      <td>2664245</td>\n",
       "    </tr>\n",
       "    <tr>\n",
       "      <th>2666908</th>\n",
       "      <td>1</td>\n",
       "      <td>9</td>\n",
       "      <td>99.0</td>\n",
       "      <td>0</td>\n",
       "      <td>745662</td>\n",
       "      <td>3364269</td>\n",
       "      <td>-1.0</td>\n",
       "      <td>2666908</td>\n",
       "    </tr>\n",
       "    <tr>\n",
       "      <th>2668405</th>\n",
       "      <td>1</td>\n",
       "      <td>17</td>\n",
       "      <td>99.0</td>\n",
       "      <td>0</td>\n",
       "      <td>746410</td>\n",
       "      <td>3274155</td>\n",
       "      <td>-1.0</td>\n",
       "      <td>2668405</td>\n",
       "    </tr>\n",
       "    <tr>\n",
       "      <th>2669839</th>\n",
       "      <td>1</td>\n",
       "      <td>9</td>\n",
       "      <td>99.0</td>\n",
       "      <td>0</td>\n",
       "      <td>747127</td>\n",
       "      <td>3320630</td>\n",
       "      <td>-1.0</td>\n",
       "      <td>2669839</td>\n",
       "    </tr>\n",
       "    <tr>\n",
       "      <th>2671896</th>\n",
       "      <td>1</td>\n",
       "      <td>17</td>\n",
       "      <td>99.0</td>\n",
       "      <td>0</td>\n",
       "      <td>748157</td>\n",
       "      <td>3193484</td>\n",
       "      <td>-1.0</td>\n",
       "      <td>2671896</td>\n",
       "    </tr>\n",
       "    <tr>\n",
       "      <th>2672413</th>\n",
       "      <td>1</td>\n",
       "      <td>6</td>\n",
       "      <td>161.0</td>\n",
       "      <td>0</td>\n",
       "      <td>748415</td>\n",
       "      <td>4098530</td>\n",
       "      <td>-1.0</td>\n",
       "      <td>2672413</td>\n",
       "    </tr>\n",
       "    <tr>\n",
       "      <th>2673229</th>\n",
       "      <td>1</td>\n",
       "      <td>9</td>\n",
       "      <td>161.0</td>\n",
       "      <td>0</td>\n",
       "      <td>748823</td>\n",
       "      <td>4134066</td>\n",
       "      <td>-1.0</td>\n",
       "      <td>2673229</td>\n",
       "    </tr>\n",
       "    <tr>\n",
       "      <th>2673577</th>\n",
       "      <td>1</td>\n",
       "      <td>9</td>\n",
       "      <td>161.0</td>\n",
       "      <td>0</td>\n",
       "      <td>748997</td>\n",
       "      <td>4123349</td>\n",
       "      <td>-1.0</td>\n",
       "      <td>2673577</td>\n",
       "    </tr>\n",
       "    <tr>\n",
       "      <th>2676465</th>\n",
       "      <td>1</td>\n",
       "      <td>9</td>\n",
       "      <td>161.0</td>\n",
       "      <td>0</td>\n",
       "      <td>750442</td>\n",
       "      <td>4023297</td>\n",
       "      <td>-1.0</td>\n",
       "      <td>2676465</td>\n",
       "    </tr>\n",
       "    <tr>\n",
       "      <th>2676522</th>\n",
       "      <td>1</td>\n",
       "      <td>9</td>\n",
       "      <td>161.0</td>\n",
       "      <td>0</td>\n",
       "      <td>750471</td>\n",
       "      <td>4130295</td>\n",
       "      <td>-1.0</td>\n",
       "      <td>2676522</td>\n",
       "    </tr>\n",
       "    <tr>\n",
       "      <th>2677121</th>\n",
       "      <td>1</td>\n",
       "      <td>9</td>\n",
       "      <td>161.0</td>\n",
       "      <td>0</td>\n",
       "      <td>750770</td>\n",
       "      <td>4005233</td>\n",
       "      <td>-1.0</td>\n",
       "      <td>2677121</td>\n",
       "    </tr>\n",
       "    <tr>\n",
       "      <th>2677990</th>\n",
       "      <td>1</td>\n",
       "      <td>9</td>\n",
       "      <td>161.0</td>\n",
       "      <td>0</td>\n",
       "      <td>751205</td>\n",
       "      <td>4054827</td>\n",
       "      <td>-1.0</td>\n",
       "      <td>2677990</td>\n",
       "    </tr>\n",
       "    <tr>\n",
       "      <th>2678855</th>\n",
       "      <td>1</td>\n",
       "      <td>9</td>\n",
       "      <td>161.0</td>\n",
       "      <td>0</td>\n",
       "      <td>751637</td>\n",
       "      <td>4025682</td>\n",
       "      <td>-1.0</td>\n",
       "      <td>2678855</td>\n",
       "    </tr>\n",
       "    <tr>\n",
       "      <th>2681698</th>\n",
       "      <td>1</td>\n",
       "      <td>6</td>\n",
       "      <td>161.0</td>\n",
       "      <td>0</td>\n",
       "      <td>753061</td>\n",
       "      <td>4064200</td>\n",
       "      <td>-1.0</td>\n",
       "      <td>2681698</td>\n",
       "    </tr>\n",
       "    <tr>\n",
       "      <th>2681937</th>\n",
       "      <td>1</td>\n",
       "      <td>9</td>\n",
       "      <td>161.0</td>\n",
       "      <td>0</td>\n",
       "      <td>753180</td>\n",
       "      <td>4057511</td>\n",
       "      <td>-1.0</td>\n",
       "      <td>2681937</td>\n",
       "    </tr>\n",
       "    <tr>\n",
       "      <th>2686115</th>\n",
       "      <td>1</td>\n",
       "      <td>10</td>\n",
       "      <td>147.0</td>\n",
       "      <td>0</td>\n",
       "      <td>755272</td>\n",
       "      <td>6071699</td>\n",
       "      <td>-1.0</td>\n",
       "      <td>2686115</td>\n",
       "    </tr>\n",
       "    <tr>\n",
       "      <th>2687639</th>\n",
       "      <td>1</td>\n",
       "      <td>9</td>\n",
       "      <td>93.0</td>\n",
       "      <td>0</td>\n",
       "      <td>756035</td>\n",
       "      <td>7037564</td>\n",
       "      <td>-1.0</td>\n",
       "      <td>2687639</td>\n",
       "    </tr>\n",
       "    <tr>\n",
       "      <th>2687980</th>\n",
       "      <td>1</td>\n",
       "      <td>17</td>\n",
       "      <td>93.0</td>\n",
       "      <td>0</td>\n",
       "      <td>756206</td>\n",
       "      <td>7037769</td>\n",
       "      <td>-1.0</td>\n",
       "      <td>2687980</td>\n",
       "    </tr>\n",
       "    <tr>\n",
       "      <th>2690427</th>\n",
       "      <td>1</td>\n",
       "      <td>9</td>\n",
       "      <td>93.0</td>\n",
       "      <td>0</td>\n",
       "      <td>757429</td>\n",
       "      <td>7062651</td>\n",
       "      <td>-1.0</td>\n",
       "      <td>2690427</td>\n",
       "    </tr>\n",
       "    <tr>\n",
       "      <th>2692088</th>\n",
       "      <td>1</td>\n",
       "      <td>9</td>\n",
       "      <td>93.0</td>\n",
       "      <td>0</td>\n",
       "      <td>758261</td>\n",
       "      <td>7019685</td>\n",
       "      <td>-1.0</td>\n",
       "      <td>2692088</td>\n",
       "    </tr>\n",
       "    <tr>\n",
       "      <th>2694026</th>\n",
       "      <td>1</td>\n",
       "      <td>9</td>\n",
       "      <td>93.0</td>\n",
       "      <td>0</td>\n",
       "      <td>759230</td>\n",
       "      <td>7068175</td>\n",
       "      <td>-1.0</td>\n",
       "      <td>2694026</td>\n",
       "    </tr>\n",
       "    <tr>\n",
       "      <th>2694041</th>\n",
       "      <td>1</td>\n",
       "      <td>9</td>\n",
       "      <td>93.0</td>\n",
       "      <td>0</td>\n",
       "      <td>759237</td>\n",
       "      <td>7078638</td>\n",
       "      <td>-1.0</td>\n",
       "      <td>2694041</td>\n",
       "    </tr>\n",
       "    <tr>\n",
       "      <th>2695578</th>\n",
       "      <td>1</td>\n",
       "      <td>9</td>\n",
       "      <td>93.0</td>\n",
       "      <td>0</td>\n",
       "      <td>760006</td>\n",
       "      <td>7079964</td>\n",
       "      <td>-1.0</td>\n",
       "      <td>2695578</td>\n",
       "    </tr>\n",
       "    <tr>\n",
       "      <th>2696037</th>\n",
       "      <td>1</td>\n",
       "      <td>9</td>\n",
       "      <td>93.0</td>\n",
       "      <td>0</td>\n",
       "      <td>760235</td>\n",
       "      <td>7012614</td>\n",
       "      <td>-1.0</td>\n",
       "      <td>2696037</td>\n",
       "    </tr>\n",
       "    <tr>\n",
       "      <th>2755130</th>\n",
       "      <td>1</td>\n",
       "      <td>9</td>\n",
       "      <td>99.0</td>\n",
       "      <td>0</td>\n",
       "      <td>371579</td>\n",
       "      <td>3011176</td>\n",
       "      <td>-1.0</td>\n",
       "      <td>2755130</td>\n",
       "    </tr>\n",
       "    <tr>\n",
       "      <th>2756183</th>\n",
       "      <td>1</td>\n",
       "      <td>17</td>\n",
       "      <td>99.0</td>\n",
       "      <td>0</td>\n",
       "      <td>305790</td>\n",
       "      <td>3172602</td>\n",
       "      <td>-1.0</td>\n",
       "      <td>2756183</td>\n",
       "    </tr>\n",
       "    <tr>\n",
       "      <th>2772162</th>\n",
       "      <td>1</td>\n",
       "      <td>9</td>\n",
       "      <td>161.0</td>\n",
       "      <td>0</td>\n",
       "      <td>748480</td>\n",
       "      <td>4096940</td>\n",
       "      <td>-1.0</td>\n",
       "      <td>2772162</td>\n",
       "    </tr>\n",
       "    <tr>\n",
       "      <th>2774020</th>\n",
       "      <td>1</td>\n",
       "      <td>17</td>\n",
       "      <td>161.0</td>\n",
       "      <td>0</td>\n",
       "      <td>279207</td>\n",
       "      <td>4101798</td>\n",
       "      <td>-1.0</td>\n",
       "      <td>2774020</td>\n",
       "    </tr>\n",
       "    <tr>\n",
       "      <th>2774356</th>\n",
       "      <td>1</td>\n",
       "      <td>13</td>\n",
       "      <td>99.0</td>\n",
       "      <td>0</td>\n",
       "      <td>143654</td>\n",
       "      <td>3330271</td>\n",
       "      <td>-1.0</td>\n",
       "      <td>2774356</td>\n",
       "    </tr>\n",
       "  </tbody>\n",
       "</table>\n",
       "<p>460 rows × 8 columns</p>\n",
       "</div>"
      ],
      "text/plain": [
       "        home_based_status sector_id  large_area_id sqft semcog_id  \\\n",
       "8306                    1         5           93.0    0       432   \n",
       "9524                    1         5           93.0    0       728   \n",
       "9622                    1         5           93.0    0       772   \n",
       "40465                   1        18           93.0    0      6665   \n",
       "45946                   1         5           93.0    0      7381   \n",
       "45987                   1         5           93.0    0      7387   \n",
       "50656                   1         9           93.0    0      7914   \n",
       "71849                   1         2          125.0    0     11335   \n",
       "84103                   1         3          125.0    0     13414   \n",
       "112895                  1         5          125.0    0     17352   \n",
       "131772                  1         5           93.0    0     19881   \n",
       "132841                  1         5           93.0    0     20096   \n",
       "174399                  1         8          125.0    0     28216   \n",
       "175928                  1         2          125.0    0     29064   \n",
       "176735                  1         2          125.0    0     29581   \n",
       "185142                  1         3          125.0    0     33507   \n",
       "188297                  1         5           93.0    0     35148   \n",
       "189459                  1         2          125.0    0     35537   \n",
       "190809                  1         8          125.0    0     36128   \n",
       "310383                  1        16          125.0    0     55402   \n",
       "311846                  1        17          125.0    0     56429   \n",
       "326110                  1         2          125.0    0     58654   \n",
       "348270                  1         8          125.0    0     62228   \n",
       "367015                  1        16          125.0    0     65143   \n",
       "370102                  1        16          125.0    0     66681   \n",
       "530164                  1        18          125.0    0     88402   \n",
       "733853                  1        17           99.0    0    119279   \n",
       "750740                  1         3          125.0    0    122298   \n",
       "755980                  1         3          125.0    0    124910   \n",
       "768846                  1        17          125.0    0    130732   \n",
       "...                   ...       ...            ...  ...       ...   \n",
       "2662201                 1         9           99.0    0    743307   \n",
       "2664245                 1         9           99.0    0    744330   \n",
       "2666908                 1         9           99.0    0    745662   \n",
       "2668405                 1        17           99.0    0    746410   \n",
       "2669839                 1         9           99.0    0    747127   \n",
       "2671896                 1        17           99.0    0    748157   \n",
       "2672413                 1         6          161.0    0    748415   \n",
       "2673229                 1         9          161.0    0    748823   \n",
       "2673577                 1         9          161.0    0    748997   \n",
       "2676465                 1         9          161.0    0    750442   \n",
       "2676522                 1         9          161.0    0    750471   \n",
       "2677121                 1         9          161.0    0    750770   \n",
       "2677990                 1         9          161.0    0    751205   \n",
       "2678855                 1         9          161.0    0    751637   \n",
       "2681698                 1         6          161.0    0    753061   \n",
       "2681937                 1         9          161.0    0    753180   \n",
       "2686115                 1        10          147.0    0    755272   \n",
       "2687639                 1         9           93.0    0    756035   \n",
       "2687980                 1        17           93.0    0    756206   \n",
       "2690427                 1         9           93.0    0    757429   \n",
       "2692088                 1         9           93.0    0    758261   \n",
       "2694026                 1         9           93.0    0    759230   \n",
       "2694041                 1         9           93.0    0    759237   \n",
       "2695578                 1         9           93.0    0    760006   \n",
       "2696037                 1         9           93.0    0    760235   \n",
       "2755130                 1         9           99.0    0    371579   \n",
       "2756183                 1        17           99.0    0    305790   \n",
       "2772162                 1         9          161.0    0    748480   \n",
       "2774020                 1        17          161.0    0    279207   \n",
       "2774356                 1        13           99.0    0    143654   \n",
       "\n",
       "         building_id  building_id_16  job_spot_id  \n",
       "8306         7078976            -1.0         8306  \n",
       "9524         7115835            -1.0         9524  \n",
       "9622         7099591            -1.0         9622  \n",
       "40465        7048075            -1.0        40465  \n",
       "45946        7056430            -1.0        45946  \n",
       "45987        7063015            -1.0        45987  \n",
       "50656        7029245            -1.0        50656  \n",
       "71849        2311164            -1.0        71849  \n",
       "84103        2289814            -1.0        84103  \n",
       "112895       2494997            -1.0       112895  \n",
       "131772       7011184            -1.0       131772  \n",
       "132841       7012014            -1.0       132841  \n",
       "174399       2376343            -1.0       174399  \n",
       "175928       2272787            -1.0       175928  \n",
       "176735       2343300            -1.0       176735  \n",
       "185142       2218709            -1.0       185142  \n",
       "188297       7052647            -1.0       188297  \n",
       "189459       2291649            -1.0       189459  \n",
       "190809       2308278            -1.0       190809  \n",
       "310383       2427017            -1.0       310383  \n",
       "311846       2385855            -1.0       311846  \n",
       "326110       2420308            -1.0       326110  \n",
       "348270       2561377            -1.0       348270  \n",
       "367015       2468667            -1.0       367015  \n",
       "370102       2009684            -1.0       370102  \n",
       "530164       2471912            -1.0       530164  \n",
       "733853       3195167            -1.0       733853  \n",
       "750740       2186726            -1.0       750740  \n",
       "755980       2516820            -1.0       755980  \n",
       "768846       2567074            -1.0       768846  \n",
       "...              ...             ...          ...  \n",
       "2662201      3174181            -1.0      2662201  \n",
       "2664245      3120810            -1.0      2664245  \n",
       "2666908      3364269            -1.0      2666908  \n",
       "2668405      3274155            -1.0      2668405  \n",
       "2669839      3320630            -1.0      2669839  \n",
       "2671896      3193484            -1.0      2671896  \n",
       "2672413      4098530            -1.0      2672413  \n",
       "2673229      4134066            -1.0      2673229  \n",
       "2673577      4123349            -1.0      2673577  \n",
       "2676465      4023297            -1.0      2676465  \n",
       "2676522      4130295            -1.0      2676522  \n",
       "2677121      4005233            -1.0      2677121  \n",
       "2677990      4054827            -1.0      2677990  \n",
       "2678855      4025682            -1.0      2678855  \n",
       "2681698      4064200            -1.0      2681698  \n",
       "2681937      4057511            -1.0      2681937  \n",
       "2686115      6071699            -1.0      2686115  \n",
       "2687639      7037564            -1.0      2687639  \n",
       "2687980      7037769            -1.0      2687980  \n",
       "2690427      7062651            -1.0      2690427  \n",
       "2692088      7019685            -1.0      2692088  \n",
       "2694026      7068175            -1.0      2694026  \n",
       "2694041      7078638            -1.0      2694041  \n",
       "2695578      7079964            -1.0      2695578  \n",
       "2696037      7012614            -1.0      2696037  \n",
       "2755130      3011176            -1.0      2755130  \n",
       "2756183      3172602            -1.0      2756183  \n",
       "2772162      4096940            -1.0      2772162  \n",
       "2774020      4101798            -1.0      2774020  \n",
       "2774356      3330271            -1.0      2774356  \n",
       "\n",
       "[460 rows x 8 columns]"
      ]
     },
     "execution_count": 19,
     "metadata": {},
     "output_type": "execute_result"
    }
   ],
   "source": [
    "choosers[(choosers.building_id_16 == -1) & (choosers.home_based_status == 1) ]"
   ]
  },
  {
   "cell_type": "markdown",
   "metadata": {},
   "source": [
    "## Sector 14: Health Care & Social Assistance"
   ]
  },
  {
   "cell_type": "code",
   "execution_count": 27,
   "metadata": {},
   "outputs": [
    {
     "name": "stdout",
     "output_type": "stream",
     "text": [
      "Null Log-liklihood: -80092.514\n",
      "Log-liklihood at convergence: -59183.052\n",
      "Log-liklihood Ratio: 0.261\n",
      "\n",
      "+------------------------------------+-------------+------------+----------+\n",
      "| Component                          | Coefficient | Std. Error | T-Score  |\n",
      "+------------------------------------+-------------+------------+----------+\n",
      "| st_is_medical                      |    0.161    |   0.001    | 168.547  |\n",
      "| st_is_retail                       |    -0.105   |   0.005    | -20.705  |\n",
      "| st_b_ln_non_residential_sqft       |    -0.725   |   0.003    | -215.613 |\n",
      "| st_zones_ln_empden_14              |    0.106    |   0.002    |  56.111  |\n",
      "| st_zones_prop_industrial_buildings |    -0.112   |   0.005    | -23.911  |\n",
      "+------------------------------------+-------------+------------+----------+\n",
      "None\n"
     ]
    },
    {
     "data": {
      "text/plain": [
       "<matplotlib.axes._subplots.AxesSubplot at 0x109d71d90>"
      ]
     },
     "execution_count": 27,
     "metadata": {},
     "output_type": "execute_result"
    },
    {
     "data": {
      "image/png": "[encoded data removed]",
      "text/plain": [
       "<Figure size 432x288 with 1 Axes>"
      ]
     },
     "metadata": {
      "needs_background": "light"
     },
     "output_type": "display_data"
    }
   ],
   "source": [
    "sector_id = 14\n",
    "specification = ['st_is_medical', \n",
    "                 'st_is_retail', \n",
    "               'st_b_ln_non_residential_sqft', \n",
    "               'st_zones_ln_empden_14',\n",
    "#                'st_jobs_within_30_min', \n",
    "#                'st_zones_popden',\n",
    "                 'st_zones_prop_industrial_buildings',\n",
    "#                 'st_building_age'\n",
    "                ]\n",
    "\n",
    "choosers_fit_filter = \"(building_id_16 == -1) & (sector_id == {}) & (home_based_status == 0)\".format(str(sector_id))\n",
    "dcm = MNLDiscreteChoiceModel(model_expression=specification,\n",
    "                             sample_size=300,\n",
    "                             probability_mode='single_chooser',\n",
    "                             choice_mode='aggregate',\n",
    "#                              estimation_sample_size=1000,\n",
    "                             choosers_fit_filters=choosers_fit_filter,\n",
    "                            alts_fit_filters = alts_fit_filters)\n",
    "\n",
    "dcm.fit(choosers, alternatives, 'job_spot_id')\n",
    "\n",
    "print dcm.report_fit()\n",
    "dcm.alts_predict_filters = 'vacant_job_spaces > 0'\n",
    "proba = dcm.probabilities(jobs, alternatives, filter_tables=True).reset_index().set_index('alternative_id')[0]\n",
    "pd.DataFrame({'proba':proba, 'btype_id':alternatives.building_type_id}).groupby('btype_id').sum().plot.bar()"
   ]
  },
  {
   "cell_type": "code",
   "execution_count": 28,
   "metadata": {},
   "outputs": [],
   "source": [
    "#Register the model to configs dir\n",
    "register_elcm_model(dcm, sector_id)"
   ]
  },
  {
   "cell_type": "markdown",
   "metadata": {},
   "source": [
    "## Sector 6: Transportation & Warehousing"
   ]
  },
  {
   "cell_type": "code",
   "execution_count": 36,
   "metadata": {
    "scrolled": true
   },
   "outputs": [
    {
     "data": {
      "text/plain": [
       "Index([u'building_id', u'occupied', u'building_type_id',\n",
       "       u'non_residential_sqft', u'parcel_id', u'st_zones_ln_empden_9',\n",
       "       u'st_zones_ln_empden_8', u'st_b_ln_non_residential_sqft',\n",
       "       u'st_zones_ln_empden_5', u'st_zones_ln_empden_4',\n",
       "       u'st_zones_ln_empden_3', u'st_zones_popden', u'st_stories',\n",
       "       u'st_zones_prop_office_buildings', u'st_zones_ln_empden_14',\n",
       "       u'st_zones_ln_popden', u'st_is_retail', u'st_is_tcu',\n",
       "       u'st_zones_empden', u'vacant_job_spaces', u'st_building_age',\n",
       "       u'st_zones_ln_empden_6', u'st_is_office',\n",
       "       u'st_zones_prop_medical_buildings', u'st_zones_ln_empden_2',\n",
       "       u'job_spaces', u'st_jobs_within_30_min', u'zone_id',\n",
       "       u'st_zones_ln_empden_11', u'st_zones_ln_empden_10',\n",
       "       u'st_zones_ln_empden_17', u'st_zones_ln_empden_16',\n",
       "       u'st_building_type_id_is_26', u'st_zones_prop_industrial_buildings',\n",
       "       u'st_zones_ln_empden', u'st_is_medical', u'st_is_industrial'],\n",
       "      dtype='object')"
      ]
     },
     "execution_count": 36,
     "metadata": {},
     "output_type": "execute_result"
    }
   ],
   "source": [
    "cols = alternatives.columns\n",
    "# [c for c in cols if 'building_type_id_is_' in c]\n",
    "cols"
   ]
  },
  {
   "cell_type": "code",
   "execution_count": 38,
   "metadata": {},
   "outputs": [
    {
     "name": "stdout",
     "output_type": "stream",
     "text": [
      "Null Log-liklihood: -17202.608\n",
      "Log-liklihood at convergence: -12388.229\n",
      "Log-liklihood Ratio: 0.280\n",
      "\n",
      "+------------------------------+-------------+------------+---------+\n",
      "| Component                    | Coefficient | Std. Error | T-Score |\n",
      "+------------------------------+-------------+------------+---------+\n",
      "| st_is_tcu                    |    0.202    |   0.004    |  56.618 |\n",
      "| st_b_ln_non_residential_sqft |    -0.321   |   0.007    | -44.190 |\n",
      "| st_zones_ln_empden_6         |    0.177    |   0.003    |  64.443 |\n",
      "| st_stories                   |    -0.079   |   0.004    | -22.360 |\n",
      "| st_building_age              |    -0.324   |   0.024    | -13.450 |\n",
      "+------------------------------+-------------+------------+---------+\n",
      "None\n"
     ]
    },
    {
     "data": {
      "text/plain": [
       "<matplotlib.axes._subplots.AxesSubplot at 0x12614dc50>"
      ]
     },
     "execution_count": 38,
     "metadata": {},
     "output_type": "execute_result"
    },
    {
     "data": {
      "image/png": "[encoded data removed]",
      "text/plain": [
       "<Figure size 432x288 with 1 Axes>"
      ]
     },
     "metadata": {
      "needs_background": "light"
     },
     "output_type": "display_data"
    }
   ],
   "source": [
    "sector_id = 6\n",
    "specification = ['st_is_tcu', \n",
    "               'st_b_ln_non_residential_sqft', \n",
    "               'st_zones_ln_empden_6',\n",
    "#                'st_jobs_within_30_min', \n",
    "#                'st_zones_popden',\n",
    "                 'st_stories',\n",
    "                'st_building_age']\n",
    "\n",
    "choosers_fit_filter = \"(building_id_16 == -1) & (sector_id == {}) & (home_based_status == 0)\".format(str(sector_id))\n",
    "dcm = MNLDiscreteChoiceModel(model_expression=specification,\n",
    "                             sample_size=300,\n",
    "                             probability_mode='single_chooser',\n",
    "                             choice_mode='aggregate',\n",
    "#                              estimation_sample_size=5000,\n",
    "                             choosers_fit_filters=choosers_fit_filter,\n",
    "                            alts_fit_filters = alts_fit_filters)\n",
    "\n",
    "dcm.fit(choosers, alternatives, 'job_spot_id')\n",
    "\n",
    "print dcm.report_fit()\n",
    "dcm.alts_predict_filters = 'vacant_job_spaces > 0'\n",
    "proba = dcm.probabilities(jobs, alternatives).reset_index().set_index('alternative_id')[0]\n",
    "pd.DataFrame({'proba':proba, 'btype_id':alternatives.building_type_id}).groupby('btype_id').sum().plot.bar()"
   ]
  },
  {
   "cell_type": "code",
   "execution_count": 39,
   "metadata": {},
   "outputs": [],
   "source": [
    "#Register the model to configs dir\n",
    "register_elcm_model(dcm, sector_id)"
   ]
  },
  {
   "cell_type": "markdown",
   "metadata": {},
   "source": [
    "## Sector 2: Construction"
   ]
  },
  {
   "cell_type": "code",
   "execution_count": 46,
   "metadata": {},
   "outputs": [
    {
     "name": "stdout",
     "output_type": "stream",
     "text": [
      "Null Log-liklihood: -15286.137\n",
      "Log-liklihood at convergence: -13757.082\n",
      "Log-liklihood Ratio: 0.100\n",
      "\n",
      "+------------------------------+-------------+------------+----------+\n",
      "| Component                    | Coefficient | Std. Error | T-Score  |\n",
      "+------------------------------+-------------+------------+----------+\n",
      "| st_is_industrial             |    0.079    |   0.004    |  20.967  |\n",
      "| st_b_ln_non_residential_sqft |    -1.052   |   0.007    | -154.979 |\n",
      "| st_zones_ln_empden_2         |    0.179    |   0.007    |  27.512  |\n",
      "| st_building_age              |    -0.424   |   0.024    | -17.660  |\n",
      "+------------------------------+-------------+------------+----------+\n",
      "None\n"
     ]
    },
    {
     "data": {
      "text/plain": [
       "<matplotlib.axes._subplots.AxesSubplot at 0x12a1352d0>"
      ]
     },
     "execution_count": 46,
     "metadata": {},
     "output_type": "execute_result"
    },
    {
     "data": {
      "image/png": "[encoded data removed]",
      "text/plain": [
       "<Figure size 432x288 with 1 Axes>"
      ]
     },
     "metadata": {
      "needs_background": "light"
     },
     "output_type": "display_data"
    }
   ],
   "source": [
    "sector_id = 2\n",
    "specification = [\n",
    "#                 'st_is_office', \n",
    "               'st_is_industrial', \n",
    "               'st_b_ln_non_residential_sqft', \n",
    "               'st_zones_ln_empden_2',\n",
    "#                'st_jobs_within_30_min', \n",
    "#                'st_zones_popden',\n",
    "                'st_building_age']\n",
    "\n",
    "choosers_fit_filter = \"(building_id_16 == -1) & (sector_id == {}) & (home_based_status == 0)\".format(str(sector_id))\n",
    "dcm = MNLDiscreteChoiceModel(model_expression=specification,\n",
    "                             sample_size=300,\n",
    "                             probability_mode='single_chooser',\n",
    "                             choice_mode='aggregate',\n",
    "#                              estimation_sample_size=5000,\n",
    "                             choosers_fit_filters=choosers_fit_filter,\n",
    "                            alts_fit_filters = alts_fit_filters)\n",
    "\n",
    "dcm.fit(choosers, alternatives, 'job_spot_id')\n",
    "\n",
    "print dcm.report_fit()\n",
    "dcm.alts_predict_filters = 'vacant_job_spaces > 0'\n",
    "proba = dcm.probabilities(jobs, alternatives).reset_index().set_index('alternative_id')[0]\n",
    "pd.DataFrame({'proba':proba, 'btype_id':alternatives.building_type_id}).groupby('btype_id').sum().plot.bar()"
   ]
  },
  {
   "cell_type": "code",
   "execution_count": 47,
   "metadata": {},
   "outputs": [],
   "source": [
    "#Register the model to configs dir\n",
    "register_elcm_model(dcm, sector_id)"
   ]
  },
  {
   "cell_type": "markdown",
   "metadata": {},
   "source": [
    "## Sector 3: Manufacturing"
   ]
  },
  {
   "cell_type": "code",
   "execution_count": 51,
   "metadata": {},
   "outputs": [
    {
     "name": "stdout",
     "output_type": "stream",
     "text": [
      "Null Log-liklihood: -63083.834\n",
      "Log-liklihood at convergence: -52322.001\n",
      "Log-liklihood Ratio: 0.171\n",
      "\n",
      "+------------------------------------+-------------+------------+---------+\n",
      "| Component                          | Coefficient | Std. Error | T-Score |\n",
      "+------------------------------------+-------------+------------+---------+\n",
      "| st_is_industrial                   |    0.202    |   0.002    |  93.116 |\n",
      "| st_b_ln_non_residential_sqft       |    -0.239   |   0.005    | -48.386 |\n",
      "| st_zones_ln_empden_3               |    0.245    |   0.004    |  61.424 |\n",
      "| st_jobs_within_30_min              |    -0.243   |   0.012    | -20.474 |\n",
      "| st_zones_prop_industrial_buildings |    -0.042   |   0.002    | -24.622 |\n",
      "| st_building_age                    |    -0.269   |   0.013    | -21.445 |\n",
      "+------------------------------------+-------------+------------+---------+\n",
      "None\n"
     ]
    },
    {
     "data": {
      "text/plain": [
       "<matplotlib.axes._subplots.AxesSubplot at 0x129ff8bd0>"
      ]
     },
     "execution_count": 51,
     "metadata": {},
     "output_type": "execute_result"
    },
    {
     "data": {
      "image/png": "[encoded data removed]",
      "text/plain": [
       "<Figure size 432x288 with 1 Axes>"
      ]
     },
     "metadata": {
      "needs_background": "light"
     },
     "output_type": "display_data"
    }
   ],
   "source": [
    "sector_id = 3\n",
    "specification = ['st_is_industrial', \n",
    "               'st_b_ln_non_residential_sqft', \n",
    "               'st_zones_ln_empden_3',\n",
    "               'st_jobs_within_30_min', \n",
    "#                'st_zones_ln_empden',\n",
    "                 'st_zones_prop_industrial_buildings',\n",
    "                'st_building_age', \n",
    "#                'st_is_retail'\n",
    "                ]\n",
    "\n",
    "choosers_fit_filter = \"(building_id_16 == -1) & (sector_id == {}) & (home_based_status == 0)\".format(str(sector_id))\n",
    "dcm = MNLDiscreteChoiceModel(model_expression=specification,\n",
    "                             sample_size=300,\n",
    "                             probability_mode='single_chooser',\n",
    "                             choice_mode='aggregate',\n",
    "#                              estimation_sample_size=5000,\n",
    "                             choosers_fit_filters=choosers_fit_filter,\n",
    "                            alts_fit_filters = alts_fit_filters)\n",
    "\n",
    "dcm.fit(choosers, alternatives, 'job_spot_id')\n",
    "\n",
    "print dcm.report_fit()\n",
    "dcm.alts_predict_filters = 'vacant_job_spaces > 0'\n",
    "proba = dcm.probabilities(jobs, alternatives).reset_index().set_index('alternative_id')[0]\n",
    "pd.DataFrame({'proba':proba, 'btype_id':alternatives.building_type_id}).groupby('btype_id').sum().plot.bar()"
   ]
  },
  {
   "cell_type": "code",
   "execution_count": 52,
   "metadata": {},
   "outputs": [],
   "source": [
    "#Register the model to configs dir\n",
    "register_elcm_model(dcm, sector_id)"
   ]
  },
  {
   "cell_type": "markdown",
   "metadata": {},
   "source": [
    "## Sector 4: WholeSale Trade"
   ]
  },
  {
   "cell_type": "code",
   "execution_count": 77,
   "metadata": {},
   "outputs": [
    {
     "name": "stdout",
     "output_type": "stream",
     "text": [
      "Null Log-liklihood: -38626.015\n",
      "Log-liklihood at convergence: -33592.485\n",
      "Log-liklihood Ratio: 0.130\n",
      "\n",
      "+------------------------------+-------------+------------+----------+\n",
      "| Component                    | Coefficient | Std. Error | T-Score  |\n",
      "+------------------------------+-------------+------------+----------+\n",
      "| st_is_office                 |    -0.062   |   0.004    | -16.551  |\n",
      "| st_is_industrial             |    0.077    |   0.003    |  28.796  |\n",
      "| st_b_ln_non_residential_sqft |    -0.593   |   0.005    | -110.602 |\n",
      "| st_zones_ln_empden_4         |    0.274    |   0.005    |  55.473  |\n",
      "| st_building_type_id_is_26    |    -0.208   |   0.012    | -17.187  |\n",
      "| st_zones_ln_empden           |    -0.190   |   0.013    | -14.716  |\n",
      "| st_building_age              |    -0.350   |   0.015    | -23.483  |\n",
      "+------------------------------+-------------+------------+----------+\n",
      "None\n"
     ]
    },
    {
     "data": {
      "text/plain": [
       "<matplotlib.axes._subplots.AxesSubplot at 0x1321407d0>"
      ]
     },
     "execution_count": 77,
     "metadata": {},
     "output_type": "execute_result"
    },
    {
     "data": {
      "image/png": "[encoded data removed]",
      "text/plain": [
       "<Figure size 432x288 with 1 Axes>"
      ]
     },
     "metadata": {
      "needs_background": "light"
     },
     "output_type": "display_data"
    }
   ],
   "source": [
    "sector_id = 4\n",
    "specification = ['st_is_office',\n",
    "                'st_is_industrial', \n",
    "#                  'st_is_medical',\n",
    "               'st_b_ln_non_residential_sqft', \n",
    "               'st_zones_ln_empden_4',\n",
    "                 'st_building_type_id_is_26',\n",
    "#                'st_jobs_within_30_min', \n",
    "#                'st_zones_ln_popden',\n",
    "                 'st_zones_ln_empden',\n",
    "                'st_building_age',\n",
    "#                 'st_zones_prop_medical_buildings',\n",
    "                ]\n",
    "\n",
    "choosers_fit_filter = \"(building_id_16 == -1) & (sector_id == {}) & (home_based_status == 0)\".format(str(sector_id))\n",
    "dcm = MNLDiscreteChoiceModel(model_expression=specification,\n",
    "                             sample_size=300,\n",
    "                             probability_mode='single_chooser',\n",
    "                             choice_mode='aggregate',\n",
    "#                              estimation_sample_size=5000,\n",
    "                             choosers_fit_filters=choosers_fit_filter,\n",
    "                            alts_fit_filters = alts_fit_filters)\n",
    "\n",
    "dcm.fit(choosers, alternatives, 'job_spot_id')\n",
    "\n",
    "print dcm.report_fit()\n",
    "dcm.alts_predict_filters = 'vacant_job_spaces > 0'\n",
    "proba = dcm.probabilities(jobs, alternatives).reset_index().set_index('alternative_id')[0]\n",
    "pd.DataFrame({'proba':proba, 'btype_id':alternatives.building_type_id}).groupby('btype_id').sum().plot.bar()"
   ]
  },
  {
   "cell_type": "code",
   "execution_count": 78,
   "metadata": {},
   "outputs": [],
   "source": [
    "#Register the model to configs dir\n",
    "register_elcm_model(dcm, sector_id)"
   ]
  },
  {
   "cell_type": "markdown",
   "metadata": {},
   "source": [
    "## Sector 5: Retail"
   ]
  },
  {
   "cell_type": "code",
   "execution_count": 80,
   "metadata": {},
   "outputs": [
    {
     "name": "stdout",
     "output_type": "stream",
     "text": [
      "Null Log-liklihood: -73892.502\n",
      "Log-liklihood at convergence: -57956.572\n",
      "Log-liklihood Ratio: 0.216\n",
      "\n",
      "+------------------------------+-------------+------------+---------+\n",
      "| Component                    | Coefficient | Std. Error | T-Score |\n",
      "+------------------------------+-------------+------------+---------+\n",
      "| st_is_retail                 |    0.390    |   0.004    | 106.683 |\n",
      "| st_b_ln_non_residential_sqft |    0.294    |   0.005    |  58.461 |\n",
      "| st_zones_ln_empden_5         |    0.280    |   0.004    |  66.176 |\n",
      "| st_zones_ln_empden_8         |    -0.030   |   0.003    |  -8.580 |\n",
      "| st_zones_ln_empden           |    -0.258   |   0.012    | -22.406 |\n",
      "| st_zones_ln_popden           |    0.150    |   0.009    |  16.349 |\n",
      "| st_building_age              |    -0.399   |   0.011    | -35.911 |\n",
      "+------------------------------+-------------+------------+---------+\n",
      "None\n"
     ]
    },
    {
     "data": {
      "text/plain": [
       "<matplotlib.axes._subplots.AxesSubplot at 0x1393611d0>"
      ]
     },
     "execution_count": 80,
     "metadata": {},
     "output_type": "execute_result"
    },
    {
     "data": {
      "image/png": "[encoded data removed]",
      "text/plain": [
       "<Figure size 432x288 with 1 Axes>"
      ]
     },
     "metadata": {
      "needs_background": "light"
     },
     "output_type": "display_data"
    }
   ],
   "source": [
    "sector_id = 5\n",
    "specification = ['st_is_retail', \n",
    "               'st_b_ln_non_residential_sqft', \n",
    "               'st_zones_ln_empden_5',\n",
    "                 'st_zones_ln_empden_8',\n",
    "               'st_zones_ln_empden', \n",
    "               'st_zones_ln_popden',\n",
    "                'st_building_age'\n",
    "                ]\n",
    "\n",
    "choosers_fit_filter = \"(building_id_16 == -1) & (sector_id == {}) & (home_based_status == 0)\".format(str(sector_id))\n",
    "dcm = MNLDiscreteChoiceModel(model_expression=specification,\n",
    "                             sample_size=300,\n",
    "                             probability_mode='single_chooser',\n",
    "                             choice_mode='aggregate',\n",
    "#                              estimation_sample_size=5000,\n",
    "                             choosers_fit_filters=choosers_fit_filter,\n",
    "                            alts_fit_filters = alts_fit_filters)\n",
    "\n",
    "dcm.fit(choosers, alternatives, 'job_spot_id')\n",
    "\n",
    "print dcm.report_fit()\n",
    "dcm.alts_predict_filters = 'vacant_job_spaces > 0'\n",
    "proba = dcm.probabilities(jobs, alternatives).reset_index().set_index('alternative_id')[0]\n",
    "pd.DataFrame({'proba':proba, 'btype_id':alternatives.building_type_id}).groupby('btype_id').sum().plot.bar()"
   ]
  },
  {
   "cell_type": "code",
   "execution_count": 81,
   "metadata": {},
   "outputs": [],
   "source": [
    "#Register the model to configs dir\n",
    "register_elcm_model(dcm, sector_id)"
   ]
  },
  {
   "cell_type": "markdown",
   "metadata": {},
   "source": [
    "## Sector 8 : Information"
   ]
  },
  {
   "cell_type": "code",
   "execution_count": 91,
   "metadata": {},
   "outputs": [
    {
     "name": "stdout",
     "output_type": "stream",
     "text": [
      "Null Log-liklihood: -12810.695\n",
      "Log-liklihood at convergence: -11725.576\n",
      "Log-liklihood Ratio: 0.085\n",
      "\n",
      "+------------------------------+-------------+------------+---------+\n",
      "| Component                    | Coefficient | Std. Error | T-Score |\n",
      "+------------------------------+-------------+------------+---------+\n",
      "| st_is_office                 |    0.077    |   0.005    |  15.700 |\n",
      "| st_b_ln_non_residential_sqft |    -0.143   |   0.007    | -19.219 |\n",
      "| st_zones_ln_empden_8         |    0.096    |   0.003    |  36.278 |\n",
      "| st_jobs_within_30_min        |    0.099    |   0.025    |  3.956  |\n",
      "| st_stories                   |    -0.031   |   0.002    | -16.375 |\n",
      "+------------------------------+-------------+------------+---------+\n",
      "None\n"
     ]
    },
    {
     "data": {
      "text/plain": [
       "<matplotlib.axes._subplots.AxesSubplot at 0x1391e2250>"
      ]
     },
     "execution_count": 91,
     "metadata": {},
     "output_type": "execute_result"
    },
    {
     "data": {
      "image/png": "[encoded data removed]",
      "text/plain": [
       "<Figure size 432x288 with 1 Axes>"
      ]
     },
     "metadata": {
      "needs_background": "light"
     },
     "output_type": "display_data"
    }
   ],
   "source": [
    "sector_id = 8\n",
    "specification = ['st_is_office', \n",
    "               'st_b_ln_non_residential_sqft', \n",
    "               'st_zones_ln_empden_8',\n",
    "#                  'st_zones_ln_empden_5',\n",
    "               'st_jobs_within_30_min', \n",
    "#                'st_zones_popden',\n",
    "#                 'st_zones_prop_industrial_buildings',\n",
    "                 'st_stories'\n",
    "                ]\n",
    "\n",
    "choosers_fit_filter = \"(building_id_16 == -1) & (sector_id == {}) & (home_based_status == 0)\".format(str(sector_id))\n",
    "dcm = MNLDiscreteChoiceModel(model_expression=specification,\n",
    "                             sample_size=300,\n",
    "                             probability_mode='single_chooser',\n",
    "                             choice_mode='aggregate',\n",
    "#                              estimation_sample_size=5000,\n",
    "                             choosers_fit_filters=choosers_fit_filter,\n",
    "                            alts_fit_filters = alts_fit_filters)\n",
    "\n",
    "dcm.fit(choosers, alternatives, 'job_spot_id')\n",
    "\n",
    "print dcm.report_fit()\n",
    "dcm.alts_predict_filters = 'vacant_job_spaces > 0'\n",
    "proba = dcm.probabilities(jobs, alternatives).reset_index().set_index('alternative_id')[0]\n",
    "pd.DataFrame({'proba':proba, 'btype_id':alternatives.building_type_id}).groupby('btype_id').sum().plot.bar()"
   ]
  },
  {
   "cell_type": "code",
   "execution_count": 92,
   "metadata": {},
   "outputs": [],
   "source": [
    "#Register the model to configs dir\n",
    "register_elcm_model(dcm, sector_id)"
   ]
  },
  {
   "cell_type": "markdown",
   "metadata": {},
   "source": [
    "## Sector 9: Finance & Insurance"
   ]
  },
  {
   "cell_type": "code",
   "execution_count": 94,
   "metadata": {},
   "outputs": [
    {
     "name": "stdout",
     "output_type": "stream",
     "text": [
      "Null Log-liklihood: -77731.148\n",
      "Log-liklihood at convergence: -67278.456\n",
      "Log-liklihood Ratio: 0.134\n",
      "\n",
      "+------------------------------+-------------+------------+----------+\n",
      "| Component                    | Coefficient | Std. Error | T-Score  |\n",
      "+------------------------------+-------------+------------+----------+\n",
      "| st_is_office                 |    0.156    |   0.002    |  73.079  |\n",
      "| st_b_ln_non_residential_sqft |    -0.533   |   0.004    | -122.185 |\n",
      "| st_stories                   |    -0.019   |   0.001    | -19.798  |\n",
      "| st_zones_ln_empden_9         |    0.211    |   0.003    |  62.852  |\n",
      "| st_zones_ln_popden           |    0.194    |   0.008    |  24.896  |\n",
      "| st_zones_ln_empden           |    -0.235   |   0.010    | -22.704  |\n",
      "| st_building_age              |    -0.486   |   0.011    | -45.976  |\n",
      "+------------------------------+-------------+------------+----------+\n",
      "None\n"
     ]
    },
    {
     "data": {
      "text/plain": [
       "<matplotlib.axes._subplots.AxesSubplot at 0x139241150>"
      ]
     },
     "execution_count": 94,
     "metadata": {},
     "output_type": "execute_result"
    },
    {
     "data": {
      "image/png": "[encoded data removed]",
      "text/plain": [
       "<Figure size 432x288 with 1 Axes>"
      ]
     },
     "metadata": {
      "needs_background": "light"
     },
     "output_type": "display_data"
    }
   ],
   "source": [
    "sector_id = 9\n",
    "specification = ['st_is_office', \n",
    "               'st_b_ln_non_residential_sqft',\n",
    "                 'st_stories',\n",
    "               'st_zones_ln_empden_9',\n",
    "#                  'st_zones_ln_empden_11',\n",
    "#                'st_jobs_within_30_min', \n",
    "               'st_zones_ln_popden',\n",
    "                 'st_zones_ln_empden',\n",
    "                'st_building_age']\n",
    "\n",
    "choosers_fit_filter = \"(building_id_16 == -1) & (sector_id == {}) & (home_based_status == 0)\".format(str(sector_id))\n",
    "dcm = MNLDiscreteChoiceModel(model_expression=specification,\n",
    "                             sample_size=300,\n",
    "                             probability_mode='single_chooser',\n",
    "                             choice_mode='aggregate',\n",
    "#                              estimation_sample_size=5000,\n",
    "                             choosers_fit_filters=choosers_fit_filter,\n",
    "                            alts_fit_filters = alts_fit_filters)\n",
    "\n",
    "dcm.fit(choosers, alternatives, 'job_spot_id')\n",
    "\n",
    "print dcm.report_fit()\n",
    "dcm.alts_predict_filters = 'vacant_job_spaces > 0'\n",
    "proba = dcm.probabilities(jobs, alternatives).reset_index().set_index('alternative_id')[0]\n",
    "pd.DataFrame({'proba':proba, 'btype_id':alternatives.building_type_id}).groupby('btype_id').sum().plot.bar()"
   ]
  },
  {
   "cell_type": "code",
   "execution_count": 95,
   "metadata": {},
   "outputs": [],
   "source": [
    "#Register the model to configs dir\n",
    "register_elcm_model(dcm, sector_id)"
   ]
  },
  {
   "cell_type": "markdown",
   "metadata": {},
   "source": [
    "## Sector 10: Professional, Scientific and Technical Services"
   ]
  },
  {
   "cell_type": "code",
   "execution_count": 97,
   "metadata": {},
   "outputs": [
    {
     "name": "stdout",
     "output_type": "stream",
     "text": [
      "Null Log-liklihood: -129829.497\n",
      "Log-liklihood at convergence: -115798.899\n",
      "Log-liklihood Ratio: 0.108\n",
      "\n",
      "+------------------------------+-------------+------------+---------+\n",
      "| Component                    | Coefficient | Std. Error | T-Score |\n",
      "+------------------------------+-------------+------------+---------+\n",
      "| st_is_office                 |    0.064    |   0.002    |  41.673 |\n",
      "| st_b_ln_non_residential_sqft |    -0.002   |   0.003    |  -0.775 |\n",
      "| st_stories                   |    -0.035   |   0.001    | -60.065 |\n",
      "| st_zones_ln_empden_10        |    0.270    |   0.002    | 111.739 |\n",
      "| st_zones_ln_popden           |    0.104    |   0.007    |  15.442 |\n",
      "| st_zones_ln_empden           |    -0.379   |   0.007    | -51.996 |\n",
      "| st_building_age              |    -0.345   |   0.008    | -43.639 |\n",
      "+------------------------------+-------------+------------+---------+\n",
      "None\n"
     ]
    },
    {
     "data": {
      "text/plain": [
       "<matplotlib.axes._subplots.AxesSubplot at 0x139f6d910>"
      ]
     },
     "execution_count": 97,
     "metadata": {},
     "output_type": "execute_result"
    },
    {
     "data": {
      "image/png": "[encoded data removed]",
      "text/plain": [
       "<Figure size 432x288 with 1 Axes>"
      ]
     },
     "metadata": {
      "needs_background": "light"
     },
     "output_type": "display_data"
    }
   ],
   "source": [
    "sector_id = 10\n",
    "specification = ['st_is_office', \n",
    "               'st_b_ln_non_residential_sqft',\n",
    "                 'st_stories',\n",
    "               'st_zones_ln_empden_10',\n",
    "#                'st_jobs_within_30_min', \n",
    "               'st_zones_ln_popden',\n",
    "                 'st_zones_ln_empden',\n",
    "                'st_building_age']\n",
    "\n",
    "choosers_fit_filter = \"(building_id_16 == -1) & (sector_id == {}) & (home_based_status == 0)\".format(str(sector_id))\n",
    "dcm = MNLDiscreteChoiceModel(model_expression=specification,\n",
    "                             sample_size=300,\n",
    "                             probability_mode='single_chooser',\n",
    "                             choice_mode='aggregate',\n",
    "#                              estimation_sample_size=5000,\n",
    "                             choosers_fit_filters=choosers_fit_filter,\n",
    "                            alts_fit_filters = alts_fit_filters)\n",
    "\n",
    "dcm.fit(choosers, alternatives, 'job_spot_id')\n",
    "\n",
    "print dcm.report_fit()\n",
    "dcm.alts_predict_filters = 'vacant_job_spaces > 0'\n",
    "proba = dcm.probabilities(jobs, alternatives).reset_index().set_index('alternative_id')[0]\n",
    "pd.DataFrame({'proba':proba, 'btype_id':alternatives.building_type_id}).groupby('btype_id').sum().plot.bar()"
   ]
  },
  {
   "cell_type": "code",
   "execution_count": 98,
   "metadata": {},
   "outputs": [],
   "source": [
    "#Register the model to configs dir\n",
    "register_elcm_model(dcm, sector_id)"
   ]
  },
  {
   "cell_type": "markdown",
   "metadata": {},
   "source": [
    "## Sector 11: Management of Companies and Enterprises"
   ]
  },
  {
   "cell_type": "code",
   "execution_count": 100,
   "metadata": {},
   "outputs": [
    {
     "name": "stdout",
     "output_type": "stream",
     "text": [
      "Null Log-liklihood: -10032.953\n",
      "Log-liklihood at convergence: -7045.626\n",
      "Log-liklihood Ratio: 0.298\n",
      "\n",
      "+------------------------------+-------------+------------+---------+\n",
      "| Component                    | Coefficient | Std. Error | T-Score |\n",
      "+------------------------------+-------------+------------+---------+\n",
      "| st_is_office                 |    0.082    |   0.006    |  12.999 |\n",
      "| st_b_ln_non_residential_sqft |    0.422    |   0.011    |  38.887 |\n",
      "| st_zones_ln_empden_11        |    0.097    |   0.002    |  39.800 |\n",
      "| st_jobs_within_30_min        |    0.537    |   0.047    |  11.380 |\n",
      "| st_zones_ln_empden           |    -0.555   |   0.025    | -22.156 |\n",
      "| st_building_age              |    -0.599   |   0.030    | -19.757 |\n",
      "+------------------------------+-------------+------------+---------+\n",
      "None\n"
     ]
    },
    {
     "data": {
      "text/plain": [
       "<matplotlib.axes._subplots.AxesSubplot at 0x13aa71790>"
      ]
     },
     "execution_count": 100,
     "metadata": {},
     "output_type": "execute_result"
    },
    {
     "data": {
      "image/png": "[encoded data removed]",
      "text/plain": [
       "<Figure size 432x288 with 1 Axes>"
      ]
     },
     "metadata": {
      "needs_background": "light"
     },
     "output_type": "display_data"
    }
   ],
   "source": [
    "sector_id = 11\n",
    "specification = ['st_is_office', \n",
    "               'st_b_ln_non_residential_sqft', \n",
    "               'st_zones_ln_empden_11',\n",
    "               'st_jobs_within_30_min', \n",
    "#                'st_zones_popden',\n",
    "                 'st_zones_ln_empden',\n",
    "                'st_building_age']\n",
    "\n",
    "choosers_fit_filter = \"(building_id_16 == -1) & (sector_id == {}) & (home_based_status == 0)\".format(str(sector_id))\n",
    "dcm = MNLDiscreteChoiceModel(model_expression=specification,\n",
    "                             sample_size=300,\n",
    "                             probability_mode='single_chooser',\n",
    "                             choice_mode='aggregate',\n",
    "#                              estimation_sample_size=5000,\n",
    "                             choosers_fit_filters=choosers_fit_filter,\n",
    "                            alts_fit_filters = alts_fit_filters)\n",
    "\n",
    "dcm.fit(choosers, alternatives, 'job_spot_id')\n",
    "\n",
    "print dcm.report_fit()\n",
    "dcm.alts_predict_filters = 'vacant_job_spaces > 0'\n",
    "proba = dcm.probabilities(jobs, alternatives).reset_index().set_index('alternative_id')[0]\n",
    "pd.DataFrame({'proba':proba, 'btype_id':alternatives.building_type_id}).groupby('btype_id').sum().plot.bar()"
   ]
  },
  {
   "cell_type": "code",
   "execution_count": 101,
   "metadata": {},
   "outputs": [],
   "source": [
    "#Register the model to configs dir\n",
    "register_elcm_model(dcm, sector_id)"
   ]
  },
  {
   "cell_type": "markdown",
   "metadata": {},
   "source": [
    "## Sector 12: Administrative and Support and Waste Managemen"
   ]
  },
  {
   "cell_type": "code",
   "execution_count": 100,
   "metadata": {},
   "outputs": [
    {
     "name": "stdout",
     "output_type": "stream",
     "text": [
      "Null Log-liklihood: -10032.953\n",
      "Log-liklihood at convergence: -7045.626\n",
      "Log-liklihood Ratio: 0.298\n",
      "\n",
      "+------------------------------+-------------+------------+---------+\n",
      "| Component                    | Coefficient | Std. Error | T-Score |\n",
      "+------------------------------+-------------+------------+---------+\n",
      "| st_is_office                 |    0.082    |   0.006    |  12.999 |\n",
      "| st_b_ln_non_residential_sqft |    0.422    |   0.011    |  38.887 |\n",
      "| st_zones_ln_empden_11        |    0.097    |   0.002    |  39.800 |\n",
      "| st_jobs_within_30_min        |    0.537    |   0.047    |  11.380 |\n",
      "| st_zones_ln_empden           |    -0.555   |   0.025    | -22.156 |\n",
      "| st_building_age              |    -0.599   |   0.030    | -19.757 |\n",
      "+------------------------------+-------------+------------+---------+\n",
      "None\n"
     ]
    },
    {
     "data": {
      "text/plain": [
       "<matplotlib.axes._subplots.AxesSubplot at 0x13aa71790>"
      ]
     },
     "execution_count": 100,
     "metadata": {},
     "output_type": "execute_result"
    },
    {
     "data": {
      "image/png": "[encoded data removed]",
      "text/plain": [
       "<Figure size 432x288 with 1 Axes>"
      ]
     },
     "metadata": {
      "needs_background": "light"
     },
     "output_type": "display_data"
    }
   ],
   "source": [
    "sector_id = 11\n",
    "specification = ['st_is_office', \n",
    "               'st_b_ln_non_residential_sqft', \n",
    "               'st_zones_ln_empden_11',\n",
    "               'st_jobs_within_30_min', \n",
    "#                'st_zones_popden',\n",
    "                 'st_zones_ln_empden',\n",
    "                'st_building_age']\n",
    "\n",
    "choosers_fit_filter = \"(building_id_16 == -1) & (sector_id == {}) & (home_based_status == 0)\".format(str(sector_id))\n",
    "dcm = MNLDiscreteChoiceModel(model_expression=specification,\n",
    "                             sample_size=300,\n",
    "                             probability_mode='single_chooser',\n",
    "                             choice_mode='aggregate',\n",
    "#                              estimation_sample_size=5000,\n",
    "                             choosers_fit_filters=choosers_fit_filter,\n",
    "                            alts_fit_filters = alts_fit_filters)\n",
    "\n",
    "dcm.fit(choosers, alternatives, 'job_spot_id')\n",
    "\n",
    "print dcm.report_fit()\n",
    "dcm.alts_predict_filters = 'vacant_job_spaces > 0'\n",
    "proba = dcm.probabilities(jobs, alternatives).reset_index().set_index('alternative_id')[0]\n",
    "pd.DataFrame({'proba':proba, 'btype_id':alternatives.building_type_id}).groupby('btype_id').sum().plot.bar()"
   ]
  },
  {
   "cell_type": "code",
   "execution_count": 101,
   "metadata": {},
   "outputs": [],
   "source": [
    "#Register the model to configs dir\n",
    "register_elcm_model(dcm, sector_id)"
   ]
  },
  {
   "cell_type": "markdown",
   "metadata": {},
   "source": [
    "## Sector 16: Arts, Entertainment & Recreation"
   ]
  },
  {
   "cell_type": "code",
   "execution_count": 105,
   "metadata": {},
   "outputs": [
    {
     "name": "stdout",
     "output_type": "stream",
     "text": [
      "Null Log-liklihood: -86172.746\n",
      "Log-liklihood at convergence: -67681.082\n",
      "Log-liklihood Ratio: 0.215\n",
      "\n",
      "+------------------------------+-------------+------------+----------+\n",
      "| Component                    | Coefficient | Std. Error | T-Score  |\n",
      "+------------------------------+-------------+------------+----------+\n",
      "| st_is_retail                 |    0.421    |   0.004    | 116.995  |\n",
      "| st_building_type_id_is_26    |    -0.011   |   0.001    |  -9.938  |\n",
      "| st_stories                   |    -0.006   |   0.001    |  -5.625  |\n",
      "| st_b_ln_non_residential_sqft |    -0.544   |   0.005    | -118.519 |\n",
      "| st_zones_ln_empden_16        |    0.175    |   0.002    |  79.413  |\n",
      "| st_zones_popden              |    -0.107   |   0.007    | -15.457  |\n",
      "| st_building_age              |    -0.467   |   0.009    | -52.853  |\n",
      "+------------------------------+-------------+------------+----------+\n",
      "None\n"
     ]
    },
    {
     "data": {
      "text/plain": [
       "<matplotlib.axes._subplots.AxesSubplot at 0x13a9bd210>"
      ]
     },
     "execution_count": 105,
     "metadata": {},
     "output_type": "execute_result"
    },
    {
     "data": {
      "image/png": "[encoded data removed]",
      "text/plain": [
       "<Figure size 432x288 with 1 Axes>"
      ]
     },
     "metadata": {
      "needs_background": "light"
     },
     "output_type": "display_data"
    }
   ],
   "source": [
    "sector_id = 16\n",
    "specification = [\n",
    "    'st_is_retail', \n",
    "               'st_building_type_id_is_26', \n",
    "                 'st_stories',\n",
    "               'st_b_ln_non_residential_sqft', \n",
    "               'st_zones_ln_empden_16',\n",
    "#                'st_jobs_within_30_min', \n",
    "               'st_zones_popden',\n",
    "                'st_building_age']\n",
    "\n",
    "choosers_fit_filter = \"(building_id_16 == -1) & (sector_id == {}) & (home_based_status == 0)\".format(str(sector_id))\n",
    "dcm = MNLDiscreteChoiceModel(model_expression=specification,\n",
    "                             sample_size=300,\n",
    "                             probability_mode='single_chooser',\n",
    "                             choice_mode='aggregate',\n",
    "#                              estimation_sample_size=5000,\n",
    "                             choosers_fit_filters=choosers_fit_filter,\n",
    "                            alts_fit_filters = alts_fit_filters)\n",
    "\n",
    "dcm.fit(choosers, alternatives, 'job_spot_id')\n",
    "\n",
    "print dcm.report_fit()\n",
    "dcm.alts_predict_filters = 'vacant_job_spaces > 0'\n",
    "proba = dcm.probabilities(jobs, alternatives).reset_index().set_index('alternative_id')[0]\n",
    "pd.DataFrame({'proba':proba, 'btype_id':alternatives.building_type_id}).groupby('btype_id').sum().plot.bar()"
   ]
  },
  {
   "cell_type": "code",
   "execution_count": 106,
   "metadata": {},
   "outputs": [],
   "source": [
    "#Register the model to configs dir\n",
    "register_elcm_model(dcm, sector_id)"
   ]
  },
  {
   "cell_type": "markdown",
   "metadata": {},
   "source": [
    "## Sector 17: Other Services"
   ]
  },
  {
   "cell_type": "code",
   "execution_count": 109,
   "metadata": {},
   "outputs": [
    {
     "name": "stdout",
     "output_type": "stream",
     "text": [
      "Null Log-liklihood: -48932.750\n",
      "Log-liklihood at convergence: -45777.609\n",
      "Log-liklihood Ratio: 0.064\n",
      "\n",
      "+--------------------------------+-------------+------------+----------+\n",
      "| Component                      | Coefficient | Std. Error | T-Score  |\n",
      "+--------------------------------+-------------+------------+----------+\n",
      "| st_is_retail                   |    0.095    |   0.003    |  29.144  |\n",
      "| st_b_ln_non_residential_sqft   |    -0.616   |   0.004    | -172.760 |\n",
      "| st_zones_ln_empden_17          |    0.180    |   0.005    |  36.358  |\n",
      "| st_zones_empden                |    -0.026   |   0.001    | -19.565  |\n",
      "| st_zones_prop_office_buildings |    -0.050   |   0.003    | -17.868  |\n",
      "+--------------------------------+-------------+------------+----------+\n",
      "None\n"
     ]
    },
    {
     "data": {
      "text/plain": [
       "<matplotlib.axes._subplots.AxesSubplot at 0x13bf1df90>"
      ]
     },
     "execution_count": 109,
     "metadata": {},
     "output_type": "execute_result"
    },
    {
     "data": {
      "image/png": "[encoded data removed]",
      "text/plain": [
       "<Figure size 432x288 with 1 Axes>"
      ]
     },
     "metadata": {
      "needs_background": "light"
     },
     "output_type": "display_data"
    }
   ],
   "source": [
    "sector_id = 17\n",
    "specification = ['st_is_retail', \n",
    "#                'st_is_office', \n",
    "               'st_b_ln_non_residential_sqft', \n",
    "               'st_zones_ln_empden_17',\n",
    "#                'st_jobs_within_30_min', \n",
    "#                'st_zones_popden',\n",
    "                 'st_zones_empden',\n",
    "                 'st_zones_prop_office_buildings']\n",
    "\n",
    "choosers_fit_filter = \"(building_id_16 == -1) & (sector_id == {}) & (home_based_status == 0)\".format(str(sector_id))\n",
    "dcm = MNLDiscreteChoiceModel(model_expression=specification,\n",
    "                             sample_size=300,\n",
    "                             probability_mode='single_chooser',\n",
    "                             choice_mode='aggregate',\n",
    "#                              estimation_sample_size=5000,\n",
    "                             choosers_fit_filters=choosers_fit_filter,\n",
    "                            alts_fit_filters = alts_fit_filters)\n",
    "\n",
    "dcm.fit(choosers, alternatives, 'job_spot_id')\n",
    "\n",
    "print dcm.report_fit()\n",
    "dcm.alts_predict_filters = 'vacant_job_spaces > 0'\n",
    "proba = dcm.probabilities(jobs, alternatives).reset_index().set_index('alternative_id')[0]\n",
    "pd.DataFrame({'proba':proba, 'btype_id':alternatives.building_type_id}).groupby('btype_id').sum().plot.bar()"
   ]
  },
  {
   "cell_type": "code",
   "execution_count": 110,
   "metadata": {},
   "outputs": [],
   "source": [
    "#Register the model to configs dir\n",
    "register_elcm_model(dcm, sector_id)"
   ]
  }
 ],
 "metadata": {
  "kernelspec": {
   "display_name": "semcog_py2",
   "language": "python",
   "name": "semcog_py2"
  },
  "language_info": {
   "codemirror_mode": {
    "name": "ipython",
    "version": 2
   },
   "file_extension": ".py",
   "mimetype": "text/x-python",
   "name": "python",
   "nbconvert_exporter": "python",
   "pygments_lexer": "ipython2",
   "version": "2.7.15"
  }
 },
 "nbformat": 4,
 "nbformat_minor": 2
}
