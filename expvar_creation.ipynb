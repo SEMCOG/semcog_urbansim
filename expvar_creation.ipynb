{
 "cells": [
  {
   "cell_type": "code",
   "execution_count": 1,
   "metadata": {},
   "outputs": [
    {
     "name": "stdout",
     "output_type": "stream",
     "text": [
      "parcel\n",
      "nrpm_constraints.yaml\n",
      "elcm_constraints.yaml\n",
      "hlcm_constraints.yaml\n",
      "__init__.py\n",
      "rpm_constraints.yaml\n",
      "rdplcm_constraints.yaml\n",
      "nrdplcm_constraints.yaml\n",
      "block\n",
      "elcm_constraints.yaml\n",
      "hlcm_constraints.yaml\n",
      "__init__.py\n",
      "repm_value_constraints.yaml\n",
      "rdplcm_constraints.yaml\n",
      "repm_rent_constraints.yaml\n",
      "semcog\n",
      "elcm_constraints.yaml\n",
      "hlcm_constraints.yaml\n",
      "__init__.py\n",
      "elcmhb_constraints.yaml\n",
      "zone\n",
      "elcm_constraints.yaml\n",
      "repm_nonres_constraints.yaml\n",
      "hlcm_constraints.yaml\n",
      "__init__.py\n",
      "repm_value_constraints.yaml\n",
      "rdplcm_constraints.yaml\n",
      "repm_rent_constraints.yaml\n",
      "nrdplcm_constraints.yaml\n"
     ]
    }
   ],
   "source": [
    "import os\n",
    "import time\n",
    "import yaml\n",
    "import argparse\n",
    "import pandas as pd\n",
    "\n",
    "import orca\n",
    "import autospec_recipes\n",
    "from urbansim.utils import misc"
   ]
  },
  {
   "cell_type": "code",
   "execution_count": 2,
   "metadata": {
    "collapsed": true
   },
   "outputs": [],
   "source": [
    "def register_config_injectable_from_yaml(injectable_name, yaml_file):\n",
    "    @orca.injectable(injectable_name, cache=True)\n",
    "    def func():\n",
    "        with open(os.path.join(misc.configs_dir(), yaml_file)) as f:\n",
    "            config = yaml.load(f)\n",
    "            return config\n",
    "    return func\n",
    "\n",
    "for yaml_file in [\"settings.yaml\"]:\n",
    "    injectable_name = yaml_file.split('.')[0]\n",
    "    register_config_injectable_from_yaml(injectable_name, yaml_file)\n",
    "\n",
    "settings = orca.get_injectable('settings')\n",
    "\n",
    "orca_modules = settings['orca_modules']\n",
    "pre_processing_steps = settings['orca_preprocessing_steps']\n",
    "simulation_steps = settings['orca_simulation_steps']\n",
    "\n",
    "for module in orca_modules:\n",
    "    exec 'import %s' % module"
   ]
  },
  {
   "cell_type": "code",
   "execution_count": 4,
   "metadata": {
    "scrolled": true
   },
   "outputs": [
    {
     "name": "stdout",
     "output_type": "stream",
     "text": [
      "Running step 'build_networks'\n",
      "Time to execute step 'build_networks': 24.80 s\n",
      "Running step 'neighborhood_vars'\n",
      "Computing accessibility variables\n",
      "Computing sum_residential_units\n",
      "Removed 4 rows because they contain missing values\n",
      "Computing sum_nonresidential_units\n",
      "Removed 4 rows because they contain missing values\n",
      "Computing ave_unit_sqft\n",
      "Computing ave_lot_sqft\n",
      "Removed 4 rows because they contain missing values\n",
      "Computing population\n",
      "Computing households\n",
      "Computing midinc_hhs\n",
      "Computing lowinc_hhs\n",
      "Computing highinc_hhs\n",
      "Computing race_1_hhs\n",
      "Computing race_2_hhs\n",
      "Computing race_3_hhs\n",
      "Computing race_4_hhs\n",
      "Computing hhs_with_children\n",
      "Computing sfdu\n",
      "Computing hhsize\n",
      "Computing ave_income\n",
      "Computing max_industrial_far\n",
      "Computing max_office_far\n",
      "Computing max_retail_far\n",
      "Computing max_medical_far\n",
      "Computing jobs\n",
      "Removed 6 rows because they contain missing values\n",
      "Computing retail_jobs\n",
      "Computing node_r1500_sqft\n",
      "Computing residential\n",
      "Computing ave_nonres_sqft_price\n",
      "Removed 1 rows because they contain missing values\n",
      "Computing retail\n",
      "Computing office\n",
      "Removed 1 rows because they contain missing values\n",
      "Computing industrial\n",
      "Computing medical\n",
      "Computing quarter_mile_to_transit\n",
      "Computing walk_15min_retail_jobs\n",
      "Computing walk_15min_shopping_jobs\n",
      "Computing walk_30min_retail_jobs\n",
      "Computing walk_30min_shopping_jobs\n",
      "Computing accessibility variables\n",
      "Computing drv_30min_jobs\n",
      "Removed 6 rows because they contain missing values\n",
      "Computing drv_45min_jobs\n",
      "Removed 6 rows because they contain missing values\n",
      "Computing drv_60min_jobs\n",
      "Removed 6 rows because they contain missing values\n",
      "Computing drv_10min_pop\n",
      "Computing drv_20min_pop\n",
      "Computing drv_15min_retail_jobs\n",
      "Computing drv_15min_shopping_jobs\n",
      "Computing drv_30min_retail_jobs\n",
      "Computing drv_30min_shopping_jobs\n",
      "Computing elem_school_perf\n",
      "Time to execute step 'neighborhood_vars': 70.89 s\n",
      "Running step 'nrh_simulate'\n",
      "Disaggregating residential to buildings from nodes_walk\n",
      "Disaggregating percent_vacant_residential_units to buildings from zones\n",
      "Disaggregating employment to buildings from zones\n",
      "Disaggregating ln_empden to buildings from nodes_walk\n",
      "Disaggregating race_2_hhs to buildings from nodes_walk\n",
      "Disaggregating race_1_hhs to buildings from nodes_walk\n",
      "Disaggregating ave_lot_sqft to buildings from nodes_walk\n",
      "Disaggregating ln_empden_3 to buildings from zones\n",
      "Disaggregating drv_10min_pop to buildings from nodes_drv\n",
      "Disaggregating percent_hh_with_children to buildings from nodes_walk\n",
      "Disaggregating jobs to buildings from nodes_walk\n",
      "Disaggregating office to buildings from nodes_walk\n",
      "Disaggregating ln_empden_6 to buildings from zones\n",
      "Disaggregating ln_empden_7 to buildings from zones\n",
      "Disaggregating ln_empden_4 to buildings from zones\n",
      "Disaggregating empden to buildings from zones\n",
      "Disaggregating retail to buildings from nodes_walk\n",
      "Disaggregating ln_empden_5 to buildings from zones\n",
      "Disaggregating parcel_far to buildings from parcels\n",
      "Disaggregating quarter_mile_to_transit to buildings from nodes_walk\n",
      "Disaggregating ln_empden_16 to buildings from zones\n",
      "Disaggregating ln_empden_17 to buildings from zones\n",
      "Disaggregating ln_empden_10 to buildings from zones\n",
      "Disaggregating ln_empden_11 to buildings from zones\n",
      "Disaggregating ln_empden_12 to buildings from zones\n",
      "Disaggregating ln_empden_13 to buildings from zones\n",
      "Disaggregating land_cost to buildings from parcels\n",
      "Disaggregating ave_unit_sqft to buildings from nodes_walk\n",
      "Disaggregating race_4_hhs to buildings from nodes_walk\n",
      "Disaggregating race_3_hhs to buildings from nodes_walk\n",
      "count    9.061700e+04\n",
      "mean     1.114366e+30\n",
      "std      2.199414e+32\n",
      "min      9.094238e-30\n",
      "25%      3.206549e+01\n",
      "50%      5.180408e+01\n",
      "75%      8.962232e+01\n",
      "max      5.875564e+34\n",
      "dtype: float64\n",
      "Time to execute step 'nrh_simulate': 93.38 s\n",
      "Running step 'rsh_simulate'\n",
      "Disaggregating elem_school_perf to buildings from nodes_drv\n",
      "Disaggregating percent_low_income to buildings from nodes_walk\n",
      "Disaggregating total_job_spaces to buildings from parcels\n",
      "Disaggregating transit_jobs_30min to buildings from zones\n",
      "Disaggregating percent_race3 to buildings from nodes_walk\n",
      "Disaggregating percent_race2 to buildings from nodes_walk\n",
      "Disaggregating percent_race1 to buildings from nodes_walk\n",
      "Disaggregating a_ln_emp_50min_transit to buildings from zones\n",
      "Disaggregating drv_20min_pop to buildings from nodes_drv\n",
      "Disaggregating logsum_job_high_income to buildings from zones\n",
      "Disaggregating logsum_pop_high_income to buildings from zones\n",
      "Disaggregating logsum_pop_low_income to buildings from zones\n",
      "Disaggregating z_total_jobs to buildings from zones\n",
      "Disaggregating a_ln_emp_26min_drive_alone to buildings from zones\n",
      "Disaggregating sum_nonresidential_units to buildings from nodes_walk\n",
      "Disaggregating highinc_hhs to buildings from nodes_walk\n",
      "Disaggregating logsum_job_low_income to buildings from zones\n",
      "Disaggregating households to buildings from nodes_walk\n",
      "Disaggregating hhs_with_children to buildings from nodes_walk\n",
      "count     1.559977e+06\n",
      "mean     2.805594e+166\n",
      "std                inf\n",
      "min       1.098125e-21\n",
      "25%       5.836501e+01\n",
      "50%       1.041955e+02\n",
      "75%       1.697343e+02\n",
      "max      4.376662e+172\n",
      "dtype: float64\n",
      "Time to execute step 'rsh_simulate': 130.14 s\n",
      "Total time to execute iteration 1 with iteration value None: 319.21 s\n"
     ]
    }
   ],
   "source": [
    "if len(pre_processing_steps) > 0:\n",
    "     orca.run(pre_processing_steps)"
   ]
  },
  {
   "cell_type": "code",
   "execution_count": 5,
   "metadata": {},
   "outputs": [
    {
     "name": "stdout",
     "output_type": "stream",
     "text": [
      "Disaggregating sum_residential_units to buildings from nodes_walk\n",
      "Disaggregating percent_low_income to buildings from nodes_walk\n",
      "Disaggregating households to buildings from nodes_walk\n",
      "Disaggregating ave_lot_sqft to buildings from nodes_walk\n",
      "Disaggregating z_total_jobs to buildings from zones\n",
      "Disaggregating max_office_far to buildings from nodes_walk\n",
      "Disaggregating race_3_hhs to buildings from nodes_walk\n",
      "Disaggregating percent_mid_income to buildings from nodes_walk\n",
      "Disaggregating max_far to buildings from parcels\n",
      "Disaggregating total_job_spaces to buildings from parcels\n",
      "Disaggregating employment to buildings from zones\n",
      "Disaggregating lowinc_hhs to buildings from nodes_walk\n",
      "Disaggregating county_id to buildings from parcels\n",
      "Disaggregating drv_45min_jobs to buildings from nodes_drv\n",
      "Disaggregating sfdu to buildings from nodes_walk\n",
      "Disaggregating pct_undev to buildings from parcels\n",
      "Disaggregating node_r1500_sqft to buildings from nodes_walk\n",
      "Disaggregating medical to buildings from nodes_walk\n",
      "Disaggregating hhsize to buildings from nodes_walk\n",
      "Disaggregating population to buildings from zones\n",
      "Disaggregating logsum_job_low_income to buildings from zones\n",
      "Disaggregating ave_unit_size to buildings from parcels\n",
      "Disaggregating percent_race4 to buildings from nodes_walk\n",
      "Disaggregating percent_race3 to buildings from nodes_walk\n",
      "Disaggregating percent_race2 to buildings from nodes_walk\n",
      "Disaggregating a_ln_emp_50min_transit to buildings from zones\n",
      "Disaggregating transit_jobs_50min to buildings from zones\n",
      "Disaggregating parcel_size to buildings from parcels\n",
      "Disaggregating total_sqft to buildings from parcels\n",
      "Disaggregating walk_15min_retail_jobs to buildings from nodes_walk\n",
      "Disaggregating percent_vacant_residential_units to buildings from zones\n",
      "Disaggregating node_r1500_acre to buildings from nodes_walk\n",
      "Disaggregating hhs_with_children to buildings from nodes_walk\n",
      "Disaggregating residential to buildings from nodes_walk\n",
      "Disaggregating taz to buildings from zones\n",
      "Disaggregating max_dua to buildings from parcels\n",
      "Disaggregating pptytax to buildings from parcels\n",
      "Disaggregating parcel_far to buildings from parcels\n",
      "Disaggregating ln_empden to buildings from nodes_walk\n",
      "Disaggregating transit_jobs_30min to buildings from zones\n",
      "Disaggregating allowed to buildings from parcels\n",
      "Disaggregating ln_popden to buildings from nodes_walk\n",
      "Disaggregating school_id to buildings from parcels\n",
      "Disaggregating race_4_hhs to buildings from nodes_walk\n",
      "Disaggregating centroid_x to buildings from parcels\n",
      "Disaggregating centroid_y to buildings from parcels\n",
      "Disaggregating drv_15min_shopping_jobs to buildings from nodes_drv\n",
      "Disaggregating walk_30min_shopping_jobs to buildings from nodes_walk\n",
      "Disaggregating sum_nonresidential_units to buildings from nodes_walk\n",
      "Disaggregating walk_30min_retail_jobs to buildings from nodes_walk\n",
      "Disaggregating race_2_hhs to buildings from nodes_walk\n",
      "Disaggregating drv_15min_retail_jobs to buildings from nodes_drv\n",
      "Disaggregating land_cost to buildings from parcels\n",
      "Disaggregating a_ln_emp_26min_drive_alone to buildings from zones\n",
      "Disaggregating total_units to buildings from parcels\n",
      "Disaggregating industrial to buildings from nodes_walk\n",
      "Disaggregating ln_empden_14 to buildings from zones\n",
      "Disaggregating ln_empden_16 to buildings from zones\n",
      "Disaggregating ln_empden_17 to buildings from zones\n",
      "Disaggregating ln_empden_10 to buildings from zones\n",
      "Disaggregating ln_empden_11 to buildings from zones\n",
      "Disaggregating ln_empden_12 to buildings from zones\n",
      "Disaggregating ln_empden_13 to buildings from zones\n",
      "Disaggregating ln_empden_18 to buildings from zones\n",
      "Disaggregating midinc_hhs to buildings from nodes_walk\n",
      "Disaggregating percent_hh_with_children to buildings from nodes_walk\n",
      "Disaggregating sev_value to buildings from parcels\n",
      "Disaggregating acres to buildings from zones\n",
      "Disaggregating max_retail_far to buildings from nodes_walk\n",
      "Disaggregating drv_20min_pop to buildings from nodes_drv\n",
      "Disaggregating retail_jobs to buildings from nodes_walk\n",
      "Disaggregating percent_race1 to buildings from nodes_walk\n",
      "Disaggregating race_1_hhs to buildings from nodes_walk\n",
      "Disaggregating acres to buildings from parcels\n",
      "Disaggregating jobs to buildings from nodes_walk\n",
      "Disaggregating retail_jobs to buildings from zones\n",
      "Disaggregating retail to buildings from nodes_walk\n",
      "Disaggregating ave_income to buildings from nodes_walk\n",
      "Disaggregating drv_60min_jobs to buildings from nodes_drv\n",
      "Disaggregating households to buildings from zones\n",
      "<class 'orca.orca.DataFrameWrapper'>\n",
      "Disaggregating max_industrial_far to buildings from nodes_walk\n",
      "Disaggregating land_use_type_id to buildings from parcels\n",
      "Disaggregating housing_cost to buildings from nodes_walk\n",
      "Disaggregating ave_nonres_sqft_price to buildings from nodes_walk\n",
      "Disaggregating ln_empden_2 to buildings from zones\n",
      "Disaggregating office to buildings from nodes_walk\n",
      "Disaggregating drv_10min_pop to buildings from nodes_drv\n",
      "Disaggregating walk_15min_shopping_jobs to buildings from nodes_walk\n",
      "Disaggregating logsum_job_high_income to buildings from zones\n",
      "Disaggregating ln_empden_3 to buildings from zones\n",
      "Disaggregating ln_empden_1 to buildings from zones\n",
      "Disaggregating ln_empden_6 to buildings from zones\n",
      "Disaggregating ln_empden_7 to buildings from zones\n",
      "Disaggregating ln_empden_4 to buildings from zones\n",
      "Disaggregating ln_empden_5 to buildings from zones\n",
      "Disaggregating ln_empden_8 to buildings from zones\n",
      "Disaggregating ln_empden_9 to buildings from zones\n",
      "Disaggregating population to buildings from nodes_walk\n",
      "Disaggregating logsum_pop_low_income to buildings from zones\n",
      "Disaggregating tazce10_n to buildings from zones\n",
      "Disaggregating census_bg_id to buildings from parcels\n",
      "Disaggregating elem_school_perf to buildings from nodes_drv\n",
      "Disaggregating percent_high_income to buildings from nodes_walk\n",
      "Disaggregating drv_30min_retail_jobs to buildings from nodes_drv\n",
      "Disaggregating drv_30min_shopping_jobs to buildings from nodes_drv\n",
      "Disaggregating percent_vacant_job_spaces to buildings from zones\n",
      "Disaggregating logsum_pop_high_income to buildings from zones\n",
      "Disaggregating highinc_hhs to buildings from nodes_walk\n",
      "Disaggregating empden to buildings from zones\n",
      "Disaggregating max_medical_far to buildings from nodes_walk\n",
      "Disaggregating ln_empden_15 to buildings from zones\n",
      "Disaggregating ave_unit_sqft to buildings from nodes_walk\n",
      "Disaggregating quarter_mile_to_transit to buildings from nodes_walk\n",
      "Disaggregating max_height to buildings from parcels\n",
      "Disaggregating drv_30min_jobs to buildings from nodes_drv\n",
      "Disaggregating a_ln_retail_emp_15min_drive_alone to buildings from zones\n"
     ]
    }
   ],
   "source": [
    "b = orca.get_table('buildings').to_frame()"
   ]
  },
  {
   "cell_type": "code",
   "execution_count": 6,
   "metadata": {},
   "outputs": [
    {
     "name": "stdout",
     "output_type": "stream",
     "text": [
      "city_id\n"
     ]
    },
    {
     "name": "stderr",
     "output_type": "stream",
     "text": [
      "/home/janowicz/anaconda2/envs/mtc2/lib/python2.7/site-packages/ipykernel/__main__.py:8: SettingWithCopyWarning: \n",
      "A value is trying to be set on a copy of a slice from a DataFrame\n",
      "\n",
      "See the caveats in the documentation: http://pandas.pydata.org/pandas-docs/stable/indexing.html#indexing-view-versus-copy\n",
      "/home/janowicz/anaconda2/envs/mtc2/lib/python2.7/site-packages/ipykernel/__main__.py:6: SettingWithCopyWarning: \n",
      "A value is trying to be set on a copy of a slice from a DataFrame\n",
      "\n",
      "See the caveats in the documentation: http://pandas.pydata.org/pandas-docs/stable/indexing.html#indexing-view-versus-copy\n"
     ]
    },
    {
     "name": "stdout",
     "output_type": "stream",
     "text": [
      "drv_nearest_library\n",
      "semmcd\n",
      "nodeid_drv\n",
      "drv_nearest_healthcenter\n",
      "drv_nearest_park\n",
      "walk_nearest_grocery\n",
      "zone_id\n",
      "walk_nearest_healthcenter\n",
      "drv_nearest_grocery\n",
      "y\n",
      "school_district_achievement\n",
      "hedonic_sector_id\n",
      "x\n",
      "walk_nearest_hospital\n",
      "drv_nearest_hospital\n",
      "nodeid_walk\n",
      "walk_nearest_park\n",
      "parcel_sqft\n",
      "large_area_id\n",
      "walk_nearest_urgentcare\n",
      "drv_nearest_urgentcare\n",
      "walk_nearest_library\n"
     ]
    }
   ],
   "source": [
    "nulls = b.isnull().sum()\n",
    "for variable in nulls.index.values:\n",
    "    if nulls[variable] > 0:\n",
    "        print variable\n",
    "        if variable not in ['city_id', 'nodeid_drv', 'zone_id', 'nodeid_walk', 'large_area_id']:\n",
    "            b[variable][b[variable].isnull()] = b[variable].mean()\n",
    "        else:\n",
    "            b[variable][b[variable].isnull()] = 0"
   ]
  },
  {
   "cell_type": "code",
   "execution_count": 7,
   "metadata": {},
   "outputs": [
    {
     "name": "stdout",
     "output_type": "stream",
     "text": [
      "ln_income:building_type_id_is_81\n",
      "ln_income:parcels_acres\n",
      "ln_income:nodes_walk_ave_income\n",
      "ln_income:sqft_per_unit\n",
      "ln_income:nodes_walk_ln_popden\n",
      "ln_income:sqft_price_res\n",
      "persons:nodes_walk_ln_popden\n",
      "persons:sqft_per_unit\n",
      "hhsize_gt_2:building_type_id_is_81\n",
      "has_children:building_type_id_is_81\n",
      "has_children:sqft_per_unit\n",
      "has_children:nodes_walk_percent_hh_with_children\n",
      "has_children:nodes_drv_elem_school_perf\n",
      "is_young:zones_empden\n",
      "is_young:nodes_walk_retail_jobs\n",
      "has_workers:nodes_drv_drv_45min_jobs\n",
      "has_workers:zones_a_ln_emp_50min_transit\n",
      "is_race1:nodes_walk_percent_race1\n",
      "is_race2:nodes_walk_percent_race2\n",
      "is_race3:nodes_walk_percent_race3\n",
      "is_race4:nodes_walk_percent_race4\n"
     ]
    }
   ],
   "source": [
    "for config in orca.get_injectable('constraint_configs')['semcog']['hlcm_constraints.yaml']:\n",
    "    for varname in config['variables']:\n",
    "        if varname not in b.columns:\n",
    "            print varname"
   ]
  },
  {
   "cell_type": "code",
   "execution_count": 8,
   "metadata": {},
   "outputs": [
    {
     "name": "stdout",
     "output_type": "stream",
     "text": [
      "crime08\n"
     ]
    }
   ],
   "source": [
    "for config in orca.get_injectable('constraint_configs')['semcog']['elcm_constraints.yaml']:\n",
    "    for varname in config['variables']:\n",
    "        if varname not in b.columns:\n",
    "            print varname"
   ]
  },
  {
   "cell_type": "code",
   "execution_count": 9,
   "metadata": {
    "collapsed": true
   },
   "outputs": [],
   "source": [
    "j = orca.get_table('jobs').to_frame()\n",
    "j['slid'] = (j.sector_id*100000 + j.large_area_id).fillna(0).astype('int')"
   ]
  },
  {
   "cell_type": "code",
   "execution_count": 10,
   "metadata": {},
   "outputs": [
    {
     "name": "stderr",
     "output_type": "stream",
     "text": [
      "variables/variables_demographic.py:76: RuntimeWarning: invalid value encountered in log1p\n",
      "  return np.log1p(households.income)\n"
     ]
    }
   ],
   "source": [
    "h = orca.get_table('households').to_frame()"
   ]
  },
  {
   "cell_type": "code",
   "execution_count": 14,
   "metadata": {
    "collapsed": true
   },
   "outputs": [],
   "source": [
    "h['qlid'] = (h.income_quartile*100000 + h.large_area_id).fillna(0).astype('int')"
   ]
  },
  {
   "cell_type": "code",
   "execution_count": 17,
   "metadata": {},
   "outputs": [],
   "source": [
    "with pd.HDFStore('expvars.h5', mode='a', complib='zlib', complevel=1) as store:\n",
    "    store['buildings'] = b\n",
    "    store['jobs'] = j\n",
    "    store['households'] = h"
   ]
  },
  {
   "cell_type": "code",
   "execution_count": 19,
   "metadata": {},
   "outputs": [
    {
     "data": {
      "text/plain": [
       "array([400125, 100005, 300125, 300003, 200125, 200003, 400003, 100003,\n",
       "       300099, 200099, 100125, 400099, 100099, 200005, 400161, 300005,\n",
       "       300161, 200161, 100161, 400093, 300093, 200147, 300147, 300115,\n",
       "       400005, 100147, 200115, 200093, 400115, 400147, 100115, 100093])"
      ]
     },
     "execution_count": 19,
     "metadata": {},
     "output_type": "execute_result"
    }
   ],
   "source": [
    "h.qlid.value_counts().index.values"
   ]
  }
 ],
 "metadata": {
  "kernelspec": {
   "display_name": "Python [conda env:mtc2]",
   "language": "python",
   "name": "conda-env-mtc2-py"
  },
  "language_info": {
   "codemirror_mode": {
    "name": "ipython",
    "version": 2
   },
   "file_extension": ".py",
   "mimetype": "text/x-python",
   "name": "python",
   "nbconvert_exporter": "python",
   "pygments_lexer": "ipython2",
   "version": "2.7.13"
  }
 },
 "nbformat": 4,
 "nbformat_minor": 2
}
