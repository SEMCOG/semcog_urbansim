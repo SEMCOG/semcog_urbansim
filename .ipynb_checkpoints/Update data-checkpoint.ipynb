{
 "metadata": {
  "name": "",
  "signature": "sha256:08e3c5cbfe4fd3afd3daeb9f17b4b0b8e866f891d9e5274c3e7a44f572f9ab46"
 },
 "nbformat": 3,
 "nbformat_minor": 0,
 "worksheets": [
  {
   "cells": [
    {
     "cell_type": "code",
     "collapsed": false,
     "input": [
      "import pandas as pd"
     ],
     "language": "python",
     "metadata": {},
     "outputs": []
    },
    {
     "cell_type": "code",
     "collapsed": false,
     "input": [
      "##Load new data\n",
      "parcels = pd.read_csv('.\\inputs\\parcels.csv')\n",
      "\n",
      "##Connect to hdf5 store\n",
      "store = pd.HDFStore('.\\data\\semcog_data.h5')\n",
      "\n",
      "##Replace existing table in hdf5 with the newly loaded one\n",
      "store['parcels'] = parcels\n",
      "\n",
      "##Close connection\n",
      "store.close()"
     ],
     "language": "python",
     "metadata": {},
     "outputs": []
    }
   ],
   "metadata": {}
  }
 ]
}