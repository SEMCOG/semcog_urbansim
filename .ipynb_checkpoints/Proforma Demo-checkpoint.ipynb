{
 "metadata": {
  "name": ""
 },
 "nbformat": 3,
 "nbformat_minor": 0,
 "worksheets": [
  {
   "cells": [
    {
     "cell_type": "code",
     "collapsed": false,
     "input": [
      "import numpy as np, pandas as pd\n",
      "from urbansim.models import MNLLocationChoiceModel, RegressionModelGroup, transition\n",
      "from developer import developer, feasibility\n",
      "from urbansim.urbansim import dataset\n",
      "from variables import var_calc\n",
      "\n",
      "dset = dataset.Dataset('data//semcog_data.h5')\n",
      "vacant_residential_units, vacant_job_spaces = var_calc.calculate(dset)"
     ],
     "language": "python",
     "metadata": {},
     "outputs": [
      {
       "output_type": "stream",
       "stream": "stdout",
       "text": [
        "Fetching buildings\n",
        "Fetching modify_table"
       ]
      },
      {
       "output_type": "stream",
       "stream": "stdout",
       "text": [
        "\n",
        "Fetching parcels\n",
        "Fetching modify_table"
       ]
      },
      {
       "output_type": "stream",
       "stream": "stdout",
       "text": [
        "\n",
        "Fetching households\n",
        "Fetching modify_table"
       ]
      },
      {
       "output_type": "stream",
       "stream": "stdout",
       "text": [
        "\n",
        "Fetching jobs\n",
        "Fetching modify_table"
       ]
      },
      {
       "output_type": "stream",
       "stream": "stdout",
       "text": [
        "\n",
        "Fetching cities"
       ]
      },
      {
       "output_type": "stream",
       "stream": "stdout",
       "text": [
        "\n",
        "Fetching modify_table\n",
        "Fetching travel_data"
       ]
      },
      {
       "output_type": "stream",
       "stream": "stdout",
       "text": [
        "\n",
        "Fetching modify_table"
       ]
      },
      {
       "output_type": "stream",
       "stream": "stdout",
       "text": [
        "\n",
        "Fetching building_sqft_per_job"
       ]
      },
      {
       "output_type": "stream",
       "stream": "stdout",
       "text": [
        "\n",
        "Fetching modify_table\n"
       ]
      }
     ],
     "prompt_number": 1
    },
    {
     "cell_type": "heading",
     "level": 2,
     "metadata": {},
     "source": [
      "Base year estimation "
     ]
    },
    {
     "cell_type": "code",
     "collapsed": false,
     "input": [
      "###HLCM\n",
      "#Agents for estimation\n",
      "households_for_estimation = dset.households.loc[np.random.choice(dset.households.index, size=15000, replace=False)]\n",
      "#Filters on agents\n",
      "agent_estimation_filters = ['building_id > 0']\n",
      "agents_simulation_filters = None\n",
      "##Specification\n",
      "patsy_expression = ['sqft_per_unit',\n",
      "                    'income:np.log1p(unit_price_res)',\n",
      "                    'jobs_within_30_min',\n",
      "                    'crime08',\n",
      "                    'popden']\n",
      "patsy_expression = ' + '.join(patsy_expression)\n",
      "#Filters on alternatives\n",
      "estimation_filters = ['building_id > 0']\n",
      "simulation_filters = ['residential_units>0',\n",
      "                      'building_type_id in [16,17,18,19,20]']\n",
      "interaction_filters = ['income*5 > unit_price_res']\n",
      "##Instantiate HCLM\n",
      "hlcm = MNLLocationChoiceModel(\n",
      "    patsy_expression, 10,\n",
      "    choosers_fit_filters=agent_estimation_filters, choosers_predict_filters=agents_simulation_filters,\n",
      "    alts_fit_filters=estimation_filters, alts_predict_filters=simulation_filters,interaction_predict_filters=interaction_filters,\n",
      "    choice_column='building_id', name='HLCM')\n",
      "##Estimate\n",
      "hlcm.fit(households_for_estimation, dset.buildings, households_for_estimation.building_id)\n",
      "hlcm.report_fit()\n",
      "\n",
      "\n",
      "###ELCM\n",
      "#Agents for estimation\n",
      "jobs_for_estimation = dset.jobs_for_estimation\n",
      "#Filters on agents\n",
      "agent_estimation_filters = ['home_based_status == 0']\n",
      "agents_simulation_filters = None\n",
      "##Specification\n",
      "patsy_expression = ['np.log1p(non_residential_sqft)',\n",
      "                    'np.log1p(improvement_value)',\n",
      "                    'jobs_within_30_min',\n",
      "                    'popden',\n",
      "                    'crime08']\n",
      "patsy_expression = ' + '.join(patsy_expression)\n",
      "#Filters on alternatives\n",
      "estimation_filters = ['building_id > 0']\n",
      "simulation_filters = ['non_residential_sqft>0',\n",
      "                      'building_type_id not in [16,17,18,19,20]']\n",
      "##Instantiate ELCM\n",
      "elcm = MNLLocationChoiceModel(\n",
      "    patsy_expression, 10,\n",
      "    choosers_fit_filters=agent_estimation_filters, choosers_predict_filters=agents_simulation_filters,\n",
      "    alts_fit_filters=estimation_filters, alts_predict_filters=simulation_filters,\n",
      "    choice_column='building_id', name='ELCM')\n",
      "##Estimate\n",
      "elcm.fit(jobs_for_estimation, dset.buildings, jobs_for_estimation.building_id)\n",
      "elcm.report_fit()\n",
      "\n",
      "\n",
      "\n",
      "###REPM\n",
      "##Model specification\n",
      "def patsy_expression():\n",
      "    patsy_exp = ['I(year_built < 1940)',\n",
      "                 'year_built',\n",
      "                 'stories',\n",
      "                 'np.log1p(sqft_per_unit)',\n",
      "                 'np.log1p(popden)',\n",
      "                 'dist_hwy',\n",
      "                 'dist_road',\n",
      "                 'crime08',\n",
      "                 'np.log1p(jobs_within_30_min)']\n",
      "    patsy_exp = ' + '.join(patsy_exp)\n",
      "    return 'np.log(unit_price_res) ~ ' + patsy_exp\n",
      "model_expression = patsy_expression()\n",
      "##Estimation filters\n",
      "estimate_filters = ['residential_units > 0',\n",
      "                    'sqft_per_unit > 0',\n",
      "                    'year_built > 1700',\n",
      "                    'stories > 0',\n",
      "                    'tax_exempt == 0',\n",
      "                    '1e5 < unit_price_res < 1e7',\n",
      "                    '16 <= building_type_id <= 20']\n",
      "##Simulation filters\n",
      "simulate_filters = ['residential_units > 0',\n",
      "                    '16 <= building_type_id <= 20']\n",
      "##Segmentation\n",
      "group_keys = [16, 17, 18, 19, 20]\n",
      "hmg = RegressionModelGroup('building_type_id')\n",
      "for key in group_keys:\n",
      "    hmg.add_model_from_params(key, estimate_filters, simulate_filters,\n",
      "                              model_expression, ytransform=np.exp)\n",
      "##Estimate\n",
      "fits = hmg.fit(dset.buildings)"
     ],
     "language": "python",
     "metadata": {},
     "outputs": [
      {
       "output_type": "stream",
       "stream": "stdout",
       "text": [
        "Removing 15000 choice situations because chosen alt doesn't exist\n",
        "Null Log-liklihood: -34538.776"
       ]
      },
      {
       "output_type": "stream",
       "stream": "stdout",
       "text": [
        "\n",
        "Log-liklihood at convergence: -33283.400\n",
        "Log-liklihood Ratio: 0.036\n",
        "\n",
        "+---------------------------------+-------------+------------+---------+\n",
        "| Component                       | Coefficient | Std. Error | T-Score |\n",
        "+---------------------------------+-------------+------------+---------+\n",
        "| sqft_per_unit                   |    -0.000   |   0.000    | -17.995 |\n",
        "| income:np.log1p(unit_price_res) |    0.000    |   0.000    | 205.910 |\n",
        "| jobs_within_30_min              |    0.000    |   0.000    |  5.174  |\n",
        "| crime08                         |    -0.001   |   0.000    |  -3.163 |\n",
        "| popden                          |    -0.001   |   0.002    |  -0.482 |\n",
        "+---------------------------------+-------------+------------+---------+\n",
        "Fetching jobs_for_estimation\n",
        "Fetching modify_table\n",
        "Removing 48000 choice situations because chosen alt doesn't exist"
       ]
      },
      {
       "output_type": "stream",
       "stream": "stdout",
       "text": [
        "\n",
        "Null Log-liklihood: -110524.084"
       ]
      },
      {
       "output_type": "stream",
       "stream": "stdout",
       "text": [
        "\n",
        "Log-liklihood at convergence: -15776.497\n",
        "Log-liklihood Ratio: 0.857\n",
        "\n",
        "+--------------------------------+-------------+------------+---------+\n",
        "| Component                      | Coefficient | Std. Error | T-Score |\n",
        "+--------------------------------+-------------+------------+---------+\n",
        "| np.log1p(non_residential_sqft) |    0.624    |   0.003    | 195.310 |\n",
        "| np.log1p(improvement_value)    |    0.203    |   0.002    |  84.335 |\n",
        "| jobs_within_30_min             |    0.000    |   0.000    |  32.807 |\n",
        "| popden                         |    -0.049   |   0.002    | -21.311 |\n",
        "| crime08                        |    -0.006   |   0.001    | -12.431 |\n",
        "+--------------------------------+-------------+------------+---------+\n"
       ]
      }
     ],
     "prompt_number": 2
    },
    {
     "cell_type": "heading",
     "level": 2,
     "metadata": {},
     "source": [
      "Model Simulation"
     ]
    },
    {
     "cell_type": "code",
     "collapsed": false,
     "input": [
      "for year in range (2011,2021):\n",
      "    \n",
      "    vacant_residential_units, vacant_job_spaces = var_calc.calculate(dset)\n",
      "    \n",
      "    ##Record county-level hh/job counts\n",
      "    dset.households['county_id'] = dset.buildings.county_id[dset.households.building_id].values\n",
      "    dset.jobs['county_id'] = dset.buildings.county_id[dset.jobs.building_id].values\n",
      "    starting_hh = dset.households.groupby('county_id').size()\n",
      "    starting_emp = dset.jobs.groupby('county_id').size()\n",
      "    \n",
      "    ##Household transition\n",
      "    ct = dset.fetch('annual_household_control_totals')\n",
      "    totals_field = ct.reset_index().groupby('year').total_number_of_households.sum()\n",
      "    ct = pd.DataFrame({'total_number_of_households':totals_field})\n",
      "    tran = transition.TabularTotalsTransition(ct, 'total_number_of_households')\n",
      "    model = transition.TransitionModel(tran)\n",
      "    new, added_hh_idx, new_linked = model.transition(\n",
      "            dset.households, year, linked_tables={'linked': (dset.persons, 'household_id')})\n",
      "    dset.households = new\n",
      "    dset.persons = new_linked['linked']\n",
      "    \n",
      "    ##Employment transition\n",
      "    ct_emp = dset.fetch('annual_employment_control_totals')\n",
      "    totals_field = ct_emp.reset_index().groupby('year').total_number_of_jobs.sum()\n",
      "    ct_emp = pd.DataFrame({'total_number_of_jobs':totals_field})\n",
      "    tran = transition.TabularTotalsTransition(ct_emp, 'total_number_of_jobs')\n",
      "    model = transition.TransitionModel(tran)\n",
      "    new, added_jobs_idx, new_linked = model.transition(dset.jobs, year)\n",
      "    dset.jobs = new\n",
      "    \n",
      "    ###HLCM\n",
      "    new_assignments = hlcm.predict(dset.households.loc[added_hh_idx], vacant_residential_units)\n",
      "    dset.households.loc[added_hh_idx,'building_id'] = new_assignments\n",
      "    \n",
      "    ###ELCM\n",
      "    new_assignments = elcm.predict(dset.jobs.loc[added_jobs_idx], vacant_job_spaces)\n",
      "    dset.jobs.loc[added_jobs_idx,'building_id'] = new_assignments\n",
      "    \n",
      "    ####REPM\n",
      "    new_unit_price_res = hmg.predict(dset.buildings)\n",
      "    dset.buildings.loc[new_unit_price_res.index.values, 'unit_price_res'] = new_unit_price_res\n",
      "    \n",
      "    ##County-level hh/job growth indicator\n",
      "    dset.households['county_id'] = dset.buildings.county_id[dset.households.building_id].values\n",
      "    dset.jobs['county_id'] = dset.buildings.county_id[dset.jobs.building_id].values\n",
      "    ending_hh = dset.households.groupby('county_id').size()\n",
      "    ending_emp = dset.jobs.groupby('county_id').size()\n",
      "    print 'HH diffs'\n",
      "    print ending_hh - starting_hh\n",
      "    print 'EMP diffs'\n",
      "    print ending_emp - starting_emp\n",
      "    \n",
      "    \n",
      "    ####PROFORMA\n",
      "    feasibility.feasibility_run(dset,year)\n",
      "    \n",
      "    ##Record starting non-residential sqft by county\n",
      "    dset.buildings['county_id'] = dset.parcels.county_id[dset.buildings.parcel_id].values\n",
      "    starting_nonres = dset.buildings.groupby('county_id').non_residential_sqft.sum()\n",
      "    \n",
      "    ##Non-residential proformas\n",
      "    nr_buildings = developer.exec_developer(dset, year, \"jobs\", \"job_spaces\",\n",
      "                   [21,22,23,24,27,28,32,33,39], nonres=True)\n",
      "    dset.buildings = dset.buildings[['building_id_old', 'building_type_id', 'improvement_value', 'land_area',\n",
      "         'non_residential_sqft', 'parcel_id', 'residential_units', 'sqft_per_unit',\n",
      "         'stories', 'tax_exempt', 'year_built']]\n",
      "    dset.buildings = pd.concat([dset.buildings,nr_buildings])\n",
      "    \n",
      "    ##County-level non-residential-sqft growth indicator\n",
      "    dset.buildings['county_id'] = dset.parcels.county_id[dset.buildings.parcel_id].values\n",
      "    ending_nonres = dset.buildings.groupby('county_id').non_residential_sqft.sum()\n",
      "    print 'Nonres sqft diffs'\n",
      "    print ending_nonres - starting_nonres\n",
      "    \n",
      "    ##Record starting residential units by county\n",
      "    dset.buildings['county_id'] = dset.parcels.county_id[dset.buildings.parcel_id].values\n",
      "    starting_resunits = dset.buildings.groupby('county_id').residential_units.sum()\n",
      "    \n",
      "    ##Residential proformas\n",
      "    res_buildings = developer.exec_developer(dset, year, \"households\", \"residential_units\", [16, 17, 18, 19])\n",
      "    dset.buildings = pd.concat([dset.buildings,res_buildings])\n",
      "    \n",
      "    ##County-level residential unit growth indicator\n",
      "    dset.buildings['county_id'] = dset.parcels.county_id[dset.buildings.parcel_id].values\n",
      "    ending_resunits = dset.buildings.groupby('county_id').residential_units.sum()\n",
      "    print 'Resunit diffs'\n",
      "    print ending_resunits - starting_resunits\n"
     ],
     "language": "python",
     "metadata": {},
     "outputs": [
      {
       "output_type": "stream",
       "stream": "stdout",
       "text": [
        "Fetching annual_household_control_totals\n",
        "Fetching modify_table"
       ]
      },
      {
       "output_type": "stream",
       "stream": "stdout",
       "text": [
        "\n",
        "Fetching persons\n",
        "Fetching modify_table"
       ]
      },
      {
       "output_type": "stream",
       "stream": "stdout",
       "text": [
        "\n",
        "Fetching annual_employment_control_totals"
       ]
      },
      {
       "output_type": "stream",
       "stream": "stdout",
       "text": [
        "\n",
        "Fetching modify_table\n",
        "HH diffs"
       ]
      },
      {
       "output_type": "stream",
       "stream": "stdout",
       "text": [
        "\n",
        "county_id\n",
        "93            33\n",
        "99           198\n",
        "115           37\n",
        "125          274\n",
        "147           43\n",
        "161           70\n",
        "163          602\n",
        "dtype: int64\n",
        "EMP diffs\n",
        "county_id\n",
        "93             54\n",
        "99            742\n",
        "115            48\n",
        "125          1578\n",
        "147            36\n",
        "161           201\n",
        "163          7016\n",
        "dtype: int64\n",
        "Running pro forma\n",
        "       residential      office      retail  industrial\n",
        "count     1.83e+06  1833072.00  1833072.00  1833072.00\n",
        "mean      2.23e+08        9.03        9.03        9.03\n",
        "std       2.17e+10      121.66      121.66      121.66\n",
        "min       3.25e+03       -0.00       -0.00       -0.00\n",
        "25%       8.53e+03        2.32        2.32        2.32\n",
        "50%       9.32e+03        3.51        3.51        3.51\n",
        "75%       1.06e+04        4.70        4.70        4.70\n",
        "max       2.12e+12    34872.29    34872.29    34872.29\n",
        "\n",
        "[8 rows x 4 columns]"
       ]
      },
      {
       "output_type": "stream",
       "stream": "stdout",
       "text": [
        "\n",
        "Get zoning:"
       ]
      },
      {
       "output_type": "stream",
       "stream": "stdout",
       "text": [
        " Tue May 20 00:21:36 2014\n",
        "residential"
       ]
      },
      {
       "output_type": "stream",
       "stream": "stdout",
       "text": [
        " 16\n",
        "residential"
       ]
      },
      {
       "output_type": "stream",
       "stream": "stdout",
       "text": [
        " Tue May 20 00:21:40 2014\n",
        "sqft cost\n",
        "0.25     20.52\n",
        "0.50     20.52\n",
        "0.75     20.52\n",
        "1.00     22.07\n",
        "1.50     22.81\n",
        "1.80     22.81\n",
        "2.00     24.36\n",
        "3.00     24.36\n",
        "4.00     24.36\n",
        "5.00     26.65\n",
        "7.00     26.65\n",
        "9.00     26.65\n",
        "11.00    30.09\n",
        "Name: even_rent, dtype: float64\n",
        "maxprofit_fars\n"
       ]
      },
      {
       "output_type": "stream",
       "stream": "stdout",
       "text": [
        "1    1519482\n",
        "dtype: int64\n",
        "residential"
       ]
      },
      {
       "output_type": "stream",
       "stream": "stdout",
       "text": [
        " 17\n",
        "residential"
       ]
      },
      {
       "output_type": "stream",
       "stream": "stdout",
       "text": [
        " Tue May 20 00:21:50 2014\n",
        "sqft cost\n",
        "0.25     20.52\n",
        "0.50     20.52\n",
        "0.75     20.52\n",
        "1.00     22.07\n",
        "1.50     22.81\n",
        "1.80     22.81\n",
        "2.00     24.36\n",
        "3.00     24.36\n",
        "4.00     24.36\n",
        "5.00     26.65\n",
        "7.00     26.65\n",
        "9.00     26.65\n",
        "11.00    30.09\n",
        "Name: even_rent, dtype: float64\n",
        "maxprofit_fars\n"
       ]
      },
      {
       "output_type": "stream",
       "stream": "stdout",
       "text": [
        "1    1519482\n",
        "dtype: int64\n",
        "residential"
       ]
      },
      {
       "output_type": "stream",
       "stream": "stdout",
       "text": [
        " 18\n",
        "residential"
       ]
      },
      {
       "output_type": "stream",
       "stream": "stdout",
       "text": [
        " Tue May 20 00:21:59 2014\n",
        "sqft cost\n",
        "0.25     20.52\n",
        "0.50     20.52\n",
        "0.75     20.52\n",
        "1.00     22.07\n",
        "1.50     22.81\n",
        "1.80     22.81\n",
        "2.00     24.36\n",
        "3.00     24.36\n",
        "4.00     24.36\n",
        "5.00     26.65\n",
        "7.00     26.65\n",
        "9.00     26.65\n",
        "11.00    30.09\n",
        "Name: even_rent, dtype: float64\n",
        "maxprofit_fars\n"
       ]
      },
      {
       "output_type": "stream",
       "stream": "stdout",
       "text": [
        "1    1519482\n",
        "dtype: int64\n",
        "residential"
       ]
      },
      {
       "output_type": "stream",
       "stream": "stdout",
       "text": [
        " 19\n",
        "residential"
       ]
      },
      {
       "output_type": "stream",
       "stream": "stdout",
       "text": [
        " Tue May 20 00:22:09 2014\n",
        "sqft cost\n",
        "0.25     20.52\n",
        "0.50     20.52\n",
        "0.75     20.52\n",
        "1.00     22.07\n",
        "1.50     22.81\n",
        "1.80     22.81\n",
        "2.00     24.36\n",
        "3.00     24.36\n",
        "4.00     24.36\n",
        "5.00     26.65\n",
        "7.00     26.65\n",
        "9.00     26.65\n",
        "11.00    30.09\n",
        "Name: even_rent, dtype: float64\n",
        "maxprofit_fars\n"
       ]
      },
      {
       "output_type": "stream",
       "stream": "stdout",
       "text": [
        "1    1519482\n",
        "dtype: int64\n",
        "industrial"
       ]
      },
      {
       "output_type": "stream",
       "stream": "stdout",
       "text": [
        " 32\n",
        "industrial"
       ]
      },
      {
       "output_type": "stream",
       "stream": "stdout",
       "text": [
        " Tue May 20 00:22:18 2014\n",
        "sqft cost\n",
        "0.25     16.67\n",
        "0.50     16.67\n",
        "0.75     16.67\n",
        "1.00     17.60\n",
        "1.50     20.68\n",
        "1.80     20.68\n",
        "2.00     20.68\n",
        "3.00       NaN\n",
        "4.00       NaN\n",
        "5.00       NaN\n",
        "7.00       NaN\n",
        "9.00       NaN\n",
        "11.00      NaN\n",
        "Name: even_rent, dtype: float64\n",
        "maxprofit_fars\n"
       ]
      },
      {
       "output_type": "stream",
       "stream": "stdout",
       "text": [
        "1.00    2424\n",
        "0.75      40\n",
        "dtype: int64\n",
        "industrial"
       ]
      },
      {
       "output_type": "stream",
       "stream": "stdout",
       "text": [
        " 33\n",
        "industrial"
       ]
      },
      {
       "output_type": "stream",
       "stream": "stdout",
       "text": [
        " Tue May 20 00:22:28 2014\n",
        "sqft cost\n",
        "0.25     16.67\n",
        "0.50     16.67\n",
        "0.75     16.67\n",
        "1.00     17.60\n",
        "1.50     20.68\n",
        "1.80     20.68\n",
        "2.00     20.68\n",
        "3.00       NaN\n",
        "4.00       NaN\n",
        "5.00       NaN\n",
        "7.00       NaN\n",
        "9.00       NaN\n",
        "11.00      NaN\n",
        "Name: even_rent, dtype: float64\n",
        "maxprofit_fars\n"
       ]
      },
      {
       "output_type": "stream",
       "stream": "stdout",
       "text": [
        "1.00    2424\n",
        "0.75      40\n",
        "dtype: int64\n",
        "industrial"
       ]
      },
      {
       "output_type": "stream",
       "stream": "stdout",
       "text": [
        " 39\n",
        "industrial"
       ]
      },
      {
       "output_type": "stream",
       "stream": "stdout",
       "text": [
        " Tue May 20 00:22:38 2014\n",
        "sqft cost\n",
        "0.25     16.67\n",
        "0.50     16.67\n",
        "0.75     16.67\n",
        "1.00     17.60\n",
        "1.50     20.68\n",
        "1.80     20.68\n",
        "2.00     20.68\n",
        "3.00       NaN\n",
        "4.00       NaN\n",
        "5.00       NaN\n",
        "7.00       NaN\n",
        "9.00       NaN\n",
        "11.00      NaN\n",
        "Name: even_rent, dtype: float64\n",
        "maxprofit_fars\n"
       ]
      },
      {
       "output_type": "stream",
       "stream": "stdout",
       "text": [
        "1.00    2424\n",
        "0.75      40\n",
        "dtype: int64\n",
        "mixedresidential"
       ]
      },
      {
       "output_type": "stream",
       "stream": "stdout",
       "text": [
        " 21\n",
        "mixedresidential"
       ]
      },
      {
       "output_type": "stream",
       "stream": "stdout",
       "text": [
        " Tue May 20 00:22:47 2014\n",
        "sqft cost\n",
        "0.25     20.51\n",
        "0.50     20.51\n",
        "0.75     20.51\n",
        "1.00     22.21\n",
        "1.50     22.74\n",
        "1.80     24.45\n",
        "2.00     24.45\n",
        "3.00     24.45\n",
        "4.00     24.45\n",
        "5.00     26.80\n",
        "7.00     26.80\n",
        "9.00     26.80\n",
        "11.00    30.23\n",
        "Name: even_rent, dtype: float64\n",
        "maxprofit_fars\n"
       ]
      },
      {
       "output_type": "stream",
       "stream": "stdout",
       "text": [
        "1    1515751\n",
        "dtype: int64\n",
        "office"
       ]
      },
      {
       "output_type": "stream",
       "stream": "stdout",
       "text": [
        " 27\n",
        "office"
       ]
      },
      {
       "output_type": "stream",
       "stream": "stdout",
       "text": [
        " Tue May 20 00:22:57 2014\n",
        "sqft cost\n",
        "0.25     19.37\n",
        "0.50     19.37\n",
        "0.75     19.37\n",
        "1.00     20.92\n",
        "1.50     21.09\n",
        "1.80     21.09\n",
        "2.00     22.64\n",
        "3.00     22.64\n",
        "4.00     22.64\n",
        "5.00     25.51\n",
        "7.00     25.51\n",
        "9.00     25.51\n",
        "11.00    28.94\n",
        "Name: even_rent, dtype: float64\n",
        "maxprofit_fars\n"
       ]
      },
      {
       "output_type": "stream",
       "stream": "stdout",
       "text": [
        "1.00    2368\n",
        "0.75      30\n",
        "dtype: int64\n",
        "retail"
       ]
      },
      {
       "output_type": "stream",
       "stream": "stdout",
       "text": [
        " 22\n",
        "retail"
       ]
      },
      {
       "output_type": "stream",
       "stream": "stdout",
       "text": [
        " Tue May 20 00:23:07 2014\n",
        "sqft cost\n",
        "0.25     20.40\n",
        "0.50     20.40\n",
        "0.75     22.12\n",
        "1.00     22.12\n",
        "1.50     25.22\n",
        "1.80     25.22\n",
        "2.00     25.22\n",
        "3.00       NaN\n",
        "4.00       NaN\n",
        "5.00       NaN\n",
        "7.00       NaN\n",
        "9.00       NaN\n",
        "11.00      NaN\n",
        "Name: even_rent, dtype: float64\n",
        "maxprofit_fars\n"
       ]
      },
      {
       "output_type": "stream",
       "stream": "stdout",
       "text": [
        "1.0    2351\n",
        "0.5      17\n",
        "dtype: int64\n",
        "retail"
       ]
      },
      {
       "output_type": "stream",
       "stream": "stdout",
       "text": [
        " 23\n",
        "retail"
       ]
      },
      {
       "output_type": "stream",
       "stream": "stdout",
       "text": [
        " Tue May 20 00:23:18 2014\n",
        "sqft cost\n",
        "0.25     20.40\n",
        "0.50     20.40\n",
        "0.75     22.12\n",
        "1.00     22.12\n",
        "1.50     25.22\n",
        "1.80     25.22\n",
        "2.00     25.22\n",
        "3.00       NaN\n",
        "4.00       NaN\n",
        "5.00       NaN\n",
        "7.00       NaN\n",
        "9.00       NaN\n",
        "11.00      NaN\n",
        "Name: even_rent, dtype: float64\n",
        "maxprofit_fars\n"
       ]
      },
      {
       "output_type": "stream",
       "stream": "stdout",
       "text": [
        "1.0    2351\n",
        "0.5      17\n",
        "dtype: int64\n",
        "retail"
       ]
      },
      {
       "output_type": "stream",
       "stream": "stdout",
       "text": [
        " 24\n",
        "retail"
       ]
      },
      {
       "output_type": "stream",
       "stream": "stdout",
       "text": [
        " Tue May 20 00:23:27 2014\n",
        "sqft cost\n",
        "0.25     20.40\n",
        "0.50     20.40\n",
        "0.75     22.12\n",
        "1.00     22.12\n",
        "1.50     25.22\n",
        "1.80     25.22\n",
        "2.00     25.22\n",
        "3.00       NaN\n",
        "4.00       NaN\n",
        "5.00       NaN\n",
        "7.00       NaN\n",
        "9.00       NaN\n",
        "11.00      NaN\n",
        "Name: even_rent, dtype: float64\n",
        "maxprofit_fars\n"
       ]
      },
      {
       "output_type": "stream",
       "stream": "stdout",
       "text": [
        "1.0    2351\n",
        "0.5      17\n",
        "dtype: int64\n",
        "retail"
       ]
      },
      {
       "output_type": "stream",
       "stream": "stdout",
       "text": [
        " 28\n",
        "retail"
       ]
      },
      {
       "output_type": "stream",
       "stream": "stdout",
       "text": [
        " Tue May 20 00:23:36 2014\n",
        "sqft cost\n",
        "0.25     20.40\n",
        "0.50     20.40\n",
        "0.75     22.12\n",
        "1.00     22.12\n",
        "1.50     25.22\n",
        "1.80     25.22\n",
        "2.00     25.22\n",
        "3.00       NaN\n",
        "4.00       NaN\n",
        "5.00       NaN\n",
        "7.00       NaN\n",
        "9.00       NaN\n",
        "11.00      NaN\n",
        "Name: even_rent, dtype: float64\n",
        "maxprofit_fars\n"
       ]
      },
      {
       "output_type": "stream",
       "stream": "stdout",
       "text": [
        "1.0    2351\n",
        "0.5      17\n",
        "dtype: int64\n",
        "Feasibility and zoning\n"
       ]
      },
      {
       "output_type": "stream",
       "stream": "stdout",
       "text": [
        "        total_sqft  total_units  year_built  currentrent  parcelsize  \\\n",
        "count   1550487.00   1550487.00  1550487.00     1.55e+06    1.84e+06   \n",
        "mean       3750.15         1.44     1949.66     2.06e+12    6.58e+04   \n",
        "std       33970.81         8.88      143.39     7.73e+14    6.56e+05   \n",
        "min           0.00         0.00        0.00     0.00e+00    3.00e+02   \n",
        "25%        1068.00         1.00     1942.00     7.62e+06    4.95e+03   \n",
        "50%        1481.00         1.00     1958.00     1.10e+07    8.01e+03   \n",
        "75%        2131.00         1.00     1979.00     1.68e+07    1.69e+04   \n",
        "max    10257680.00      1610.00     2009.00     4.56e+17    5.60e+08   \n",
        "\n",
        "       type16_zonedfar  type16_zonedheight  type16_feasiblefar  type16_profit  \\\n",
        "count         1.84e+06             1837676          1530355.00       1.53e+06   \n",
        "mean          1.20e+00                 100                0.73       2.10e+14   \n",
        "std           2.96e-06                   0                0.45       4.99e+16   \n",
        "min           1.20e+00                 100                0.00       0.00e+00   \n",
        "25%           1.20e+00                 100                0.00       0.00e+00   \n",
        "50%           1.20e+00                 100                1.00       1.06e+09   \n",
        "75%           1.20e+00                 100                1.00       2.36e+09   \n",
        "max           1.20e+00                 100                1.00       3.17e+19   \n",
        "\n",
        "       type17_zonedfar  type17_zonedheight  type17_feasiblefar  type17_profit  \\\n",
        "count         1.84e+06             1837676          1530355.00       1.53e+06   \n",
        "mean          1.20e+00                 100                0.73       2.10e+14   \n",
        "std           2.96e-06                   0                0.45       4.99e+16   \n",
        "min           1.20e+00                 100                0.00       0.00e+00   \n",
        "25%           1.20e+00                 100                0.00       0.00e+00   \n",
        "50%           1.20e+00                 100                1.00       1.06e+09   \n",
        "75%           1.20e+00                 100                1.00       2.36e+09   \n",
        "max           1.20e+00                 100                1.00       3.17e+19   \n",
        "\n",
        "       type18_zonedfar  type18_zonedheight  type18_feasiblefar  type18_profit  \\\n",
        "count         1.84e+06             1837676          1530355.00       1.53e+06   \n",
        "mean          1.20e+00                 100                0.73       2.10e+14   \n",
        "std           2.96e-06                   0                0.45       4.99e+16   \n",
        "min           1.20e+00                 100                0.00       0.00e+00   \n",
        "25%           1.20e+00                 100                0.00       0.00e+00   \n",
        "50%           1.20e+00                 100                1.00       1.06e+09   \n",
        "75%           1.20e+00                 100                1.00       2.36e+09   \n",
        "max           1.20e+00                 100                1.00       3.17e+19   \n",
        "\n",
        "       type19_zonedfar  type19_zonedheight  type19_feasiblefar      \n",
        "count         1.84e+06             1837676          1530355.00 ...  \n",
        "mean          1.20e+00                 100                0.73 ...  \n",
        "std           2.96e-06                   0                0.45 ...  \n",
        "min           1.20e+00                 100                0.00 ...  \n",
        "25%           1.20e+00                 100                0.00 ...  \n",
        "50%           1.20e+00                 100                1.00 ...  \n",
        "75%           1.20e+00                 100                1.00 ...  \n",
        "max           1.20e+00                 100                1.00 ...  \n",
        "\n",
        "[8 rows x 61 columns]\n",
        "Finished developer"
       ]
      },
      {
       "output_type": "stream",
       "stream": "stdout",
       "text": [
        " Tue May 20 00:24:50 2014\n",
        "Running developer for jobs"
       ]
      },
      {
       "output_type": "stream",
       "stream": "stdout",
       "text": [
        "\n",
        "Number of agents: 1802698\n",
        "Number of agent spaces: 4302903\n",
        "Current vacancy = 1.00\n",
        "Target vacancy = 0.60, target of new units = 203842\n",
        "/Users/ejanowicz/Desktop/semcog_urbansim\n",
        "Describe of netunits\n"
       ]
      },
      {
       "output_type": "stream",
       "stream": "stdout",
       "text": [
        "       total_sqft  total_units  year_built  currentrent  parcelsize  \\\n",
        "count  1060842.00   1060842.00  1060842.00     1.06e+06  1060842.00   \n",
        "mean      2112.01         0.87     1971.32     1.13e+13    18585.13   \n",
        "std       3742.16         6.91       18.56     9.91e+14    26854.96   \n",
        "min          0.00         0.00     1945.00     0.00e+00      300.00   \n",
        "25%       1105.00         0.00     1955.00     1.55e+08     6359.00   \n",
        "50%       1532.00         0.00     1967.00     2.23e+08     9358.00   \n",
        "75%       2163.00         0.00     1988.00     3.38e+08    16711.00   \n",
        "max     212250.00       540.00     2009.00     2.66e+17   199996.00   \n",
        "\n",
        "       type16_zonedfar  type16_zonedheight  type16_feasiblefar  type16_profit  \\\n",
        "count         1.06e+06             1060842             1060842       1.06e+06   \n",
        "mean          1.20e+00                 100                   1       1.51e+14   \n",
        "std           4.65e-06                   0                   0       1.65e+16   \n",
        "min           1.20e+00                 100                   1       9.88e+06   \n",
        "25%           1.20e+00                 100                   1       9.21e+08   \n",
        "50%           1.20e+00                 100                   1       1.46e+09   \n",
        "75%           1.20e+00                 100                   1       2.93e+09   \n",
        "max           1.20e+00                 100                   1       8.17e+18   \n",
        "\n",
        "       type17_zonedfar  type17_zonedheight  type17_feasiblefar  type17_profit  \\\n",
        "count         1.06e+06             1060842             1060842       1.06e+06   \n",
        "mean          1.20e+00                 100                   1       1.51e+14   \n",
        "std           4.65e-06                   0                   0       1.65e+16   \n",
        "min           1.20e+00                 100                   1       9.88e+06   \n",
        "25%           1.20e+00                 100                   1       9.21e+08   \n",
        "50%           1.20e+00                 100                   1       1.46e+09   \n",
        "75%           1.20e+00                 100                   1       2.93e+09   \n",
        "max           1.20e+00                 100                   1       8.17e+18   \n",
        "\n",
        "       type18_zonedfar  type18_zonedheight  type18_feasiblefar  type18_profit  \\\n",
        "count         1.06e+06             1060842             1060842       1.06e+06   \n",
        "mean          1.20e+00                 100                   1       1.51e+14   \n",
        "std           4.65e-06                   0                   0       1.65e+16   \n",
        "min           1.20e+00                 100                   1       9.88e+06   \n",
        "25%           1.20e+00                 100                   1       9.21e+08   \n",
        "50%           1.20e+00                 100                   1       1.46e+09   \n",
        "75%           1.20e+00                 100                   1       2.93e+09   \n",
        "max           1.20e+00                 100                   1       8.17e+18   \n",
        "\n",
        "       type19_zonedfar  type19_zonedheight  type19_feasiblefar      \n",
        "count         1.06e+06             1060842             1060842 ...  \n",
        "mean          1.20e+00                 100                   1 ...  \n",
        "std           4.65e-06                   0                   0 ...  \n",
        "min           1.20e+00                 100                   1 ...  \n",
        "25%           1.20e+00                 100                   1 ...  \n",
        "50%           1.20e+00                 100                   1 ...  \n",
        "75%           1.20e+00                 100                   1 ...  \n",
        "max           1.20e+00                 100                   1 ...  \n",
        "\n",
        "[8 rows x 67 columns]\n",
        "Describe of buildings built\n"
       ]
      },
      {
       "output_type": "stream",
       "stream": "stdout",
       "text": [
        "count    933.00\n",
        "mean       2.09\n",
        "std       10.07\n",
        "min        0.00\n",
        "25%        0.00\n",
        "50%        0.00\n",
        "75%        0.00\n",
        "max      110.00\n",
        "Name: total_units, dtype: float64\n",
        "Describe of profit\n",
        "count    9.33e+02\n",
        "mean     1.53e+17\n",
        "std      4.75e+17\n",
        "min      1.93e+08\n",
        "25%      2.71e+09\n",
        "50%      1.06e+10\n",
        "75%      2.46e+10\n",
        "max      7.34e+18\n",
        "Name: max_profit, dtype: float64\n",
        "Buildings by type\n",
        "21    933\n",
        "dtype: int64\n",
        "Units by type\n",
        "max_btype\n",
        "21           203380\n",
        "Name: netunits, dtype: int64\n",
        "Nonres sqft diffs"
       ]
      },
      {
       "output_type": "stream",
       "stream": "stdout",
       "text": [
        "\n",
        "county_id\n",
        "93            7254165\n",
        "99            4530072\n",
        "115           3235242\n",
        "125          18787912\n",
        "147           4945089\n",
        "161           6492594\n",
        "163           5975171\n",
        "Name: non_residential_sqft, dtype: int64\n",
        "Running developer for households"
       ]
      },
      {
       "output_type": "stream",
       "stream": "stdout",
       "text": [
        "\n",
        "Number of agents: 1844780\n",
        "Number of agent spaces: 2224980\n",
        "Current vacancy = 1.00\n",
        "Target vacancy = 0.20, target of new units = 80995\n",
        "/Users/ejanowicz/Desktop/semcog_urbansim\n",
        "Describe of netunits\n"
       ]
      },
      {
       "output_type": "stream",
       "stream": "stdout",
       "text": [
        "       total_sqft  total_units  year_built  currentrent  parcelsize  \\\n",
        "count  1063451.00   1063451.00  1063451.00     1.06e+06  1063451.00   \n",
        "mean      2119.76         1.07     1971.36     1.12e+13    18550.46   \n",
        "std       3819.35         2.35       18.58     9.90e+14    26838.84   \n",
        "min          0.00         0.00     1945.00     0.00e+00      300.00   \n",
        "25%       1105.00         1.00     1955.00     1.55e+08     6333.00   \n",
        "50%       1533.00         1.00     1967.00     2.23e+08     9335.00   \n",
        "75%       2164.00         1.00     1989.00     3.39e+08    16673.00   \n",
        "max     224306.00       324.00     2009.00     2.66e+17   199996.00   \n",
        "\n",
        "       type16_zonedfar  type16_zonedheight  type16_feasiblefar  type16_profit  \\\n",
        "count         1.06e+06             1063451             1063451       1.06e+06   \n",
        "mean          1.20e+00                 100                   1       1.50e+14   \n",
        "std           4.66e-06                   0                   0       1.65e+16   \n",
        "min           1.20e+00                 100                   1       8.25e+04   \n",
        "25%           1.20e+00                 100                   1       9.17e+08   \n",
        "50%           1.20e+00                 100                   1       1.46e+09   \n",
        "75%           1.20e+00                 100                   1       2.93e+09   \n",
        "max           1.20e+00                 100                   1       8.17e+18   \n",
        "\n",
        "       type17_zonedfar  type17_zonedheight  type17_feasiblefar  type17_profit  \\\n",
        "count         1.06e+06             1063451             1063451       1.06e+06   \n",
        "mean          1.20e+00                 100                   1       1.50e+14   \n",
        "std           4.66e-06                   0                   0       1.65e+16   \n",
        "min           1.20e+00                 100                   1       8.25e+04   \n",
        "25%           1.20e+00                 100                   1       9.17e+08   \n",
        "50%           1.20e+00                 100                   1       1.46e+09   \n",
        "75%           1.20e+00                 100                   1       2.93e+09   \n",
        "max           1.20e+00                 100                   1       8.17e+18   \n",
        "\n",
        "       type18_zonedfar  type18_zonedheight  type18_feasiblefar  type18_profit  \\\n",
        "count         1.06e+06             1063451             1063451       1.06e+06   \n",
        "mean          1.20e+00                 100                   1       1.50e+14   \n",
        "std           4.66e-06                   0                   0       1.65e+16   \n",
        "min           1.20e+00                 100                   1       8.25e+04   \n",
        "25%           1.20e+00                 100                   1       9.17e+08   \n",
        "50%           1.20e+00                 100                   1       1.46e+09   \n",
        "75%           1.20e+00                 100                   1       2.93e+09   \n",
        "max           1.20e+00                 100                   1       8.17e+18   \n",
        "\n",
        "       type19_zonedfar  type19_zonedheight  type19_feasiblefar      \n",
        "count         1.06e+06             1063451             1063451 ...  \n",
        "mean          1.20e+00                 100                   1 ...  \n",
        "std           4.66e-06                   0                   0 ...  \n",
        "min           1.20e+00                 100                   1 ...  \n",
        "25%           1.20e+00                 100                   1 ...  \n",
        "50%           1.20e+00                 100                   1 ...  \n",
        "75%           1.20e+00                 100                   1 ...  \n",
        "max           1.20e+00                 100                   1 ...  \n",
        "\n",
        "[8 rows x 67 columns]\n",
        "Describe of buildings built\n"
       ]
      },
      {
       "output_type": "stream",
       "stream": "stdout",
       "text": [
        "count    1887.00\n",
        "mean        1.16\n",
        "std         2.66\n",
        "min         0.00\n",
        "25%         1.00\n",
        "50%         1.00\n",
        "75%         1.00\n",
        "max        56.00\n",
        "Name: total_units, dtype: float64\n",
        "Describe of profit\n",
        "count    1.89e+03\n",
        "mean     8.46e+16\n",
        "std      3.83e+17\n",
        "min      1.80e+08\n",
        "25%      2.57e+09\n",
        "50%      8.44e+09\n",
        "75%      2.24e+10\n",
        "max      8.17e+18\n",
        "Name: max_profit, dtype: float64\n",
        "Buildings by type\n",
        "16    1887\n",
        "dtype: int64\n",
        "Units by type\n",
        "max_btype\n",
        "16           80963\n",
        "Name: netunits, dtype: int64\n",
        "Resunit diffs"
       ]
      },
      {
       "output_type": "stream",
       "stream": "stdout",
       "text": [
        "\n",
        "county_id\n",
        "93            9103\n",
        "99            9052\n",
        "115           5720\n",
        "125          27953\n",
        "147           7719\n",
        "161          14130\n",
        "163           9466\n",
        "Name: residential_units, dtype: int64\n",
        "HH diffs"
       ]
      },
      {
       "output_type": "stream",
       "stream": "stdout",
       "text": [
        "\n",
        "county_id\n",
        "93             64\n",
        "99            426\n",
        "115            78\n",
        "125           572\n",
        "147            84\n",
        "161           184\n",
        "163          1244\n",
        "dtype: int64\n",
        "EMP diffs\n",
        "county_id\n",
        "93              78\n",
        "99            1323\n",
        "115            102\n",
        "125           2429\n",
        "147             67\n",
        "161            401\n",
        "163          11594\n",
        "dtype: int64\n",
        "       residential      office      retail  industrial\n",
        "count     1.83e+06  1833072.00  1833072.00  1833072.00\n",
        "mean      2.23e+08        9.03        9.03        9.03\n",
        "std       2.17e+10      121.66      121.66      121.66\n",
        "min       3.25e+03       -0.00       -0.00       -0.00\n",
        "25%       8.53e+03        2.32        2.32        2.32\n",
        "50%       9.32e+03        3.51        3.51        3.51\n",
        "75%       1.06e+04        4.70        4.70        4.70\n",
        "max       2.12e+12    34872.29    34872.29    34872.29\n",
        "\n",
        "[8 rows x 4 columns]"
       ]
      },
      {
       "output_type": "stream",
       "stream": "stdout",
       "text": [
        "\n",
        "Get zoning:"
       ]
      },
      {
       "output_type": "stream",
       "stream": "stdout",
       "text": [
        " Tue May 20 00:26:59 2014\n",
        "residential"
       ]
      },
      {
       "output_type": "stream",
       "stream": "stdout",
       "text": [
        " 16\n",
        "residential"
       ]
      },
      {
       "output_type": "stream",
       "stream": "stdout",
       "text": [
        " Tue May 20 00:27:03 2014\n",
        "sqft cost\n",
        "0.25     20.52\n",
        "0.50     20.52\n",
        "0.75     20.52\n",
        "1.00     22.07\n",
        "1.50     22.81\n",
        "1.80     22.81\n",
        "2.00     24.36\n",
        "3.00     24.36\n",
        "4.00     24.36\n",
        "5.00     26.65\n",
        "7.00     26.65\n",
        "9.00     26.65\n",
        "11.00    30.09\n",
        "Name: even_rent, dtype: float64\n",
        "maxprofit_fars\n"
       ]
      },
      {
       "output_type": "stream",
       "stream": "stdout",
       "text": [
        "1    1519482\n",
        "dtype: int64\n",
        "residential"
       ]
      },
      {
       "output_type": "stream",
       "stream": "stdout",
       "text": [
        " 17\n",
        "residential"
       ]
      },
      {
       "output_type": "stream",
       "stream": "stdout",
       "text": [
        " Tue May 20 00:27:13 2014\n",
        "sqft cost\n",
        "0.25     20.52\n",
        "0.50     20.52\n",
        "0.75     20.52\n",
        "1.00     22.07\n",
        "1.50     22.81\n",
        "1.80     22.81\n",
        "2.00     24.36\n",
        "3.00     24.36\n",
        "4.00     24.36\n",
        "5.00     26.65\n",
        "7.00     26.65\n",
        "9.00     26.65\n",
        "11.00    30.09\n",
        "Name: even_rent, dtype: float64\n",
        "maxprofit_fars\n"
       ]
      },
      {
       "output_type": "stream",
       "stream": "stdout",
       "text": [
        "1    1519482\n",
        "dtype: int64\n",
        "residential"
       ]
      },
      {
       "output_type": "stream",
       "stream": "stdout",
       "text": [
        " 18\n",
        "residential"
       ]
      },
      {
       "output_type": "stream",
       "stream": "stdout",
       "text": [
        " Tue May 20 00:27:23 2014\n",
        "sqft cost\n",
        "0.25     20.52\n",
        "0.50     20.52\n",
        "0.75     20.52\n",
        "1.00     22.07\n",
        "1.50     22.81\n",
        "1.80     22.81\n",
        "2.00     24.36\n",
        "3.00     24.36\n",
        "4.00     24.36\n",
        "5.00     26.65\n",
        "7.00     26.65\n",
        "9.00     26.65\n",
        "11.00    30.09\n",
        "Name: even_rent, dtype: float64\n",
        "maxprofit_fars\n"
       ]
      },
      {
       "output_type": "stream",
       "stream": "stdout",
       "text": [
        "1    1519482\n",
        "dtype: int64\n",
        "residential"
       ]
      },
      {
       "output_type": "stream",
       "stream": "stdout",
       "text": [
        " 19\n",
        "residential"
       ]
      },
      {
       "output_type": "stream",
       "stream": "stdout",
       "text": [
        " Tue May 20 00:27:34 2014\n",
        "sqft cost\n",
        "0.25     20.52\n",
        "0.50     20.52\n",
        "0.75     20.52\n",
        "1.00     22.07\n",
        "1.50     22.81\n",
        "1.80     22.81\n",
        "2.00     24.36\n",
        "3.00     24.36\n",
        "4.00     24.36\n",
        "5.00     26.65\n",
        "7.00     26.65\n",
        "9.00     26.65\n",
        "11.00    30.09\n",
        "Name: even_rent, dtype: float64\n",
        "maxprofit_fars\n"
       ]
      },
      {
       "output_type": "stream",
       "stream": "stdout",
       "text": [
        "1    1519482\n",
        "dtype: int64\n",
        "industrial"
       ]
      },
      {
       "output_type": "stream",
       "stream": "stdout",
       "text": [
        " 32\n",
        "industrial"
       ]
      },
      {
       "output_type": "stream",
       "stream": "stdout",
       "text": [
        " Tue May 20 00:27:44 2014\n",
        "sqft cost\n",
        "0.25     16.67\n",
        "0.50     16.67\n",
        "0.75     16.67\n",
        "1.00     17.60\n",
        "1.50     20.68\n",
        "1.80     20.68\n",
        "2.00     20.68\n",
        "3.00       NaN\n",
        "4.00       NaN\n",
        "5.00       NaN\n",
        "7.00       NaN\n",
        "9.00       NaN\n",
        "11.00      NaN\n",
        "Name: even_rent, dtype: float64\n",
        "maxprofit_fars\n"
       ]
      },
      {
       "output_type": "stream",
       "stream": "stdout",
       "text": [
        "1.00    2424\n",
        "0.75      40\n",
        "dtype: int64\n",
        "industrial"
       ]
      },
      {
       "output_type": "stream",
       "stream": "stdout",
       "text": [
        " 33\n",
        "industrial"
       ]
      },
      {
       "output_type": "stream",
       "stream": "stdout",
       "text": [
        " Tue May 20 00:27:55 2014\n",
        "sqft cost\n",
        "0.25     16.67\n",
        "0.50     16.67\n",
        "0.75     16.67\n",
        "1.00     17.60\n",
        "1.50     20.68\n",
        "1.80     20.68\n",
        "2.00     20.68\n",
        "3.00       NaN\n",
        "4.00       NaN\n",
        "5.00       NaN\n",
        "7.00       NaN\n",
        "9.00       NaN\n",
        "11.00      NaN\n",
        "Name: even_rent, dtype: float64\n",
        "maxprofit_fars\n"
       ]
      },
      {
       "output_type": "stream",
       "stream": "stdout",
       "text": [
        "1.00    2424\n",
        "0.75      40\n",
        "dtype: int64\n",
        "industrial"
       ]
      },
      {
       "output_type": "stream",
       "stream": "stdout",
       "text": [
        " 39\n",
        "industrial"
       ]
      },
      {
       "output_type": "stream",
       "stream": "stdout",
       "text": [
        " Tue May 20 00:28:05 2014\n",
        "sqft cost\n",
        "0.25     16.67\n",
        "0.50     16.67\n",
        "0.75     16.67\n",
        "1.00     17.60\n",
        "1.50     20.68\n",
        "1.80     20.68\n",
        "2.00     20.68\n",
        "3.00       NaN\n",
        "4.00       NaN\n",
        "5.00       NaN\n",
        "7.00       NaN\n",
        "9.00       NaN\n",
        "11.00      NaN\n",
        "Name: even_rent, dtype: float64\n",
        "maxprofit_fars\n"
       ]
      },
      {
       "output_type": "stream",
       "stream": "stdout",
       "text": [
        "1.00    2424\n",
        "0.75      40\n",
        "dtype: int64\n",
        "mixedresidential"
       ]
      },
      {
       "output_type": "stream",
       "stream": "stdout",
       "text": [
        " 21\n",
        "mixedresidential"
       ]
      },
      {
       "output_type": "stream",
       "stream": "stdout",
       "text": [
        " Tue May 20 00:28:15 2014\n",
        "sqft cost\n",
        "0.25     20.51\n",
        "0.50     20.51\n",
        "0.75     20.51\n",
        "1.00     22.21\n",
        "1.50     22.74\n",
        "1.80     24.45\n",
        "2.00     24.45\n",
        "3.00     24.45\n",
        "4.00     24.45\n",
        "5.00     26.80\n",
        "7.00     26.80\n",
        "9.00     26.80\n",
        "11.00    30.23\n",
        "Name: even_rent, dtype: float64\n",
        "maxprofit_fars\n"
       ]
      },
      {
       "output_type": "stream",
       "stream": "stdout",
       "text": [
        "1    1515751\n",
        "dtype: int64\n",
        "office"
       ]
      },
      {
       "output_type": "stream",
       "stream": "stdout",
       "text": [
        " 27\n",
        "office"
       ]
      },
      {
       "output_type": "stream",
       "stream": "stdout",
       "text": [
        " Tue May 20 00:28:25 2014\n",
        "sqft cost\n",
        "0.25     19.37\n",
        "0.50     19.37\n",
        "0.75     19.37\n",
        "1.00     20.92\n",
        "1.50     21.09\n",
        "1.80     21.09\n",
        "2.00     22.64\n",
        "3.00     22.64\n",
        "4.00     22.64\n",
        "5.00     25.51\n",
        "7.00     25.51\n",
        "9.00     25.51\n",
        "11.00    28.94\n",
        "Name: even_rent, dtype: float64\n",
        "maxprofit_fars\n"
       ]
      },
      {
       "output_type": "stream",
       "stream": "stdout",
       "text": [
        "1.00    2368\n",
        "0.75      30\n",
        "dtype: int64\n",
        "retail"
       ]
      },
      {
       "output_type": "stream",
       "stream": "stdout",
       "text": [
        " 22\n",
        "retail"
       ]
      },
      {
       "output_type": "stream",
       "stream": "stdout",
       "text": [
        " Tue May 20 00:28:35 2014\n",
        "sqft cost\n",
        "0.25     20.40\n",
        "0.50     20.40\n",
        "0.75     22.12\n",
        "1.00     22.12\n",
        "1.50     25.22\n",
        "1.80     25.22\n",
        "2.00     25.22\n",
        "3.00       NaN\n",
        "4.00       NaN\n",
        "5.00       NaN\n",
        "7.00       NaN\n",
        "9.00       NaN\n",
        "11.00      NaN\n",
        "Name: even_rent, dtype: float64\n",
        "maxprofit_fars\n"
       ]
      },
      {
       "output_type": "stream",
       "stream": "stdout",
       "text": [
        "1.0    2351\n",
        "0.5      17\n",
        "dtype: int64\n",
        "retail"
       ]
      },
      {
       "output_type": "stream",
       "stream": "stdout",
       "text": [
        " 23\n",
        "retail"
       ]
      },
      {
       "output_type": "stream",
       "stream": "stdout",
       "text": [
        " Tue May 20 00:28:48 2014\n",
        "sqft cost\n",
        "0.25     20.40\n",
        "0.50     20.40\n",
        "0.75     22.12\n",
        "1.00     22.12\n",
        "1.50     25.22\n",
        "1.80     25.22\n",
        "2.00     25.22\n",
        "3.00       NaN\n",
        "4.00       NaN\n",
        "5.00       NaN\n",
        "7.00       NaN\n",
        "9.00       NaN\n",
        "11.00      NaN\n",
        "Name: even_rent, dtype: float64\n",
        "maxprofit_fars\n"
       ]
      },
      {
       "output_type": "stream",
       "stream": "stdout",
       "text": [
        "1.0    2351\n",
        "0.5      17\n",
        "dtype: int64\n",
        "retail"
       ]
      },
      {
       "output_type": "stream",
       "stream": "stdout",
       "text": [
        " 24\n",
        "retail"
       ]
      },
      {
       "output_type": "stream",
       "stream": "stdout",
       "text": [
        " Tue May 20 00:29:00 2014\n",
        "sqft cost\n",
        "0.25     20.40\n",
        "0.50     20.40\n",
        "0.75     22.12\n",
        "1.00     22.12\n",
        "1.50     25.22\n",
        "1.80     25.22\n",
        "2.00     25.22\n",
        "3.00       NaN\n",
        "4.00       NaN\n",
        "5.00       NaN\n",
        "7.00       NaN\n",
        "9.00       NaN\n",
        "11.00      NaN\n",
        "Name: even_rent, dtype: float64\n",
        "maxprofit_fars\n"
       ]
      },
      {
       "output_type": "stream",
       "stream": "stdout",
       "text": [
        "1.0    2351\n",
        "0.5      17\n",
        "dtype: int64\n",
        "retail"
       ]
      },
      {
       "output_type": "stream",
       "stream": "stdout",
       "text": [
        " 28\n",
        "retail"
       ]
      },
      {
       "output_type": "stream",
       "stream": "stdout",
       "text": [
        " Tue May 20 00:29:09 2014\n",
        "sqft cost\n",
        "0.25     20.40\n",
        "0.50     20.40\n",
        "0.75     22.12\n",
        "1.00     22.12\n",
        "1.50     25.22\n",
        "1.80     25.22\n",
        "2.00     25.22\n",
        "3.00       NaN\n",
        "4.00       NaN\n",
        "5.00       NaN\n",
        "7.00       NaN\n",
        "9.00       NaN\n",
        "11.00      NaN\n",
        "Name: even_rent, dtype: float64\n",
        "maxprofit_fars\n"
       ]
      },
      {
       "output_type": "stream",
       "stream": "stdout",
       "text": [
        "1.0    2351\n",
        "0.5      17\n",
        "dtype: int64\n",
        "Feasibility and zoning\n"
       ]
      },
      {
       "output_type": "stream",
       "stream": "stdout",
       "text": [
        "        total_sqft  total_units  year_built  currentrent  parcelsize  \\\n",
        "count   1550487.00   1550487.00  1550487.00     1.55e+06    1.84e+06   \n",
        "mean       3750.15         1.44     1949.66     2.06e+12    6.58e+04   \n",
        "std       33970.81         8.88      143.39     7.73e+14    6.56e+05   \n",
        "min           0.00         0.00        0.00     0.00e+00    3.00e+02   \n",
        "25%        1068.00         1.00     1942.00     7.62e+06    4.95e+03   \n",
        "50%        1481.00         1.00     1958.00     1.10e+07    8.01e+03   \n",
        "75%        2131.00         1.00     1979.00     1.68e+07    1.69e+04   \n",
        "max    10257680.00      1610.00     2009.00     4.56e+17    5.60e+08   \n",
        "\n",
        "       type16_zonedfar  type16_zonedheight  type16_feasiblefar  type16_profit  \\\n",
        "count         1.84e+06             1837676          1530355.00       1.53e+06   \n",
        "mean          1.20e+00                 100                0.73       2.10e+14   \n",
        "std           2.96e-06                   0                0.45       4.99e+16   \n",
        "min           1.20e+00                 100                0.00       0.00e+00   \n",
        "25%           1.20e+00                 100                0.00       0.00e+00   \n",
        "50%           1.20e+00                 100                1.00       1.06e+09   \n",
        "75%           1.20e+00                 100                1.00       2.36e+09   \n",
        "max           1.20e+00                 100                1.00       3.17e+19   \n",
        "\n",
        "       type17_zonedfar  type17_zonedheight  type17_feasiblefar  type17_profit  \\\n",
        "count         1.84e+06             1837676          1530355.00       1.53e+06   \n",
        "mean          1.20e+00                 100                0.73       2.10e+14   \n",
        "std           2.96e-06                   0                0.45       4.99e+16   \n",
        "min           1.20e+00                 100                0.00       0.00e+00   \n",
        "25%           1.20e+00                 100                0.00       0.00e+00   \n",
        "50%           1.20e+00                 100                1.00       1.06e+09   \n",
        "75%           1.20e+00                 100                1.00       2.36e+09   \n",
        "max           1.20e+00                 100                1.00       3.17e+19   \n",
        "\n",
        "       type18_zonedfar  type18_zonedheight  type18_feasiblefar  type18_profit  \\\n",
        "count         1.84e+06             1837676          1530355.00       1.53e+06   \n",
        "mean          1.20e+00                 100                0.73       2.10e+14   \n",
        "std           2.96e-06                   0                0.45       4.99e+16   \n",
        "min           1.20e+00                 100                0.00       0.00e+00   \n",
        "25%           1.20e+00                 100                0.00       0.00e+00   \n",
        "50%           1.20e+00                 100                1.00       1.06e+09   \n",
        "75%           1.20e+00                 100                1.00       2.36e+09   \n",
        "max           1.20e+00                 100                1.00       3.17e+19   \n",
        "\n",
        "       type19_zonedfar  type19_zonedheight  type19_feasiblefar      \n",
        "count         1.84e+06             1837676          1530355.00 ...  \n",
        "mean          1.20e+00                 100                0.73 ...  \n",
        "std           2.96e-06                   0                0.45 ...  \n",
        "min           1.20e+00                 100                0.00 ...  \n",
        "25%           1.20e+00                 100                0.00 ...  \n",
        "50%           1.20e+00                 100                1.00 ...  \n",
        "75%           1.20e+00                 100                1.00 ...  \n",
        "max           1.20e+00                 100                1.00 ...  \n",
        "\n",
        "[8 rows x 61 columns]\n",
        "Finished developer"
       ]
      },
      {
       "output_type": "stream",
       "stream": "stdout",
       "text": [
        " Tue May 20 00:30:24 2014\n",
        "Running developer for jobs"
       ]
      },
      {
       "output_type": "stream",
       "stream": "stdout",
       "text": [
        "\n",
        "Number of agents: 1802698\n",
        "Number of agent spaces: 4302903\n",
        "Current vacancy = 1.00\n",
        "Target vacancy = 0.60, target of new units = 203842\n",
        "/Users/ejanowicz/Desktop/semcog_urbansim\n",
        "Describe of netunits\n"
       ]
      },
      {
       "output_type": "stream",
       "stream": "stdout",
       "text": [
        "       total_sqft  total_units  year_built  currentrent  parcelsize  \\\n",
        "count  1060842.00   1060842.00  1060842.00     1.06e+06  1060842.00   \n",
        "mean      2112.01         0.87     1971.32     1.13e+13    18585.13   \n",
        "std       3742.16         6.91       18.56     9.91e+14    26854.96   \n",
        "min          0.00         0.00     1945.00     0.00e+00      300.00   \n",
        "25%       1105.00         0.00     1955.00     1.55e+08     6359.00   \n",
        "50%       1532.00         0.00     1967.00     2.23e+08     9358.00   \n",
        "75%       2163.00         0.00     1988.00     3.38e+08    16711.00   \n",
        "max     212250.00       540.00     2009.00     2.66e+17   199996.00   \n",
        "\n",
        "       type16_zonedfar  type16_zonedheight  type16_feasiblefar  type16_profit  \\\n",
        "count         1.06e+06             1060842             1060842       1.06e+06   \n",
        "mean          1.20e+00                 100                   1       1.51e+14   \n",
        "std           4.65e-06                   0                   0       1.65e+16   \n",
        "min           1.20e+00                 100                   1       9.88e+06   \n",
        "25%           1.20e+00                 100                   1       9.21e+08   \n",
        "50%           1.20e+00                 100                   1       1.46e+09   \n",
        "75%           1.20e+00                 100                   1       2.93e+09   \n",
        "max           1.20e+00                 100                   1       8.17e+18   \n",
        "\n",
        "       type17_zonedfar  type17_zonedheight  type17_feasiblefar  type17_profit  \\\n",
        "count         1.06e+06             1060842             1060842       1.06e+06   \n",
        "mean          1.20e+00                 100                   1       1.51e+14   \n",
        "std           4.65e-06                   0                   0       1.65e+16   \n",
        "min           1.20e+00                 100                   1       9.88e+06   \n",
        "25%           1.20e+00                 100                   1       9.21e+08   \n",
        "50%           1.20e+00                 100                   1       1.46e+09   \n",
        "75%           1.20e+00                 100                   1       2.93e+09   \n",
        "max           1.20e+00                 100                   1       8.17e+18   \n",
        "\n",
        "       type18_zonedfar  type18_zonedheight  type18_feasiblefar  type18_profit  \\\n",
        "count         1.06e+06             1060842             1060842       1.06e+06   \n",
        "mean          1.20e+00                 100                   1       1.51e+14   \n",
        "std           4.65e-06                   0                   0       1.65e+16   \n",
        "min           1.20e+00                 100                   1       9.88e+06   \n",
        "25%           1.20e+00                 100                   1       9.21e+08   \n",
        "50%           1.20e+00                 100                   1       1.46e+09   \n",
        "75%           1.20e+00                 100                   1       2.93e+09   \n",
        "max           1.20e+00                 100                   1       8.17e+18   \n",
        "\n",
        "       type19_zonedfar  type19_zonedheight  type19_feasiblefar      \n",
        "count         1.06e+06             1060842             1060842 ...  \n",
        "mean          1.20e+00                 100                   1 ...  \n",
        "std           4.65e-06                   0                   0 ...  \n",
        "min           1.20e+00                 100                   1 ...  \n",
        "25%           1.20e+00                 100                   1 ...  \n",
        "50%           1.20e+00                 100                   1 ...  \n",
        "75%           1.20e+00                 100                   1 ...  \n",
        "max           1.20e+00                 100                   1 ...  \n",
        "\n",
        "[8 rows x 67 columns]\n",
        "Describe of buildings built\n"
       ]
      },
      {
       "output_type": "stream",
       "stream": "stdout",
       "text": [
        "count    939.00\n",
        "mean       2.68\n",
        "std       12.70\n",
        "min        0.00\n",
        "25%        0.00\n",
        "50%        0.00\n",
        "75%        0.00\n",
        "max      183.00\n",
        "Name: total_units, dtype: float64\n",
        "Describe of profit\n",
        "count    9.39e+02\n",
        "mean     1.52e+17\n",
        "std      4.74e+17\n",
        "min      3.71e+08\n",
        "25%      2.59e+09\n",
        "50%      1.01e+10\n",
        "75%      2.59e+10\n",
        "max      7.34e+18\n",
        "Name: max_profit, dtype: float64\n",
        "Buildings by type\n",
        "21    939\n",
        "dtype: int64\n",
        "Units by type\n",
        "max_btype\n",
        "21           203828\n",
        "Name: netunits, dtype: int64\n",
        "Nonres sqft diffs"
       ]
      },
      {
       "output_type": "stream",
       "stream": "stdout",
       "text": [
        "\n",
        "county_id\n",
        "93            5561646\n",
        "99            4595738\n",
        "115           3080260\n",
        "125          19989174\n",
        "147           5193963\n",
        "161           7115762\n",
        "163           5933906\n",
        "Name: non_residential_sqft, dtype: int64\n",
        "Running developer for households"
       ]
      },
      {
       "output_type": "stream",
       "stream": "stdout",
       "text": [
        "\n",
        "Number of agents: 1844780\n",
        "Number of agent spaces: 2224980\n",
        "Current vacancy = 1.00\n",
        "Target vacancy = 0.20, target of new units = 80995\n",
        "/Users/ejanowicz/Desktop/semcog_urbansim\n",
        "Describe of netunits\n"
       ]
      },
      {
       "output_type": "stream",
       "stream": "stdout",
       "text": [
        "       total_sqft  total_units  year_built  currentrent  parcelsize  \\\n",
        "count  1063451.00   1063451.00  1063451.00     1.06e+06  1063451.00   \n",
        "mean      2119.76         1.07     1971.36     1.12e+13    18550.46   \n",
        "std       3819.35         2.35       18.58     9.90e+14    26838.84   \n",
        "min          0.00         0.00     1945.00     0.00e+00      300.00   \n",
        "25%       1105.00         1.00     1955.00     1.55e+08     6333.00   \n",
        "50%       1533.00         1.00     1967.00     2.23e+08     9335.00   \n",
        "75%       2164.00         1.00     1989.00     3.39e+08    16673.00   \n",
        "max     224306.00       324.00     2009.00     2.66e+17   199996.00   \n",
        "\n",
        "       type16_zonedfar  type16_zonedheight  type16_feasiblefar  type16_profit  \\\n",
        "count         1.06e+06             1063451             1063451       1.06e+06   \n",
        "mean          1.20e+00                 100                   1       1.50e+14   \n",
        "std           4.66e-06                   0                   0       1.65e+16   \n",
        "min           1.20e+00                 100                   1       8.25e+04   \n",
        "25%           1.20e+00                 100                   1       9.17e+08   \n",
        "50%           1.20e+00                 100                   1       1.46e+09   \n",
        "75%           1.20e+00                 100                   1       2.93e+09   \n",
        "max           1.20e+00                 100                   1       8.17e+18   \n",
        "\n",
        "       type17_zonedfar  type17_zonedheight  type17_feasiblefar  type17_profit  \\\n",
        "count         1.06e+06             1063451             1063451       1.06e+06   \n",
        "mean          1.20e+00                 100                   1       1.50e+14   \n",
        "std           4.66e-06                   0                   0       1.65e+16   \n",
        "min           1.20e+00                 100                   1       8.25e+04   \n",
        "25%           1.20e+00                 100                   1       9.17e+08   \n",
        "50%           1.20e+00                 100                   1       1.46e+09   \n",
        "75%           1.20e+00                 100                   1       2.93e+09   \n",
        "max           1.20e+00                 100                   1       8.17e+18   \n",
        "\n",
        "       type18_zonedfar  type18_zonedheight  type18_feasiblefar  type18_profit  \\\n",
        "count         1.06e+06             1063451             1063451       1.06e+06   \n",
        "mean          1.20e+00                 100                   1       1.50e+14   \n",
        "std           4.66e-06                   0                   0       1.65e+16   \n",
        "min           1.20e+00                 100                   1       8.25e+04   \n",
        "25%           1.20e+00                 100                   1       9.17e+08   \n",
        "50%           1.20e+00                 100                   1       1.46e+09   \n",
        "75%           1.20e+00                 100                   1       2.93e+09   \n",
        "max           1.20e+00                 100                   1       8.17e+18   \n",
        "\n",
        "       type19_zonedfar  type19_zonedheight  type19_feasiblefar      \n",
        "count         1.06e+06             1063451             1063451 ...  \n",
        "mean          1.20e+00                 100                   1 ...  \n",
        "std           4.66e-06                   0                   0 ...  \n",
        "min           1.20e+00                 100                   1 ...  \n",
        "25%           1.20e+00                 100                   1 ...  \n",
        "50%           1.20e+00                 100                   1 ...  \n",
        "75%           1.20e+00                 100                   1 ...  \n",
        "max           1.20e+00                 100                   1 ...  \n",
        "\n",
        "[8 rows x 67 columns]\n",
        "Describe of buildings built\n"
       ]
      },
      {
       "output_type": "stream",
       "stream": "stdout",
       "text": [
        "count    1827.00\n",
        "mean        1.33\n",
        "std         4.70\n",
        "min         0.00\n",
        "25%         1.00\n",
        "50%         1.00\n",
        "75%         1.00\n",
        "max       105.00\n",
        "Name: total_units, dtype: float64\n",
        "Describe of profit\n",
        "count    1.83e+03\n",
        "mean     8.74e+16\n",
        "std      3.89e+17\n",
        "min      1.31e+08\n",
        "25%      2.76e+09\n",
        "50%      8.85e+09\n",
        "75%      2.30e+10\n",
        "max      8.17e+18\n",
        "Name: max_profit, dtype: float64\n",
        "Buildings by type\n",
        "16    1827\n",
        "dtype: int64\n",
        "Units by type\n",
        "max_btype\n",
        "16           80970\n",
        "Name: netunits, dtype: int64\n",
        "Resunit diffs"
       ]
      },
      {
       "output_type": "stream",
       "stream": "stdout",
       "text": [
        "\n",
        "county_id\n",
        "93           11937\n",
        "99            8180\n",
        "115           4966\n",
        "125          28428\n",
        "147           7284\n",
        "161          13486\n",
        "163           9124\n",
        "Name: residential_units, dtype: int64\n"
       ]
      }
     ],
     "prompt_number": 3
    }
   ],
   "metadata": {}
  }
 ]
}