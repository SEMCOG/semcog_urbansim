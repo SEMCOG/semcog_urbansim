{
 "metadata": {
  "name": "",
  "signature": "sha256:bf5f7511d1a7dbec70414adb9a7ea1c03c1e55ee17d8facf7f43724129bd9d94"
 },
 "nbformat": 3,
 "nbformat_minor": 0,
 "worksheets": [
  {
   "cells": [
    {
     "cell_type": "code",
     "collapsed": false,
     "input": [
      "%load_ext autoreload\n",
      "%autoreload 2\n",
      "%aimport models\n",
      "%aimport dataset\n",
      "dset = dataset.SemcogDataset(\"data/semcog_data.h5\")\n",
      "dset.debug = True"
     ],
     "language": "python",
     "metadata": {},
     "outputs": [
      {
       "output_type": "stream",
       "stream": "stdout",
       "text": [
        "Fetching cities\n"
       ]
      }
     ],
     "prompt_number": 1
    },
    {
     "cell_type": "code",
     "collapsed": false,
     "input": [
      "models.build_networks(dset)\n",
      "#models.cache_variables(dset)\n",
      "models.neighborhood_vars(dset)"
     ],
     "language": "python",
     "metadata": {},
     "outputs": [
      {
       "output_type": "stream",
       "stream": "stdout",
       "text": [
        "Fetching parcels\n",
        "Computing accessibility variables"
       ]
      },
      {
       "output_type": "stream",
       "stream": "stdout",
       "text": [
        "\n",
        "Computing sum_residential_units\n",
        "    Fields available to accvar = residential_units, _node_id0\n",
        "Fetching buildings\n",
        "Returning primary attribute: residential_units of buildings"
       ]
      },
      {
       "output_type": "stream",
       "stream": "stdout",
       "text": [
        "\n",
        "Computing: _node_id0 of buildings as\n",
        "    reindex(parcels._node_id0, buildings.parcel_id)\n",
        "Returning primary attribute: _node_id0 of parcels\n",
        "Returning primary attribute: parcel_id of buildings\n",
        "    dataframe = buildings, varname=residential_units"
       ]
      },
      {
       "output_type": "stream",
       "stream": "stdout",
       "text": [
        "\n",
        "    radius = 500, aggregation = AGG_SUM, decay = DECAY_LINEAR\n",
        "Computing sum_nonresidential_units"
       ]
      },
      {
       "output_type": "stream",
       "stream": "stdout",
       "text": [
        "\n",
        "    Fields available to accvar = job_spaces, _node_id0\n",
        "Returning primary attribute: non_residential_sqft of buildings\n",
        "Computing: zone_id of buildings as\n",
        "    reindex(parcels.zone_id, buildings.parcel_id)\n",
        "Returning primary attribute: zone_id of parcels\n",
        "Returning primary attribute: parcel_id of buildings\n",
        "Returning primary attribute: building_type_id of buildings"
       ]
      },
      {
       "output_type": "stream",
       "stream": "stdout",
       "text": [
        "\n",
        "Fetching building_sqft_per_job\n",
        "Returning from cache: _node_id0 of buildings"
       ]
      },
      {
       "output_type": "stream",
       "stream": "stdout",
       "text": [
        "\n",
        "    dataframe = buildings, varname=job_spaces\n",
        "    radius = 500, aggregation = AGG_SUM, decay = DECAY_LINEAR\n",
        "Computing ave_unit_sqft"
       ]
      },
      {
       "output_type": "stream",
       "stream": "stdout",
       "text": [
        "\n",
        "    Fields available to accvar = sqft_per_unit, _node_id0\n",
        "Returning primary attribute: sqft_per_unit of buildings\n",
        "Returning from cache: _node_id0 of buildings\n",
        "    dataframe = buildings, varname=sqft_per_unit\n",
        "    radius = 500, aggregation = AGG_AVE, decay = DECAY_FLAT\n",
        "Computing ave_lot_sqft"
       ]
      },
      {
       "output_type": "stream",
       "stream": "stdout",
       "text": [
        "\n",
        "    Fields available to accvar = land_area, _node_id0\n",
        "Returning primary attribute: land_area of buildings\n",
        "Returning from cache: _node_id0 of buildings\n",
        "    dataframe = buildings, varname=land_area\n",
        "    radius = 500, aggregation = AGG_AVE, decay = DECAY_FLAT\n",
        "Computing population"
       ]
      },
      {
       "output_type": "stream",
       "stream": "stdout",
       "text": [
        "\n",
        "    Fields available to accvar = persons, _node_id0\n",
        "Fetching households\n",
        "Returning primary attribute: persons of households"
       ]
      },
      {
       "output_type": "stream",
       "stream": "stdout",
       "text": [
        "\n",
        "Computing: _node_id0 of households as\n",
        "    reindex(buildings._node_id0, households.building_id)\n",
        "Returning from cache: _node_id0 of buildings\n",
        "Returning primary attribute: building_id of households\n",
        "    dataframe = households, varname=persons"
       ]
      },
      {
       "output_type": "stream",
       "stream": "stdout",
       "text": [
        "\n",
        "    radius = 500, aggregation = AGG_SUM, decay = DECAY_LINEAR\n",
        "Computing poor"
       ]
      },
      {
       "output_type": "stream",
       "stream": "stdout",
       "text": [
        "\n",
        "    Fields available to accvar = persons, income, _node_id0\n",
        "Returning primary attribute: persons of households\n",
        "Returning primary attribute: income of households\n",
        "Returning from cache: _node_id0 of households\n",
        "    Filters = ['income < 40000']"
       ]
      },
      {
       "output_type": "stream",
       "stream": "stdout",
       "text": [
        "\n",
        "    dataframe = households, varname=persons\n",
        "    radius = 500, aggregation = AGG_SUM, decay = DECAY_LINEAR\n",
        "Computing sfdu"
       ]
      },
      {
       "output_type": "stream",
       "stream": "stdout",
       "text": [
        "\n",
        "    Fields available to accvar = building_type_id, _node_id0\n",
        "Returning primary attribute: building_type_id of buildings\n",
        "Returning from cache: _node_id0 of buildings\n",
        "    Filters = ['building_type_id == 17']"
       ]
      },
      {
       "output_type": "stream",
       "stream": "stdout",
       "text": [
        "\n",
        "    dataframe = buildings, varname=None\n",
        "    radius = 500, aggregation = AGG_SUM, decay = DECAY_LINEAR\n",
        "Computing hhsize"
       ]
      },
      {
       "output_type": "stream",
       "stream": "stdout",
       "text": [
        "\n",
        "    Fields available to accvar = persons, _node_id0\n",
        "Returning primary attribute: persons of households\n",
        "Returning from cache: _node_id0 of households\n",
        "    dataframe = households, varname=persons\n",
        "    radius = 500, aggregation = AGG_AVE, decay = DECAY_FLAT\n",
        "Computing jobs"
       ]
      },
      {
       "output_type": "stream",
       "stream": "stdout",
       "text": [
        "\n",
        "    Fields available to accvar = _node_id0\n",
        "Fetching jobs\n",
        "Computing: _node_id0 of jobs as"
       ]
      },
      {
       "output_type": "stream",
       "stream": "stdout",
       "text": [
        "\n",
        "    reindex(buildings._node_id0, jobs.building_id)\n",
        "Returning from cache: _node_id0 of buildings\n",
        "Returning primary attribute: building_id of jobs\n",
        "    dataframe = jobs, varname=None"
       ]
      },
      {
       "output_type": "stream",
       "stream": "stdout",
       "text": [
        "\n",
        "    radius = 500, aggregation = AGG_SUM, decay = DECAY_LINEAR\n",
        "Computing ave_income"
       ]
      },
      {
       "output_type": "stream",
       "stream": "stdout",
       "text": [
        "\n",
        "    Fields available to accvar = income, _node_id0\n",
        "Returning primary attribute: income of households\n",
        "Returning from cache: _node_id0 of households\n",
        "    dataframe = households, varname=income\n",
        "    radius = 500, aggregation = AGG_AVE, decay = DECAY_FLAT\n",
        "Done"
       ]
      },
      {
       "output_type": "stream",
       "stream": "stdout",
       "text": [
        "\n"
       ]
      }
     ],
     "prompt_number": 2
    },
    {
     "cell_type": "code",
     "collapsed": false,
     "input": [
      "models.rsh_simulate(dset)\n",
      "models.nrh_simulate(dset)"
     ],
     "language": "python",
     "metadata": {},
     "outputs": [
      {
       "output_type": "stream",
       "stream": "stdout",
       "text": [
        "Computing: crime08 of buildings as\n",
        "    reindex(cities.crime08, buildings.city_id)\n",
        "Computing: city_id of buildings as\n",
        "    reindex(parcels.city_id, buildings.parcel_id)\n",
        "Returning primary attribute: city_id of parcels\n",
        "Returning primary attribute: parcel_id of buildings\n",
        "Computing: popden of buildings as"
       ]
      },
      {
       "output_type": "stream",
       "stream": "stdout",
       "text": [
        "\n",
        "    reindex(zones.popden, buildings.zone_id)\n",
        "Fetching zones\n",
        "Computing: popden of zones as\n",
        "    households.persons.groupby(households.zone_id).sum() / parcels.acres.groupby(parcels.zone_id).sum()\n",
        "Returning primary attribute: persons of households\n",
        "Computing: zone_id of households as\n",
        "    reindex(buildings.zone_id, households.building_id)\n",
        "Returning from cache: zone_id of buildings\n",
        "Returning primary attribute: building_id of households\n",
        "Computing: acres of parcels as"
       ]
      },
      {
       "output_type": "stream",
       "stream": "stdout",
       "text": [
        "\n",
        "    parcels.parcel_sqft / 43560\n",
        "Returning primary attribute: parcel_sqft of parcels\n",
        "Returning primary attribute: zone_id of parcels\n",
        "Returning from cache: zone_id of buildings"
       ]
      },
      {
       "output_type": "stream",
       "stream": "stdout",
       "text": [
        "\n",
        "Computing: sqft_price_res of buildings as"
       ]
      },
      {
       "output_type": "stream",
       "stream": "stdout",
       "text": [
        "\n",
        "    buildings.improvement_value / (buildings.sqft_per_unit * buildings.residential_units)\n",
        "Returning primary attribute: improvement_value of buildings\n",
        "Returning primary attribute: sqft_per_unit of buildings\n",
        "Returning primary attribute: residential_units of buildings\n",
        "Returning primary attribute: sqft_per_unit of buildings"
       ]
      },
      {
       "output_type": "stream",
       "stream": "stdout",
       "text": [
        "\n",
        "Computing: sqft_price_nonres of buildings as\n",
        "    buildings.improvement_value / buildings.non_residential_sqft\n",
        "Returning primary attribute: improvement_value of buildings\n",
        "Returning primary attribute: non_residential_sqft of buildings\n",
        "Computing: building_sqft of buildings as\n",
        "    buildings.non_residential_sqft + buildings.sqft_per_unit*buildings.residential_units\n",
        "Returning primary attribute: non_residential_sqft of buildings\n",
        "Returning primary attribute: sqft_per_unit of buildings\n",
        "Returning primary attribute: residential_units of buildings\n",
        "Returning primary attribute: non_residential_sqft of buildings"
       ]
      },
      {
       "output_type": "stream",
       "stream": "stdout",
       "text": [
        "\n",
        "Returning from cache: zone_id of buildings\n",
        "Returning primary attribute: building_type_id of buildings\n",
        "Computing: jobs_within_30_min of buildings as"
       ]
      },
      {
       "output_type": "stream",
       "stream": "stdout",
       "text": [
        "\n",
        "    reindex(zones.jobs_within_30_min, buildings.zone_id)\n",
        "Fetching travel_data\n",
        "Returning from cache: zone_id of buildings"
       ]
      },
      {
       "output_type": "stream",
       "stream": "stdout",
       "text": [
        "\n",
        "Returning primary attribute: non_residential_sqft of buildings"
       ]
      },
      {
       "output_type": "stream",
       "stream": "stdout",
       "text": [
        "\n",
        "Returning primary attribute: residential_units of buildings\n",
        "Returning primary attribute: year_built of buildings\n",
        "Returning primary attribute: stories of buildings\n",
        "Returning primary attribute: tax_exempt of buildings\n",
        "Returning primary attribute: building_type_id of buildings\n",
        "Computing: dist_hwy of buildings as\n",
        "    reindex(parcels.dist_hwy, buildings.parcel_id)\n",
        "Returning primary attribute: dist_hwy of parcels\n",
        "Returning primary attribute: parcel_id of buildings\n",
        "Computing: dist_road of buildings as"
       ]
      },
      {
       "output_type": "stream",
       "stream": "stdout",
       "text": [
        "\n",
        "    reindex(parcels.dist_road, buildings.parcel_id)\n",
        "Returning primary attribute: dist_road of parcels\n",
        "Returning primary attribute: parcel_id of buildings\n",
        "Computing: x of buildings as"
       ]
      },
      {
       "output_type": "stream",
       "stream": "stdout",
       "text": [
        "\n",
        "    reindex(parcels.x, buildings.parcel_id)\n",
        "Computing: x of parcels as\n",
        "    parcels.centroid_x\n",
        "Returning primary attribute: centroid_x of parcels\n",
        "Returning primary attribute: parcel_id of buildings\n",
        "Computing: y of buildings as"
       ]
      },
      {
       "output_type": "stream",
       "stream": "stdout",
       "text": [
        "\n",
        "    reindex(parcels.y, buildings.parcel_id)\n",
        "Computing: y of parcels as\n",
        "    parcels.centroid_y\n",
        "Returning primary attribute: centroid_y of parcels\n",
        "Returning primary attribute: parcel_id of buildings\n",
        "Returning primary attribute: land_area of buildings"
       ]
      },
      {
       "output_type": "stream",
       "stream": "stdout",
       "text": [
        "\n",
        "Returning from cache: zone_id of buildings\n",
        "Computing: large_area_id of buildings as\n",
        "    reindex(parcels.large_area_id, buildings.parcel_id)\n",
        "Returning primary attribute: large_area_id of parcels\n",
        "Returning primary attribute: parcel_id of buildings\n",
        "Returning primary attribute: parcel_id of buildings"
       ]
      },
      {
       "output_type": "stream",
       "stream": "stdout",
       "text": [
        "\n",
        "Computing: _node_id of buildings as\n",
        "    reindex(parcels._node_id, buildings.parcel_id)\n",
        "Returning primary attribute: _node_id of parcels\n",
        "Returning primary attribute: parcel_id of buildings\n",
        "Returning primary attribute: building_type_id of buildings"
       ]
      },
      {
       "output_type": "stream",
       "stream": "stdout",
       "text": [
        "\n",
        "Returning primary attribute: non_residential_sqft of buildings"
       ]
      },
      {
       "output_type": "stream",
       "stream": "stdout",
       "text": [
        "\n",
        "Returning from cache: zone_id of buildings\n",
        "Returning primary attribute: building_type_id of buildings\n",
        "Running hedonic simulation\n"
       ]
      },
      {
       "output_type": "stream",
       "stream": "stdout",
       "text": [
        "\n",
        "count    1817653.000000\n",
        "mean          39.320915\n",
        "std           73.534054\n",
        "min            0.000380\n",
        "25%           31.615287\n",
        "50%           37.999878\n",
        "75%           43.493130\n",
        "max         8606.678256\n",
        "dtype: float64"
       ]
      },
      {
       "output_type": "stream",
       "stream": "stdout",
       "text": [
        "\n",
        "Returning from cache: crime08 of buildings"
       ]
      },
      {
       "output_type": "stream",
       "stream": "stdout",
       "text": [
        "\n",
        "Returning from cache: popden of buildings\n",
        "Returning from cache: sqft_price_res of buildings\n",
        "Returning primary attribute: sqft_per_unit of buildings\n",
        "Returning from cache: sqft_price_nonres of buildings\n",
        "Returning from cache: building_sqft of buildings\n",
        "Returning primary attribute: non_residential_sqft of buildings\n",
        "Returning from cache: zone_id of buildings\n",
        "Returning primary attribute: building_type_id of buildings\n",
        "Returning from cache: jobs_within_30_min of buildings"
       ]
      },
      {
       "output_type": "stream",
       "stream": "stdout",
       "text": [
        "\n",
        "Returning primary attribute: non_residential_sqft of buildings\n",
        "Returning primary attribute: residential_units of buildings\n",
        "Returning primary attribute: year_built of buildings\n",
        "Returning primary attribute: stories of buildings\n",
        "Returning primary attribute: tax_exempt of buildings\n",
        "Returning primary attribute: building_type_id of buildings\n",
        "Returning from cache: dist_hwy of buildings\n",
        "Returning from cache: dist_road of buildings\n",
        "Returning from cache: x of buildings\n",
        "Returning from cache: y of buildings\n",
        "Returning primary attribute: land_area of buildings\n",
        "Returning from cache: zone_id of buildings\n",
        "Returning from cache: large_area_id of buildings\n",
        "Returning primary attribute: parcel_id of buildings\n",
        "Returning from cache: _node_id of buildings\n",
        "Returning primary attribute: building_type_id of buildings\n",
        "Returning primary attribute: non_residential_sqft of buildings"
       ]
      },
      {
       "output_type": "stream",
       "stream": "stdout",
       "text": [
        "\n",
        "Returning from cache: zone_id of buildings\n",
        "Returning primary attribute: building_type_id of buildings\n",
        "Running hedonic simulation\n"
       ]
      },
      {
       "output_type": "stream",
       "stream": "stdout",
       "text": [
        "\n",
        "count    1.178630e+05\n",
        "mean     2.258787e+01\n",
        "std      9.503133e+01\n",
        "min      8.605969e-10\n",
        "25%      1.067701e+01\n",
        "50%      1.863954e+01\n",
        "75%      2.758494e+01\n",
        "max      7.611515e+03\n",
        "dtype: float64"
       ]
      },
      {
       "output_type": "stream",
       "stream": "stdout",
       "text": [
        "\n"
       ]
      }
     ],
     "prompt_number": 3
    },
    {
     "cell_type": "code",
     "collapsed": false,
     "input": [
      "models.price_vars(dset)"
     ],
     "language": "python",
     "metadata": {},
     "outputs": [
      {
       "output_type": "stream",
       "stream": "stdout",
       "text": [
        "Computing accessibility variables\n",
        "Computing residential\n",
        "    Fields available to accvar = sqft_price_res, _node_id0\n",
        "Returning from cache: sqft_price_res of buildings\n",
        "Returning from cache: _node_id0 of buildings\n",
        "    dataframe = buildings, varname=sqft_price_res\n",
        "    radius = 2000, aggregation = AGG_AVE, decay = DECAY_FLAT\n",
        "Computing retail"
       ]
      },
      {
       "output_type": "stream",
       "stream": "stdout",
       "text": [
        "\n",
        "    Fields available to accvar = sqft_price_nonres, general_type, _node_id0\n",
        "Returning from cache: sqft_price_nonres of buildings\n",
        "Returning primary attribute: building_type_id of buildings\n",
        "Returning from cache: _node_id0 of buildings"
       ]
      },
      {
       "output_type": "stream",
       "stream": "stdout",
       "text": [
        "\n",
        "    Filters = ['general_type == \"Retail\"']"
       ]
      },
      {
       "output_type": "stream",
       "stream": "stdout",
       "text": [
        "\n",
        "    dataframe = buildings, varname=sqft_price_nonres\n",
        "    radius = 2000, aggregation = AGG_AVE, decay = DECAY_FLAT\n",
        "Computing office"
       ]
      },
      {
       "output_type": "stream",
       "stream": "stdout",
       "text": [
        "\n",
        "    Fields available to accvar = sqft_price_nonres, general_type, _node_id0\n",
        "Returning from cache: sqft_price_nonres of buildings\n",
        "Returning primary attribute: building_type_id of buildings\n",
        "Returning from cache: _node_id0 of buildings"
       ]
      },
      {
       "output_type": "stream",
       "stream": "stdout",
       "text": [
        "\n",
        "    Filters = ['general_type == \"Office\"']"
       ]
      },
      {
       "output_type": "stream",
       "stream": "stdout",
       "text": [
        "\n",
        "    dataframe = buildings, varname=sqft_price_nonres\n",
        "    radius = 2000, aggregation = AGG_AVE, decay = DECAY_FLAT\n",
        "Computing industrial"
       ]
      },
      {
       "output_type": "stream",
       "stream": "stdout",
       "text": [
        "\n",
        "    Fields available to accvar = sqft_price_nonres, general_type, _node_id0\n",
        "Returning from cache: sqft_price_nonres of buildings\n",
        "Returning primary attribute: building_type_id of buildings\n",
        "Returning from cache: _node_id0 of buildings"
       ]
      },
      {
       "output_type": "stream",
       "stream": "stdout",
       "text": [
        "\n",
        "    Filters = ['general_type == \"Industrial\"']"
       ]
      },
      {
       "output_type": "stream",
       "stream": "stdout",
       "text": [
        "\n",
        "    dataframe = buildings, varname=sqft_price_nonres\n",
        "    radius = 2000, aggregation = AGG_AVE, decay = DECAY_FLAT\n",
        "Done"
       ]
      },
      {
       "output_type": "stream",
       "stream": "stdout",
       "text": [
        "\n"
       ]
      }
     ],
     "prompt_number": 4
    },
    {
     "cell_type": "code",
     "collapsed": false,
     "input": [
      "print dset.nodes_prices.describe()"
     ],
     "language": "python",
     "metadata": {},
     "outputs": [
      {
       "output_type": "stream",
       "stream": "stdout",
       "text": [
        "         residential         retail         office     industrial\n",
        "count  209150.000000  209150.000000  209150.000000  209150.000000\n",
        "mean       40.934424      29.777582      27.731162     132.183571\n",
        "std       172.320450      49.455870      41.375430    5319.088422\n",
        "min         0.000000       0.000000       0.000000       0.000000\n",
        "25%        17.750288       0.000000       0.000000       0.000000\n",
        "50%        27.491090      27.456444      25.647711       3.383899\n",
        "75%        35.484813      41.829052      40.492748      15.412354\n",
        "max     11042.603516    3686.666748    1911.792480  316790.000000\n",
        "\n",
        "[8 rows x 4 columns]\n"
       ]
      }
     ],
     "prompt_number": 5
    },
    {
     "cell_type": "code",
     "collapsed": false,
     "input": [
      "#models.feasibility(dset)"
     ],
     "language": "python",
     "metadata": {},
     "outputs": [],
     "prompt_number": 6
    },
    {
     "cell_type": "code",
     "collapsed": false,
     "input": [
      "from urbansim.developer import sqftproforma\n",
      "pf = sqftproforma.SqFtProForma()\n",
      "for form in pf.config.forms:\n",
      "    print form"
     ],
     "language": "python",
     "metadata": {},
     "outputs": [
      {
       "output_type": "stream",
       "stream": "stdout",
       "text": [
        "mixedoffice\n",
        "industrial\n",
        "office\n",
        "residential\n",
        "mixedresidential\n",
        "retail\n"
       ]
      }
     ],
     "prompt_number": 7
    },
    {
     "cell_type": "code",
     "collapsed": false,
     "input": [
      "#dset.feasibility.to_pickle('feasibility.pkl')"
     ],
     "language": "python",
     "metadata": {},
     "outputs": [],
     "prompt_number": 8
    },
    {
     "cell_type": "code",
     "collapsed": false,
     "input": [
      "import pandas as pd\n",
      "df = pd.read_pickle('feasibility.pkl')"
     ],
     "language": "python",
     "metadata": {},
     "outputs": [],
     "prompt_number": 9
    },
    {
     "cell_type": "code",
     "collapsed": false,
     "input": [
      "dset.save_tmptbl(\"feasibility\", df)"
     ],
     "language": "python",
     "metadata": {},
     "outputs": [],
     "prompt_number": 10
    },
    {
     "cell_type": "code",
     "collapsed": false,
     "input": [
      "print dset.buildings.residential_units.sum()\n",
      "print dset.buildings.non_residential_sqft.sum()"
     ],
     "language": "python",
     "metadata": {},
     "outputs": [
      {
       "output_type": "stream",
       "stream": "stdout",
       "text": [
        "2224980\n",
        "-1630772381\n"
       ]
      }
     ],
     "prompt_number": 11
    },
    {
     "cell_type": "code",
     "collapsed": false,
     "input": [
      "models.residential_developer(dset)\n",
      "models.non_residential_developer(dset)"
     ],
     "language": "python",
     "metadata": {},
     "outputs": [
      {
       "output_type": "stream",
       "stream": "stdout",
       "text": [
        "Number of agents: 1844780\n",
        "Number of agent spaces: 2224980\n",
        "Current vacancy = 0.17\n",
        "Target vacancy = 0.20, target of new units = 80995\n",
        "Computing: parcel_size of parcels as\n",
        "    parcels.parcel_sqft\n",
        "Returning primary attribute: parcel_sqft of parcels\n",
        "Computing: ave_unit_sqft of parcels as\n",
        "    reindex(nodes.ave_unit_sqft, parcels._node_id)\n",
        "Returning primary attribute: ave_unit_sqft of nodes\n",
        "Returning primary attribute: _node_id of parcels\n",
        "Computing: total_units of parcels as"
       ]
      },
      {
       "output_type": "stream",
       "stream": "stdout",
       "text": [
        "\n",
        "    buildings.groupby(buildings.parcel_id).residential_units.sum().fillna(0)\n",
        "Returning primary attribute: groupby of buildings\n",
        "Returning primary attribute: parcel_id of buildings\n",
        "Sum of net units that are profitable"
       ]
      },
      {
       "output_type": "stream",
       "stream": "stdout",
       "text": [
        " 1001015.0\n",
        "Adding 272 buildings with 81,313.0 residential units\n",
        "Returning primary attribute: non_residential_sqft of buildings"
       ]
      },
      {
       "output_type": "stream",
       "stream": "stdout",
       "text": [
        "\n",
        "Returning from cache: zone_id of buildings\n",
        "Returning primary attribute: building_type_id of buildings\n",
        "Number of agents: 1802698"
       ]
      },
      {
       "output_type": "stream",
       "stream": "stdout",
       "text": [
        "\n",
        "Number of agent spaces: 4286534\n",
        "Current vacancy = 0.58\n",
        "Target vacancy = 0.60, target of new units = 220211\n",
        "Returning from cache: parcel_size of parcels\n",
        "Returning primary attribute: index of parcels\n",
        "Computing: total_nonres_units of parcels as\n",
        "    buildings.non_residential_units.groupby(buildings.parcel_id).sum().fillna(0)\n",
        "Returning primary attribute: non_residential_sqft of buildings\n",
        "Returning from cache: zone_id of buildings\n",
        "Returning primary attribute: building_type_id of buildings\n",
        "Returning primary attribute: parcel_id of buildings"
       ]
      },
      {
       "output_type": "stream",
       "stream": "stdout",
       "text": [
        "\n",
        "Sum of net units that are profitable"
       ]
      },
      {
       "output_type": "stream",
       "stream": "stdout",
       "text": [
        " 1132793.0\n",
        "Adding 2445 buildings with 112,170,039.95 non-residential sqft"
       ]
      },
      {
       "output_type": "stream",
       "stream": "stdout",
       "text": [
        "\n"
       ]
      }
     ],
     "prompt_number": 12
    },
    {
     "cell_type": "code",
     "collapsed": false,
     "input": [
      "print dset.buildings.residential_units.sum()\n",
      "print dset.buildings.non_residential_sqft.sum()"
     ],
     "language": "python",
     "metadata": {},
     "outputs": [
      {
       "output_type": "stream",
       "stream": "stdout",
       "text": [
        "2306293.0\n",
        "2776364954.95\n"
       ]
      }
     ],
     "prompt_number": 13
    }
   ],
   "metadata": {}
  }
 ]
}