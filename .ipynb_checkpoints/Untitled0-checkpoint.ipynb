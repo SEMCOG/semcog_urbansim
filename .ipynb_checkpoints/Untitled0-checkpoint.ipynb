{
 "metadata": {
  "name": "",
  "signature": "sha256:bd7f9ef53939b4fe7b1a14fe30f93a683a349a0db5a8682c669b21fab5ebce22"
 },
 "nbformat": 3,
 "nbformat_minor": 0,
 "worksheets": []
}