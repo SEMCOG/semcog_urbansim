{
 "metadata": {
  "name": "",
  "signature": "sha256:e344546ef9045fffaafa8fae1b457697b8fb184e17a31d6bfcdd4ef82af81977"
 },
 "nbformat": 3,
 "nbformat_minor": 0,
 "worksheets": [
  {
   "cells": [
    {
     "cell_type": "code",
     "collapsed": true,
     "input": [
      "%load_ext autoreload\n",
      "%autoreload 2\n",
      "%aimport models\n",
      "%aimport dataset"
     ],
     "language": "python",
     "metadata": {},
     "outputs": [],
     "prompt_number": 1
    },
    {
     "cell_type": "code",
     "collapsed": false,
     "input": [
      "from urbansim.utils import misc\n",
      "runnum = misc.get_run_number()"
     ],
     "language": "python",
     "metadata": {},
     "outputs": [],
     "prompt_number": 2
    },
    {
     "cell_type": "code",
     "collapsed": false,
     "input": [
      "# import logging\n",
      "# from urbansim.utils import logutil\n",
      "# logutil.set_log_level(logging.DEBUG)\n",
      "# logutil.log_to_file('./runs/log%s.log'%runnum)"
     ],
     "language": "python",
     "metadata": {},
     "outputs": [],
     "prompt_number": 3
    },
    {
     "cell_type": "code",
     "collapsed": false,
     "input": [
      "dset = dataset.SemcogDataset(\"data/semcog_data.h5\")\n",
      "models.build_networks(dset)"
     ],
     "language": "python",
     "metadata": {},
     "outputs": [
      {
       "output_type": "stream",
       "stream": "stdout",
       "text": [
        "Fetching cities\n",
        "Fetching parcels"
       ]
      },
      {
       "output_type": "stream",
       "stream": "stdout",
       "text": [
        "\n"
       ]
      }
     ],
     "prompt_number": 4
    },
    {
     "cell_type": "code",
     "collapsed": true,
     "input": [
      "YEARS = range(2012, 2014)\n",
      "MODEL_LIST = [\n",
      "    \"clear_cache\",            # recompute variables every year\n",
      "    \"neighborhood_vars\",      # neighborhood variables\n",
      "    \"households_transition\",  # households transition\n",
      "    \"households_relocation\",  # households relocation model\n",
      "    \"jobs_transition\",        # jobs transition\n",
      "    \"jobs_relocation\",        # jobs relocation model\n",
      "    \"scheduled_development_events\",\n",
      "#     \"cache_variables\",        # this is the variable computation time\n",
      "    \"nrh_simulate\",           # non-residential rent hedonic\n",
      "    \"rsh_simulate\",           # residential sales hedonic\n",
      "    \"hlcm_simulate\",          # households location choice\n",
      "    \"elcm_simulate\",          # employment location choice\n",
      "    \"price_vars\",             # compute average price measures\n",
      "    \"feasibility\",            # compute development feasibility\n",
      "    \"residential_developer\",   # build actual buildings\n",
      "    \"non_residential_developer\",   # build actual buildings\n",
      "    \"government_jobs_scaling_model\",\n",
      "    \"refiner\",\n",
      "    \"aging_model\",\n",
      "    \"income_inflation_model\",\n",
      "    \"travel_model\",\n",
      "]\n",
      "#dset.debug = True\n",
      "models._run_models(dset, MODEL_LIST, YEARS)"
     ],
     "language": "python",
     "metadata": {},
     "outputs": [
      {
       "output_type": "stream",
       "stream": "stdout",
       "text": [
        "\n",
        "clear_cache\n",
        "\n",
        "Model clear_cache executed in 0.001s\n",
        "\n",
        "neighborhood_vars\n",
        "\n",
        "Computing accessibility variables\n",
        "Computing sum_residential_units\n",
        "    Fields available to accvar = residential_units, _node_id0\n",
        "Fetching buildings\n",
        "    dataframe = buildings, varname=residential_units"
       ]
      },
      {
       "output_type": "stream",
       "stream": "stdout",
       "text": [
        "\n",
        "    radius = 500, aggregation = AGG_SUM, decay = DECAY_LINEAR\n",
        "Computing sum_nonresidential_units"
       ]
      },
      {
       "output_type": "stream",
       "stream": "stdout",
       "text": [
        "\n",
        "    Fields available to accvar = job_spaces, _node_id0\n",
        "Fetching building_sqft_per_job"
       ]
      },
      {
       "output_type": "stream",
       "stream": "stdout",
       "text": [
        "\n",
        "    dataframe = buildings, varname=job_spaces"
       ]
      },
      {
       "output_type": "stream",
       "stream": "stdout",
       "text": [
        "\n",
        "    radius = 500, aggregation = AGG_SUM, decay = DECAY_LINEAR\n",
        "Computing ave_unit_sqft"
       ]
      },
      {
       "output_type": "stream",
       "stream": "stdout",
       "text": [
        "\n",
        "    Fields available to accvar = sqft_per_unit, _node_id0\n",
        "    dataframe = buildings, varname=sqft_per_unit\n",
        "    radius = 500, aggregation = AGG_AVE, decay = DECAY_FLAT\n",
        "Computing ave_lot_sqft"
       ]
      },
      {
       "output_type": "stream",
       "stream": "stdout",
       "text": [
        "\n",
        "    Fields available to accvar = land_area, _node_id0\n",
        "    dataframe = buildings, varname=land_area\n",
        "    radius = 500, aggregation = AGG_AVE, decay = DECAY_FLAT\n",
        "Computing population"
       ]
      },
      {
       "output_type": "stream",
       "stream": "stdout",
       "text": [
        "\n",
        "    Fields available to accvar = persons, _node_id0\n",
        "Fetching households\n",
        "    dataframe = households, varname=persons"
       ]
      },
      {
       "output_type": "stream",
       "stream": "stdout",
       "text": [
        "\n",
        "    radius = 500, aggregation = AGG_SUM, decay = DECAY_LINEAR\n",
        "Computing poor"
       ]
      },
      {
       "output_type": "stream",
       "stream": "stdout",
       "text": [
        "\n",
        "    Fields available to accvar = persons, income, _node_id0\n",
        "    Filters = ['income < 40000']"
       ]
      },
      {
       "output_type": "stream",
       "stream": "stdout",
       "text": [
        "\n",
        "    dataframe = households, varname=persons\n",
        "    radius = 500, aggregation = AGG_SUM, decay = DECAY_LINEAR\n",
        "Computing sfdu"
       ]
      },
      {
       "output_type": "stream",
       "stream": "stdout",
       "text": [
        "\n",
        "    Fields available to accvar = building_type_id, _node_id0\n",
        "    Filters = ['building_type_id == 17']"
       ]
      },
      {
       "output_type": "stream",
       "stream": "stdout",
       "text": [
        "\n",
        "    dataframe = buildings, varname=None\n",
        "    radius = 500, aggregation = AGG_SUM, decay = DECAY_LINEAR\n",
        "Computing hhsize"
       ]
      },
      {
       "output_type": "stream",
       "stream": "stdout",
       "text": [
        "\n",
        "    Fields available to accvar = persons, _node_id0\n",
        "    dataframe = households, varname=persons\n",
        "    radius = 500, aggregation = AGG_AVE, decay = DECAY_FLAT\n",
        "Computing jobs"
       ]
      },
      {
       "output_type": "stream",
       "stream": "stdout",
       "text": [
        "\n",
        "    Fields available to accvar = _node_id0\n",
        "Fetching jobs\n",
        "    dataframe = jobs, varname=None"
       ]
      },
      {
       "output_type": "stream",
       "stream": "stdout",
       "text": [
        "\n",
        "    radius = 500, aggregation = AGG_SUM, decay = DECAY_LINEAR\n",
        "Computing ave_income"
       ]
      },
      {
       "output_type": "stream",
       "stream": "stdout",
       "text": [
        "\n",
        "    Fields available to accvar = income, _node_id0\n",
        "    dataframe = households, varname=income\n",
        "    radius = 500, aggregation = AGG_AVE, decay = DECAY_FLAT\n",
        "Done"
       ]
      },
      {
       "output_type": "stream",
       "stream": "stdout",
       "text": [
        "\n",
        "Model neighborhood_vars executed in 25.745s\n",
        "\n",
        "households_transition\n",
        "\n",
        "Fetching annual_household_control_totals\n",
        "Fetching persons"
       ]
      },
      {
       "output_type": "stream",
       "stream": "stdout",
       "text": [
        "\n",
        "Model households_transition executed in 221.934s"
       ]
      },
      {
       "output_type": "stream",
       "stream": "stdout",
       "text": [
        "\n",
        "\n",
        "households_relocation\n",
        "\n",
        "Fetching annual_relocation_rates_for_households\n",
        "Total currently unplaced: 107260"
       ]
      },
      {
       "output_type": "stream",
       "stream": "stdout",
       "text": [
        "\n",
        "Model households_relocation executed in 1.629s\n",
        "\n",
        "jobs_transition\n",
        "\n",
        "Fetching annual_employment_control_totals\n",
        "Model jobs_transition executed in 5.366s"
       ]
      },
      {
       "output_type": "stream",
       "stream": "stdout",
       "text": [
        "\n",
        "\n",
        "jobs_relocation\n",
        "\n",
        "Fetching annual_relocation_rates_for_jobs\n",
        "Total currently unplaced: 49041"
       ]
      },
      {
       "output_type": "stream",
       "stream": "stdout",
       "text": [
        "\n",
        "Model jobs_relocation executed in 0.603s\n",
        "\n",
        "scheduled_development_events\n",
        "\n",
        "Model scheduled_development_events executed in 0.245s"
       ]
      },
      {
       "output_type": "stream",
       "stream": "stdout",
       "text": [
        "\n",
        "\n",
        "nrh_simulate\n",
        "\n",
        "Fetching zones"
       ]
      },
      {
       "output_type": "stream",
       "stream": "stdout",
       "text": [
        "\n",
        "Fetching travel_data"
       ]
      },
      {
       "output_type": "stream",
       "stream": "stdout",
       "text": [
        "\n",
        "Running hedonic simulation\n"
       ]
      },
      {
       "output_type": "stream",
       "stream": "stdout",
       "text": [
        "\n",
        "count    1.178630e+05\n",
        "mean     2.257257e+01\n",
        "std      9.567517e+01\n",
        "min      8.525002e-10\n",
        "25%      1.066758e+01\n",
        "50%      1.861701e+01\n",
        "75%      2.750698e+01\n",
        "max      7.617161e+03\n",
        "dtype: float64"
       ]
      },
      {
       "output_type": "stream",
       "stream": "stdout",
       "text": [
        "\n",
        "Model nrh_simulate executed in 785.582s"
       ]
      },
      {
       "output_type": "stream",
       "stream": "stdout",
       "text": [
        "\n",
        "\n",
        "rsh_simulate\n",
        "\n",
        "Running hedonic simulation\n"
       ]
      },
      {
       "output_type": "stream",
       "stream": "stdout",
       "text": [
        "\n",
        "count    1817653.000000\n",
        "mean          34.553667\n",
        "std           63.555988\n",
        "min            0.000291\n",
        "25%           28.758661\n",
        "50%           33.359583\n",
        "75%           37.545115\n",
        "max         6586.315044\n",
        "dtype: float64"
       ]
      },
      {
       "output_type": "stream",
       "stream": "stdout",
       "text": [
        "\n",
        "Model rsh_simulate executed in 7.136s"
       ]
      },
      {
       "output_type": "stream",
       "stream": "stdout",
       "text": [
        "\n",
        "\n",
        "hlcm_simulate\n",
        "\n",
        "There are 2224980 total available units"
       ]
      },
      {
       "output_type": "stream",
       "stream": "stdout",
       "text": [
        "\n",
        "    and 1943572 total choosers\n",
        "    but there are 21998 overfull buildings"
       ]
      },
      {
       "output_type": "stream",
       "stream": "stdout",
       "text": [
        "\n",
        "    for a total of 508795 empty units"
       ]
      },
      {
       "output_type": "stream",
       "stream": "stdout",
       "text": [
        "\n",
        "    in 366194 buildings total in the region\n",
        "Running location choice model simulation\n"
       ]
      },
      {
       "output_type": "stream",
       "stream": "stdout",
       "text": [
        "\n",
        "Assigned 107260 choosers to new units"
       ]
      },
      {
       "output_type": "stream",
       "stream": "stdout",
       "text": [
        "\n",
        "Total currently unplaced: 0"
       ]
      },
      {
       "output_type": "stream",
       "stream": "stdout",
       "text": [
        "\n",
        "Model hlcm_simulate executed in 2172.094s"
       ]
      },
      {
       "output_type": "stream",
       "stream": "stdout",
       "text": [
        "\n",
        "\n",
        "elcm_simulate\n",
        "\n",
        "There are 640617 total available units"
       ]
      },
      {
       "output_type": "stream",
       "stream": "stdout",
       "text": [
        "\n",
        "    and 402865 total choosers\n",
        "    but there are 7369 overfull buildings\n",
        "    for a total of 421871 empty units"
       ]
      },
      {
       "output_type": "stream",
       "stream": "stdout",
       "text": [
        "\n",
        "    in 20438 buildings total in the region\n",
        "There are 1729370 total available units"
       ]
      },
      {
       "output_type": "stream",
       "stream": "stdout",
       "text": [
        "\n",
        "    and 236882 total choosers\n",
        "    but there are 3585 overfull buildings\n",
        "    for a total of 1596376 empty units"
       ]
      },
      {
       "output_type": "stream",
       "stream": "stdout",
       "text": [
        "\n",
        "    in 25915 buildings total in the region\n",
        "There are 92703 total available units"
       ]
      },
      {
       "output_type": "stream",
       "stream": "stdout",
       "text": [
        "\n",
        "    and 43359 total choosers\n",
        "    but there are 1427 overfull buildings\n",
        "    for a total of 66962 empty units"
       ]
      },
      {
       "output_type": "stream",
       "stream": "stdout",
       "text": [
        "\n",
        "    in 15319 buildings total in the region\n",
        "There are 501557 total available units"
       ]
      },
      {
       "output_type": "stream",
       "stream": "stdout",
       "text": [
        "\n",
        "    and 274053 total choosers\n",
        "    but there are 5907 overfull buildings\n",
        "    for a total of 363301 empty units"
       ]
      },
      {
       "output_type": "stream",
       "stream": "stdout",
       "text": [
        "\n",
        "    in 24190 buildings total in the region\n",
        "There are 68466 total available units"
       ]
      },
      {
       "output_type": "stream",
       "stream": "stdout",
       "text": [
        "\n",
        "    and 37131 total choosers\n",
        "    but there are 1103 overfull buildings\n",
        "    for a total of 49895 empty units\n",
        "    in 6800 buildings total in the region\n",
        "There are 887439 total available units"
       ]
      },
      {
       "output_type": "stream",
       "stream": "stdout",
       "text": [
        "\n",
        "    and 611697 total choosers\n",
        "    but there are 12291 overfull buildings\n",
        "    for a total of 571824 empty units"
       ]
      },
      {
       "output_type": "stream",
       "stream": "stdout",
       "text": [
        "\n",
        "    in 32788 buildings total in the region\n",
        "There are 104269 total available units"
       ]
      },
      {
       "output_type": "stream",
       "stream": "stdout",
       "text": [
        "\n",
        "    and 42018 total choosers\n",
        "    but there are 1140 overfull buildings\n",
        "    for a total of 77987 empty units"
       ]
      },
      {
       "output_type": "stream",
       "stream": "stdout",
       "text": [
        "\n",
        "    in 17591 buildings total in the region\n",
        "There are 262113 total available units"
       ]
      },
      {
       "output_type": "stream",
       "stream": "stdout",
       "text": [
        "\n",
        "    and 180362 total choosers\n",
        "    but there are 3383 overfull buildings\n",
        "    for a total of 196626 empty units"
       ]
      },
      {
       "output_type": "stream",
       "stream": "stdout",
       "text": [
        "\n",
        "    in 19202 buildings total in the region\n",
        "ELCM for large area 3\n",
        "Running location choice model simulation\n",
        "\n",
        "Assigned 7825 choosers to new units"
       ]
      },
      {
       "output_type": "stream",
       "stream": "stdout",
       "text": [
        "\n",
        "Total currently unplaced: 41216"
       ]
      },
      {
       "output_type": "stream",
       "stream": "stdout",
       "text": [
        "\n",
        "ELCM for large area 5"
       ]
      },
      {
       "output_type": "stream",
       "stream": "stdout",
       "text": [
        "\n",
        "Running location choice model simulation\n",
        "\n",
        "Assigned 5616 choosers to new units"
       ]
      },
      {
       "output_type": "stream",
       "stream": "stdout",
       "text": [
        "\n",
        "Total currently unplaced: 35600"
       ]
      },
      {
       "output_type": "stream",
       "stream": "stdout",
       "text": [
        "\n",
        "ELCM for large area 93"
       ]
      },
      {
       "output_type": "stream",
       "stream": "stdout",
       "text": [
        "\n",
        "Running location choice model simulation\n",
        "\n",
        "Assigned 1287 choosers to new units"
       ]
      },
      {
       "output_type": "stream",
       "stream": "stdout",
       "text": [
        "\n",
        "Total currently unplaced: 34313"
       ]
      },
      {
       "output_type": "stream",
       "stream": "stdout",
       "text": [
        "\n",
        "ELCM for large area 99"
       ]
      },
      {
       "output_type": "stream",
       "stream": "stdout",
       "text": [
        "\n",
        "Running location choice model simulation\n",
        "\n",
        "Assigned 6614 choosers to new units"
       ]
      },
      {
       "output_type": "stream",
       "stream": "stdout",
       "text": [
        "\n",
        "Total currently unplaced: 27699"
       ]
      },
      {
       "output_type": "stream",
       "stream": "stdout",
       "text": [
        "\n",
        "ELCM for large area 115"
       ]
      },
      {
       "output_type": "stream",
       "stream": "stdout",
       "text": [
        "\n",
        "Running location choice model simulation\n",
        "\n",
        "Assigned 850 choosers to new units"
       ]
      },
      {
       "output_type": "stream",
       "stream": "stdout",
       "text": [
        "\n",
        "Total currently unplaced: 26849"
       ]
      },
      {
       "output_type": "stream",
       "stream": "stdout",
       "text": [
        "\n",
        "ELCM for large area 125\n",
        "Running location choice model simulation\n",
        "\n",
        "Assigned 22461 choosers to new units"
       ]
      },
      {
       "output_type": "stream",
       "stream": "stdout",
       "text": [
        "\n",
        "Total currently unplaced: 4388"
       ]
      },
      {
       "output_type": "stream",
       "stream": "stdout",
       "text": [
        "\n",
        "ELCM for large area 147"
       ]
      },
      {
       "output_type": "stream",
       "stream": "stdout",
       "text": [
        "\n",
        "Running location choice model simulation\n",
        "\n",
        "Assigned 1280 choosers to new units"
       ]
      },
      {
       "output_type": "stream",
       "stream": "stdout",
       "text": [
        "\n",
        "Total currently unplaced: 3108"
       ]
      },
      {
       "output_type": "stream",
       "stream": "stdout",
       "text": [
        "\n",
        "ELCM for large area 161"
       ]
      },
      {
       "output_type": "stream",
       "stream": "stdout",
       "text": [
        "\n",
        "Running location choice model simulation\n",
        "\n",
        "Assigned 3108 choosers to new units"
       ]
      },
      {
       "output_type": "stream",
       "stream": "stdout",
       "text": [
        "\n",
        "Total currently unplaced: 0"
       ]
      },
      {
       "output_type": "stream",
       "stream": "stdout",
       "text": [
        "\n",
        "Model elcm_simulate executed in 438.335s"
       ]
      },
      {
       "output_type": "stream",
       "stream": "stdout",
       "text": [
        "\n",
        "\n",
        "price_vars\n",
        "\n",
        "Computing accessibility variables\n",
        "Computing residential\n",
        "    Fields available to accvar = sqft_price_res, _node_id0\n",
        "    dataframe = buildings, varname=sqft_price_res\n",
        "    radius = 2000, aggregation = AGG_AVE, decay = DECAY_FLAT\n",
        "Computing retail"
       ]
      },
      {
       "output_type": "stream",
       "stream": "stdout",
       "text": [
        "\n",
        "    Fields available to accvar = sqft_price_nonres, general_type, _node_id0\n",
        "    Filters = ['general_type == \"Retail\"']"
       ]
      },
      {
       "output_type": "stream",
       "stream": "stdout",
       "text": [
        "\n",
        "    dataframe = buildings, varname=sqft_price_nonres\n",
        "    radius = 2000, aggregation = AGG_AVE, decay = DECAY_FLAT\n",
        "Computing office"
       ]
      },
      {
       "output_type": "stream",
       "stream": "stdout",
       "text": [
        "\n",
        "    Fields available to accvar = sqft_price_nonres, general_type, _node_id0\n",
        "    Filters = ['general_type == \"Office\"']"
       ]
      },
      {
       "output_type": "stream",
       "stream": "stdout",
       "text": [
        "\n",
        "    dataframe = buildings, varname=sqft_price_nonres\n",
        "    radius = 2000, aggregation = AGG_AVE, decay = DECAY_FLAT\n",
        "Computing industrial"
       ]
      },
      {
       "output_type": "stream",
       "stream": "stdout",
       "text": [
        "\n",
        "    Fields available to accvar = sqft_price_nonres, general_type, _node_id0\n",
        "    Filters = ['general_type == \"Industrial\"']"
       ]
      },
      {
       "output_type": "stream",
       "stream": "stdout",
       "text": [
        "\n",
        "    dataframe = buildings, varname=sqft_price_nonres\n",
        "    radius = 2000, aggregation = AGG_AVE, decay = DECAY_FLAT\n",
        "Done"
       ]
      },
      {
       "output_type": "stream",
       "stream": "stdout",
       "text": [
        "\n",
        "Model price_vars executed in 2.740s\n",
        "\n",
        "feasibility\n",
        "\n",
        "              retail     industrial         office    residential\n",
        "count  500000.000000  500000.000000  500000.000000  500000.000000\n",
        "mean        1.649578       6.923625       1.641501       1.886713\n",
        "std         3.054845     271.866847       1.727125       4.581359\n",
        "min         0.000000       0.000000       0.000000       0.000000\n",
        "25%         0.845533       0.000000       0.834538       1.187569\n",
        "50%         1.458584       0.355835       1.492865       1.456758\n",
        "75%         2.038744       0.816441       2.107942       1.789616\n",
        "max       184.333337   15839.500000      95.589624     539.941504"
       ]
      },
      {
       "output_type": "stream",
       "stream": "stdout",
       "text": [
        "\n",
        "Computing feasibility for form mixedoffice\n",
        "Computing feasibility for form industrial"
       ]
      },
      {
       "output_type": "stream",
       "stream": "stdout",
       "text": [
        "\n",
        "Computing feasibility for form office"
       ]
      },
      {
       "output_type": "stream",
       "stream": "stdout",
       "text": [
        "\n",
        "Computing feasibility for form residential"
       ]
      },
      {
       "output_type": "stream",
       "stream": "stdout",
       "text": [
        "\n",
        "Computing feasibility for form mixedresidential"
       ]
      },
      {
       "output_type": "stream",
       "stream": "stdout",
       "text": [
        "\n",
        "Computing feasibility for form retail"
       ]
      },
      {
       "output_type": "stream",
       "stream": "stdout",
       "text": [
        "\n",
        "Model feasibility executed in 20.530s"
       ]
      },
      {
       "output_type": "stream",
       "stream": "stdout",
       "text": [
        "\n",
        "\n",
        "residential_developer\n",
        "\n",
        "Number of agents: 1848504\n",
        "Number of agent spaces: 2224980\n",
        "Current vacancy = 0.17\n",
        "Target vacancy = 0.20, target of new units = 85650\n",
        "Sum of net units that are profitable"
       ]
      },
      {
       "output_type": "stream",
       "stream": "stdout",
       "text": [
        " 273155.0\n",
        "Adding 360 buildings with 86,532.0 residential units\n",
        "Model residential_developer executed in 2.412s"
       ]
      },
      {
       "output_type": "stream",
       "stream": "stdout",
       "text": [
        "\n",
        "\n",
        "non_residential_developer\n",
        "\n",
        "Number of agents: 1828367"
       ]
      },
      {
       "output_type": "stream",
       "stream": "stdout",
       "text": [
        "\n",
        "Number of agent spaces: 4286534\n",
        "Current vacancy = 0.57\n",
        "Target vacancy = 0.60, target of new units = 284383\n",
        "Sum of net units that are profitable"
       ]
      },
      {
       "output_type": "stream",
       "stream": "stdout",
       "text": [
        " 304190.0\n",
        "Adding 3823 buildings with 144,257,412.2 non-residential sqft\n",
        "Model non_residential_developer executed in 3.053s"
       ]
      },
      {
       "output_type": "stream",
       "stream": "stdout",
       "text": [
        "\n",
        "\n",
        "government_jobs_scaling_model\n",
        "\n",
        "Model government_jobs_scaling_model executed in 0.012s\n",
        "\n",
        "refiner\n",
        "\n",
        "No building in parcel 2357424."
       ]
      },
      {
       "output_type": "stream",
       "stream": "stdout",
       "text": [
        "\n",
        "Model refiner executed in 7.830s"
       ]
      },
      {
       "output_type": "stream",
       "stream": "stdout",
       "text": [
        "\n",
        "\n",
        "aging_model\n",
        "\n",
        "count    4650047.000000\n",
        "mean          37.858983\n",
        "std           22.665184\n",
        "min            0.000000\n",
        "25%           18.000000\n",
        "50%           38.000000\n",
        "75%           55.000000\n",
        "max           93.000000\n",
        "dtype: float64"
       ]
      },
      {
       "output_type": "stream",
       "stream": "stdout",
       "text": [
        "\n",
        "count    4650047.000000\n",
        "mean          38.858983\n",
        "std           22.665184\n",
        "min            1.000000\n",
        "25%           19.000000\n",
        "50%           39.000000\n",
        "75%           56.000000\n",
        "max           94.000000\n",
        "dtype: float64"
       ]
      },
      {
       "output_type": "stream",
       "stream": "stdout",
       "text": [
        "\n",
        "Model aging_model executed in 2.090s\n",
        "\n",
        "income_inflation_model\n",
        "\n",
        "count    1848504.000000\n",
        "mean       71157.635707\n",
        "std        69285.528011\n",
        "min            0.000000\n",
        "25%        26966.000000\n",
        "50%        53485.000000\n",
        "75%        91308.000000\n",
        "max       924912.000000\n",
        "dtype: float64"
       ]
      },
      {
       "output_type": "stream",
       "stream": "stdout",
       "text": [
        "\n",
        "count    1848504.000000\n",
        "mean       71869.212064\n",
        "std        69978.383292\n",
        "min            0.000000\n",
        "25%        27235.660000\n",
        "50%        54019.850000\n",
        "75%        92221.080000\n",
        "max       934161.120000\n",
        "dtype: float64"
       ]
      },
      {
       "output_type": "stream",
       "stream": "stdout",
       "text": [
        "\n",
        "Model income_inflation_model executed in 1.142s\n",
        "\n",
        "travel_model\n",
        "\n",
        "Model travel_model executed in 0.000s\n",
        "Year 2012 completed in 3698.484s\n",
        "\n",
        "clear_cache\n",
        "\n",
        "Model clear_cache executed in 0.020s\n",
        "\n",
        "neighborhood_vars\n",
        "\n",
        "Computing accessibility variables\n",
        "Computing sum_residential_units\n",
        "    Fields available to accvar = residential_units, _node_id0\n",
        "    dataframe = buildings, varname=residential_units"
       ]
      },
      {
       "output_type": "stream",
       "stream": "stdout",
       "text": [
        "\n",
        "    radius = 500, aggregation = AGG_SUM, decay = DECAY_LINEAR\n",
        "Computing sum_nonresidential_units"
       ]
      },
      {
       "output_type": "stream",
       "stream": "stdout",
       "text": [
        "\n",
        "    Fields available to accvar = job_spaces, _node_id0\n",
        "    dataframe = buildings, varname=job_spaces"
       ]
      },
      {
       "output_type": "stream",
       "stream": "stdout",
       "text": [
        "\n",
        "    radius = 500, aggregation = AGG_SUM, decay = DECAY_LINEAR\n",
        "Computing ave_unit_sqft"
       ]
      },
      {
       "output_type": "stream",
       "stream": "stdout",
       "text": [
        "\n",
        "    Fields available to accvar = sqft_per_unit, _node_id0\n",
        "    dataframe = buildings, varname=sqft_per_unit\n",
        "    radius = 500, aggregation = AGG_AVE, decay = DECAY_FLAT\n",
        "Computing ave_lot_sqft"
       ]
      },
      {
       "output_type": "stream",
       "stream": "stdout",
       "text": [
        "\n",
        "    Fields available to accvar = land_area, _node_id0\n",
        "    dataframe = buildings, varname=land_area\n",
        "    radius = 500, aggregation = AGG_AVE, decay = DECAY_FLAT\n",
        "Computing population"
       ]
      },
      {
       "output_type": "stream",
       "stream": "stdout",
       "text": [
        "\n",
        "    Fields available to accvar = persons, _node_id0\n",
        "    dataframe = households, varname=persons"
       ]
      },
      {
       "output_type": "stream",
       "stream": "stdout",
       "text": [
        "\n",
        "    radius = 500, aggregation = AGG_SUM, decay = DECAY_LINEAR\n",
        "Computing poor"
       ]
      },
      {
       "output_type": "stream",
       "stream": "stdout",
       "text": [
        "\n",
        "    Fields available to accvar = persons, income, _node_id0\n",
        "    Filters = ['income < 40000']\n",
        "    dataframe = households, varname=persons\n",
        "    radius = 500, aggregation = AGG_SUM, decay = DECAY_LINEAR\n",
        "Computing sfdu"
       ]
      },
      {
       "output_type": "stream",
       "stream": "stdout",
       "text": [
        "\n",
        "    Fields available to accvar = building_type_id, _node_id0\n",
        "    Filters = ['building_type_id == 17']"
       ]
      },
      {
       "output_type": "stream",
       "stream": "stdout",
       "text": [
        "\n",
        "    dataframe = buildings, varname=None\n",
        "    radius = 500, aggregation = AGG_SUM, decay = DECAY_LINEAR\n",
        "Computing hhsize"
       ]
      },
      {
       "output_type": "stream",
       "stream": "stdout",
       "text": [
        "\n",
        "    Fields available to accvar = persons, _node_id0\n",
        "    dataframe = households, varname=persons\n",
        "    radius = 500, aggregation = AGG_AVE, decay = DECAY_FLAT\n",
        "Computing jobs"
       ]
      },
      {
       "output_type": "stream",
       "stream": "stdout",
       "text": [
        "\n",
        "    Fields available to accvar = _node_id0\n",
        "    dataframe = jobs, varname=None"
       ]
      },
      {
       "output_type": "stream",
       "stream": "stdout",
       "text": [
        "\n",
        "    radius = 500, aggregation = AGG_SUM, decay = DECAY_LINEAR\n",
        "Computing ave_income"
       ]
      },
      {
       "output_type": "stream",
       "stream": "stdout",
       "text": [
        "\n",
        "    Fields available to accvar = income, _node_id0\n",
        "    dataframe = households, varname=income\n",
        "    radius = 500, aggregation = AGG_AVE, decay = DECAY_FLAT\n",
        "Done"
       ]
      },
      {
       "output_type": "stream",
       "stream": "stdout",
       "text": [
        "\n",
        "Model neighborhood_vars executed in 41.070s\n",
        "\n",
        "households_transition\n",
        "\n",
        "Model households_transition executed in 123.135s"
       ]
      },
      {
       "output_type": "stream",
       "stream": "stdout",
       "text": [
        "\n",
        "\n",
        "households_relocation\n",
        "\n",
        "Total currently unplaced: 33420"
       ]
      },
      {
       "output_type": "stream",
       "stream": "stdout",
       "text": [
        "\n",
        "Model households_relocation executed in 1.595s\n",
        "\n",
        "jobs_transition\n",
        "\n",
        "Model jobs_transition executed in 5.180s"
       ]
      },
      {
       "output_type": "stream",
       "stream": "stdout",
       "text": [
        "\n",
        "\n",
        "jobs_relocation\n",
        "\n",
        "Total currently unplaced: 23789"
       ]
      },
      {
       "output_type": "stream",
       "stream": "stdout",
       "text": [
        "\n",
        "Model jobs_relocation executed in 0.595s\n",
        "\n",
        "scheduled_development_events\n",
        "\n",
        "Model scheduled_development_events executed in 0.724s"
       ]
      },
      {
       "output_type": "stream",
       "stream": "stdout",
       "text": [
        "\n",
        "\n",
        "nrh_simulate\n",
        "\n",
        "Running hedonic simulation\n"
       ]
      },
      {
       "output_type": "stream",
       "stream": "stdout",
       "text": [
        "\n",
        "count    1.198240e+05\n",
        "mean     2.256856e+01\n",
        "std      9.453698e+01\n",
        "min      8.576985e-10\n",
        "25%      1.076035e+01\n",
        "50%      1.859715e+01\n",
        "75%      2.755745e+01\n",
        "max      7.617408e+03\n",
        "dtype: float64"
       ]
      },
      {
       "output_type": "stream",
       "stream": "stdout",
       "text": [
        "\n",
        "Model nrh_simulate executed in 106.544s"
       ]
      },
      {
       "output_type": "stream",
       "stream": "stdout",
       "text": [
        "\n",
        "\n",
        "rsh_simulate\n",
        "\n",
        "Running hedonic simulation\n"
       ]
      },
      {
       "output_type": "stream",
       "stream": "stdout",
       "text": [
        "\n",
        "count    1818013.000000\n",
        "mean          34.638586\n",
        "std           59.111726\n",
        "min            0.000292\n",
        "25%           28.986961\n",
        "50%           33.590262\n",
        "75%           37.731362\n",
        "max         6788.513824\n",
        "dtype: float64"
       ]
      },
      {
       "output_type": "stream",
       "stream": "stdout",
       "text": [
        "\n",
        "Model rsh_simulate executed in 7.713s"
       ]
      },
      {
       "output_type": "stream",
       "stream": "stdout",
       "text": [
        "\n",
        "\n",
        "hlcm_simulate\n",
        "\n",
        "There are 2311512 total available units"
       ]
      },
      {
       "output_type": "stream",
       "stream": "stdout",
       "text": [
        "\n",
        "    and 1873086 total choosers\n",
        "    but there are 21252 overfull buildings"
       ]
      },
      {
       "output_type": "stream",
       "stream": "stdout",
       "text": [
        "\n",
        "    for a total of 515691 empty units"
       ]
      },
      {
       "output_type": "stream",
       "stream": "stdout",
       "text": [
        "\n",
        "    in 360082 buildings total in the region\n",
        "Running location choice model simulation\n"
       ]
      },
      {
       "output_type": "stream",
       "stream": "stdout",
       "text": [
        "\n",
        "Assigned 33420 choosers to new units"
       ]
      },
      {
       "output_type": "stream",
       "stream": "stdout",
       "text": [
        "\n",
        "Total currently unplaced: 0"
       ]
      },
      {
       "output_type": "stream",
       "stream": "stdout",
       "text": [
        "\n",
        "Model hlcm_simulate executed in 193.563s"
       ]
      },
      {
       "output_type": "stream",
       "stream": "stdout",
       "text": [
        "\n",
        "\n",
        "elcm_simulate\n",
        "\n",
        "There are 712523 total available units"
       ]
      },
      {
       "output_type": "stream",
       "stream": "stdout",
       "text": [
        "\n",
        "    and 405691 total choosers\n",
        "    but there are 7348 overfull buildings\n",
        "    for a total of 486428 empty units"
       ]
      },
      {
       "output_type": "stream",
       "stream": "stdout",
       "text": [
        "\n",
        "    in 22057 buildings total in the region\n",
        "There are 1730640 total available units"
       ]
      },
      {
       "output_type": "stream",
       "stream": "stdout",
       "text": [
        "\n",
        "    and 238211 total choosers\n",
        "    but there are 3583 overfull buildings\n",
        "    for a total of 1592473 empty units"
       ]
      },
      {
       "output_type": "stream",
       "stream": "stdout",
       "text": [
        "\n",
        "    in 26003 buildings total in the region\n",
        "There are 103593 total available units"
       ]
      },
      {
       "output_type": "stream",
       "stream": "stdout",
       "text": [
        "\n",
        "    and 44049 total choosers\n",
        "    but there are 1434 overfull buildings\n",
        "    for a total of 76609 empty units"
       ]
      },
      {
       "output_type": "stream",
       "stream": "stdout",
       "text": [
        "\n",
        "    in 15357 buildings total in the region\n",
        "There are 545267 total available units"
       ]
      },
      {
       "output_type": "stream",
       "stream": "stdout",
       "text": [
        "\n",
        "    and 276350 total choosers\n",
        "    but there are 5894 overfull buildings\n",
        "    for a total of 400714 empty units"
       ]
      },
      {
       "output_type": "stream",
       "stream": "stdout",
       "text": [
        "\n",
        "    in 24897 buildings total in the region\n",
        "There are 78581 total available units"
       ]
      },
      {
       "output_type": "stream",
       "stream": "stdout",
       "text": [
        "\n",
        "    and 37562 total choosers\n",
        "    but there are 1109 overfull buildings\n",
        "    for a total of 59190 empty units"
       ]
      },
      {
       "output_type": "stream",
       "stream": "stdout",
       "text": [
        "\n",
        "    in 6857 buildings total in the region\n",
        "There are 973766 total available units"
       ]
      },
      {
       "output_type": "stream",
       "stream": "stdout",
       "text": [
        "\n",
        "    and 621419 total choosers\n",
        "    but there are 12237 overfull buildings\n",
        "    for a total of 634142 empty units"
       ]
      },
      {
       "output_type": "stream",
       "stream": "stdout",
       "text": [
        "\n",
        "    in 33737 buildings total in the region\n",
        "There are 121023 total available units"
       ]
      },
      {
       "output_type": "stream",
       "stream": "stdout",
       "text": [
        "\n",
        "    and 42815 total choosers\n",
        "    but there are 1132 overfull buildings\n",
        "    for a total of 93492 empty units"
       ]
      },
      {
       "output_type": "stream",
       "stream": "stdout",
       "text": [
        "\n",
        "    in 17666 buildings total in the region\n",
        "There are 299502 total available units"
       ]
      },
      {
       "output_type": "stream",
       "stream": "stdout",
       "text": [
        "\n",
        "    and 183071 total choosers\n",
        "    but there are 3399 overfull buildings\n",
        "    for a total of 231179 empty units"
       ]
      },
      {
       "output_type": "stream",
       "stream": "stdout",
       "text": [
        "\n",
        "    in 19533 buildings total in the region\n",
        "ELCM for large area 3\n",
        "Running location choice model simulation\n",
        "\n",
        "Assigned 3999 choosers to new units"
       ]
      },
      {
       "output_type": "stream",
       "stream": "stdout",
       "text": [
        "\n",
        "Total currently unplaced: 19790"
       ]
      },
      {
       "output_type": "stream",
       "stream": "stdout",
       "text": [
        "\n",
        "ELCM for large area 5"
       ]
      },
      {
       "output_type": "stream",
       "stream": "stdout",
       "text": [
        "\n",
        "Running location choice model simulation\n",
        "\n",
        "Assigned 2021 choosers to new units"
       ]
      },
      {
       "output_type": "stream",
       "stream": "stdout",
       "text": [
        "\n",
        "Total currently unplaced: 17769"
       ]
      },
      {
       "output_type": "stream",
       "stream": "stdout",
       "text": [
        "\n",
        "ELCM for large area 93"
       ]
      },
      {
       "output_type": "stream",
       "stream": "stdout",
       "text": [
        "\n",
        "Running location choice model simulation\n",
        "\n",
        "Assigned 695 choosers to new units"
       ]
      },
      {
       "output_type": "stream",
       "stream": "stdout",
       "text": [
        "\n",
        "Total currently unplaced: 17074"
       ]
      },
      {
       "output_type": "stream",
       "stream": "stdout",
       "text": [
        "\n",
        "ELCM for large area 99"
       ]
      },
      {
       "output_type": "stream",
       "stream": "stdout",
       "text": [
        "\n",
        "Running location choice model simulation\n",
        "\n",
        "Assigned 2624 choosers to new units"
       ]
      },
      {
       "output_type": "stream",
       "stream": "stdout",
       "text": [
        "\n",
        "Total currently unplaced: 14450"
       ]
      },
      {
       "output_type": "stream",
       "stream": "stdout",
       "text": [
        "\n",
        "ELCM for large area 115"
       ]
      },
      {
       "output_type": "stream",
       "stream": "stdout",
       "text": [
        "\n",
        "Running location choice model simulation\n",
        "\n",
        "Assigned 484 choosers to new units"
       ]
      },
      {
       "output_type": "stream",
       "stream": "stdout",
       "text": [
        "\n",
        "Total currently unplaced: 13966"
       ]
      },
      {
       "output_type": "stream",
       "stream": "stdout",
       "text": [
        "\n",
        "ELCM for large area 125"
       ]
      },
      {
       "output_type": "stream",
       "stream": "stdout",
       "text": [
        "\n",
        "Running location choice model simulation\n",
        "\n",
        "Assigned 10381 choosers to new units"
       ]
      },
      {
       "output_type": "stream",
       "stream": "stdout",
       "text": [
        "\n",
        "Total currently unplaced: 3585"
       ]
      },
      {
       "output_type": "stream",
       "stream": "stdout",
       "text": [
        "\n",
        "ELCM for large area 147"
       ]
      },
      {
       "output_type": "stream",
       "stream": "stdout",
       "text": [
        "\n",
        "Running location choice model simulation\n",
        "\n",
        "Assigned 828 choosers to new units"
       ]
      },
      {
       "output_type": "stream",
       "stream": "stdout",
       "text": [
        "\n",
        "Total currently unplaced: 2757"
       ]
      },
      {
       "output_type": "stream",
       "stream": "stdout",
       "text": [
        "\n",
        "ELCM for large area 161"
       ]
      },
      {
       "output_type": "stream",
       "stream": "stdout",
       "text": [
        "\n",
        "Running location choice model simulation\n",
        "\n",
        "Assigned 2757 choosers to new units"
       ]
      },
      {
       "output_type": "stream",
       "stream": "stdout",
       "text": [
        "\n",
        "Total currently unplaced: 0"
       ]
      },
      {
       "output_type": "stream",
       "stream": "stdout",
       "text": [
        "\n",
        "Model elcm_simulate executed in 231.612s"
       ]
      },
      {
       "output_type": "stream",
       "stream": "stdout",
       "text": [
        "\n",
        "\n",
        "price_vars\n",
        "\n",
        "Computing accessibility variables\n",
        "Computing residential\n",
        "    Fields available to accvar = sqft_price_res, _node_id0\n",
        "    dataframe = buildings, varname=sqft_price_res\n",
        "    radius = 2000, aggregation = AGG_AVE, decay = DECAY_FLAT\n",
        "Computing retail"
       ]
      },
      {
       "output_type": "stream",
       "stream": "stdout",
       "text": [
        "\n",
        "    Fields available to accvar = sqft_price_nonres, general_type, _node_id0\n",
        "    Filters = ['general_type == \"Retail\"']"
       ]
      },
      {
       "output_type": "stream",
       "stream": "stdout",
       "text": [
        "\n",
        "    dataframe = buildings, varname=sqft_price_nonres\n",
        "    radius = 2000, aggregation = AGG_AVE, decay = DECAY_FLAT\n",
        "Computing office"
       ]
      },
      {
       "output_type": "stream",
       "stream": "stdout",
       "text": [
        "\n",
        "    Fields available to accvar = sqft_price_nonres, general_type, _node_id0\n",
        "    Filters = ['general_type == \"Office\"']"
       ]
      },
      {
       "output_type": "stream",
       "stream": "stdout",
       "text": [
        "\n",
        "    dataframe = buildings, varname=sqft_price_nonres\n",
        "    radius = 2000, aggregation = AGG_AVE, decay = DECAY_FLAT\n",
        "Computing industrial"
       ]
      },
      {
       "output_type": "stream",
       "stream": "stdout",
       "text": [
        "\n",
        "    Fields available to accvar = sqft_price_nonres, general_type, _node_id0\n",
        "    Filters = ['general_type == \"Industrial\"']"
       ]
      },
      {
       "output_type": "stream",
       "stream": "stdout",
       "text": [
        "\n",
        "    dataframe = buildings, varname=sqft_price_nonres\n",
        "    radius = 2000, aggregation = AGG_AVE, decay = DECAY_FLAT\n",
        "Done"
       ]
      },
      {
       "output_type": "stream",
       "stream": "stdout",
       "text": [
        "\n",
        "Model price_vars executed in 2.699s\n",
        "\n",
        "feasibility\n",
        "\n",
        "              retail     industrial         office    residential\n",
        "count  500000.000000  500000.000000  500000.000000  500000.000000\n",
        "mean        1.546934       0.682925       1.515888       1.886551\n",
        "std         1.072028       3.500434       1.143336       4.415070\n",
        "min         0.000000       0.000000       0.000000       0.000000\n",
        "25%         0.838512       0.000000       0.802593       1.187744\n",
        "50%         1.446933       0.338833       1.459689       1.456600\n",
        "75%         2.019176       0.807212       2.053925       1.790891\n",
        "max        63.910077     196.932104      27.311322     524.459326"
       ]
      },
      {
       "output_type": "stream",
       "stream": "stdout",
       "text": [
        "\n",
        "Computing feasibility for form mixedoffice\n",
        "Computing feasibility for form industrial"
       ]
      },
      {
       "output_type": "stream",
       "stream": "stdout",
       "text": [
        "\n",
        "Computing feasibility for form office"
       ]
      },
      {
       "output_type": "stream",
       "stream": "stdout",
       "text": [
        "\n",
        "Computing feasibility for form residential"
       ]
      },
      {
       "output_type": "stream",
       "stream": "stdout",
       "text": [
        "\n",
        "Computing feasibility for form mixedresidential"
       ]
      },
      {
       "output_type": "stream",
       "stream": "stdout",
       "text": [
        "\n",
        "Computing feasibility for form retail"
       ]
      },
      {
       "output_type": "stream",
       "stream": "stdout",
       "text": [
        "\n",
        "Model feasibility executed in 20.791s"
       ]
      },
      {
       "output_type": "stream",
       "stream": "stdout",
       "text": [
        "\n",
        "\n",
        "residential_developer\n",
        "\n",
        "Number of agents: 1853284\n",
        "Number of agent spaces: 2311512\n",
        "Current vacancy = 0.20\n",
        "Target vacancy = 0.20, target of new units = 5093\n",
        "Sum of net units that are profitable"
       ]
      },
      {
       "output_type": "stream",
       "stream": "stdout",
       "text": [
        " 247238.0\n",
        "Adding 14 buildings with 5,141.0 residential units\n",
        "Model residential_developer executed in 2.476s"
       ]
      },
      {
       "output_type": "stream",
       "stream": "stdout",
       "text": [
        "\n",
        "\n",
        "non_residential_developer\n",
        "\n",
        "Number of agents: 1849168"
       ]
      },
      {
       "output_type": "stream",
       "stream": "stdout",
       "text": [
        "\n",
        "Number of agent spaces: 4564895\n",
        "Current vacancy = 0.59\n",
        "Target vacancy = 0.60, target of new units = 58025\n",
        "Sum of net units that are profitable"
       ]
      },
      {
       "output_type": "stream",
       "stream": "stdout",
       "text": [
        " 52673.0\n",
        "WARNING THERE WERE NOT ENOUGH PROFITABLE UNITS TO MATCH DEMAND\n",
        "Adding 895 buildings with 30,229,335.1 non-residential sqft\n",
        "Model non_residential_developer executed in 3.049s"
       ]
      },
      {
       "output_type": "stream",
       "stream": "stdout",
       "text": [
        "\n",
        "\n",
        "government_jobs_scaling_model\n",
        "\n",
        "Model government_jobs_scaling_model executed in 0.012s\n",
        "\n",
        "refiner\n",
        "\n",
        "Model refiner executed in 1.931s"
       ]
      },
      {
       "output_type": "stream",
       "stream": "stdout",
       "text": [
        "\n",
        "\n",
        "aging_model\n",
        "\n",
        "count    4652072.000000\n",
        "mean          39.000311\n",
        "std           22.753994\n",
        "min            1.000000\n",
        "25%           19.000000\n",
        "50%           39.000000\n",
        "75%           56.000000\n",
        "max           94.000000\n",
        "dtype: float64"
       ]
      },
      {
       "output_type": "stream",
       "stream": "stdout",
       "text": [
        "\n",
        "count    4652072.000000\n",
        "mean          40.000311\n",
        "std           22.753994\n",
        "min            2.000000\n",
        "25%           20.000000\n",
        "50%           40.000000\n",
        "75%           57.000000\n",
        "max           95.000000\n",
        "dtype: float64"
       ]
      },
      {
       "output_type": "stream",
       "stream": "stdout",
       "text": [
        "\n",
        "Model aging_model executed in 2.111s\n",
        "\n",
        "income_inflation_model\n",
        "\n",
        "count    1853284.000000\n",
        "mean       71312.991266\n",
        "std        69558.042548\n",
        "min            0.000000\n",
        "25%        26984.170000\n",
        "50%        53501.720000\n",
        "75%        91256.530000\n",
        "max       934161.120000\n",
        "dtype: float64"
       ]
      },
      {
       "output_type": "stream",
       "stream": "stdout",
       "text": [
        "\n",
        "count    1853284.000000\n",
        "mean       72026.121178\n",
        "std        70253.622973\n",
        "min            0.000000\n",
        "25%        27254.011700\n",
        "50%        54036.737200\n",
        "75%        92169.095300\n",
        "max       943502.731200\n",
        "dtype: float64"
       ]
      },
      {
       "output_type": "stream",
       "stream": "stderr",
       "text": [
        "c:\\Anaconda\\lib\\site-packages\\pandas\\core\\frame.py:1712: UserWarning: Boolean Series key will be reindexed to match DataFrame index.\n",
        "  \"DataFrame index.\", UserWarning)\n",
        "c:\\Anaconda\\lib\\site-packages\\pandas\\computation\\expressions.py:184: UserWarning: evaluating in Python space because the '*' operator is not supported by numexpr for the bool dtype, use '&' instead\n",
        "  unsupported[op_str]))\n"
       ]
      },
      {
       "output_type": "stream",
       "stream": "stdout",
       "text": [
        "\n",
        "Model income_inflation_model executed in 1.153s\n",
        "\n",
        "travel_model\n",
        "\n",
        "Model travel_model executed in 25.312s"
       ]
      },
      {
       "output_type": "stream",
       "stream": "stdout",
       "text": [
        "\n",
        "Year 2013 completed in 771.291s\n"
       ]
      }
     ],
     "prompt_number": 5
    },
    {
     "cell_type": "code",
     "collapsed": false,
     "input": [
      "import pandas as pd, numpy as np\n",
      "\n",
      "##Unplaced agents\n",
      "print 'Unplaced households'\n",
      "print dset.households.building_id.isnull().sum()\n",
      "print 'Unplaced jobs'\n",
      "print dset.jobs.building_id.isnull().sum()\n",
      "\n",
      "\n",
      "##County summary\n",
      "bp = pd.merge(dset.buildings,dset.parcels,left_on='parcel_id',right_index=True)\n",
      "bp['plid'] = bp.large_area_id\n",
      "merged_hh = pd.merge(dset.households,bp,left_on='building_id',right_index=True)\n",
      "print 'Households by large_area_id'\n",
      "print merged_hh.groupby('plid').size()\n",
      "\n",
      "if 'zone_id' in dset.jobs.columns:\n",
      "    del dset.jobs['zone_id']\n",
      "merged_jobs = pd.merge(dset.jobs,bp,left_on='building_id',right_index=True)\n",
      "print 'Jobs by county'\n",
      "print merged_jobs.groupby('plid').size()\n",
      "\n",
      "##Zonal summary\n",
      "zonal_indicators = pd.DataFrame(index=np.unique(bp.zone_id.values))\n",
      "zonal_indicators['hh'] = merged_hh.groupby('zone_id').size()\n",
      "zonal_indicators['emp'] = merged_jobs.groupby('zone_id').size()\n",
      "zonal_indicators.fillna(0).to_csv('./runs/zonal_indicators%s.csv'%runnum)\n",
      "print 'Zonal indicators exported to runs dir'"
     ],
     "language": "python",
     "metadata": {},
     "outputs": [
      {
       "output_type": "stream",
       "stream": "stdout",
       "text": [
        "Unplaced households\n",
        "0\n",
        "Unplaced jobs\n",
        "0\n",
        "Households by large_area_id"
       ]
      },
      {
       "output_type": "stream",
       "stream": "stdout",
       "text": [
        "\n",
        "plid\n",
        "3       437672\n",
        "5       253345\n",
        "93       69210\n",
        "99      337839\n",
        "115      59935\n",
        "125     491327\n",
        "147      64237\n",
        "161     139719\n",
        "dtype: int64"
       ]
      },
      {
       "output_type": "stream",
       "stream": "stdout",
       "text": [
        "\n",
        "Jobs by county"
       ]
      },
      {
       "output_type": "stream",
       "stream": "stdout",
       "text": [
        "\n",
        "plid\n",
        "3       406044\n",
        "5       241510\n",
        "93       43886\n",
        "99      275617\n",
        "115      37480\n",
        "125     625162\n",
        "147      42708\n",
        "161     176761\n",
        "dtype: int64"
       ]
      },
      {
       "output_type": "stream",
       "stream": "stdout",
       "text": [
        "\n",
        "Zonal indicators exported to runs dir"
       ]
      },
      {
       "output_type": "stream",
       "stream": "stdout",
       "text": [
        "\n"
       ]
      }
     ],
     "prompt_number": 6
    },
    {
     "cell_type": "code",
     "collapsed": true,
     "input": [
      "import os\n",
      "dset.save_output(os.path.join(misc.runs_dir(), \"run%d.h5\" % runnum))"
     ],
     "language": "python",
     "metadata": {},
     "outputs": [
      {
       "output_type": "stream",
       "stream": "stdout",
       "text": [
        "Writing travel_data to disk\n",
        "Writing zones to disk"
       ]
      },
      {
       "output_type": "stream",
       "stream": "stdout",
       "text": [
        "\n",
        "Writing buildings to disk"
       ]
      },
      {
       "output_type": "stream",
       "stream": "stdout",
       "text": [
        "\n",
        "Writing jobs to disk"
       ]
      },
      {
       "output_type": "stream",
       "stream": "stdout",
       "text": [
        "\n",
        "Writing annual_employment_control_totals to disk"
       ]
      },
      {
       "output_type": "stream",
       "stream": "stdout",
       "text": [
        "\n",
        "Writing nodes_prices to disk\n",
        "Writing feasibility to disk"
       ]
      },
      {
       "output_type": "stream",
       "stream": "stdout",
       "text": [
        "\n",
        "Writing annual_relocation_rates_for_jobs to disk\n",
        "Writing households to disk"
       ]
      },
      {
       "output_type": "stream",
       "stream": "stdout",
       "text": [
        "\n",
        "Writing persons to disk"
       ]
      },
      {
       "output_type": "stream",
       "stream": "stdout",
       "text": [
        "\n",
        "Writing annual_household_control_totals to disk"
       ]
      },
      {
       "output_type": "stream",
       "stream": "stdout",
       "text": [
        "\n",
        "Writing building_sqft_per_job to disk\n",
        "Writing annual_relocation_rates_for_households to disk\n",
        "Writing nodes to disk"
       ]
      },
      {
       "output_type": "stream",
       "stream": "stdout",
       "text": [
        "\n",
        "Writing cities to disk\n",
        "Writing parcels to disk"
       ]
      },
      {
       "output_type": "stream",
       "stream": "stdout",
       "text": [
        "\n"
       ]
      }
     ],
     "prompt_number": 7
    }
   ],
   "metadata": {}
  }
 ]
}