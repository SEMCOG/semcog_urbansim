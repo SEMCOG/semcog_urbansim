{
 "metadata": {
  "name": "",
  "signature": "sha256:112d0cc3ba3d1a94ea5ac349b11f899fdc63784b5b3275220796eb111f34a442"
 },
 "nbformat": 3,
 "nbformat_minor": 0,
 "worksheets": [
  {
   "cells": [
    {
     "cell_type": "code",
     "collapsed": true,
     "input": [
      "%load_ext autoreload\n",
      "%autoreload 2\n",
      "%aimport models\n",
      "%aimport dataset"
     ],
     "language": "python",
     "metadata": {},
     "outputs": [],
     "prompt_number": 1
    },
    {
     "cell_type": "code",
     "collapsed": false,
     "input": [
      "from urbansim.utils import misc\n",
      "runnum = misc.get_run_number()"
     ],
     "language": "python",
     "metadata": {},
     "outputs": [],
     "prompt_number": 2
    },
    {
     "cell_type": "code",
     "collapsed": false,
     "input": [
      "# import logging\n",
      "# from urbansim.utils import logutil\n",
      "# logutil.set_log_level(logging.DEBUG)\n",
      "# logutil.log_to_file('./runs/log%s.log'%runnum)"
     ],
     "language": "python",
     "metadata": {},
     "outputs": [],
     "prompt_number": 3
    },
    {
     "cell_type": "code",
     "collapsed": false,
     "input": [
      "dset = dataset.SemcogDataset(\"data/semcog_data.h5\")\n",
      "models.build_networks(dset)"
     ],
     "language": "python",
     "metadata": {},
     "outputs": [
      {
       "output_type": "stream",
       "stream": "stdout",
       "text": [
        "Fetching cities\n",
        "Fetching parcels"
       ]
      },
      {
       "output_type": "stream",
       "stream": "stdout",
       "text": [
        "\n"
       ]
      }
     ],
     "prompt_number": 4
    },
    {
     "cell_type": "code",
     "collapsed": true,
     "input": [
      "YEARS = range(2013, 2014)\n",
      "MODEL_LIST = [\n",
      "#     \"clear_cache\",            # recompute variables every year\n",
      "#     \"neighborhood_vars\",      # neighborhood variables\n",
      "#     \"households_transition\",  # households transition\n",
      "#     \"households_relocation\",  # households relocation model\n",
      "#     \"jobs_transition\",        # jobs transition\n",
      "#     \"jobs_relocation\",        # jobs relocation model\n",
      "#     \"scheduled_development_events\",\n",
      "#     \"cache_variables\",        # this is the variable computation time\n",
      "#     \"nrh_simulate\",           # non-residential rent hedonic\n",
      "#     \"rsh_simulate\",           # residential sales hedonic\n",
      "#     \"hlcm_simulate\",          # households location choice\n",
      "#     \"elcm_simulate\",          # employment location choice\n",
      "#     \"price_vars\",             # compute average price measures\n",
      "#     \"feasibility\",            # compute development feasibility\n",
      "#     \"residential_developer\",   # build actual buildings\n",
      "#     \"non_residential_developer\",   # build actual buildings\n",
      "#     \"government_jobs_scaling_model\",\n",
      "#     \"refiner\",\n",
      "#     \"aging_model\",\n",
      "#     \"income_inflation_model\",\n",
      "    \"travel_model\",\n",
      "]\n",
      "#dset.debug = True\n",
      "models._run_models(dset, MODEL_LIST, YEARS)"
     ],
     "language": "python",
     "metadata": {},
     "outputs": [
      {
       "output_type": "stream",
       "stream": "stdout",
       "text": [
        "\n",
        "travel_model\n",
        "\n",
        "Fetching buildings\n",
        "Fetching households"
       ]
      },
      {
       "output_type": "stream",
       "stream": "stdout",
       "text": [
        "\n",
        "Fetching jobs"
       ]
      },
      {
       "output_type": "stream",
       "stream": "stdout",
       "text": [
        "\n",
        "Fetching persons"
       ]
      },
      {
       "output_type": "stream",
       "stream": "stdout",
       "text": [
        "\n",
        "Model travel_model executed in 24.165s"
       ]
      },
      {
       "output_type": "stream",
       "stream": "stdout",
       "text": [
        "\n",
        "Year 2013 completed in 24.166s\n"
       ]
      },
      {
       "output_type": "stream",
       "stream": "stderr",
       "text": [
        "c:\\Anaconda\\lib\\site-packages\\pandas\\computation\\expressions.py:184: UserWarning: evaluating in Python space because the '*' operator is not supported by numexpr for the bool dtype, use '&' instead\n",
        "  unsupported[op_str]))\n"
       ]
      }
     ],
     "prompt_number": 5
    },
    {
     "cell_type": "code",
     "collapsed": false,
     "input": [
      "import pandas as pd, numpy as np\n",
      "\n",
      "##Unplaced agents\n",
      "print 'Unplaced households'\n",
      "print dset.households.building_id.isnull().sum()\n",
      "print 'Unplaced jobs'\n",
      "print dset.jobs.building_id.isnull().sum()\n",
      "\n",
      "\n",
      "##County summary\n",
      "bp = pd.merge(dset.buildings,dset.parcels,left_on='parcel_id',right_index=True)\n",
      "bp['plid'] = bp.large_area_id\n",
      "merged_hh = pd.merge(dset.households,bp,left_on='building_id',right_index=True)\n",
      "print 'Households by large_area_id'\n",
      "print merged_hh.groupby('plid').size()\n",
      "\n",
      "if 'zone_id' in dset.jobs.columns:\n",
      "    del dset.jobs['zone_id']\n",
      "merged_jobs = pd.merge(dset.jobs,bp,left_on='building_id',right_index=True)\n",
      "print 'Jobs by county'\n",
      "print merged_jobs.groupby('plid').size()\n",
      "\n",
      "##Zonal summary\n",
      "zonal_indicators = pd.DataFrame(index=np.unique(bp.zone_id.values))\n",
      "zonal_indicators['hh'] = merged_hh.groupby('zone_id').size()\n",
      "zonal_indicators['emp'] = merged_jobs.groupby('zone_id').size()\n",
      "zonal_indicators.fillna(0).to_csv('./runs/zonal_indicators%s.csv'%runnum)\n",
      "print 'Zonal indicators exported to runs dir'"
     ],
     "language": "python",
     "metadata": {},
     "outputs": [
      {
       "output_type": "stream",
       "stream": "stdout",
       "text": [
        "Unplaced households\n",
        "Fetching households\n",
        "0"
       ]
      },
      {
       "output_type": "stream",
       "stream": "stdout",
       "text": [
        "\n",
        "Unplaced jobs\n",
        "Fetching jobs\n",
        "0"
       ]
      },
      {
       "output_type": "stream",
       "stream": "stdout",
       "text": [
        "\n",
        "Fetching buildings\n",
        "Households by large_area_id"
       ]
      },
      {
       "output_type": "stream",
       "stream": "stdout",
       "text": [
        "\n",
        "plid\n",
        "3       433324\n",
        "5       269425\n",
        "93       67380\n",
        "99      331667\n",
        "115      58230\n",
        "125     483698\n",
        "147      63841\n",
        "161     137192\n",
        "dtype: int64"
       ]
      },
      {
       "output_type": "stream",
       "stream": "stdout",
       "text": [
        "\n",
        "Jobs by county"
       ]
      },
      {
       "output_type": "stream",
       "stream": "stdout",
       "text": [
        "\n",
        "plid\n",
        "3       400702\n",
        "5       235743\n",
        "93       42413\n",
        "99      270252\n",
        "115      36796\n",
        "125     594030\n",
        "147      41853\n",
        "161     174365\n",
        "dtype: int64"
       ]
      },
      {
       "output_type": "stream",
       "stream": "stdout",
       "text": [
        "\n",
        "Zonal indicators exported to runs dir"
       ]
      },
      {
       "output_type": "stream",
       "stream": "stdout",
       "text": [
        "\n"
       ]
      }
     ],
     "prompt_number": 5
    },
    {
     "cell_type": "code",
     "collapsed": false,
     "input": [
      "zonal_indicators = pd.DataFrame(index=np.unique(dset.parcels.zone_id.values))\n",
      "merged_persons = pd.merge(dset.persons, merged_hh, left_on='household_id', right_index=True)\n",
      "zonal_indicators['acrestotal'] = dset.parcels.groupby('zone_id').parcel_sqft.sum()/43560.0\n",
      "zonal_indicators['households'] = merged_hh.groupby('zone_id').size()\n",
      "zonal_indicators['hhPop'] = merged_hh.groupby('zone_id').persons.sum()\n",
      "zonal_indicators['EmpPrinc'] = merged_jobs.groupby('zone_id').size()\n",
      "zonal_indicators['workers'] = merged_hh.groupby('zone_id').workers.sum()\n",
      "zonal_indicators['Agegrp1'] = merged_persons[merged_persons.age<=4].groupby('zone_id').size()\n",
      "zonal_indicators['Agegrp2'] = merged_persons[(merged_persons.age>=5)*(merged_persons.age<=17)].groupby('zone_id').size()\n",
      "zonal_indicators['Agegrp3'] = merged_persons[(merged_persons.age>=18)*(merged_persons.age<=34)].groupby('zone_id').size()\n",
      "zonal_indicators['Agegrp4'] = merged_persons[(merged_persons.age>=35)*(merged_persons.age<=64)].groupby('zone_id').size()\n",
      "zonal_indicators['Agegrp5'] = merged_persons[merged_persons.age>=65].groupby('zone_id').size()\n",
      "enroll_ratios = pd.read_csv(\"data/enroll_ratio_by_taz.csv\")\n",
      "school_age_by_district = pd.DataFrame({'children':merged_persons[(merged_persons.age>=5)*(merged_persons.age<=17)].groupby('school_district_id').size()})\n",
      "enroll_ratios = pd.merge(enroll_ratios,school_age_by_district,left_on='school_district_id',right_index=True)\n",
      "enroll_ratios['enrolled'] = enroll_ratios.enroll_ratio*enroll_ratios.children\n",
      "enrolled = enroll_ratios.groupby('zone_id').enrolled.sum()\n",
      "zonal_indicators['k12enroll'] = np.round(enrolled)\n",
      "# zonal_indicators['PopDens'] = zonal_indicators.HHPop/(dset.parcels.groupby('zone_id').parcel_sqft.sum()/43560)\n",
      "# zonal_indicators['EmpBasic'] = merged_jobs[merged_jobs.sector_id.isin([1,3])].groupby('zone_id').size()\n",
      "# zonal_indicators['EmpNonBas'] = merged_jobs[~merged_jobs.sector_id.isin([1,3])].groupby('zone_id').size()\n",
      "zonal_indicators['sector1'] = merged_jobs[merged_jobs.sector_id==1].groupby('zone_id').size()\n",
      "zonal_indicators['sector2'] = merged_jobs[merged_jobs.sector_id==2].groupby('zone_id').size()\n",
      "zonal_indicators['sector3'] = merged_jobs[merged_jobs.sector_id==3].groupby('zone_id').size()\n",
      "zonal_indicators['sector4'] = merged_jobs[merged_jobs.sector_id==4].groupby('zone_id').size()\n",
      "zonal_indicators['sector5'] = merged_jobs[merged_jobs.sector_id==5].groupby('zone_id').size()\n",
      "zonal_indicators['sector6'] = merged_jobs[merged_jobs.sector_id==6].groupby('zone_id').size()\n",
      "zonal_indicators['sector7'] = merged_jobs[merged_jobs.sector_id==7].groupby('zone_id').size()\n",
      "zonal_indicators['sector8'] = merged_jobs[merged_jobs.sector_id==8].groupby('zone_id').size()\n",
      "zonal_indicators['sector9'] = merged_jobs[merged_jobs.sector_id==9].groupby('zone_id').size()\n",
      "zonal_indicators['sector10'] = merged_jobs[merged_jobs.sector_id==10].groupby('zone_id').size()\n",
      "zonal_indicators['sector11'] = merged_jobs[merged_jobs.sector_id==11].groupby('zone_id').size()\n",
      "zonal_indicators['sector12'] = merged_jobs[merged_jobs.sector_id==12].groupby('zone_id').size()\n",
      "zonal_indicators['sector13'] = merged_jobs[merged_jobs.sector_id==13].groupby('zone_id').size()\n",
      "zonal_indicators['sector14'] = merged_jobs[merged_jobs.sector_id==14].groupby('zone_id').size()\n",
      "zonal_indicators['sector15'] = merged_jobs[merged_jobs.sector_id==15].groupby('zone_id').size()\n",
      "zonal_indicators['sector16'] = merged_jobs[merged_jobs.sector_id==16].groupby('zone_id').size()\n",
      "zonal_indicators['sector17'] = merged_jobs[merged_jobs.sector_id==17].groupby('zone_id').size()\n",
      "zonal_indicators['sector18'] = merged_jobs[merged_jobs.sector_id==18].groupby('zone_id').size()\n",
      "zonal_indicators['sector19'] = merged_jobs[merged_jobs.sector_id==19].groupby('zone_id').size()\n",
      "zonal_indicators['sector20'] = merged_jobs[merged_jobs.sector_id==20].groupby('zone_id').size()"
     ],
     "language": "python",
     "metadata": {},
     "outputs": [
      {
       "output_type": "stream",
       "stream": "stdout",
       "text": [
        "Fetching persons\n"
       ]
      },
      {
       "output_type": "stream",
       "stream": "stderr",
       "text": [
        "c:\\Anaconda\\lib\\site-packages\\pandas\\computation\\expressions.py:184: UserWarning: evaluating in Python space because the '*' operator is not supported by numexpr for the bool dtype, use '&' instead\n",
        "  unsupported[op_str]))\n"
       ]
      }
     ],
     "prompt_number": 6
    },
    {
     "cell_type": "code",
     "collapsed": false,
     "input": [
      "merged_hh['schoolkids'] = merged_persons[(merged_persons.age>=5)*(merged_persons.age<=17)].groupby('household_id').size()\n",
      "merged_hh.schoolkids = merged_hh.schoolkids.fillna(0)"
     ],
     "language": "python",
     "metadata": {},
     "outputs": [],
     "prompt_number": 7
    },
    {
     "cell_type": "code",
     "collapsed": false,
     "input": [
      "zonal_indicators['prch21'] = merged_hh[(merged_hh.persons==2)*(merged_hh.schoolkids==1)].groupby('zone_id').size()\n",
      "zonal_indicators['prch31'] = merged_hh[(merged_hh.persons==3)*(merged_hh.schoolkids==1)].groupby('zone_id').size()\n",
      "zonal_indicators['prch32'] = merged_hh[(merged_hh.persons==3)*(merged_hh.schoolkids==2)].groupby('zone_id').size()\n",
      "zonal_indicators['prch41'] = merged_hh[(merged_hh.persons==4)*(merged_hh.schoolkids==1)].groupby('zone_id').size()\n",
      "zonal_indicators['prch42'] = merged_hh[(merged_hh.persons==4)*(merged_hh.schoolkids==2)].groupby('zone_id').size()\n",
      "zonal_indicators['prch43'] = merged_hh[(merged_hh.persons==4)*(merged_hh.schoolkids>=3)].groupby('zone_id').size()\n",
      "zonal_indicators['prch51'] = merged_hh[(merged_hh.persons==5)*(merged_hh.schoolkids==1)].groupby('zone_id').size()\n",
      "zonal_indicators['prch52'] = merged_hh[(merged_hh.persons==5)*(merged_hh.schoolkids==2)].groupby('zone_id').size()\n",
      "zonal_indicators['prch53'] = merged_hh[(merged_hh.persons==5)*(merged_hh.schoolkids>=3)].groupby('zone_id').size()\n"
     ],
     "language": "python",
     "metadata": {},
     "outputs": [],
     "prompt_number": 10
    },
    {
     "cell_type": "code",
     "collapsed": false,
     "input": [
      "merged_hh['quartile'] =pd.Series(pd.qcut(merged_hh.income,4).labels, index=merged_hh.index)+1\n",
      "zonal_indicators['piq11'] = merged_hh[(merged_hh.persons==1)*(merged_hh.quartile==1)].groupby('zone_id').size()\n",
      "zonal_indicators['piq12'] = merged_hh[(merged_hh.persons==1)*(merged_hh.quartile==2)].groupby('zone_id').size()\n",
      "zonal_indicators['piq13'] = merged_hh[(merged_hh.persons==1)*(merged_hh.quartile==3)].groupby('zone_id').size()\n",
      "zonal_indicators['piq14'] = merged_hh[(merged_hh.persons==1)*(merged_hh.quartile==4)].groupby('zone_id').size()\n",
      "zonal_indicators['piq21'] = merged_hh[(merged_hh.persons==2)*(merged_hh.quartile==1)].groupby('zone_id').size()\n",
      "zonal_indicators['piq22'] = merged_hh[(merged_hh.persons==2)*(merged_hh.quartile==2)].groupby('zone_id').size()\n",
      "zonal_indicators['piq23'] = merged_hh[(merged_hh.persons==2)*(merged_hh.quartile==3)].groupby('zone_id').size()\n",
      "zonal_indicators['piq24'] = merged_hh[(merged_hh.persons==2)*(merged_hh.quartile==4)].groupby('zone_id').size()\n",
      "zonal_indicators['piq31'] = merged_hh[(merged_hh.persons==3)*(merged_hh.quartile==1)].groupby('zone_id').size()\n",
      "zonal_indicators['piq32'] = merged_hh[(merged_hh.persons==3)*(merged_hh.quartile==2)].groupby('zone_id').size()\n",
      "zonal_indicators['piq33'] = merged_hh[(merged_hh.persons==3)*(merged_hh.quartile==3)].groupby('zone_id').size()\n",
      "zonal_indicators['piq34'] = merged_hh[(merged_hh.persons==3)*(merged_hh.quartile==4)].groupby('zone_id').size()\n",
      "zonal_indicators['piq41'] = merged_hh[(merged_hh.persons==4)*(merged_hh.quartile==1)].groupby('zone_id').size()\n",
      "zonal_indicators['piq42'] = merged_hh[(merged_hh.persons==4)*(merged_hh.quartile==2)].groupby('zone_id').size()\n",
      "zonal_indicators['piq43'] = merged_hh[(merged_hh.persons==4)*(merged_hh.quartile==3)].groupby('zone_id').size()\n",
      "zonal_indicators['piq44'] = merged_hh[(merged_hh.persons==4)*(merged_hh.quartile==4)].groupby('zone_id').size()\n",
      "zonal_indicators['piq51'] = merged_hh[(merged_hh.persons==5)*(merged_hh.quartile==1)].groupby('zone_id').size()\n",
      "zonal_indicators['piq52'] = merged_hh[(merged_hh.persons==5)*(merged_hh.quartile==2)].groupby('zone_id').size()\n",
      "zonal_indicators['piq53'] = merged_hh[(merged_hh.persons==5)*(merged_hh.quartile==3)].groupby('zone_id').size()\n",
      "zonal_indicators['piq54'] = merged_hh[(merged_hh.persons==5)*(merged_hh.quartile==4)].groupby('zone_id').size()"
     ],
     "language": "python",
     "metadata": {},
     "outputs": [],
     "prompt_number": 21
    },
    {
     "cell_type": "code",
     "collapsed": false,
     "input": [
      "zonal_indicators['wkau10'] = merged_hh[(merged_hh.workers==1)*(merged_hh.cars==0)].groupby('zone_id').size()\n",
      "zonal_indicators['wkau10'] = merged_hh[(merged_hh.workers==1)*(merged_hh.cars==1)].groupby('zone_id').size()\n",
      "zonal_indicators['wkau10'] = merged_hh[(merged_hh.workers==1)*(merged_hh.cars==2)].groupby('zone_id').size()\n",
      "zonal_indicators['wkau10'] = merged_hh[(merged_hh.workers==1)*(merged_hh.cars>=3)].groupby('zone_id').size()\n",
      "zonal_indicators['wkau10'] = merged_hh[(merged_hh.workers==2)*(merged_hh.cars==0)].groupby('zone_id').size()\n",
      "zonal_indicators['wkau10'] = merged_hh[(merged_hh.workers==2)*(merged_hh.cars==1)].groupby('zone_id').size()\n",
      "zonal_indicators['wkau10'] = merged_hh[(merged_hh.workers==2)*(merged_hh.cars==2)].groupby('zone_id').size()\n",
      "zonal_indicators['wkau10'] = merged_hh[(merged_hh.workers==2)*(merged_hh.cars>=3)].groupby('zone_id').size()\n",
      "zonal_indicators['wkau10'] = merged_hh[(merged_hh.workers>=3)*(merged_hh.cars==0)].groupby('zone_id').size()\n",
      "zonal_indicators['wkau10'] = merged_hh[(merged_hh.workers>=3)*(merged_hh.cars==1)].groupby('zone_id').size()\n",
      "zonal_indicators['wkau10'] = merged_hh[(merged_hh.workers>=3)*(merged_hh.cars==2)].groupby('zone_id').size()\n",
      "zonal_indicators['wkau10'] = merged_hh[(merged_hh.workers>=3)*(merged_hh.cars>=3)].groupby('zone_id').size()\n",
      "\n",
      "zonal_indicators['prau10'] = merged_hh[(merged_hh.persons==1)*(merged_hh.cars==0)].groupby('zone_id').size()\n",
      "zonal_indicators['prau11'] = merged_hh[(merged_hh.persons==1)*(merged_hh.cars==1)].groupby('zone_id').size()\n",
      "zonal_indicators['prau12'] = merged_hh[(merged_hh.persons==1)*(merged_hh.cars==2)].groupby('zone_id').size()\n",
      "zonal_indicators['prau13'] = merged_hh[(merged_hh.persons==1)*(merged_hh.cars>=3)].groupby('zone_id').size()\n",
      "zonal_indicators['prau20'] = merged_hh[(merged_hh.persons==2)*(merged_hh.cars==0)].groupby('zone_id').size()\n",
      "zonal_indicators['prau21'] = merged_hh[(merged_hh.persons==2)*(merged_hh.cars==1)].groupby('zone_id').size()\n",
      "zonal_indicators['prau22'] = merged_hh[(merged_hh.persons==2)*(merged_hh.cars==2)].groupby('zone_id').size()\n",
      "zonal_indicators['prau23'] = merged_hh[(merged_hh.persons==2)*(merged_hh.cars>=3)].groupby('zone_id').size()\n",
      "zonal_indicators['prau30'] = merged_hh[(merged_hh.persons==3)*(merged_hh.cars==0)].groupby('zone_id').size()\n",
      "zonal_indicators['prau31'] = merged_hh[(merged_hh.persons==3)*(merged_hh.cars==1)].groupby('zone_id').size()\n",
      "zonal_indicators['prau32'] = merged_hh[(merged_hh.persons==3)*(merged_hh.cars==2)].groupby('zone_id').size()\n",
      "zonal_indicators['prau33'] = merged_hh[(merged_hh.persons==3)*(merged_hh.cars>=3)].groupby('zone_id').size()\n",
      "zonal_indicators['prau40'] = merged_hh[(merged_hh.persons==4)*(merged_hh.cars==0)].groupby('zone_id').size()\n",
      "zonal_indicators['prau41'] = merged_hh[(merged_hh.persons==4)*(merged_hh.cars==1)].groupby('zone_id').size()\n",
      "zonal_indicators['prau42'] = merged_hh[(merged_hh.persons==4)*(merged_hh.cars==2)].groupby('zone_id').size()\n",
      "zonal_indicators['prau43'] = merged_hh[(merged_hh.persons==4)*(merged_hh.cars>=3)].groupby('zone_id').size()\n",
      "zonal_indicators['prau50'] = merged_hh[(merged_hh.persons==5)*(merged_hh.cars==0)].groupby('zone_id').size()\n",
      "zonal_indicators['prau51'] = merged_hh[(merged_hh.persons==5)*(merged_hh.cars==1)].groupby('zone_id').size()\n",
      "zonal_indicators['prau52'] = merged_hh[(merged_hh.persons==5)*(merged_hh.cars==2)].groupby('zone_id').size()\n",
      "zonal_indicators['prau53'] = merged_hh[(merged_hh.persons==5)*(merged_hh.cars>=3)].groupby('zone_id').size()\n",
      "\n",
      "zonal_indicators['inc1w0'] = merged_hh[(merged_hh.quartile==1)*(merged_hh.workers==0)].groupby('zone_id').size()\n",
      "zonal_indicators['inc1w1'] = merged_hh[(merged_hh.quartile==1)*(merged_hh.workers==1)].groupby('zone_id').size()\n",
      "zonal_indicators['inc1w2'] = merged_hh[(merged_hh.quartile==1)*(merged_hh.workers==2)].groupby('zone_id').size()\n",
      "zonal_indicators['inc1w3'] = merged_hh[(merged_hh.quartile==1)*(merged_hh.workers>=3)].groupby('zone_id').size()\n",
      "zonal_indicators['inc2w0'] = merged_hh[(merged_hh.quartile==2)*(merged_hh.workers==0)].groupby('zone_id').size()\n",
      "zonal_indicators['inc2w1'] = merged_hh[(merged_hh.quartile==2)*(merged_hh.workers==1)].groupby('zone_id').size()\n",
      "zonal_indicators['inc2w2'] = merged_hh[(merged_hh.quartile==2)*(merged_hh.workers==2)].groupby('zone_id').size()\n",
      "zonal_indicators['inc2w3'] = merged_hh[(merged_hh.quartile==2)*(merged_hh.workers>=3)].groupby('zone_id').size()\n",
      "zonal_indicators['inc3w0'] = merged_hh[(merged_hh.quartile==3)*(merged_hh.workers==0)].groupby('zone_id').size()\n",
      "zonal_indicators['inc3w1'] = merged_hh[(merged_hh.quartile==3)*(merged_hh.workers==1)].groupby('zone_id').size()\n",
      "zonal_indicators['inc3w2'] = merged_hh[(merged_hh.quartile==3)*(merged_hh.workers==2)].groupby('zone_id').size()\n",
      "zonal_indicators['inc3w3'] = merged_hh[(merged_hh.quartile==3)*(merged_hh.workers>=3)].groupby('zone_id').size()\n",
      "zonal_indicators['inc4w0'] = merged_hh[(merged_hh.quartile==4)*(merged_hh.workers==0)].groupby('zone_id').size()\n",
      "zonal_indicators['inc4w1'] = merged_hh[(merged_hh.quartile==4)*(merged_hh.workers==1)].groupby('zone_id').size()\n",
      "zonal_indicators['inc4w2'] = merged_hh[(merged_hh.quartile==4)*(merged_hh.workers==2)].groupby('zone_id').size()\n",
      "zonal_indicators['inc4w3'] = merged_hh[(merged_hh.quartile==4)*(merged_hh.workers>=3)].groupby('zone_id').size()"
     ],
     "language": "python",
     "metadata": {},
     "outputs": [],
     "prompt_number": 25
    },
    {
     "cell_type": "code",
     "collapsed": false,
     "input": [
      "enroll_ratios = pd.read_csv(\"data/enroll_ratio_by_taz.csv\")\n",
      "print enroll_ratios\n",
      "enroll_ratios = pd.merge(enroll_ratios,school_age_by_district,left_on='school_district_id',right_index=True)"
     ],
     "language": "python",
     "metadata": {},
     "outputs": [
      {
       "output_type": "stream",
       "stream": "stdout",
       "text": [
        "      school_id  TotalEnrol  zone_2000_id  zone_id  school_district_id  \\\n",
        "0          9365         693          1664    29833               63240   \n",
        "1          7497         814          1649    29802               63240   \n",
        "2          2684         334          1667    29836               63240   \n",
        "3          3496         539          1659    29803               63240   \n",
        "4          3521        1242          1652    29812               63240   \n",
        "5          8894         557          1653    29821               63240   \n",
        "6          7523         876          1659    29827               63240   \n",
        "7          9415         906          1664    29833               63240   \n",
        "8          8801         411          2696    70022               63240   \n",
        "9          3522         370          1648    29801               63240   \n",
        "10         3380         306          2385    43507               63240   \n",
        "11         9330          28          1659    29827               63240   \n",
        "12         7720         420          2747    71112               47080   \n",
        "13         3038        1467          2745    71003               47080   \n",
        "14         3037         242          2743    71002               47080   \n",
        "15         4717         170          2745    71003               47080   \n",
        "16         8715         709          2741    70603               47080   \n",
        "17         6553         676          2741    70603               47080   \n",
        "18         8618         386          2741    70603               47080   \n",
        "19         1573         360          1745    31040               50130   \n",
        "20          116         403          1750    31111               50130   \n",
        "21         1499         299          1755    31132               50130   \n",
        "22          677         847          1755    31132               50130   \n",
        "23         2105        1322          1749    31102               50130   \n",
        "24         3124         304          1748    31101               50130   \n",
        "25         3353         339          1749    31102               50130   \n",
        "26         8781          40          1748    31101               50130   \n",
        "27         3713         257          1755    31132               50130   \n",
        "28         9208         540          1970    34102               50040   \n",
        "29           88         925          1970    34102               50040   \n",
        "...         ...         ...           ...      ...                 ...   \n",
        "1546       1260         312           539    13560               82405   \n",
        "1547       3990         262           539    13560               82405   \n",
        "1548        681         313           529    13521               82405   \n",
        "1549       5945         262           533    13531               82405   \n",
        "1550       2956         678           534    13532               82405   \n",
        "1551       1216         502           765    17321               82080   \n",
        "1552       1840        1431           766    17322               82080   \n",
        "1553        545         556           765    17321               82080   \n",
        "1554       2964         458           765    17321               82080   \n",
        "1555       8799         735           675    16010               82130   \n",
        "1556       8898         329           675    16010               82130   \n",
        "1557       3260        1107           686    16300               82130   \n",
        "1558       6678         768           688    16312               82130   \n",
        "1559       6590         421           688    16312               82130   \n",
        "1560       9025         184           710    16600               82130   \n",
        "1561       6679         378           710    16600               82130   \n",
        "1562       6680         398           715    16642               82130   \n",
        "1563       9295          27           710    16600               82130   \n",
        "1564       9295          27           710    16600               82130   \n",
        "1565        124         320           783    18012               82140   \n",
        "1566       8950         274           781    18000               82140   \n",
        "1567       8261           1           781    18000               82140   \n",
        "1568       1239         447           782    18011               82140   \n",
        "1569       1941         743           782    18011               82140   \n",
        "1570       2149        1077           788    18120               82140   \n",
        "1571       1888         305           804    18410               82140   \n",
        "1572       4167         343           785    18022               82140   \n",
        "1573       3997         203           785    18022               82140   \n",
        "1574       1762          36           784    18021               82140   \n",
        "1575       4981           0           781    18000               82140   \n",
        "\n",
        "                              NAME  schage_children  enroll_ratio  \n",
        "0     South Lyon Community Schools             8075      0.085820  \n",
        "1     South Lyon Community Schools             8075      0.100805  \n",
        "2     South Lyon Community Schools             8075      0.041362  \n",
        "3     South Lyon Community Schools             8075      0.066749  \n",
        "4     South Lyon Community Schools             8075      0.153808  \n",
        "5     South Lyon Community Schools             8075      0.068978  \n",
        "6     South Lyon Community Schools             8075      0.108483  \n",
        "7     South Lyon Community Schools             8075      0.112198  \n",
        "8     South Lyon Community Schools             8075      0.050898  \n",
        "9     South Lyon Community Schools             8075      0.045820  \n",
        "10    South Lyon Community Schools             8075      0.037895  \n",
        "11    South Lyon Community Schools             8075      0.003467  \n",
        "12      Pinckney Community Schools             5208      0.080645  \n",
        "13      Pinckney Community Schools             5208      0.281682  \n",
        "14      Pinckney Community Schools             5208      0.046467  \n",
        "15      Pinckney Community Schools             5208      0.032642  \n",
        "16      Pinckney Community Schools             5208      0.136137  \n",
        "17      Pinckney Community Schools             5208      0.129800  \n",
        "18      Pinckney Community Schools             5208      0.074117  \n",
        "19         Lakeview Public Schools             2819      0.127705  \n",
        "20         Lakeview Public Schools             2819      0.142958  \n",
        "21         Lakeview Public Schools             2819      0.106066  \n",
        "22         Lakeview Public Schools             2819      0.300461  \n",
        "23         Lakeview Public Schools             2819      0.468961  \n",
        "24         Lakeview Public Schools             2819      0.107840  \n",
        "25         Lakeview Public Schools             2819      0.120255  \n",
        "26         Lakeview Public Schools             2819      0.014189  \n",
        "27         Lakeview Public Schools             2819      0.091167  \n",
        "28              Anchor Bay Schools             6966      0.077519  \n",
        "29              Anchor Bay Schools             6966      0.132788  \n",
        "...                            ...              ...           ...  \n",
        "1546   Southgate Community Schools             4827      0.064636  \n",
        "1547   Southgate Community Schools             4827      0.054278  \n",
        "1548   Southgate Community Schools             4827      0.064844  \n",
        "1549   Southgate Community Schools             4827      0.054278  \n",
        "1550   Southgate Community Schools             4827      0.140460  \n",
        "1551        Inkster Public Schools             2290      0.219214  \n",
        "1552        Inkster Public Schools             2290      0.624891  \n",
        "1553        Inkster Public Schools             2290      0.242795  \n",
        "1554        Inkster Public Schools             2290      0.200000  \n",
        "1555     Romulus Community Schools             4585      0.160305  \n",
        "1556     Romulus Community Schools             4585      0.071756  \n",
        "1557     Romulus Community Schools             4585      0.241439  \n",
        "1558     Romulus Community Schools             4585      0.167503  \n",
        "1559     Romulus Community Schools             4585      0.091821  \n",
        "1560     Romulus Community Schools             4585      0.040131  \n",
        "1561     Romulus Community Schools             4585      0.082443  \n",
        "1562     Romulus Community Schools             4585      0.086805  \n",
        "1563     Romulus Community Schools             4585      0.005889  \n",
        "1564     Romulus Community Schools             4585      0.005889  \n",
        "1565         South Redford Schools             4082      0.078393  \n",
        "1566         South Redford Schools             4082      0.067124  \n",
        "1567         South Redford Schools             4082      0.000245  \n",
        "1568         South Redford Schools             4082      0.109505  \n",
        "1569         South Redford Schools             4082      0.182019  \n",
        "1570         South Redford Schools             4082      0.263841  \n",
        "1571         South Redford Schools             4082      0.074718  \n",
        "1572         South Redford Schools             4082      0.084027  \n",
        "1573         South Redford Schools             4082      0.049731  \n",
        "1574         South Redford Schools             4082      0.008819  \n",
        "1575         South Redford Schools             4082      0.000000  \n",
        "\n",
        "[1576 rows x 8 columns]\n"
       ]
      }
     ],
     "prompt_number": 39
    },
    {
     "cell_type": "code",
     "collapsed": false,
     "input": [
      "enroll_ratios['enrolled'] = enroll_ratios.enroll_ratio*enroll_ratios.children\n",
      "enrolled = enroll_ratios.groupby('zone_id').enrolled.sum()"
     ],
     "language": "python",
     "metadata": {},
     "outputs": [],
     "prompt_number": 43
    },
    {
     "cell_type": "code",
     "collapsed": false,
     "input": [
      "enrolled"
     ],
     "language": "python",
     "metadata": {},
     "outputs": [
      {
       "metadata": {},
       "output_type": "pyout",
       "prompt_number": 44,
       "text": [
        "zone_id\n",
        "1104        672.804140\n",
        "1112        516.533989\n",
        "1114        207.736469\n",
        "1122        396.757996\n",
        "1212        576.421986\n",
        "1221       1342.801097\n",
        "1231        401.436764\n",
        "1302       1281.977372\n",
        "1313          6.555969\n",
        "1401          0.000000\n",
        "1402        334.062686\n",
        "1421        502.497685\n",
        "1422        591.393888\n",
        "1501       1011.545593\n",
        "1511        447.288456\n",
        "...\n",
        "70405       565.753847\n",
        "70522       716.449953\n",
        "70603      1798.204299\n",
        "71002       245.717359\n",
        "71003      1662.145931\n",
        "71112       426.451611\n",
        "72012      4142.735671\n",
        "72021       130.585118\n",
        "72022       727.986312\n",
        "73000       894.527125\n",
        "73021      4995.478410\n",
        "73022       506.277501\n",
        "73031       543.549467\n",
        "73201      3077.536136\n",
        "73301        27.734807\n",
        "Name: enrolled, Length: 1085, dtype: float64"
       ]
      }
     ],
     "prompt_number": 44
    },
    {
     "cell_type": "code",
     "collapsed": false,
     "input": [],
     "language": "python",
     "metadata": {},
     "outputs": [],
     "prompt_number": 20
    },
    {
     "cell_type": "code",
     "collapsed": false,
     "input": [
      "dset.households.persons"
     ],
     "language": "python",
     "metadata": {},
     "outputs": [
      {
       "metadata": {},
       "output_type": "pyout",
       "prompt_number": 15,
       "text": [
        "1116651    1\n",
        "1050163    1\n",
        "1274626    1\n",
        "1020390    3\n",
        "1153212    1\n",
        "1252211    1\n",
        "1179101    1\n",
        "1269646    5\n",
        "1213930    3\n",
        "1116270    2\n",
        "1207738    4\n",
        "1446656    6\n",
        "1024636    2\n",
        "1308308    2\n",
        "1108740    1\n",
        "...\n",
        "8434388    4\n",
        "8434389    4\n",
        "8434390    1\n",
        "8434391    1\n",
        "8434392    2\n",
        "8434393    2\n",
        "8434394    3\n",
        "8434395    4\n",
        "8434396    3\n",
        "8434397    3\n",
        "8434398    1\n",
        "8434399    1\n",
        "8434400    1\n",
        "8434401    1\n",
        "8434402    2\n",
        "Name: persons, Length: 1853537, dtype: float64"
       ]
      }
     ],
     "prompt_number": 15
    },
    {
     "cell_type": "code",
     "collapsed": true,
     "input": [
      "import os\n",
      "dset.save_output(os.path.join(misc.runs_dir(), \"run%d.h5\" % runnum))"
     ],
     "language": "python",
     "metadata": {},
     "outputs": [
      {
       "output_type": "stream",
       "stream": "stdout",
       "text": [
        "Writing travel_data to disk\n",
        "Writing zones to disk"
       ]
      },
      {
       "output_type": "stream",
       "stream": "stdout",
       "text": [
        "\n",
        "Writing buildings to disk"
       ]
      },
      {
       "output_type": "stream",
       "stream": "stdout",
       "text": [
        "\n",
        "Writing jobs to disk"
       ]
      },
      {
       "output_type": "stream",
       "stream": "stdout",
       "text": [
        "\n",
        "Writing annual_employment_control_totals to disk"
       ]
      },
      {
       "output_type": "stream",
       "stream": "stdout",
       "text": [
        "\n",
        "Writing nodes_prices to disk\n",
        "Writing feasibility to disk"
       ]
      },
      {
       "output_type": "stream",
       "stream": "stdout",
       "text": [
        "\n",
        "Writing annual_relocation_rates_for_jobs to disk\n",
        "Writing households to disk"
       ]
      },
      {
       "output_type": "stream",
       "stream": "stdout",
       "text": [
        "\n",
        "Writing persons to disk"
       ]
      },
      {
       "output_type": "stream",
       "stream": "stdout",
       "text": [
        "\n",
        "Writing annual_household_control_totals to disk"
       ]
      },
      {
       "output_type": "stream",
       "stream": "stdout",
       "text": [
        "\n",
        "Writing building_sqft_per_job to disk\n",
        "Writing annual_relocation_rates_for_households to disk"
       ]
      },
      {
       "output_type": "stream",
       "stream": "stdout",
       "text": [
        "\n",
        "Writing nodes to disk\n",
        "Writing cities to disk"
       ]
      },
      {
       "output_type": "stream",
       "stream": "stdout",
       "text": [
        "\n",
        "Writing parcels to disk"
       ]
      },
      {
       "output_type": "stream",
       "stream": "stdout",
       "text": [
        "\n"
       ]
      }
     ],
     "prompt_number": 6
    }
   ],
   "metadata": {}
  }
 ]
}