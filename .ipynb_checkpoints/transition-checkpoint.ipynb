{
 "metadata": {
  "name": "",
  "signature": "sha256:63bc20dd17829ad6724e7128ecbd13f5517e4b6721c2c06985d1956f5569701d"
 },
 "nbformat": 3,
 "nbformat_minor": 0,
 "worksheets": [
  {
   "cells": [
    {
     "cell_type": "code",
     "collapsed": false,
     "input": [
      "%load_ext autoreload\n",
      "%autoreload 2\n",
      "%aimport models\n",
      "%aimport dataset\n",
      "import pandas as pd, numpy as np\n",
      "from urbansim.models import transition, relocation"
     ],
     "language": "python",
     "metadata": {},
     "outputs": [],
     "prompt_number": 1
    },
    {
     "cell_type": "code",
     "collapsed": false,
     "input": [
      "dset = dataset.SemcogDataset(\"data/semcog_data.h5\")\n",
      "print len(dset.households)\n",
      "hh_by_lid = dset.households.groupby('large_area_id').size()\n",
      "print hh_by_lid"
     ],
     "language": "python",
     "metadata": {},
     "outputs": [
      {
       "output_type": "stream",
       "stream": "stdout",
       "text": [
        "Fetching cities\n",
        "Fetching households\n",
        "1844780"
       ]
      },
      {
       "output_type": "stream",
       "stream": "stdout",
       "text": [
        "\n",
        "large_area_id\n",
        "3                433325\n",
        "5                269445\n",
        "93                67380\n",
        "99               331668\n",
        "115               58230\n",
        "125              483698\n",
        "147               63841\n",
        "161              137193\n",
        "dtype: int64"
       ]
      },
      {
       "output_type": "stream",
       "stream": "stdout",
       "text": [
        "\n"
       ]
      }
     ],
     "prompt_number": 2
    },
    {
     "cell_type": "code",
     "collapsed": false,
     "input": [
      "ct = dset.fetch('annual_household_control_totals')\n",
      "ct = ct.reset_index().groupby(['year','large_area_id','race_id']).total_number_of_households.sum().reset_index().set_index('year')\n",
      "tran = transition.TabularTotalsTransition(ct, 'total_number_of_households')\n",
      "model = transition.TransitionModel(tran)\n",
      "new, added_hh_idx, new_linked = \\\n",
      "    model.transition(dset.households, 2013,\n",
      "                     linked_tables={'linked': (dset.persons, 'household_id')})\n",
      "new.loc[added_hh_idx, \"building_id\"] = np.nan\n",
      "new.building_id[new.building_id==-1] = np.nan\n"
     ],
     "language": "python",
     "metadata": {},
     "outputs": [
      {
       "output_type": "stream",
       "stream": "stdout",
       "text": [
        "Fetching annual_household_control_totals\n",
        "Fetching persons"
       ]
      },
      {
       "output_type": "stream",
       "stream": "stdout",
       "text": [
        "\n"
       ]
      }
     ],
     "prompt_number": 3
    },
    {
     "cell_type": "code",
     "collapsed": false,
     "input": [
      "ct = dset.fetch('annual_household_control_totals')\n",
      "#ct = ct.reset_index().groupby(['year','large_area_id','race_id']).total_number_of_households.sum().reset_index().set_index('year')\n",
      "tran = transition.TabularTotalsTransition(ct, 'total_number_of_households')\n",
      "model = transition.TransitionModel(tran)\n",
      "new, added_hh_idx, new_linked = \\\n",
      "    model.transition(dset.households, 2013,\n",
      "                     linked_tables={'linked': (dset.persons, 'household_id')})\n",
      "new.loc[added_hh_idx, \"building_id\"] = np.nan\n",
      "new.building_id[new.building_id==-1] = np.nan\n"
     ],
     "language": "python",
     "metadata": {},
     "outputs": [
      {
       "output_type": "stream",
       "stream": "stdout",
       "text": [
        "Fetching annual_household_control_totals\n",
        "Fetching persons\n"
       ]
      },
      {
       "ename": "ValueError",
       "evalue": "low >= high",
       "output_type": "pyerr",
       "traceback": [
        "\u001b[1;31m---------------------------------------------------------------------------\u001b[0m\n\u001b[1;31mValueError\u001b[0m                                Traceback (most recent call last)",
        "\u001b[1;32m<ipython-input-3-2f4325c9813a>\u001b[0m in \u001b[0;36m<module>\u001b[1;34m()\u001b[0m\n\u001b[0;32m      4\u001b[0m \u001b[0mmodel\u001b[0m \u001b[1;33m=\u001b[0m \u001b[0mtransition\u001b[0m\u001b[1;33m.\u001b[0m\u001b[0mTransitionModel\u001b[0m\u001b[1;33m(\u001b[0m\u001b[0mtran\u001b[0m\u001b[1;33m)\u001b[0m\u001b[1;33m\u001b[0m\u001b[0m\n\u001b[0;32m      5\u001b[0m new, added_hh_idx, new_linked =     model.transition(dset.households, 2013,\n\u001b[1;32m----> 6\u001b[1;33m                      linked_tables={'linked': (dset.persons, 'household_id')})\n\u001b[0m\u001b[0;32m      7\u001b[0m \u001b[0mnew\u001b[0m\u001b[1;33m.\u001b[0m\u001b[0mloc\u001b[0m\u001b[1;33m[\u001b[0m\u001b[0madded_hh_idx\u001b[0m\u001b[1;33m,\u001b[0m \u001b[1;34m\"building_id\"\u001b[0m\u001b[1;33m]\u001b[0m \u001b[1;33m=\u001b[0m \u001b[0mnp\u001b[0m\u001b[1;33m.\u001b[0m\u001b[0mnan\u001b[0m\u001b[1;33m\u001b[0m\u001b[0m\n\u001b[0;32m      8\u001b[0m \u001b[0mnew\u001b[0m\u001b[1;33m.\u001b[0m\u001b[0mbuilding_id\u001b[0m\u001b[1;33m[\u001b[0m\u001b[0mnew\u001b[0m\u001b[1;33m.\u001b[0m\u001b[0mbuilding_id\u001b[0m\u001b[1;33m==\u001b[0m\u001b[1;33m-\u001b[0m\u001b[1;36m1\u001b[0m\u001b[1;33m]\u001b[0m \u001b[1;33m=\u001b[0m \u001b[0mnp\u001b[0m\u001b[1;33m.\u001b[0m\u001b[0mnan\u001b[0m\u001b[1;33m\u001b[0m\u001b[0m\n",
        "\u001b[1;32mc:\\urbansim\\urbansim\\models\\transition.py\u001b[0m in \u001b[0;36mtransition\u001b[1;34m(self, data, year, linked_tables)\u001b[0m\n\u001b[0;32m    490\u001b[0m \u001b[1;33m\u001b[0m\u001b[0m\n\u001b[0;32m    491\u001b[0m         \u001b[1;32mwith\u001b[0m \u001b[0mlog_start_finish\u001b[0m\u001b[1;33m(\u001b[0m\u001b[1;34m'add/remove rows'\u001b[0m\u001b[1;33m,\u001b[0m \u001b[0mlogger\u001b[0m\u001b[1;33m)\u001b[0m\u001b[1;33m:\u001b[0m\u001b[1;33m\u001b[0m\u001b[0m\n\u001b[1;32m--> 492\u001b[1;33m             \u001b[0mupdated\u001b[0m\u001b[1;33m,\u001b[0m \u001b[0madded\u001b[0m\u001b[1;33m,\u001b[0m \u001b[0mcopied\u001b[0m\u001b[1;33m,\u001b[0m \u001b[0mremoved\u001b[0m \u001b[1;33m=\u001b[0m \u001b[0mself\u001b[0m\u001b[1;33m.\u001b[0m\u001b[0mtransitioner\u001b[0m\u001b[1;33m(\u001b[0m\u001b[0mdata\u001b[0m\u001b[1;33m,\u001b[0m \u001b[0myear\u001b[0m\u001b[1;33m)\u001b[0m\u001b[1;33m\u001b[0m\u001b[0m\n\u001b[0m\u001b[0;32m    493\u001b[0m \u001b[1;33m\u001b[0m\u001b[0m\n\u001b[0;32m    494\u001b[0m         \u001b[1;32mfor\u001b[0m \u001b[0mtable_name\u001b[0m\u001b[1;33m,\u001b[0m \u001b[1;33m(\u001b[0m\u001b[0mtable\u001b[0m\u001b[1;33m,\u001b[0m \u001b[0mcol\u001b[0m\u001b[1;33m)\u001b[0m \u001b[1;32min\u001b[0m \u001b[0mlinked_tables\u001b[0m\u001b[1;33m.\u001b[0m\u001b[0miteritems\u001b[0m\u001b[1;33m(\u001b[0m\u001b[1;33m)\u001b[0m\u001b[1;33m:\u001b[0m\u001b[1;33m\u001b[0m\u001b[0m\n",
        "\u001b[1;32mc:\\urbansim\\urbansim\\models\\transition.py\u001b[0m in \u001b[0;36m__call__\u001b[1;34m(self, data, year)\u001b[0m\n\u001b[0;32m    309\u001b[0m \u001b[1;33m\u001b[0m\u001b[0m\n\u001b[0;32m    310\u001b[0m         \"\"\"\n\u001b[1;32m--> 311\u001b[1;33m         \u001b[1;32mreturn\u001b[0m \u001b[0mself\u001b[0m\u001b[1;33m.\u001b[0m\u001b[0mtransition\u001b[0m\u001b[1;33m(\u001b[0m\u001b[0mdata\u001b[0m\u001b[1;33m,\u001b[0m \u001b[0myear\u001b[0m\u001b[1;33m)\u001b[0m\u001b[1;33m\u001b[0m\u001b[0m\n\u001b[0m\u001b[0;32m    312\u001b[0m \u001b[1;33m\u001b[0m\u001b[0m\n\u001b[0;32m    313\u001b[0m \u001b[1;33m\u001b[0m\u001b[0m\n",
        "\u001b[1;32mc:\\urbansim\\urbansim\\models\\transition.py\u001b[0m in \u001b[0;36mtransition\u001b[1;34m(self, data, year)\u001b[0m\n\u001b[0;32m    385\u001b[0m         \"\"\"\n\u001b[0;32m    386\u001b[0m         \u001b[1;32mwith\u001b[0m \u001b[0mlog_start_finish\u001b[0m\u001b[1;33m(\u001b[0m\u001b[1;34m'tabular totals transition'\u001b[0m\u001b[1;33m,\u001b[0m \u001b[0mlogger\u001b[0m\u001b[1;33m)\u001b[0m\u001b[1;33m:\u001b[0m\u001b[1;33m\u001b[0m\u001b[0m\n\u001b[1;32m--> 387\u001b[1;33m             \u001b[1;32mreturn\u001b[0m \u001b[0msuper\u001b[0m\u001b[1;33m(\u001b[0m\u001b[0mTabularTotalsTransition\u001b[0m\u001b[1;33m,\u001b[0m \u001b[0mself\u001b[0m\u001b[1;33m)\u001b[0m\u001b[1;33m.\u001b[0m\u001b[0mtransition\u001b[0m\u001b[1;33m(\u001b[0m\u001b[0mdata\u001b[0m\u001b[1;33m,\u001b[0m \u001b[0myear\u001b[0m\u001b[1;33m)\u001b[0m\u001b[1;33m\u001b[0m\u001b[0m\n\u001b[0m\u001b[0;32m    388\u001b[0m \u001b[1;33m\u001b[0m\u001b[0m\n\u001b[0;32m    389\u001b[0m \u001b[1;33m\u001b[0m\u001b[0m\n",
        "\u001b[1;32mc:\\urbansim\\urbansim\\models\\transition.py\u001b[0m in \u001b[0;36mtransition\u001b[1;34m(self, data, year)\u001b[0m\n\u001b[0;32m    287\u001b[0m             \u001b[0mnrows\u001b[0m \u001b[1;33m=\u001b[0m \u001b[0mself\u001b[0m\u001b[1;33m.\u001b[0m\u001b[0m_calc_nrows\u001b[0m\u001b[1;33m(\u001b[0m\u001b[0mlen\u001b[0m\u001b[1;33m(\u001b[0m\u001b[0msubset\u001b[0m\u001b[1;33m)\u001b[0m\u001b[1;33m,\u001b[0m \u001b[0mrow\u001b[0m\u001b[1;33m[\u001b[0m\u001b[0mself\u001b[0m\u001b[1;33m.\u001b[0m\u001b[0m_config_column\u001b[0m\u001b[1;33m]\u001b[0m\u001b[1;33m)\u001b[0m\u001b[1;33m\u001b[0m\u001b[0m\n\u001b[0;32m    288\u001b[0m             \u001b[0mupdated\u001b[0m\u001b[1;33m,\u001b[0m \u001b[0madded\u001b[0m\u001b[1;33m,\u001b[0m \u001b[0mcopied\u001b[0m\u001b[1;33m,\u001b[0m \u001b[0mremoved\u001b[0m \u001b[1;33m=\u001b[0m\u001b[0;31m \u001b[0m\u001b[0;31m\\\u001b[0m\u001b[1;33m\u001b[0m\u001b[0m\n\u001b[1;32m--> 289\u001b[1;33m                 \u001b[0madd_or_remove_rows\u001b[0m\u001b[1;33m(\u001b[0m\u001b[0msubset\u001b[0m\u001b[1;33m,\u001b[0m \u001b[0mnrows\u001b[0m\u001b[1;33m,\u001b[0m \u001b[0mstarting_index\u001b[0m\u001b[1;33m)\u001b[0m\u001b[1;33m\u001b[0m\u001b[0m\n\u001b[0m\u001b[0;32m    290\u001b[0m             \u001b[1;32mif\u001b[0m \u001b[0mnrows\u001b[0m \u001b[1;33m>\u001b[0m \u001b[1;36m0\u001b[0m\u001b[1;33m:\u001b[0m\u001b[1;33m\u001b[0m\u001b[0m\n\u001b[0;32m    291\u001b[0m                 \u001b[1;31m# only update the starting index if rows were added\u001b[0m\u001b[1;33m\u001b[0m\u001b[1;33m\u001b[0m\u001b[0m\n",
        "\u001b[1;32mc:\\urbansim\\urbansim\\models\\transition.py\u001b[0m in \u001b[0;36madd_or_remove_rows\u001b[1;34m(data, nrows, starting_index)\u001b[0m\n\u001b[0;32m    126\u001b[0m     \"\"\"\n\u001b[0;32m    127\u001b[0m     \u001b[1;32mif\u001b[0m \u001b[0mnrows\u001b[0m \u001b[1;33m>\u001b[0m \u001b[1;36m0\u001b[0m\u001b[1;33m:\u001b[0m\u001b[1;33m\u001b[0m\u001b[0m\n\u001b[1;32m--> 128\u001b[1;33m         \u001b[0mupdated\u001b[0m\u001b[1;33m,\u001b[0m \u001b[0madded\u001b[0m\u001b[1;33m,\u001b[0m \u001b[0mcopied\u001b[0m \u001b[1;33m=\u001b[0m \u001b[0madd_rows\u001b[0m\u001b[1;33m(\u001b[0m\u001b[0mdata\u001b[0m\u001b[1;33m,\u001b[0m \u001b[0mnrows\u001b[0m\u001b[1;33m,\u001b[0m \u001b[0mstarting_index\u001b[0m\u001b[1;33m)\u001b[0m\u001b[1;33m\u001b[0m\u001b[0m\n\u001b[0m\u001b[0;32m    129\u001b[0m         \u001b[0mremoved\u001b[0m \u001b[1;33m=\u001b[0m \u001b[0m_empty_index\u001b[0m\u001b[1;33m(\u001b[0m\u001b[1;33m)\u001b[0m\u001b[1;33m\u001b[0m\u001b[0m\n\u001b[0;32m    130\u001b[0m \u001b[1;33m\u001b[0m\u001b[0m\n",
        "\u001b[1;32mc:\\urbansim\\urbansim\\models\\transition.py\u001b[0m in \u001b[0;36madd_rows\u001b[1;34m(data, nrows, starting_index)\u001b[0m\n\u001b[0;32m     54\u001b[0m         \u001b[0mstarting_index\u001b[0m \u001b[1;33m=\u001b[0m \u001b[0mdata\u001b[0m\u001b[1;33m.\u001b[0m\u001b[0mindex\u001b[0m\u001b[1;33m.\u001b[0m\u001b[0mvalues\u001b[0m\u001b[1;33m.\u001b[0m\u001b[0mmax\u001b[0m\u001b[1;33m(\u001b[0m\u001b[1;33m)\u001b[0m \u001b[1;33m+\u001b[0m \u001b[1;36m1\u001b[0m\u001b[1;33m\u001b[0m\u001b[0m\n\u001b[0;32m     55\u001b[0m \u001b[1;33m\u001b[0m\u001b[0m\n\u001b[1;32m---> 56\u001b[1;33m     \u001b[0mi_to_copy\u001b[0m \u001b[1;33m=\u001b[0m \u001b[0mnp\u001b[0m\u001b[1;33m.\u001b[0m\u001b[0mrandom\u001b[0m\u001b[1;33m.\u001b[0m\u001b[0mchoice\u001b[0m\u001b[1;33m(\u001b[0m\u001b[0mdata\u001b[0m\u001b[1;33m.\u001b[0m\u001b[0mindex\u001b[0m\u001b[1;33m.\u001b[0m\u001b[0mvalues\u001b[0m\u001b[1;33m,\u001b[0m \u001b[0mnrows\u001b[0m\u001b[1;33m)\u001b[0m\u001b[1;33m\u001b[0m\u001b[0m\n\u001b[0m\u001b[0;32m     57\u001b[0m     \u001b[0mnew_rows\u001b[0m \u001b[1;33m=\u001b[0m \u001b[0mdata\u001b[0m\u001b[1;33m.\u001b[0m\u001b[0mloc\u001b[0m\u001b[1;33m[\u001b[0m\u001b[0mi_to_copy\u001b[0m\u001b[1;33m]\u001b[0m\u001b[1;33m.\u001b[0m\u001b[0mcopy\u001b[0m\u001b[1;33m(\u001b[0m\u001b[1;33m)\u001b[0m\u001b[1;33m\u001b[0m\u001b[0m\n\u001b[0;32m     58\u001b[0m     added_index = pd.Index(np.arange(\n",
        "\u001b[1;32mc:\\Anaconda\\lib\\site-packages\\numpy\\random\\mtrand.pyd\u001b[0m in \u001b[0;36mmtrand.RandomState.choice (numpy\\random\\mtrand\\mtrand.c:8311)\u001b[1;34m()\u001b[0m\n",
        "\u001b[1;32mc:\\Anaconda\\lib\\site-packages\\numpy\\random\\mtrand.pyd\u001b[0m in \u001b[0;36mmtrand.RandomState.randint (numpy\\random\\mtrand\\mtrand.c:7263)\u001b[1;34m()\u001b[0m\n",
        "\u001b[1;31mValueError\u001b[0m: low >= high"
       ]
      }
     ],
     "prompt_number": 3
    },
    {
     "cell_type": "code",
     "collapsed": false,
     "input": [
      "relocation_rates = dset.fetch('annual_relocation_rates_for_households')\n",
      "relocation_rates = relocation_rates.rename(columns={'age_max': 'age_of_head_max', 'age_min': 'age_of_head_min'})\n",
      "print relocation_rates.columns\n",
      "relocation_rates.probability_of_relocating = relocation_rates.probability_of_relocating*.05"
     ],
     "language": "python",
     "metadata": {},
     "outputs": [
      {
       "output_type": "stream",
       "stream": "stdout",
       "text": [
        "Index([u'age_of_head_max', u'age_of_head_min', u'income_max', u'income_min', u'probability_of_relocating'], dtype='object')\n"
       ]
      }
     ],
     "prompt_number": 24
    },
    {
     "cell_type": "code",
     "collapsed": false,
     "input": [
      "reloc = relocation.RelocationModel(relocation_rates, 'probability_of_relocating')"
     ],
     "language": "python",
     "metadata": {},
     "outputs": [],
     "prompt_number": 15
    },
    {
     "cell_type": "code",
     "collapsed": false,
     "input": [
      "idx_reloc = reloc.find_movers(dset.households)"
     ],
     "language": "python",
     "metadata": {},
     "outputs": [],
     "prompt_number": 16
    },
    {
     "cell_type": "code",
     "collapsed": false,
     "input": [
      "dset.households.loc[idx_reloc, \"building_id\"] = np.nan"
     ],
     "language": "python",
     "metadata": {},
     "outputs": [],
     "prompt_number": 18
    },
    {
     "cell_type": "code",
     "collapsed": false,
     "input": [
      "relocation_rates = dset.fetch('annual_relocation_rates_for_jobs')\n",
      "relocation_rates.job_relocation_probability = relocation_rates.job_relocation_probability*.05\n",
      "reloc = relocation.RelocationModel(relocation_rates, 'job_relocation_probability')\n",
      "idx_reloc = reloc.find_movers(dset.jobs)\n",
      "dset.jobs.loc[idx_reloc, \"building_id\"] = np.nan"
     ],
     "language": "python",
     "metadata": {},
     "outputs": [
      {
       "output_type": "stream",
       "stream": "stdout",
       "text": [
        "Fetching jobs\n"
       ]
      }
     ],
     "prompt_number": 22
    },
    {
     "cell_type": "code",
     "collapsed": false,
     "input": [
      "len(idx_reloc)"
     ],
     "language": "python",
     "metadata": {},
     "outputs": [
      {
       "metadata": {},
       "output_type": "pyout",
       "prompt_number": 23,
       "text": [
        "5113"
       ]
      }
     ],
     "prompt_number": 23
    },
    {
     "cell_type": "code",
     "collapsed": false,
     "input": [
      "ct = dset.fetch('annual_household_control_totals')\n",
      "ct = ct.reset_index().groupby(['year','large_area_id']).total_number_of_households.sum().reset_index().set_index('year')\n",
      "tran = transition.TabularTotalsTransition(ct, 'total_number_of_households')\n",
      "model = transition.TransitionModel(tran)\n",
      "new, added_hh_idx, new_linked = \\\n",
      "    model.transition(dset.households, 2015,\n",
      "                     linked_tables={'linked': (dset.persons, 'household_id')})\n",
      "new.loc[added_hh_idx, \"building_id\"] = np.nan\n",
      "dset.save_tmptbl(\"households\", new)\n",
      "dset.save_tmptbl(\"persons\", new_linked['linked'])\n",
      "\n",
      "print len(added_hh_idx)\n",
      "print len(np.unique(added_hh_idx.values))\n",
      "print len(new.index.values)\n",
      "print len(np.unique(new.index.values))\n",
      "\n",
      "print len(dset.households)"
     ],
     "language": "python",
     "metadata": {},
     "outputs": []
    },
    {
     "cell_type": "code",
     "collapsed": false,
     "input": [],
     "language": "python",
     "metadata": {},
     "outputs": []
    },
    {
     "cell_type": "code",
     "collapsed": false,
     "input": [],
     "language": "python",
     "metadata": {},
     "outputs": []
    },
    {
     "cell_type": "code",
     "collapsed": false,
     "input": [
      "ct = dset.fetch('annual_household_control_totals')"
     ],
     "language": "python",
     "metadata": {},
     "outputs": [
      {
       "output_type": "stream",
       "stream": "stdout",
       "text": [
        "Fetching annual_household_control_totals\n"
       ]
      }
     ],
     "prompt_number": 3
    },
    {
     "cell_type": "code",
     "collapsed": false,
     "input": [
      "print dset.households.race_id\n",
      "print ct"
     ],
     "language": "python",
     "metadata": {},
     "outputs": [
      {
       "output_type": "stream",
       "stream": "stdout",
       "text": [
        "household_id\n",
        "1000001         1\n",
        "1000002         1\n",
        "1000003         1\n",
        "1000004         1\n",
        "1000005         1\n",
        "1000006         1\n",
        "1000007         1\n",
        "1000008         1\n",
        "1000009         1\n",
        "1000010         3\n",
        "1000011         1\n",
        "1000012         2\n",
        "1000013         2\n",
        "1000014         1\n",
        "1000015         1\n",
        "...\n",
        "8406575         1\n",
        "8406576         1\n",
        "8406577         1\n",
        "8406578         1\n",
        "8406579         1\n",
        "8406580         1\n",
        "8406581         1\n",
        "8406582         1\n",
        "8406583         1\n",
        "8406584         1\n",
        "8406585         1\n",
        "8406586         1\n",
        "8406587         1\n",
        "8406588         1\n",
        "8406589         1\n",
        "Name: race_id, Length: 1844780, dtype: int32\n",
        "      large_area_id  age_of_head_min  age_of_head_max  \\\n",
        "year                                                    \n",
        "2010              3                5               17   \n",
        "2010              3               18               34   \n",
        "2010              3               35               64   \n",
        "2010              3               65               -1   \n",
        "2010              5                5               17   \n",
        "2010              5               18               34   \n",
        "2010              5               35               64   \n",
        "2010              5               65               -1   \n",
        "2010             93                5               17   \n",
        "2010             93               18               34   \n",
        "2010             93               35               64   \n",
        "2010             93               65               -1   \n",
        "2010             99                5               17   \n",
        "2010             99               18               34   \n",
        "2010             99               35               64   \n",
        "2010             99               65               -1   \n",
        "2010            115                5               17   \n",
        "2010            115               18               34   \n",
        "2010            115               35               64   \n",
        "2010            115               65               -1   \n",
        "2010            125                5               17   \n",
        "2010            125               18               34   \n",
        "2010            125               35               64   \n",
        "2010            125               65               -1   \n",
        "2010            147                5               17   \n",
        "2010            147               18               34   \n",
        "2010            147               35               64   \n",
        "2010            147               65               -1   \n",
        "2010            161                5               17   \n",
        "2010            161               18               34   \n",
        "...             ...              ...              ...   \n",
        "2040              3               35               64   \n",
        "2040              3               65               -1   \n",
        "2040              5                5               17   \n",
        "2040              5               18               34   \n",
        "2040              5               35               64   \n",
        "2040              5               65               -1   \n",
        "2040             93                5               17   \n",
        "2040             93               18               34   \n",
        "2040             93               35               64   \n",
        "2040             93               65               -1   \n",
        "2040             99                5               17   \n",
        "2040             99               18               34   \n",
        "2040             99               35               64   \n",
        "2040             99               65               -1   \n",
        "2040            115                5               17   \n",
        "2040            115               18               34   \n",
        "2040            115               35               64   \n",
        "2040            115               65               -1   \n",
        "2040            125                5               17   \n",
        "2040            125               18               34   \n",
        "2040            125               35               64   \n",
        "2040            125               65               -1   \n",
        "2040            147                5               17   \n",
        "2040            147               18               34   \n",
        "2040            147               35               64   \n",
        "2040            147               65               -1   \n",
        "2040            161                5               17   \n",
        "2040            161               18               34   \n",
        "2040            161               35               64   \n",
        "2040            161               65               -1   \n",
        "\n",
        "      total_number_of_households  \n",
        "year                              \n",
        "2010                          70  \n",
        "2010                       72515  \n",
        "2010                      264051  \n",
        "2010                       96668  \n",
        "2010                         108  \n",
        "2010                       48958  \n",
        "2010                      161404  \n",
        "2010                       58975  \n",
        "2010                          13  \n",
        "2010                        8644  \n",
        "2010                       46700  \n",
        "2010                       12021  \n",
        "2010                          28  \n",
        "2010                       58131  \n",
        "2010                      196826  \n",
        "2010                       76683  \n",
        "2010                          18  \n",
        "2010                        8971  \n",
        "2010                       36127  \n",
        "2010                       13114  \n",
        "2010                          71  \n",
        "2010                       80447  \n",
        "2010                      304896  \n",
        "2010                       98284  \n",
        "2010                          43  \n",
        "2010                        9307  \n",
        "2010                       39716  \n",
        "2010                       14775  \n",
        "2010                          26  \n",
        "2010                       37047  \n",
        "...                          ...  \n",
        "2040                      221947  \n",
        "2040                      153222  \n",
        "2040                          95  \n",
        "2040                       38069  \n",
        "2040                      133266  \n",
        "2040                       84208  \n",
        "2040                          13  \n",
        "2040                       10838  \n",
        "2040                       42208  \n",
        "2040                       29162  \n",
        "2040                          35  \n",
        "2040                       60015  \n",
        "2040                      170506  \n",
        "2040                      140048  \n",
        "2040                          13  \n",
        "2040                        8718  \n",
        "2040                       32950  \n",
        "2040                       26142  \n",
        "2040                          56  \n",
        "2040                       82152  \n",
        "2040                      246254  \n",
        "2040                      181795  \n",
        "2040                          45  \n",
        "2040                        8840  \n",
        "2040                       34253  \n",
        "2040                       25822  \n",
        "2040                          50  \n",
        "2040                       35823  \n",
        "2040                       75977  \n",
        "2040                       52597  \n",
        "\n",
        "[992 rows x 4 columns]\n"
       ]
      }
     ],
     "prompt_number": 4
    },
    {
     "cell_type": "code",
     "collapsed": false,
     "input": [
      "ct = dset.fetch('annual_household_control_totals')\n",
      "ct = ct.reset_index().groupby(['year','large_area_id']).total_number_of_households.sum().reset_index().set_index('year')"
     ],
     "language": "python",
     "metadata": {},
     "outputs": [
      {
       "output_type": "stream",
       "stream": "stdout",
       "text": [
        "Fetching annual_household_control_totals\n"
       ]
      }
     ],
     "prompt_number": 4
    },
    {
     "cell_type": "code",
     "collapsed": false,
     "input": [
      "totals_for_compare = ct[ct.index.values==2020].reset_index().set_index('large_area_id')\n",
      "del totals_for_compare['year']\n",
      "print totals_for_compare"
     ],
     "language": "python",
     "metadata": {},
     "outputs": [
      {
       "output_type": "stream",
       "stream": "stdout",
       "text": [
        "               total_number_of_households\n",
        "large_area_id                            \n",
        "3                                  442272\n",
        "5                                  241036\n",
        "93                                  73618\n",
        "99                                 349242\n",
        "115                                 62539\n",
        "125                                504731\n",
        "147                                 65492\n",
        "161                                146870\n"
       ]
      }
     ],
     "prompt_number": 5
    },
    {
     "cell_type": "code",
     "collapsed": false,
     "input": [
      "# print totals_for_compare\n",
      "# print hh_by_lid\n",
      "diff_by_lid = totals_for_compare.total_number_of_households - hh_by_lid\n",
      "print diff_by_lid"
     ],
     "language": "python",
     "metadata": {},
     "outputs": [
      {
       "output_type": "stream",
       "stream": "stdout",
       "text": [
        "large_area_id\n",
        "3                 6502\n",
        "5               -21272\n",
        "93                3176\n",
        "99                9889\n",
        "115               2585\n",
        "125              12896\n",
        "147                839\n",
        "161               4290\n",
        "dtype: int64\n"
       ]
      }
     ],
     "prompt_number": 5
    },
    {
     "cell_type": "code",
     "collapsed": false,
     "input": [
      "diff_by_lid.sum()"
     ],
     "language": "python",
     "metadata": {},
     "outputs": [
      {
       "metadata": {},
       "output_type": "pyout",
       "prompt_number": 6,
       "text": [
        "18905"
       ]
      }
     ],
     "prompt_number": 6
    },
    {
     "cell_type": "code",
     "collapsed": false,
     "input": [
      "ct = dset.fetch('annual_household_control_totals')\n",
      "ct = ct.reset_index().groupby(['year','large_area_id']).total_number_of_households.sum().reset_index().set_index('year')\n",
      "tran = transition.TabularTotalsTransition(ct, 'total_number_of_households')\n",
      "model = transition.TransitionModel(tran)\n",
      "new, added_hh_idx, new_linked = \\\n",
      "    model.transition(dset.households, 2015,\n",
      "                     linked_tables={'linked': (dset.persons, 'household_id')})\n",
      "new.loc[added_hh_idx, \"building_id\"] = np.nan\n",
      "dset.save_tmptbl(\"households\", new)\n",
      "dset.save_tmptbl(\"persons\", new_linked['linked'])\n",
      "\n",
      "print len(added_hh_idx)\n",
      "print len(np.unique(added_hh_idx.values))\n",
      "print len(new.index.values)\n",
      "print len(np.unique(new.index.values))\n",
      "\n",
      "print len(dset.households)"
     ],
     "language": "python",
     "metadata": {},
     "outputs": [
      {
       "output_type": "stream",
       "stream": "stdout",
       "text": [
        "Fetching persons\n",
        "40177"
       ]
      },
      {
       "output_type": "stream",
       "stream": "stdout",
       "text": [
        "\n",
        "40177\n",
        "1863685\n",
        "1863685"
       ]
      },
      {
       "output_type": "stream",
       "stream": "stdout",
       "text": [
        "\n",
        "1863685\n"
       ]
      }
     ],
     "prompt_number": 7
    },
    {
     "cell_type": "code",
     "collapsed": false,
     "input": [
      "ct = dset.fetch('annual_household_control_totals')\n",
      "ct = ct.reset_index().groupby(['year','large_area_id','race_id']).total_number_of_households.sum().reset_index().set_index('year')\n",
      "tran = transition.TabularTotalsTransition(ct, 'total_number_of_households')\n",
      "model = transition.TransitionModel(tran)\n",
      "new, added_hh_idx, new_linked = \\\n",
      "    model.transition(dset.households, 2015,\n",
      "                     linked_tables={'linked': (dset.persons, 'household_id')})\n",
      "new.loc[added_hh_idx, \"building_id\"] = np.nan\n",
      "dset.save_tmptbl(\"households\", new)\n",
      "dset.save_tmptbl(\"persons\", new_linked['linked'])\n",
      "\n",
      "print len(added_hh_idx)\n",
      "print len(np.unique(added_hh_idx.values))\n",
      "print len(new.index.values)\n",
      "print len(np.unique(new.index.values))\n",
      "\n",
      "print len(dset.households)"
     ],
     "language": "python",
     "metadata": {},
     "outputs": [
      {
       "output_type": "stream",
       "stream": "stdout",
       "text": [
        "46309\n",
        "46309\n",
        "1863685\n",
        "1863685"
       ]
      },
      {
       "output_type": "stream",
       "stream": "stdout",
       "text": [
        "\n",
        "1863685\n"
       ]
      }
     ],
     "prompt_number": 5
    },
    {
     "cell_type": "code",
     "collapsed": false,
     "input": [
      "dset = dataset.SemcogDataset(\"data/semcog_data.h5\")\n",
      "ct_emp = dset.fetch('annual_employment_control_totals')\n",
      "ct_emp = ct_emp.reset_index().groupby(['year','large_area_id','home_based_status']).total_number_of_jobs.sum().reset_index().set_index('year')"
     ],
     "language": "python",
     "metadata": {},
     "outputs": [
      {
       "output_type": "stream",
       "stream": "stdout",
       "text": [
        "Fetching cities\n",
        "Fetching annual_employment_control_totals\n"
       ]
      }
     ],
     "prompt_number": 7
    },
    {
     "cell_type": "code",
     "collapsed": false,
     "input": [
      "ct_emp_one_year = ct_emp[ct_emp.index.values==2020].reset_index()\n",
      "del ct_emp_one_year['year']\n",
      "ct_emp_one_year.groupby('large_area_id').total_number_of_jobs.sum()"
     ],
     "language": "python",
     "metadata": {},
     "outputs": [
      {
       "metadata": {},
       "output_type": "pyout",
       "prompt_number": 8,
       "text": [
        "large_area_id\n",
        "3                411365\n",
        "5                236475\n",
        "93                46531\n",
        "99               279947\n",
        "115               38384\n",
        "125              648475\n",
        "147               43851\n",
        "161              189824\n",
        "Name: total_number_of_jobs, dtype: int32"
       ]
      }
     ],
     "prompt_number": 8
    },
    {
     "cell_type": "code",
     "collapsed": false,
     "input": [
      "dset = dataset.SemcogDataset(\"data/semcog_data.h5\")\n",
      "ct_emp = dset.fetch('annual_employment_control_totals')\n",
      "ct_emp = ct_emp.reset_index().groupby(['year','large_area_id']).total_number_of_jobs.sum().reset_index().set_index('year')\n",
      "tran = transition.TabularTotalsTransition(ct_emp, 'total_number_of_jobs')\n",
      "model = transition.TransitionModel(tran)\n",
      "new, added_jobs_idx, new_linked = model.transition(dset.jobs, 2015)\n",
      "new.loc[added_jobs_idx, \"building_id\"] = np.nan\n",
      "dset.save_tmptbl(\"jobs\", new)\n",
      "print len(added_jobs_idx)\n",
      "print len(np.unique(added_jobs_idx.values))\n",
      "print len(new.index.values)\n",
      "print len(np.unique(new.index.values))"
     ],
     "language": "python",
     "metadata": {},
     "outputs": [
      {
       "output_type": "stream",
       "stream": "stdout",
       "text": [
        "Fetching cities\n",
        "Fetching annual_employment_control_totals\n",
        "Fetching jobs\n",
        "71467"
       ]
      },
      {
       "output_type": "stream",
       "stream": "stdout",
       "text": [
        "\n",
        "71467\n",
        "1874165\n",
        "1874165\n"
       ]
      }
     ],
     "prompt_number": 10
    },
    {
     "cell_type": "code",
     "collapsed": false,
     "input": [
      "dset = dataset.SemcogDataset(\"data/semcog_data.h5\")\n",
      "ct_emp = dset.fetch('annual_employment_control_totals')\n",
      "ct_emp = ct_emp.reset_index().groupby(['year','large_area_id','home_based_status','sector_id']).total_number_of_jobs.sum().reset_index().set_index('year')\n",
      "tran = transition.TabularTotalsTransition(ct_emp, 'total_number_of_jobs')\n",
      "model = transition.TransitionModel(tran)\n",
      "new, added_jobs_idx, new_linked = model.transition(dset.jobs, 2015)\n",
      "new.loc[added_jobs_idx, \"building_id\"] = np.nan\n",
      "dset.save_tmptbl(\"jobs\", new)\n",
      "print len(added_jobs_idx)\n",
      "print len(np.unique(added_jobs_idx.values))\n",
      "print len(new.index)\n",
      "print len(np.unique(new.index.values))"
     ],
     "language": "python",
     "metadata": {},
     "outputs": [
      {
       "output_type": "stream",
       "stream": "stdout",
       "text": [
        "Fetching cities\n",
        "Fetching annual_employment_control_totals\n",
        "Fetching jobs\n",
        "90965"
       ]
      },
      {
       "output_type": "stream",
       "stream": "stdout",
       "text": [
        "\n",
        "90965\n",
        "1874165\n",
        "1874165"
       ]
      },
      {
       "output_type": "stream",
       "stream": "stdout",
       "text": [
        "\n"
       ]
      }
     ],
     "prompt_number": 9
    },
    {
     "cell_type": "code",
     "collapsed": false,
     "input": [
      "dset = dataset.SemcogDataset(\"data/semcog_data.h5\")\n",
      "ct_emp = dset.fetch('annual_employment_control_totals')\n",
      "ct_emp = ct_emp.reset_index().set_index('year')\n",
      "tran = transition.TabularTotalsTransition(ct_emp, 'total_number_of_jobs')\n",
      "model = transition.TransitionModel(tran)\n",
      "new, added_jobs_idx, new_linked = model.transition(dset.jobs, 2015)\n",
      "new.loc[added_jobs_idx, \"building_id\"] = np.nan\n",
      "dset.save_tmptbl(\"jobs\", new)\n",
      "print len(added_jobs_idx)\n",
      "print len(np.unique(added_jobs_idx.values))\n",
      "print len(new.index)\n",
      "print len(np.unique(new.index.values))"
     ],
     "language": "python",
     "metadata": {},
     "outputs": [
      {
       "output_type": "stream",
       "stream": "stdout",
       "text": [
        "Fetching cities\n",
        "Fetching annual_employment_control_totals\n",
        "Fetching jobs\n",
        "90965"
       ]
      },
      {
       "output_type": "stream",
       "stream": "stdout",
       "text": [
        "\n",
        "90965\n",
        "1874165\n",
        "1874165"
       ]
      },
      {
       "output_type": "stream",
       "stream": "stdout",
       "text": [
        "\n"
       ]
      }
     ],
     "prompt_number": 12
    },
    {
     "cell_type": "code",
     "collapsed": false,
     "input": [],
     "language": "python",
     "metadata": {},
     "outputs": [],
     "prompt_number": 2
    }
   ],
   "metadata": {}
  }
 ]
}