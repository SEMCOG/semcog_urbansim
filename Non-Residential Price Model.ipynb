{
 "metadata": {
  "name": "",
  "signature": "sha256:0a60714230282ec21535d10aab93a6c9fffdb748b3164cac45e8753bafd1a969"
 },
 "nbformat": 3,
 "nbformat_minor": 0,
 "worksheets": [
  {
   "cells": [
    {
     "cell_type": "heading",
     "level": 1,
     "metadata": {},
     "source": [
      "Non-Residential Price Model"
     ]
    },
    {
     "cell_type": "heading",
     "level": 2,
     "metadata": {},
     "source": [
      "Imports"
     ]
    },
    {
     "cell_type": "code",
     "collapsed": false,
     "input": [
      "import numpy as np\n",
      "import pandas as pd\n",
      "import statsmodels.api as sm\n",
      "import statsmodels.formula.api as smf\n",
      "from patsy import dmatrices"
     ],
     "language": "python",
     "metadata": {},
     "outputs": [],
     "prompt_number": 1
    },
    {
     "cell_type": "heading",
     "level": 2,
     "metadata": {},
     "source": [
      "Merge"
     ]
    },
    {
     "cell_type": "code",
     "collapsed": false,
     "input": [
      "def merge_buildings_parcels(buildings, parcels):\n",
      "    return pd.merge(buildings, parcels, left_on='parcel_id', right_index=True)"
     ],
     "language": "python",
     "metadata": {},
     "outputs": [],
     "prompt_number": 3
    },
    {
     "cell_type": "heading",
     "level": 2,
     "metadata": {},
     "source": [
      "Subset"
     ]
    },
    {
     "cell_type": "code",
     "collapsed": false,
     "input": [
      "def apply_filter_query(df, filters):\n",
      "    query = ' and '.join(filters)\n",
      "    return df.query(query)"
     ],
     "language": "python",
     "metadata": {},
     "outputs": [],
     "prompt_number": 2
    },
    {
     "cell_type": "code",
     "collapsed": false,
     "input": [
      "def filter_buildings(buildings):\n",
      "    filters = ['(building_type_id < 16 or building_type_id > 20)',\n",
      "               '0 < unit_price_non_res < 100',\n",
      "               'non_residential_sqft > 0',\n",
      "               'tax_exempt == 0',\n",
      "               'stories > 0',\n",
      "               'year_built > 1700']\n",
      "    return apply_filter_query(buildings, filters)"
     ],
     "language": "python",
     "metadata": {},
     "outputs": [],
     "prompt_number": 99
    },
    {
     "cell_type": "heading",
     "level": 2,
     "metadata": {},
     "source": [
      "Calculations"
     ]
    },
    {
     "cell_type": "code",
     "collapsed": false,
     "input": [
      "def unit_price(buildings):\n",
      "    buildings['unit_price_non_res'] = buildings['improvement_value'] / buildings['non_residential_sqft']\n",
      "    buildings.unit_price_non_res[buildings.non_residential_sqft <= 0] = 0"
     ],
     "language": "python",
     "metadata": {},
     "outputs": [],
     "prompt_number": 84
    },
    {
     "cell_type": "code",
     "collapsed": false,
     "input": [
      "# jobs per acre at the zone level\n",
      "def job_density(buildings, jobs):\n",
      "    sqft_per_acre = 43560\n",
      "    \n",
      "    zone_jobs = jobs.groupby('zone_id').building_id.count()\n",
      "    zone_acres = buildings.parcel_sqft.groupby(buildings.zone_id).sum() / sqft_per_acre\n",
      "    job_density = zone_jobs / zone_acres\n",
      "    buildings['empden'] = job_density[buildings.zone_id].values"
     ],
     "language": "python",
     "metadata": {},
     "outputs": [],
     "prompt_number": 32
    },
    {
     "cell_type": "code",
     "collapsed": false,
     "input": [
      "def crime_rate(buildings, cities):\n",
      "    buildings['crime08'] = cities.crime08[buildings.city_id].values"
     ],
     "language": "python",
     "metadata": {},
     "outputs": [],
     "prompt_number": 12
    },
    {
     "cell_type": "code",
     "collapsed": false,
     "input": [
      "def jobs_within_30_min(buildings, travel_data):\n",
      "    travel_data = (travel_data.reset_index(level='to_zone_id')\n",
      "                   .query('am_single_vehicle_to_work_travel_time < 30'))\n",
      "    job_counts = jobs.groupby('zone_id').building_id.count()\n",
      "    buildings['jobs_within_30_min'] = job_counts[buildings.zone_id].values"
     ],
     "language": "python",
     "metadata": {},
     "outputs": [],
     "prompt_number": 29
    },
    {
     "cell_type": "code",
     "collapsed": false,
     "input": [
      "def generic_building_type_id(buildings, building_types):\n",
      "    return pd.merge(buildings, building_types, left_on='building_type_id', right_index=True)"
     ],
     "language": "python",
     "metadata": {},
     "outputs": [],
     "prompt_number": 40
    },
    {
     "cell_type": "heading",
     "level": 2,
     "metadata": {},
     "source": [
      "Pull Data, Apply Changes"
     ]
    },
    {
     "cell_type": "code",
     "collapsed": false,
     "input": [
      "data_store = pd.HDFStore('./data/semcog_data.h5', mode='r')"
     ],
     "language": "python",
     "metadata": {},
     "outputs": [],
     "prompt_number": 5
    },
    {
     "cell_type": "code",
     "collapsed": false,
     "input": [
      "buildings = merge_buildings_parcels(data_store['buildings'], data_store['parcels'])\n",
      "\n",
      "unit_price(buildings)\n",
      "buildings = filter_buildings(buildings)\n",
      "job_density(buildings, data_store['jobs'])\n",
      "crime_rate(buildings, data_store['cities'])\n",
      "jobs_within_30_min(buildings, data_store['travel_data'])\n",
      "buildings = generic_building_type_id(buildings, data_store['building_types'])"
     ],
     "language": "python",
     "metadata": {},
     "outputs": [],
     "prompt_number": 100
    },
    {
     "cell_type": "heading",
     "level": 1,
     "metadata": {},
     "source": [
      "Segment"
     ]
    },
    {
     "cell_type": "code",
     "collapsed": false,
     "input": [
      "segments = buildings.groupby('generic_building_type_id')"
     ],
     "language": "python",
     "metadata": {},
     "outputs": [],
     "prompt_number": 103
    },
    {
     "cell_type": "code",
     "collapsed": false,
     "input": [
      "for name, df in segments:\n",
      "    print name, len(df)"
     ],
     "language": "python",
     "metadata": {},
     "outputs": [
      {
       "output_type": "stream",
       "stream": "stdout",
       "text": [
        "2 5656\n",
        "3 54190\n",
        "4 18582\n",
        "5 2939\n",
        "6 30719\n",
        "7 1378\n",
        "8 56183\n",
        "9 418\n",
        "10 1064\n"
       ]
      }
     ],
     "prompt_number": 104
    },
    {
     "cell_type": "heading",
     "level": 2,
     "metadata": {},
     "source": [
      "Estimate"
     ]
    },
    {
     "cell_type": "code",
     "collapsed": false,
     "input": [
      "def estimate_non_res_price_model(segment):\n",
      "    patsy_exp = ['I(year_built < 1940)',\n",
      "                 'year_built',\n",
      "                 'stories',\n",
      "                 'non_residential_sqft',\n",
      "                 'np.log1p(empden)',\n",
      "                 'dist_hwy',\n",
      "                 'dist_road',\n",
      "                 'crime08',\n",
      "                 'np.log1p(jobs_within_30_min)']\n",
      "    patsy_exp = ' + '.join(patsy_exp)\n",
      "#    est_data = dmatrix(patsy_exp, data=segment, return_type='dataframe')\n",
      "    \n",
      "#    depvar = segment['unit_price_res'].apply(np.log)\n",
      "    \n",
      "#    model = sm.OLS(depvar, data=est_data)\n",
      "    model = smf.ols(formula='np.log(unit_price_non_res) ~ ' + patsy_exp, data=segment) \n",
      "    results = model.fit()\n",
      "    print results.summary()\n",
      "    \n",
      "    return {'rsquared': results.rsquared,\n",
      "            'rsquared_adj': results.rsquared_adj,\n",
      "            'columns': segment.columns.tolist(),\n",
      "            'est_results': zip(results.params, results.bse, results.tvalues)}"
     ],
     "language": "python",
     "metadata": {},
     "outputs": [],
     "prompt_number": 108
    },
    {
     "cell_type": "code",
     "collapsed": false,
     "input": [
      "estimates = {name: estimate_non_res_price_model(df) for name, df in segments}"
     ],
     "language": "python",
     "metadata": {},
     "outputs": [
      {
       "output_type": "stream",
       "stream": "stdout",
       "text": [
        "                                OLS Regression Results                                \n",
        "======================================================================================\n",
        "Dep. Variable:     np.log(unit_price_non_res)   R-squared:                       0.280\n",
        "Model:                                    OLS   Adj. R-squared:                  0.279\n",
        "Method:                         Least Squares   F-statistic:                     243.9\n",
        "Date:                        Tue, 01 Apr 2014   Prob (F-statistic):               0.00\n",
        "Time:                                17:02:12   Log-Likelihood:                -11955.\n",
        "No. Observations:                        5655   AIC:                         2.393e+04\n",
        "Df Residuals:                            5645   BIC:                         2.400e+04\n",
        "Df Model:                                   9                                         \n",
        "================================================================================================\n",
        "                                   coef    std err          t      P>|t|      [95.0% Conf. Int.]\n",
        "------------------------------------------------------------------------------------------------\n",
        "Intercept                       15.8971      2.776      5.726      0.000        10.455    21.339\n",
        "I(year_built < 1940)[T.True]     0.3885      0.099      3.935      0.000         0.195     0.582\n",
        "year_built                      -0.0057      0.001     -4.022      0.000        -0.008    -0.003\n",
        "stories                         -0.5408      0.038    -14.188      0.000        -0.616    -0.466\n",
        "non_residential_sqft         -2.115e-05   5.94e-07    -35.635      0.000     -2.23e-05    -2e-05\n",
        "np.log1p(empden)                 0.1127      0.026      4.418      0.000         0.063     0.163\n",
        "dist_hwy                      1.723e-05   3.25e-06      5.298      0.000      1.09e-05  2.36e-05\n",
        "dist_road                       -0.0002   5.98e-05     -4.123      0.000        -0.000    -0.000\n",
        "crime08                         -0.0086      0.001     -7.056      0.000        -0.011    -0.006\n",
        "np.log1p(jobs_within_30_min)    -0.4209      0.028    -15.209      0.000        -0.475    -0.367\n",
        "==============================================================================\n",
        "Omnibus:                      321.999   Durbin-Watson:                   0.384\n",
        "Prob(Omnibus):                  0.000   Jarque-Bera (JB):              610.746\n",
        "Skew:                          -0.418   Prob(JB):                    2.39e-133\n",
        "Kurtosis:                       4.376   Cond. No.                     5.02e+06\n",
        "==============================================================================\n",
        "\n",
        "Warnings:\n",
        "[1] The condition number is large, 5.02e+06. This might indicate that there are\n",
        "strong multicollinearity or other numerical problems.\n",
        "                                OLS Regression Results                                \n",
        "======================================================================================\n",
        "Dep. Variable:     np.log(unit_price_non_res)   R-squared:                       0.498\n",
        "Model:                                    OLS   Adj. R-squared:                  0.498\n",
        "Method:                         Least Squares   F-statistic:                     5971.\n",
        "Date:                        Tue, 01 Apr 2014   Prob (F-statistic):               0.00\n",
        "Time:                                17:02:13   Log-Likelihood:                -77793.\n",
        "No. Observations:                       54164   AIC:                         1.556e+05\n",
        "Df Residuals:                           54154   BIC:                         1.557e+05\n",
        "Df Model:                                   9                                         \n",
        "================================================================================================\n",
        "                                   coef    std err          t      P>|t|      [95.0% Conf. Int.]\n",
        "------------------------------------------------------------------------------------------------\n",
        "Intercept                      -16.6144      0.494    -33.628      0.000       -17.583   -15.646\n",
        "I(year_built < 1940)[T.True]    -0.1098      0.017     -6.477      0.000        -0.143    -0.077\n",
        "year_built                       0.0099      0.000     39.593      0.000         0.009     0.010\n",
        "stories                         -0.0847      0.008    -11.155      0.000        -0.100    -0.070\n",
        "non_residential_sqft         -1.744e-05   1.07e-07   -163.555      0.000     -1.76e-05 -1.72e-05\n",
        "np.log1p(empden)                 0.1485      0.004     33.525      0.000         0.140     0.157\n",
        "dist_hwy                     -1.992e-08   5.15e-07     -0.039      0.969     -1.03e-06  9.89e-07\n",
        "dist_road                    -4.371e-05   1.07e-05     -4.093      0.000     -6.46e-05 -2.28e-05\n",
        "crime08                         -0.0131      0.000    -73.766      0.000        -0.013    -0.013\n",
        "np.log1p(jobs_within_30_min)     0.0949      0.005     20.842      0.000         0.086     0.104\n",
        "==============================================================================\n",
        "Omnibus:                    12712.096   Durbin-Watson:                   0.995\n",
        "Prob(Omnibus):                  0.000   Jarque-Bera (JB):           714472.584\n",
        "Skew:                          -0.147   Prob(JB):                         0.00\n",
        "Kurtosis:                      20.790   Cond. No.                     5.10e+06\n",
        "==============================================================================\n",
        "\n",
        "Warnings:\n",
        "[1] The condition number is large, 5.1e+06. This might indicate that there are\n",
        "strong multicollinearity or other numerical problems."
       ]
      },
      {
       "output_type": "stream",
       "stream": "stdout",
       "text": [
        "\n",
        "                                OLS Regression Results                                \n",
        "======================================================================================\n",
        "Dep. Variable:     np.log(unit_price_non_res)   R-squared:                       0.097\n",
        "Model:                                    OLS   Adj. R-squared:                  0.096\n",
        "Method:                         Least Squares   F-statistic:                     220.4\n",
        "Date:                        Tue, 01 Apr 2014   Prob (F-statistic):               0.00\n",
        "Time:                                17:02:13   Log-Likelihood:                -24899.\n",
        "No. Observations:                       18570   AIC:                         4.982e+04\n",
        "Df Residuals:                           18560   BIC:                         4.990e+04\n",
        "Df Model:                                   9                                         \n",
        "================================================================================================\n",
        "                                   coef    std err          t      P>|t|      [95.0% Conf. Int.]\n",
        "------------------------------------------------------------------------------------------------\n",
        "Intercept                       -6.0660      0.804     -7.549      0.000        -7.641    -4.491\n",
        "I(year_built < 1940)[T.True]     0.3018      0.034      8.890      0.000         0.235     0.368\n",
        "year_built                       0.0047      0.000     11.565      0.000         0.004     0.006\n",
        "stories                          0.0051      0.005      0.950      0.342        -0.005     0.016\n",
        "non_residential_sqft         -3.881e-06   2.16e-07    -17.939      0.000      -4.3e-06 -3.46e-06\n",
        "np.log1p(empden)                 0.1659      0.007     23.296      0.000         0.152     0.180\n",
        "dist_hwy                       2.25e-06   8.62e-07      2.610      0.009      5.61e-07  3.94e-06\n",
        "dist_road                    -8.728e-05   1.41e-05     -6.192      0.000        -0.000 -5.97e-05\n",
        "crime08                         -0.0100      0.000    -25.547      0.000        -0.011    -0.009\n",
        "np.log1p(jobs_within_30_min)    -0.0124      0.007     -1.742      0.081        -0.026     0.002\n",
        "==============================================================================\n",
        "Omnibus:                    11341.535   Durbin-Watson:                   0.732\n",
        "Prob(Omnibus):                  0.000   Jarque-Bera (JB):           203256.124\n",
        "Skew:                          -2.617   Prob(JB):                         0.00\n",
        "Kurtosis:                      18.339   Cond. No.                     5.42e+06\n",
        "==============================================================================\n",
        "\n",
        "Warnings:\n",
        "[1] The condition number is large, 5.42e+06. This might indicate that there are\n",
        "strong multicollinearity or other numerical problems."
       ]
      },
      {
       "output_type": "stream",
       "stream": "stdout",
       "text": [
        "\n",
        "                                OLS Regression Results                                \n",
        "======================================================================================\n",
        "Dep. Variable:     np.log(unit_price_non_res)   R-squared:                       0.315\n",
        "Model:                                    OLS   Adj. R-squared:                  0.313\n",
        "Method:                         Least Squares   F-statistic:                     149.5\n",
        "Date:                        Tue, 01 Apr 2014   Prob (F-statistic):          7.45e-233\n",
        "Time:                                17:02:13   Log-Likelihood:                -4585.0\n",
        "No. Observations:                        2932   AIC:                             9190.\n",
        "Df Residuals:                            2922   BIC:                             9250.\n",
        "Df Model:                                   9                                         \n",
        "================================================================================================\n",
        "                                   coef    std err          t      P>|t|      [95.0% Conf. Int.]\n",
        "------------------------------------------------------------------------------------------------\n",
        "Intercept                       -4.1908      2.294     -1.826      0.068        -8.690     0.308\n",
        "I(year_built < 1940)[T.True]    -0.2410      0.078     -3.089      0.002        -0.394    -0.088\n",
        "year_built                       0.0039      0.001      3.332      0.001         0.002     0.006\n",
        "stories                         -0.0471      0.027     -1.760      0.078        -0.100     0.005\n",
        "non_residential_sqft         -1.347e-05   5.27e-07    -25.554      0.000     -1.45e-05 -1.24e-05\n",
        "np.log1p(empden)                 0.0752      0.021      3.646      0.000         0.035     0.116\n",
        "dist_hwy                      1.359e-06   2.99e-06      0.455      0.649      -4.5e-06  7.22e-06\n",
        "dist_road                     8.158e-05   4.83e-05      1.688      0.091     -1.32e-05     0.000\n",
        "crime08                         -0.0134      0.001    -14.598      0.000        -0.015    -0.012\n",
        "np.log1p(jobs_within_30_min)     0.0374      0.021      1.747      0.081        -0.005     0.079\n",
        "==============================================================================\n",
        "Omnibus:                      971.428   Durbin-Watson:                   1.209\n",
        "Prob(Omnibus):                  0.000   Jarque-Bera (JB):             7659.878\n",
        "Skew:                          -1.350   Prob(JB):                         0.00\n",
        "Kurtosis:                      10.444   Cond. No.                     4.96e+06\n",
        "==============================================================================\n",
        "\n",
        "Warnings:\n",
        "[1] The condition number is large, 4.96e+06. This might indicate that there are\n",
        "strong multicollinearity or other numerical problems."
       ]
      },
      {
       "output_type": "stream",
       "stream": "stdout",
       "text": [
        "\n",
        "                                OLS Regression Results                                \n",
        "======================================================================================\n",
        "Dep. Variable:     np.log(unit_price_non_res)   R-squared:                       0.404\n",
        "Model:                                    OLS   Adj. R-squared:                  0.404\n",
        "Method:                         Least Squares   F-statistic:                     2315.\n",
        "Date:                        Tue, 01 Apr 2014   Prob (F-statistic):               0.00\n",
        "Time:                                17:02:14   Log-Likelihood:                -43455.\n",
        "No. Observations:                       30706   AIC:                         8.693e+04\n",
        "Df Residuals:                           30696   BIC:                         8.701e+04\n",
        "Df Model:                                   9                                         \n",
        "================================================================================================\n",
        "                                   coef    std err          t      P>|t|      [95.0% Conf. Int.]\n",
        "------------------------------------------------------------------------------------------------\n",
        "Intercept                      -13.7166      0.733    -18.713      0.000       -15.153   -12.280\n",
        "I(year_built < 1940)[T.True]    -0.2370      0.023    -10.500      0.000        -0.281    -0.193\n",
        "year_built                       0.0083      0.000     22.372      0.000         0.008     0.009\n",
        "stories                         -0.2220      0.010    -22.162      0.000        -0.242    -0.202\n",
        "non_residential_sqft         -5.202e-06    9.7e-08    -53.634      0.000     -5.39e-06 -5.01e-06\n",
        "np.log1p(empden)                 0.0813      0.008     10.183      0.000         0.066     0.097\n",
        "dist_hwy                     -4.862e-06    8.6e-07     -5.657      0.000     -6.55e-06 -3.18e-06\n",
        "dist_road                    -2.643e-05   1.15e-05     -2.302      0.021     -4.89e-05 -3.92e-06\n",
        "crime08                         -0.0169      0.000    -66.461      0.000        -0.017    -0.016\n",
        "np.log1p(jobs_within_30_min)     0.0997      0.006     15.696      0.000         0.087     0.112\n",
        "==============================================================================\n",
        "Omnibus:                    14265.766   Durbin-Watson:                   0.799\n",
        "Prob(Omnibus):                  0.000   Jarque-Bera (JB):           935128.308\n",
        "Skew:                          -1.410   Prob(JB):                         0.00\n",
        "Kurtosis:                      29.888   Cond. No.                     8.04e+06\n",
        "==============================================================================\n",
        "\n",
        "Warnings:\n",
        "[1] The condition number is large, 8.04e+06. This might indicate that there are\n",
        "strong multicollinearity or other numerical problems."
       ]
      },
      {
       "output_type": "stream",
       "stream": "stdout",
       "text": [
        "\n",
        "                                OLS Regression Results                                \n",
        "======================================================================================\n",
        "Dep. Variable:     np.log(unit_price_non_res)   R-squared:                       0.265\n",
        "Model:                                    OLS   Adj. R-squared:                  0.260\n",
        "Method:                         Least Squares   F-statistic:                     54.67\n",
        "Date:                        Tue, 01 Apr 2014   Prob (F-statistic):           3.75e-85\n",
        "Time:                                17:02:14   Log-Likelihood:                -2385.6\n",
        "No. Observations:                        1378   AIC:                             4791.\n",
        "Df Residuals:                            1368   BIC:                             4843.\n",
        "Df Model:                                   9                                         \n",
        "================================================================================================\n",
        "                                   coef    std err          t      P>|t|      [95.0% Conf. Int.]\n",
        "------------------------------------------------------------------------------------------------\n",
        "Intercept                        3.2161      4.645      0.692      0.489        -5.896    12.329\n",
        "I(year_built < 1940)[T.True]     0.3174      0.155      2.042      0.041         0.013     0.622\n",
        "year_built                    2.385e-05      0.002      0.010      0.992        -0.005     0.005\n",
        "stories                         -0.3725      0.058     -6.389      0.000        -0.487    -0.258\n",
        "non_residential_sqft         -1.459e-05   1.02e-06    -14.258      0.000     -1.66e-05 -1.26e-05\n",
        "np.log1p(empden)                 0.1868      0.036      5.202      0.000         0.116     0.257\n",
        "dist_hwy                     -7.853e-06   4.04e-06     -1.946      0.052     -1.58e-05  6.23e-08\n",
        "dist_road                     5.131e-05   4.51e-05      1.139      0.255     -3.71e-05     0.000\n",
        "crime08                         -0.0095      0.002     -5.583      0.000        -0.013    -0.006\n",
        "np.log1p(jobs_within_30_min)     0.0143      0.030      0.480      0.632        -0.044     0.073\n",
        "==============================================================================\n",
        "Omnibus:                      300.495   Durbin-Watson:                   1.315\n",
        "Prob(Omnibus):                  0.000   Jarque-Bera (JB):             1109.284\n",
        "Skew:                          -1.023   Prob(JB):                    1.32e-241\n",
        "Kurtosis:                       6.890   Cond. No.                     5.28e+06\n",
        "==============================================================================\n",
        "\n",
        "Warnings:\n",
        "[1] The condition number is large, 5.28e+06. This might indicate that there are\n",
        "strong multicollinearity or other numerical problems."
       ]
      },
      {
       "output_type": "stream",
       "stream": "stdout",
       "text": [
        "\n",
        "                                OLS Regression Results                                \n",
        "======================================================================================\n",
        "Dep. Variable:     np.log(unit_price_non_res)   R-squared:                       0.075\n",
        "Model:                                    OLS   Adj. R-squared:                  0.075\n",
        "Method:                         Least Squares   F-statistic:                     504.5\n",
        "Date:                        Tue, 01 Apr 2014   Prob (F-statistic):               0.00\n",
        "Time:                                17:02:14   Log-Likelihood:                -45692.\n",
        "No. Observations:                       55723   AIC:                         9.140e+04\n",
        "Df Residuals:                           55713   BIC:                         9.149e+04\n",
        "Df Model:                                   9                                         \n",
        "================================================================================================\n",
        "                                   coef    std err          t      P>|t|      [95.0% Conf. Int.]\n",
        "------------------------------------------------------------------------------------------------\n",
        "Intercept                       -2.2802      0.245     -9.314      0.000        -2.760    -1.800\n",
        "I(year_built < 1940)[T.True]    -0.0042      0.011     -0.366      0.714        -0.027     0.018\n",
        "year_built                       0.0031      0.000     25.041      0.000         0.003     0.003\n",
        "stories                         -0.0687      0.007     -9.437      0.000        -0.083    -0.054\n",
        "non_residential_sqft            -0.0001   3.01e-06    -34.884      0.000        -0.000  -9.9e-05\n",
        "np.log1p(empden)                -0.0089      0.006     -1.515      0.130        -0.020     0.003\n",
        "dist_hwy                     -5.239e-07   1.57e-07     -3.328      0.001     -8.32e-07 -2.15e-07\n",
        "dist_road                     1.044e-05   1.27e-06      8.198      0.000      7.95e-06  1.29e-05\n",
        "crime08                         -0.0100      0.000    -29.366      0.000        -0.011    -0.009\n",
        "np.log1p(jobs_within_30_min)     0.0151      0.002      7.783      0.000         0.011     0.019\n",
        "==============================================================================\n",
        "Omnibus:                    37896.380   Durbin-Watson:                   1.093\n",
        "Prob(Omnibus):                  0.000   Jarque-Bera (JB):           888789.359\n",
        "Skew:                          -2.958   Prob(JB):                         0.00\n",
        "Kurtosis:                      21.649   Cond. No.                     2.76e+06\n",
        "==============================================================================\n",
        "\n",
        "Warnings:\n",
        "[1] The condition number is large, 2.76e+06. This might indicate that there are\n",
        "strong multicollinearity or other numerical problems."
       ]
      },
      {
       "output_type": "stream",
       "stream": "stdout",
       "text": [
        "\n",
        "                                OLS Regression Results                                \n",
        "======================================================================================\n",
        "Dep. Variable:     np.log(unit_price_non_res)   R-squared:                       0.161\n",
        "Model:                                    OLS   Adj. R-squared:                  0.142\n",
        "Method:                         Least Squares   F-statistic:                     8.597\n",
        "Date:                        Tue, 01 Apr 2014   Prob (F-statistic):           8.11e-12\n",
        "Time:                                17:02:15   Log-Likelihood:                -581.30\n",
        "No. Observations:                         414   AIC:                             1183.\n",
        "Df Residuals:                             404   BIC:                             1223.\n",
        "Df Model:                                   9                                         \n",
        "================================================================================================\n",
        "                                   coef    std err          t      P>|t|      [95.0% Conf. Int.]\n",
        "------------------------------------------------------------------------------------------------\n",
        "Intercept                       12.9782      4.787      2.711      0.007         3.568    22.389\n",
        "I(year_built < 1940)[T.True]    -0.4479      0.212     -2.115      0.035        -0.864    -0.032\n",
        "year_built                      -0.0049      0.002     -2.032      0.043        -0.010    -0.000\n",
        "stories                          0.3201      0.075      4.281      0.000         0.173     0.467\n",
        "non_residential_sqft          1.849e-06   1.49e-06      1.244      0.214     -1.07e-06  4.77e-06\n",
        "np.log1p(empden)                 0.1811      0.056      3.237      0.001         0.071     0.291\n",
        "dist_hwy                     -1.443e-05   5.02e-06     -2.877      0.004     -2.43e-05 -4.57e-06\n",
        "dist_road                     9.659e-06   4.35e-05      0.222      0.824     -7.58e-05  9.51e-05\n",
        "crime08                         -0.0158      0.003     -6.197      0.000        -0.021    -0.011\n",
        "np.log1p(jobs_within_30_min)    -0.0231      0.050     -0.460      0.646        -0.122     0.076\n",
        "==============================================================================\n",
        "Omnibus:                       91.307   Durbin-Watson:                   0.928\n",
        "Prob(Omnibus):                  0.000   Jarque-Bera (JB):              180.691\n",
        "Skew:                          -1.190   Prob(JB):                     5.80e-40\n",
        "Kurtosis:                       5.194   Cond. No.                     3.67e+06\n",
        "==============================================================================\n",
        "\n",
        "Warnings:\n",
        "[1] The condition number is large, 3.67e+06. This might indicate that there are\n",
        "strong multicollinearity or other numerical problems."
       ]
      },
      {
       "output_type": "stream",
       "stream": "stdout",
       "text": [
        "\n",
        "                                OLS Regression Results                                \n",
        "======================================================================================\n",
        "Dep. Variable:     np.log(unit_price_non_res)   R-squared:                       0.678\n",
        "Model:                                    OLS   Adj. R-squared:                  0.675\n",
        "Method:                         Least Squares   F-statistic:                     245.4\n",
        "Date:                        Tue, 01 Apr 2014   Prob (F-statistic):          4.23e-251\n",
        "Time:                                17:02:15   Log-Likelihood:                -2153.3\n",
        "No. Observations:                        1060   AIC:                             4327.\n",
        "Df Residuals:                            1050   BIC:                             4376.\n",
        "Df Model:                                   9                                         \n",
        "================================================================================================\n",
        "                                   coef    std err          t      P>|t|      [95.0% Conf. Int.]\n",
        "------------------------------------------------------------------------------------------------\n",
        "Intercept                      -25.5370      7.250     -3.522      0.000       -39.763   -11.311\n",
        "I(year_built < 1940)[T.True]     0.3698      0.270      1.372      0.170        -0.159     0.899\n",
        "year_built                       0.0131      0.004      3.541      0.000         0.006     0.020\n",
        "stories                          0.3670      0.048      7.717      0.000         0.274     0.460\n",
        "non_residential_sqft         -1.881e-05   5.31e-07    -35.434      0.000     -1.99e-05 -1.78e-05\n",
        "np.log1p(empden)                 0.1417      0.055      2.594      0.010         0.035     0.249\n",
        "dist_hwy                      2.338e-06   9.61e-06      0.243      0.808     -1.65e-05  2.12e-05\n",
        "dist_road                        0.0002      0.000      0.795      0.427        -0.000     0.001\n",
        "crime08                         -0.0180      0.003     -6.932      0.000        -0.023    -0.013\n",
        "np.log1p(jobs_within_30_min)     0.3384      0.065      5.185      0.000         0.210     0.466\n",
        "==============================================================================\n",
        "Omnibus:                      335.660   Durbin-Watson:                   1.451\n",
        "Prob(Omnibus):                  0.000   Jarque-Bera (JB):             1920.931\n",
        "Skew:                           1.335   Prob(JB):                         0.00\n",
        "Kurtosis:                       9.030   Cond. No.                     1.94e+07\n",
        "==============================================================================\n",
        "\n",
        "Warnings:\n",
        "[1] The condition number is large, 1.94e+07. This might indicate that there are\n",
        "strong multicollinearity or other numerical problems."
       ]
      },
      {
       "output_type": "stream",
       "stream": "stdout",
       "text": [
        "\n"
       ]
      }
     ],
     "prompt_number": 109
    },
    {
     "cell_type": "code",
     "collapsed": false,
     "input": [],
     "language": "python",
     "metadata": {},
     "outputs": []
    }
   ],
   "metadata": {}
  }
 ]
}