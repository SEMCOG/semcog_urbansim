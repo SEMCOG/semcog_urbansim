{
 "metadata": {
  "name": "",
  "signature": "sha256:9f4cacac287de35237607fd8f438f98cf6a5f5f7faf139d86821218258a03acb"
 },
 "nbformat": 3,
 "nbformat_minor": 0,
 "worksheets": [
  {
   "cells": [
    {
     "cell_type": "heading",
     "level": 1,
     "metadata": {},
     "source": [
      "Non-Residential Price Model"
     ]
    },
    {
     "cell_type": "heading",
     "level": 2,
     "metadata": {},
     "source": [
      "Imports"
     ]
    },
    {
     "cell_type": "code",
     "collapsed": false,
     "input": [
      "import numpy as np\n",
      "import pandas as pd\n",
      "import statsmodels.api as sm\n",
      "import statsmodels.formula.api as smf\n",
      "from patsy import dmatrices"
     ],
     "language": "python",
     "metadata": {},
     "outputs": [],
     "prompt_number": 3
    },
    {
     "cell_type": "heading",
     "level": 2,
     "metadata": {},
     "source": [
      "Merge"
     ]
    },
    {
     "cell_type": "code",
     "collapsed": false,
     "input": [
      "def merge_buildings_parcels(buildings, parcels):\n",
      "    return pd.merge(buildings, parcels, left_on='parcel_id', right_index=True)"
     ],
     "language": "python",
     "metadata": {},
     "outputs": [],
     "prompt_number": 4
    },
    {
     "cell_type": "heading",
     "level": 2,
     "metadata": {},
     "source": [
      "Subset"
     ]
    },
    {
     "cell_type": "code",
     "collapsed": false,
     "input": [
      "def apply_filter_query(df, filters):\n",
      "    query = ' and '.join(filters)\n",
      "    return df.query(query)"
     ],
     "language": "python",
     "metadata": {},
     "outputs": [],
     "prompt_number": 5
    },
    {
     "cell_type": "code",
     "collapsed": false,
     "input": [
      "def filter_buildings(buildings):\n",
      "    filters = ['(building_type_id < 16 or building_type_id > 20)',\n",
      "               '0 < unit_price_non_res < 100',\n",
      "               'non_residential_sqft > 0',\n",
      "               'tax_exempt == 0',\n",
      "               'stories > 0',\n",
      "               'year_built > 1700']\n",
      "    return apply_filter_query(buildings, filters)"
     ],
     "language": "python",
     "metadata": {},
     "outputs": [],
     "prompt_number": 6
    },
    {
     "cell_type": "heading",
     "level": 2,
     "metadata": {},
     "source": [
      "Calculations"
     ]
    },
    {
     "cell_type": "code",
     "collapsed": false,
     "input": [
      "def unit_price(buildings):\n",
      "    buildings['unit_price_non_res'] = buildings['improvement_value'] / buildings['non_residential_sqft']\n",
      "    buildings.unit_price_non_res[buildings.non_residential_sqft <= 0] = 0"
     ],
     "language": "python",
     "metadata": {},
     "outputs": [],
     "prompt_number": 7
    },
    {
     "cell_type": "code",
     "collapsed": false,
     "input": [
      "# jobs per acre at the zone level\n",
      "def job_density(buildings, jobs):\n",
      "    sqft_per_acre = 43560\n",
      "    \n",
      "    zone_jobs = jobs.groupby('zone_id').building_id.count()\n",
      "    zone_acres = buildings.parcel_sqft.groupby(buildings.zone_id).sum() / sqft_per_acre\n",
      "    job_density = zone_jobs / zone_acres\n",
      "    buildings['empden'] = job_density[buildings.zone_id].values"
     ],
     "language": "python",
     "metadata": {},
     "outputs": [],
     "prompt_number": 8
    },
    {
     "cell_type": "code",
     "collapsed": false,
     "input": [
      "def crime_rate(buildings, cities):\n",
      "    buildings['crime08'] = cities.crime08[buildings.city_id].values"
     ],
     "language": "python",
     "metadata": {},
     "outputs": [],
     "prompt_number": 9
    },
    {
     "cell_type": "code",
     "collapsed": false,
     "input": [
      "def jobs_within_30_min(buildings, travel_data, jobs):\n",
      "    zones_within_30_min = (travel_data.reset_index(level='to_zone_id')\n",
      "                           .query('am_single_vehicle_to_work_travel_time < 30').to_zone_id)\n",
      "    job_counts = jobs.groupby('zone_id').size()\n",
      "    job_counts = pd.Series(\n",
      "        job_counts[zones_within_30_min].fillna(0).values, \n",
      "        index=zones_within_30_min.index).groupby(level=0).sum()\n",
      "    buildings['jobs_within_30_min'] = job_counts[buildings.zone_id].fillna(0).values"
     ],
     "language": "python",
     "metadata": {},
     "outputs": [],
     "prompt_number": 24
    },
    {
     "cell_type": "code",
     "collapsed": false,
     "input": [
      "def generic_building_type_id(buildings, building_types):\n",
      "    return pd.merge(buildings, building_types, left_on='building_type_id', right_index=True)"
     ],
     "language": "python",
     "metadata": {},
     "outputs": [],
     "prompt_number": 11
    },
    {
     "cell_type": "heading",
     "level": 2,
     "metadata": {},
     "source": [
      "Pull Data, Apply Changes"
     ]
    },
    {
     "cell_type": "code",
     "collapsed": false,
     "input": [
      "data_store = pd.HDFStore('./data/semcog_data.h5', mode='r')"
     ],
     "language": "python",
     "metadata": {},
     "outputs": [],
     "prompt_number": 12
    },
    {
     "cell_type": "code",
     "collapsed": false,
     "input": [
      "buildings = merge_buildings_parcels(data_store['buildings'], data_store['parcels'])\n",
      "\n",
      "unit_price(buildings)\n",
      "buildings = filter_buildings(buildings)\n",
      "job_density(buildings, data_store['jobs'])\n",
      "crime_rate(buildings, data_store['cities'])\n",
      "jobs_within_30_min(buildings, data_store['travel_data'], data_store['jobs'])\n",
      "buildings = generic_building_type_id(buildings, data_store['building_types'])"
     ],
     "language": "python",
     "metadata": {},
     "outputs": [],
     "prompt_number": 25
    },
    {
     "cell_type": "heading",
     "level": 1,
     "metadata": {},
     "source": [
      "Segment"
     ]
    },
    {
     "cell_type": "code",
     "collapsed": false,
     "input": [
      "segments = buildings.groupby('generic_building_type_id')"
     ],
     "language": "python",
     "metadata": {},
     "outputs": [],
     "prompt_number": 26
    },
    {
     "cell_type": "code",
     "collapsed": false,
     "input": [
      "for name, df in segments:\n",
      "    print name, len(df)"
     ],
     "language": "python",
     "metadata": {},
     "outputs": [
      {
       "output_type": "stream",
       "stream": "stdout",
       "text": [
        "2 5656\n",
        "3 54190\n",
        "4 18582\n",
        "5 2939\n",
        "6 30719\n",
        "7 1378\n",
        "8 56183\n",
        "9 418\n",
        "10 1064\n"
       ]
      }
     ],
     "prompt_number": 27
    },
    {
     "cell_type": "heading",
     "level": 2,
     "metadata": {},
     "source": [
      "Estimate"
     ]
    },
    {
     "cell_type": "code",
     "collapsed": false,
     "input": [
      "def patsy_expression():\n",
      "    patsy_exp = ['I(year_built < 1940)',\n",
      "                 'year_built',\n",
      "                 'stories',\n",
      "                 'non_residential_sqft',\n",
      "                 'np.log1p(empden)',\n",
      "                 'dist_hwy',\n",
      "                 'dist_road',\n",
      "                 'crime08',\n",
      "                 'np.log1p(jobs_within_30_min)']\n",
      "    patsy_exp = ' + '.join(patsy_exp)\n",
      "    return 'np.log(unit_price_non_res) ~ ' + patsy_exp"
     ],
     "language": "python",
     "metadata": {},
     "outputs": [],
     "prompt_number": 28
    },
    {
     "cell_type": "code",
     "collapsed": false,
     "input": [
      "def estimate_non_res_price_model(segment):\n",
      "    model = smf.ols(formula=patsy_expression(), data=segment) \n",
      "    results = model.fit()\n",
      "    print results.summary()\n",
      "    \n",
      "    return results"
     ],
     "language": "python",
     "metadata": {},
     "outputs": [],
     "prompt_number": 29
    },
    {
     "cell_type": "code",
     "collapsed": false,
     "input": [
      "estimates = {name: estimate_non_res_price_model(df) for name, df in segments}"
     ],
     "language": "python",
     "metadata": {},
     "outputs": [
      {
       "output_type": "stream",
       "stream": "stdout",
       "text": [
        "                                OLS Regression Results                                \n",
        "======================================================================================\n",
        "Dep. Variable:     np.log(unit_price_non_res)   R-squared:                       0.252\n",
        "Model:                                    OLS   Adj. R-squared:                  0.251\n",
        "Method:                         Least Squares   F-statistic:                     211.0\n",
        "Date:                        Wed, 02 Apr 2014   Prob (F-statistic):               0.00\n",
        "Time:                                16:09:44   Log-Likelihood:                -12063.\n",
        "No. Observations:                        5655   AIC:                         2.415e+04\n",
        "Df Residuals:                            5645   BIC:                         2.421e+04\n",
        "Df Model:                                   9                                         \n",
        "================================================================================================\n",
        "                                   coef    std err          t      P>|t|      [95.0% Conf. Int.]\n",
        "------------------------------------------------------------------------------------------------\n",
        "Intercept                       19.0271      2.830      6.724      0.000        13.480    24.574\n",
        "I(year_built < 1940)[T.True]     0.2366      0.100      2.361      0.018         0.040     0.433\n",
        "year_built                      -0.0084      0.001     -5.861      0.000        -0.011    -0.006\n",
        "stories                         -0.5986      0.039    -15.477      0.000        -0.674    -0.523\n",
        "non_residential_sqft         -2.037e-05   6.05e-07    -33.690      0.000     -2.16e-05 -1.92e-05\n",
        "np.log1p(empden)                -0.0434      0.024     -1.831      0.067        -0.090     0.003\n",
        "dist_hwy                      2.462e-05   3.33e-06      7.392      0.000      1.81e-05  3.12e-05\n",
        "dist_road                       -0.0003   6.09e-05     -4.610      0.000        -0.000    -0.000\n",
        "crime08                         -0.0015      0.001     -1.344      0.179        -0.004     0.001\n",
        "np.log1p(jobs_within_30_min)    -0.0334      0.011     -3.077      0.002        -0.055    -0.012\n",
        "==============================================================================\n",
        "Omnibus:                      445.963   Durbin-Watson:                   0.341\n",
        "Prob(Omnibus):                  0.000   Jarque-Bera (JB):              802.598\n",
        "Skew:                          -0.566   Prob(JB):                    5.22e-175\n",
        "Kurtosis:                       4.458   Cond. No.                     5.02e+06\n",
        "==============================================================================\n",
        "\n",
        "Warnings:\n",
        "[1] The condition number is large, 5.02e+06. This might indicate that there are\n",
        "strong multicollinearity or other numerical problems.\n",
        "                                OLS Regression Results                                \n",
        "======================================================================================\n",
        "Dep. Variable:     np.log(unit_price_non_res)   R-squared:                       0.495\n",
        "Model:                                    OLS   Adj. R-squared:                  0.495\n",
        "Method:                         Least Squares   F-statistic:                     5891.\n",
        "Date:                        Wed, 02 Apr 2014   Prob (F-statistic):               0.00\n",
        "Time:                                16:09:45   Log-Likelihood:                -77974.\n",
        "No. Observations:                       54164   AIC:                         1.560e+05\n",
        "Df Residuals:                           54154   BIC:                         1.561e+05\n",
        "Df Model:                                   9                                         \n",
        "================================================================================================\n",
        "                                   coef    std err          t      P>|t|      [95.0% Conf. Int.]\n",
        "------------------------------------------------------------------------------------------------\n",
        "Intercept                      -17.4179      0.496    -35.136      0.000       -18.390   -16.446\n",
        "I(year_built < 1940)[T.True]    -0.0921      0.017     -5.423      0.000        -0.125    -0.059\n",
        "year_built                       0.0105      0.000     42.015      0.000         0.010     0.011\n",
        "stories                         -0.0788      0.008    -10.350      0.000        -0.094    -0.064\n",
        "non_residential_sqft         -1.747e-05   1.07e-07   -163.209      0.000     -1.77e-05 -1.73e-05\n",
        "np.log1p(empden)                 0.1798      0.004     43.587      0.000         0.172     0.188\n",
        "dist_hwy                     -4.834e-07   5.23e-07     -0.925      0.355     -1.51e-06  5.41e-07\n",
        "dist_road                    -4.596e-05   1.07e-05     -4.289      0.000      -6.7e-05  -2.5e-05\n",
        "crime08                         -0.0142      0.000    -84.112      0.000        -0.015    -0.014\n",
        "np.log1p(jobs_within_30_min)     0.0181      0.002      8.451      0.000         0.014     0.022\n",
        "==============================================================================\n",
        "Omnibus:                    12703.016   Durbin-Watson:                   0.988\n",
        "Prob(Omnibus):                  0.000   Jarque-Bera (JB):           723219.085\n",
        "Skew:                          -0.129   Prob(JB):                         0.00\n",
        "Kurtosis:                      20.899   Cond. No.                     5.10e+06\n",
        "==============================================================================\n",
        "\n",
        "Warnings:\n",
        "[1] The condition number is large, 5.1e+06. This might indicate that there are\n",
        "strong multicollinearity or other numerical problems."
       ]
      },
      {
       "output_type": "stream",
       "stream": "stdout",
       "text": [
        "\n",
        "                                OLS Regression Results                                \n",
        "======================================================================================\n",
        "Dep. Variable:     np.log(unit_price_non_res)   R-squared:                       0.098\n",
        "Model:                                    OLS   Adj. R-squared:                  0.098\n",
        "Method:                         Least Squares   F-statistic:                     224.3\n",
        "Date:                        Wed, 02 Apr 2014   Prob (F-statistic):               0.00\n",
        "Time:                                16:09:45   Log-Likelihood:                -24883.\n",
        "No. Observations:                       18570   AIC:                         4.979e+04\n",
        "Df Residuals:                           18560   BIC:                         4.986e+04\n",
        "Df Model:                                   9                                         \n",
        "================================================================================================\n",
        "                                   coef    std err          t      P>|t|      [95.0% Conf. Int.]\n",
        "------------------------------------------------------------------------------------------------\n",
        "Intercept                       -6.3833      0.804     -7.940      0.000        -7.959    -4.807\n",
        "I(year_built < 1940)[T.True]     0.3093      0.034      9.114      0.000         0.243     0.376\n",
        "year_built                       0.0046      0.000     11.447      0.000         0.004     0.005\n",
        "stories                          0.0056      0.005      1.035      0.301        -0.005     0.016\n",
        "non_residential_sqft         -3.966e-06   2.16e-07    -18.391      0.000     -4.39e-06 -3.54e-06\n",
        "np.log1p(empden)                 0.1520      0.007     22.026      0.000         0.138     0.165\n",
        "dist_hwy                      4.121e-06   8.92e-07      4.619      0.000      2.37e-06  5.87e-06\n",
        "dist_road                    -9.249e-05   1.37e-05     -6.760      0.000        -0.000 -6.57e-05\n",
        "crime08                         -0.0099      0.000    -25.556      0.000        -0.011    -0.009\n",
        "np.log1p(jobs_within_30_min)     0.0335      0.006      5.931      0.000         0.022     0.045\n",
        "==============================================================================\n",
        "Omnibus:                    11281.837   Durbin-Watson:                   0.734\n",
        "Prob(Omnibus):                  0.000   Jarque-Bera (JB):           201171.665\n",
        "Skew:                          -2.600   Prob(JB):                         0.00\n",
        "Kurtosis:                      18.263   Cond. No.                     5.43e+06\n",
        "==============================================================================\n",
        "\n",
        "Warnings:\n",
        "[1] The condition number is large, 5.43e+06. This might indicate that there are\n",
        "strong multicollinearity or other numerical problems."
       ]
      },
      {
       "output_type": "stream",
       "stream": "stdout",
       "text": [
        "\n",
        "                                OLS Regression Results                                \n",
        "======================================================================================\n",
        "Dep. Variable:     np.log(unit_price_non_res)   R-squared:                       0.315\n",
        "Model:                                    OLS   Adj. R-squared:                  0.313\n",
        "Method:                         Least Squares   F-statistic:                     149.6\n",
        "Date:                        Wed, 02 Apr 2014   Prob (F-statistic):          6.40e-233\n",
        "Time:                                16:09:45   Log-Likelihood:                -4584.8\n",
        "No. Observations:                        2932   AIC:                             9190.\n",
        "Df Residuals:                            2922   BIC:                             9249.\n",
        "Df Model:                                   9                                         \n",
        "================================================================================================\n",
        "                                   coef    std err          t      P>|t|      [95.0% Conf. Int.]\n",
        "------------------------------------------------------------------------------------------------\n",
        "Intercept                       -3.8372      2.312     -1.660      0.097        -8.371     0.696\n",
        "I(year_built < 1940)[T.True]    -0.2514      0.078     -3.226      0.001        -0.404    -0.099\n",
        "year_built                       0.0041      0.001      3.544      0.000         0.002     0.006\n",
        "stories                         -0.0477      0.027     -1.781      0.075        -0.100     0.005\n",
        "non_residential_sqft         -1.344e-05   5.27e-07    -25.523      0.000     -1.45e-05 -1.24e-05\n",
        "np.log1p(empden)                 0.0991      0.019      5.223      0.000         0.062     0.136\n",
        "dist_hwy                     -1.384e-06    3.2e-06     -0.432      0.666     -7.66e-06  4.89e-06\n",
        "dist_road                     7.619e-05   4.84e-05      1.576      0.115     -1.86e-05     0.000\n",
        "crime08                         -0.0132      0.001    -14.224      0.000        -0.015    -0.011\n",
        "np.log1p(jobs_within_30_min)    -0.0469      0.026     -1.832      0.067        -0.097     0.003\n",
        "==============================================================================\n",
        "Omnibus:                      972.298   Durbin-Watson:                   1.205\n",
        "Prob(Omnibus):                  0.000   Jarque-Bera (JB):             7618.556\n",
        "Skew:                          -1.354   Prob(JB):                         0.00\n",
        "Kurtosis:                      10.418   Cond. No.                     5.00e+06\n",
        "==============================================================================\n",
        "\n",
        "Warnings:\n",
        "[1] The condition number is large,  5e+06. This might indicate that there are\n",
        "strong multicollinearity or other numerical problems."
       ]
      },
      {
       "output_type": "stream",
       "stream": "stdout",
       "text": [
        "\n",
        "                                OLS Regression Results                                \n",
        "======================================================================================\n",
        "Dep. Variable:     np.log(unit_price_non_res)   R-squared:                       0.401\n",
        "Model:                                    OLS   Adj. R-squared:                  0.401\n",
        "Method:                         Least Squares   F-statistic:                     2282.\n",
        "Date:                        Wed, 02 Apr 2014   Prob (F-statistic):               0.00\n",
        "Time:                                16:09:46   Log-Likelihood:                -43543.\n",
        "No. Observations:                       30706   AIC:                         8.711e+04\n",
        "Df Residuals:                           30696   BIC:                         8.719e+04\n",
        "Df Model:                                   9                                         \n",
        "================================================================================================\n",
        "                                   coef    std err          t      P>|t|      [95.0% Conf. Int.]\n",
        "------------------------------------------------------------------------------------------------\n",
        "Intercept                      -14.4826      0.740    -19.584      0.000       -15.932   -13.033\n",
        "I(year_built < 1940)[T.True]    -0.2366      0.023    -10.450      0.000        -0.281    -0.192\n",
        "year_built                       0.0089      0.000     23.832      0.000         0.008     0.010\n",
        "stories                         -0.2242      0.010    -22.292      0.000        -0.244    -0.204\n",
        "non_residential_sqft         -5.146e-06   9.72e-08    -52.950      0.000     -5.34e-06 -4.96e-06\n",
        "np.log1p(empden)                 0.1195      0.008     15.813      0.000         0.105     0.134\n",
        "dist_hwy                     -5.719e-06   8.67e-07     -6.600      0.000     -7.42e-06 -4.02e-06\n",
        "dist_road                     1.141e-06   1.14e-05      0.100      0.920     -2.12e-05  2.34e-05\n",
        "crime08                         -0.0172      0.000    -67.871      0.000        -0.018    -0.017\n",
        "np.log1p(jobs_within_30_min)     0.0206      0.002      8.298      0.000         0.016     0.025\n",
        "==============================================================================\n",
        "Omnibus:                    14376.597   Durbin-Watson:                   0.795\n",
        "Prob(Omnibus):                  0.000   Jarque-Bera (JB):           908998.715\n",
        "Skew:                          -1.438   Prob(JB):                         0.00\n",
        "Kurtosis:                      29.499   Cond. No.                     8.08e+06\n",
        "==============================================================================\n",
        "\n",
        "Warnings:\n",
        "[1] The condition number is large, 8.08e+06. This might indicate that there are\n",
        "strong multicollinearity or other numerical problems."
       ]
      },
      {
       "output_type": "stream",
       "stream": "stdout",
       "text": [
        "\n",
        "                                OLS Regression Results                                \n",
        "======================================================================================\n",
        "Dep. Variable:     np.log(unit_price_non_res)   R-squared:                       0.265\n",
        "Model:                                    OLS   Adj. R-squared:                  0.260\n",
        "Method:                         Least Squares   F-statistic:                     54.80\n",
        "Date:                        Wed, 02 Apr 2014   Prob (F-statistic):           2.46e-85\n",
        "Time:                                16:09:46   Log-Likelihood:                -2385.1\n",
        "No. Observations:                        1378   AIC:                             4790.\n",
        "Df Residuals:                            1368   BIC:                             4843.\n",
        "Df Model:                                   9                                         \n",
        "================================================================================================\n",
        "                                   coef    std err          t      P>|t|      [95.0% Conf. Int.]\n",
        "------------------------------------------------------------------------------------------------\n",
        "Intercept                        2.3474      4.716      0.498      0.619        -6.904    11.599\n",
        "I(year_built < 1940)[T.True]     0.3262      0.156      2.096      0.036         0.021     0.632\n",
        "year_built                       0.0003      0.002      0.128      0.898        -0.004     0.005\n",
        "stories                         -0.3752      0.058     -6.435      0.000        -0.490    -0.261\n",
        "non_residential_sqft         -1.465e-05   1.02e-06    -14.295      0.000     -1.67e-05 -1.26e-05\n",
        "np.log1p(empden)                 0.1842      0.035      5.311      0.000         0.116     0.252\n",
        "dist_hwy                     -6.155e-06   4.43e-06     -1.388      0.165     -1.49e-05  2.54e-06\n",
        "dist_road                     5.852e-05   4.54e-05      1.288      0.198     -3.06e-05     0.000\n",
        "crime08                         -0.0097      0.002     -5.654      0.000        -0.013    -0.006\n",
        "np.log1p(jobs_within_30_min)     0.0326      0.031      1.041      0.298        -0.029     0.094\n",
        "==============================================================================\n",
        "Omnibus:                      302.025   Durbin-Watson:                   1.314\n",
        "Prob(Omnibus):                  0.000   Jarque-Bera (JB):             1127.306\n",
        "Skew:                          -1.025   Prob(JB):                    1.62e-245\n",
        "Kurtosis:                       6.929   Cond. No.                     5.36e+06\n",
        "==============================================================================\n",
        "\n",
        "Warnings:\n",
        "[1] The condition number is large, 5.36e+06. This might indicate that there are\n",
        "strong multicollinearity or other numerical problems."
       ]
      },
      {
       "output_type": "stream",
       "stream": "stdout",
       "text": [
        "\n",
        "                                OLS Regression Results                                \n",
        "======================================================================================\n",
        "Dep. Variable:     np.log(unit_price_non_res)   R-squared:                       0.077\n",
        "Model:                                    OLS   Adj. R-squared:                  0.077\n",
        "Method:                         Least Squares   F-statistic:                     515.2\n",
        "Date:                        Wed, 02 Apr 2014   Prob (F-statistic):               0.00\n",
        "Time:                                16:09:46   Log-Likelihood:                -45648.\n",
        "No. Observations:                       55723   AIC:                         9.132e+04\n",
        "Df Residuals:                           55713   BIC:                         9.140e+04\n",
        "Df Model:                                   9                                         \n",
        "================================================================================================\n",
        "                                   coef    std err          t      P>|t|      [95.0% Conf. Int.]\n",
        "------------------------------------------------------------------------------------------------\n",
        "Intercept                       -2.6173      0.247    -10.603      0.000        -3.101    -2.133\n",
        "I(year_built < 1940)[T.True]     0.0032      0.011      0.276      0.783        -0.019     0.026\n",
        "year_built                       0.0032      0.000     25.720      0.000         0.003     0.003\n",
        "stories                         -0.0814      0.007    -11.112      0.000        -0.096    -0.067\n",
        "non_residential_sqft            -0.0001      3e-06    -34.969      0.000        -0.000 -9.92e-05\n",
        "np.log1p(empden)                -0.0016      0.005     -0.299      0.765        -0.012     0.009\n",
        "dist_hwy                      1.137e-07   1.69e-07      0.674      0.500     -2.17e-07  4.44e-07\n",
        "dist_road                     1.115e-05   1.27e-06      8.744      0.000      8.65e-06  1.36e-05\n",
        "crime08                         -0.0107      0.000    -31.030      0.000        -0.011    -0.010\n",
        "np.log1p(jobs_within_30_min)     0.0226      0.002     12.229      0.000         0.019     0.026\n",
        "==============================================================================\n",
        "Omnibus:                    37874.662   Durbin-Watson:                   1.092\n",
        "Prob(Omnibus):                  0.000   Jarque-Bera (JB):           890472.534\n",
        "Skew:                          -2.955   Prob(JB):                         0.00\n",
        "Kurtosis:                      21.671   Cond. No.                     2.79e+06\n",
        "==============================================================================\n",
        "\n",
        "Warnings:\n",
        "[1] The condition number is large, 2.79e+06. This might indicate that there are\n",
        "strong multicollinearity or other numerical problems."
       ]
      },
      {
       "output_type": "stream",
       "stream": "stdout",
       "text": [
        "\n",
        "                                OLS Regression Results                                \n",
        "======================================================================================\n",
        "Dep. Variable:     np.log(unit_price_non_res)   R-squared:                       0.184\n",
        "Model:                                    OLS   Adj. R-squared:                  0.165\n",
        "Method:                         Least Squares   F-statistic:                     10.10\n",
        "Date:                        Wed, 02 Apr 2014   Prob (F-statistic):           4.78e-14\n",
        "Time:                                16:09:46   Log-Likelihood:                -575.58\n",
        "No. Observations:                         414   AIC:                             1171.\n",
        "Df Residuals:                             404   BIC:                             1211.\n",
        "Df Model:                                   9                                         \n",
        "================================================================================================\n",
        "                                   coef    std err          t      P>|t|      [95.0% Conf. Int.]\n",
        "------------------------------------------------------------------------------------------------\n",
        "Intercept                        8.3274      4.891      1.703      0.089        -1.287    17.942\n",
        "I(year_built < 1940)[T.True]    -0.3579      0.210     -1.705      0.089        -0.771     0.055\n",
        "year_built                      -0.0038      0.002     -1.586      0.114        -0.009     0.001\n",
        "stories                          0.3180      0.074      4.324      0.000         0.173     0.463\n",
        "non_residential_sqft          1.252e-06   1.47e-06      0.854      0.394     -1.63e-06  4.14e-06\n",
        "np.log1p(empden)                 0.0691      0.059      1.175      0.241        -0.047     0.185\n",
        "dist_hwy                     -7.886e-06   4.91e-06     -1.607      0.109     -1.75e-05  1.76e-06\n",
        "dist_road                     1.768e-05   4.28e-05      0.413      0.680     -6.65e-05     0.000\n",
        "crime08                         -0.0199      0.003     -7.127      0.000        -0.025    -0.014\n",
        "np.log1p(jobs_within_30_min)     0.2092      0.062      3.398      0.001         0.088     0.330\n",
        "==============================================================================\n",
        "Omnibus:                       93.658   Durbin-Watson:                   0.916\n",
        "Prob(Omnibus):                  0.000   Jarque-Bera (JB):              198.788\n",
        "Skew:                          -1.183   Prob(JB):                     6.82e-44\n",
        "Kurtosis:                       5.434   Cond. No.                     3.80e+06\n",
        "==============================================================================\n",
        "\n",
        "Warnings:\n",
        "[1] The condition number is large, 3.8e+06. This might indicate that there are\n",
        "strong multicollinearity or other numerical problems."
       ]
      },
      {
       "output_type": "stream",
       "stream": "stdout",
       "text": [
        "\n",
        "                                OLS Regression Results                                \n",
        "======================================================================================\n",
        "Dep. Variable:     np.log(unit_price_non_res)   R-squared:                       0.670\n",
        "Model:                                    OLS   Adj. R-squared:                  0.667\n",
        "Method:                         Least Squares   F-statistic:                     236.6\n",
        "Date:                        Wed, 02 Apr 2014   Prob (F-statistic):          1.67e-245\n",
        "Time:                                16:09:46   Log-Likelihood:                -2166.4\n",
        "No. Observations:                        1060   AIC:                             4353.\n",
        "Df Residuals:                            1050   BIC:                             4402.\n",
        "Df Model:                                   9                                         \n",
        "================================================================================================\n",
        "                                   coef    std err          t      P>|t|      [95.0% Conf. Int.]\n",
        "------------------------------------------------------------------------------------------------\n",
        "Intercept                      -25.2178      7.342     -3.435      0.001       -39.625   -10.810\n",
        "I(year_built < 1940)[T.True]     0.4168      0.274      1.519      0.129        -0.122     0.955\n",
        "year_built                       0.0136      0.004      3.579      0.000         0.006     0.021\n",
        "stories                          0.3861      0.048      8.038      0.000         0.292     0.480\n",
        "non_residential_sqft         -1.889e-05   5.38e-07    -35.100      0.000     -1.99e-05 -1.78e-05\n",
        "np.log1p(empden)                 0.2690      0.049      5.444      0.000         0.172     0.366\n",
        "dist_hwy                     -7.558e-06   9.78e-06     -0.773      0.440     -2.68e-05  1.16e-05\n",
        "dist_road                        0.0003      0.000      1.249      0.212        -0.000     0.001\n",
        "crime08                         -0.0249      0.003     -9.469      0.000        -0.030    -0.020\n",
        "np.log1p(jobs_within_30_min)     0.0726      0.088      0.827      0.408        -0.100     0.245\n",
        "==============================================================================\n",
        "Omnibus:                      319.871   Durbin-Watson:                   1.439\n",
        "Prob(Omnibus):                  0.000   Jarque-Bera (JB):             1857.064\n",
        "Skew:                           1.259   Prob(JB):                         0.00\n",
        "Kurtosis:                       8.975   Cond. No.                     1.94e+07\n",
        "==============================================================================\n",
        "\n",
        "Warnings:\n",
        "[1] The condition number is large, 1.94e+07. This might indicate that there are\n",
        "strong multicollinearity or other numerical problems."
       ]
      },
      {
       "output_type": "stream",
       "stream": "stdout",
       "text": [
        "\n"
       ]
      }
     ],
     "prompt_number": 30
    },
    {
     "cell_type": "heading",
     "level": 2,
     "metadata": {},
     "source": [
      "Simulate"
     ]
    },
    {
     "cell_type": "code",
     "collapsed": false,
     "input": [
      "def simulate(segment, params):\n",
      "    _, est_data = dmatrices(patsy_expression(), segment, return_type='dataframe')\n",
      "    return est_data.dot(params)"
     ],
     "language": "python",
     "metadata": {},
     "outputs": [],
     "prompt_number": 31
    },
    {
     "cell_type": "code",
     "collapsed": false,
     "input": [
      "prices = {name: simulate(df, estimates[name].params) for name, df in segments}"
     ],
     "language": "python",
     "metadata": {},
     "outputs": [],
     "prompt_number": 32
    },
    {
     "cell_type": "code",
     "collapsed": false,
     "input": [],
     "language": "python",
     "metadata": {},
     "outputs": []
    }
   ],
   "metadata": {}
  }
 ]
}