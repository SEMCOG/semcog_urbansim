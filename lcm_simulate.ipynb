{
 "cells": [
  {
   "cell_type": "markdown",
   "metadata": {},
   "source": [
    "### Imports and registering variables with orca "
   ]
  },
  {
   "cell_type": "code",
   "execution_count": null,
   "metadata": {
    "collapsed": false,
    "scrolled": true
   },
   "outputs": [],
   "source": [
    "import os\n",
    "import numpy as np\n",
    "import pandas as pd\n",
    "\n",
    "import orca\n",
    "from urbansim.utils import misc\n",
    "\n",
    "import dataset\n",
    "import variables\n",
    "import models\n",
    "import utils\n",
    "\n",
    "orca.run([\"build_networks\"])\n",
    "orca.run([\"neighborhood_vars\"])"
   ]
  },
  {
   "cell_type": "markdown",
   "metadata": {},
   "source": [
    "## Simulation Example"
   ]
  },
  {
   "cell_type": "code",
   "execution_count": null,
   "metadata": {
    "collapsed": false,
    "scrolled": true
   },
   "outputs": [],
   "source": [
    "# Simple transition model step\n",
    "@orca.step('simple_jobs_transition')\n",
    "def simple_transition_model(jobs):\n",
    "    return utils.simple_transition(jobs, .005, 'building_id')\n",
    "\n",
    "# Create the choice model object for sector_id 1 and register model as inectable\n",
    "elcm1_model = utils.SimulationChoiceModel.from_yaml(str_or_buffer=misc.config('elcm/categories/elcm1.yaml'))\n",
    "elcm1_model.set_simulation_params('elcm1', 'job_spaces','vacant_job_spaces', 'jobs', 'buildings')\n",
    "orca.add_injectable('elcm1_model', elcm1_model)\n",
    "\n",
    "# ELCM model step for sector 1\n",
    "@orca.step('elcm1')\n",
    "def choice_model_simulate(elcm1_model, jobs):\n",
    "    choices = elcm1_model.simulate(choice_function=utils.unit_choices)\n",
    "\n",
    "    print 'There are %s unplaced agents.' % choices.isnull().sum()\n",
    "\n",
    "    jobs.update_col_from_series(elcm1_model.choice_column, choices, cast=True)\n",
    "\n",
    "    \n",
    "# Simulate\n",
    "orca.run(['simple_jobs_transition', 'elcm1'])"
   ]
  },
  {
   "cell_type": "markdown",
   "metadata": {},
   "source": [
    "## Scoring Example"
   ]
  },
  {
   "cell_type": "code",
   "execution_count": null,
   "metadata": {
    "collapsed": false
   },
   "outputs": [],
   "source": [
    "lids = orca.get_table('buildings').large_area_id.fillna(0).astype('int')\n",
    "\n",
    "model = utils.SimulationChoiceModel.from_yaml(str_or_buffer=misc.config('hlcm/hlcm1.yaml'))\n",
    "model.set_simulation_params('hlcm1', 'residential_units',\n",
    "                            'vacant_residential_units', 'households', 'buildings', lids)\n",
    "\n",
    "print '** Score is %s' % model.score()"
   ]
  },
  {
   "cell_type": "markdown",
   "metadata": {},
   "source": [
    "## Plotting probabilities example"
   ]
  },
  {
   "cell_type": "code",
   "execution_count": null,
   "metadata": {
    "collapsed": false
   },
   "outputs": [],
   "source": [
    "from bokeh.plotting import figure, output_notebook\n",
    "output_notebook()\n",
    "\n",
    "import datashader as ds\n",
    "from datashader import transfer_functions as tf\n",
    "from datashader.bokeh_ext import InteractiveImage\n",
    "from functools import partial\n",
    "from datashader.utils import export_image\n",
    "from datashader.colors import colormap_select\n",
    "\n",
    "def plot_by_high_low_proba(df):\n",
    "    df['ones'] = 1\n",
    "    region = x_range, y_range = ((df.x.min(),df.x.max()), (df.y.min(),df.y.max()))\n",
    "\n",
    "    plot_width  = int(750)\n",
    "    plot_height = int(plot_width//1.2)\n",
    "\n",
    "    def base_plot(tools='pan,wheel_zoom,reset',plot_width=plot_width, plot_height=plot_height, **plot_args):\n",
    "        p = figure(tools=tools, plot_width=plot_width, plot_height=plot_height,\n",
    "            x_range=x_range, y_range=y_range, outline_line_color=None,\n",
    "            min_border=0, min_border_left=0, min_border_right=0,\n",
    "            min_border_top=0, min_border_bottom=0, **plot_args)\n",
    "\n",
    "        p.axis.visible = False\n",
    "        p.xgrid.grid_line_color = None\n",
    "        p.ygrid.grid_line_color = None\n",
    "        return p\n",
    "\n",
    "    options = dict(line_color=None, fill_color='blue', size=5)\n",
    "\n",
    "    background = \"black\"\n",
    "    export = partial(export_image, export_path=\"export\", background=background)\n",
    "    cm = partial(colormap_select, reverse=(background==\"black\"))\n",
    "\n",
    "    def create_image(x_range, y_range, w=plot_width, h=plot_height):\n",
    "        cvs = ds.Canvas(plot_width=w, plot_height=h, x_range=x_range, y_range=y_range)\n",
    "        color_key = color_key = {'low':'aqua', 'high':'red'}\n",
    "\n",
    "        agg = cvs.points(df, 'x', 'y',  ds.count_cat('proba_class'))\n",
    "\n",
    "        img = tf.shade(agg, color_key=color_key, how='eq_hist')\n",
    "        return tf.dynspread(img, threshold=0.5, max_px=4)\n",
    "\n",
    "    p = base_plot(background_fill_color=background)\n",
    "\n",
    "    export(create_image(*region), 'probas')\n",
    "    return InteractiveImage(p, create_image)\n",
    "\n",
    "\n",
    "def elcm_probabilities(sector_id):\n",
    "    model_name = 'elcm%s' % sector_id\n",
    "    config_filename = 'elcm/categories/elcm%s.yaml' % sector_id\n",
    "\n",
    "    model = utils.SimulationChoiceModel.from_yaml(str_or_buffer=misc.config(config_filename))\n",
    "\n",
    "    model.set_simulation_params(model_name,\n",
    "                                'job_spaces',\n",
    "                                'vacant_job_spaces',\n",
    "                                'jobs',\n",
    "                                'buildings')\n",
    "\n",
    "    choosers, alternatives = model.calculate_model_variables()\n",
    "\n",
    "    return model.calculate_probabilities(choosers, alternatives)\n",
    "\n",
    "\n",
    "def hlcm_probabilities(segment_id):\n",
    "    model_name = 'hlcm%s' % segment_id\n",
    "    config_filename = 'hlcm/hlcm%s.yaml' % segment_id\n",
    "\n",
    "    model = utils.SimulationChoiceModel.from_yaml(str_or_buffer=misc.config(config_filename))\n",
    "\n",
    "    model.set_simulation_params(model_name,\n",
    "                                'residential_units',\n",
    "                                'vacant_residential_units',\n",
    "                                'households',\n",
    "                                'buildings')\n",
    "\n",
    "    choosers, alternatives = model.calculate_model_variables()\n",
    "\n",
    "    return model.calculate_probabilities(choosers, alternatives)\n",
    "\n",
    "\n",
    "def plot_building_level_probas(probas):\n",
    "    buildings = orca.get_table('buildings')\n",
    "    b_proba = pd.DataFrame({'proba':probas, 'x':buildings.parcels_centroid_x, 'y':buildings.parcels_centroid_y})\n",
    "\n",
    "    b_proba = b_proba[(b_proba.x > 0) & (b_proba.y > 0) & (b_proba.x < 13640484) & (b_proba.y <  600000)]\n",
    "    b_proba.proba = b_proba.proba*10000\n",
    "\n",
    "    mean_proba = b_proba.proba.median()\n",
    "    b_proba['proba_class'] = ''\n",
    "    b_proba.proba_class[b_proba.proba > mean_proba] = 'high'\n",
    "    b_proba.proba_class[b_proba.proba <= mean_proba] = 'low'\n",
    "    b_proba.proba_class = b_proba.proba_class.astype('category')\n",
    "\n",
    "    return plot_by_high_low_proba(b_proba)\n",
    "\n",
    "\n",
    "def plot_elcm_probabilities(sector_id):\n",
    "    probabilities = elcm_probabilities(sector_id)\n",
    "    return plot_building_level_probas(probabilities)\n",
    "\n",
    "def plot_hlcm_probabilities(segment_id):\n",
    "    probabilities = hlcm_probabilities(segment_id)\n",
    "    return plot_building_level_probas(probabilities)"
   ]
  },
  {
   "cell_type": "code",
   "execution_count": null,
   "metadata": {
    "collapsed": false
   },
   "outputs": [],
   "source": [
    "plot_hlcm_probabilities(1)"
   ]
  },
  {
   "cell_type": "code",
   "execution_count": null,
   "metadata": {
    "collapsed": false
   },
   "outputs": [],
   "source": [
    "plot_hlcm_probabilities(2)"
   ]
  },
  {
   "cell_type": "code",
   "execution_count": null,
   "metadata": {
    "collapsed": false
   },
   "outputs": [],
   "source": [
    "plot_hlcm_probabilities(3)"
   ]
  },
  {
   "cell_type": "code",
   "execution_count": null,
   "metadata": {
    "collapsed": false
   },
   "outputs": [],
   "source": [
    "plot_hlcm_probabilities(4)"
   ]
  },
  {
   "cell_type": "code",
   "execution_count": null,
   "metadata": {
    "collapsed": false
   },
   "outputs": [],
   "source": [
    "plot_elcm_probabilities(1)"
   ]
  },
  {
   "cell_type": "code",
   "execution_count": null,
   "metadata": {
    "collapsed": false
   },
   "outputs": [],
   "source": [
    "plot_elcm_probabilities(2)"
   ]
  },
  {
   "cell_type": "code",
   "execution_count": null,
   "metadata": {
    "collapsed": false
   },
   "outputs": [],
   "source": [
    "plot_elcm_probabilities(3)"
   ]
  },
  {
   "cell_type": "code",
   "execution_count": null,
   "metadata": {
    "collapsed": false
   },
   "outputs": [],
   "source": [
    "plot_elcm_probabilities(4)"
   ]
  },
  {
   "cell_type": "code",
   "execution_count": null,
   "metadata": {
    "collapsed": false
   },
   "outputs": [],
   "source": [
    "plot_elcm_probabilities(5)"
   ]
  },
  {
   "cell_type": "code",
   "execution_count": null,
   "metadata": {
    "collapsed": false
   },
   "outputs": [],
   "source": [
    "plot_elcm_probabilities(6)"
   ]
  },
  {
   "cell_type": "code",
   "execution_count": null,
   "metadata": {
    "collapsed": false
   },
   "outputs": [],
   "source": [
    "plot_elcm_probabilities(7)"
   ]
  },
  {
   "cell_type": "code",
   "execution_count": null,
   "metadata": {
    "collapsed": false
   },
   "outputs": [],
   "source": [
    "plot_elcm_probabilities(8)"
   ]
  },
  {
   "cell_type": "code",
   "execution_count": null,
   "metadata": {
    "collapsed": false
   },
   "outputs": [],
   "source": [
    "plot_elcm_probabilities(9)"
   ]
  },
  {
   "cell_type": "code",
   "execution_count": null,
   "metadata": {
    "collapsed": false
   },
   "outputs": [],
   "source": [
    "plot_elcm_probabilities(10)"
   ]
  },
  {
   "cell_type": "code",
   "execution_count": null,
   "metadata": {
    "collapsed": false
   },
   "outputs": [],
   "source": [
    "plot_elcm_probabilities(11)"
   ]
  },
  {
   "cell_type": "code",
   "execution_count": null,
   "metadata": {
    "collapsed": false
   },
   "outputs": [],
   "source": [
    "plot_elcm_probabilities(12)"
   ]
  },
  {
   "cell_type": "code",
   "execution_count": null,
   "metadata": {
    "collapsed": false
   },
   "outputs": [],
   "source": [
    "plot_elcm_probabilities(13)"
   ]
  },
  {
   "cell_type": "code",
   "execution_count": null,
   "metadata": {
    "collapsed": false
   },
   "outputs": [],
   "source": [
    "plot_elcm_probabilities(14)"
   ]
  },
  {
   "cell_type": "code",
   "execution_count": null,
   "metadata": {
    "collapsed": false
   },
   "outputs": [],
   "source": [
    "plot_elcm_probabilities(15)"
   ]
  },
  {
   "cell_type": "code",
   "execution_count": null,
   "metadata": {
    "collapsed": false
   },
   "outputs": [],
   "source": [
    "plot_elcm_probabilities(16)"
   ]
  },
  {
   "cell_type": "code",
   "execution_count": null,
   "metadata": {
    "collapsed": false
   },
   "outputs": [],
   "source": [
    "plot_elcm_probabilities(17)"
   ]
  },
  {
   "cell_type": "code",
   "execution_count": null,
   "metadata": {
    "collapsed": false
   },
   "outputs": [],
   "source": [
    "plot_elcm_probabilities(18)"
   ]
  }
 ],
 "metadata": {
  "anaconda-cloud": {},
  "kernelspec": {
   "display_name": "Python [conda root]",
   "language": "python",
   "name": "conda-root-py"
  },
  "language_info": {
   "codemirror_mode": {
    "name": "ipython",
    "version": 2
   },
   "file_extension": ".py",
   "mimetype": "text/x-python",
   "name": "python",
   "nbconvert_exporter": "python",
   "pygments_lexer": "ipython2",
   "version": "2.7.12"
  }
 },
 "nbformat": 4,
 "nbformat_minor": 1
}
