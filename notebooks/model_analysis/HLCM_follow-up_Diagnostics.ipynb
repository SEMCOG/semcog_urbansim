{
 "cells": [
  {
   "cell_type": "code",
   "execution_count": 1,
   "metadata": {},
   "outputs": [],
   "source": [
    "import os\n",
    "import numpy as np\n",
    "import pandas as pd\n",
    "from urbansim.utils import misc\n",
    "import matplotlib.pyplot as plt\n",
    "from scipy import optimize as opt\n",
    "from urbansim.models import MNLDiscreteChoiceModel\n",
    "\n",
    "%matplotlib inline\n",
    "plt.style.use('ggplot')\n",
    "pd.options.display.float_format = '{:,.4f}'.format\n",
    "pd.set_option('display.max_columns', 500)\n",
    "pd.set_option('display.width', 1000)"
   ]
  },
  {
   "cell_type": "markdown",
   "metadata": {},
   "source": [
    "### Load model objects and saved explanatory variables"
   ]
  },
  {
   "cell_type": "code",
   "execution_count": 2,
   "metadata": {},
   "outputs": [],
   "source": [
    "store = pd.HDFStore('hlcm_expvars.h5')\n",
    "\n",
    "buildings = store.buildings\n",
    "hh = store.households"
   ]
  },
  {
   "cell_type": "code",
   "execution_count": 3,
   "metadata": {},
   "outputs": [],
   "source": [
    "model_coeffs = {}\n",
    "for model_config in os.listdir('configs/regional/hlcm'):\n",
    "    submodel = MNLDiscreteChoiceModel.from_yaml(\n",
    "                    str_or_buffer='configs/regional/hlcm/' + model_config)\n",
    "    submodel_coeffs = submodel.fit_parameters.Coefficient\n",
    "    quartile_id = int(model_config.split('.')[0][-1])\n",
    "    model_coeffs[quartile_id] = submodel_coeffs"
   ]
  },
  {
   "cell_type": "code",
   "execution_count": 4,
   "metadata": {},
   "outputs": [],
   "source": [
    "buildings['children:nodes_walk_percent_hh_with_children'] = .59 * buildings.nodes_walk_percent_hh_with_children\n",
    "buildings['hhsize_lt_3:mean_zonal_hhsize'] = .61 * buildings.mean_zonal_hhsize\n",
    "buildings['is_race1:nodes_walk_percent_race1'] = .72 * buildings.nodes_walk_percent_race1\n",
    "buildings['is_race2:nodes_walk_percent_race2'] = .21 * buildings.nodes_walk_percent_race2\n",
    "buildings['is_race4:nodes_walk_percent_race4'] = .05 * buildings.nodes_walk_percent_race4\n",
    "buildings['is_young:zones_empden'] = .17 * buildings.zones_empden\n",
    "buildings['ln_income:nodes_walk_ln_popden'] = 11.5 * buildings.nodes_walk_ln_popden\n",
    "buildings['ln_income:sqft_price_res'] = 11.5 * buildings.sqft_price_res\n",
    "buildings['has_children:nodes_drv_elem_school_perf'] = .41 * buildings.nodes_drv_elem_school_perf"
   ]
  },
  {
   "cell_type": "code",
   "execution_count": 5,
   "metadata": {},
   "outputs": [],
   "source": [
    "expvars = []\n",
    "for submodel_id in model_coeffs.keys():\n",
    "    expvars.extend(model_coeffs[submodel_id].index)\n",
    "    \n",
    "expvars = list(set(expvars))\n",
    "\n",
    "buildings = buildings[expvars + ['vacant_residential_units', 'mode_income_quartile']]"
   ]
  },
  {
   "cell_type": "markdown",
   "metadata": {},
   "source": [
    "### Prep data"
   ]
  },
  {
   "cell_type": "code",
   "execution_count": 6,
   "metadata": {},
   "outputs": [
    {
     "data": {
      "text/plain": [
       "1    71921\n",
       "2    70719\n",
       "3    43676\n",
       "4    25944\n",
       "dtype: int64"
      ]
     },
     "execution_count": 6,
     "metadata": {},
     "output_type": "execute_result"
    }
   ],
   "source": [
    "\n",
    "quartile_change"
   ]
  },
  {
   "cell_type": "code",
   "execution_count": 7,
   "metadata": {},
   "outputs": [],
   "source": [
    "quartile_change = pd.Series({1:71921, 2:70719, 3:43676, 4:25944})\n",
    "\n",
    "building_cols = buildings.columns.values\n",
    "\n",
    "submodel_ids = [1, 2, 3, 4]\n",
    "\n",
    "large_area_ids = [3, 5, 93, 99, 115, 125, 147, 161]\n",
    "\n",
    "quartile_changes = []\n",
    "for submodel_id in submodel_ids:\n",
    "    quartile_changes.append(quartile_change.loc[submodel_id])\n",
    "    \n",
    "x = np.transpose(buildings.as_matrix())\n",
    "\n",
    "quartile_changes = np.array(quartile_changes).reshape((len(quartile_changes), 1))\n",
    "vacant_spaces = buildings.vacant_residential_units.values\n",
    "\n",
    "def get_submodel_coeffs():\n",
    "    w = []\n",
    "\n",
    "    for submodel_id in submodel_ids:\n",
    "        coeffs = model_coeffs[submodel_id]\n",
    "\n",
    "        coeff_vals = pd.Series(0.0, index=building_cols)\n",
    "        coeff_vals.loc[coeffs.index] = coeffs.values\n",
    "        w.append(coeff_vals.values)\n",
    "\n",
    "    return np.array(w)"
   ]
  },
  {
   "cell_type": "markdown",
   "metadata": {},
   "source": [
    "## Summed probabilities by zonal mode income quartile"
   ]
  },
  {
   "cell_type": "code",
   "execution_count": 8,
   "metadata": {},
   "outputs": [],
   "source": [
    "def calculate_proba(w, x):\n",
    "    utilities = np.dot(w, x)\n",
    "    exp_utility = np.exp(utilities)\n",
    "\n",
    "    sum_expu_across_submodels = exp_utility.sum(axis=1, keepdims=True)\n",
    "    proba = exp_utility / sum_expu_across_submodels\n",
    "\n",
    "    return proba"
   ]
  },
  {
   "cell_type": "code",
   "execution_count": 9,
   "metadata": {},
   "outputs": [],
   "source": [
    "# Get ELCM coefficients for large area 3\n",
    "w = get_submodel_coeffs()\n",
    "\n",
    "# Calculate probabilities\n",
    "proba = np.transpose(calculate_proba(w, x))\n",
    "proba_df = pd.DataFrame(proba, columns = submodel_ids)\n",
    "\n",
    "# Sum probabilities by building type\n",
    "proba_df['mode_income_quartile'] = buildings.mode_income_quartile.values\n",
    "summed_proba_mode_income = proba_df.groupby('mode_income_quartile').sum()"
   ]
  },
  {
   "cell_type": "code",
   "execution_count": 10,
   "metadata": {},
   "outputs": [
    {
     "data": {
      "text/html": [
       "<div>\n",
       "<style scoped>\n",
       "    .dataframe tbody tr th:only-of-type {\n",
       "        vertical-align: middle;\n",
       "    }\n",
       "\n",
       "    .dataframe tbody tr th {\n",
       "        vertical-align: top;\n",
       "    }\n",
       "\n",
       "    .dataframe thead th {\n",
       "        text-align: right;\n",
       "    }\n",
       "</style>\n",
       "<table border=\"1\" class=\"dataframe\">\n",
       "  <thead>\n",
       "    <tr style=\"text-align: right;\">\n",
       "      <th></th>\n",
       "      <th>1</th>\n",
       "      <th>2</th>\n",
       "      <th>3</th>\n",
       "      <th>4</th>\n",
       "    </tr>\n",
       "    <tr>\n",
       "      <th>mode_income_quartile</th>\n",
       "      <th></th>\n",
       "      <th></th>\n",
       "      <th></th>\n",
       "      <th></th>\n",
       "    </tr>\n",
       "  </thead>\n",
       "  <tbody>\n",
       "    <tr>\n",
       "      <th>0.0000</th>\n",
       "      <td>0.0000</td>\n",
       "      <td>0.0001</td>\n",
       "      <td>0.0000</td>\n",
       "      <td>0.0000</td>\n",
       "    </tr>\n",
       "    <tr>\n",
       "      <th>1.0000</th>\n",
       "      <td>0.9770</td>\n",
       "      <td>0.2555</td>\n",
       "      <td>0.1705</td>\n",
       "      <td>0.0967</td>\n",
       "    </tr>\n",
       "    <tr>\n",
       "      <th>2.0000</th>\n",
       "      <td>0.0229</td>\n",
       "      <td>0.2917</td>\n",
       "      <td>0.2123</td>\n",
       "      <td>0.1166</td>\n",
       "    </tr>\n",
       "    <tr>\n",
       "      <th>3.0000</th>\n",
       "      <td>0.0001</td>\n",
       "      <td>0.2513</td>\n",
       "      <td>0.3074</td>\n",
       "      <td>0.1834</td>\n",
       "    </tr>\n",
       "    <tr>\n",
       "      <th>4.0000</th>\n",
       "      <td>0.0000</td>\n",
       "      <td>0.2013</td>\n",
       "      <td>0.3098</td>\n",
       "      <td>0.6033</td>\n",
       "    </tr>\n",
       "  </tbody>\n",
       "</table>\n",
       "</div>"
      ],
      "text/plain": [
       "                          1      2      3      4\n",
       "mode_income_quartile                            \n",
       "0.0000               0.0000 0.0001 0.0000 0.0000\n",
       "1.0000               0.9770 0.2555 0.1705 0.0967\n",
       "2.0000               0.0229 0.2917 0.2123 0.1166\n",
       "3.0000               0.0001 0.2513 0.3074 0.1834\n",
       "4.0000               0.0000 0.2013 0.3098 0.6033"
      ]
     },
     "execution_count": 10,
     "metadata": {},
     "output_type": "execute_result"
    }
   ],
   "source": [
    "summed_proba_mode_income"
   ]
  },
  {
   "cell_type": "code",
   "execution_count": 11,
   "metadata": {},
   "outputs": [
    {
     "data": {
      "text/plain": [
       "<matplotlib.axes._subplots.AxesSubplot at 0x7f202ead0410>"
      ]
     },
     "execution_count": 11,
     "metadata": {},
     "output_type": "execute_result"
    },
    {
     "data": {
      "image/png": "[encoded data removed]",
      "text/plain": [
       "<matplotlib.figure.Figure at 0x7f202eb40610>"
      ]
     },
     "metadata": {},
     "output_type": "display_data"
    }
   ],
   "source": [
    "summed_proba_mode_income.loc[[1, 2, 3, 4]].plot()"
   ]
  },
  {
   "cell_type": "code",
   "execution_count": 12,
   "metadata": {},
   "outputs": [
    {
     "data": {
      "text/plain": [
       "<matplotlib.axes._subplots.AxesSubplot at 0x7f2123fb7fd0>"
      ]
     },
     "execution_count": 12,
     "metadata": {},
     "output_type": "execute_result"
    },
    {
     "data": {
      "image/png": "[encoded data removed]",
      "text/plain": [
       "<matplotlib.figure.Figure at 0x7f202eb4c850>"
      ]
     },
     "metadata": {},
     "output_type": "display_data"
    }
   ],
   "source": [
    "summed_proba_mode_income[1].plot.bar()"
   ]
  },
  {
   "cell_type": "code",
   "execution_count": 13,
   "metadata": {},
   "outputs": [
    {
     "data": {
      "text/plain": [
       "<matplotlib.axes._subplots.AxesSubplot at 0x7f2123f32d10>"
      ]
     },
     "execution_count": 13,
     "metadata": {},
     "output_type": "execute_result"
    },
    {
     "data": {
      "image/png": "[encoded data removed]",
      "text/plain": [
       "<matplotlib.figure.Figure at 0x7f2124004d10>"
      ]
     },
     "metadata": {},
     "output_type": "display_data"
    }
   ],
   "source": [
    "summed_proba_mode_income[2].plot.bar()"
   ]
  },
  {
   "cell_type": "code",
   "execution_count": 14,
   "metadata": {},
   "outputs": [
    {
     "data": {
      "text/plain": [
       "<matplotlib.axes._subplots.AxesSubplot at 0x7f2123fb7ed0>"
      ]
     },
     "execution_count": 14,
     "metadata": {},
     "output_type": "execute_result"
    },
    {
     "data": {
      "image/png": "[encoded data removed]",
      "text/plain": [
       "<matplotlib.figure.Figure at 0x7f202eb17910>"
      ]
     },
     "metadata": {},
     "output_type": "display_data"
    }
   ],
   "source": [
    "summed_proba_mode_income[3].plot.bar()"
   ]
  },
  {
   "cell_type": "code",
   "execution_count": 15,
   "metadata": {},
   "outputs": [
    {
     "data": {
      "text/plain": [
       "<matplotlib.axes._subplots.AxesSubplot at 0x7f2123f6c750>"
      ]
     },
     "execution_count": 15,
     "metadata": {},
     "output_type": "execute_result"
    },
    {
     "data": {
      "image/png": "[encoded data removed]",
      "text/plain": [
       "<matplotlib.figure.Figure at 0x7f2123ee6410>"
      ]
     },
     "metadata": {},
     "output_type": "display_data"
    }
   ],
   "source": [
    "summed_proba_mode_income[4].plot.bar()"
   ]
  },
  {
   "cell_type": "markdown",
   "metadata": {},
   "source": [
    "## Summed capacity-weighted probabilities by  zonal mode income quartile"
   ]
  },
  {
   "cell_type": "code",
   "execution_count": 16,
   "metadata": {},
   "outputs": [],
   "source": [
    "def capacity_weighted_proba(w, x, alt_capacity):\n",
    "    proba = calculate_proba(w, x)\n",
    "    capacity_weighted_proba = proba * alt_capacity\n",
    "    sum_capac_wproba_across_submodels = capacity_weighted_proba.sum(axis=1, keepdims=True)\n",
    "    capacity_weighted_proba_normalized = capacity_weighted_proba / sum_capac_wproba_across_submodels\n",
    "    \n",
    "    return capacity_weighted_proba_normalized"
   ]
  },
  {
   "cell_type": "code",
   "execution_count": 17,
   "metadata": {},
   "outputs": [],
   "source": [
    "##  There really is huge vacant capacity in low income zones"
   ]
  },
  {
   "cell_type": "code",
   "execution_count": 18,
   "metadata": {},
   "outputs": [],
   "source": [
    "w = get_submodel_coeffs()\n",
    "capac_weighted_proba = np.transpose(capacity_weighted_proba(w, x, vacant_spaces))\n",
    "\n",
    "proba_df = pd.DataFrame(capac_weighted_proba, columns=submodel_ids)\n",
    "proba_df['mode_income_quartile'] = buildings.mode_income_quartile.values\n",
    "\n",
    "summed_capac_weighted_proba_mode_income = proba_df.groupby('mode_income_quartile').sum()"
   ]
  },
  {
   "cell_type": "code",
   "execution_count": 19,
   "metadata": {},
   "outputs": [
    {
     "data": {
      "text/html": [
       "<div>\n",
       "<style scoped>\n",
       "    .dataframe tbody tr th:only-of-type {\n",
       "        vertical-align: middle;\n",
       "    }\n",
       "\n",
       "    .dataframe tbody tr th {\n",
       "        vertical-align: top;\n",
       "    }\n",
       "\n",
       "    .dataframe thead th {\n",
       "        text-align: right;\n",
       "    }\n",
       "</style>\n",
       "<table border=\"1\" class=\"dataframe\">\n",
       "  <thead>\n",
       "    <tr style=\"text-align: right;\">\n",
       "      <th></th>\n",
       "      <th>1</th>\n",
       "      <th>2</th>\n",
       "      <th>3</th>\n",
       "      <th>4</th>\n",
       "    </tr>\n",
       "    <tr>\n",
       "      <th>mode_income_quartile</th>\n",
       "      <th></th>\n",
       "      <th></th>\n",
       "      <th></th>\n",
       "      <th></th>\n",
       "    </tr>\n",
       "  </thead>\n",
       "  <tbody>\n",
       "    <tr>\n",
       "      <th>0.0000</th>\n",
       "      <td>0.0000</td>\n",
       "      <td>0.0005</td>\n",
       "      <td>0.0001</td>\n",
       "      <td>0.0001</td>\n",
       "    </tr>\n",
       "    <tr>\n",
       "      <th>1.0000</th>\n",
       "      <td>0.8778</td>\n",
       "      <td>0.4485</td>\n",
       "      <td>0.3427</td>\n",
       "      <td>0.2999</td>\n",
       "    </tr>\n",
       "    <tr>\n",
       "      <th>2.0000</th>\n",
       "      <td>0.1218</td>\n",
       "      <td>0.2713</td>\n",
       "      <td>0.2685</td>\n",
       "      <td>0.1981</td>\n",
       "    </tr>\n",
       "    <tr>\n",
       "      <th>3.0000</th>\n",
       "      <td>0.0004</td>\n",
       "      <td>0.1580</td>\n",
       "      <td>0.1921</td>\n",
       "      <td>0.1617</td>\n",
       "    </tr>\n",
       "    <tr>\n",
       "      <th>4.0000</th>\n",
       "      <td>0.0000</td>\n",
       "      <td>0.1217</td>\n",
       "      <td>0.1966</td>\n",
       "      <td>0.3401</td>\n",
       "    </tr>\n",
       "  </tbody>\n",
       "</table>\n",
       "</div>"
      ],
      "text/plain": [
       "                          1      2      3      4\n",
       "mode_income_quartile                            \n",
       "0.0000               0.0000 0.0005 0.0001 0.0001\n",
       "1.0000               0.8778 0.4485 0.3427 0.2999\n",
       "2.0000               0.1218 0.2713 0.2685 0.1981\n",
       "3.0000               0.0004 0.1580 0.1921 0.1617\n",
       "4.0000               0.0000 0.1217 0.1966 0.3401"
      ]
     },
     "execution_count": 19,
     "metadata": {},
     "output_type": "execute_result"
    }
   ],
   "source": [
    "summed_capac_weighted_proba_mode_income"
   ]
  },
  {
   "cell_type": "code",
   "execution_count": 20,
   "metadata": {},
   "outputs": [
    {
     "data": {
      "text/plain": [
       "<matplotlib.axes._subplots.AxesSubplot at 0x7f2123e2c4d0>"
      ]
     },
     "execution_count": 20,
     "metadata": {},
     "output_type": "execute_result"
    },
    {
     "data": {
      "image/png": "[encoded data removed]",
      "text/plain": [
       "<matplotlib.figure.Figure at 0x7f2123eef710>"
      ]
     },
     "metadata": {},
     "output_type": "display_data"
    }
   ],
   "source": [
    "summed_capac_weighted_proba_mode_income.loc[[1, 2, 3, 4]].plot()"
   ]
  },
  {
   "cell_type": "code",
   "execution_count": 21,
   "metadata": {},
   "outputs": [],
   "source": [
    "## See above..  The large vacancies in poorer areas are driving rich hh there"
   ]
  },
  {
   "cell_type": "code",
   "execution_count": 22,
   "metadata": {},
   "outputs": [
    {
     "data": {
      "text/plain": [
       "<matplotlib.axes._subplots.AxesSubplot at 0x7f2123d7d790>"
      ]
     },
     "execution_count": 22,
     "metadata": {},
     "output_type": "execute_result"
    },
    {
     "data": {
      "image/png": "[encoded data removed]",
      "text/plain": [
       "<matplotlib.figure.Figure at 0x7f2123e3e990>"
      ]
     },
     "metadata": {},
     "output_type": "display_data"
    }
   ],
   "source": [
    "summed_capac_weighted_proba_mode_income[1].plot.bar()"
   ]
  },
  {
   "cell_type": "code",
   "execution_count": 23,
   "metadata": {},
   "outputs": [
    {
     "data": {
      "text/plain": [
       "<matplotlib.axes._subplots.AxesSubplot at 0x7f2123d1d210>"
      ]
     },
     "execution_count": 23,
     "metadata": {},
     "output_type": "execute_result"
    },
    {
     "data": {
      "image/png": "[encoded data removed]",
      "text/plain": [
       "<matplotlib.figure.Figure at 0x7f2123ed8cd0>"
      ]
     },
     "metadata": {},
     "output_type": "display_data"
    }
   ],
   "source": [
    "summed_capac_weighted_proba_mode_income[2].plot.bar()"
   ]
  },
  {
   "cell_type": "code",
   "execution_count": 24,
   "metadata": {},
   "outputs": [
    {
     "data": {
      "text/plain": [
       "<matplotlib.axes._subplots.AxesSubplot at 0x7f2123c45cd0>"
      ]
     },
     "execution_count": 24,
     "metadata": {},
     "output_type": "execute_result"
    },
    {
     "data": {
      "image/png": "[encoded data removed]",
      "text/plain": [
       "<matplotlib.figure.Figure at 0x7f2123c8b690>"
      ]
     },
     "metadata": {},
     "output_type": "display_data"
    }
   ],
   "source": [
    "summed_capac_weighted_proba_mode_income[3].plot.bar()"
   ]
  },
  {
   "cell_type": "code",
   "execution_count": 25,
   "metadata": {},
   "outputs": [
    {
     "data": {
      "text/plain": [
       "<matplotlib.axes._subplots.AxesSubplot at 0x7f2123d0fc90>"
      ]
     },
     "execution_count": 25,
     "metadata": {},
     "output_type": "execute_result"
    },
    {
     "data": {
      "image/png": "[encoded data removed]",
      "text/plain": [
       "<matplotlib.figure.Figure at 0x7f2123c97e90>"
      ]
     },
     "metadata": {},
     "output_type": "display_data"
    }
   ],
   "source": [
    "summed_capac_weighted_proba_mode_income[4].plot.bar()"
   ]
  },
  {
   "cell_type": "markdown",
   "metadata": {},
   "source": [
    "## Expected growth by zonal mode income quartile"
   ]
  },
  {
   "cell_type": "code",
   "execution_count": 26,
   "metadata": {},
   "outputs": [],
   "source": [
    "idx_mode_1 = buildings.mode_income_quartile_is_1.values\n",
    "idx_mode_2 = buildings.mode_income_quartile_is_2.values\n",
    "idx_mode_3 = buildings.mode_income_quartile_is_3.values\n",
    "idx_mode_4 = buildings.mode_income_quartile_is_4.values"
   ]
  },
  {
   "cell_type": "code",
   "execution_count": 27,
   "metadata": {},
   "outputs": [],
   "source": [
    "def expected_growth(w, x, alt_capacity, obs_growth):\n",
    "    capacity_weighted_proba_normalized = capacity_weighted_proba(w, x, alt_capacity)\n",
    "    expected_growth = np.transpose(capacity_weighted_proba_normalized * obs_growth)\n",
    "    return expected_growth"
   ]
  },
  {
   "cell_type": "code",
   "execution_count": 28,
   "metadata": {},
   "outputs": [],
   "source": [
    "w = get_submodel_coeffs()\n",
    "expected_growths = expected_growth(w, x, vacant_spaces, quartile_changes)\n",
    "\n",
    "proba_df = pd.DataFrame(expected_growths, columns=submodel_ids)\n",
    "proba_df['mode_income_quartile'] = buildings.mode_income_quartile.values\n",
    "\n",
    "expected_growths = proba_df.groupby('mode_income_quartile').sum()"
   ]
  },
  {
   "cell_type": "code",
   "execution_count": 30,
   "metadata": {},
   "outputs": [
    {
     "data": {
      "text/html": [
       "<div>\n",
       "<style scoped>\n",
       "    .dataframe tbody tr th:only-of-type {\n",
       "        vertical-align: middle;\n",
       "    }\n",
       "\n",
       "    .dataframe tbody tr th {\n",
       "        vertical-align: top;\n",
       "    }\n",
       "\n",
       "    .dataframe thead th {\n",
       "        text-align: right;\n",
       "    }\n",
       "</style>\n",
       "<table border=\"1\" class=\"dataframe\">\n",
       "  <thead>\n",
       "    <tr style=\"text-align: right;\">\n",
       "      <th></th>\n",
       "      <th>1</th>\n",
       "      <th>2</th>\n",
       "      <th>3</th>\n",
       "      <th>4</th>\n",
       "    </tr>\n",
       "    <tr>\n",
       "      <th>mode_income_quartile</th>\n",
       "      <th></th>\n",
       "      <th></th>\n",
       "      <th></th>\n",
       "      <th></th>\n",
       "    </tr>\n",
       "  </thead>\n",
       "  <tbody>\n",
       "    <tr>\n",
       "      <th>0.0000</th>\n",
       "      <td>0.0000</td>\n",
       "      <td>36.0162</td>\n",
       "      <td>2.4600</td>\n",
       "      <td>2.6950</td>\n",
       "    </tr>\n",
       "    <tr>\n",
       "      <th>1.0000</th>\n",
       "      <td>63,132.9414</td>\n",
       "      <td>31,718.6924</td>\n",
       "      <td>14,968.6540</td>\n",
       "      <td>7,781.5873</td>\n",
       "    </tr>\n",
       "    <tr>\n",
       "      <th>2.0000</th>\n",
       "      <td>8,758.3307</td>\n",
       "      <td>19,188.3104</td>\n",
       "      <td>11,729.1668</td>\n",
       "      <td>5,140.0878</td>\n",
       "    </tr>\n",
       "    <tr>\n",
       "      <th>3.0000</th>\n",
       "      <td>29.6911</td>\n",
       "      <td>11,171.3679</td>\n",
       "      <td>8,390.9767</td>\n",
       "      <td>4,196.1949</td>\n",
       "    </tr>\n",
       "    <tr>\n",
       "      <th>4.0000</th>\n",
       "      <td>0.0368</td>\n",
       "      <td>8,604.6130</td>\n",
       "      <td>8,584.7426</td>\n",
       "      <td>8,823.4350</td>\n",
       "    </tr>\n",
       "  </tbody>\n",
       "</table>\n",
       "</div>"
      ],
      "text/plain": [
       "                               1           2           3          4\n",
       "mode_income_quartile                                               \n",
       "0.0000                    0.0000     36.0162      2.4600     2.6950\n",
       "1.0000               63,132.9414 31,718.6924 14,968.6540 7,781.5873\n",
       "2.0000                8,758.3307 19,188.3104 11,729.1668 5,140.0878\n",
       "3.0000                   29.6911 11,171.3679  8,390.9767 4,196.1949\n",
       "4.0000                    0.0368  8,604.6130  8,584.7426 8,823.4350"
      ]
     },
     "execution_count": 30,
     "metadata": {},
     "output_type": "execute_result"
    }
   ],
   "source": [
    "expected_growths"
   ]
  },
  {
   "cell_type": "code",
   "execution_count": 31,
   "metadata": {},
   "outputs": [
    {
     "data": {
      "text/plain": [
       "<matplotlib.axes._subplots.AxesSubplot at 0x7f2123b0b4d0>"
      ]
     },
     "execution_count": 31,
     "metadata": {},
     "output_type": "execute_result"
    },
    {
     "data": {
      "image/png": "[encoded data removed]",
      "text/plain": [
       "<matplotlib.figure.Figure at 0x7f2123b324d0>"
      ]
     },
     "metadata": {},
     "output_type": "display_data"
    }
   ],
   "source": [
    "expected_growths.loc[[1, 2, 3, 4]].plot()"
   ]
  },
  {
   "cell_type": "code",
   "execution_count": null,
   "metadata": {},
   "outputs": [],
   "source": []
  },
  {
   "cell_type": "markdown",
   "metadata": {},
   "source": [
    "## What value of a dummy variable for is-zone-mode-income-1 will help match observed shares of each income quartile in low-income areas"
   ]
  },
  {
   "cell_type": "code",
   "execution_count": 32,
   "metadata": {},
   "outputs": [],
   "source": [
    "# Objective function to minimize\n",
    "\n",
    "def growth_share_deviation(coeff, w, x, obs_growth, idx_alts, growth_share_target, submodel_idx, coeff_idx, alt_capacity):\n",
    "    w[submodel_idx, coeff_idx] = coeff\n",
    "    expected_growths = expected_growth(w, x, alt_capacity, obs_growth)\n",
    "    \n",
    "    proba_df = pd.DataFrame(expected_growths, columns=submodel_ids)\n",
    "    proba_df['mode_income_quartile'] = buildings.mode_income_quartile.values\n",
    "    growth_totals = proba_df.groupby('mode_income_quartile').sum()\n",
    "\n",
    "    alts_of_interest = expected_growths[np.where(idx_alts)]\n",
    "    growth_shares_by_submodel = alts_of_interest.sum(axis=0) / expected_growths.sum(axis=0)\n",
    "    abs_deviation = abs(growth_shares_by_submodel[submodel_idx] - growth_share_target)\n",
    "    return abs_deviation"
   ]
  },
  {
   "cell_type": "code",
   "execution_count": 37,
   "metadata": {},
   "outputs": [
    {
     "data": {
      "text/plain": [
       "[<matplotlib.lines.Line2D at 0x7f21237cc250>]"
      ]
     },
     "execution_count": 37,
     "metadata": {},
     "output_type": "execute_result"
    },
    {
     "data": {
      "image/png": "[encoded data removed]",
      "text/plain": [
       "<matplotlib.figure.Figure at 0x7f21239affd0>"
      ]
     },
     "metadata": {},
     "output_type": "display_data"
    }
   ],
   "source": [
    "w = get_submodel_coeffs()\n",
    "\n",
    "coeffs = np.linspace(-10, 10, 30)\n",
    "errors = [growth_share_deviation(coeff, w, x, quartile_changes, idx_mode_1, .09, 3, 18, vacant_spaces) for coeff in coeffs]\n",
    "plt.plot(coeffs, errors)"
   ]
  },
  {
   "cell_type": "code",
   "execution_count": 38,
   "metadata": {},
   "outputs": [
    {
     "data": {
      "text/plain": [
       "[<matplotlib.lines.Line2D at 0x7f212374a890>]"
      ]
     },
     "execution_count": 38,
     "metadata": {},
     "output_type": "execute_result"
    },
    {
     "data": {
      "image/png": "[encoded data removed]",
      "text/plain": [
       "<matplotlib.figure.Figure at 0x7f21239380d0>"
      ]
     },
     "metadata": {},
     "output_type": "display_data"
    }
   ],
   "source": [
    "w = get_submodel_coeffs()\n",
    "\n",
    "coeffs = np.linspace(-10, 10, 50)\n",
    "errors = [growth_share_deviation(coeff, w, x, quartile_changes, idx_mode_1, .19, 2, 18, vacant_spaces) for coeff in coeffs]\n",
    "plt.plot(coeffs, errors)"
   ]
  },
  {
   "cell_type": "code",
   "execution_count": 39,
   "metadata": {},
   "outputs": [
    {
     "data": {
      "text/plain": [
       "[<matplotlib.lines.Line2D at 0x7f21236de450>]"
      ]
     },
     "execution_count": 39,
     "metadata": {},
     "output_type": "execute_result"
    },
    {
     "data": {
      "image/png": "[encoded data removed]",
      "text/plain": [
       "<matplotlib.figure.Figure at 0x7f21237b1790>"
      ]
     },
     "metadata": {},
     "output_type": "display_data"
    }
   ],
   "source": [
    "w = get_submodel_coeffs()\n",
    "\n",
    "coeffs = np.linspace(-10, 10, 50)\n",
    "errors = [growth_share_deviation(coeff, w, x, quartile_changes, idx_mode_1, .31, 1, 18, vacant_spaces) for coeff in coeffs]\n",
    "plt.plot(coeffs, errors)"
   ]
  },
  {
   "cell_type": "markdown",
   "metadata": {},
   "source": [
    "## Calibrating an is_income_mode_1 dummy"
   ]
  },
  {
   "cell_type": "code",
   "execution_count": 40,
   "metadata": {},
   "outputs": [
    {
     "name": "stdout",
     "output_type": "stream",
     "text": [
      "-1.4660410480292232\n"
     ]
    }
   ],
   "source": [
    "result = opt.minimize_scalar(growth_share_deviation, method='Brent', args=(w, x, quartile_changes, idx_mode_1, .09, 3, 18, vacant_spaces))\n",
    "print result.x"
   ]
  },
  {
   "cell_type": "code",
   "execution_count": 41,
   "metadata": {},
   "outputs": [
    {
     "name": "stdout",
     "output_type": "stream",
     "text": [
      "-0.798815413818028\n"
     ]
    }
   ],
   "source": [
    "result = opt.minimize_scalar(growth_share_deviation, method='Brent', args=(w, x, quartile_changes, idx_mode_1, .19, 2, 18, vacant_spaces))\n",
    "print result.x"
   ]
  },
  {
   "cell_type": "code",
   "execution_count": 42,
   "metadata": {},
   "outputs": [
    {
     "name": "stdout",
     "output_type": "stream",
     "text": [
      "-0.593455940199034\n"
     ]
    }
   ],
   "source": [
    "result = opt.minimize_scalar(growth_share_deviation, method='Brent', args=(w, x, quartile_changes, idx_mode_1, .31, 1, 18, vacant_spaces))\n",
    "print result.x"
   ]
  },
  {
   "cell_type": "code",
   "execution_count": null,
   "metadata": {},
   "outputs": [],
   "source": []
  }
 ],
 "metadata": {
  "kernelspec": {
   "display_name": "Python 2",
   "language": "python",
   "name": "python2"
  },
  "language_info": {
   "codemirror_mode": {
    "name": "ipython",
    "version": 2
   },
   "file_extension": ".py",
   "mimetype": "text/x-python",
   "name": "python",
   "nbconvert_exporter": "python",
   "pygments_lexer": "ipython2",
   "version": "2.7.14"
  }
 },
 "nbformat": 4,
 "nbformat_minor": 2
}
