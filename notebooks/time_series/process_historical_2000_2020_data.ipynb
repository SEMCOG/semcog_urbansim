{
 "cells": [
  {
   "cell_type": "code",
   "execution_count": null,
   "metadata": {},
   "outputs": [],
   "source": [
    "import pandas as pd"
   ]
  },
  {
   "cell_type": "code",
   "execution_count": null,
   "metadata": {},
   "outputs": [],
   "source": [
    "dict_col = {'hh':1, 'pop':0}"
   ]
  },
  {
   "cell_type": "code",
   "execution_count": null,
   "metadata": {},
   "outputs": [],
   "source": [
    "count = 0\n",
    "dft =  pd.DataFrame()\n",
    "for col in dict_col.keys():\n",
    "    df = pd.read_excel('RevisedEstimates00_20_pop_HH.xlsx', sheet_name=dict_col[col])\n",
    "    \n",
    "    df['large_area_id'] = df.SEMMCD//1000 + 1\n",
    "    df =  df.set_index(['large_area_id','SEMMCD','MCDNAME'])\n",
    "    \n",
    "    df.columns = [c[-4:] for c in df.columns]\n",
    "    #compute subgroup/large area percentage\n",
    "    df_pct = df.groupby(level=0).apply(lambda x:100.0 * x / x.sum())\n",
    "    \n",
    "    #\n",
    "    df = df.stack().to_frame(name = col)\n",
    "    if count == 0:\n",
    "        dft = df\n",
    "        count +=1\n",
    "    else:\n",
    "        dft[col] = df[col]\n",
    "    #\n",
    "    df_pct = df_pct.stack().to_frame(name = col +'_pct')\n",
    "    dft[col +'_pct'] = df_pct[col +'_pct']\n",
    "\n",
    "dft.index.names = ['large_area_id','semmcd','mcdname', 'year']\n",
    "dft = dft.reset_index()\n",
    "dft.index.name = 'OID'\n",
    "dft['year']= pd.to_datetime(dft['year'], format='%Y')\n",
    "\n",
    "dft.head(2)"
   ]
  },
  {
   "cell_type": "code",
   "execution_count": null,
   "metadata": {},
   "outputs": [],
   "source": []
  }
 ],
 "metadata": {
  "kernelspec": {
   "display_name": "Python 3",
   "language": "python",
   "name": "python3"
  },
  "language_info": {
   "codemirror_mode": {
    "name": "ipython",
    "version": 3
   },
   "file_extension": ".py",
   "mimetype": "text/x-python",
   "name": "python",
   "nbconvert_exporter": "python",
   "pygments_lexer": "ipython3",
   "version": "3.8.8"
  }
 },
 "nbformat": 4,
 "nbformat_minor": 2
}
