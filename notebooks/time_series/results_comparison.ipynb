{
 "cells": [
  {
   "cell_type": "code",
   "execution_count": null,
   "metadata": {},
   "outputs": [],
   "source": [
    "import pandas as pd\n",
    "import matplotlib.pyplot as plt\n",
    "import pmdarima as pm\n",
    "from statsmodels.tsa.stattools import adfuller\n",
    "import pmdarima as pm\n",
    "\n",
    "from dbfread import DBF\n",
    "from pandas import DataFrame\n"
   ]
  },
  {
   "cell_type": "code",
   "execution_count": null,
   "metadata": {},
   "outputs": [],
   "source": [
    "# 2045 forecast\n",
    "ylist = ['yr'+str(x) for x in list(range(2015, 2046, 5))]\n",
    "dfxls = pd.read_excel('semcog_2045_RDF_community_final.xlsx', sheet_name=ylist)\n",
    "\n",
    "dfxlss = []\n",
    "for y in ylist:\n",
    "    df = dfxls[y][['city_id', 'hh']].set_index('city_id')\n",
    "    df.columns = [y]\n",
    "    dfxlss.append(df)\n",
    "\n",
    "dfhh_2045 = pd.concat(dfxlss, axis=1)\n",
    "dfhh_2045 = dfhh_2045.loc[(dfhh_2045.index>1000) | (dfhh_2045.index<=5)]"
   ]
  },
  {
   "cell_type": "code",
   "execution_count": null,
   "metadata": {},
   "outputs": [],
   "source": [
    "dfhh_2045_pct = 100 * dfhh_2045.divide(dfhh_2045['yr2020'], axis='index') - 100\n",
    "dfhh_2045_pct.columns = list(range(2015,2046,5))\n",
    "dfhh_2045_pct = dfhh_2045_pct[list(range(2025, 2046, 5))]\n",
    "dfhh_2045_pct.index.name = 'semmcd'\n",
    "dfhh_2045_pct.head(2) # 2025 to 2045 every 5 year"
   ]
  },
  {
   "cell_type": "code",
   "execution_count": null,
   "metadata": {},
   "outputs": [],
   "source": [
    "dfhh_2045_pct.columns"
   ]
  },
  {
   "cell_type": "code",
   "execution_count": null,
   "metadata": {},
   "outputs": [],
   "source": [
    "#historical data hh 2000 to 2020\n",
    "hhs = pd.read_csv('sem_hist_2000_2020.csv',parse_dates=['year']).set_index('year')\n",
    "hhs_trans = pd.crosstab(hhs.semmcd,hhs.index.year, hhs.hh, aggfunc ='sum')\n",
    "hhs_trans.head(2)"
   ]
  },
  {
   "cell_type": "code",
   "execution_count": null,
   "metadata": {},
   "outputs": [],
   "source": [
    "# arcgis based, combine all time series \n",
    "dic_cols = {'FCAST_'+ str(c): 2020 + c for c in list(range(1,11))}\n",
    "arcgis_methods = {'gompertz':'hh_gom.dbf', 'exponential': 'hh_exp.dbf', 'random_forest':'hh_forest.dbf', 'parabolic': 'hh_para.dbf', 'exponential smoothing': 'hh_expsmooth.dbf'}\n",
    "\n",
    "dfs = []\n",
    "for m in arcgis_methods.keys():\n",
    "    df = DataFrame(iter(DBF(arcgis_methods[m])))\n",
    "    df.rename(columns= {'SEMMCD': 'semmcd'}, inplace=True)\n",
    "    df['method'] = df.METHOD.str.partition(';')[0]\n",
    "    df.rename(columns = dic_cols, inplace=True)\n",
    "    dfs.append(df[['semmcd', 'method'] + list(dic_cols.values())])\n",
    "df_arcgis = pd.concat(dfs, axis=0)\n",
    "\n",
    "df_arcgis = pd.merge(hhs_trans, df_arcgis, left_index=True, right_on='semmcd', how='right').set_index(['semmcd', 'method'])"
   ]
  },
  {
   "cell_type": "code",
   "execution_count": null,
   "metadata": {},
   "outputs": [],
   "source": [
    "df_arcgis.head(2)"
   ]
  },
  {
   "cell_type": "code",
   "execution_count": null,
   "metadata": {},
   "outputs": [],
   "source": []
  },
  {
   "cell_type": "code",
   "execution_count": null,
   "metadata": {},
   "outputs": [],
   "source": [
    "# other time series forecasts combined\n",
    "dict_py = {'arima': 'hh_forecast_arima.csv', \n",
    "'sarimax': 'pred_by_mcd_year_sarimax.csv',\n",
    "'poly': 'pred_by_mcd_year_poly.csv',\n",
    "'nn': 'pred_by_mcd_year_nn.csv',\n",
    "'autoreg': 'pred_by_mcd_year_autoreg.csv',\n",
    "'arma': 'pred_by_mcd_year_arma.csv'}\n",
    "\n",
    "dfs = []\n",
    "for p in dict_py.keys():\n",
    "    df = pd.read_csv(dict_py[p], index_col = [0])\n",
    "    df.index.name = 'semmcd'\n",
    "    df['method'] = p\n",
    "    dfs.append(df)\n",
    "\n",
    "df_py = pd.concat(dfs, axis=0).reset_index()\n",
    "df_py = df_py.set_index(['semmcd', 'method'])\n",
    "\n",
    "df_py.columns = [int(c) for c in df_py.columns]"
   ]
  },
  {
   "cell_type": "code",
   "execution_count": null,
   "metadata": {},
   "outputs": [],
   "source": [
    "df_all = pd.concat([df_arcgis, df_py], axis=0)"
   ]
  },
  {
   "cell_type": "code",
   "execution_count": null,
   "metadata": {},
   "outputs": [],
   "source": [
    "df_test = df_all.reset_index().set_index('semmcd')\n",
    "df_test['base'] = hhs_trans[2017]\n",
    "df_test.set_index('method', append=True, inplace=True)\n"
   ]
  },
  {
   "cell_type": "code",
   "execution_count": null,
   "metadata": {},
   "outputs": [],
   "source": [
    "df_test2  = df_test.divide(df_test['base'], axis='index') *100 - 100\n",
    "df_test2_pct = df_test2[list(range(2025, 2046, 5))]"
   ]
  },
  {
   "cell_type": "code",
   "execution_count": null,
   "metadata": {},
   "outputs": [],
   "source": [
    "\n",
    "df_test2  = df_test.divide(df_test['base'], axis='index') *100 - 100\n",
    "df_test2_pct = df_test2[list(range(2025, 2046, 5))]"
   ]
  },
  {
   "cell_type": "code",
   "execution_count": null,
   "metadata": {},
   "outputs": [],
   "source": [
    "### test here MSE? or other methods \n",
    "### compare df_test2_pct and dfhh_2045_pct"
   ]
  },
  {
   "cell_type": "code",
   "execution_count": null,
   "metadata": {},
   "outputs": [],
   "source": [
    "df_test2_pct.index.get_level_values(0).unique()\n",
    "df_test2_pct = df_test2_pct.reset_index().set_index('semmcd')\n",
    "df_test2_pct.sub(dfhh_2045_pct[[2030]])"
   ]
  },
  {
   "cell_type": "code",
   "execution_count": null,
   "metadata": {},
   "outputs": [],
   "source": [
    "dd_tt3 = df_test2_pct[[2030]] - dfhh_2045_pct[[2030]]"
   ]
  },
  {
   "cell_type": "code",
   "execution_count": null,
   "metadata": {},
   "outputs": [],
   "source": [
    "dd_tt3.loc[dd_tt3.loc[5, level].groupby(level=0).col2.idxmin()]"
   ]
  },
  {
   "cell_type": "code",
   "execution_count": null,
   "metadata": {},
   "outputs": [],
   "source": [
    "dd_tt3.xs(5, level=0).idxmin()\n",
    "#df.xs('price', level=1, drop_level=False)"
   ]
  },
  {
   "cell_type": "code",
   "execution_count": null,
   "metadata": {},
   "outputs": [],
   "source": [
    "dd_tt3.xs(4005, level=0)"
   ]
  },
  {
   "cell_type": "code",
   "execution_count": null,
   "metadata": {},
   "outputs": [],
   "source": [
    "dd_tt3"
   ]
  },
  {
   "cell_type": "code",
   "execution_count": null,
   "metadata": {},
   "outputs": [],
   "source": [
    "df.loc[df.loc[df.col1 == 5.].groupby(level=0).col2.idxmin()]"
   ]
  },
  {
   "cell_type": "code",
   "execution_count": null,
   "metadata": {},
   "outputs": [],
   "source": [
    "df_test2_pct = df_test2[list(range(2025, 2046, 5))]"
   ]
  },
  {
   "cell_type": "code",
   "execution_count": null,
   "metadata": {},
   "outputs": [],
   "source": [
    "dfhh_2045_pct.columns = []"
   ]
  },
  {
   "cell_type": "code",
   "execution_count": null,
   "metadata": {},
   "outputs": [],
   "source": []
  },
  {
   "cell_type": "code",
   "execution_count": null,
   "metadata": {},
   "outputs": [],
   "source": [
    "df_py.loc[5].columns"
   ]
  },
  {
   "cell_type": "code",
   "execution_count": null,
   "metadata": {},
   "outputs": [],
   "source": [
    "for t in dict_tx.keys():\n",
    "    \n",
    "\n",
    "#hhs.index = hhs.index.year\n",
    "hhs.dtypes"
   ]
  },
  {
   "cell_type": "code",
   "execution_count": null,
   "metadata": {},
   "outputs": [],
   "source": [
    "hhs_trans = pd.crosstab(hhs.semmcd,hhs.index.year, hhs.hh, aggfunc ='sum')"
   ]
  },
  {
   "cell_type": "code",
   "execution_count": null,
   "metadata": {},
   "outputs": [],
   "source": [
    "hhs_trans"
   ]
  },
  {
   "cell_type": "code",
   "execution_count": null,
   "metadata": {},
   "outputs": [],
   "source": [
    "def arimamodel(timeseries):\n",
    "    automodel = pm.auto_arima(timeseries, \n",
    "                              start_p=1, \n",
    "                              start_q=1,\n",
    "                              test=\"adf\",\n",
    "                              seasonal=False,\n",
    "                              trace=True)\n",
    "    return automodel\n",
    "def plotarima(n_periods, timeseries, automodel):\n",
    "    # Forecast\n",
    "    fc, confint = automodel.predict(n_periods=n_periods, \n",
    "                                    return_conf_int=True)\n",
    "    # Weekly index\n",
    "    fc_ind = pd.date_range(timeseries.index[timeseries.shape[0]-1], \n",
    "                           periods=n_periods, freq=\"Y\")\n",
    "    # Forecast series\n",
    "    fc_series = pd.Series(fc, index=fc_ind)\n",
    "    # Upper and lower confidence bounds\n",
    "    lower_series = pd.Series(confint[:, 0], index=fc_ind)\n",
    "    upper_series = pd.Series(confint[:, 1], index=fc_ind)\n",
    "    # Create plot\n",
    "    plt.figure(figsize=(10, 6))\n",
    "    plt.plot(timeseries)\n",
    "    plt.plot(fc_series, color=\"red\")\n",
    "    plt.xlabel(\"date\")\n",
    "    plt.ylabel(timeseries.name)\n",
    "    plt.fill_between(lower_series.index, \n",
    "                     lower_series, \n",
    "                     upper_series, \n",
    "                     color=\"k\", \n",
    "                     alpha=0.25)\n",
    "    plt.legend((\"past\", \"forecast\", \"95% confidence interval\"),  \n",
    "               loc=\"upper left\")\n",
    "    plt.show()"
   ]
  },
  {
   "cell_type": "code",
   "execution_count": null,
   "metadata": {},
   "outputs": [],
   "source": [
    "years = 30\n",
    "fc_years = pd.date_range(hhs.index.max(), periods=years + 1, freq=\"Y\").year[1:]\n",
    "\n",
    "fcs = []\n",
    "ids = []\n",
    "for sid in hhs.semmcd.unique():\n",
    "    tsd =  hhs.loc[hhs.semmcd==sid]\n",
    "    tsdata = tsd.hh\n",
    "    automodel = arimamodel(tsdata)\n",
    "    print(tsd.semmcd.iloc[0],tsd.mcdname.iloc[0] )\n",
    "    fc = automodel.predict(n_periods= years, return_conf_int=False)\n",
    "    fcs.append(fc)\n",
    "    ids.append(sid)\n",
    "fc_output = pd.DataFrame(fcs, columns =list(fc_years), index=ids)"
   ]
  },
  {
   "cell_type": "code",
   "execution_count": null,
   "metadata": {},
   "outputs": [],
   "source": [
    "fc_output = pd.DataFrame(fcs, columns =list(fc_years), index=ids)"
   ]
  },
  {
   "cell_type": "code",
   "execution_count": null,
   "metadata": {},
   "outputs": [],
   "source": [
    "fc_output"
   ]
  },
  {
   "cell_type": "code",
   "execution_count": null,
   "metadata": {},
   "outputs": [],
   "source": [
    "hh_forecast_arima = pd.concat([hhs_trans,fc_output], axis=1).astype(int)"
   ]
  },
  {
   "cell_type": "code",
   "execution_count": null,
   "metadata": {},
   "outputs": [],
   "source": [
    "hh_forecast_arima.to_csv('hh_forecast_arima.csv')"
   ]
  },
  {
   "cell_type": "code",
   "execution_count": null,
   "metadata": {},
   "outputs": [],
   "source": [
    "hh_forecast_arima"
   ]
  },
  {
   "cell_type": "code",
   "execution_count": null,
   "metadata": {},
   "outputs": [],
   "source": [
    "fc_output_pct = (1 - fc_output.divide(hhs_trans[2020].astype(float), axis=0)).round(3)"
   ]
  },
  {
   "cell_type": "code",
   "execution_count": null,
   "metadata": {},
   "outputs": [],
   "source": [
    "fc_output_pct.to_csv('hh_pct_forecast_arima.csv')"
   ]
  },
  {
   "cell_type": "code",
   "execution_count": null,
   "metadata": {},
   "outputs": [],
   "source": []
  },
  {
   "cell_type": "code",
   "execution_count": null,
   "metadata": {},
   "outputs": [],
   "source": []
  },
  {
   "cell_type": "code",
   "execution_count": null,
   "metadata": {},
   "outputs": [],
   "source": [
    "hhsaa = hhs.loc[hhs.semmcd==4005]\n",
    "\n",
    "hhsaa = hhsaa.set_index('year')\n",
    "tsdata=hhsaa['hh']\n"
   ]
  },
  {
   "cell_type": "code",
   "execution_count": null,
   "metadata": {},
   "outputs": [],
   "source": [
    "from statsmodels.tsa.stattools import adfuller\n",
    "from statsmodels.graphics.tsaplots import plot_acf, plot_pacf"
   ]
  },
  {
   "cell_type": "code",
   "execution_count": null,
   "metadata": {},
   "outputs": [],
   "source": [
    "print(\"p-value:\", adfuller(hhsaa['hh'])[1])"
   ]
  },
  {
   "cell_type": "code",
   "execution_count": null,
   "metadata": {},
   "outputs": [],
   "source": [
    "fig = plt.figure(figsize=(10, 10))\n",
    "ax1 = fig.add_subplot(311)\n",
    "fig = plot_acf(tsdata, ax=ax1,\n",
    "               title=\"Autocorrelation on Original Series\") \n",
    "ax2 = fig.add_subplot(312)\n",
    "fig = plot_acf(tsdata.diff().dropna(), ax=ax2, \n",
    "               title=\"1st Order Differencing\")\n",
    "ax3 = fig.add_subplot(313)\n",
    "fig = plot_acf(tsdata.diff().diff().dropna(), ax=ax3, \n",
    "               title=\"2nd Order Differencing\")"
   ]
  },
  {
   "cell_type": "code",
   "execution_count": null,
   "metadata": {},
   "outputs": [],
   "source": [
    "plot_pacf(tsdata.diff().dropna(), lags=10)"
   ]
  },
  {
   "cell_type": "code",
   "execution_count": null,
   "metadata": {},
   "outputs": [],
   "source": [
    "from statsmodels.tsa.arima_model import ARIMA\n",
    "model = ARIMA(tsdata, order=(1, 1, 1))\n",
    "results = model.fit()\n",
    "results.summary()\n",
    "results.plot_predict(1, 20)"
   ]
  },
  {
   "cell_type": "code",
   "execution_count": null,
   "metadata": {},
   "outputs": [],
   "source": [
    "results.plot_predict(1, 30)"
   ]
  },
  {
   "cell_type": "code",
   "execution_count": null,
   "metadata": {},
   "outputs": [],
   "source": [
    "import statsmodels\n",
    "statsmodels.__version__"
   ]
  },
  {
   "cell_type": "code",
   "execution_count": null,
   "metadata": {},
   "outputs": [],
   "source": [
    "hhs = pd.read_csv('sem_hist_2000_2020.csv',parse_dates=['year']).set_index('year')\n",
    "hhs.index = hhs.index.year\n",
    "hhs.dtypes\n",
    "\n",
    "hhstrans = pd.crosstab(hhs.semmcd,hhs.index, hhs.hh, aggfunc ='sum')\n"
   ]
  },
  {
   "cell_type": "code",
   "execution_count": null,
   "metadata": {},
   "outputs": [],
   "source": [
    "import pmdarima as pm"
   ]
  },
  {
   "cell_type": "code",
   "execution_count": null,
   "metadata": {},
   "outputs": [],
   "source": [
    "def arimamodel(timeseries):\n",
    "    automodel = pm.auto_arima(timeseries, \n",
    "                              start_p=1, \n",
    "                              start_q=1,\n",
    "                              test=\"adf\",\n",
    "                              seasonal=False,\n",
    "                              trace=True)\n",
    "    return automodel\n",
    "def plotarima(n_periods, timeseries, automodel):\n",
    "    # Forecast\n",
    "    fc, confint = automodel.predict(n_periods=n_periods, \n",
    "                                    return_conf_int=True)\n",
    "    # Weekly index\n",
    "    fc_ind = pd.date_range(timeseries.index[timeseries.shape[0]-1], \n",
    "                           periods=n_periods, freq=\"Y\")\n",
    "    # Forecast series\n",
    "    fc_series = pd.Series(fc, index=fc_ind)\n",
    "    # Upper and lower confidence bounds\n",
    "    lower_series = pd.Series(confint[:, 0], index=fc_ind)\n",
    "    upper_series = pd.Series(confint[:, 1], index=fc_ind)\n",
    "    # Create plot\n",
    "    plt.figure(figsize=(10, 6))\n",
    "    plt.plot(timeseries)\n",
    "    plt.plot(fc_series, color=\"red\")\n",
    "    plt.xlabel(\"date\")\n",
    "    plt.ylabel(timeseries.name)\n",
    "    plt.fill_between(lower_series.index, \n",
    "                     lower_series, \n",
    "                     upper_series, \n",
    "                     color=\"k\", \n",
    "                     alpha=0.25)\n",
    "    plt.legend((\"past\", \"forecast\", \"95% confidence interval\"),  \n",
    "               loc=\"upper left\")\n",
    "    plt.show()"
   ]
  },
  {
   "cell_type": "code",
   "execution_count": null,
   "metadata": {},
   "outputs": [],
   "source": []
  },
  {
   "cell_type": "code",
   "execution_count": null,
   "metadata": {},
   "outputs": [],
   "source": [
    "years = 30\n",
    "fc_years = pd.date_range(hhs.year.max(), periods=years, freq=\"Y\").year[1:]\n",
    "\n",
    "fcs = []\n",
    "for sid in hhs.semmcd.unique():\n",
    "    tsd =  hhs.loc[hhs.semmcd==sid]\n",
    "    tsdata = tsd.hh\n",
    "    automodel = arimamodel(tsdata)\n",
    "    print(tsd.semmcd.iloc[0],tsd.semmcd_name.iloc[0] )\n",
    "    fc = automodel.predict(n_periods= years, return_conf_int=False)\n",
    "    fcs.append(fc)\n",
    "    ids.append(sid)\n",
    "fc_output = pd.DataFrame(fcs, columns =list(fc_years), index=ids)\n",
    "\n"
   ]
  },
  {
   "cell_type": "code",
   "execution_count": null,
   "metadata": {},
   "outputs": [],
   "source": [
    "years = 30\n",
    "tsd =  hhs.loc[hhs.semmcd==4005]\n",
    "tsdata = tsd.hh\n",
    "automodel = arimamodel(tsdata)"
   ]
  },
  {
   "cell_type": "code",
   "execution_count": null,
   "metadata": {},
   "outputs": [],
   "source": [
    "fc = automodel.predict(n_periods= years, return_conf_int=False)"
   ]
  },
  {
   "cell_type": "code",
   "execution_count": null,
   "metadata": {},
   "outputs": [],
   "source": [
    "fc_years = pd.date_range(hhs.year.max(), periods=years, freq=\"Y\").year[1:]"
   ]
  },
  {
   "cell_type": "code",
   "execution_count": null,
   "metadata": {},
   "outputs": [],
   "source": [
    "pd.crosstab(hhs.semmcd, hhs.year)"
   ]
  },
  {
   "cell_type": "code",
   "execution_count": null,
   "metadata": {},
   "outputs": [],
   "source": [
    "fc_years"
   ]
  },
  {
   "cell_type": "code",
   "execution_count": null,
   "metadata": {},
   "outputs": [],
   "source": [
    "len(fc)"
   ]
  },
  {
   "cell_type": "code",
   "execution_count": null,
   "metadata": {},
   "outputs": [],
   "source": [
    "s1 = pd.Series(fc,index =fc_years, name =id )"
   ]
  },
  {
   "cell_type": "code",
   "execution_count": null,
   "metadata": {},
   "outputs": [],
   "source": [
    "s2 = pd.Series(fc, name =id+1 )"
   ]
  },
  {
   "cell_type": "code",
   "execution_count": null,
   "metadata": {},
   "outputs": [],
   "source": [
    "pd.DataFrame([s1,s2])"
   ]
  },
  {
   "cell_type": "code",
   "execution_count": null,
   "metadata": {},
   "outputs": [],
   "source": []
  },
  {
   "cell_type": "code",
   "execution_count": null,
   "metadata": {},
   "outputs": [],
   "source": [
    "pd.DataFrame([fc, fc], columns =list(fc_years), index=[3,4])"
   ]
  },
  {
   "cell_type": "code",
   "execution_count": null,
   "metadata": {},
   "outputs": [],
   "source": [
    "for id in hhs.semmcd.unique():\n",
    "    print(id)"
   ]
  },
  {
   "cell_type": "code",
   "execution_count": null,
   "metadata": {},
   "outputs": [],
   "source": []
  },
  {
   "cell_type": "code",
   "execution_count": null,
   "metadata": {},
   "outputs": [],
   "source": [
    "years"
   ]
  },
  {
   "cell_type": "code",
   "execution_count": null,
   "metadata": {},
   "outputs": [],
   "source": []
  },
  {
   "cell_type": "code",
   "execution_count": null,
   "metadata": {},
   "outputs": [],
   "source": [
    "years = 30\n",
    "dtime = pd.date_range(tsdata.index[tsdata.shape[0]-1], \n",
    "                           periods=years, freq=\"Y\")\n",
    "dtime = pd.DatetimeIndex(dtime).year #only keep year\n",
    "automodel = arimamodel(tsdata)\n",
    "\n",
    "fc = automodel.predict(n_periods= years, return_conf_int=False)\n"
   ]
  },
  {
   "cell_type": "code",
   "execution_count": null,
   "metadata": {},
   "outputs": [],
   "source": [
    "pd.date_range(tsdata.index[tsdata.shape[0]-1], periods=years, freq=\"Y\").year"
   ]
  },
  {
   "cell_type": "code",
   "execution_count": null,
   "metadata": {},
   "outputs": [],
   "source": []
  },
  {
   "cell_type": "code",
   "execution_count": null,
   "metadata": {},
   "outputs": [],
   "source": []
  },
  {
   "cell_type": "code",
   "execution_count": null,
   "metadata": {},
   "outputs": [],
   "source": [
    "ndf = pd.DataFrame(columns= dtime)"
   ]
  },
  {
   "cell_type": "code",
   "execution_count": null,
   "metadata": {},
   "outputs": [],
   "source": [
    "ndf.append(pd.Series(fc), ignore_index=True)"
   ]
  },
  {
   "cell_type": "code",
   "execution_count": null,
   "metadata": {},
   "outputs": [],
   "source": [
    "pd.DataFrame([dtime, fc])"
   ]
  },
  {
   "cell_type": "code",
   "execution_count": null,
   "metadata": {},
   "outputs": [],
   "source": [
    "dtime"
   ]
  },
  {
   "cell_type": "code",
   "execution_count": null,
   "metadata": {},
   "outputs": [],
   "source": [
    "fc = automodel.predict(n_periods=20, return_conf_int=False)"
   ]
  },
  {
   "cell_type": "code",
   "execution_count": null,
   "metadata": {},
   "outputs": [],
   "source": [
    "fc"
   ]
  },
  {
   "cell_type": "code",
   "execution_count": null,
   "metadata": {},
   "outputs": [],
   "source": [
    "\n"
   ]
  },
  {
   "cell_type": "code",
   "execution_count": null,
   "metadata": {},
   "outputs": [],
   "source": [
    "jobs = jobs.set_index('year')"
   ]
  },
  {
   "cell_type": "code",
   "execution_count": null,
   "metadata": {},
   "outputs": [],
   "source": [
    "jobs"
   ]
  },
  {
   "cell_type": "code",
   "execution_count": null,
   "metadata": {},
   "outputs": [],
   "source": [
    "for id in [ 4005, 4010, 4015, 4020, 4025, 4030, 4035, 4040, 4045, 4050, 4055]:\n",
    "    tsd =  jobs.loc[jobs.semmcd==id]\n",
    "    tsdata = tsd.jobs\n",
    "    automodel = arimamodel(tsdata)\n",
    "    print(tsd.semmcd.iloc[0],tsd.semmcd_name.iloc[0] )\n",
    "    plotarima(20, tsdata, automodel)\n",
    "    "
   ]
  },
  {
   "cell_type": "code",
   "execution_count": null,
   "metadata": {},
   "outputs": [],
   "source": []
  },
  {
   "cell_type": "code",
   "execution_count": null,
   "metadata": {},
   "outputs": [],
   "source": [
    "automodel = arimamodel(jobaa[\"jobs\"])\n",
    "#plotarima(70, jobaa[\"jobs\"], automodel)"
   ]
  },
  {
   "cell_type": "code",
   "execution_count": null,
   "metadata": {},
   "outputs": [],
   "source": [
    "automodel.summary()"
   ]
  },
  {
   "cell_type": "code",
   "execution_count": null,
   "metadata": {},
   "outputs": [],
   "source": [
    "plotarima(20, jobaa[\"jobs\"], automodel)"
   ]
  },
  {
   "cell_type": "code",
   "execution_count": null,
   "metadata": {},
   "outputs": [],
   "source": []
  }
 ],
 "metadata": {
  "interpreter": {
   "hash": "a8f61be024eba58adef938c9aa1e29e02cb3dece83a5348b1a2dafd16a070453"
  },
  "kernelspec": {
   "display_name": "Python 3",
   "language": "python",
   "name": "python3"
  },
  "language_info": {
   "codemirror_mode": {
    "name": "ipython",
    "version": 3
   },
   "file_extension": ".py",
   "mimetype": "text/x-python",
   "name": "python",
   "nbconvert_exporter": "python",
   "pygments_lexer": "ipython3",
   "version": "3.8.8"
  }
 },
 "nbformat": 4,
 "nbformat_minor": 2
}
