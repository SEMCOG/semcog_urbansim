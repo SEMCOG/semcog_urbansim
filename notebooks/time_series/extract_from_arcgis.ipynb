{
 "cells": [
  {
   "cell_type": "code",
   "execution_count": 1,
   "metadata": {},
   "outputs": [],
   "source": [
    "import pandas as pd"
   ]
  },
  {
   "cell_type": "code",
   "execution_count": 2,
   "metadata": {},
   "outputs": [],
   "source": [
    "hhs = pd.read_csv(\"MCD_test4/MCD_test4_three_counties/4_counties_hhs.csv\",index_col =\"SEMMCD\")"
   ]
  },
  {
   "cell_type": "code",
   "execution_count": 5,
   "metadata": {},
   "outputs": [],
   "source": [
    "ndict = {'FCAST_'+str(i-2036): 'y' + str(i) for i in range(2037, 2051 )}\n",
    "hhsel = hhs[ndict.keys()]\n",
    "hhsel.columns = ndict.values()"
   ]
  },
  {
   "cell_type": "code",
   "execution_count": 8,
   "metadata": {},
   "outputs": [],
   "source": [
    "mcdlist = []\n",
    "for ind, row in hhs.iterrows():\n",
    "    hstart = row.HTML_CHART.find(\"var ts = [\") + 10\n",
    "    hend = row.HTML_CHART.find(\"],\", hstart)\n",
    "    lstr = row.HTML_CHART[hstart: hend].split(\",\")\n",
    "    lst = [float(c) for c in lstr]\n",
    "    mcdlist.append([ind]+ lst)\n",
    "    "
   ]
  },
  {
   "cell_type": "code",
   "execution_count": 9,
   "metadata": {},
   "outputs": [],
   "source": [
    "mcd_hh = pd.DataFrame(mcdlist, columns = ['mcd'] + ['y' + str(x) for x in range(2006,2037)]).set_index('mcd')\n",
    "\n",
    "mcd_hh = pd.concat([mcd_hh,hhsel],axis=1)"
   ]
  },
  {
   "cell_type": "code",
   "execution_count": 13,
   "metadata": {},
   "outputs": [],
   "source": [
    "mcd_hh = mcd_hh.astype(int)\n",
    "mcd_hh.to_csv('4_county_timeseries_hh_2050.csv')"
   ]
  },
  {
   "cell_type": "code",
   "execution_count": null,
   "metadata": {},
   "outputs": [],
   "source": [
    "a1= \"\"\"<html>\n",
    "    <head>\n",
    "      <meta charset = \"\"utf-8\"\">\n",
    "      <script>\n",
    "        var ts = [11974.0, 11798.0, 11684.0, 11673.0, 11581.0, 11623.0, 11357.0, 11389.0, 11450.0, 11562.0, 11580.0, 11742.0, 11813.0, 11762.0, 11722.0, 11808.0, 11766.0, 11898.0, 11957.0, 11896.0, 11787.0, 11884.2117, 11839.603, 11826.6423, 11864.8078, 11869.3382, 11905.2197, 11957.0646, 11954.4041, 11949.2606, 11977.6175, 11964.0329, 11974.1453, 12003.0904, 12002.5705, 12012.6621, 12031.0352, 12039.787, 12045.3761, 12070.7303, 12073.2146, 12084.5183, 12097.105, 12109.0554, 12119.5258, 12135.1568],\n",
    "            t0 = \"\"2000/01/01 00:00:00\"\",\n",
    "            intv = 1,\n",
    "            unit = \"\"YEARS\"\",\n",
    "            vn = \"\"HHS_NONE_SPACE_TIME_NEIGHBORS\"\",\n",
    "            lang=\"\"en\"\",\n",
    "            labels = {'date': 'Date', 'time': 'Time', 'datetime': 'Datetime', 'average': 'Average of Cluster', 'original': 'Original Value', 'forecasted': 'Forecasted Value', 'fit': 'Fitted Value', 'conf_int': 'Confidence Interval', 'FSStr': 'Forecast result starts from here', 'residual': 'Residual', 'otl_pos': 'Outliers Above Fitted Value', 'otl_neg': 'Outliers Below Fitted Value'},\n",
    "            forecast = [12148.092], \n",
    "        fit = [11586.3874, 11598.5984, 11610.8094, 11623.0203, 11635.2313, 11647.4423, 11659.6532, 11671.8642, 11684.0752, 11696.2861, 11708.4971, 11720.7081, 11732.9191, 11745.13, 11757.341, 11769.552, 11781.7629, 11793.9739, 11806.1849, 11818.3958, 11830.6068, 11842.8178, 11855.0288, 11867.2397, 11879.4507, 11891.6617, 11903.8726, 11916.0836, 11928.2946, 11940.5056, 11952.7165, 11964.9275, 11977.1385, 11989.3494, 12001.5604, 12013.7714, 12025.9823, 12038.1933, 12050.4043, 12062.6153, 12074.8262, 12087.0372, 12099.2482, 12111.4591, 12123.6701, 12135.8811], \n",
    "        conf_int = [],\n",
    "        F_M = \"\"Linear\"\",\n",
    "        CC = [],\n",
    "        outliers=[],\n",
    "            rp = \"\"file:///\"\" + g_resourceFolder + \"\"/\"\";\n",
    "          var st = document.createElement(\"\"script\"\"); \n",
    "          st.type = \"\"text/javascript\"\";\n",
    "          st.src = rp + \"\"ArcToolbox/Scripts/Images/timeSeriesPlot.js\"\";\n",
    "          document.head.appendChild(st);\n",
    "      </script>\n",
    "    </head>\n",
    "    <body></body>\n",
    "    </html>\"\"\"\n"
   ]
  },
  {
   "cell_type": "code",
   "execution_count": null,
   "metadata": {},
   "outputs": [],
   "source": []
  }
 ],
 "metadata": {
  "interpreter": {
   "hash": "b09ec625f77bf4fd762565a912b97636504ad6ec901eb2d0f4cf5a7de23e1ee5"
  },
  "kernelspec": {
   "display_name": "Python 3 (ipykernel)",
   "language": "python",
   "name": "python3"
  },
  "language_info": {
   "codemirror_mode": {
    "name": "ipython",
    "version": 3
   },
   "file_extension": ".py",
   "mimetype": "text/x-python",
   "name": "python",
   "nbconvert_exporter": "python",
   "pygments_lexer": "ipython3",
   "version": "3.8.8"
  }
 },
 "nbformat": 4,
 "nbformat_minor": 2
}
