{
 "metadata": {
  "name": "",
  "signature": "sha256:157888abfdc306978f2b4a85697a8afe8e5673f19f8e6150167d088d84198fda"
 },
 "nbformat": 3,
 "nbformat_minor": 0,
 "worksheets": [
  {
   "cells": [
    {
     "cell_type": "code",
     "collapsed": false,
     "input": [
      "from urbansim.utils import misc, networks\n",
      "import os, dataset\n",
      "\n",
      "networks.NETWORKS = networks.Networks(\n",
      "    [os.path.join(misc.data_dir(), x) for x in ['osm_semcog.pkl']],\n",
      "    factors=[1.0],\n",
      "    maxdistances=[2000],\n",
      "    twoway=[1],\n",
      "    impedances=None)\n",
      "\n",
      "print networks.NETWORKS.external_nodeids\n",
      "\n",
      "dset = dataset.SemcogDataset(\"data/semcog_data.h5\")\n",
      "\n",
      "parcels = dset.parcels\n",
      "parcels['x'] = parcels.centroid_x\n",
      "parcels['y'] = parcels.centroid_y\n",
      "parcels = networks.NETWORKS.addnodeid(parcels)\n",
      "dset.save_tmptbl(\"parcels\", parcels)\n",
      "nodes = networks.from_yaml(dset, \"networks.yaml\")\n",
      "\n",
      "print networks.NETWORKS.external_nodeids"
     ],
     "language": "python",
     "metadata": {},
     "outputs": [
      {
       "metadata": {},
       "output_type": "pyout",
       "prompt_number": 13,
       "text": [
        "[array([4194304, 4194305, 4194318, ..., 4194288, 4194302, 4194303])]"
       ]
      }
     ],
     "prompt_number": 13
    }
   ],
   "metadata": {}
  }
 ]
}