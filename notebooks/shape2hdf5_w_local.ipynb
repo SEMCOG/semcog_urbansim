{
 "metadata": {
  "name": "",
  "signature": "sha256:95c500a7510f931d7b61612a17ad73c59bfc9f2f18b637539f43ca1dea0f0f74"
 },
 "nbformat": 3,
 "nbformat_minor": 0,
 "worksheets": [
  {
   "cells": [
    {
     "cell_type": "code",
     "collapsed": false,
     "input": [
      "import networkx as nx\n",
      "import pandas as pd\n",
      "import pickle\n"
     ],
     "language": "python",
     "metadata": {},
     "outputs": [],
     "prompt_number": 1
    },
    {
     "cell_type": "code",
     "collapsed": false,
     "input": [
      "#first input shape file has all features, 2nd has limited features such as local roads \n",
      "fn_shape='./travel_model_roads_newtime.shp'\n",
      "fn_local='./travel_model_local.shp'\n",
      "#will create two pickle files corresponding to above inputs\n",
      "h5store=pd.HDFStore('./semcog_modelnetwork.h5')\n",
      "#for later to select the maximum between ab and ba time\n",
      "weight='AB_DRVTIME' \n",
      "weight2='BA_DRVTIME'\n"
     ],
     "language": "python",
     "metadata": {},
     "outputs": [],
     "prompt_number": 2
    },
    {
     "cell_type": "code",
     "collapsed": false,
     "input": [
      "net=nx.read_shp(fn_shape)\n",
      "df_nodes=pd.DataFrame(net.nodes(),columns=['x','y'])\n",
      "h5store['nodes']=df_nodes\n"
     ],
     "language": "python",
     "metadata": {},
     "outputs": [],
     "prompt_number": 3
    },
    {
     "cell_type": "code",
     "collapsed": false,
     "input": [
      "net_local=nx.read_shp(fn_local)\n",
      "df_local=pd.DataFrame(net_local.nodes(),columns=['x','y'])\n",
      "\n",
      "df_nodes['nodeid']=df_nodes.index.values\n",
      "#join nodeid from full node list to limited node list\n",
      "df_local=pd.merge(df_local,df_nodes, how='left', left_on=['x','y'], right_on=['x','y'])\n",
      "#assign full list node ids to limited nodes\n",
      "df_local=df_local.set_index('nodeid')\n",
      "df_local.index.name = None\n",
      "h5store['local_nodes']=df_local\n",
      "    "
     ],
     "language": "python",
     "metadata": {},
     "outputs": [],
     "prompt_number": 4
    },
    {
     "cell_type": "code",
     "collapsed": false,
     "input": [
      "#create edge data frame with from and to nodes and edge weights\n",
      "edgelist=[]\n",
      "for from_, to_, data in net.edges_iter(data=True):\n",
      "    edgelist.append([from_[0],from_[1],to_[0],to_[1],max(data[weight],data[weight2])])\n",
      "df_edges=pd.DataFrame(edgelist,columns=['from_x','from_y','to_x','to_y','weight'])\n"
     ],
     "language": "python",
     "metadata": {},
     "outputs": [],
     "prompt_number": 5
    },
    {
     "cell_type": "code",
     "collapsed": false,
     "input": [
      "df_edges.head(2)"
     ],
     "language": "python",
     "metadata": {},
     "outputs": [
      {
       "html": [
        "<div style=\"max-height:1000px;max-width:1500px;overflow:auto;\">\n",
        "<table border=\"1\" class=\"dataframe\">\n",
        "  <thead>\n",
        "    <tr style=\"text-align: right;\">\n",
        "      <th></th>\n",
        "      <th>from_x</th>\n",
        "      <th>from_y</th>\n",
        "      <th>to_x</th>\n",
        "      <th>to_y</th>\n",
        "      <th>weight</th>\n",
        "    </tr>\n",
        "  </thead>\n",
        "  <tbody>\n",
        "    <tr>\n",
        "      <th>0</th>\n",
        "      <td> 13346525.879059</td>\n",
        "      <td> 154723.189589</td>\n",
        "      <td> 13346754.083647</td>\n",
        "      <td> 154683.137934</td>\n",
        "      <td> 0.059</td>\n",
        "    </tr>\n",
        "    <tr>\n",
        "      <th>1</th>\n",
        "      <td> 13384847.597622</td>\n",
        "      <td> 473030.195992</td>\n",
        "      <td> 13384968.838841</td>\n",
        "      <td> 473037.066243</td>\n",
        "      <td> 0.055</td>\n",
        "    </tr>\n",
        "  </tbody>\n",
        "</table>\n",
        "</div>"
       ],
       "metadata": {},
       "output_type": "pyout",
       "prompt_number": 6,
       "text": [
        "            from_x         from_y             to_x           to_y  weight\n",
        "0  13346525.879059  154723.189589  13346754.083647  154683.137934   0.059\n",
        "1  13384847.597622  473030.195992  13384968.838841  473037.066243   0.055"
       ]
      }
     ],
     "prompt_number": 6
    },
    {
     "cell_type": "code",
     "collapsed": false,
     "input": [
      "#join nodeid to starting nodes\n",
      "df_edges=pd.merge(df_edges, df_nodes, how='left', left_on=['from_x','from_y'], right_on=['x','y'])\n",
      "#join nodeid to ending nodes\n",
      "df_edges=pd.merge(df_edges, df_nodes, how='left', left_on=['to_x','to_y'], right_on=['x','y'], suffixes=('_from', '_to'))\n",
      "\n",
      "df_edges.rename(columns={'nodeid_from': 'from', 'nodeid_to': 'to'}, inplace=True)\n",
      "df_edges=df_edges[['from','to','weight']]"
     ],
     "language": "python",
     "metadata": {},
     "outputs": [],
     "prompt_number": 7
    },
    {
     "cell_type": "code",
     "collapsed": false,
     "input": [
      "h5store['edges']=df_edges"
     ],
     "language": "python",
     "metadata": {},
     "outputs": [],
     "prompt_number": 8
    },
    {
     "cell_type": "code",
     "collapsed": false,
     "input": [
      "#create edge data frame with from and to nodes and edge weights\n",
      "edgelist=[]\n",
      "for from_, to_, data in net_local.edges_iter(data=True):\n",
      "    edgelist.append([from_[0],from_[1],to_[0],to_[1],max(data[weight],data[weight2])])\n",
      "df_edges2=pd.DataFrame(edgelist,columns=['from_x','from_y','to_x','to_y','weight'])"
     ],
     "language": "python",
     "metadata": {},
     "outputs": [],
     "prompt_number": 9
    },
    {
     "cell_type": "code",
     "collapsed": false,
     "input": [
      "df_local['nodeid']=df_local.index.values\n",
      "#join nodeid to starting nodes\n",
      "df_edges2=pd.merge(df_edges2, df_local, how='left', left_on=['from_x','from_y'], right_on=['x','y'])\n",
      "#join nodeid to ending nodes\n",
      "df_edges2=pd.merge(df_edges2, df_local, how='left', left_on=['to_x','to_y'], right_on=['x','y'], suffixes=('_from', '_to'))\n",
      "\n",
      "df_edges2.rename(columns={'nodeid_from': 'from', 'nodeid_to': 'to'}, inplace=True)\n",
      "df_edges2=df_edges2[['from','to','weight']]"
     ],
     "language": "python",
     "metadata": {},
     "outputs": [],
     "prompt_number": 10
    },
    {
     "cell_type": "code",
     "collapsed": false,
     "input": [
      "h5store['local_edges']=df_edges2"
     ],
     "language": "python",
     "metadata": {},
     "outputs": [],
     "prompt_number": 11
    },
    {
     "cell_type": "code",
     "collapsed": false,
     "input": [
      "h5store.close()"
     ],
     "language": "python",
     "metadata": {},
     "outputs": [],
     "prompt_number": 12
    },
    {
     "cell_type": "code",
     "collapsed": false,
     "input": [],
     "language": "python",
     "metadata": {},
     "outputs": [],
     "prompt_number": 12
    }
   ],
   "metadata": {}
  }
 ]
}