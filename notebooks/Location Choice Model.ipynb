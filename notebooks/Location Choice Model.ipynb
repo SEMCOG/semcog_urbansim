{
 "metadata": {
  "name": "",
  "signature": "sha256:1f3d4b5f79af25bcbf4eac89ce1dc8bd2ecce2d02e953dfe20a1fdf6a04255f5"
 },
 "nbformat": 3,
 "nbformat_minor": 0,
 "worksheets": [
  {
   "cells": [
    {
     "cell_type": "heading",
     "level": 2,
     "metadata": {},
     "source": [
      "Imports"
     ]
    },
    {
     "cell_type": "code",
     "collapsed": false,
     "input": [
      "import numpy as np\n",
      "import pandas as pd\n",
      "from urbansim.models import MNLLocationChoiceModel\n",
      "from urbansim.models import RegressionModelGroup"
     ],
     "language": "python",
     "metadata": {},
     "outputs": [],
     "prompt_number": 1
    },
    {
     "cell_type": "heading",
     "level": 2,
     "metadata": {},
     "source": [
      "Variable Calculations"
     ]
    },
    {
     "cell_type": "code",
     "collapsed": false,
     "input": [
      "def merge_buildings_parcels(buildings, parcels):\n",
      "    return pd.merge(buildings, parcels, left_on='parcel_id', right_index=True)\n",
      "\n",
      "def unit_price_res_column(buildings):\n",
      "    \"\"\"\n",
      "    Calculate residential unit price as improvement_value per residential unit.\n",
      "    \n",
      "    \"\"\"\n",
      "    buildings['unit_price_res'] = buildings.improvement_value / buildings.residential_units\n",
      "    buildings['unit_price_res'][buildings['residential_units'] == 0] = 0\n",
      "    return buildings\n",
      "\n",
      "def population_density(buildings, households):\n",
      "    \"\"\"\n",
      "    Calculate population density at the zonal level as people per acre\n",
      "    then broadcast out to the building level.\n",
      "    \n",
      "    \"\"\"\n",
      "    sqft_per_acre = 43560\n",
      "    \n",
      "    bldg_pop = households.groupby('building_id').persons.sum()\n",
      "    zone_pop = bldg_pop.groupby(buildings.zone_id).sum()\n",
      "    zone_acres = buildings.parcel_sqft.groupby(buildings.zone_id).sum() / sqft_per_acre\n",
      "    pop_density = (zone_pop / zone_acres).fillna(0)\n",
      "    buildings['popden'] = pd.Series(pop_density[buildings.zone_id].values, \n",
      "                                    index=buildings.index)\n",
      "    return buildings\n",
      "\n",
      "def crime_rate(buildings, cities):\n",
      "    \"\"\"\n",
      "    Broadcast crime rate from the cities table to buildings.\n",
      "    \n",
      "    \"\"\"\n",
      "    buildings['crime08'] = cities.crime08[buildings.city_id].values\n",
      "    return buildings\n",
      "\n",
      "def jobs_within_30_min(buildings, travel_data, jobs):\n",
      "    \"\"\"\n",
      "    Calculate the number of jobs within thirty minutes of each building.\n",
      "    This is actually done at the zonal level and then broadcast\n",
      "    to buildings.\n",
      "    \n",
      "    \"\"\"\n",
      "    # The travel_data table has a multi-level index with from_zone_id\n",
      "    # and to_zone_id. We care about the travel time between zones so\n",
      "    # we want to move the to_zone_id into the DataFrame as a regular column\n",
      "    # and then keep all the zone pairs that are less than 30 minutes apart\n",
      "    zones_within_30_min = (travel_data.reset_index(level='to_zone_id')\n",
      "                           .query('am_single_vehicle_to_work_travel_time < 30').to_zone_id)\n",
      "\n",
      "    # The next step is to tabulate the number of jobs in each zone,\n",
      "    # broadcast that across the zones within range of each other zone,\n",
      "    # and finally group by the from_zone_id and total all the jobs within range.\n",
      "    job_counts = jobs.groupby('zone_id').size()\n",
      "    job_counts = pd.Series(\n",
      "        job_counts[zones_within_30_min].fillna(0).values, \n",
      "        index=zones_within_30_min.index).groupby(level=0).sum()\n",
      "    buildings['jobs_within_30_min'] = job_counts[buildings.zone_id].fillna(0).values\n",
      "    return buildings\n",
      "\n",
      "##Table of vacant residential units\n",
      "def residential_units_table(households, buildings):\n",
      "    buildings = buildings.query('residential_units > 0')\n",
      "    vacant_units_per_building = buildings.residential_units.subtract(\n",
      "        households.groupby('building_id').size(), fill_value=0)\n",
      "    vacant_units_per_building = vacant_units_per_building[vacant_units_per_building > 0]\n",
      "    repeated_index = vacant_units_per_building.index.repeat(\n",
      "        vacant_units_per_building.astype('int'))\n",
      "    return buildings.loc[repeated_index].reset_index()\n",
      "\n",
      "##Table of job spaces\n",
      "def job_spaces_table(jobs, buildings):\n",
      "    buildings = buildings.query('job_spaces > 0')\n",
      "    vacant_units_per_building = buildings.job_spaces.subtract(\n",
      "        jobs.groupby('building_id').size(), fill_value=0)\n",
      "    vacant_units_per_building = vacant_units_per_building[vacant_units_per_building > 0]\n",
      "    repeated_index = vacant_units_per_building.index.repeat(\n",
      "        vacant_units_per_building.astype('int'))\n",
      "    return buildings.loc[repeated_index].reset_index()\n",
      "\n",
      "data_store = pd.HDFStore('./data/semcog_data.h5', mode='r')\n",
      "\n",
      "buildings = merge_buildings_parcels(data_store['buildings'], data_store['parcels'])\n",
      "\n",
      "buildings = unit_price_res_column(buildings)\n",
      "buildings = population_density(buildings, data_store['households'])\n",
      "buildings = crime_rate(buildings, data_store['cities'])\n",
      "buildings = jobs_within_30_min(buildings, data_store['travel_data'], data_store['jobs'])\n",
      "\n",
      "parcels = data_store['parcels']\n",
      "households = data_store['households']\n",
      "\n",
      "vacant_residential_units = residential_units_table(households, buildings)\n",
      "buildings = pd.merge(buildings,data_store['building_sqft_per_job'],left_on=['zone_id','building_type_id'],right_index=True,how='left')\n",
      "buildings['job_spaces'] = buildings.non_residential_sqft/buildings.building_sqft_per_job\n",
      "buildings['job_spaces'] = np.round(buildings['job_spaces'].fillna(0)).astype('int')\n",
      "jobs = data_store['jobs']\n",
      "\n",
      "vacant_job_spaces = job_spaces_table(jobs, buildings)"
     ],
     "language": "python",
     "metadata": {},
     "outputs": [],
     "prompt_number": 2
    },
    {
     "cell_type": "heading",
     "level": 2,
     "metadata": {},
     "source": [
      "Household Location Choice Model (HLCM)"
     ]
    },
    {
     "cell_type": "heading",
     "level": 3,
     "metadata": {},
     "source": [
      "Estimation"
     ]
    },
    {
     "cell_type": "code",
     "collapsed": false,
     "input": [
      "#Agents for estimation\n",
      "households_for_estimation = households.loc[np.random.choice(households.index, size=15000, replace=False)]\n",
      "\n",
      "#Filters on agents\n",
      "agent_estimation_filters = ['building_id > 0']\n",
      "\n",
      "agents_simulation_filters = None\n",
      "\n",
      "##Specification\n",
      "patsy_expression = ['sqft_per_unit',\n",
      "                    'income:np.log1p(unit_price_res)',\n",
      "                    'jobs_within_30_min',\n",
      "                    'crime08',\n",
      "                    'popden']\n",
      "patsy_expression = ' + '.join(patsy_expression)\n",
      "\n",
      "#Filters on alternatives\n",
      "estimation_filters = ['building_id > 0']\n",
      "\n",
      "simulation_filters = ['residential_units>0',\n",
      "                      'building_type_id in [16,17,18,19,20]']\n",
      "\n",
      "interaction_filters = ['income*5 > unit_price_res']\n",
      "\n",
      "##Instantiate HCLM\n",
      "hlcm = MNLLocationChoiceModel(\n",
      "    patsy_expression, 10,\n",
      "    choosers_fit_filters=agent_estimation_filters, choosers_predict_filters=agents_simulation_filters,\n",
      "    alts_fit_filters=estimation_filters, alts_predict_filters=simulation_filters,interaction_predict_filters=interaction_filters,\n",
      "    choice_column='building_id', name='HLCM')\n",
      "\n",
      "##Estimate\n",
      "hlcm.fit(households_for_estimation, buildings, households_for_estimation.building_id)\n",
      "hlcm.report_fit()"
     ],
     "language": "python",
     "metadata": {},
     "outputs": [
      {
       "output_type": "stream",
       "stream": "stdout",
       "text": [
        "Removing 15000 choice situations because chosen alt doesn't exist\n",
        "Null Log-liklihood: -34538.776395"
       ]
      },
      {
       "output_type": "stream",
       "stream": "stdout",
       "text": [
        "\n",
        "Log-liklihood at convergence: -33344.121044\n",
        "Log-liklihood ratio: 0.034589\n",
        "Null Log-liklihood: [[-34538.77639492]]\n",
        "Log-liklihood at convergence: [[-33344.12104422]]\n",
        "Log-liklihood Ratio: [[ 0.03458882]]\n",
        "\n",
        "+---------------------------------+--------------------+-------------------+------------------+\n",
        "| Component                       |    Coefficient     |     Std. Error    |     T-Score      |\n",
        "+---------------------------------+--------------------+-------------------+------------------+\n",
        "| sqft_per_unit                   | -0.000119787744481 | 3.77704055103e-06 |  -31.7147096682  |\n",
        "| income:np.log1p(unit_price_res) | 2.32979945293e-06  | 1.03902129594e-08 |  224.230192589   |\n",
        "| jobs_within_30_min              | 1.36924978948e-07  | 3.83386166024e-08 |  3.57146373768   |\n",
        "| crime08                         | 3.95745888043e-05  | 0.000411214318289 | 0.0962383531999  |\n",
        "| popden                          | -3.94404085192e-05 |  0.00179063466718 | -0.0220259382007 |\n",
        "+---------------------------------+--------------------+-------------------+------------------+\n"
       ]
      }
     ],
     "prompt_number": 3
    },
    {
     "cell_type": "heading",
     "level": 3,
     "metadata": {},
     "source": [
      "Simulation"
     ]
    },
    {
     "cell_type": "code",
     "collapsed": false,
     "input": [
      "#Agents for simulationm\n",
      "hids = np.random.choice(households.index, size=1000, replace=False)\n",
      "\n",
      "#Simulate\n",
      "new_assignments = hlcm.predict(households.loc[hids], vacant_residential_units)\n",
      "print new_assignments"
     ],
     "language": "python",
     "metadata": {},
     "outputs": [
      {
       "output_type": "stream",
       "stream": "stdout",
       "text": [
        "405788\n",
        "8147685     117361\n",
        "6054220    1918343\n",
        "1342206     211724\n",
        "2049537     159031\n",
        "1280700    1464893\n",
        "3253904     274932\n",
        "2206744    1183610\n",
        "2096348    1298689\n",
        "2443058    1547353\n",
        "3304519    1112202\n",
        "2297633    1201298\n",
        "3326862     966279\n",
        "8211396    1137643\n",
        "1335801    1564994\n",
        "1410022    1329048\n",
        "...\n",
        "3301866     910933\n",
        "8288060     254406\n",
        "3278937    1661970\n",
        "2368000     199953\n",
        "2362784    1568347\n",
        "8078348     491812\n",
        "2453546     274809\n",
        "7026918     274837\n",
        "2001731     533755\n",
        "7017631    1062807\n",
        "8003805    1887759\n",
        "8082166     176731\n",
        "1049722    1763580\n",
        "8176285    2009778\n",
        "8024279    1596937\n",
        "Length: 1000, dtype: int64\n"
       ]
      }
     ],
     "prompt_number": 4
    },
    {
     "cell_type": "heading",
     "level": 2,
     "metadata": {},
     "source": [
      "Employment Location Choice Model (ELCM)"
     ]
    },
    {
     "cell_type": "heading",
     "level": 3,
     "metadata": {},
     "source": [
      "Estimation"
     ]
    },
    {
     "cell_type": "code",
     "collapsed": false,
     "input": [
      "#Agents for estimation\n",
      "jobs_for_estimation = data_store['jobs_for_estimation']\n",
      "\n",
      "#Filters on agents\n",
      "agent_estimation_filters = ['home_based_status == 0']\n",
      "\n",
      "agents_simulation_filters = None\n",
      "\n",
      "##Specification\n",
      "patsy_expression = ['np.log1p(non_residential_sqft)',\n",
      "                    'np.log1p(improvement_value)',\n",
      "                    'jobs_within_30_min',\n",
      "                    'popden',\n",
      "                    'crime08']\n",
      "patsy_expression = ' + '.join(patsy_expression)\n",
      "\n",
      "#Filters on alternatives\n",
      "estimation_filters = ['building_id > 0']\n",
      "\n",
      "simulation_filters = ['non_residential_sqft>0',\n",
      "                      'building_type_id not in [16,17,18,19,20]']\n",
      "\n",
      "##Instantiate ELCM\n",
      "elcm = MNLLocationChoiceModel(\n",
      "    patsy_expression, 10,\n",
      "    choosers_fit_filters=agent_estimation_filters, choosers_predict_filters=agents_simulation_filters,\n",
      "    alts_fit_filters=estimation_filters, alts_predict_filters=simulation_filters,\n",
      "    choice_column='building_id', name='ELCM')\n",
      "\n",
      "##Estimate\n",
      "elcm.fit(jobs_for_estimation, buildings, jobs_for_estimation.building_id)\n",
      "elcm.report_fit()"
     ],
     "language": "python",
     "metadata": {},
     "outputs": [
      {
       "output_type": "stream",
       "stream": "stdout",
       "text": [
        "Removing 48000 choice situations because chosen alt doesn't exist\n",
        "Null Log-liklihood: -110524.084464"
       ]
      },
      {
       "output_type": "stream",
       "stream": "stdout",
       "text": [
        "\n",
        "Log-liklihood at convergence: -15902.365185\n",
        "Log-liklihood ratio: 0.856119\n",
        "Null Log-liklihood: [[-110524.08446378]]\n",
        "Log-liklihood at convergence: [[-15902.36518463]]\n",
        "Log-liklihood Ratio: [[ 0.85611855]]\n",
        "\n",
        "+--------------------------------+-------------------+-------------------+----------------+\n",
        "| Component                      |    Coefficient    |     Std. Error    |    T-Score     |\n",
        "+--------------------------------+-------------------+-------------------+----------------+\n",
        "| np.log1p(non_residential_sqft) |   0.591963764402  |  0.00300716047787 | 196.851404758  |\n",
        "| np.log1p(improvement_value)    |   0.287190261412  |  0.00226147047783 | 126.992708606  |\n",
        "| jobs_within_30_min             | 1.40305642737e-06 | 4.95439445066e-08 | 28.3194332092  |\n",
        "| popden                         |  -0.0408177719092 |  0.00237213655666 | -17.2071762878 |\n",
        "| crime08                        | -0.00352317413044 |  0.00050808262578 | -6.9342542958  |\n",
        "+--------------------------------+-------------------+-------------------+----------------+\n"
       ]
      }
     ],
     "prompt_number": 5
    },
    {
     "cell_type": "heading",
     "level": 3,
     "metadata": {},
     "source": [
      "Simulation"
     ]
    },
    {
     "cell_type": "code",
     "collapsed": false,
     "input": [
      "#Agents for simulation\n",
      "jids = np.random.choice(jobs.index, size=1000, replace=False)\n",
      "\n",
      "#Simulate\n",
      "new_assignments = elcm.predict(jobs.loc[jids], vacant_job_spaces)\n",
      "print new_assignments"
     ],
     "language": "python",
     "metadata": {},
     "outputs": [
      {
       "output_type": "stream",
       "stream": "stdout",
       "text": [
        "3349105\n",
        "783832      299168\n",
        "739122      308399\n",
        "1406650     310644\n",
        "1596105    1568521\n",
        "1157417     302247\n",
        "1685500     494152\n",
        "1230821     279115\n",
        "1658720     294283\n",
        "945530      308537\n",
        "733940      302344\n",
        "163818      307942\n",
        "1742616     300692\n",
        "108022     1496702\n",
        "1239315     669452\n",
        "1270724    1112497\n",
        "...\n",
        "1072409    1571150\n",
        "1616852     302241\n",
        "1195939     302683\n",
        "14494      1060278\n",
        "1591840     286133\n",
        "641899     1237910\n",
        "1486270    1571150\n",
        "857529      307374\n",
        "675946      669483\n",
        "33401       284392\n",
        "753541      302108\n",
        "1135577     302238\n",
        "1505021     302503\n",
        "807907      304276\n",
        "1164525     276375\n",
        "Length: 1000, dtype: int64"
       ]
      },
      {
       "output_type": "stream",
       "stream": "stdout",
       "text": [
        "\n"
       ]
      }
     ],
     "prompt_number": 6
    },
    {
     "cell_type": "heading",
     "level": 2,
     "metadata": {},
     "source": [
      "Development Project Location Choice Model (DPLCM)"
     ]
    },
    {
     "cell_type": "heading",
     "level": 3,
     "metadata": {},
     "source": [
      "Estimation"
     ]
    },
    {
     "cell_type": "code",
     "collapsed": false,
     "input": [
      "#Agents for estimation\n",
      "buildings\n",
      "\n",
      "#Filters on agents\n",
      "agent_estimation_filters = ['year_built > 2004']\n",
      "\n",
      "agents_simulation_filters = None\n",
      "\n",
      "##Specification\n",
      "patsy_expression = ['np.log1p(dist_hwy)',\n",
      "                    'np.log1p(land_value)',\n",
      "                    'floodprone']\n",
      "patsy_expression = ' + '.join(patsy_expression)\n",
      "\n",
      "#Filters on alternatives\n",
      "estimation_filters = ['parcel_id > 0']\n",
      "\n",
      "simulation_filters = ['parcel_sqft > 10000']\n",
      "\n",
      "##Instantiate DPLCM\n",
      "dplcm = MNLLocationChoiceModel(\n",
      "    patsy_expression, 10,\n",
      "    choosers_fit_filters=agent_estimation_filters, choosers_predict_filters=agents_simulation_filters,\n",
      "    alts_fit_filters=estimation_filters, alts_predict_filters=simulation_filters, \n",
      "    choice_column='parcel_id', name='DPLCM')\n",
      "\n",
      "##Estimate\n",
      "dplcm.fit(buildings, parcels, buildings.parcel_id)\n",
      "dplcm.report_fit()"
     ],
     "language": "python",
     "metadata": {},
     "outputs": [
      {
       "output_type": "stream",
       "stream": "stdout",
       "text": [
        "Removing 55116 choice situations because chosen alt doesn't exist\n",
        "Null Log-liklihood: -126909.279986"
       ]
      },
      {
       "output_type": "stream",
       "stream": "stdout",
       "text": [
        "\n",
        "Log-liklihood at convergence: -126020.269063\n",
        "Log-liklihood ratio: 0.007005\n",
        "Null Log-liklihood: [[-126909.27998556]]\n",
        "Log-liklihood at convergence: [[-126020.26906305]]\n",
        "Log-liklihood Ratio: [[ 0.00700509]]\n",
        "\n",
        "+----------------------+-----------------+------------------+---------------+\n",
        "| Component            |   Coefficient   |    Std. Error    |    T-Score    |\n",
        "+----------------------+-----------------+------------------+---------------+\n",
        "| np.log1p(dist_hwy)   | 0.0794675658762 | 0.00208789032015 | 38.0611783624 |\n",
        "| np.log1p(land_value) | 0.0306334114637 | 0.00194355657583 | 15.7615228929 |\n",
        "| floodprone           |  0.544480994734 | 0.0168246676758  |  32.362065345 |\n",
        "+----------------------+-----------------+------------------+---------------+\n"
       ]
      }
     ],
     "prompt_number": 7
    },
    {
     "cell_type": "heading",
     "level": 3,
     "metadata": {},
     "source": [
      "Simulation"
     ]
    },
    {
     "cell_type": "code",
     "collapsed": false,
     "input": [
      "#Agents for simulation\n",
      "bids = np.random.choice(buildings.index, size=1000, replace=False)\n",
      "\n",
      "#Simulate\n",
      "new_assignments = dplcm.predict(buildings.loc[bids], parcels.reset_index())\n",
      "print new_assignments"
     ],
     "language": "python",
     "metadata": {},
     "outputs": [
      {
       "output_type": "stream",
       "stream": "stdout",
       "text": [
        "742519\n",
        "1069833    7065805\n",
        "1150547    3171020\n",
        "552110     3134672\n",
        "678294     1222478\n",
        "1115848    6013085\n",
        "319728     2163087\n",
        "218301     3028330\n",
        "467799     5005099\n",
        "992388     2399379\n",
        "1901673    4093223\n",
        "1234427    6034761\n",
        "465395     2222095\n",
        "1757671    2003083\n",
        "1275671    2131407\n",
        "1865340    2151215\n",
        "...\n",
        "167315     3085834\n",
        "477827     3045844\n",
        "308242     3219543\n",
        "1132248    2376158\n",
        "478994     2222163\n",
        "135296     5048721\n",
        "608958     1329533\n",
        "1291559    1375094\n",
        "1309550    7053078\n",
        "412034     6062087\n",
        "1434259    5035508\n",
        "1678442    8137115\n",
        "105253     2329000\n",
        "49977      3037830\n",
        "573779     7006704\n",
        "Length: 1000, dtype: int64"
       ]
      },
      {
       "output_type": "stream",
       "stream": "stdout",
       "text": [
        "\n"
       ]
      }
     ],
     "prompt_number": 8
    },
    {
     "cell_type": "heading",
     "level": 2,
     "metadata": {},
     "source": [
      "Real Estate Price Model (REPM)"
     ]
    },
    {
     "cell_type": "heading",
     "level": 3,
     "metadata": {},
     "source": [
      "Estimation"
     ]
    },
    {
     "cell_type": "code",
     "collapsed": false,
     "input": [
      "##Model specification\n",
      "def patsy_expression():\n",
      "    patsy_exp = ['I(year_built < 1940)',\n",
      "                 'year_built',\n",
      "                 'stories',\n",
      "                 'np.log1p(sqft_per_unit)',\n",
      "                 'np.log1p(popden)',\n",
      "                 'dist_hwy',\n",
      "                 'dist_road',\n",
      "                 'crime08',\n",
      "                 'np.log1p(jobs_within_30_min)']\n",
      "    patsy_exp = ' + '.join(patsy_exp)\n",
      "    return 'np.log(unit_price_res) ~ ' + patsy_exp\n",
      "model_expression = patsy_expression()\n",
      "\n",
      "##Estimation filters\n",
      "estimate_filters = ['residential_units > 0',\n",
      "                    'sqft_per_unit > 0',\n",
      "                    'year_built > 1700',\n",
      "                    'stories > 0',\n",
      "                    'tax_exempt == 0',\n",
      "                    '1e5 < unit_price_res < 1e7',\n",
      "                    '16 <= building_type_id <= 20']\n",
      "\n",
      "##Simulation filters\n",
      "simulate_filters = ['residential_units > 0',\n",
      "                    '16 <= building_type_id <= 20']\n",
      "\n",
      "##Segmentation\n",
      "group_keys = [16, 17, 18, 19, 20]\n",
      "hmg = RegressionModelGroup('building_type_id')\n",
      "for key in group_keys:\n",
      "    hmg.add_model_from_params(key, estimate_filters, simulate_filters,\n",
      "                              model_expression, ytransform=np.exp)\n",
      "    \n",
      "##Estimate\n",
      "fits = hmg.fit(buildings)"
     ],
     "language": "python",
     "metadata": {},
     "outputs": [],
     "prompt_number": 9
    },
    {
     "cell_type": "heading",
     "level": 3,
     "metadata": {},
     "source": [
      "Simulation"
     ]
    },
    {
     "cell_type": "code",
     "collapsed": false,
     "input": [
      "##Simulate\n",
      "new_unit_price_res = hmg.predict(buildings)\n",
      "print new_unit_price_res"
     ],
     "language": "python",
     "metadata": {},
     "outputs": [
      {
       "output_type": "stream",
       "stream": "stdout",
       "text": [
        "building_id\n",
        "311297          95694.685460\n",
        "311396         118529.728643\n",
        "311433          86784.010958\n",
        "311497         104063.207468\n",
        "311505         123073.999658\n",
        "311517         100814.016015\n",
        "311520         102737.091798\n",
        "311541          81818.037121\n",
        "311584          70467.799503\n",
        "311589          98886.099562\n",
        "311597          95793.405685\n",
        "311600         124432.180482\n",
        "311607         111219.705870\n",
        "311659          91454.300558\n",
        "311668         103948.173204\n",
        "...\n",
        "2061744        116059.278737\n",
        "2061748        190635.098387\n",
        "2061877        139886.207648\n",
        "2061881        154951.752677\n",
        "2062063        150858.389013\n",
        "2062246        161597.302180\n",
        "2062251        208524.871683\n",
        "2062979        194812.624825\n",
        "2062990        208823.405358\n",
        "2063778        190636.597018\n",
        "2063929        212735.365885\n",
        "2065253        200873.917622\n",
        "2065261        248989.817942\n",
        "2065263        225063.971638\n",
        "2124316         97445.522310\n",
        "Length: 1817653, dtype: float64\n"
       ]
      }
     ],
     "prompt_number": 10
    },
    {
     "cell_type": "heading",
     "level": 2,
     "metadata": {},
     "source": [
      "Additional Examples (for illustration only)"
     ]
    },
    {
     "cell_type": "code",
     "collapsed": false,
     "input": [
      "##Instantiate location choice models\n",
      "hlcm = MNLLocationChoiceModel(\n",
      "    estimation_filters, simulation_filters, patsy_expression, 10, \n",
      "    choice_column='building_id', name='HLCM')\n",
      "\n",
      "elcm = MNLLocationChoiceModel(\n",
      "    estimation_filters, simulation_filters, patsy_expression, 10, \n",
      "    choice_column='building_id', name='ELCM')\n",
      "\n",
      "dplcm = MNLLocationChoiceModel(\n",
      "    estimation_filters, simulation_filters, patsy_expression, 10, \n",
      "    choice_column='parcel_id', name='DPLCM')\n",
      "\n",
      "##Estimate\n",
      "lcm.fit(agents_for_estimation, alternatives, chosen_alternatives)\n",
      "\n",
      "##Simulate\n",
      "lcm.predict(agents_for_simulation, alternatives)"
     ],
     "language": "python",
     "metadata": {},
     "outputs": []
    },
    {
     "cell_type": "code",
     "collapsed": false,
     "input": [
      "hlcm.name"
     ],
     "language": "python",
     "metadata": {},
     "outputs": []
    },
    {
     "cell_type": "code",
     "collapsed": false,
     "input": [
      "hlcm.fitted"
     ],
     "language": "python",
     "metadata": {},
     "outputs": []
    },
    {
     "cell_type": "code",
     "collapsed": false,
     "input": [
      "hlcm.coefficients"
     ],
     "language": "python",
     "metadata": {},
     "outputs": []
    },
    {
     "cell_type": "code",
     "collapsed": false,
     "input": [
      "hlcm.report_fit()"
     ],
     "language": "python",
     "metadata": {},
     "outputs": []
    }
   ],
   "metadata": {}
  }
 ]
}