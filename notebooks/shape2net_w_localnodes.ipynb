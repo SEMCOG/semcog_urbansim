{
 "metadata": {
  "name": "",
  "signature": "sha256:926c758cd349ec253572d05af5a8cccc6e930d1764b88a9d1dd0b47507999f82"
 },
 "nbformat": 3,
 "nbformat_minor": 0,
 "worksheets": [
  {
   "cells": [
    {
     "cell_type": "code",
     "collapsed": false,
     "input": [
      "import networkx as nx\n",
      "import pandas as pd\n",
      "import pickle\n",
      "nx.__version__"
     ],
     "language": "python",
     "metadata": {},
     "outputs": [
      {
       "metadata": {},
       "output_type": "pyout",
       "prompt_number": 1,
       "text": [
        "'1.9'"
       ]
      }
     ],
     "prompt_number": 1
    },
    {
     "cell_type": "code",
     "collapsed": false,
     "input": [
      "#first input shape file has all features, 2nd has limited features such as local roads \n",
      "fn_shapes=['./travel_model_roads_newtime.shp','./travel_model_local.shp'] \n",
      "#will create two pickle files corresponding to above inputs\n",
      "fn_pkls=['modelroads_twoway.pkl','local_nodes.pkl' ] \n",
      "#for later to select the maximum between ab and ba time\n",
      "weight='AB_DRVTIME' \n",
      "weight2='BA_DRVTIME'\n"
     ],
     "language": "python",
     "metadata": {},
     "outputs": [],
     "prompt_number": 2
    },
    {
     "cell_type": "code",
     "collapsed": false,
     "input": [
      "#read two shape files\n",
      "nets=[nx.read_shp(shape) for shape in fn_shapes]\n"
     ],
     "language": "python",
     "metadata": {},
     "outputs": [],
     "prompt_number": 3
    },
    {
     "cell_type": "code",
     "collapsed": false,
     "input": [
      "#create node dataframe and assign index value as nodeid\n",
      "df_nodes=[]\n",
      "for net in nets:\n",
      "    df=pd.DataFrame(net.nodes(),columns=['x','y'])\n",
      "    df['nodeid']=df.index.values\n",
      "    df_nodes.append(df)\n"
     ],
     "language": "python",
     "metadata": {},
     "outputs": [],
     "prompt_number": 12
    },
    {
     "cell_type": "code",
     "collapsed": false,
     "input": [
      "if len(fn_shapes)>1:\n",
      "    #join nodeid from full node list to limited node list\n",
      "    df_nodes[1]=pd.merge(df_nodes[1], df_nodes[0], how='left', left_on=['x','y'], right_on=['x','y'],suffixes=('', '_all'))\n",
      "    #assign full list node ids to limited nodes\n",
      "    df_nodes[1]['nodeid']=df_nodes[1]['nodeid_all']\n",
      "    df_nodes[1]=df_nodes[1].drop('nodeid_all', 1)\n",
      "    \n",
      "    with open(fn_pkls[1], 'wb') as handle:\n",
      "        pickle.dump(df_nodes[1], handle)\n",
      "    "
     ],
     "language": "python",
     "metadata": {},
     "outputs": [],
     "prompt_number": 13
    },
    {
     "cell_type": "code",
     "collapsed": false,
     "input": [
      "i=0 #process first network only \n",
      "#create edge data frame with from and to nodes and edge weights\n",
      "edgelist=[]\n",
      "for from_, to_, data in nets[i].edges_iter(data=True):\n",
      "    edgelist.append([from_[0],from_[1],to_[0],to_[1],max(data[weight],data[weight2])])\n",
      "df_edges=pd.DataFrame(edgelist,columns=['from_x','from_y','to_x','to_y','edgeweights'])\n",
      "\n",
      "#join nodeid to starting nodes\n",
      "df_edges=pd.merge(df_edges, df_nodes[i], how='left', left_on=['from_x','from_y'], right_on=['x','y'])\n",
      "#join nodeid to ending nodes\n",
      "df_edges=pd.merge(df_edges, df_nodes[i], how='left', left_on=['to_x','to_y'], right_on=['x','y'], suffixes=('_from', '_to'))\n",
      "\n",
      "#create dictionary to store edges and nodes\n",
      "dicpkl={}\n",
      "dicpkl['edgeids']=df_edges.index.values.astype('int32')\n",
      "dicpkl['edges']=df_edges[['nodeid_from','nodeid_to']].values.astype('int32')\n",
      "dicpkl['edgeweights']=df_edges['edgeweights'].values.astype('float32')\n",
      "dicpkl['nodeids']=df_nodes[i].index.values.astype('int32')\n",
      "dicpkl['nodes']=df_nodes[i][['x','y']].values.astype('float32')\n",
      "\n",
      "print 'pickle'+str(i), [(key, dicpkl[key].size) for key in dicpkl.keys()]\n",
      "\n",
      "#save to pickle \n",
      "with open(fn_pkls[i], 'wb') as handle:\n",
      "    pickle.dump(dicpkl, handle)\n",
      "\n",
      "pd.read_pickle(fn_pkls[i]) #read to verify"
     ],
     "language": "python",
     "metadata": {},
     "outputs": [
      {
       "output_type": "stream",
       "stream": "stdout",
       "text": [
        "pickle0 [('edgeweights', 34673), ('nodes', 42564), ('edges', 69346), ('edgeids', 34673), ('nodeids', 21282)]\n"
       ]
      },
      {
       "metadata": {},
       "output_type": "pyout",
       "prompt_number": 15,
       "text": [
        "{'edgeids': array([    0,     1,     2, ..., 34670, 34671, 34672], dtype=int32),\n",
        " 'edges': array([[    0,  7350],\n",
        "        [    1,  4851],\n",
        "        [20878,  4851],\n",
        "        ..., \n",
        "        [21276, 20138],\n",
        "        [21279,  9528],\n",
        "        [21279,  9098]], dtype=int32),\n",
        " 'edgeweights': array([ 0.059     ,  0.055     ,  6.82600021, ...,  0.33000001,\n",
        "         0.13600001,  0.31099999], dtype=float32),\n",
        " 'nodeids': array([    0,     1,     2, ..., 21279, 21280, 21281], dtype=int32),\n",
        " 'nodes': array([[ 13346526.     ,    154723.1875 ],\n",
        "        [ 13384848.     ,    473030.1875 ],\n",
        "        [ 13465869.     ,    319402.03125],\n",
        "        ..., \n",
        "        [ 13449626.     ,    324770.0625 ],\n",
        "        [ 13310164.     ,    284574.75   ],\n",
        "        [ 13469361.     ,    332950.84375]], dtype=float32)}"
       ]
      }
     ],
     "prompt_number": 15
    },
    {
     "cell_type": "code",
     "collapsed": false,
     "input": [],
     "language": "python",
     "metadata": {},
     "outputs": [],
     "prompt_number": 16
    }
   ],
   "metadata": {}
  }
 ]
}