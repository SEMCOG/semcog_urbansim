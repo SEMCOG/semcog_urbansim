{
 "metadata": {
  "name": "",
  "signature": "sha256:0d3efedd08bbfdba46402e85c3086fda5e5ec0c3ef69fb8e4e96e6a421831164"
 },
 "nbformat": 3,
 "nbformat_minor": 0,
 "worksheets": [
  {
   "cells": [
    {
     "cell_type": "code",
     "collapsed": false,
     "input": [
      "import pandas as pd\n",
      "import pandana as pdna\n",
      "import time"
     ],
     "language": "python",
     "metadata": {},
     "outputs": [],
     "prompt_number": 1
    },
    {
     "cell_type": "code",
     "collapsed": false,
     "input": [
      "h5store=pd.HDFStore('./semcog_modelnetwork.h5', 'r')\n",
      "\n",
      "nodes=h5store['nodes']\n",
      "edges=h5store['edges']\n",
      "local_nodes=h5store['local_nodes']\n",
      "local_edges=h5store['local_edges']\n",
      "local_nodes.index.name = None\n"
     ],
     "language": "python",
     "metadata": {},
     "outputs": [],
     "prompt_number": 2
    },
    {
     "cell_type": "code",
     "collapsed": false,
     "input": [
      "local_nodes.head(2)"
     ],
     "language": "python",
     "metadata": {},
     "outputs": [
      {
       "html": [
        "<div style=\"max-height:1000px;max-width:1500px;overflow:auto;\">\n",
        "<table border=\"1\" class=\"dataframe\">\n",
        "  <thead>\n",
        "    <tr style=\"text-align: right;\">\n",
        "      <th></th>\n",
        "      <th>x</th>\n",
        "      <th>y</th>\n",
        "    </tr>\n",
        "  </thead>\n",
        "  <tbody>\n",
        "    <tr>\n",
        "      <th>0</th>\n",
        "      <td> 13346525.879059</td>\n",
        "      <td> 154723.189589</td>\n",
        "    </tr>\n",
        "    <tr>\n",
        "      <th>1</th>\n",
        "      <td> 13384847.597622</td>\n",
        "      <td> 473030.195992</td>\n",
        "    </tr>\n",
        "  </tbody>\n",
        "</table>\n",
        "</div>"
       ],
       "metadata": {},
       "output_type": "pyout",
       "prompt_number": 3,
       "text": [
        "                 x              y\n",
        "0  13346525.879059  154723.189589\n",
        "1  13384847.597622  473030.195992"
       ]
      }
     ],
     "prompt_number": 3
    },
    {
     "cell_type": "code",
     "collapsed": false,
     "input": [
      "pdna.network.reserve_num_graphs(2)"
     ],
     "language": "python",
     "metadata": {},
     "outputs": [],
     "prompt_number": 4
    },
    {
     "cell_type": "code",
     "collapsed": false,
     "input": [
      "#build full network\n",
      "net_full=pdna.Network(nodes[\"x\"], nodes[\"y\"], edges[\"from\"], edges[\"to\"],edges[[\"weight\"]])\n",
      "net_full.precompute(30)"
     ],
     "language": "python",
     "metadata": {},
     "outputs": [],
     "prompt_number": 5
    },
    {
     "cell_type": "code",
     "collapsed": false,
     "input": [
      "#build local network\n",
      "net_local=pdna.Network(local_nodes[\"x\"], local_nodes[\"y\"], local_edges[\"from\"], local_edges[\"to\"],local_edges[[\"weight\"]])\n",
      "net_local.precompute(30)"
     ],
     "language": "python",
     "metadata": {},
     "outputs": [],
     "prompt_number": 6
    },
    {
     "cell_type": "code",
     "collapsed": false,
     "input": [
      "#get parcels from data\n",
      "pstore=pd.HDFStore('../data/semcog_data.h5','r')\n",
      "parcels=pstore.parcels"
     ],
     "language": "python",
     "metadata": {},
     "outputs": [],
     "prompt_number": 8
    },
    {
     "cell_type": "code",
     "collapsed": false,
     "input": [
      "t1=time.time()\n",
      "x, y = parcels.centroid_x, parcels.centroid_y\n",
      "parcels[\"node_ids\"] = net_local.get_node_ids(x, y)\n",
      "print time.time()-t1"
     ],
     "language": "python",
     "metadata": {},
     "outputs": [
      {
       "output_type": "stream",
       "stream": "stdout",
       "text": [
        "2.6736638546\n"
       ]
      }
     ],
     "prompt_number": 11
    },
    {
     "cell_type": "code",
     "collapsed": false,
     "input": [
      "parcels[parcels[\"node_ids\"] ==40]"
     ],
     "language": "python",
     "metadata": {},
     "outputs": [
      {
       "html": [
        "<div style=\"max-height:1000px;max-width:1500px;overflow:auto;\">\n",
        "<table border=\"1\" class=\"dataframe\">\n",
        "  <thead>\n",
        "    <tr style=\"text-align: right;\">\n",
        "      <th></th>\n",
        "      <th>agri_land</th>\n",
        "      <th>centroid_x</th>\n",
        "      <th>centroid_y</th>\n",
        "      <th>city_id</th>\n",
        "      <th>county_id</th>\n",
        "      <th>dist_hwy</th>\n",
        "      <th>dist_road</th>\n",
        "      <th>floodprone</th>\n",
        "      <th>land_use_type_id</th>\n",
        "      <th>land_value</th>\n",
        "      <th>...</th>\n",
        "      <th>plan_type_id</th>\n",
        "      <th>plannew</th>\n",
        "      <th>pptytax</th>\n",
        "      <th>repm_id</th>\n",
        "      <th>school_district_id</th>\n",
        "      <th>sewer2010</th>\n",
        "      <th>sewer2015</th>\n",
        "      <th>sewer2025</th>\n",
        "      <th>zone_id</th>\n",
        "      <th>node_ids</th>\n",
        "    </tr>\n",
        "    <tr>\n",
        "      <th>parcel_id</th>\n",
        "      <th></th>\n",
        "      <th></th>\n",
        "      <th></th>\n",
        "      <th></th>\n",
        "      <th></th>\n",
        "      <th></th>\n",
        "      <th></th>\n",
        "      <th></th>\n",
        "      <th></th>\n",
        "      <th></th>\n",
        "      <th></th>\n",
        "      <th></th>\n",
        "      <th></th>\n",
        "      <th></th>\n",
        "      <th></th>\n",
        "      <th></th>\n",
        "      <th></th>\n",
        "      <th></th>\n",
        "      <th></th>\n",
        "      <th></th>\n",
        "      <th></th>\n",
        "    </tr>\n",
        "  </thead>\n",
        "  <tbody>\n",
        "  </tbody>\n",
        "</table>\n",
        "<p>0 rows \u00d7 23 columns</p>\n",
        "</div>"
       ],
       "metadata": {},
       "output_type": "pyout",
       "prompt_number": 14,
       "text": [
        "Empty DataFrame\n",
        "Columns: [agri_land, centroid_x, centroid_y, city_id, county_id, dist_hwy, dist_road, floodprone, land_use_type_id, land_value, large_area_id, parcel_sqft, plan_id, plan_type_id, plannew, pptytax, repm_id, school_district_id, sewer2010, sewer2015, sewer2025, zone_id, node_ids]\n",
        "Index: []\n",
        "\n",
        "[0 rows x 23 columns]"
       ]
      }
     ],
     "prompt_number": 14
    },
    {
     "cell_type": "code",
     "collapsed": false,
     "input": [
      "net_full.set(parcels['node_ids'], variable=parcels.land_value, name=\"landv\")\n",
      "ave_landv = net_full.aggregate(10, type=\"ave\", decay=\"flat\",name=\"landv\")"
     ],
     "language": "python",
     "metadata": {},
     "outputs": [],
     "prompt_number": 16
    },
    {
     "cell_type": "code",
     "collapsed": false,
     "input": [
      "df_out=pd.DataFrame(ave_landv,columns=[\"landv\"])\n",
      "df_out.head()"
     ],
     "language": "python",
     "metadata": {},
     "outputs": [
      {
       "html": [
        "<div style=\"max-height:1000px;max-width:1500px;overflow:auto;\">\n",
        "<table border=\"1\" class=\"dataframe\">\n",
        "  <thead>\n",
        "    <tr style=\"text-align: right;\">\n",
        "      <th></th>\n",
        "      <th>landv</th>\n",
        "    </tr>\n",
        "  </thead>\n",
        "  <tbody>\n",
        "    <tr>\n",
        "      <th>0</th>\n",
        "      <td> 54198.812500</td>\n",
        "    </tr>\n",
        "    <tr>\n",
        "      <th>1</th>\n",
        "      <td> 35931.761719</td>\n",
        "    </tr>\n",
        "    <tr>\n",
        "      <th>2</th>\n",
        "      <td> 60104.644531</td>\n",
        "    </tr>\n",
        "    <tr>\n",
        "      <th>3</th>\n",
        "      <td> 52621.308594</td>\n",
        "    </tr>\n",
        "    <tr>\n",
        "      <th>4</th>\n",
        "      <td> 45234.644531</td>\n",
        "    </tr>\n",
        "  </tbody>\n",
        "</table>\n",
        "</div>"
       ],
       "metadata": {},
       "output_type": "pyout",
       "prompt_number": 17,
       "text": [
        "          landv\n",
        "0  54198.812500\n",
        "1  35931.761719\n",
        "2  60104.644531\n",
        "3  52621.308594\n",
        "4  45234.644531"
       ]
      }
     ],
     "prompt_number": 17
    },
    {
     "cell_type": "code",
     "collapsed": false,
     "input": [
      "pd.merge(parcels, df_out, left_on=\"node_ids\", right_index=True, how='left').to_csv('result.csv')"
     ],
     "language": "python",
     "metadata": {},
     "outputs": [],
     "prompt_number": 19
    },
    {
     "cell_type": "code",
     "collapsed": false,
     "input": [
      "##spatial join using rtree\n",
      "\n",
      "# from rtree import index\n",
      "# indx = index.Index()\n",
      "\n",
      "# #get local nodes and insert into spatial index\n",
      "# df_local=h5store.local_nodes\n",
      "# for nid, x,y in zip(df_local.index.values,df_local['x'],df_local['y']):\n",
      "#     indx.insert(nid, (x, y))\n",
      "\n",
      "# # nearest neighbor search for all parcels\n",
      "# nodelist=[]\n",
      "# for x,y in zip(parcels.centroid_x,parcels.centroid_y):\n",
      "#     nodelist.append(list(indx.nearest((x,y), 1))[0])      \n",
      "\n",
      "# parcels['node_ids']=pd.Series(nodelist,index=parcels.index)"
     ],
     "language": "python",
     "metadata": {},
     "outputs": [],
     "prompt_number": 4
    },
    {
     "cell_type": "code",
     "collapsed": false,
     "input": [],
     "language": "python",
     "metadata": {},
     "outputs": []
    }
   ],
   "metadata": {}
  }
 ]
}