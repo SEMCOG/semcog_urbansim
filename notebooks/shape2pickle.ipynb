{
 "metadata": {
  "name": "",
  "signature": "sha256:64ef7e2e079c5258365b6a6427ba52cdfe31a1ac402c749f4986e4dbb5450f6e"
 },
 "nbformat": 3,
 "nbformat_minor": 0,
 "worksheets": [
  {
   "cells": [
    {
     "cell_type": "code",
     "collapsed": false,
     "input": [
      "import networkx as nx\n",
      "import pandas as pd\n",
      "import pickle\n",
      "nx.__version__"
     ],
     "language": "python",
     "metadata": {},
     "outputs": [
      {
       "metadata": {},
       "output_type": "pyout",
       "prompt_number": 1,
       "text": [
        "'1.9'"
       ]
      }
     ],
     "prompt_number": 1
    },
    {
     "cell_type": "code",
     "collapsed": false,
     "input": [
      "fn_shape='./roads3.shp'\n",
      "fn_pickle='modelroads_twoway.pkl'\n",
      "#for one-way network\n",
      "weight='AB_DRVTIME'\n"
     ],
     "language": "python",
     "metadata": {},
     "outputs": [],
     "prompt_number": 2
    },
    {
     "cell_type": "code",
     "collapsed": false,
     "input": [
      "net=nx.read_shp(fn_shape)"
     ],
     "language": "python",
     "metadata": {},
     "outputs": [],
     "prompt_number": 3
    },
    {
     "cell_type": "code",
     "collapsed": false,
     "input": [
      "dfnodes=pd.DataFrame(net.nodes(),columns=['x','y'])\n",
      "dfnodes['nodeid']=dfnodes.index.values"
     ],
     "language": "python",
     "metadata": {},
     "outputs": [],
     "prompt_number": 4
    },
    {
     "cell_type": "code",
     "collapsed": false,
     "input": [
      "dfnodes.head(5)"
     ],
     "language": "python",
     "metadata": {},
     "outputs": [
      {
       "html": [
        "<div style=\"max-height:1000px;max-width:1500px;overflow:auto;\">\n",
        "<table border=\"1\" class=\"dataframe\">\n",
        "  <thead>\n",
        "    <tr style=\"text-align: right;\">\n",
        "      <th></th>\n",
        "      <th>x</th>\n",
        "      <th>y</th>\n",
        "      <th>nodeid</th>\n",
        "    </tr>\n",
        "  </thead>\n",
        "  <tbody>\n",
        "    <tr>\n",
        "      <th>0</th>\n",
        "      <td> 13346525.879059</td>\n",
        "      <td> 154723.189589</td>\n",
        "      <td> 0</td>\n",
        "    </tr>\n",
        "    <tr>\n",
        "      <th>1</th>\n",
        "      <td> 13384847.597622</td>\n",
        "      <td> 473030.195992</td>\n",
        "      <td> 1</td>\n",
        "    </tr>\n",
        "    <tr>\n",
        "      <th>2</th>\n",
        "      <td> 13465869.377127</td>\n",
        "      <td> 319402.041928</td>\n",
        "      <td> 2</td>\n",
        "    </tr>\n",
        "    <tr>\n",
        "      <th>3</th>\n",
        "      <td> 13476456.699528</td>\n",
        "      <td> 321726.627843</td>\n",
        "      <td> 3</td>\n",
        "    </tr>\n",
        "    <tr>\n",
        "      <th>4</th>\n",
        "      <td> 13380707.377391</td>\n",
        "      <td> 334538.813919</td>\n",
        "      <td> 4</td>\n",
        "    </tr>\n",
        "  </tbody>\n",
        "</table>\n",
        "</div>"
       ],
       "metadata": {},
       "output_type": "pyout",
       "prompt_number": 5,
       "text": [
        "                 x              y  nodeid\n",
        "0  13346525.879059  154723.189589       0\n",
        "1  13384847.597622  473030.195992       1\n",
        "2  13465869.377127  319402.041928       2\n",
        "3  13476456.699528  321726.627843       3\n",
        "4  13380707.377391  334538.813919       4"
       ]
      }
     ],
     "prompt_number": 5
    },
    {
     "cell_type": "code",
     "collapsed": false,
     "input": [
      "edgelist=[]\n",
      "for from_, to_, data in net.edges_iter(data=True):\n",
      "    edgelist.append([from_[0],from_[1],to_[0],to_[1],data[weight]])\n",
      "#edgelist"
     ],
     "language": "python",
     "metadata": {},
     "outputs": [],
     "prompt_number": 6
    },
    {
     "cell_type": "code",
     "collapsed": false,
     "input": [
      "dfedges=pd.DataFrame(edgelist,columns=['from_x','from_y','to_x','to_y','edgeweights'])\n",
      "dfedges[:1]"
     ],
     "language": "python",
     "metadata": {},
     "outputs": [
      {
       "html": [
        "<div style=\"max-height:1000px;max-width:1500px;overflow:auto;\">\n",
        "<table border=\"1\" class=\"dataframe\">\n",
        "  <thead>\n",
        "    <tr style=\"text-align: right;\">\n",
        "      <th></th>\n",
        "      <th>from_x</th>\n",
        "      <th>from_y</th>\n",
        "      <th>to_x</th>\n",
        "      <th>to_y</th>\n",
        "      <th>edgeweights</th>\n",
        "    </tr>\n",
        "  </thead>\n",
        "  <tbody>\n",
        "    <tr>\n",
        "      <th>0</th>\n",
        "      <td> 13346525.879059</td>\n",
        "      <td> 154723.189589</td>\n",
        "      <td> 13346754.083647</td>\n",
        "      <td> 154683.137934</td>\n",
        "      <td> 0.059</td>\n",
        "    </tr>\n",
        "  </tbody>\n",
        "</table>\n",
        "</div>"
       ],
       "metadata": {},
       "output_type": "pyout",
       "prompt_number": 8,
       "text": [
        "            from_x         from_y             to_x           to_y  edgeweights\n",
        "0  13346525.879059  154723.189589  13346754.083647  154683.137934        0.059"
       ]
      }
     ],
     "prompt_number": 8
    },
    {
     "cell_type": "code",
     "collapsed": false,
     "input": [
      "dfedges=pd.merge(dfedges, dfnodes, how='left', left_on=['from_x','from_y'], right_on=['x','y'])\n"
     ],
     "language": "python",
     "metadata": {},
     "outputs": [],
     "prompt_number": 9
    },
    {
     "cell_type": "code",
     "collapsed": false,
     "input": [
      "dfedges=pd.merge(dfedges, dfnodes, how='left', left_on=['to_x','to_y'], right_on=['x','y'], suffixes=('_from', '_to'))"
     ],
     "language": "python",
     "metadata": {},
     "outputs": [],
     "prompt_number": 10
    },
    {
     "cell_type": "code",
     "collapsed": false,
     "input": [
      "dfedges.head(2)"
     ],
     "language": "python",
     "metadata": {},
     "outputs": [
      {
       "html": [
        "<div style=\"max-height:1000px;max-width:1500px;overflow:auto;\">\n",
        "<table border=\"1\" class=\"dataframe\">\n",
        "  <thead>\n",
        "    <tr style=\"text-align: right;\">\n",
        "      <th></th>\n",
        "      <th>from_x</th>\n",
        "      <th>from_y</th>\n",
        "      <th>to_x</th>\n",
        "      <th>to_y</th>\n",
        "      <th>edgeweights</th>\n",
        "      <th>x_from</th>\n",
        "      <th>y_from</th>\n",
        "      <th>nodeid_from</th>\n",
        "      <th>x_to</th>\n",
        "      <th>y_to</th>\n",
        "      <th>nodeid_to</th>\n",
        "    </tr>\n",
        "  </thead>\n",
        "  <tbody>\n",
        "    <tr>\n",
        "      <th>0</th>\n",
        "      <td> 13346525.879059</td>\n",
        "      <td> 154723.189589</td>\n",
        "      <td> 13346754.083647</td>\n",
        "      <td> 154683.137934</td>\n",
        "      <td> 0.059</td>\n",
        "      <td> 13346525.879059</td>\n",
        "      <td> 154723.189589</td>\n",
        "      <td> 0</td>\n",
        "      <td> 13346754.083647</td>\n",
        "      <td> 154683.137934</td>\n",
        "      <td> 7350</td>\n",
        "    </tr>\n",
        "    <tr>\n",
        "      <th>1</th>\n",
        "      <td> 13384847.597622</td>\n",
        "      <td> 473030.195992</td>\n",
        "      <td> 13384968.838841</td>\n",
        "      <td> 473037.066243</td>\n",
        "      <td> 0.055</td>\n",
        "      <td> 13384847.597622</td>\n",
        "      <td> 473030.195992</td>\n",
        "      <td> 1</td>\n",
        "      <td> 13384968.838841</td>\n",
        "      <td> 473037.066243</td>\n",
        "      <td> 4851</td>\n",
        "    </tr>\n",
        "  </tbody>\n",
        "</table>\n",
        "</div>"
       ],
       "metadata": {},
       "output_type": "pyout",
       "prompt_number": 11,
       "text": [
        "            from_x         from_y             to_x           to_y  \\\n",
        "0  13346525.879059  154723.189589  13346754.083647  154683.137934   \n",
        "1  13384847.597622  473030.195992  13384968.838841  473037.066243   \n",
        "\n",
        "   edgeweights           x_from         y_from  nodeid_from             x_to  \\\n",
        "0        0.059  13346525.879059  154723.189589            0  13346754.083647   \n",
        "1        0.055  13384847.597622  473030.195992            1  13384968.838841   \n",
        "\n",
        "            y_to  nodeid_to  \n",
        "0  154683.137934       7350  \n",
        "1  473037.066243       4851  "
       ]
      }
     ],
     "prompt_number": 11
    },
    {
     "cell_type": "code",
     "collapsed": false,
     "input": [
      "dicpkl={}\n",
      "dicpkl['edgeids']=dfedges.index.values.astype('int32')\n",
      "dicpkl['edges']=dfedges[['nodeid_from','nodeid_to']].values.astype('int32')\n",
      "dicpkl['edgeweights']=dfedges['edgeweights'].values.astype('float32')\n",
      "dicpkl['nodeids']=dfnodes.index.values.astype('int32')\n",
      "dicpkl['nodes']=dfnodes[['x','y']].values.astype('float32')\n"
     ],
     "language": "python",
     "metadata": {},
     "outputs": [],
     "prompt_number": 12
    },
    {
     "cell_type": "code",
     "collapsed": false,
     "input": [
      "print dicpkl['edgeids'].size, dicpkl['edges'].size, dicpkl['edgeweights'].size, dicpkl['nodeids'].size, dicpkl['nodes'].size"
     ],
     "language": "python",
     "metadata": {},
     "outputs": [
      {
       "output_type": "stream",
       "stream": "stdout",
       "text": [
        "34673 69346 34673 21282 42564\n"
       ]
      }
     ],
     "prompt_number": 13
    },
    {
     "cell_type": "code",
     "collapsed": false,
     "input": [
      "with open(fn_pickle, 'wb') as handle:\n",
      "    pickle.dump(dicpkl, handle)"
     ],
     "language": "python",
     "metadata": {},
     "outputs": [],
     "prompt_number": 14
    },
    {
     "cell_type": "code",
     "collapsed": false,
     "input": [
      "pd.read_pickle(fn_pickle)"
     ],
     "language": "python",
     "metadata": {},
     "outputs": [
      {
       "metadata": {},
       "output_type": "pyout",
       "prompt_number": 15,
       "text": [
        "{'edgeids': array([    0,     1,     2, ..., 34670, 34671, 34672], dtype=int32),\n",
        " 'edges': array([[    0,  7350],\n",
        "        [    1,  4851],\n",
        "        [20878,  4851],\n",
        "        ..., \n",
        "        [21276, 20138],\n",
        "        [21279,  9528],\n",
        "        [21279,  9098]], dtype=int32),\n",
        " 'edgeweights': array([ 0.059     ,  0.055     ,  6.82600021, ...,  0.33000001,\n",
        "         0.13600001,  0.31099999], dtype=float32),\n",
        " 'nodeids': array([    0,     1,     2, ..., 21279, 21280, 21281], dtype=int32),\n",
        " 'nodes': array([[ 13346526.     ,    154723.1875 ],\n",
        "        [ 13384848.     ,    473030.1875 ],\n",
        "        [ 13465869.     ,    319402.03125],\n",
        "        ..., \n",
        "        [ 13449626.     ,    324770.0625 ],\n",
        "        [ 13310164.     ,    284574.75   ],\n",
        "        [ 13469361.     ,    332950.84375]], dtype=float32)}"
       ]
      }
     ],
     "prompt_number": 15
    },
    {
     "cell_type": "code",
     "collapsed": false,
     "input": [],
     "language": "python",
     "metadata": {},
     "outputs": []
    }
   ],
   "metadata": {}
  }
 ]
}