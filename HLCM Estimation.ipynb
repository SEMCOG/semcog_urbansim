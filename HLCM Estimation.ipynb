{
 "cells": [
  {
   "cell_type": "code",
   "execution_count": null,
   "metadata": {
    "scrolled": true
   },
   "outputs": [],
   "source": [
    "from urbansim.models.dcm import MNLDiscreteChoiceModel\n",
    "\n",
    "import os\n",
    "import numpy as np\n",
    "import pandas as pd\n",
    "\n",
    "import orca\n",
    "from urbansim.utils import misc\n",
    "\n",
    "import dataset\n",
    "import variables\n",
    "import models\n",
    "import utils\n",
    "\n",
    "orca.run([\"build_networks\"])\n",
    "orca.run([\"neighborhood_vars\"])"
   ]
  },
  {
   "cell_type": "markdown",
   "metadata": {},
   "source": [
    "## HLCM Estimation Function"
   ]
  },
  {
   "cell_type": "code",
   "execution_count": 5,
   "metadata": {
    "collapsed": true
   },
   "outputs": [],
   "source": [
    "def estimate_hlcm(yaml_config):\n",
    "    model = MNLDiscreteChoiceModel.from_yaml(str_or_buffer=misc.config(yaml_config))\n",
    "\n",
    "    hh = orca.get_table('households').to_frame(model.columns_used()).fillna(0)\n",
    "    b = orca.get_table('buildings').to_frame(model.columns_used()).fillna(0)\n",
    "\n",
    "    print model.fit(hh, b, hh[model.choice_column])\n",
    "\n",
    "    return model.fit_parameters"
   ]
  },
  {
   "cell_type": "markdown",
   "metadata": {},
   "source": [
    "## HLCM Configs"
   ]
  },
  {
   "cell_type": "code",
   "execution_count": 8,
   "metadata": {},
   "outputs": [],
   "source": [
    "hlcm_configs = ['hlcm/large_area_income_quartile/hlcm400099.yaml',\n",
    "                 'hlcm/large_area_income_quartile/hlcm200115.yaml',\n",
    "                 'hlcm/large_area_income_quartile/hlcm100125.yaml',\n",
    "                 'hlcm/large_area_income_quartile/hlcm100161.yaml',\n",
    "                 'hlcm/large_area_income_quartile/hlcm200093.yaml',\n",
    "                 'hlcm/large_area_income_quartile/hlcm300099.yaml',\n",
    "                 'hlcm/large_area_income_quartile/hlcm400147.yaml',\n",
    "                 'hlcm/large_area_income_quartile/hlcm100093.yaml',\n",
    "                 'hlcm/large_area_income_quartile/hlcm200125.yaml',\n",
    "                 'hlcm/large_area_income_quartile/hlcm100147.yaml',\n",
    "                 'hlcm/large_area_income_quartile/hlcm100005.yaml',\n",
    "                 'hlcm/large_area_income_quartile/hlcm200003.yaml',\n",
    "                 'hlcm/large_area_income_quartile/hlcm400003.yaml',\n",
    "                 'hlcm/large_area_income_quartile/hlcm200161.yaml',\n",
    "                 'hlcm/large_area_income_quartile/hlcm300005.yaml',\n",
    "                 'hlcm/large_area_income_quartile/hlcm300147.yaml',\n",
    "                 'hlcm/large_area_income_quartile/hlcm400115.yaml',\n",
    "                 'hlcm/large_area_income_quartile/hlcm300115.yaml',\n",
    "                 'hlcm/large_area_income_quartile/hlcm400125.yaml',\n",
    "                 'hlcm/large_area_income_quartile/hlcm400161.yaml',\n",
    "                 'hlcm/large_area_income_quartile/hlcm300125.yaml',\n",
    "                 'hlcm/large_area_income_quartile/hlcm300161.yaml',\n",
    "                 'hlcm/large_area_income_quartile/hlcm200005.yaml',\n",
    "                 'hlcm/large_area_income_quartile/hlcm400093.yaml',\n",
    "                 'hlcm/large_area_income_quartile/hlcm100003.yaml',\n",
    "                 'hlcm/large_area_income_quartile/hlcm100099.yaml',\n",
    "                 'hlcm/large_area_income_quartile/hlcm100115.yaml',\n",
    "                 'hlcm/large_area_income_quartile/hlcm400005.yaml',\n",
    "                 'hlcm/large_area_income_quartile/hlcm200099.yaml',\n",
    "                 'hlcm/large_area_income_quartile/hlcm300003.yaml',\n",
    "                 'hlcm/large_area_income_quartile/hlcm200147.yaml',\n",
    "                 'hlcm/large_area_income_quartile/hlcm300093.yaml']"
   ]
  },
  {
   "cell_type": "markdown",
   "metadata": {},
   "source": [
    "## Estimate a particular HLCM submodel"
   ]
  },
  {
   "cell_type": "code",
   "execution_count": 9,
   "metadata": {},
   "outputs": [
    {
     "name": "stdout",
     "output_type": "stream",
     "text": [
      "{'convergence': -8762.83469336398, 'null': -9210.340371976195, 'ratio': 0.04858731171041364}\n"
     ]
    },
    {
     "data": {
      "text/html": [
       "<div>\n",
       "<style>\n",
       "    .dataframe thead tr:only-child th {\n",
       "        text-align: right;\n",
       "    }\n",
       "\n",
       "    .dataframe thead th {\n",
       "        text-align: left;\n",
       "    }\n",
       "\n",
       "    .dataframe tbody tr th {\n",
       "        vertical-align: top;\n",
       "    }\n",
       "</style>\n",
       "<table border=\"1\" class=\"dataframe\">\n",
       "  <thead>\n",
       "    <tr style=\"text-align: right;\">\n",
       "      <th></th>\n",
       "      <th>Coefficient</th>\n",
       "      <th>Std. Error</th>\n",
       "      <th>T-Score</th>\n",
       "    </tr>\n",
       "  </thead>\n",
       "  <tbody>\n",
       "    <tr>\n",
       "      <th>building_type_id_is_84</th>\n",
       "      <td>-1.317146</td>\n",
       "      <td>0.259722</td>\n",
       "      <td>-5.071368</td>\n",
       "    </tr>\n",
       "    <tr>\n",
       "      <th>residential_units</th>\n",
       "      <td>0.027593</td>\n",
       "      <td>0.002259</td>\n",
       "      <td>12.214627</td>\n",
       "    </tr>\n",
       "    <tr>\n",
       "      <th>ln_income:nodes_walk_ave_income</th>\n",
       "      <td>0.126298</td>\n",
       "      <td>0.000477</td>\n",
       "      <td>264.607183</td>\n",
       "    </tr>\n",
       "    <tr>\n",
       "      <th>is_race4:nodes_walk_percent_race4</th>\n",
       "      <td>3.000000</td>\n",
       "      <td>1.129367</td>\n",
       "      <td>2.656354</td>\n",
       "    </tr>\n",
       "    <tr>\n",
       "      <th>building_type_id_is_83</th>\n",
       "      <td>1.022990</td>\n",
       "      <td>0.160981</td>\n",
       "      <td>6.354724</td>\n",
       "    </tr>\n",
       "    <tr>\n",
       "      <th>nodes_walk_population</th>\n",
       "      <td>0.000487</td>\n",
       "      <td>0.000145</td>\n",
       "      <td>3.369447</td>\n",
       "    </tr>\n",
       "    <tr>\n",
       "      <th>has_children:sqft_per_unit</th>\n",
       "      <td>0.000248</td>\n",
       "      <td>0.000022</td>\n",
       "      <td>11.359364</td>\n",
       "    </tr>\n",
       "    <tr>\n",
       "      <th>persons:nodes_walk_ln_popden</th>\n",
       "      <td>0.025843</td>\n",
       "      <td>0.006955</td>\n",
       "      <td>3.715949</td>\n",
       "    </tr>\n",
       "    <tr>\n",
       "      <th>is_young:zones_empden</th>\n",
       "      <td>0.036463</td>\n",
       "      <td>0.025748</td>\n",
       "      <td>1.416140</td>\n",
       "    </tr>\n",
       "    <tr>\n",
       "      <th>crime_ucr_rate</th>\n",
       "      <td>-0.000117</td>\n",
       "      <td>0.000028</td>\n",
       "      <td>-4.114414</td>\n",
       "    </tr>\n",
       "  </tbody>\n",
       "</table>\n",
       "</div>"
      ],
      "text/plain": [
       "                                   Coefficient  Std. Error     T-Score\n",
       "building_type_id_is_84               -1.317146    0.259722   -5.071368\n",
       "residential_units                     0.027593    0.002259   12.214627\n",
       "ln_income:nodes_walk_ave_income       0.126298    0.000477  264.607183\n",
       "is_race4:nodes_walk_percent_race4     3.000000    1.129367    2.656354\n",
       "building_type_id_is_83                1.022990    0.160981    6.354724\n",
       "nodes_walk_population                 0.000487    0.000145    3.369447\n",
       "has_children:sqft_per_unit            0.000248    0.000022   11.359364\n",
       "persons:nodes_walk_ln_popden          0.025843    0.006955    3.715949\n",
       "is_young:zones_empden                 0.036463    0.025748    1.416140\n",
       "crime_ucr_rate                       -0.000117    0.000028   -4.114414"
      ]
     },
     "execution_count": 9,
     "metadata": {},
     "output_type": "execute_result"
    }
   ],
   "source": [
    "estimate_hlcm(hlcm_configs[0])"
   ]
  }
 ],
 "metadata": {
  "kernelspec": {
   "display_name": "Python [conda env:mtc2]",
   "language": "python",
   "name": "conda-env-mtc2-py"
  },
  "language_info": {
   "codemirror_mode": {
    "name": "ipython",
    "version": 2
   },
   "file_extension": ".py",
   "mimetype": "text/x-python",
   "name": "python",
   "nbconvert_exporter": "python",
   "pygments_lexer": "ipython2",
   "version": "2.7.13"
  }
 },
 "nbformat": 4,
 "nbformat_minor": 2
}
