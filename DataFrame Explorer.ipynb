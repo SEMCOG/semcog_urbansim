{
 "metadata": {
  "name": "",
  "signature": "sha256:b1e0fe6045e87c3f98075f398b4aa997ab7b96affc042b1555d5422db1c0e818"
 },
 "nbformat": 3,
 "nbformat_minor": 0,
 "worksheets": [
  {
   "cells": [
    {
     "cell_type": "code",
     "collapsed": false,
     "input": [
      "%load_ext autoreload\n",
      "%autoreload 2\n",
      "%aimport models\n",
      "%aimport dataset\n",
      "%aimport dset_explorer"
     ],
     "language": "python",
     "metadata": {},
     "outputs": [],
     "prompt_number": 1
    },
    {
     "cell_type": "code",
     "collapsed": false,
     "input": [
      "dset = dataset.SemcogDataset(\"data/semcog_data.h5\")"
     ],
     "language": "python",
     "metadata": {},
     "outputs": [
      {
       "output_type": "stream",
       "stream": "stdout",
       "text": [
        "Fetching cities\n"
       ]
      }
     ],
     "prompt_number": 2
    },
    {
     "cell_type": "code",
     "collapsed": false,
     "input": [
      "models.build_networks(dset)"
     ],
     "language": "python",
     "metadata": {},
     "outputs": [
      {
       "output_type": "stream",
       "stream": "stdout",
       "text": [
        "Fetching parcels\n"
       ]
      }
     ],
     "prompt_number": 3
    },
    {
     "cell_type": "code",
     "collapsed": false,
     "input": [
      "models.cache_variables(dset)"
     ],
     "language": "python",
     "metadata": {},
     "outputs": [
      {
       "output_type": "stream",
       "stream": "stdout",
       "text": [
        "Fetching buildings\n",
        "Fetching zones"
       ]
      },
      {
       "output_type": "stream",
       "stream": "stdout",
       "text": [
        "\n",
        "Fetching households\n",
        "Fetching building_sqft_per_job"
       ]
      },
      {
       "output_type": "stream",
       "stream": "stdout",
       "text": [
        "\n",
        "Fetching travel_data"
       ]
      },
      {
       "output_type": "stream",
       "stream": "stdout",
       "text": [
        "\n",
        "Fetching jobs"
       ]
      },
      {
       "output_type": "stream",
       "stream": "stdout",
       "text": [
        "\n"
       ]
      }
     ],
     "prompt_number": 4
    },
    {
     "cell_type": "code",
     "collapsed": false,
     "input": [
      "debug_dict = models.rsh_estimate(dset)"
     ],
     "language": "python",
     "metadata": {},
     "outputs": [
      {
       "output_type": "stream",
       "stream": "stdout",
       "text": [
        "Fetching nodes\n",
        "WARNING: fetching precomputed nodes off of disk\n",
        "Running hedonic estimation\n"
       ]
      },
      {
       "output_type": "stream",
       "stream": "stdout",
       "text": [
        "\n",
        "REGRESSION RESULTS FOR SEGMENT 16\n"
       ]
      },
      {
       "output_type": "stream",
       "stream": "stdout",
       "text": [
        "\n",
        "                                 OLS Regression Results                                 \n",
        "========================================================================================\n",
        "Dep. Variable:     np.log1p(unit_price_res_est)   R-squared:                       0.057\n",
        "Model:                                      OLS   Adj. R-squared:                  0.055\n",
        "Method:                           Least Squares   F-statistic:                     33.86\n",
        "Date:                          Sat, 07 Jun 2014   Prob (F-statistic):           3.04e-83\n",
        "Time:                                  13:11:14   Log-Likelihood:                -4782.5\n",
        "No. Observations:                          7306   AIC:                             9593.\n",
        "Df Residuals:                              7292   BIC:                             9690.\n",
        "Df Model:                                    13                                         \n",
        "================================================================================================\n",
        "                                   coef    std err          t      P>|t|      [95.0% Conf. Int.]\n",
        "------------------------------------------------------------------------------------------------\n",
        "Intercept                       -1.4023      0.546     -2.568      0.010        -2.473    -0.332\n",
        "I(year_built < 1940)[T.True]     0.0118      0.026      0.455      0.649        -0.039     0.063\n",
        "year_built                       0.0025      0.000      9.104      0.000         0.002     0.003\n",
        "stories                          0.1193      0.018      6.555      0.000         0.084     0.155\n",
        "np.log1p(sqft_per_unit)         -0.0875      0.013     -6.572      0.000        -0.114    -0.061\n",
        "np.log1p(popden)                -0.0723      0.032     -2.266      0.023        -0.135    -0.010\n",
        "dist_hwy                      -6.19e-07   4.31e-07     -1.435      0.151     -1.46e-06  2.27e-07\n",
        "dist_road                     1.793e-06   2.93e-06      0.612      0.541     -3.95e-06  7.54e-06\n",
        "crime08                          0.0053      0.001      5.635      0.000         0.003     0.007\n",
        "np.log1p(jobs_within_30_min)     0.0112      0.004      2.514      0.012         0.002     0.020\n",
        "sum_residential_units           -0.0005      0.019     -0.025      0.980        -0.038     0.037\n",
        "poor                            -0.0228      0.016     -1.438      0.150        -0.054     0.008\n",
        "jobs                            -0.0047      0.007     -0.672      0.502        -0.018     0.009\n",
        "ave_income                       0.0095      0.003      3.136      0.002         0.004     0.015\n",
        "==============================================================================\n",
        "Omnibus:                      518.629   Durbin-Watson:                   1.682\n",
        "Prob(Omnibus):                  0.000   Jarque-Bera (JB):              658.103\n",
        "Skew:                           0.656   Prob(JB):                    1.24e-143\n",
        "Kurtosis:                       3.662   Cond. No.                     2.46e+06\n",
        "==============================================================================\n",
        "\n",
        "Warnings:\n",
        "[1] The condition number is large, 2.46e+06. This might indicate that there are\n",
        "strong multicollinearity or other numerical problems."
       ]
      },
      {
       "output_type": "stream",
       "stream": "stdout",
       "text": [
        "\n",
        "\n",
        "REGRESSION RESULTS FOR SEGMENT 17\n",
        "\n",
        "                                 OLS Regression Results                                 \n",
        "========================================================================================\n",
        "Dep. Variable:     np.log1p(unit_price_res_est)   R-squared:                       0.183\n",
        "Model:                                      OLS   Adj. R-squared:                  0.183\n",
        "Method:                           Least Squares   F-statistic:                 2.369e+04\n",
        "Date:                          Sat, 07 Jun 2014   Prob (F-statistic):               0.00\n",
        "Time:                                  13:11:15   Log-Likelihood:            -5.3512e+05\n",
        "No. Observations:                       1379505   AIC:                         1.070e+06\n",
        "Df Residuals:                           1379491   BIC:                         1.070e+06\n",
        "Df Model:                                    13                                         \n",
        "================================================================================================\n",
        "                                   coef    std err          t      P>|t|      [95.0% Conf. Int.]\n",
        "------------------------------------------------------------------------------------------------\n",
        "Intercept                       -4.5253      0.037   -122.818      0.000        -4.598    -4.453\n",
        "I(year_built < 1940)[T.True]    -0.0597      0.001    -51.797      0.000        -0.062    -0.057\n",
        "year_built                       0.0035   1.92e-05    183.474      0.000         0.003     0.004\n",
        "stories                          0.0994      0.001     91.397      0.000         0.097     0.102\n",
        "np.log1p(sqft_per_unit)         -0.0432      0.001    -47.876      0.000        -0.045    -0.041\n",
        "np.log1p(popden)                 0.0404      0.001     57.930      0.000         0.039     0.042\n",
        "dist_hwy                     -8.624e-07   3.61e-08    -23.864      0.000     -9.33e-07 -7.92e-07\n",
        "dist_road                     3.543e-07   3.84e-07      0.922      0.357     -3.99e-07  1.11e-06\n",
        "crime08                         -0.0023   1.63e-05   -144.108      0.000        -0.002    -0.002\n",
        "np.log1p(jobs_within_30_min)     0.0098      0.000     55.104      0.000         0.009     0.010\n",
        "sum_residential_units            0.0588      0.001     41.206      0.000         0.056     0.062\n",
        "poor                            -0.0829      0.001    -59.411      0.000        -0.086    -0.080\n",
        "jobs                             0.0025      0.000     12.730      0.000         0.002     0.003\n",
        "ave_income                       0.1243      0.001    183.945      0.000         0.123     0.126\n",
        "==============================================================================\n",
        "Omnibus:                   374013.033   Durbin-Watson:                   0.783\n",
        "Prob(Omnibus):                  0.000   Jarque-Bera (JB):          5671033.812\n",
        "Skew:                           0.896   Prob(JB):                         0.00\n",
        "Kurtosis:                      12.770   Cond. No.                     1.71e+06\n",
        "==============================================================================\n",
        "\n",
        "Warnings:\n",
        "[1] The condition number is large, 1.71e+06. This might indicate that there are\n",
        "strong multicollinearity or other numerical problems."
       ]
      },
      {
       "output_type": "stream",
       "stream": "stdout",
       "text": [
        "\n",
        "\n",
        "REGRESSION RESULTS FOR SEGMENT 18\n",
        "\n",
        "                                 OLS Regression Results                                 \n",
        "========================================================================================\n",
        "Dep. Variable:     np.log1p(unit_price_res_est)   R-squared:                       0.059\n",
        "Model:                                      OLS   Adj. R-squared:                  0.059\n",
        "Method:                           Least Squares   F-statistic:                     140.4\n",
        "Date:                          Sat, 07 Jun 2014   Prob (F-statistic):               0.00\n",
        "Time:                                  13:11:15   Log-Likelihood:                -17972.\n",
        "No. Observations:                         29041   AIC:                         3.597e+04\n",
        "Df Residuals:                             29027   BIC:                         3.609e+04\n",
        "Df Model:                                    13                                         \n",
        "================================================================================================\n",
        "                                   coef    std err          t      P>|t|      [95.0% Conf. Int.]\n",
        "------------------------------------------------------------------------------------------------\n",
        "Intercept                       -8.0132      0.566    -14.168      0.000        -9.122    -6.905\n",
        "I(year_built < 1940)[T.True]     0.8302      0.028     29.364      0.000         0.775     0.886\n",
        "year_built                       0.0063      0.000     21.557      0.000         0.006     0.007\n",
        "stories                         -0.0148      0.003     -5.667      0.000        -0.020    -0.010\n",
        "np.log1p(sqft_per_unit)         -0.1396      0.008    -18.344      0.000        -0.154    -0.125\n",
        "np.log1p(popden)                -0.0428      0.005     -8.183      0.000        -0.053    -0.033\n",
        "dist_hwy                     -3.514e-06   2.46e-07    -14.282      0.000        -4e-06 -3.03e-06\n",
        "dist_road                     2.078e-05   3.49e-06      5.951      0.000      1.39e-05  2.76e-05\n",
        "crime08                         -0.0009      0.000     -4.539      0.000        -0.001    -0.001\n",
        "np.log1p(jobs_within_30_min)     0.0105      0.002      6.200      0.000         0.007     0.014\n",
        "sum_residential_units            0.0215      0.010      2.250      0.024         0.003     0.040\n",
        "poor                            -0.0911      0.009     -9.951      0.000        -0.109    -0.073\n",
        "jobs                             0.0148      0.002      9.608      0.000         0.012     0.018\n",
        "ave_income                       0.0569      0.007      8.275      0.000         0.043     0.070\n",
        "==============================================================================\n",
        "Omnibus:                     7496.509   Durbin-Watson:                   0.580\n",
        "Prob(Omnibus):                  0.000   Jarque-Bera (JB):            87697.731\n",
        "Skew:                           0.908   Prob(JB):                         0.00\n",
        "Kurtosis:                      11.317   Cond. No.                     4.15e+06\n",
        "==============================================================================\n",
        "\n",
        "Warnings:\n",
        "[1] The condition number is large, 4.15e+06. This might indicate that there are\n",
        "strong multicollinearity or other numerical problems."
       ]
      },
      {
       "output_type": "stream",
       "stream": "stdout",
       "text": [
        "\n",
        "\n",
        "REGRESSION RESULTS FOR SEGMENT 19\n",
        "\n",
        "                                 OLS Regression Results                                 \n",
        "========================================================================================\n",
        "Dep. Variable:     np.log1p(unit_price_res_est)   R-squared:                       0.274\n",
        "Model:                                      OLS   Adj. R-squared:                  0.274\n",
        "Method:                           Least Squares   F-statistic:                     625.1\n",
        "Date:                          Sat, 07 Jun 2014   Prob (F-statistic):               0.00\n",
        "Time:                                  13:11:15   Log-Likelihood:                -19470.\n",
        "No. Observations:                         21548   AIC:                         3.897e+04\n",
        "Df Residuals:                             21534   BIC:                         3.908e+04\n",
        "Df Model:                                    13                                         \n",
        "================================================================================================\n",
        "                                   coef    std err          t      P>|t|      [95.0% Conf. Int.]\n",
        "------------------------------------------------------------------------------------------------\n",
        "Intercept                       -2.2688      0.527     -4.303      0.000        -3.302    -1.235\n",
        "I(year_built < 1940)[T.True]     0.1997      0.019     10.524      0.000         0.162     0.237\n",
        "year_built                       0.0045      0.000     17.174      0.000         0.004     0.005\n",
        "stories                         -0.0054      0.004     -1.273      0.203        -0.014     0.003\n",
        "np.log1p(sqft_per_unit)         -0.4647      0.005    -86.505      0.000        -0.475    -0.454\n",
        "np.log1p(popden)                -0.0023      0.008     -0.297      0.767        -0.018     0.013\n",
        "dist_hwy                      8.751e-07   6.34e-07      1.380      0.168     -3.68e-07  2.12e-06\n",
        "dist_road                     1.003e-06   8.75e-06      0.115      0.909     -1.62e-05  1.82e-05\n",
        "crime08                         -0.0027      0.000    -12.391      0.000        -0.003    -0.002\n",
        "np.log1p(jobs_within_30_min)     0.0205      0.004      4.686      0.000         0.012     0.029\n",
        "sum_residential_units            0.0046      0.009      0.490      0.624        -0.014     0.023\n",
        "poor                            -0.0029      0.009     -0.314      0.753        -0.021     0.015\n",
        "jobs                             0.0189      0.002      8.372      0.000         0.014     0.023\n",
        "ave_income                      -0.0402      0.010     -4.115      0.000        -0.059    -0.021\n",
        "==============================================================================\n",
        "Omnibus:                     7878.097   Durbin-Watson:                   0.501\n",
        "Prob(Omnibus):                  0.000   Jarque-Bera (JB):            46432.170\n",
        "Skew:                           1.646   Prob(JB):                         0.00\n",
        "Kurtosis:                       9.393   Cond. No.                     1.35e+06\n",
        "==============================================================================\n",
        "\n",
        "Warnings:\n",
        "[1] The condition number is large, 1.35e+06. This might indicate that there are\n",
        "strong multicollinearity or other numerical problems.\n",
        "\n",
        "REGRESSION RESULTS FOR SEGMENT 20\n",
        "\n",
        "                                 OLS Regression Results                                 \n",
        "========================================================================================\n",
        "Dep. Variable:     np.log1p(unit_price_res_est)   R-squared:                       0.763\n",
        "Model:                                      OLS   Adj. R-squared:                  0.762\n",
        "Method:                           Least Squares   F-statistic:                     1529.\n",
        "Date:                          Sat, 07 Jun 2014   Prob (F-statistic):               0.00\n",
        "Time:                                  13:11:15   Log-Likelihood:                -6796.3\n",
        "No. Observations:                          6192   AIC:                         1.362e+04\n",
        "Df Residuals:                              6178   BIC:                         1.371e+04\n",
        "Df Model:                                    13                                         \n",
        "================================================================================================\n",
        "                                   coef    std err          t      P>|t|      [95.0% Conf. Int.]\n",
        "------------------------------------------------------------------------------------------------\n",
        "Intercept                      -13.0786      1.501     -8.715      0.000       -16.020   -10.137\n",
        "I(year_built < 1940)[T.True]     0.3170      0.063      5.052      0.000         0.194     0.440\n",
        "year_built                       0.0077      0.001     10.135      0.000         0.006     0.009\n",
        "stories                          0.6904      0.053     12.961      0.000         0.586     0.795\n",
        "np.log1p(sqft_per_unit)         -0.6456      0.009    -73.855      0.000        -0.663    -0.628\n",
        "np.log1p(popden)                 0.5428      0.025     22.138      0.000         0.495     0.591\n",
        "dist_hwy                     -4.019e-07   9.77e-07     -0.411      0.681     -2.32e-06  1.51e-06\n",
        "dist_road                        0.0002   8.52e-06     25.835      0.000         0.000     0.000\n",
        "crime08                          0.0060      0.001      4.232      0.000         0.003     0.009\n",
        "np.log1p(jobs_within_30_min)     0.2654      0.015     17.263      0.000         0.235     0.296\n",
        "sum_residential_units           -0.2891      0.022    -13.235      0.000        -0.332    -0.246\n",
        "poor                            -0.0110      0.020     -0.538      0.591        -0.051     0.029\n",
        "jobs                            -0.1073      0.008    -12.981      0.000        -0.123    -0.091\n",
        "ave_income                       0.2128      0.025      8.375      0.000         0.163     0.263\n",
        "==============================================================================\n",
        "Omnibus:                      927.759   Durbin-Watson:                   0.478\n",
        "Prob(Omnibus):                  0.000   Jarque-Bera (JB):             5307.432\n",
        "Skew:                           0.590   Prob(JB):                         0.00\n",
        "Kurtosis:                       7.379   Cond. No.                     2.68e+06\n",
        "==============================================================================\n",
        "\n",
        "Warnings:\n",
        "[1] The condition number is large, 2.68e+06. This might indicate that there are\n",
        "strong multicollinearity or other numerical problems."
       ]
      },
      {
       "output_type": "stream",
       "stream": "stdout",
       "text": [
        "\n",
        "\n"
       ]
      }
     ],
     "prompt_number": 5
    },
    {
     "cell_type": "code",
     "collapsed": false,
     "input": [
      "for k in debug_dict.keys():\n",
      "    debug_dict[k]['zone_id'] = dset.view(\"buildings\").zone_id.loc[debug_dict[k].index]\n",
      "    debug_dict[k]['abs_residuals'] = debug_dict[k].residuals.abs()\n",
      "debug_dict = {dset.building_types.building_type_name.loc[k]: debug_dict[k] for k in debug_dict}"
     ],
     "language": "python",
     "metadata": {},
     "outputs": [
      {
       "output_type": "stream",
       "stream": "stdout",
       "text": [
        "Fetching building_types\n"
       ]
      }
     ]
    },
    {
     "cell_type": "code",
     "collapsed": false,
     "input": [
      "dset_explorer.start(dset, debug_dict)"
     ],
     "language": "python",
     "metadata": {},
     "outputs": [
      {
       "output_type": "stream",
       "stream": "stderr",
       "text": [
        "Bottle v0.12.7 server starting up (using WSGIRefServer())...\n",
        "Listening on http://localhost:8765/\n",
        "Hit Ctrl-C to quit.\n",
        "\n",
        "127.0.0.1 - - [07/Jun/2014 13:11:38] \"GET / HTTP/1.1\" 200 28803\n"
       ]
      }
     ]
    },
    {
     "cell_type": "code",
     "collapsed": false,
     "input": [],
     "language": "python",
     "metadata": {},
     "outputs": []
    }
   ],
   "metadata": {}
  }
 ]
}