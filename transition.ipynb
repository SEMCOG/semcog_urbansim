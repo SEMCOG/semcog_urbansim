{
 "metadata": {
  "name": "",
  "signature": "sha256:1bc358e66b0cc03007fffe51871a721284960b259e2c5f6151438d33cc42ebbf"
 },
 "nbformat": 3,
 "nbformat_minor": 0,
 "worksheets": [
  {
   "cells": [
    {
     "cell_type": "code",
     "collapsed": false,
     "input": [
      "%load_ext autoreload\n",
      "%autoreload 2\n",
      "%aimport models\n",
      "%aimport dataset\n",
      "import pandas as pd, numpy as np\n",
      "from urbansim.models import transition"
     ],
     "language": "python",
     "metadata": {},
     "outputs": [],
     "prompt_number": 1
    },
    {
     "cell_type": "code",
     "collapsed": false,
     "input": [
      "dset = dataset.SemcogDataset(\"data/semcog_data.h5\")\n",
      "print len(dset.households)\n",
      "hh_by_lid = dset.households.groupby('large_area_id').size()\n",
      "print hh_by_lid"
     ],
     "language": "python",
     "metadata": {},
     "outputs": [
      {
       "output_type": "stream",
       "stream": "stdout",
       "text": [
        "Fetching cities\n",
        "Fetching households\n",
        "1844780"
       ]
      },
      {
       "output_type": "stream",
       "stream": "stdout",
       "text": [
        "\n",
        "large_area_id\n",
        "3                433325\n",
        "5                269445\n",
        "93                67380\n",
        "99               331668\n",
        "115               58230\n",
        "125              483698\n",
        "147               63841\n",
        "161              137193\n",
        "dtype: int64"
       ]
      },
      {
       "output_type": "stream",
       "stream": "stdout",
       "text": [
        "\n"
       ]
      }
     ],
     "prompt_number": 2
    },
    {
     "cell_type": "code",
     "collapsed": false,
     "input": [
      "ct = dset.fetch('annual_household_control_totals')"
     ],
     "language": "python",
     "metadata": {},
     "outputs": [
      {
       "output_type": "stream",
       "stream": "stdout",
       "text": [
        "Fetching annual_household_control_totals\n"
       ]
      }
     ],
     "prompt_number": 3
    },
    {
     "cell_type": "code",
     "collapsed": false,
     "input": [
      "print dset.households.race_id\n",
      "print ct"
     ],
     "language": "python",
     "metadata": {},
     "outputs": [
      {
       "output_type": "stream",
       "stream": "stdout",
       "text": [
        "household_id\n",
        "1000001         1\n",
        "1000002         1\n",
        "1000003         1\n",
        "1000004         1\n",
        "1000005         1\n",
        "1000006         1\n",
        "1000007         1\n",
        "1000008         1\n",
        "1000009         1\n",
        "1000010         3\n",
        "1000011         1\n",
        "1000012         2\n",
        "1000013         2\n",
        "1000014         1\n",
        "1000015         1\n",
        "...\n",
        "8406575         1\n",
        "8406576         1\n",
        "8406577         1\n",
        "8406578         1\n",
        "8406579         1\n",
        "8406580         1\n",
        "8406581         1\n",
        "8406582         1\n",
        "8406583         1\n",
        "8406584         1\n",
        "8406585         1\n",
        "8406586         1\n",
        "8406587         1\n",
        "8406588         1\n",
        "8406589         1\n",
        "Name: race_id, Length: 1844780, dtype: int32\n",
        "      large_area_id  age_of_head_min  age_of_head_max  \\\n",
        "year                                                    \n",
        "2010              3                5               17   \n",
        "2010              3               18               34   \n",
        "2010              3               35               64   \n",
        "2010              3               65               -1   \n",
        "2010              5                5               17   \n",
        "2010              5               18               34   \n",
        "2010              5               35               64   \n",
        "2010              5               65               -1   \n",
        "2010             93                5               17   \n",
        "2010             93               18               34   \n",
        "2010             93               35               64   \n",
        "2010             93               65               -1   \n",
        "2010             99                5               17   \n",
        "2010             99               18               34   \n",
        "2010             99               35               64   \n",
        "2010             99               65               -1   \n",
        "2010            115                5               17   \n",
        "2010            115               18               34   \n",
        "2010            115               35               64   \n",
        "2010            115               65               -1   \n",
        "2010            125                5               17   \n",
        "2010            125               18               34   \n",
        "2010            125               35               64   \n",
        "2010            125               65               -1   \n",
        "2010            147                5               17   \n",
        "2010            147               18               34   \n",
        "2010            147               35               64   \n",
        "2010            147               65               -1   \n",
        "2010            161                5               17   \n",
        "2010            161               18               34   \n",
        "...             ...              ...              ...   \n",
        "2040              3               35               64   \n",
        "2040              3               65               -1   \n",
        "2040              5                5               17   \n",
        "2040              5               18               34   \n",
        "2040              5               35               64   \n",
        "2040              5               65               -1   \n",
        "2040             93                5               17   \n",
        "2040             93               18               34   \n",
        "2040             93               35               64   \n",
        "2040             93               65               -1   \n",
        "2040             99                5               17   \n",
        "2040             99               18               34   \n",
        "2040             99               35               64   \n",
        "2040             99               65               -1   \n",
        "2040            115                5               17   \n",
        "2040            115               18               34   \n",
        "2040            115               35               64   \n",
        "2040            115               65               -1   \n",
        "2040            125                5               17   \n",
        "2040            125               18               34   \n",
        "2040            125               35               64   \n",
        "2040            125               65               -1   \n",
        "2040            147                5               17   \n",
        "2040            147               18               34   \n",
        "2040            147               35               64   \n",
        "2040            147               65               -1   \n",
        "2040            161                5               17   \n",
        "2040            161               18               34   \n",
        "2040            161               35               64   \n",
        "2040            161               65               -1   \n",
        "\n",
        "      total_number_of_households  \n",
        "year                              \n",
        "2010                          70  \n",
        "2010                       72515  \n",
        "2010                      264051  \n",
        "2010                       96668  \n",
        "2010                         108  \n",
        "2010                       48958  \n",
        "2010                      161404  \n",
        "2010                       58975  \n",
        "2010                          13  \n",
        "2010                        8644  \n",
        "2010                       46700  \n",
        "2010                       12021  \n",
        "2010                          28  \n",
        "2010                       58131  \n",
        "2010                      196826  \n",
        "2010                       76683  \n",
        "2010                          18  \n",
        "2010                        8971  \n",
        "2010                       36127  \n",
        "2010                       13114  \n",
        "2010                          71  \n",
        "2010                       80447  \n",
        "2010                      304896  \n",
        "2010                       98284  \n",
        "2010                          43  \n",
        "2010                        9307  \n",
        "2010                       39716  \n",
        "2010                       14775  \n",
        "2010                          26  \n",
        "2010                       37047  \n",
        "...                          ...  \n",
        "2040                      221947  \n",
        "2040                      153222  \n",
        "2040                          95  \n",
        "2040                       38069  \n",
        "2040                      133266  \n",
        "2040                       84208  \n",
        "2040                          13  \n",
        "2040                       10838  \n",
        "2040                       42208  \n",
        "2040                       29162  \n",
        "2040                          35  \n",
        "2040                       60015  \n",
        "2040                      170506  \n",
        "2040                      140048  \n",
        "2040                          13  \n",
        "2040                        8718  \n",
        "2040                       32950  \n",
        "2040                       26142  \n",
        "2040                          56  \n",
        "2040                       82152  \n",
        "2040                      246254  \n",
        "2040                      181795  \n",
        "2040                          45  \n",
        "2040                        8840  \n",
        "2040                       34253  \n",
        "2040                       25822  \n",
        "2040                          50  \n",
        "2040                       35823  \n",
        "2040                       75977  \n",
        "2040                       52597  \n",
        "\n",
        "[992 rows x 4 columns]\n"
       ]
      }
     ],
     "prompt_number": 4
    },
    {
     "cell_type": "code",
     "collapsed": false,
     "input": [
      "ct = dset.fetch('annual_household_control_totals')\n",
      "ct = ct.reset_index().groupby(['year','large_area_id']).total_number_of_households.sum().reset_index().set_index('year')"
     ],
     "language": "python",
     "metadata": {},
     "outputs": [
      {
       "output_type": "stream",
       "stream": "stdout",
       "text": [
        "Fetching annual_household_control_totals\n"
       ]
      }
     ],
     "prompt_number": 4
    },
    {
     "cell_type": "code",
     "collapsed": false,
     "input": [
      "totals_for_compare = ct[ct.index.values==2020].reset_index().set_index('large_area_id')\n",
      "del totals_for_compare['year']\n",
      "print totals_for_compare"
     ],
     "language": "python",
     "metadata": {},
     "outputs": [
      {
       "output_type": "stream",
       "stream": "stdout",
       "text": [
        "               total_number_of_households\n",
        "large_area_id                            \n",
        "3                                  442272\n",
        "5                                  241036\n",
        "93                                  73618\n",
        "99                                 349242\n",
        "115                                 62539\n",
        "125                                504731\n",
        "147                                 65492\n",
        "161                                146870\n"
       ]
      }
     ],
     "prompt_number": 5
    },
    {
     "cell_type": "code",
     "collapsed": false,
     "input": [
      "# print totals_for_compare\n",
      "# print hh_by_lid\n",
      "diff_by_lid = totals_for_compare.total_number_of_households - hh_by_lid\n",
      "print diff_by_lid"
     ],
     "language": "python",
     "metadata": {},
     "outputs": [
      {
       "output_type": "stream",
       "stream": "stdout",
       "text": [
        "large_area_id\n",
        "3                 6502\n",
        "5               -21272\n",
        "93                3176\n",
        "99                9889\n",
        "115               2585\n",
        "125              12896\n",
        "147                839\n",
        "161               4290\n",
        "dtype: int64\n"
       ]
      }
     ],
     "prompt_number": 5
    },
    {
     "cell_type": "code",
     "collapsed": false,
     "input": [
      "diff_by_lid.sum()"
     ],
     "language": "python",
     "metadata": {},
     "outputs": [
      {
       "metadata": {},
       "output_type": "pyout",
       "prompt_number": 6,
       "text": [
        "18905"
       ]
      }
     ],
     "prompt_number": 6
    },
    {
     "cell_type": "code",
     "collapsed": false,
     "input": [
      "ct = dset.fetch('annual_household_control_totals')\n",
      "ct = ct.reset_index().groupby(['year','large_area_id']).total_number_of_households.sum().reset_index().set_index('year')\n",
      "tran = transition.TabularTotalsTransition(ct, 'total_number_of_households')\n",
      "model = transition.TransitionModel(tran)\n",
      "new, added_hh_idx, new_linked = \\\n",
      "    model.transition(dset.households, 2015,\n",
      "                     linked_tables={'linked': (dset.persons, 'household_id')})\n",
      "new.loc[added_hh_idx, \"building_id\"] = np.nan\n",
      "dset.save_tmptbl(\"households\", new)\n",
      "dset.save_tmptbl(\"persons\", new_linked['linked'])\n",
      "\n",
      "print len(added_hh_idx)\n",
      "print len(np.unique(added_hh_idx.values))\n",
      "print len(new.index.values)\n",
      "print len(np.unique(new.index.values))\n",
      "\n",
      "print len(dset.households)"
     ],
     "language": "python",
     "metadata": {},
     "outputs": [
      {
       "output_type": "stream",
       "stream": "stdout",
       "text": [
        "Fetching persons\n",
        "40177"
       ]
      },
      {
       "output_type": "stream",
       "stream": "stdout",
       "text": [
        "\n",
        "40177\n",
        "1863685\n",
        "1863685"
       ]
      },
      {
       "output_type": "stream",
       "stream": "stdout",
       "text": [
        "\n",
        "1863685\n"
       ]
      }
     ],
     "prompt_number": 7
    },
    {
     "cell_type": "code",
     "collapsed": false,
     "input": [
      "ct = dset.fetch('annual_household_control_totals')\n",
      "ct = ct.reset_index().groupby(['year','large_area_id','race_id']).total_number_of_households.sum().reset_index().set_index('year')\n",
      "tran = transition.TabularTotalsTransition(ct, 'total_number_of_households')\n",
      "model = transition.TransitionModel(tran)\n",
      "new, added_hh_idx, new_linked = \\\n",
      "    model.transition(dset.households, 2015,\n",
      "                     linked_tables={'linked': (dset.persons, 'household_id')})\n",
      "new.loc[added_hh_idx, \"building_id\"] = np.nan\n",
      "dset.save_tmptbl(\"households\", new)\n",
      "dset.save_tmptbl(\"persons\", new_linked['linked'])\n",
      "\n",
      "print len(added_hh_idx)\n",
      "print len(np.unique(added_hh_idx.values))\n",
      "print len(new.index.values)\n",
      "print len(np.unique(new.index.values))\n",
      "\n",
      "print len(dset.households)"
     ],
     "language": "python",
     "metadata": {},
     "outputs": [
      {
       "output_type": "stream",
       "stream": "stdout",
       "text": [
        "46309\n",
        "46309\n",
        "1863685\n",
        "1863685"
       ]
      },
      {
       "output_type": "stream",
       "stream": "stdout",
       "text": [
        "\n",
        "1863685\n"
       ]
      }
     ],
     "prompt_number": 5
    },
    {
     "cell_type": "code",
     "collapsed": false,
     "input": [
      "dset = dataset.SemcogDataset(\"data/semcog_data.h5\")\n",
      "ct_emp = dset.fetch('annual_employment_control_totals')\n",
      "ct_emp = ct_emp.reset_index().groupby(['year','large_area_id','home_based_status']).total_number_of_jobs.sum().reset_index().set_index('year')"
     ],
     "language": "python",
     "metadata": {},
     "outputs": [
      {
       "output_type": "stream",
       "stream": "stdout",
       "text": [
        "Fetching cities\n",
        "Fetching annual_employment_control_totals\n"
       ]
      }
     ],
     "prompt_number": 7
    },
    {
     "cell_type": "code",
     "collapsed": false,
     "input": [
      "ct_emp_one_year = ct_emp[ct_emp.index.values==2020].reset_index()\n",
      "del ct_emp_one_year['year']\n",
      "ct_emp_one_year.groupby('large_area_id').total_number_of_jobs.sum()"
     ],
     "language": "python",
     "metadata": {},
     "outputs": [
      {
       "metadata": {},
       "output_type": "pyout",
       "prompt_number": 8,
       "text": [
        "large_area_id\n",
        "3                411365\n",
        "5                236475\n",
        "93                46531\n",
        "99               279947\n",
        "115               38384\n",
        "125              648475\n",
        "147               43851\n",
        "161              189824\n",
        "Name: total_number_of_jobs, dtype: int32"
       ]
      }
     ],
     "prompt_number": 8
    },
    {
     "cell_type": "code",
     "collapsed": false,
     "input": [
      "dset = dataset.SemcogDataset(\"data/semcog_data.h5\")\n",
      "ct_emp = dset.fetch('annual_employment_control_totals')\n",
      "ct_emp = ct_emp.reset_index().groupby(['year','large_area_id']).total_number_of_jobs.sum().reset_index().set_index('year')\n",
      "tran = transition.TabularTotalsTransition(ct_emp, 'total_number_of_jobs')\n",
      "model = transition.TransitionModel(tran)\n",
      "new, added_jobs_idx, new_linked = model.transition(dset.jobs, 2015)\n",
      "new.loc[added_jobs_idx, \"building_id\"] = np.nan\n",
      "dset.save_tmptbl(\"jobs\", new)\n",
      "print len(added_jobs_idx)\n",
      "print len(np.unique(added_jobs_idx.values))\n",
      "print len(new.index.values)\n",
      "print len(np.unique(new.index.values))"
     ],
     "language": "python",
     "metadata": {},
     "outputs": [
      {
       "output_type": "stream",
       "stream": "stdout",
       "text": [
        "Fetching cities\n",
        "Fetching annual_employment_control_totals\n",
        "Fetching jobs\n",
        "71467"
       ]
      },
      {
       "output_type": "stream",
       "stream": "stdout",
       "text": [
        "\n",
        "71467\n",
        "1874165\n",
        "1874165\n"
       ]
      }
     ],
     "prompt_number": 10
    },
    {
     "cell_type": "code",
     "collapsed": false,
     "input": [
      "dset = dataset.SemcogDataset(\"data/semcog_data.h5\")\n",
      "ct_emp = dset.fetch('annual_employment_control_totals')\n",
      "ct_emp = ct_emp.reset_index().groupby(['year','large_area_id','home_based_status','sector_id']).total_number_of_jobs.sum().reset_index().set_index('year')\n",
      "tran = transition.TabularTotalsTransition(ct_emp, 'total_number_of_jobs')\n",
      "model = transition.TransitionModel(tran)\n",
      "new, added_jobs_idx, new_linked = model.transition(dset.jobs, 2015)\n",
      "new.loc[added_jobs_idx, \"building_id\"] = np.nan\n",
      "dset.save_tmptbl(\"jobs\", new)\n",
      "print len(added_jobs_idx)\n",
      "print len(np.unique(added_jobs_idx.values))\n",
      "print len(new.index)\n",
      "print len(np.unique(new.index.values))"
     ],
     "language": "python",
     "metadata": {},
     "outputs": [
      {
       "output_type": "stream",
       "stream": "stdout",
       "text": [
        "Fetching cities\n",
        "Fetching annual_employment_control_totals\n",
        "Fetching jobs\n",
        "90965"
       ]
      },
      {
       "output_type": "stream",
       "stream": "stdout",
       "text": [
        "\n",
        "90965\n",
        "1874165\n",
        "1874165"
       ]
      },
      {
       "output_type": "stream",
       "stream": "stdout",
       "text": [
        "\n"
       ]
      }
     ],
     "prompt_number": 9
    },
    {
     "cell_type": "code",
     "collapsed": false,
     "input": [
      "dset = dataset.SemcogDataset(\"data/semcog_data.h5\")\n",
      "ct_emp = dset.fetch('annual_employment_control_totals')\n",
      "ct_emp = ct_emp.reset_index().set_index('year')\n",
      "tran = transition.TabularTotalsTransition(ct_emp, 'total_number_of_jobs')\n",
      "model = transition.TransitionModel(tran)\n",
      "new, added_jobs_idx, new_linked = model.transition(dset.jobs, 2015)\n",
      "new.loc[added_jobs_idx, \"building_id\"] = np.nan\n",
      "dset.save_tmptbl(\"jobs\", new)\n",
      "print len(added_jobs_idx)\n",
      "print len(np.unique(added_jobs_idx.values))\n",
      "print len(new.index)\n",
      "print len(np.unique(new.index.values))"
     ],
     "language": "python",
     "metadata": {},
     "outputs": [
      {
       "output_type": "stream",
       "stream": "stdout",
       "text": [
        "Fetching cities\n",
        "Fetching annual_employment_control_totals\n",
        "Fetching jobs\n",
        "90965"
       ]
      },
      {
       "output_type": "stream",
       "stream": "stdout",
       "text": [
        "\n",
        "90965\n",
        "1874165\n",
        "1874165"
       ]
      },
      {
       "output_type": "stream",
       "stream": "stdout",
       "text": [
        "\n"
       ]
      }
     ],
     "prompt_number": 12
    },
    {
     "cell_type": "code",
     "collapsed": false,
     "input": [],
     "language": "python",
     "metadata": {},
     "outputs": [],
     "prompt_number": 2
    }
   ],
   "metadata": {}
  }
 ]
}