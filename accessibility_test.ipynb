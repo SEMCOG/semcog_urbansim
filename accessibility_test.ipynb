{
 "metadata": {
  "name": "",
  "signature": "sha256:21a89fb17eaa53c05e2c7e778e0a38029daf0389c9d0b3b1b79fd0cfd6dcb05c"
 },
 "nbformat": 3,
 "nbformat_minor": 0,
 "worksheets": [
  {
   "cells": [
    {
     "cell_type": "code",
     "collapsed": false,
     "input": [
      "from urbansim.utils import misc, networks\n",
      "import os, dataset\n",
      "\n",
      "networks.NETWORKS = networks.Networks(\n",
      "    [os.path.join(misc.data_dir(), x) for x in ['osm_semcog.pkl']],\n",
      "    factors=[1.0],\n",
      "    maxdistances=[2000],\n",
      "    twoway=[1],\n",
      "    impedances=None)\n",
      "\n",
      "print networks.NETWORKS.external_nodeids\n",
      "\n",
      "dset = dataset.SemcogDataset(\"data/semcog_data.h5\")\n",
      "\n",
      "parcels = dset.parcels\n",
      "parcels['x'] = parcels.centroid_x\n",
      "parcels['y'] = parcels.centroid_y\n",
      "parcels = networks.NETWORKS.addnodeid(parcels)\n",
      "dset.save_tmptbl(\"parcels\", parcels)\n",
      "nodes = networks.from_yaml(dset, \"networks.yaml\")\n",
      "\n",
      "print networks.NETWORKS.external_nodeids"
     ],
     "language": "python",
     "metadata": {},
     "outputs": [
      {
       "metadata": {},
       "output_type": "pyout",
       "prompt_number": 13,
       "text": [
        "[array([4194304, 4194305, 4194318, ..., 4194288, 4194302, 4194303])]"
       ]
      }
     ],
     "prompt_number": 13
    },
    {
     "cell_type": "code",
     "collapsed": false,
     "input": [
      "from urbansim.utils import misc, networks\n",
      "import os\n",
      "import urbansim.sim.simulation as sim\n",
      "import dataset\n",
      "\n",
      "@sim.model('build_networks')\n",
      "def build_networks(parcels):\n",
      "    if networks.NETWORKS is None:\n",
      "        networks.NETWORKS = networks.Networks(\n",
      "            [os.path.join(misc.data_dir(), x) for x in ['osm_semcog.pkl']],\n",
      "            factors=[1.0],\n",
      "            maxdistances=[2000],\n",
      "            twoway=[1],\n",
      "            impedances=None)\n",
      "    p = parcels.to_frame()\n",
      "    p['x'] = p.centroid_x\n",
      "    p['y'] = p.centroid_y\n",
      "    parcels = networks.NETWORKS.addnodeid(p)\n",
      "    sim.add_table(\"parcels\", parcels)\n",
      "    \n",
      "sim.run(['build_networks'])"
     ],
     "language": "python",
     "metadata": {},
     "outputs": [
      {
       "output_type": "stream",
       "stream": "stdout",
       "text": [
        "Running model 'build_networks'\n",
        "Time to execute model 'build_networks': 10.97s"
       ]
      },
      {
       "output_type": "stream",
       "stream": "stdout",
       "text": [
        "\n",
        "Total time to execute: 10.97s\n"
       ]
      }
     ],
     "prompt_number": 1
    }
   ],
   "metadata": {}
  }
 ]
}