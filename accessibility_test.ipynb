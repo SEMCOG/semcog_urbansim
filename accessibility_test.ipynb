{
 "cells": [
  {
   "cell_type": "code",
   "execution_count": 13,
   "metadata": {
    "collapsed": false
   },
   "outputs": [
    {
     "data": {
      "text/plain": [
       "[array([4194304, 4194305, 4194318, ..., 4194288, 4194302, 4194303])]"
      ]
     },
     "execution_count": 13,
     "metadata": {},
     "output_type": "execute_result"
    }
   ],
   "source": [
    "from urbansim.utils import misc, networks\n",
    "import os, dataset\n",
    "\n",
    "networks.NETWORKS = networks.Networks(\n",
    "    [os.path.join(misc.data_dir(), x) for x in ['osm_semcog.pkl']],\n",
    "    factors=[1.0],\n",
    "    maxdistances=[2000],\n",
    "    twoway=[1],\n",
    "    impedances=None)\n",
    "\n",
    "print networks.NETWORKS.external_nodeids\n",
    "\n",
    "dset = dataset.SemcogDataset(\"data/semcog_data.h5\")\n",
    "\n",
    "parcels = dset.parcels\n",
    "parcels['x'] = parcels.centroid_x\n",
    "parcels['y'] = parcels.centroid_y\n",
    "parcels = networks.NETWORKS.addnodeid(parcels)\n",
    "dset.save_tmptbl(\"parcels\", parcels)\n",
    "nodes = networks.from_yaml(dset, \"networks.yaml\")\n",
    "\n",
    "print networks.NETWORKS.external_nodeids"
   ]
  },
  {
   "cell_type": "code",
   "execution_count": 1,
   "metadata": {
    "collapsed": false
   },
   "outputs": [
    {
     "name": "stdout",
     "output_type": "stream",
     "text": [
      "Running model 'build_networks'\n",
      "Time to execute model 'build_networks': 10.97s\n",
      "Total time to execute: 10.97s\n"
     ]
    }
   ],
   "source": [
    "from urbansim.utils import misc, networks\n",
    "import os\n",
    "import urbansim.sim.simulation as sim\n",
    "import dataset\n",
    "\n",
    "@sim.model('build_networks')\n",
    "def build_networks(parcels):\n",
    "    if networks.NETWORKS is None:\n",
    "        networks.NETWORKS = networks.Networks(\n",
    "            [os.path.join(misc.data_dir(), x) for x in ['osm_semcog.pkl']],\n",
    "            factors=[1.0],\n",
    "            maxdistances=[2000],\n",
    "            twoway=[1],\n",
    "            impedances=None)\n",
    "    p = parcels.to_frame()\n",
    "    p['x'] = p.centroid_x\n",
    "    p['y'] = p.centroid_y\n",
    "    parcels = networks.NETWORKS.addnodeid(p)\n",
    "    sim.add_table(\"parcels\", parcels)\n",
    "    \n",
    "sim.run(['build_networks'])"
   ]
  }
 ],
 "metadata": {
  "kernelspec": {
   "display_name": "Python [Root]",
   "language": "python",
   "name": "Python [Root]"
  },
  "language_info": {
   "codemirror_mode": {
    "name": "ipython",
    "version": 2
   },
   "file_extension": ".py",
   "mimetype": "text/x-python",
   "name": "python",
   "nbconvert_exporter": "python",
   "pygments_lexer": "ipython2",
   "version": "2.7.12"
  }
 },
 "nbformat": 4,
 "nbformat_minor": 0
}
