{
 "cells": [
  {
   "cell_type": "code",
   "execution_count": 1,
   "metadata": {
    "collapsed": false,
    "scrolled": true
   },
   "outputs": [],
   "source": [
    "\n",
    "import pandas as pd\n",
    "import numpy as np"
   ]
  },
  {
   "cell_type": "markdown",
   "metadata": {},
   "source": [
    "# create outputs for travel model (transcad)"
   ]
  },
  {
   "cell_type": "code",
   "execution_count": 2,
   "metadata": {
    "collapsed": false
   },
   "outputs": [],
   "source": [
    "hdf=pd.HDFStore('./data/all_semcog_data_fix.h5')\n",
    "\n",
    "parcels=hdf.get('parcels')\n",
    "buildings=hdf.get('buildings')\n",
    "hh=hdf.get('households')\n",
    "persons=hdf.get('persons')\n"
   ]
  },
  {
   "cell_type": "code",
   "execution_count": 3,
   "metadata": {
    "collapsed": false
   },
   "outputs": [],
   "source": [
    "#hh.dtypes"
   ]
  },
  {
   "cell_type": "code",
   "execution_count": 4,
   "metadata": {
    "collapsed": true
   },
   "outputs": [],
   "source": [
    "#hh.building_id=hh.building_id.astype(np.int64)"
   ]
  },
  {
   "cell_type": "code",
   "execution_count": 5,
   "metadata": {
    "collapsed": false
   },
   "outputs": [],
   "source": [
    "#join zone_id\n",
    "#sanitize input tables, in case df1 has joint ids out of range of ids(index values) in df2 \n",
    "# def syncids(df1,df2,idcolumn):\n",
    "#     print df1.shape\n",
    "#     set1=set(df1[idcolumn].unique())\n",
    "#     set2=set(df2.index.values)\n",
    "#     missing_pids= [x for x in set1 if x not in set2]\n",
    "#     print \"# of missing ids from df1:    \", len(missing_pids)\n",
    "#     print 'first 10 missing:',missing_pids[:10]\n",
    "#     df1=df1[~(df1[idcolumn].isin(missing_pids))]\n",
    "#     print 'after clean up', df1.shape\n",
    "#     return df1"
   ]
  },
  {
   "cell_type": "code",
   "execution_count": 6,
   "metadata": {
    "collapsed": false
   },
   "outputs": [],
   "source": [
    "#buildings=syncids(buildings,parcels,'parcel_id')"
   ]
  },
  {
   "cell_type": "code",
   "execution_count": 7,
   "metadata": {
    "collapsed": false
   },
   "outputs": [],
   "source": [
    "#syncids(hh,buildings,'building_id')"
   ]
  },
  {
   "cell_type": "code",
   "execution_count": 8,
   "metadata": {
    "collapsed": false
   },
   "outputs": [],
   "source": [
    "#persons=syncids(persons,hh,'household_id')"
   ]
  },
  {
   "cell_type": "code",
   "execution_count": null,
   "metadata": {
    "collapsed": true
   },
   "outputs": [],
   "source": []
  },
  {
   "cell_type": "code",
   "execution_count": 3,
   "metadata": {
    "collapsed": false
   },
   "outputs": [],
   "source": [
    "buildings=pd.merge(buildings,parcels[['zone_id']], left_on='parcel_id',right_index='True', how='left')\n",
    "hh=pd.merge(hh,buildings[['zone_id']], left_on='building_id',right_index='True', how='left')\n",
    "persons=pd.merge(persons,hh[['zone_id']], left_on='household_id',right_index='True', how='left')"
   ]
  },
  {
   "cell_type": "code",
   "execution_count": 4,
   "metadata": {
    "collapsed": false
   },
   "outputs": [
    {
     "name": "stdout",
     "output_type": "stream",
     "text": [
      "float64\n",
      "float64\n",
      "float64\n"
     ]
    }
   ],
   "source": [
    "print buildings.zone_id.dtype\n",
    "print hh.zone_id.dtype\n",
    "print persons.zone_id.dtype"
   ]
  },
  {
   "cell_type": "code",
   "execution_count": 5,
   "metadata": {
    "collapsed": false
   },
   "outputs": [],
   "source": [
    "\n",
    "#jobs = jobs.to_frame()\n",
    "\n",
    "zonal_indicators = pd.DataFrame(index=np.unique(parcels.zone_id.values))\n",
    "zonal_indicators.index.name='zone_id'\n",
    "\n",
    "zonal_indicators['Households'] = hh.groupby('zone_id').size()\n",
    "zonal_indicators['HHPop'] = hh.groupby('zone_id').persons.sum()\n",
    "#zonal_indicators['EmpPrinc'] = jobs.groupby('zone_id').size()\n",
    "zonal_indicators['workers'] = hh.groupby('zone_id').workers.sum()\n",
    "zonal_indicators['Agegrp1'] = persons[persons.age<=4].groupby('zone_id').size() #???\n",
    "zonal_indicators['Agegrp2'] = persons[(persons.age>=5) & (persons.age<=17)].groupby('zone_id').size() #???\n",
    "zonal_indicators['Agegrp3'] = persons[(persons.age>=18) & (persons.age<=34)].groupby('zone_id').size() #???\n",
    "#zonal_indicators['Age_18to34'] = persons[(persons.age>=18) & (persons.age<=34)].groupby('zone_id').size()\n",
    "zonal_indicators['Agegrp4'] = persons[(persons.age>=35) & (persons.age<=64)].groupby('zone_id').size() #???\n",
    "zonal_indicators['Agegrp5'] = persons[persons.age>=65].groupby('zone_id').size() #???\n",
    "#enroll_ratios = pd.read_csv(\"data/schdic_taz10.csv\")\n",
    "#school_age_by_district = pd.DataFrame({'children':persons[(persons.age>=5) & (persons.age<=17)].groupby('school_district_id').size()})\n",
    "#enroll_ratios = pd.merge(enroll_ratios,school_age_by_district,left_on='school_district_id',right_index=True)\n",
    "#enroll_ratios['enrolled'] = enroll_ratios.enroll_ratio*enroll_ratios.children\n",
    "#enrolled = enroll_ratios.groupby('zone_id').enrolled.sum()\n",
    "#zonal_indicators['K12Enroll'] = np.round(enrolled)\n",
    "#zonal_indicators['PopDens'] = zonal_indicators.HHPop/(parcels.groupby('zone_id').parcel_sqft.sum()/43560)\n",
    "#zonal_indicators['EmpDens'] = zonal_indicators.EmpPrinc/(parcels.groupby('zone_id').parcel_sqft.sum()/43560)\n",
    "# zonal_indicators['EmpBasic'] = jobs[jobs.sector_id.isin([1,3])].groupby('zone_id').size()\n",
    "# zonal_indicators['EmpNonBas'] = jobs[~jobs.sector_id.isin([1,3])].groupby('zone_id').size()\n",
    "#zonal_indicators['Natural_Resource_and_Mining'] = jobs[jobs.sector_id==1].groupby('zone_id').size()\n",
    "#zonal_indicators['sector2'] = jobs[jobs.sector_id==2].groupby('zone_id').size()\n",
    "#zonal_indicators['Manufacturing'] = jobs[jobs.sector_id==3].groupby('zone_id').size()\n",
    "#zonal_indicators['Wholesale_Trade'] = jobs[jobs.sector_id==4].groupby('zone_id').size()\n",
    "#zonal_indicators['Retail_Trade'] = jobs[jobs.sector_id==5].groupby('zone_id').size()\n",
    "#zonal_indicators['Transportation_and_Warehousing'] = jobs[jobs.sector_id==6].groupby('zone_id').size()\n",
    "#zonal_indicators['Utilities'] = jobs[jobs.sector_id==7].groupby('zone_id').size()\n",
    "#zonal_indicators['Information'] = jobs[jobs.sector_id==8].groupby('zone_id').size()\n",
    "#zonal_indicators['Financial_Service'] = jobs[jobs.sector_id==9].groupby('zone_id').size()\n",
    "#zonal_indicators['Professional_Science_Tec'] = jobs[jobs.sector_id==10].groupby('zone_id').size()\n",
    "#zonal_indicators['Management_of_CompEnt'] = jobs[jobs.sector_id==11].groupby('zone_id').size()\n",
    "#zonal_indicators['Administrative_Support_and_WM'] = jobs[jobs.sector_id==12].groupby('zone_id').size()\n",
    "#zonal_indicators['Education_Services'] = jobs[jobs.sector_id==13].groupby('zone_id').size()\n",
    "## zonal_indicators['sector14'] = jobs[jobs.sector_id==14].groupby('zone_id').size()\n",
    "## zonal_indicators['sector15'] = jobs[jobs.sector_id==15].groupby('zone_id').size()\n",
    "#zonal_indicators['Health_Care_and_SocialSer'] = jobs[np.in1d(jobs.sector_id,[14,15,19])].groupby('zone_id').size()\n",
    "#zonal_indicators['Leisure_and_Hospitality'] = jobs[jobs.sector_id==16].groupby('zone_id').size()\n",
    "#zonal_indicators['Other_Services'] = jobs[jobs.sector_id==17].groupby('zone_id').size()\n",
    "#zonal_indicators['sector18'] = jobs[jobs.sector_id==18].groupby('zone_id').size()\n",
    "#zonal_indicators['sector19'] = jobs[jobs.sector_id==19].groupby('zone_id').size()\n",
    "#zonal_indicators['Public_Administration'] = jobs[jobs.sector_id==20].groupby('zone_id').size()\n",
    "\n",
    "#hh['schoolkids'] = persons[(persons.age>=5) & (persons.age<=17)].groupby('household_id').size()\n",
    "#hh.schoolkids = hh.schoolkids.fillna(0)\n",
    "hh['Age_5to17'] = persons[(persons.age>=5) & (persons.age<=17)].groupby('household_id').size()\n",
    "hh.Age_5to17 = hh.Age_5to17.fillna(0)\n",
    "hh['Age_75'] = persons[persons.age>=75].groupby('household_id').size()\n",
    "hh.Age_75 = hh.Age_5to17.fillna(0)\n",
    "#zonal_indicators['PrCh21'] = hh[(hh.persons==2) & (hh.schoolkids==1)].groupby('zone_id').size()\n",
    "#zonal_indicators['PrCh31'] = hh[(hh.persons==3) & (hh.schoolkids==1)].groupby('zone_id').size()\n",
    "#zonal_indicators['PrCh32'] = hh[(hh.persons==3) & (hh.schoolkids==2)].groupby('zone_id').size()\n",
    "#zonal_indicators['PrCh41'] = hh[(hh.persons==4) & (hh.schoolkids==1)].groupby('zone_id').size()\n",
    "#zonal_indicators['PrCh42'] = hh[(hh.persons==4) & (hh.schoolkids==2)].groupby('zone_id').size()\n",
    "#zonal_indicators['PrCh43'] = hh[(hh.persons==4) & (hh.schoolkids>=3)].groupby('zone_id').size()\n",
    "#zonal_indicators['PrCh51'] = hh[(hh.persons>=5) & (hh.schoolkids==1)].groupby('zone_id').size()\n",
    "#zonal_indicators['PrCh52'] = hh[(hh.persons>=5) & (hh.schoolkids==2)].groupby('zone_id').size()\n",
    "#zonal_indicators['PrCh53'] = hh[(hh.persons>=5) & (hh.schoolkids>=3)].groupby('zone_id').size()\n",
    "hh['quartile'] = pd.Series(pd.qcut(hh.income,4,labels=False), index=hh.index)+1\n",
    "\n",
    "#zonal_indicators['Inc1HHsze1'] = hh[(hh.persons==1) & (hh.quartile==1)].groupby('zone_id').size()\n",
    "#zonal_indicators['Inc2HHsze1'] = hh[(hh.persons==1) & (hh.quartile==2)].groupby('zone_id').size()\n",
    "#zonal_indicators['Inc3HHsze1'] = hh[(hh.persons==1) & (hh.quartile==3)].groupby('zone_id').size()\n",
    "#zonal_indicators['Inc4HHsze1'] = hh[(hh.persons==1) & (hh.quartile==4)].groupby('zone_id').size()\n",
    "#zonal_indicators['Inc1HHsze2'] = hh[(hh.persons==2) & (hh.quartile==1)].groupby('zone_id').size()\n",
    "#zonal_indicators['Inc2HHsze2'] = hh[(hh.persons==2) & (hh.quartile==2)].groupby('zone_id').size()\n",
    "#zonal_indicators['Inc3HHsze2'] = hh[(hh.persons==2) & (hh.quartile==3)].groupby('zone_id').size()\n",
    "#zonal_indicators['Inc4HHsze2'] = hh[(hh.persons==2) & (hh.quartile==4)].groupby('zone_id').size()\n",
    "#zonal_indicators['Inc1HHsze3'] = hh[(hh.persons==3) & (hh.quartile==1)].groupby('zone_id').size()\n",
    "#zonal_indicators['Inc2HHsze3'] = hh[(hh.persons==3) & (hh.quartile==2)].groupby('zone_id').size()\n",
    "#zonal_indicators['Inc3HHsze3'] = hh[(hh.persons==3) & (hh.quartile==3)].groupby('zone_id').size()\n",
    "#zonal_indicators['Inc4HHsze3'] = hh[(hh.persons==3) & (hh.quartile==4)].groupby('zone_id').size()\n",
    "#zonal_indicators['Inc1HHsze4'] = hh[(hh.persons==4) & (hh.quartile==1)].groupby('zone_id').size()\n",
    "#zonal_indicators['Inc2HHsze4'] = hh[(hh.persons==4) & (hh.quartile==2)].groupby('zone_id').size()\n",
    "#zonal_indicators['Inc3HHsze4'] = hh[(hh.persons==4) & (hh.quartile==3)].groupby('zone_id').size()\n",
    "#zonal_indicators['Inc4HHsze4'] = hh[(hh.persons==4) & (hh.quartile==4)].groupby('zone_id').size()\n",
    "#zonal_indicators['Inc1HHsze5p'] = hh[(hh.persons>=5) & (hh.quartile==1)].groupby('zone_id').size()\n",
    "#zonal_indicators['Inc2HHsze5p'] = hh[(hh.persons>=5) & (hh.quartile==2)].groupby('zone_id').size()\n",
    "#zonal_indicators['Inc3HHsze5p'] = hh[(hh.persons>=5) & (hh.quartile==3)].groupby('zone_id').size()\n",
    "#zonal_indicators['Inc4HHsze5p'] = hh[(hh.persons>=5) & (hh.quartile==4)].groupby('zone_id').size()\n",
    "#zonal_indicators['WkAu10'] = hh[(hh.workers==1) & (hh.cars==0)].groupby('zone_id').size()\n",
    "#zonal_indicators['WkAu11'] = hh[(hh.workers==1) & (hh.cars==1)].groupby('zone_id').size()\n",
    "#zonal_indicators['WkAu12'] = hh[(hh.workers==1) & (hh.cars==2)].groupby('zone_id').size()\n",
    "#zonal_indicators['WkAu13'] = hh[(hh.workers==1) & (hh.cars>=3)].groupby('zone_id').size()\n",
    "#zonal_indicators['WkAu20'] = hh[(hh.workers==2) & (hh.cars==0)].groupby('zone_id').size()\n",
    "#zonal_indicators['WkAu21'] = hh[(hh.workers==2) & (hh.cars==1)].groupby('zone_id').size()\n",
    "#zonal_indicators['WkAu22'] = hh[(hh.workers==2) & (hh.cars==2)].groupby('zone_id').size()\n",
    "#zonal_indicators['WkAu23'] = hh[(hh.workers==2) & (hh.cars>=3)].groupby('zone_id').size()\n",
    "#zonal_indicators['WkAu30'] = hh[(hh.workers>=3) & (hh.cars==0)].groupby('zone_id').size()\n",
    "#zonal_indicators['WkAu31'] = hh[(hh.workers>=3) & (hh.cars==1)].groupby('zone_id').size()\n",
    "#zonal_indicators['WkAu32'] = hh[(hh.workers>=3) & (hh.cars==2)].groupby('zone_id').size()\n",
    "#zonal_indicators['WkAu33'] = hh[(hh.workers>=3) & (hh.cars>=3)].groupby('zone_id').size()\n",
    "\n",
    "#zonal_indicators['PrAu10'] = hh[(hh.persons==1) & (hh.cars==0)].groupby('zone_id').size()\n",
    "#zonal_indicators['PrAu11'] = hh[(hh.persons==1) & (hh.cars==1)].groupby('zone_id').size()\n",
    "#zonal_indicators['PrAu12'] = hh[(hh.persons==1) & (hh.cars==2)].groupby('zone_id').size()\n",
    "#zonal_indicators['PrAu13'] = hh[(hh.persons==1) & (hh.cars>=3)].groupby('zone_id').size()\n",
    "#zonal_indicators['PrAu20'] = hh[(hh.persons==2) & (hh.cars==0)].groupby('zone_id').size()\n",
    "#zonal_indicators['PrAu21'] = hh[(hh.persons==2) & (hh.cars==1)].groupby('zone_id').size()\n",
    "#zonal_indicators['PrAu22'] = hh[(hh.persons==2) & (hh.cars==2)].groupby('zone_id').size()\n",
    "#zonal_indicators['PrAu23'] = hh[(hh.persons==2) & (hh.cars>=3)].groupby('zone_id').size()\n",
    "#zonal_indicators['PrAu30'] = hh[(hh.persons==3) & (hh.cars==0)].groupby('zone_id').size()\n",
    "#zonal_indicators['PrAu31'] = hh[(hh.persons==3) & (hh.cars==1)].groupby('zone_id').size()\n",
    "#zonal_indicators['PrAu32'] = hh[(hh.persons==3) & (hh.cars==2)].groupby('zone_id').size()\n",
    "#zonal_indicators['PrAu33'] = hh[(hh.persons==3) & (hh.cars>=3)].groupby('zone_id').size()\n",
    "#zonal_indicators['PrAu40'] = hh[(hh.persons==4) & (hh.cars==0)].groupby('zone_id').size()\n",
    "#zonal_indicators['PrAu41'] = hh[(hh.persons==4) & (hh.cars==1)].groupby('zone_id').size()\n",
    "#zonal_indicators['PrAu42'] = hh[(hh.persons==4) & (hh.cars==2)].groupby('zone_id').size()\n",
    "#zonal_indicators['PrAu43'] = hh[(hh.persons==4) & (hh.cars>=3)].groupby('zone_id').size()\n",
    "#zonal_indicators['PrAu50'] = hh[(hh.persons>=5) & (hh.cars==0)].groupby('zone_id').size()\n",
    "#zonal_indicators['PrAu51'] = hh[(hh.persons>=5) & (hh.cars==1)].groupby('zone_id').size()\n",
    "#zonal_indicators['PrAu52'] = hh[(hh.persons>=5) & (hh.cars==2)].groupby('zone_id').size()\n",
    "#zonal_indicators['PrAu53'] = hh[(hh.persons>=5) & (hh.cars>=3)].groupby('zone_id').size()\n",
    "\t\t\n",
    "#zonal_indicators['inc1nc'] = hh[(hh.quartile==1) & (hh.children==0)].groupby('zone_id').size()\n",
    "#zonal_indicators['inc1wc'] = hh[(hh.quartile==1) & (hh.children>0)].groupby('zone_id').size()\n",
    "#zonal_indicators['inc2nc'] = hh[(hh.quartile==2) & (hh.children==0)].groupby('zone_id').size()\n",
    "#zonal_indicators['inc2wc'] = hh[(hh.quartile==2) & (hh.children>0)].groupby('zone_id').size()\n",
    "#zonal_indicators['inc3nc'] = hh[(hh.quartile==3) & (hh.children==0)].groupby('zone_id').size()\n",
    "#zonal_indicators['inc3wc'] = hh[(hh.quartile==3) & (hh.children>0)].groupby('zone_id').size()\n",
    "#zonal_indicators['inc4nc'] = hh[(hh.quartile==4) & (hh.children==0)].groupby('zone_id').size()\n",
    "#zonal_indicators['inc4wc'] = hh[(hh.quartile==4) & (hh.children>0)].groupby('zone_id').size()\n",
    "\n",
    "#zonal_indicators['Inc1w0'] = hh[(hh.quartile==1) & (hh.workers==0)].groupby('zone_id').size()\n",
    "#zonal_indicators['Inc1w1'] = hh[(hh.quartile==1) & (hh.workers==1)].groupby('zone_id').size()\n",
    "#zonal_indicators['Inc1w2'] = hh[(hh.quartile==1) & (hh.workers==2)].groupby('zone_id').size()\n",
    "#zonal_indicators['Inc1w3p'] = hh[(hh.quartile==1) & (hh.workers>=3)].groupby('zone_id').size()\n",
    "#zonal_indicators['Inc2w0'] = hh[(hh.quartile==2) & (hh.workers==0)].groupby('zone_id').size()\n",
    "#zonal_indicators['Inc2w1'] = hh[(hh.quartile==2) & (hh.workers==1)].groupby('zone_id').size()\n",
    "#zonal_indicators['Inc2w2'] = hh[(hh.quartile==2) & (hh.workers==2)].groupby('zone_id').size()\n",
    "#zonal_indicators['Inc2w3p'] = hh[(hh.quartile==2) & (hh.workers>=3)].groupby('zone_id').size()\n",
    "#zonal_indicators['Inc3w0'] = hh[(hh.quartile==3) & (hh.workers==0)].groupby('zone_id').size()\n",
    "#zonal_indicators['Inc3w1'] = hh[(hh.quartile==3) & (hh.workers==1)].groupby('zone_id').size()\n",
    "#zonal_indicators['Inc3w2'] = hh[(hh.quartile==3) & (hh.workers==2)].groupby('zone_id').size()\n",
    "#zonal_indicators['Inc3w3p'] = hh[(hh.quartile==3) & (hh.workers>=3)].groupby('zone_id').size()\n",
    "#zonal_indicators['Inc4w0'] = hh[(hh.quartile==4) & (hh.workers==0)].groupby('zone_id').size()\n",
    "#zonal_indicators['Inc4w1'] = hh[(hh.quartile==4) & (hh.workers==1)].groupby('zone_id').size()\n",
    "#zonal_indicators['Inc4w2'] = hh[(hh.quartile==4) & (hh.workers==2)].groupby('zone_id').size()\n",
    "#zonal_indicators['Inc4w3p'] = hh[(hh.quartile==4) & (hh.workers>=3)].groupby('zone_id').size()\n",
    "\n",
    "#zonal_indicators['Workers4HH_IncomeGroup1'] = hh[hh.quartile==1].groupby('zone_id').workers.sum()\n",
    "#zonal_indicators['Workers4HH_IncomeGroup2'] = hh[hh.quartile==2].groupby('zone_id').workers.sum()\n",
    "#zonal_indicators['Workers4HH_IncomeGroup3'] = hh[hh.quartile==3].groupby('zone_id').workers.sum()\n",
    "#zonal_indicators['Workers4HH_IncomeGroup4'] = hh[hh.quartile==4].groupby('zone_id').workers.sum()\n",
    "\n",
    "buildings['residential_sqft']=buildings.sqft_per_unit*buildings.residential_units\n",
    "zonal_indicators['residential_sqft'] = buildings[buildings.building_type_id.isin([81,82,83,84])].groupby('zone_id').residential_sqft.sum()\n",
    "zonal_indicators['commercial_sqft'] = buildings[buildings.building_type_id.isin([21,22,25,26, 61, 62])].groupby('zone_id').non_residential_sqft.sum()\n",
    "zonal_indicators['office_sqft'] = buildings[buildings.building_type_id.isin([23,24])].groupby('zone_id').non_residential_sqft.sum()\n",
    "zonal_indicators['industrial_sqft'] = buildings[buildings.building_type_id.isin([31,32,33])].groupby('zone_id').non_residential_sqft.sum()\n",
    "zonal_indicators['medical_sqft'] = buildings[buildings.building_type_id.isin([51,52,53])].groupby('zone_id').non_residential_sqft.sum()\n",
    "zonal_indicators['institutional_sqft'] = buildings[buildings.building_type_id.isin([11,12,13,14])].groupby('zone_id').non_residential_sqft.sum()\n",
    "\n",
    "\n",
    "zonal_indicators['AcresEmp1']=parcels[parcels.land_use_type_id.isin(range(1,6)+[8,9,21,22,23])].groupby('zone_id').parcel_sqft.sum()/43560.0\n",
    "zonal_indicators['AcresEmp2']=parcels[parcels.land_use_type_id.isin(range(1,11)+[15,21,22,23])].groupby('zone_id').parcel_sqft.sum()/43560.0\n",
    "zonal_indicators['AcresTotal'] = parcels.groupby('zone_id').parcel_sqft.sum()/43560.0"
   ]
  },
  {
   "cell_type": "code",
   "execution_count": 13,
   "metadata": {
    "collapsed": false
   },
   "outputs": [
    {
     "data": {
      "text/html": [
       "<div>\n",
       "<table border=\"1\" class=\"dataframe\">\n",
       "  <thead>\n",
       "    <tr style=\"text-align: right;\">\n",
       "      <th></th>\n",
       "      <th>Households</th>\n",
       "      <th>HHPop</th>\n",
       "      <th>workers</th>\n",
       "      <th>Agegrp1</th>\n",
       "      <th>Agegrp2</th>\n",
       "      <th>Agegrp3</th>\n",
       "      <th>Agegrp4</th>\n",
       "      <th>Agegrp5</th>\n",
       "      <th>residential_sqft</th>\n",
       "      <th>commercial_sqft</th>\n",
       "      <th>office_sqft</th>\n",
       "      <th>industrial_sqft</th>\n",
       "      <th>medical_sqft</th>\n",
       "      <th>institutional_sqft</th>\n",
       "      <th>AcresEmp1</th>\n",
       "      <th>AcresEmp2</th>\n",
       "      <th>AcresTotal</th>\n",
       "    </tr>\n",
       "    <tr>\n",
       "      <th>zone_id</th>\n",
       "      <th></th>\n",
       "      <th></th>\n",
       "      <th></th>\n",
       "      <th></th>\n",
       "      <th></th>\n",
       "      <th></th>\n",
       "      <th></th>\n",
       "      <th></th>\n",
       "      <th></th>\n",
       "      <th></th>\n",
       "      <th></th>\n",
       "      <th></th>\n",
       "      <th></th>\n",
       "      <th></th>\n",
       "      <th></th>\n",
       "      <th></th>\n",
       "      <th></th>\n",
       "    </tr>\n",
       "  </thead>\n",
       "  <tbody>\n",
       "    <tr>\n",
       "      <th>1</th>\n",
       "      <td>NaN</td>\n",
       "      <td>NaN</td>\n",
       "      <td>NaN</td>\n",
       "      <td>NaN</td>\n",
       "      <td>NaN</td>\n",
       "      <td>NaN</td>\n",
       "      <td>NaN</td>\n",
       "      <td>NaN</td>\n",
       "      <td>NaN</td>\n",
       "      <td>29340.0</td>\n",
       "      <td>1750.0</td>\n",
       "      <td>821980.0</td>\n",
       "      <td>NaN</td>\n",
       "      <td>NaN</td>\n",
       "      <td>47.577410</td>\n",
       "      <td>47.577410</td>\n",
       "      <td>65.767975</td>\n",
       "    </tr>\n",
       "    <tr>\n",
       "      <th>2</th>\n",
       "      <td>600.0</td>\n",
       "      <td>2020.0</td>\n",
       "      <td>488.0</td>\n",
       "      <td>171.0</td>\n",
       "      <td>552.0</td>\n",
       "      <td>498.0</td>\n",
       "      <td>686.0</td>\n",
       "      <td>113.0</td>\n",
       "      <td>757340.0</td>\n",
       "      <td>62694.0</td>\n",
       "      <td>7414.0</td>\n",
       "      <td>108317.0</td>\n",
       "      <td>3033.0</td>\n",
       "      <td>2116.0</td>\n",
       "      <td>9.166001</td>\n",
       "      <td>9.197681</td>\n",
       "      <td>100.971442</td>\n",
       "    </tr>\n",
       "  </tbody>\n",
       "</table>\n",
       "</div>"
      ],
      "text/plain": [
       "         Households   HHPop  workers  Agegrp1  Agegrp2  Agegrp3  Agegrp4  \\\n",
       "zone_id                                                                    \n",
       "1               NaN     NaN      NaN      NaN      NaN      NaN      NaN   \n",
       "2             600.0  2020.0    488.0    171.0    552.0    498.0    686.0   \n",
       "\n",
       "         Agegrp5  residential_sqft  commercial_sqft  office_sqft  \\\n",
       "zone_id                                                            \n",
       "1            NaN               NaN          29340.0       1750.0   \n",
       "2          113.0          757340.0          62694.0       7414.0   \n",
       "\n",
       "         industrial_sqft  medical_sqft  institutional_sqft  AcresEmp1  \\\n",
       "zone_id                                                                 \n",
       "1               821980.0           NaN                 NaN  47.577410   \n",
       "2               108317.0        3033.0              2116.0   9.166001   \n",
       "\n",
       "         AcresEmp2  AcresTotal  \n",
       "zone_id                         \n",
       "1        47.577410   65.767975  \n",
       "2         9.197681  100.971442  "
      ]
     },
     "execution_count": 13,
     "metadata": {},
     "output_type": "execute_result"
    }
   ],
   "source": [
    "zonal_indicators.head(2)"
   ]
  },
  {
   "cell_type": "code",
   "execution_count": 6,
   "metadata": {
    "collapsed": false
   },
   "outputs": [],
   "source": [
    "enroll = pd.read_csv('schoolEnrollment.csv', usecols=['TDFM_TAZID','ENROLLMENT1516'], index_col='TDFM_TAZID')\n",
    "enroll.rename(columns={'ENROLLMENT1516':'k12enroll'},inplace=True)\n",
    "enroll.index.name='zone_id'"
   ]
  },
  {
   "cell_type": "code",
   "execution_count": 7,
   "metadata": {
    "collapsed": false
   },
   "outputs": [
    {
     "data": {
      "text/html": [
       "<div>\n",
       "<table border=\"1\" class=\"dataframe\">\n",
       "  <thead>\n",
       "    <tr style=\"text-align: right;\">\n",
       "      <th></th>\n",
       "      <th>k12enroll</th>\n",
       "    </tr>\n",
       "    <tr>\n",
       "      <th>zone_id</th>\n",
       "      <th></th>\n",
       "    </tr>\n",
       "  </thead>\n",
       "  <tbody>\n",
       "    <tr>\n",
       "      <th>6</th>\n",
       "      <td>0</td>\n",
       "    </tr>\n",
       "    <tr>\n",
       "      <th>8</th>\n",
       "      <td>204</td>\n",
       "    </tr>\n",
       "  </tbody>\n",
       "</table>\n",
       "</div>"
      ],
      "text/plain": [
       "         k12enroll\n",
       "zone_id           \n",
       "6                0\n",
       "8              204"
      ]
     },
     "execution_count": 7,
     "metadata": {},
     "output_type": "execute_result"
    }
   ],
   "source": [
    "enroll.head(2)"
   ]
  },
  {
   "cell_type": "code",
   "execution_count": 8,
   "metadata": {
    "collapsed": false
   },
   "outputs": [
    {
     "data": {
      "text/html": [
       "<div>\n",
       "<table border=\"1\" class=\"dataframe\">\n",
       "  <thead>\n",
       "    <tr style=\"text-align: right;\">\n",
       "      <th></th>\n",
       "      <th>Grpop</th>\n",
       "    </tr>\n",
       "    <tr>\n",
       "      <th>zone_id</th>\n",
       "      <th></th>\n",
       "    </tr>\n",
       "  </thead>\n",
       "  <tbody>\n",
       "    <tr>\n",
       "      <th>1</th>\n",
       "      <td>0</td>\n",
       "    </tr>\n",
       "    <tr>\n",
       "      <th>2</th>\n",
       "      <td>0</td>\n",
       "    </tr>\n",
       "  </tbody>\n",
       "</table>\n",
       "</div>"
      ],
      "text/plain": [
       "         Grpop\n",
       "zone_id       \n",
       "1            0\n",
       "2            0"
      ]
     },
     "execution_count": 8,
     "metadata": {},
     "output_type": "execute_result"
    }
   ],
   "source": [
    "gq=pd.read_csv('gq.csv', usecols=['TDFM_TAZID','GQ14'], index_col='TDFM_TAZID')\n",
    "gq.rename(columns={'GQ14':'Grpop'},inplace=True)\n",
    "gq.index.name='zone_id'\n",
    "gq.head(2)"
   ]
  },
  {
   "cell_type": "code",
   "execution_count": 9,
   "metadata": {
    "collapsed": false
   },
   "outputs": [
    {
     "data": {
      "text/html": [
       "<div>\n",
       "<table border=\"1\" class=\"dataframe\">\n",
       "  <thead>\n",
       "    <tr style=\"text-align: right;\">\n",
       "      <th></th>\n",
       "      <th>TAZCE10_N</th>\n",
       "      <th>sector1</th>\n",
       "      <th>sector2</th>\n",
       "      <th>sector3</th>\n",
       "      <th>sector4</th>\n",
       "      <th>sector5</th>\n",
       "      <th>sector6</th>\n",
       "      <th>sector7</th>\n",
       "      <th>sector8</th>\n",
       "      <th>sector9</th>\n",
       "      <th>sector10</th>\n",
       "      <th>sector11</th>\n",
       "      <th>sector12</th>\n",
       "      <th>sector13</th>\n",
       "      <th>sector14</th>\n",
       "      <th>sector15</th>\n",
       "      <th>sector16</th>\n",
       "      <th>sector17</th>\n",
       "      <th>sector18</th>\n",
       "      <th>EmpPrinc</th>\n",
       "    </tr>\n",
       "  </thead>\n",
       "  <tbody>\n",
       "    <tr>\n",
       "      <th>0</th>\n",
       "      <td>1101</td>\n",
       "      <td>0</td>\n",
       "      <td>5</td>\n",
       "      <td>138</td>\n",
       "      <td>258</td>\n",
       "      <td>44</td>\n",
       "      <td>10</td>\n",
       "      <td>0</td>\n",
       "      <td>0</td>\n",
       "      <td>0</td>\n",
       "      <td>0</td>\n",
       "      <td>0</td>\n",
       "      <td>0</td>\n",
       "      <td>0</td>\n",
       "      <td>0</td>\n",
       "      <td>0</td>\n",
       "      <td>4</td>\n",
       "      <td>28</td>\n",
       "      <td>0</td>\n",
       "      <td>487</td>\n",
       "    </tr>\n",
       "    <tr>\n",
       "      <th>1</th>\n",
       "      <td>1102</td>\n",
       "      <td>0</td>\n",
       "      <td>10</td>\n",
       "      <td>39</td>\n",
       "      <td>10</td>\n",
       "      <td>20</td>\n",
       "      <td>17</td>\n",
       "      <td>0</td>\n",
       "      <td>3</td>\n",
       "      <td>18</td>\n",
       "      <td>65</td>\n",
       "      <td>0</td>\n",
       "      <td>85</td>\n",
       "      <td>1</td>\n",
       "      <td>47</td>\n",
       "      <td>0</td>\n",
       "      <td>44</td>\n",
       "      <td>46</td>\n",
       "      <td>0</td>\n",
       "      <td>405</td>\n",
       "    </tr>\n",
       "  </tbody>\n",
       "</table>\n",
       "</div>"
      ],
      "text/plain": [
       "   TAZCE10_N  sector1  sector2  sector3  sector4  sector5  sector6  sector7  \\\n",
       "0       1101        0        5      138      258       44       10        0   \n",
       "1       1102        0       10       39       10       20       17        0   \n",
       "\n",
       "   sector8  sector9  sector10  sector11  sector12  sector13  sector14  \\\n",
       "0        0        0         0         0         0         0         0   \n",
       "1        3       18        65         0        85         1        47   \n",
       "\n",
       "   sector15  sector16  sector17  sector18  EmpPrinc  \n",
       "0         0         4        28         0       487  \n",
       "1         0        44        46         0       405  "
      ]
     },
     "execution_count": 9,
     "metadata": {},
     "output_type": "execute_result"
    }
   ],
   "source": [
    "emp=pd.read_csv('employment.csv')\n",
    "emp.head(2)"
   ]
  },
  {
   "cell_type": "code",
   "execution_count": 10,
   "metadata": {
    "collapsed": false
   },
   "outputs": [
    {
     "data": {
      "text/html": [
       "<div>\n",
       "<table border=\"1\" class=\"dataframe\">\n",
       "  <thead>\n",
       "    <tr style=\"text-align: right;\">\n",
       "      <th></th>\n",
       "      <th>TAZCE10_N</th>\n",
       "    </tr>\n",
       "    <tr>\n",
       "      <th>zone_id</th>\n",
       "      <th></th>\n",
       "    </tr>\n",
       "  </thead>\n",
       "  <tbody>\n",
       "    <tr>\n",
       "      <th>2716</th>\n",
       "      <td>70301</td>\n",
       "    </tr>\n",
       "    <tr>\n",
       "      <th>2717</th>\n",
       "      <td>70302</td>\n",
       "    </tr>\n",
       "  </tbody>\n",
       "</table>\n",
       "</div>"
      ],
      "text/plain": [
       "         TAZCE10_N\n",
       "zone_id           \n",
       "2716         70301\n",
       "2717         70302"
      ]
     },
     "execution_count": 10,
     "metadata": {},
     "output_type": "execute_result"
    }
   ],
   "source": [
    "equiv=pd.read_csv('TAZ10_TDFM_equiv.csv',index_col='TDFM_TAZID')\n",
    "equiv.index.name='zone_id'\n",
    "equiv=equiv[['TAZCE10_N']]\n",
    "equiv.head(2)"
   ]
  },
  {
   "cell_type": "code",
   "execution_count": 11,
   "metadata": {
    "collapsed": true
   },
   "outputs": [],
   "source": [
    "zonal2=pd.merge(equiv,zonal_indicators,left_index=True, right_index=True, how='left')"
   ]
  },
  {
   "cell_type": "code",
   "execution_count": 12,
   "metadata": {
    "collapsed": false
   },
   "outputs": [
    {
     "data": {
      "text/html": [
       "<div>\n",
       "<table border=\"1\" class=\"dataframe\">\n",
       "  <thead>\n",
       "    <tr style=\"text-align: right;\">\n",
       "      <th></th>\n",
       "      <th>TAZCE10_N</th>\n",
       "      <th>Households</th>\n",
       "      <th>HHPop</th>\n",
       "      <th>workers</th>\n",
       "      <th>Agegrp1</th>\n",
       "      <th>Agegrp2</th>\n",
       "      <th>Agegrp3</th>\n",
       "      <th>Agegrp4</th>\n",
       "      <th>Agegrp5</th>\n",
       "      <th>residential_sqft</th>\n",
       "      <th>commercial_sqft</th>\n",
       "      <th>office_sqft</th>\n",
       "      <th>industrial_sqft</th>\n",
       "      <th>medical_sqft</th>\n",
       "      <th>institutional_sqft</th>\n",
       "      <th>AcresEmp1</th>\n",
       "      <th>AcresEmp2</th>\n",
       "      <th>AcresTotal</th>\n",
       "    </tr>\n",
       "    <tr>\n",
       "      <th>zone_id</th>\n",
       "      <th></th>\n",
       "      <th></th>\n",
       "      <th></th>\n",
       "      <th></th>\n",
       "      <th></th>\n",
       "      <th></th>\n",
       "      <th></th>\n",
       "      <th></th>\n",
       "      <th></th>\n",
       "      <th></th>\n",
       "      <th></th>\n",
       "      <th></th>\n",
       "      <th></th>\n",
       "      <th></th>\n",
       "      <th></th>\n",
       "      <th></th>\n",
       "      <th></th>\n",
       "      <th></th>\n",
       "    </tr>\n",
       "  </thead>\n",
       "  <tbody>\n",
       "    <tr>\n",
       "      <th>2716</th>\n",
       "      <td>70301</td>\n",
       "      <td>274.0</td>\n",
       "      <td>606.0</td>\n",
       "      <td>291.0</td>\n",
       "      <td>33.0</td>\n",
       "      <td>61.0</td>\n",
       "      <td>173.0</td>\n",
       "      <td>282.0</td>\n",
       "      <td>57.0</td>\n",
       "      <td>392854.0</td>\n",
       "      <td>139621.0</td>\n",
       "      <td>42030.0</td>\n",
       "      <td>7185.0</td>\n",
       "      <td>21801.0</td>\n",
       "      <td>909330.0</td>\n",
       "      <td>104.901354</td>\n",
       "      <td>109.877571</td>\n",
       "      <td>192.176630</td>\n",
       "    </tr>\n",
       "    <tr>\n",
       "      <th>2717</th>\n",
       "      <td>70302</td>\n",
       "      <td>862.0</td>\n",
       "      <td>2095.0</td>\n",
       "      <td>1091.0</td>\n",
       "      <td>88.0</td>\n",
       "      <td>355.0</td>\n",
       "      <td>314.0</td>\n",
       "      <td>992.0</td>\n",
       "      <td>346.0</td>\n",
       "      <td>1393343.0</td>\n",
       "      <td>NaN</td>\n",
       "      <td>49768.0</td>\n",
       "      <td>295311.0</td>\n",
       "      <td>NaN</td>\n",
       "      <td>36761.0</td>\n",
       "      <td>41.681864</td>\n",
       "      <td>41.681864</td>\n",
       "      <td>508.694513</td>\n",
       "    </tr>\n",
       "  </tbody>\n",
       "</table>\n",
       "</div>"
      ],
      "text/plain": [
       "         TAZCE10_N  Households   HHPop  workers  Agegrp1  Agegrp2  Agegrp3  \\\n",
       "zone_id                                                                      \n",
       "2716         70301       274.0   606.0    291.0     33.0     61.0    173.0   \n",
       "2717         70302       862.0  2095.0   1091.0     88.0    355.0    314.0   \n",
       "\n",
       "         Agegrp4  Agegrp5  residential_sqft  commercial_sqft  office_sqft  \\\n",
       "zone_id                                                                     \n",
       "2716       282.0     57.0          392854.0         139621.0      42030.0   \n",
       "2717       992.0    346.0         1393343.0              NaN      49768.0   \n",
       "\n",
       "         industrial_sqft  medical_sqft  institutional_sqft   AcresEmp1  \\\n",
       "zone_id                                                                  \n",
       "2716              7185.0       21801.0            909330.0  104.901354   \n",
       "2717            295311.0           NaN             36761.0   41.681864   \n",
       "\n",
       "          AcresEmp2  AcresTotal  \n",
       "zone_id                          \n",
       "2716     109.877571  192.176630  \n",
       "2717      41.681864  508.694513  "
      ]
     },
     "execution_count": 12,
     "metadata": {},
     "output_type": "execute_result"
    }
   ],
   "source": [
    "zonal2.head(2)"
   ]
  },
  {
   "cell_type": "code",
   "execution_count": 14,
   "metadata": {
    "collapsed": false
   },
   "outputs": [],
   "source": [
    "zonal2=pd.merge(zonal2, enroll, left_index=True, right_index=True, how='left')"
   ]
  },
  {
   "cell_type": "code",
   "execution_count": 15,
   "metadata": {
    "collapsed": false
   },
   "outputs": [
    {
     "data": {
      "text/html": [
       "<div>\n",
       "<table border=\"1\" class=\"dataframe\">\n",
       "  <thead>\n",
       "    <tr style=\"text-align: right;\">\n",
       "      <th></th>\n",
       "      <th>TAZCE10_N</th>\n",
       "      <th>Households</th>\n",
       "      <th>HHPop</th>\n",
       "      <th>workers</th>\n",
       "      <th>Agegrp1</th>\n",
       "      <th>Agegrp2</th>\n",
       "      <th>Agegrp3</th>\n",
       "      <th>Agegrp4</th>\n",
       "      <th>Agegrp5</th>\n",
       "      <th>residential_sqft</th>\n",
       "      <th>commercial_sqft</th>\n",
       "      <th>office_sqft</th>\n",
       "      <th>industrial_sqft</th>\n",
       "      <th>medical_sqft</th>\n",
       "      <th>institutional_sqft</th>\n",
       "      <th>AcresEmp1</th>\n",
       "      <th>AcresEmp2</th>\n",
       "      <th>AcresTotal</th>\n",
       "      <th>k12enroll</th>\n",
       "    </tr>\n",
       "    <tr>\n",
       "      <th>zone_id</th>\n",
       "      <th></th>\n",
       "      <th></th>\n",
       "      <th></th>\n",
       "      <th></th>\n",
       "      <th></th>\n",
       "      <th></th>\n",
       "      <th></th>\n",
       "      <th></th>\n",
       "      <th></th>\n",
       "      <th></th>\n",
       "      <th></th>\n",
       "      <th></th>\n",
       "      <th></th>\n",
       "      <th></th>\n",
       "      <th></th>\n",
       "      <th></th>\n",
       "      <th></th>\n",
       "      <th></th>\n",
       "      <th></th>\n",
       "    </tr>\n",
       "  </thead>\n",
       "  <tbody>\n",
       "    <tr>\n",
       "      <th>2716</th>\n",
       "      <td>70301</td>\n",
       "      <td>274.0</td>\n",
       "      <td>606.0</td>\n",
       "      <td>291.0</td>\n",
       "      <td>33.0</td>\n",
       "      <td>61.0</td>\n",
       "      <td>173.0</td>\n",
       "      <td>282.0</td>\n",
       "      <td>57.0</td>\n",
       "      <td>392854.0</td>\n",
       "      <td>139621.0</td>\n",
       "      <td>42030.0</td>\n",
       "      <td>7185.0</td>\n",
       "      <td>21801.0</td>\n",
       "      <td>909330.0</td>\n",
       "      <td>104.901354</td>\n",
       "      <td>109.877571</td>\n",
       "      <td>192.176630</td>\n",
       "      <td>2074.0</td>\n",
       "    </tr>\n",
       "    <tr>\n",
       "      <th>2717</th>\n",
       "      <td>70302</td>\n",
       "      <td>862.0</td>\n",
       "      <td>2095.0</td>\n",
       "      <td>1091.0</td>\n",
       "      <td>88.0</td>\n",
       "      <td>355.0</td>\n",
       "      <td>314.0</td>\n",
       "      <td>992.0</td>\n",
       "      <td>346.0</td>\n",
       "      <td>1393343.0</td>\n",
       "      <td>NaN</td>\n",
       "      <td>49768.0</td>\n",
       "      <td>295311.0</td>\n",
       "      <td>NaN</td>\n",
       "      <td>36761.0</td>\n",
       "      <td>41.681864</td>\n",
       "      <td>41.681864</td>\n",
       "      <td>508.694513</td>\n",
       "      <td>NaN</td>\n",
       "    </tr>\n",
       "  </tbody>\n",
       "</table>\n",
       "</div>"
      ],
      "text/plain": [
       "         TAZCE10_N  Households   HHPop  workers  Agegrp1  Agegrp2  Agegrp3  \\\n",
       "zone_id                                                                      \n",
       "2716         70301       274.0   606.0    291.0     33.0     61.0    173.0   \n",
       "2717         70302       862.0  2095.0   1091.0     88.0    355.0    314.0   \n",
       "\n",
       "         Agegrp4  Agegrp5  residential_sqft  commercial_sqft  office_sqft  \\\n",
       "zone_id                                                                     \n",
       "2716       282.0     57.0          392854.0         139621.0      42030.0   \n",
       "2717       992.0    346.0         1393343.0              NaN      49768.0   \n",
       "\n",
       "         industrial_sqft  medical_sqft  institutional_sqft   AcresEmp1  \\\n",
       "zone_id                                                                  \n",
       "2716              7185.0       21801.0            909330.0  104.901354   \n",
       "2717            295311.0           NaN             36761.0   41.681864   \n",
       "\n",
       "          AcresEmp2  AcresTotal  k12enroll  \n",
       "zone_id                                     \n",
       "2716     109.877571  192.176630     2074.0  \n",
       "2717      41.681864  508.694513        NaN  "
      ]
     },
     "execution_count": 15,
     "metadata": {},
     "output_type": "execute_result"
    }
   ],
   "source": [
    "zonal2.head(2)"
   ]
  },
  {
   "cell_type": "code",
   "execution_count": 16,
   "metadata": {
    "collapsed": false
   },
   "outputs": [
    {
     "data": {
      "text/html": [
       "<div>\n",
       "<table border=\"1\" class=\"dataframe\">\n",
       "  <thead>\n",
       "    <tr style=\"text-align: right;\">\n",
       "      <th></th>\n",
       "      <th>TAZCE10_N</th>\n",
       "      <th>Households</th>\n",
       "      <th>HHPop</th>\n",
       "      <th>workers</th>\n",
       "      <th>Agegrp1</th>\n",
       "      <th>Agegrp2</th>\n",
       "      <th>Agegrp3</th>\n",
       "      <th>Agegrp4</th>\n",
       "      <th>Agegrp5</th>\n",
       "      <th>residential_sqft</th>\n",
       "      <th>commercial_sqft</th>\n",
       "      <th>office_sqft</th>\n",
       "      <th>industrial_sqft</th>\n",
       "      <th>medical_sqft</th>\n",
       "      <th>institutional_sqft</th>\n",
       "      <th>AcresEmp1</th>\n",
       "      <th>AcresEmp2</th>\n",
       "      <th>AcresTotal</th>\n",
       "      <th>k12enroll</th>\n",
       "      <th>Grpop</th>\n",
       "    </tr>\n",
       "    <tr>\n",
       "      <th>zone_id</th>\n",
       "      <th></th>\n",
       "      <th></th>\n",
       "      <th></th>\n",
       "      <th></th>\n",
       "      <th></th>\n",
       "      <th></th>\n",
       "      <th></th>\n",
       "      <th></th>\n",
       "      <th></th>\n",
       "      <th></th>\n",
       "      <th></th>\n",
       "      <th></th>\n",
       "      <th></th>\n",
       "      <th></th>\n",
       "      <th></th>\n",
       "      <th></th>\n",
       "      <th></th>\n",
       "      <th></th>\n",
       "      <th></th>\n",
       "      <th></th>\n",
       "    </tr>\n",
       "  </thead>\n",
       "  <tbody>\n",
       "    <tr>\n",
       "      <th>2716</th>\n",
       "      <td>70301</td>\n",
       "      <td>274.0</td>\n",
       "      <td>606.0</td>\n",
       "      <td>291.0</td>\n",
       "      <td>33.0</td>\n",
       "      <td>61.0</td>\n",
       "      <td>173.0</td>\n",
       "      <td>282.0</td>\n",
       "      <td>57.0</td>\n",
       "      <td>392854.0</td>\n",
       "      <td>139621.0</td>\n",
       "      <td>42030.0</td>\n",
       "      <td>7185.0</td>\n",
       "      <td>21801.0</td>\n",
       "      <td>909330.0</td>\n",
       "      <td>104.901354</td>\n",
       "      <td>109.877571</td>\n",
       "      <td>192.176630</td>\n",
       "      <td>2074.0</td>\n",
       "      <td>0</td>\n",
       "    </tr>\n",
       "    <tr>\n",
       "      <th>2717</th>\n",
       "      <td>70302</td>\n",
       "      <td>862.0</td>\n",
       "      <td>2095.0</td>\n",
       "      <td>1091.0</td>\n",
       "      <td>88.0</td>\n",
       "      <td>355.0</td>\n",
       "      <td>314.0</td>\n",
       "      <td>992.0</td>\n",
       "      <td>346.0</td>\n",
       "      <td>1393343.0</td>\n",
       "      <td>NaN</td>\n",
       "      <td>49768.0</td>\n",
       "      <td>295311.0</td>\n",
       "      <td>NaN</td>\n",
       "      <td>36761.0</td>\n",
       "      <td>41.681864</td>\n",
       "      <td>41.681864</td>\n",
       "      <td>508.694513</td>\n",
       "      <td>NaN</td>\n",
       "      <td>1</td>\n",
       "    </tr>\n",
       "  </tbody>\n",
       "</table>\n",
       "</div>"
      ],
      "text/plain": [
       "         TAZCE10_N  Households   HHPop  workers  Agegrp1  Agegrp2  Agegrp3  \\\n",
       "zone_id                                                                      \n",
       "2716         70301       274.0   606.0    291.0     33.0     61.0    173.0   \n",
       "2717         70302       862.0  2095.0   1091.0     88.0    355.0    314.0   \n",
       "\n",
       "         Agegrp4  Agegrp5  residential_sqft  commercial_sqft  office_sqft  \\\n",
       "zone_id                                                                     \n",
       "2716       282.0     57.0          392854.0         139621.0      42030.0   \n",
       "2717       992.0    346.0         1393343.0              NaN      49768.0   \n",
       "\n",
       "         industrial_sqft  medical_sqft  institutional_sqft   AcresEmp1  \\\n",
       "zone_id                                                                  \n",
       "2716              7185.0       21801.0            909330.0  104.901354   \n",
       "2717            295311.0           NaN             36761.0   41.681864   \n",
       "\n",
       "          AcresEmp2  AcresTotal  k12enroll  Grpop  \n",
       "zone_id                                            \n",
       "2716     109.877571  192.176630     2074.0      0  \n",
       "2717      41.681864  508.694513        NaN      1  "
      ]
     },
     "execution_count": 16,
     "metadata": {},
     "output_type": "execute_result"
    }
   ],
   "source": [
    "zonal2=pd.merge(zonal2, gq, left_index=True, right_index=True, how='left')\n",
    "zonal2.head(2)"
   ]
  },
  {
   "cell_type": "code",
   "execution_count": 17,
   "metadata": {
    "collapsed": false
   },
   "outputs": [],
   "source": [
    "zonal2.reset_index(inplace=True)"
   ]
  },
  {
   "cell_type": "code",
   "execution_count": 18,
   "metadata": {
    "collapsed": true
   },
   "outputs": [],
   "source": [
    "zonal2=pd.merge(zonal2, emp, left_on='TAZCE10_N', right_on='TAZCE10_N', how='left')"
   ]
  },
  {
   "cell_type": "code",
   "execution_count": 19,
   "metadata": {
    "collapsed": false
   },
   "outputs": [
    {
     "data": {
      "text/html": [
       "<div>\n",
       "<table border=\"1\" class=\"dataframe\">\n",
       "  <thead>\n",
       "    <tr style=\"text-align: right;\">\n",
       "      <th></th>\n",
       "      <th>zone_id</th>\n",
       "      <th>TAZCE10_N</th>\n",
       "      <th>Households</th>\n",
       "      <th>HHPop</th>\n",
       "      <th>workers</th>\n",
       "      <th>Agegrp1</th>\n",
       "      <th>Agegrp2</th>\n",
       "      <th>Agegrp3</th>\n",
       "      <th>Agegrp4</th>\n",
       "      <th>Agegrp5</th>\n",
       "      <th>...</th>\n",
       "      <th>sector10</th>\n",
       "      <th>sector11</th>\n",
       "      <th>sector12</th>\n",
       "      <th>sector13</th>\n",
       "      <th>sector14</th>\n",
       "      <th>sector15</th>\n",
       "      <th>sector16</th>\n",
       "      <th>sector17</th>\n",
       "      <th>sector18</th>\n",
       "      <th>EmpPrinc</th>\n",
       "    </tr>\n",
       "  </thead>\n",
       "  <tbody>\n",
       "    <tr>\n",
       "      <th>0</th>\n",
       "      <td>2716</td>\n",
       "      <td>70301</td>\n",
       "      <td>274.0</td>\n",
       "      <td>606.0</td>\n",
       "      <td>291.0</td>\n",
       "      <td>33.0</td>\n",
       "      <td>61.0</td>\n",
       "      <td>173.0</td>\n",
       "      <td>282.0</td>\n",
       "      <td>57.0</td>\n",
       "      <td>...</td>\n",
       "      <td>96</td>\n",
       "      <td>0</td>\n",
       "      <td>31</td>\n",
       "      <td>242</td>\n",
       "      <td>127</td>\n",
       "      <td>0</td>\n",
       "      <td>133</td>\n",
       "      <td>129</td>\n",
       "      <td>27</td>\n",
       "      <td>1203</td>\n",
       "    </tr>\n",
       "    <tr>\n",
       "      <th>1</th>\n",
       "      <td>2717</td>\n",
       "      <td>70302</td>\n",
       "      <td>862.0</td>\n",
       "      <td>2095.0</td>\n",
       "      <td>1091.0</td>\n",
       "      <td>88.0</td>\n",
       "      <td>355.0</td>\n",
       "      <td>314.0</td>\n",
       "      <td>992.0</td>\n",
       "      <td>346.0</td>\n",
       "      <td>...</td>\n",
       "      <td>138</td>\n",
       "      <td>0</td>\n",
       "      <td>81</td>\n",
       "      <td>16</td>\n",
       "      <td>18</td>\n",
       "      <td>0</td>\n",
       "      <td>9</td>\n",
       "      <td>55</td>\n",
       "      <td>0</td>\n",
       "      <td>656</td>\n",
       "    </tr>\n",
       "  </tbody>\n",
       "</table>\n",
       "<p>2 rows × 40 columns</p>\n",
       "</div>"
      ],
      "text/plain": [
       "   zone_id  TAZCE10_N  Households   HHPop  workers  Agegrp1  Agegrp2  Agegrp3  \\\n",
       "0     2716      70301       274.0   606.0    291.0     33.0     61.0    173.0   \n",
       "1     2717      70302       862.0  2095.0   1091.0     88.0    355.0    314.0   \n",
       "\n",
       "   Agegrp4  Agegrp5    ...     sector10  sector11  sector12  sector13  \\\n",
       "0    282.0     57.0    ...           96         0        31       242   \n",
       "1    992.0    346.0    ...          138         0        81        16   \n",
       "\n",
       "   sector14  sector15  sector16  sector17  sector18  EmpPrinc  \n",
       "0       127         0       133       129        27      1203  \n",
       "1        18         0         9        55         0       656  \n",
       "\n",
       "[2 rows x 40 columns]"
      ]
     },
     "execution_count": 19,
     "metadata": {},
     "output_type": "execute_result"
    }
   ],
   "source": [
    "zonal2.head(2)"
   ]
  },
  {
   "cell_type": "code",
   "execution_count": 20,
   "metadata": {
    "collapsed": false
   },
   "outputs": [],
   "source": [
    "zonal2.drop(['TAZCE10_N',],axis=1, inplace=True)"
   ]
  },
  {
   "cell_type": "code",
   "execution_count": 21,
   "metadata": {
    "collapsed": false
   },
   "outputs": [
    {
     "data": {
      "text/plain": [
       "array(['zone_id', 'Households', 'HHPop', 'workers', 'Agegrp1', 'Agegrp2',\n",
       "       'Agegrp3', 'Agegrp4', 'Agegrp5', 'residential_sqft',\n",
       "       'commercial_sqft', 'office_sqft', 'industrial_sqft', 'medical_sqft',\n",
       "       'institutional_sqft', 'AcresEmp1', 'AcresEmp2', 'AcresTotal',\n",
       "       'k12enroll', 'Grpop', 'sector1', 'sector2', 'sector3', 'sector4',\n",
       "       'sector5', 'sector6', 'sector7', 'sector8', 'sector9', 'sector10',\n",
       "       'sector11', 'sector12', 'sector13', 'sector14', 'sector15',\n",
       "       'sector16', 'sector17', 'sector18', 'EmpPrinc'], dtype=object)"
      ]
     },
     "execution_count": 21,
     "metadata": {},
     "output_type": "execute_result"
    }
   ],
   "source": [
    "zonal2.columns.values"
   ]
  },
  {
   "cell_type": "code",
   "execution_count": 22,
   "metadata": {
    "collapsed": false
   },
   "outputs": [],
   "source": [
    "zonal2['TotalPop']=zonal2.HHPop + zonal2.Grpop"
   ]
  },
  {
   "cell_type": "code",
   "execution_count": null,
   "metadata": {
    "collapsed": true
   },
   "outputs": [],
   "source": []
  },
  {
   "cell_type": "code",
   "execution_count": 23,
   "metadata": {
    "collapsed": false
   },
   "outputs": [
    {
     "data": {
      "text/html": [
       "<div>\n",
       "<table border=\"1\" class=\"dataframe\">\n",
       "  <thead>\n",
       "    <tr style=\"text-align: right;\">\n",
       "      <th></th>\n",
       "      <th>zone_id</th>\n",
       "      <th>Households</th>\n",
       "      <th>HHPop</th>\n",
       "      <th>workers</th>\n",
       "      <th>Agegrp1</th>\n",
       "      <th>Agegrp2</th>\n",
       "      <th>Agegrp3</th>\n",
       "      <th>Agegrp4</th>\n",
       "      <th>Agegrp5</th>\n",
       "      <th>residential_sqft</th>\n",
       "      <th>...</th>\n",
       "      <th>sector11</th>\n",
       "      <th>sector12</th>\n",
       "      <th>sector13</th>\n",
       "      <th>sector14</th>\n",
       "      <th>sector15</th>\n",
       "      <th>sector16</th>\n",
       "      <th>sector17</th>\n",
       "      <th>sector18</th>\n",
       "      <th>EmpPrinc</th>\n",
       "      <th>TotalPop</th>\n",
       "    </tr>\n",
       "  </thead>\n",
       "  <tbody>\n",
       "    <tr>\n",
       "      <th>0</th>\n",
       "      <td>2716</td>\n",
       "      <td>274.0</td>\n",
       "      <td>606.0</td>\n",
       "      <td>291.0</td>\n",
       "      <td>33.0</td>\n",
       "      <td>61.0</td>\n",
       "      <td>173.0</td>\n",
       "      <td>282.0</td>\n",
       "      <td>57.0</td>\n",
       "      <td>392854.0</td>\n",
       "      <td>...</td>\n",
       "      <td>0</td>\n",
       "      <td>31</td>\n",
       "      <td>242</td>\n",
       "      <td>127</td>\n",
       "      <td>0</td>\n",
       "      <td>133</td>\n",
       "      <td>129</td>\n",
       "      <td>27</td>\n",
       "      <td>1203</td>\n",
       "      <td>606.0</td>\n",
       "    </tr>\n",
       "    <tr>\n",
       "      <th>1</th>\n",
       "      <td>2717</td>\n",
       "      <td>862.0</td>\n",
       "      <td>2095.0</td>\n",
       "      <td>1091.0</td>\n",
       "      <td>88.0</td>\n",
       "      <td>355.0</td>\n",
       "      <td>314.0</td>\n",
       "      <td>992.0</td>\n",
       "      <td>346.0</td>\n",
       "      <td>1393343.0</td>\n",
       "      <td>...</td>\n",
       "      <td>0</td>\n",
       "      <td>81</td>\n",
       "      <td>16</td>\n",
       "      <td>18</td>\n",
       "      <td>0</td>\n",
       "      <td>9</td>\n",
       "      <td>55</td>\n",
       "      <td>0</td>\n",
       "      <td>656</td>\n",
       "      <td>2096.0</td>\n",
       "    </tr>\n",
       "    <tr>\n",
       "      <th>2</th>\n",
       "      <td>2720</td>\n",
       "      <td>520.0</td>\n",
       "      <td>908.0</td>\n",
       "      <td>527.0</td>\n",
       "      <td>36.0</td>\n",
       "      <td>81.0</td>\n",
       "      <td>238.0</td>\n",
       "      <td>388.0</td>\n",
       "      <td>165.0</td>\n",
       "      <td>632056.0</td>\n",
       "      <td>...</td>\n",
       "      <td>0</td>\n",
       "      <td>28</td>\n",
       "      <td>140</td>\n",
       "      <td>258</td>\n",
       "      <td>0</td>\n",
       "      <td>60</td>\n",
       "      <td>112</td>\n",
       "      <td>0</td>\n",
       "      <td>1343</td>\n",
       "      <td>930.0</td>\n",
       "    </tr>\n",
       "    <tr>\n",
       "      <th>3</th>\n",
       "      <td>2722</td>\n",
       "      <td>227.0</td>\n",
       "      <td>401.0</td>\n",
       "      <td>259.0</td>\n",
       "      <td>11.0</td>\n",
       "      <td>26.0</td>\n",
       "      <td>74.0</td>\n",
       "      <td>146.0</td>\n",
       "      <td>144.0</td>\n",
       "      <td>271462.0</td>\n",
       "      <td>...</td>\n",
       "      <td>0</td>\n",
       "      <td>94</td>\n",
       "      <td>113</td>\n",
       "      <td>288</td>\n",
       "      <td>0</td>\n",
       "      <td>843</td>\n",
       "      <td>127</td>\n",
       "      <td>135</td>\n",
       "      <td>3677</td>\n",
       "      <td>439.0</td>\n",
       "    </tr>\n",
       "    <tr>\n",
       "      <th>4</th>\n",
       "      <td>2723</td>\n",
       "      <td>392.0</td>\n",
       "      <td>1059.0</td>\n",
       "      <td>502.0</td>\n",
       "      <td>63.0</td>\n",
       "      <td>154.0</td>\n",
       "      <td>193.0</td>\n",
       "      <td>460.0</td>\n",
       "      <td>189.0</td>\n",
       "      <td>767739.0</td>\n",
       "      <td>...</td>\n",
       "      <td>0</td>\n",
       "      <td>32</td>\n",
       "      <td>0</td>\n",
       "      <td>3</td>\n",
       "      <td>0</td>\n",
       "      <td>1</td>\n",
       "      <td>16</td>\n",
       "      <td>0</td>\n",
       "      <td>187</td>\n",
       "      <td>1059.0</td>\n",
       "    </tr>\n",
       "  </tbody>\n",
       "</table>\n",
       "<p>5 rows × 40 columns</p>\n",
       "</div>"
      ],
      "text/plain": [
       "   zone_id  Households   HHPop  workers  Agegrp1  Agegrp2  Agegrp3  Agegrp4  \\\n",
       "0     2716       274.0   606.0    291.0     33.0     61.0    173.0    282.0   \n",
       "1     2717       862.0  2095.0   1091.0     88.0    355.0    314.0    992.0   \n",
       "2     2720       520.0   908.0    527.0     36.0     81.0    238.0    388.0   \n",
       "3     2722       227.0   401.0    259.0     11.0     26.0     74.0    146.0   \n",
       "4     2723       392.0  1059.0    502.0     63.0    154.0    193.0    460.0   \n",
       "\n",
       "   Agegrp5  residential_sqft    ...     sector11  sector12  sector13  \\\n",
       "0     57.0          392854.0    ...            0        31       242   \n",
       "1    346.0         1393343.0    ...            0        81        16   \n",
       "2    165.0          632056.0    ...            0        28       140   \n",
       "3    144.0          271462.0    ...            0        94       113   \n",
       "4    189.0          767739.0    ...            0        32         0   \n",
       "\n",
       "   sector14  sector15  sector16  sector17  sector18  EmpPrinc  TotalPop  \n",
       "0       127         0       133       129        27      1203     606.0  \n",
       "1        18         0         9        55         0       656    2096.0  \n",
       "2       258         0        60       112         0      1343     930.0  \n",
       "3       288         0       843       127       135      3677     439.0  \n",
       "4         3         0         1        16         0       187    1059.0  \n",
       "\n",
       "[5 rows x 40 columns]"
      ]
     },
     "execution_count": 23,
     "metadata": {},
     "output_type": "execute_result"
    }
   ],
   "source": [
    "zonal2.fillna(0,inplace=True)\n",
    "zonal2.head()"
   ]
  },
  {
   "cell_type": "code",
   "execution_count": 24,
   "metadata": {
    "collapsed": true
   },
   "outputs": [],
   "source": [
    "hh.to_csv('households.csv')\n",
    "persons.to_csv('persons.csv')\n",
    "zonal2.to_csv('transcad_taz.csv')"
   ]
  },
  {
   "cell_type": "code",
   "execution_count": null,
   "metadata": {
    "collapsed": true
   },
   "outputs": [],
   "source": []
  },
  {
   "cell_type": "code",
   "execution_count": null,
   "metadata": {
    "collapsed": true
   },
   "outputs": [],
   "source": []
  },
  {
   "cell_type": "code",
   "execution_count": null,
   "metadata": {
    "collapsed": true
   },
   "outputs": [],
   "source": []
  },
  {
   "cell_type": "code",
   "execution_count": null,
   "metadata": {
    "collapsed": true
   },
   "outputs": [],
   "source": []
  },
  {
   "cell_type": "markdown",
   "metadata": {},
   "source": [
    "# basic output tables "
   ]
  },
  {
   "cell_type": "code",
   "execution_count": null,
   "metadata": {
    "collapsed": false
   },
   "outputs": [],
   "source": [
    "#nodes\n",
    "nodes = orca.get_table('nodes').to_frame()\n",
    "nodes.columns"
   ]
  },
  {
   "cell_type": "code",
   "execution_count": null,
   "metadata": {
    "collapsed": false
   },
   "outputs": [],
   "source": [
    "nodes.columns"
   ]
  },
  {
   "cell_type": "code",
   "execution_count": null,
   "metadata": {
    "collapsed": false
   },
   "outputs": [],
   "source": [
    "#nodes[['new_far','sum_total_sqft','sum_parcel_size']]"
   ]
  },
  {
   "cell_type": "code",
   "execution_count": null,
   "metadata": {
    "collapsed": false
   },
   "outputs": [],
   "source": [
    "#feasibility\n",
    "feasi=orca.get_table('feasibility')\n",
    "#feasi.columns"
   ]
  },
  {
   "cell_type": "code",
   "execution_count": null,
   "metadata": {
    "collapsed": false
   },
   "outputs": [],
   "source": [
    "#parcels\n",
    "parcels = orca.get_table('parcels').to_frame()\n",
    "parcels.columns"
   ]
  },
  {
   "cell_type": "code",
   "execution_count": null,
   "metadata": {
    "collapsed": false
   },
   "outputs": [],
   "source": [
    "parcels.land_use_type_id.unique()"
   ]
  },
  {
   "cell_type": "code",
   "execution_count": null,
   "metadata": {
    "collapsed": false
   },
   "outputs": [],
   "source": [
    "orca.list_tables()"
   ]
  },
  {
   "cell_type": "code",
   "execution_count": null,
   "metadata": {
    "collapsed": false
   },
   "outputs": [],
   "source": [
    "#buildings\n",
    "buildings = orca.get_table('buildings').to_frame()\n",
    "buildings.columns"
   ]
  },
  {
   "cell_type": "code",
   "execution_count": null,
   "metadata": {
    "collapsed": true
   },
   "outputs": [],
   "source": [
    "#new buildings\n",
    "newbldgs=pd.read_csv(\"new_buildings.csv\")\n",
    "#newbldgs=buildings[buildings.year_built==2016]\n",
    "#newbldgs"
   ]
  },
  {
   "cell_type": "code",
   "execution_count": null,
   "metadata": {
    "collapsed": true
   },
   "outputs": [],
   "source": [
    "# zoning\n",
    "zoning = orca.get_table('zoning').to_frame()\n",
    "zoning.columns"
   ]
  },
  {
   "cell_type": "code",
   "execution_count": null,
   "metadata": {
    "collapsed": false
   },
   "outputs": [],
   "source": [
    "lone_house = orca.get_injectable('lone_house').to_frame()\n",
    "#lone_house"
   ]
  },
  {
   "cell_type": "code",
   "execution_count": null,
   "metadata": {
    "collapsed": true
   },
   "outputs": [],
   "source": [
    "pcllone=pd.merge(parcels, lone_house, left_index=True, right_index=True, how='left')"
   ]
  },
  {
   "cell_type": "code",
   "execution_count": null,
   "metadata": {
    "collapsed": true
   },
   "outputs": [],
   "source": [
    "pcllone.to_csv(\"parcel_lone_house.csv\")"
   ]
  },
  {
   "cell_type": "markdown",
   "metadata": {},
   "source": [
    "# Join network based indicators to ..."
   ]
  },
  {
   "cell_type": "code",
   "execution_count": null,
   "metadata": {
    "collapsed": true
   },
   "outputs": [],
   "source": [
    "# to parcels\n",
    "pclnode=pd.merge(parcels, nodes, left_on=\"_node_id\", right_index=True, how='left')\n",
    "#pclnode.to_csv('parcel_nodes.csv')"
   ]
  },
  {
   "cell_type": "code",
   "execution_count": null,
   "metadata": {
    "collapsed": true
   },
   "outputs": [],
   "source": [
    "pclnode.to_csv('parcel_nodes_lu_far.csv')"
   ]
  },
  {
   "cell_type": "code",
   "execution_count": null,
   "metadata": {
    "collapsed": false
   },
   "outputs": [],
   "source": [
    "# to buildings\n",
    "bldnode=pd.merge(buildings, pclnode, left_on='parcel_id', right_index=True, how='left')"
   ]
  },
  {
   "cell_type": "code",
   "execution_count": null,
   "metadata": {
    "collapsed": false
   },
   "outputs": [],
   "source": [
    "# to new buildings\n",
    "newbnode=pd.merge(newbldgs, pclnode, left_on='parcel_id', right_index=True, how='left')"
   ]
  },
  {
   "cell_type": "code",
   "execution_count": null,
   "metadata": {
    "collapsed": true
   },
   "outputs": [],
   "source": [
    "pclnode['far1']=pclnode.total_sqft/pclnode.parcel_size"
   ]
  },
  {
   "cell_type": "code",
   "execution_count": null,
   "metadata": {
    "collapsed": false
   },
   "outputs": [],
   "source": [
    "pclnode.columns"
   ]
  },
  {
   "cell_type": "code",
   "execution_count": null,
   "metadata": {
    "collapsed": false
   },
   "outputs": [],
   "source": [
    "pclnode[['new_far','max_far','parcel_size','total_sqft']].head()"
   ]
  },
  {
   "cell_type": "code",
   "execution_count": null,
   "metadata": {
    "collapsed": false
   },
   "outputs": [],
   "source": [
    "pclnode[pclnode['new_far']>pclnode['max_far']]"
   ]
  },
  {
   "cell_type": "code",
   "execution_count": null,
   "metadata": {
    "collapsed": false,
    "scrolled": true
   },
   "outputs": [],
   "source": [
    "pclnode[pclnode['new_far']<(pclnode['far1']-0.01)][['new_far','far1','_node_id']]"
   ]
  },
  {
   "cell_type": "code",
   "execution_count": null,
   "metadata": {
    "collapsed": false,
    "scrolled": true
   },
   "outputs": [],
   "source": [
    "pclnode[pclnode['new_parcel_size']<pclnode['parcel_size']][['new_parcel_size','parcel_size']]"
   ]
  },
  {
   "cell_type": "code",
   "execution_count": null,
   "metadata": {
    "collapsed": false
   },
   "outputs": [],
   "source": [
    "pclnode[(pclnode['new_pct_undev'])<pclnode['pct_undev']][['new_pct_undev','pct_undev']]"
   ]
  },
  {
   "cell_type": "markdown",
   "metadata": {},
   "source": [
    "# analysis"
   ]
  },
  {
   "cell_type": "code",
   "execution_count": null,
   "metadata": {
    "collapsed": false
   },
   "outputs": [],
   "source": [
    "#recent buildings correlates to \n",
    "bldrecent=bldnode[(bldnode.year_built>2011) & (bldnode.sqft_per_unit>0)]\n",
    "bldrecent.shape\n",
    "cort=bldrecent.corr()"
   ]
  },
  {
   "cell_type": "code",
   "execution_count": null,
   "metadata": {
    "collapsed": false
   },
   "outputs": [],
   "source": [
    "# sqft_per_unit\n",
    "#cort['sqft_per_unit']\n",
    "#bldrecent.plot(x='sqft_per_unit', y='ave_unit_sqft')"
   ]
  },
  {
   "cell_type": "code",
   "execution_count": null,
   "metadata": {
    "collapsed": false
   },
   "outputs": [],
   "source": [
    "# select parcels\n",
    "parcels.loc[1012389]"
   ]
  },
  {
   "cell_type": "code",
   "execution_count": null,
   "metadata": {
    "collapsed": true
   },
   "outputs": [],
   "source": [
    "# office use values counts\n",
    "npp.office.value_counts(sort=True,bins=50)"
   ]
  },
  {
   "cell_type": "code",
   "execution_count": null,
   "metadata": {
    "collapsed": false
   },
   "outputs": [],
   "source": [
    "#histogram for office prices based on network module\n",
    "npp=nodes_prices[nodes_prices.medical>0]\n",
    "npp.medical1k.plot(kind='hist',bins=200)"
   ]
  },
  {
   "cell_type": "code",
   "execution_count": null,
   "metadata": {
    "collapsed": false
   },
   "outputs": [],
   "source": [
    "#histogram for office prices based on network module\n",
    "npp=nodes_prices[nodes_prices.office1k>0]\n",
    "npp.office1k.plot(kind='hist',bins=200)"
   ]
  },
  {
   "cell_type": "code",
   "execution_count": null,
   "metadata": {
    "collapsed": false
   },
   "outputs": [],
   "source": [
    "pp=parcels[parcels.land_use_type_id==11  ]\n",
    "pp.parcel_sqft.plot(kind='hist',bins=40, range=[0, 100000])\n",
    "pp.parcel_sqft.value_counts(sort=True,bins=50)"
   ]
  },
  {
   "cell_type": "code",
   "execution_count": null,
   "metadata": {
    "collapsed": false
   },
   "outputs": [],
   "source": [
    "pd.unique(parcels.land_use_type_id)"
   ]
  },
  {
   "cell_type": "code",
   "execution_count": null,
   "metadata": {
    "collapsed": true
   },
   "outputs": [],
   "source": [
    "ps=buildings[(buildings.building_type_id == 81) & (buildings.residential_units == 1)].groupby(by=\"parcel_id\").building_type_id.count() == 1"
   ]
  },
  {
   "cell_type": "code",
   "execution_count": null,
   "metadata": {
    "collapsed": false
   },
   "outputs": [],
   "source": [
    "parcels.head()"
   ]
  },
  {
   "cell_type": "code",
   "execution_count": null,
   "metadata": {
    "collapsed": true
   },
   "outputs": [],
   "source": []
  },
  {
   "cell_type": "markdown",
   "metadata": {
    "collapsed": true
   },
   "source": [
    "# fix hdf5 data"
   ]
  },
  {
   "cell_type": "code",
   "execution_count": null,
   "metadata": {
    "collapsed": true
   },
   "outputs": [],
   "source": [
    "import numpy as np\n",
    "import pandas as pd"
   ]
  },
  {
   "cell_type": "code",
   "execution_count": null,
   "metadata": {
    "collapsed": false
   },
   "outputs": [],
   "source": [
    "hf=pd.HDFStore('./data/alderaan_semcog_data_fix.h5')"
   ]
  },
  {
   "cell_type": "code",
   "execution_count": null,
   "metadata": {
    "collapsed": false
   },
   "outputs": [],
   "source": [
    "hf"
   ]
  },
  {
   "cell_type": "code",
   "execution_count": null,
   "metadata": {
    "collapsed": false
   },
   "outputs": [],
   "source": [
    "hf[\"buildings\"] = hf[\"buildings\"][hf[\"buildings\"][\"building_type_id\"].notnull()]\n",
    "hf[\"buildings\"] = hf[\"buildings\"][hf[\"buildings\"][\"improvement_value\"].notnull()]"
   ]
  },
  {
   "cell_type": "code",
   "execution_count": null,
   "metadata": {
    "collapsed": false
   },
   "outputs": [],
   "source": [
    "lacal = hf[\"buildings\"]\n",
    "for c in lacal.columns:\n",
    "    print c, lacal[c].dtype\n",
    "    if lacal[c].dtype == np.float64:\n",
    "        lacal[c] = lacal[c].astype(np.int32)\n",
    "del hf[\"buildings\"]\n",
    "hf[\"buildings\"] = lacal"
   ]
  },
  {
   "cell_type": "code",
   "execution_count": null,
   "metadata": {
    "collapsed": false
   },
   "outputs": [],
   "source": [
    "hf['/zoning']['future_use'].unique()"
   ]
  },
  {
   "cell_type": "code",
   "execution_count": null,
   "metadata": {
    "collapsed": false
   },
   "outputs": [],
   "source": [
    "for item in hf.keys():\n",
    "    print item, hf[item].shape"
   ]
  },
  {
   "cell_type": "code",
   "execution_count": null,
   "metadata": {
    "collapsed": true
   },
   "outputs": [],
   "source": [
    "b=hf['/buildings']"
   ]
  },
  {
   "cell_type": "code",
   "execution_count": null,
   "metadata": {
    "collapsed": false
   },
   "outputs": [],
   "source": [
    "del b['owner_units']"
   ]
  },
  {
   "cell_type": "code",
   "execution_count": null,
   "metadata": {
    "collapsed": false
   },
   "outputs": [],
   "source": [
    "hf['/buildings']=b"
   ]
  },
  {
   "cell_type": "code",
   "execution_count": null,
   "metadata": {
    "collapsed": false
   },
   "outputs": [],
   "source": [
    "af=hf['/zoning']"
   ]
  },
  {
   "cell_type": "code",
   "execution_count": null,
   "metadata": {
    "collapsed": true
   },
   "outputs": [],
   "source": [
    "af['max_far'] = af['max_far']/100.0"
   ]
  },
  {
   "cell_type": "code",
   "execution_count": null,
   "metadata": {
    "collapsed": false
   },
   "outputs": [],
   "source": [
    "af.head()"
   ]
  },
  {
   "cell_type": "code",
   "execution_count": null,
   "metadata": {
    "collapsed": false
   },
   "outputs": [],
   "source": [
    "hf['/buildings']=af"
   ]
  },
  {
   "cell_type": "code",
   "execution_count": null,
   "metadata": {
    "collapsed": false
   },
   "outputs": [],
   "source": [
    "af.head()"
   ]
  },
  {
   "cell_type": "code",
   "execution_count": null,
   "metadata": {
    "collapsed": false
   },
   "outputs": [],
   "source": [
    "hf['/zoning']=af"
   ]
  },
  {
   "cell_type": "code",
   "execution_count": null,
   "metadata": {
    "collapsed": true
   },
   "outputs": [],
   "source": [
    "hf.close()"
   ]
  },
  {
   "cell_type": "code",
   "execution_count": null,
   "metadata": {
    "collapsed": false
   },
   "outputs": [],
   "source": [
    "# for t in hf.keys():\n",
    "#     df = hf[t]\n",
    "#     print \n",
    "#     print t\n",
    "#     print df.describe()\n",
    "    \n",
    "# building_types\n",
    "# land_use_types\n",
    "\n",
    "hf[\"building_types\"]"
   ]
  },
  {
   "cell_type": "code",
   "execution_count": null,
   "metadata": {
    "collapsed": true
   },
   "outputs": [],
   "source": []
  }
 ],
 "metadata": {
  "kernelspec": {
   "display_name": "Python [Root]",
   "language": "python",
   "name": "Python [Root]"
  },
  "language_info": {
   "codemirror_mode": {
    "name": "ipython",
    "version": 2
   },
   "file_extension": ".py",
   "mimetype": "text/x-python",
   "name": "python",
   "nbconvert_exporter": "python",
   "pygments_lexer": "ipython2",
   "version": "2.7.12"
  }
 },
 "nbformat": 4,
 "nbformat_minor": 0
}
