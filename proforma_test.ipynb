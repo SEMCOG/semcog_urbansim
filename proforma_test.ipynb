{
 "cells": [
  {
   "cell_type": "code",
   "execution_count": 1,
   "metadata": {
    "collapsed": false,
    "scrolled": true
   },
   "outputs": [],
   "source": [
    "%load_ext autoreload\n",
    "%autoreload 2\n",
    "import models, utils\n",
    "#import urbansim.sim.simulation as sim\n",
    "import orca\n",
    "import pandas as pd"
   ]
  },
  {
   "cell_type": "code",
   "execution_count": 2,
   "metadata": {
    "collapsed": false
   },
   "outputs": [],
   "source": [
    "from urbansim.utils import misc, networks"
   ]
  },
  {
   "cell_type": "code",
   "execution_count": 3,
   "metadata": {
    "collapsed": false
   },
   "outputs": [],
   "source": [
    "#hdf=pd.HDFStore('./data/alderaan_semcog_data_fix.h5')\n"
   ]
  },
  {
   "cell_type": "code",
   "execution_count": 4,
   "metadata": {
    "collapsed": false
   },
   "outputs": [],
   "source": [
    "#parcels=orca.get_table('parcels')"
   ]
  },
  {
   "cell_type": "code",
   "execution_count": 5,
   "metadata": {
    "collapsed": false
   },
   "outputs": [],
   "source": [
    "#parcels.columns"
   ]
  },
  {
   "cell_type": "code",
   "execution_count": null,
   "metadata": {
    "collapsed": true
   },
   "outputs": [],
   "source": []
  },
  {
   "cell_type": "code",
   "execution_count": 6,
   "metadata": {
    "collapsed": false
   },
   "outputs": [
    {
     "name": "stdout",
     "output_type": "stream",
     "text": [
      "Running step 'build_networks'\n",
      "Time to execute step 'build_networks': 12.24 s\n",
      "Total time to execute iteration 1 with iteration value None: 12.24 s\n"
     ]
    }
   ],
   "source": [
    "orca.run(['build_networks'])"
   ]
  },
  {
   "cell_type": "code",
   "execution_count": 7,
   "metadata": {
    "collapsed": false
   },
   "outputs": [
    {
     "name": "stdout",
     "output_type": "stream",
     "text": [
      "Running iteration 1 with iteration value 2011\n",
      "Running step 'neighborhood_vars'\n",
      "Computing accessibility variables\n",
      "Computing sum_residential_units\n",
      "['residential_units', '_node_id']\n",
      "Removed 453 rows because they contain missing values\n",
      "Computing sum_nonresidential_units\n",
      "['job_spaces', '_node_id']\n",
      "Removed 453 rows because they contain missing values\n",
      "Computing ave_unit_sqft\n",
      "['sqft_per_unit', '_node_id']\n",
      "Removed 453 rows because they contain missing values\n",
      "Computing ave_lot_sqft\n",
      "['land_area', '_node_id']\n",
      "Removed 453 rows because they contain missing values\n",
      "Computing population\n",
      "['persons', '_node_id']\n",
      "Removed 451 rows because they contain missing values\n",
      "Computing poor\n",
      "['persons', '_node_id', 'income']\n",
      "Removed 188 rows because they contain missing values\n",
      "Computing sfdu\n",
      "['_node_id', 'building_type_id']\n",
      "Computing hhsize\n",
      "['persons', '_node_id']\n",
      "Removed 451 rows because they contain missing values\n",
      "Computing jobs\n",
      "['_node_id']\n",
      "Removed 371 rows because they contain missing values\n",
      "Computing ave_income\n",
      "['income', '_node_id']\n",
      "Removed 451 rows because they contain missing values\n",
      "Computing residential\n",
      "['sqft_price_res', '_node_id']\n",
      "Removed 453 rows because they contain missing values\n",
      "Computing retail\n",
      "['sqft_price_nonres', '_node_id', 'general_type']\n",
      "Computing office\n",
      "['sqft_price_nonres', '_node_id', 'general_type']\n",
      "Computing industrial\n",
      "['sqft_price_nonres', '_node_id', 'general_type']\n",
      "       sum_residential_units  sum_nonresidential_units  ave_unit_sqft  \\\n",
      "count          190505.000000             190505.000000  190505.000000   \n",
      "mean                0.236087                  0.102721       0.610729   \n",
      "std                 0.812183                  0.622869       1.989465   \n",
      "min                 0.000000                  0.000000       0.000000   \n",
      "25%                 0.000000                  0.000000       0.000000   \n",
      "50%                 0.000000                  0.000000       0.000000   \n",
      "75%                 0.000000                  0.000000       0.000000   \n",
      "max                 6.649024                  9.130215       9.251722   \n",
      "\n",
      "        ave_lot_sqft     population           poor    sfdu         hhsize  \\\n",
      "count  190505.000000  190505.000000  190505.000000  190505  190505.000000   \n",
      "mean        0.722820       0.326329       0.191715       0       0.115762   \n",
      "std         2.255989       1.072267       0.685266       0       0.363603   \n",
      "min         0.000000       0.000000       0.000000       0       0.000000   \n",
      "25%         0.000000       0.000000       0.000000       0       0.000000   \n",
      "50%         0.000000       0.000000       0.000000       0       0.000000   \n",
      "75%         0.000000       0.000000       0.000000       0       0.000000   \n",
      "max        13.089361       7.098376       5.602119       0       2.197225   \n",
      "\n",
      "                jobs     ave_income    residential  retail  office  industrial  \n",
      "count  190505.000000  190505.000000  190505.000000  190505  190505      190505  \n",
      "mean        0.133364       1.052671       3.586603       0       0           0  \n",
      "std         0.671143       3.282584      13.159219       0       0           0  \n",
      "min         0.000000       0.000000       0.000000       0       0           0  \n",
      "25%         0.000000       0.000000       0.000000       0       0           0  \n",
      "50%         0.000000       0.000000       0.000000       0       0           0  \n",
      "75%         0.000000       0.000000       0.000000       0       0           0  \n",
      "max         9.294222      13.538573     140.838791       0       0           0  \n",
      "count    190505.000000\n",
      "mean      95252.000000\n",
      "std       54994.200853\n",
      "min           0.000000\n",
      "25%       47626.000000\n",
      "50%       95252.000000\n",
      "75%      142878.000000\n",
      "max      190504.000000\n",
      "dtype: float64\n",
      "Time to execute step 'neighborhood_vars': 2.68 s\n",
      "Total time to execute iteration 1 with iteration value 2011: 2.68 s\n"
     ]
    }
   ],
   "source": [
    "orca.run([\"neighborhood_vars\", \n",
    "        ], iter_vars=[2011], data_out=utils.get_run_filename(), out_interval=1)"
   ]
  },
  {
   "cell_type": "code",
   "execution_count": 8,
   "metadata": {
    "collapsed": false
   },
   "outputs": [],
   "source": [
    "nodes=orca.get_table('nodes')\n",
    "nodes=nodes.to_frame()\n",
    "parcels=orca.get_table('parcels')\n",
    "parcels=parcels.to_frame().set_index('_node_id')"
   ]
  },
  {
   "cell_type": "code",
   "execution_count": 9,
   "metadata": {
    "collapsed": false
   },
   "outputs": [],
   "source": [
    "parcels=pd.merge(parcels, nodes, left_index=True, right_index=True, how='left')"
   ]
  },
  {
   "cell_type": "code",
   "execution_count": 10,
   "metadata": {
    "collapsed": false
   },
   "outputs": [
    {
     "data": {
      "text/plain": [
       "Index([u'zone_id', u'land_use_type_id', u'city_id', u'county_id',\n",
       "       u'large_area_id', u'parcel_sqft', u'tax_exempt_flag', u'sev_value',\n",
       "       u'centroid_x', u'centroid_y', u'census_block_id', u'pptytax',\n",
       "       u'total_job_spaces', u'total_sqft', u'land_cost', u'max_height',\n",
       "       u'acres', u'parcel_size', u'ave_unit_size', u'total_units', u'allowed',\n",
       "       u'y', u'x', u'max_far', u'sum_residential_units',\n",
       "       u'sum_nonresidential_units', u'ave_unit_sqft', u'ave_lot_sqft',\n",
       "       u'population', u'poor', u'sfdu', u'hhsize', u'jobs', u'ave_income',\n",
       "       u'residential', u'retail', u'office', u'industrial'],\n",
       "      dtype='object')"
      ]
     },
     "execution_count": 10,
     "metadata": {},
     "output_type": "execute_result"
    }
   ],
   "source": [
    "parcels.columns"
   ]
  },
  {
   "cell_type": "code",
   "execution_count": 11,
   "metadata": {
    "collapsed": false
   },
   "outputs": [
    {
     "data": {
      "text/html": [
       "<div>\n",
       "<table border=\"1\" class=\"dataframe\">\n",
       "  <thead>\n",
       "    <tr style=\"text-align: right;\">\n",
       "      <th></th>\n",
       "      <th>zone_id</th>\n",
       "      <th>land_use_type_id</th>\n",
       "      <th>city_id</th>\n",
       "      <th>county_id</th>\n",
       "      <th>large_area_id</th>\n",
       "      <th>parcel_sqft</th>\n",
       "      <th>tax_exempt_flag</th>\n",
       "      <th>sev_value</th>\n",
       "      <th>centroid_x</th>\n",
       "      <th>centroid_y</th>\n",
       "      <th>...</th>\n",
       "      <th>population</th>\n",
       "      <th>poor</th>\n",
       "      <th>sfdu</th>\n",
       "      <th>hhsize</th>\n",
       "      <th>jobs</th>\n",
       "      <th>ave_income</th>\n",
       "      <th>residential</th>\n",
       "      <th>retail</th>\n",
       "      <th>office</th>\n",
       "      <th>industrial</th>\n",
       "    </tr>\n",
       "  </thead>\n",
       "  <tbody>\n",
       "    <tr>\n",
       "      <th>0</th>\n",
       "      <td>716</td>\n",
       "      <td>20</td>\n",
       "      <td>1050</td>\n",
       "      <td>163</td>\n",
       "      <td>3</td>\n",
       "      <td>11960</td>\n",
       "      <td>0</td>\n",
       "      <td>2700</td>\n",
       "      <td>13405435.191674</td>\n",
       "      <td>300331.673626</td>\n",
       "      <td>...</td>\n",
       "      <td>5.050827</td>\n",
       "      <td>3.630115</td>\n",
       "      <td>0</td>\n",
       "      <td>1.331235</td>\n",
       "      <td>1.94591</td>\n",
       "      <td>11.20838</td>\n",
       "      <td>16.243071</td>\n",
       "      <td>0</td>\n",
       "      <td>0</td>\n",
       "      <td>0</td>\n",
       "    </tr>\n",
       "    <tr>\n",
       "      <th>0</th>\n",
       "      <td>716</td>\n",
       "      <td>20</td>\n",
       "      <td>1050</td>\n",
       "      <td>163</td>\n",
       "      <td>3</td>\n",
       "      <td>11951</td>\n",
       "      <td>0</td>\n",
       "      <td>2700</td>\n",
       "      <td>13405581.386504</td>\n",
       "      <td>300337.105946</td>\n",
       "      <td>...</td>\n",
       "      <td>5.050827</td>\n",
       "      <td>3.630115</td>\n",
       "      <td>0</td>\n",
       "      <td>1.331235</td>\n",
       "      <td>1.94591</td>\n",
       "      <td>11.20838</td>\n",
       "      <td>16.243071</td>\n",
       "      <td>0</td>\n",
       "      <td>0</td>\n",
       "      <td>0</td>\n",
       "    </tr>\n",
       "    <tr>\n",
       "      <th>0</th>\n",
       "      <td>716</td>\n",
       "      <td>11</td>\n",
       "      <td>1050</td>\n",
       "      <td>163</td>\n",
       "      <td>3</td>\n",
       "      <td>21331</td>\n",
       "      <td>0</td>\n",
       "      <td>60100</td>\n",
       "      <td>13405354.234717</td>\n",
       "      <td>300556.862649</td>\n",
       "      <td>...</td>\n",
       "      <td>5.050827</td>\n",
       "      <td>3.630115</td>\n",
       "      <td>0</td>\n",
       "      <td>1.331235</td>\n",
       "      <td>1.94591</td>\n",
       "      <td>11.20838</td>\n",
       "      <td>16.243071</td>\n",
       "      <td>0</td>\n",
       "      <td>0</td>\n",
       "      <td>0</td>\n",
       "    </tr>\n",
       "    <tr>\n",
       "      <th>0</th>\n",
       "      <td>717</td>\n",
       "      <td>11</td>\n",
       "      <td>1050</td>\n",
       "      <td>163</td>\n",
       "      <td>3</td>\n",
       "      <td>5001</td>\n",
       "      <td>0</td>\n",
       "      <td>24400</td>\n",
       "      <td>13405546.394753</td>\n",
       "      <td>299993.017415</td>\n",
       "      <td>...</td>\n",
       "      <td>5.050827</td>\n",
       "      <td>3.630115</td>\n",
       "      <td>0</td>\n",
       "      <td>1.331235</td>\n",
       "      <td>1.94591</td>\n",
       "      <td>11.20838</td>\n",
       "      <td>16.243071</td>\n",
       "      <td>0</td>\n",
       "      <td>0</td>\n",
       "      <td>0</td>\n",
       "    </tr>\n",
       "    <tr>\n",
       "      <th>0</th>\n",
       "      <td>717</td>\n",
       "      <td>11</td>\n",
       "      <td>1050</td>\n",
       "      <td>163</td>\n",
       "      <td>3</td>\n",
       "      <td>4168</td>\n",
       "      <td>0</td>\n",
       "      <td>28700</td>\n",
       "      <td>13405689.638160</td>\n",
       "      <td>299999.782111</td>\n",
       "      <td>...</td>\n",
       "      <td>5.050827</td>\n",
       "      <td>3.630115</td>\n",
       "      <td>0</td>\n",
       "      <td>1.331235</td>\n",
       "      <td>1.94591</td>\n",
       "      <td>11.20838</td>\n",
       "      <td>16.243071</td>\n",
       "      <td>0</td>\n",
       "      <td>0</td>\n",
       "      <td>0</td>\n",
       "    </tr>\n",
       "  </tbody>\n",
       "</table>\n",
       "<p>5 rows × 38 columns</p>\n",
       "</div>"
      ],
      "text/plain": [
       "   zone_id  land_use_type_id  city_id  county_id  large_area_id  parcel_sqft  \\\n",
       "0      716                20     1050        163              3        11960   \n",
       "0      716                20     1050        163              3        11951   \n",
       "0      716                11     1050        163              3        21331   \n",
       "0      717                11     1050        163              3         5001   \n",
       "0      717                11     1050        163              3         4168   \n",
       "\n",
       "   tax_exempt_flag  sev_value       centroid_x     centroid_y     ...      \\\n",
       "0                0       2700  13405435.191674  300331.673626     ...       \n",
       "0                0       2700  13405581.386504  300337.105946     ...       \n",
       "0                0      60100  13405354.234717  300556.862649     ...       \n",
       "0                0      24400  13405546.394753  299993.017415     ...       \n",
       "0                0      28700  13405689.638160  299999.782111     ...       \n",
       "\n",
       "  population      poor  sfdu    hhsize     jobs  ave_income  residential  \\\n",
       "0   5.050827  3.630115     0  1.331235  1.94591    11.20838    16.243071   \n",
       "0   5.050827  3.630115     0  1.331235  1.94591    11.20838    16.243071   \n",
       "0   5.050827  3.630115     0  1.331235  1.94591    11.20838    16.243071   \n",
       "0   5.050827  3.630115     0  1.331235  1.94591    11.20838    16.243071   \n",
       "0   5.050827  3.630115     0  1.331235  1.94591    11.20838    16.243071   \n",
       "\n",
       "   retail  office  industrial  \n",
       "0       0       0           0  \n",
       "0       0       0           0  \n",
       "0       0       0           0  \n",
       "0       0       0           0  \n",
       "0       0       0           0  \n",
       "\n",
       "[5 rows x 38 columns]"
      ]
     },
     "execution_count": 11,
     "metadata": {},
     "output_type": "execute_result"
    }
   ],
   "source": [
    "parcels.head()"
   ]
  },
  {
   "cell_type": "code",
   "execution_count": null,
   "metadata": {
    "collapsed": true
   },
   "outputs": [],
   "source": []
  },
  {
   "cell_type": "code",
   "execution_count": 12,
   "metadata": {
    "collapsed": false
   },
   "outputs": [
    {
     "name": "stdout",
     "output_type": "stream",
     "text": [
      "Running iteration 1 with iteration value 2011\n",
      "Running step 'price_vars'\n",
      "Computing accessibility variables\n",
      "Computing residential\n",
      "['sqft_price_res', '_node_id']\n",
      "Removed 453 rows because they contain missing values\n",
      "Computing retail\n",
      "['sqft_price_nonres', '_node_id', 'general_type']\n",
      "Computing office\n",
      "['sqft_price_nonres', '_node_id', 'general_type']\n",
      "Computing industrial\n",
      "['sqft_price_nonres', '_node_id', 'general_type']\n",
      "         residential  retail  office  industrial\n",
      "count  190505.000000  190505  190505      190505\n",
      "mean        3.586603       0       0           0\n",
      "std        13.159219       0       0           0\n",
      "min         0.000000       0       0           0\n",
      "25%         0.000000       0       0           0\n",
      "50%         0.000000       0       0           0\n",
      "75%         0.000000       0       0           0\n",
      "max       140.838791       0       0           0\n",
      "count    190505.000000\n",
      "mean      95252.000000\n",
      "std       54994.200853\n",
      "min           0.000000\n",
      "25%       47626.000000\n",
      "50%       95252.000000\n",
      "75%      142878.000000\n",
      "max      190504.000000\n",
      "dtype: float64\n",
      "Time to execute step 'price_vars': 1.66 s\n",
      "Total time to execute iteration 1 with iteration value 2011: 1.66 s\n"
     ]
    }
   ],
   "source": [
    "orca.run([\n",
    "#     \"clear_cache\",            # recompute variables every year\n",
    "#     \"neighborhood_vars\",      # neighborhood variables\n",
    "#     \"households_transition\",  # households transition\n",
    "#     \"households_relocation\",  # households relocation model\n",
    "#     \"jobs_transition\",        # jobs transition\n",
    "#     \"jobs_relocation\",        # jobs relocation model\n",
    "#     \"scheduled_development_events\",\n",
    "#     \"nrh_simulate\",           # non-residential rent hedonic\n",
    "#     \"rsh_simulate\",           # residential sales hedonic\n",
    "#     \"hlcm_simulate\",          # households location choice\n",
    "#     \"elcm_simulate\",          # employment location choice\n",
    "     \"price_vars\",             # compute average price measures\n",
    "#     \"feasibility\",            # compute development feasibility\n",
    "#     \"residential_developer\",   # build actual buildings,\n",
    "#     \"non_residential_developer\",   # build actual buildings\n",
    "#     \"government_jobs_scaling_model\",\n",
    "#     \"refiner\",\n",
    "#     \"gq_model\",\n",
    "#     \"travel_model\",\n",
    "], iter_vars=[2011], data_out=utils.get_run_filename(), out_interval=1)"
   ]
  },
  {
   "cell_type": "code",
   "execution_count": 18,
   "metadata": {
    "collapsed": false
   },
   "outputs": [
    {
     "data": {
      "text/plain": [
       "['travel_data',\n",
       " 'nodes_prices',\n",
       " 'tazcounts2015gq',\n",
       " 'zones',\n",
       " 'households',\n",
       " 'annual_employment_control_totals',\n",
       " 'annual_relocation_rates_for_households',\n",
       " 'nodes',\n",
       " 'buildings',\n",
       " 'jobs',\n",
       " 'tazcounts2030gq',\n",
       " 'tazcounts2040gq',\n",
       " 'persons',\n",
       " 'annual_household_control_totals',\n",
       " 'cities',\n",
       " 'annual_relocation_rates_for_jobs',\n",
       " 'tazcounts2035gq',\n",
       " 'tazcounts2020gq',\n",
       " 'tazcounts2025gq',\n",
       " 'scheduled_development_events',\n",
       " 'building_sqft_per_job',\n",
       " 'parcels']"
      ]
     },
     "execution_count": 18,
     "metadata": {},
     "output_type": "execute_result"
    }
   ],
   "source": [
    "orca.list_tables()"
   ]
  },
  {
   "cell_type": "code",
   "execution_count": 20,
   "metadata": {
    "collapsed": false
   },
   "outputs": [],
   "source": [
    "nodes_prices=orca.get_table(\"nodes_prices\").to_frame()"
   ]
  },
  {
   "cell_type": "code",
   "execution_count": 21,
   "metadata": {
    "collapsed": false
   },
   "outputs": [
    {
     "data": {
      "text/html": [
       "<div>\n",
       "<table border=\"1\" class=\"dataframe\">\n",
       "  <thead>\n",
       "    <tr style=\"text-align: right;\">\n",
       "      <th></th>\n",
       "      <th>residential</th>\n",
       "      <th>retail</th>\n",
       "      <th>office</th>\n",
       "      <th>industrial</th>\n",
       "    </tr>\n",
       "  </thead>\n",
       "  <tbody>\n",
       "    <tr>\n",
       "      <th>0</th>\n",
       "      <td>16.243071</td>\n",
       "      <td>0</td>\n",
       "      <td>0</td>\n",
       "      <td>0</td>\n",
       "    </tr>\n",
       "    <tr>\n",
       "      <th>1</th>\n",
       "      <td>0.000000</td>\n",
       "      <td>0</td>\n",
       "      <td>0</td>\n",
       "      <td>0</td>\n",
       "    </tr>\n",
       "    <tr>\n",
       "      <th>2</th>\n",
       "      <td>0.000000</td>\n",
       "      <td>0</td>\n",
       "      <td>0</td>\n",
       "      <td>0</td>\n",
       "    </tr>\n",
       "    <tr>\n",
       "      <th>3</th>\n",
       "      <td>0.000000</td>\n",
       "      <td>0</td>\n",
       "      <td>0</td>\n",
       "      <td>0</td>\n",
       "    </tr>\n",
       "    <tr>\n",
       "      <th>4</th>\n",
       "      <td>0.000000</td>\n",
       "      <td>0</td>\n",
       "      <td>0</td>\n",
       "      <td>0</td>\n",
       "    </tr>\n",
       "    <tr>\n",
       "      <th>5</th>\n",
       "      <td>0.000000</td>\n",
       "      <td>0</td>\n",
       "      <td>0</td>\n",
       "      <td>0</td>\n",
       "    </tr>\n",
       "    <tr>\n",
       "      <th>6</th>\n",
       "      <td>0.000000</td>\n",
       "      <td>0</td>\n",
       "      <td>0</td>\n",
       "      <td>0</td>\n",
       "    </tr>\n",
       "    <tr>\n",
       "      <th>7</th>\n",
       "      <td>23.032482</td>\n",
       "      <td>0</td>\n",
       "      <td>0</td>\n",
       "      <td>0</td>\n",
       "    </tr>\n",
       "    <tr>\n",
       "      <th>8</th>\n",
       "      <td>0.000000</td>\n",
       "      <td>0</td>\n",
       "      <td>0</td>\n",
       "      <td>0</td>\n",
       "    </tr>\n",
       "    <tr>\n",
       "      <th>9</th>\n",
       "      <td>0.000000</td>\n",
       "      <td>0</td>\n",
       "      <td>0</td>\n",
       "      <td>0</td>\n",
       "    </tr>\n",
       "    <tr>\n",
       "      <th>10</th>\n",
       "      <td>0.000000</td>\n",
       "      <td>0</td>\n",
       "      <td>0</td>\n",
       "      <td>0</td>\n",
       "    </tr>\n",
       "    <tr>\n",
       "      <th>11</th>\n",
       "      <td>0.000000</td>\n",
       "      <td>0</td>\n",
       "      <td>0</td>\n",
       "      <td>0</td>\n",
       "    </tr>\n",
       "    <tr>\n",
       "      <th>12</th>\n",
       "      <td>0.000000</td>\n",
       "      <td>0</td>\n",
       "      <td>0</td>\n",
       "      <td>0</td>\n",
       "    </tr>\n",
       "    <tr>\n",
       "      <th>13</th>\n",
       "      <td>0.000000</td>\n",
       "      <td>0</td>\n",
       "      <td>0</td>\n",
       "      <td>0</td>\n",
       "    </tr>\n",
       "    <tr>\n",
       "      <th>14</th>\n",
       "      <td>0.000000</td>\n",
       "      <td>0</td>\n",
       "      <td>0</td>\n",
       "      <td>0</td>\n",
       "    </tr>\n",
       "    <tr>\n",
       "      <th>15</th>\n",
       "      <td>0.000000</td>\n",
       "      <td>0</td>\n",
       "      <td>0</td>\n",
       "      <td>0</td>\n",
       "    </tr>\n",
       "    <tr>\n",
       "      <th>16</th>\n",
       "      <td>0.000000</td>\n",
       "      <td>0</td>\n",
       "      <td>0</td>\n",
       "      <td>0</td>\n",
       "    </tr>\n",
       "    <tr>\n",
       "      <th>17</th>\n",
       "      <td>0.000000</td>\n",
       "      <td>0</td>\n",
       "      <td>0</td>\n",
       "      <td>0</td>\n",
       "    </tr>\n",
       "    <tr>\n",
       "      <th>18</th>\n",
       "      <td>0.000000</td>\n",
       "      <td>0</td>\n",
       "      <td>0</td>\n",
       "      <td>0</td>\n",
       "    </tr>\n",
       "    <tr>\n",
       "      <th>19</th>\n",
       "      <td>0.000000</td>\n",
       "      <td>0</td>\n",
       "      <td>0</td>\n",
       "      <td>0</td>\n",
       "    </tr>\n",
       "    <tr>\n",
       "      <th>20</th>\n",
       "      <td>0.000000</td>\n",
       "      <td>0</td>\n",
       "      <td>0</td>\n",
       "      <td>0</td>\n",
       "    </tr>\n",
       "    <tr>\n",
       "      <th>21</th>\n",
       "      <td>18.639484</td>\n",
       "      <td>0</td>\n",
       "      <td>0</td>\n",
       "      <td>0</td>\n",
       "    </tr>\n",
       "    <tr>\n",
       "      <th>22</th>\n",
       "      <td>0.000000</td>\n",
       "      <td>0</td>\n",
       "      <td>0</td>\n",
       "      <td>0</td>\n",
       "    </tr>\n",
       "    <tr>\n",
       "      <th>23</th>\n",
       "      <td>0.000000</td>\n",
       "      <td>0</td>\n",
       "      <td>0</td>\n",
       "      <td>0</td>\n",
       "    </tr>\n",
       "    <tr>\n",
       "      <th>24</th>\n",
       "      <td>0.000000</td>\n",
       "      <td>0</td>\n",
       "      <td>0</td>\n",
       "      <td>0</td>\n",
       "    </tr>\n",
       "    <tr>\n",
       "      <th>25</th>\n",
       "      <td>0.000000</td>\n",
       "      <td>0</td>\n",
       "      <td>0</td>\n",
       "      <td>0</td>\n",
       "    </tr>\n",
       "    <tr>\n",
       "      <th>26</th>\n",
       "      <td>0.000000</td>\n",
       "      <td>0</td>\n",
       "      <td>0</td>\n",
       "      <td>0</td>\n",
       "    </tr>\n",
       "    <tr>\n",
       "      <th>27</th>\n",
       "      <td>0.000000</td>\n",
       "      <td>0</td>\n",
       "      <td>0</td>\n",
       "      <td>0</td>\n",
       "    </tr>\n",
       "    <tr>\n",
       "      <th>28</th>\n",
       "      <td>0.000000</td>\n",
       "      <td>0</td>\n",
       "      <td>0</td>\n",
       "      <td>0</td>\n",
       "    </tr>\n",
       "    <tr>\n",
       "      <th>29</th>\n",
       "      <td>0.000000</td>\n",
       "      <td>0</td>\n",
       "      <td>0</td>\n",
       "      <td>0</td>\n",
       "    </tr>\n",
       "    <tr>\n",
       "      <th>...</th>\n",
       "      <td>...</td>\n",
       "      <td>...</td>\n",
       "      <td>...</td>\n",
       "      <td>...</td>\n",
       "    </tr>\n",
       "    <tr>\n",
       "      <th>190475</th>\n",
       "      <td>0.000000</td>\n",
       "      <td>0</td>\n",
       "      <td>0</td>\n",
       "      <td>0</td>\n",
       "    </tr>\n",
       "    <tr>\n",
       "      <th>190476</th>\n",
       "      <td>0.000000</td>\n",
       "      <td>0</td>\n",
       "      <td>0</td>\n",
       "      <td>0</td>\n",
       "    </tr>\n",
       "    <tr>\n",
       "      <th>190477</th>\n",
       "      <td>0.000000</td>\n",
       "      <td>0</td>\n",
       "      <td>0</td>\n",
       "      <td>0</td>\n",
       "    </tr>\n",
       "    <tr>\n",
       "      <th>190478</th>\n",
       "      <td>0.000000</td>\n",
       "      <td>0</td>\n",
       "      <td>0</td>\n",
       "      <td>0</td>\n",
       "    </tr>\n",
       "    <tr>\n",
       "      <th>190479</th>\n",
       "      <td>16.663794</td>\n",
       "      <td>0</td>\n",
       "      <td>0</td>\n",
       "      <td>0</td>\n",
       "    </tr>\n",
       "    <tr>\n",
       "      <th>190480</th>\n",
       "      <td>0.000000</td>\n",
       "      <td>0</td>\n",
       "      <td>0</td>\n",
       "      <td>0</td>\n",
       "    </tr>\n",
       "    <tr>\n",
       "      <th>190481</th>\n",
       "      <td>12.350683</td>\n",
       "      <td>0</td>\n",
       "      <td>0</td>\n",
       "      <td>0</td>\n",
       "    </tr>\n",
       "    <tr>\n",
       "      <th>190482</th>\n",
       "      <td>0.000000</td>\n",
       "      <td>0</td>\n",
       "      <td>0</td>\n",
       "      <td>0</td>\n",
       "    </tr>\n",
       "    <tr>\n",
       "      <th>190483</th>\n",
       "      <td>0.000000</td>\n",
       "      <td>0</td>\n",
       "      <td>0</td>\n",
       "      <td>0</td>\n",
       "    </tr>\n",
       "    <tr>\n",
       "      <th>190484</th>\n",
       "      <td>0.000000</td>\n",
       "      <td>0</td>\n",
       "      <td>0</td>\n",
       "      <td>0</td>\n",
       "    </tr>\n",
       "    <tr>\n",
       "      <th>190485</th>\n",
       "      <td>0.000000</td>\n",
       "      <td>0</td>\n",
       "      <td>0</td>\n",
       "      <td>0</td>\n",
       "    </tr>\n",
       "    <tr>\n",
       "      <th>190486</th>\n",
       "      <td>0.000000</td>\n",
       "      <td>0</td>\n",
       "      <td>0</td>\n",
       "      <td>0</td>\n",
       "    </tr>\n",
       "    <tr>\n",
       "      <th>190487</th>\n",
       "      <td>0.000000</td>\n",
       "      <td>0</td>\n",
       "      <td>0</td>\n",
       "      <td>0</td>\n",
       "    </tr>\n",
       "    <tr>\n",
       "      <th>190488</th>\n",
       "      <td>0.000000</td>\n",
       "      <td>0</td>\n",
       "      <td>0</td>\n",
       "      <td>0</td>\n",
       "    </tr>\n",
       "    <tr>\n",
       "      <th>190489</th>\n",
       "      <td>0.000000</td>\n",
       "      <td>0</td>\n",
       "      <td>0</td>\n",
       "      <td>0</td>\n",
       "    </tr>\n",
       "    <tr>\n",
       "      <th>190490</th>\n",
       "      <td>0.000000</td>\n",
       "      <td>0</td>\n",
       "      <td>0</td>\n",
       "      <td>0</td>\n",
       "    </tr>\n",
       "    <tr>\n",
       "      <th>190491</th>\n",
       "      <td>13.458792</td>\n",
       "      <td>0</td>\n",
       "      <td>0</td>\n",
       "      <td>0</td>\n",
       "    </tr>\n",
       "    <tr>\n",
       "      <th>190492</th>\n",
       "      <td>0.000000</td>\n",
       "      <td>0</td>\n",
       "      <td>0</td>\n",
       "      <td>0</td>\n",
       "    </tr>\n",
       "    <tr>\n",
       "      <th>190493</th>\n",
       "      <td>14.977671</td>\n",
       "      <td>0</td>\n",
       "      <td>0</td>\n",
       "      <td>0</td>\n",
       "    </tr>\n",
       "    <tr>\n",
       "      <th>190494</th>\n",
       "      <td>0.000000</td>\n",
       "      <td>0</td>\n",
       "      <td>0</td>\n",
       "      <td>0</td>\n",
       "    </tr>\n",
       "    <tr>\n",
       "      <th>190495</th>\n",
       "      <td>0.000000</td>\n",
       "      <td>0</td>\n",
       "      <td>0</td>\n",
       "      <td>0</td>\n",
       "    </tr>\n",
       "    <tr>\n",
       "      <th>190496</th>\n",
       "      <td>0.000000</td>\n",
       "      <td>0</td>\n",
       "      <td>0</td>\n",
       "      <td>0</td>\n",
       "    </tr>\n",
       "    <tr>\n",
       "      <th>190497</th>\n",
       "      <td>0.000000</td>\n",
       "      <td>0</td>\n",
       "      <td>0</td>\n",
       "      <td>0</td>\n",
       "    </tr>\n",
       "    <tr>\n",
       "      <th>190498</th>\n",
       "      <td>0.000000</td>\n",
       "      <td>0</td>\n",
       "      <td>0</td>\n",
       "      <td>0</td>\n",
       "    </tr>\n",
       "    <tr>\n",
       "      <th>190499</th>\n",
       "      <td>0.000000</td>\n",
       "      <td>0</td>\n",
       "      <td>0</td>\n",
       "      <td>0</td>\n",
       "    </tr>\n",
       "    <tr>\n",
       "      <th>190500</th>\n",
       "      <td>0.000000</td>\n",
       "      <td>0</td>\n",
       "      <td>0</td>\n",
       "      <td>0</td>\n",
       "    </tr>\n",
       "    <tr>\n",
       "      <th>190501</th>\n",
       "      <td>0.000000</td>\n",
       "      <td>0</td>\n",
       "      <td>0</td>\n",
       "      <td>0</td>\n",
       "    </tr>\n",
       "    <tr>\n",
       "      <th>190502</th>\n",
       "      <td>0.000000</td>\n",
       "      <td>0</td>\n",
       "      <td>0</td>\n",
       "      <td>0</td>\n",
       "    </tr>\n",
       "    <tr>\n",
       "      <th>190503</th>\n",
       "      <td>0.000000</td>\n",
       "      <td>0</td>\n",
       "      <td>0</td>\n",
       "      <td>0</td>\n",
       "    </tr>\n",
       "    <tr>\n",
       "      <th>190504</th>\n",
       "      <td>0.000000</td>\n",
       "      <td>0</td>\n",
       "      <td>0</td>\n",
       "      <td>0</td>\n",
       "    </tr>\n",
       "  </tbody>\n",
       "</table>\n",
       "<p>190505 rows × 4 columns</p>\n",
       "</div>"
      ],
      "text/plain": [
       "        residential  retail  office  industrial\n",
       "0         16.243071       0       0           0\n",
       "1          0.000000       0       0           0\n",
       "2          0.000000       0       0           0\n",
       "3          0.000000       0       0           0\n",
       "4          0.000000       0       0           0\n",
       "5          0.000000       0       0           0\n",
       "6          0.000000       0       0           0\n",
       "7         23.032482       0       0           0\n",
       "8          0.000000       0       0           0\n",
       "9          0.000000       0       0           0\n",
       "10         0.000000       0       0           0\n",
       "11         0.000000       0       0           0\n",
       "12         0.000000       0       0           0\n",
       "13         0.000000       0       0           0\n",
       "14         0.000000       0       0           0\n",
       "15         0.000000       0       0           0\n",
       "16         0.000000       0       0           0\n",
       "17         0.000000       0       0           0\n",
       "18         0.000000       0       0           0\n",
       "19         0.000000       0       0           0\n",
       "20         0.000000       0       0           0\n",
       "21        18.639484       0       0           0\n",
       "22         0.000000       0       0           0\n",
       "23         0.000000       0       0           0\n",
       "24         0.000000       0       0           0\n",
       "25         0.000000       0       0           0\n",
       "26         0.000000       0       0           0\n",
       "27         0.000000       0       0           0\n",
       "28         0.000000       0       0           0\n",
       "29         0.000000       0       0           0\n",
       "...             ...     ...     ...         ...\n",
       "190475     0.000000       0       0           0\n",
       "190476     0.000000       0       0           0\n",
       "190477     0.000000       0       0           0\n",
       "190478     0.000000       0       0           0\n",
       "190479    16.663794       0       0           0\n",
       "190480     0.000000       0       0           0\n",
       "190481    12.350683       0       0           0\n",
       "190482     0.000000       0       0           0\n",
       "190483     0.000000       0       0           0\n",
       "190484     0.000000       0       0           0\n",
       "190485     0.000000       0       0           0\n",
       "190486     0.000000       0       0           0\n",
       "190487     0.000000       0       0           0\n",
       "190488     0.000000       0       0           0\n",
       "190489     0.000000       0       0           0\n",
       "190490     0.000000       0       0           0\n",
       "190491    13.458792       0       0           0\n",
       "190492     0.000000       0       0           0\n",
       "190493    14.977671       0       0           0\n",
       "190494     0.000000       0       0           0\n",
       "190495     0.000000       0       0           0\n",
       "190496     0.000000       0       0           0\n",
       "190497     0.000000       0       0           0\n",
       "190498     0.000000       0       0           0\n",
       "190499     0.000000       0       0           0\n",
       "190500     0.000000       0       0           0\n",
       "190501     0.000000       0       0           0\n",
       "190502     0.000000       0       0           0\n",
       "190503     0.000000       0       0           0\n",
       "190504     0.000000       0       0           0\n",
       "\n",
       "[190505 rows x 4 columns]"
      ]
     },
     "execution_count": 21,
     "metadata": {},
     "output_type": "execute_result"
    }
   ],
   "source": [
    "nodes_prices"
   ]
  },
  {
   "cell_type": "code",
   "execution_count": null,
   "metadata": {
    "collapsed": true
   },
   "outputs": [],
   "source": []
  },
  {
   "cell_type": "code",
   "execution_count": 14,
   "metadata": {
    "collapsed": false
   },
   "outputs": [
    {
     "data": {
      "text/plain": [
       "Index([u'zone_id', u'land_use_type_id', u'city_id', u'county_id',\n",
       "       u'large_area_id', u'parcel_sqft', u'tax_exempt_flag', u'sev_value',\n",
       "       u'centroid_x', u'centroid_y', u'census_block_id', u'pptytax',\n",
       "       u'total_job_spaces', u'total_sqft', u'land_cost', u'max_height',\n",
       "       u'acres', u'parcel_size', u'ave_unit_size', u'total_units', u'allowed',\n",
       "       u'y', u'x', u'max_far'],\n",
       "      dtype='object')"
      ]
     },
     "execution_count": 14,
     "metadata": {},
     "output_type": "execute_result"
    }
   ],
   "source": [
    "parcels.columns"
   ]
  },
  {
   "cell_type": "code",
   "execution_count": 15,
   "metadata": {
    "collapsed": true
   },
   "outputs": [],
   "source": [
    "nodes=orca.get_table('nodes')\n",
    "nodes=nodes.to_frame()"
   ]
  },
  {
   "cell_type": "code",
   "execution_count": 16,
   "metadata": {
    "collapsed": false
   },
   "outputs": [
    {
     "data": {
      "text/plain": [
       "Index([u'sum_residential_units', u'sum_nonresidential_units', u'ave_unit_sqft',\n",
       "       u'ave_lot_sqft', u'population', u'poor', u'sfdu', u'hhsize', u'jobs',\n",
       "       u'ave_income', u'residential', u'retail', u'office', u'industrial'],\n",
       "      dtype='object')"
      ]
     },
     "execution_count": 16,
     "metadata": {},
     "output_type": "execute_result"
    }
   ],
   "source": [
    "nodes.columns"
   ]
  },
  {
   "cell_type": "code",
   "execution_count": null,
   "metadata": {
    "collapsed": true
   },
   "outputs": [],
   "source": []
  },
  {
   "cell_type": "code",
   "execution_count": null,
   "metadata": {
    "collapsed": true
   },
   "outputs": [],
   "source": []
  },
  {
   "cell_type": "code",
   "execution_count": null,
   "metadata": {
    "collapsed": true
   },
   "outputs": [],
   "source": []
  },
  {
   "cell_type": "code",
   "execution_count": null,
   "metadata": {
    "collapsed": true
   },
   "outputs": [],
   "source": []
  },
  {
   "cell_type": "code",
   "execution_count": null,
   "metadata": {
    "collapsed": true
   },
   "outputs": [],
   "source": []
  },
  {
   "cell_type": "code",
   "execution_count": null,
   "metadata": {
    "collapsed": true
   },
   "outputs": [],
   "source": []
  },
  {
   "cell_type": "code",
   "execution_count": null,
   "metadata": {
    "collapsed": true
   },
   "outputs": [],
   "source": [
    "import pandas as pd"
   ]
  },
  {
   "cell_type": "code",
   "execution_count": null,
   "metadata": {
    "collapsed": false
   },
   "outputs": [],
   "source": [
    "hf=pd.HDFStore('./data/alderaan_semcog_data_fix.h5')"
   ]
  },
  {
   "cell_type": "code",
   "execution_count": null,
   "metadata": {
    "collapsed": false
   },
   "outputs": [],
   "source": [
    "hf['/zoning']['future_use'].unique()"
   ]
  },
  {
   "cell_type": "code",
   "execution_count": null,
   "metadata": {
    "collapsed": false
   },
   "outputs": [],
   "source": [
    "for item in hf.keys():\n",
    "    print item, hf[item].shape"
   ]
  },
  {
   "cell_type": "code",
   "execution_count": null,
   "metadata": {
    "collapsed": false
   },
   "outputs": [],
   "source": [
    "hf['/parcels']['large_area_id']"
   ]
  },
  {
   "cell_type": "code",
   "execution_count": null,
   "metadata": {
    "collapsed": false
   },
   "outputs": [],
   "source": [
    "af=hf['/buildings']"
   ]
  },
  {
   "cell_type": "code",
   "execution_count": null,
   "metadata": {
    "collapsed": true
   },
   "outputs": [],
   "source": [
    "af['improvement_value']=af['tax']"
   ]
  },
  {
   "cell_type": "code",
   "execution_count": null,
   "metadata": {
    "collapsed": false
   },
   "outputs": [],
   "source": [
    "#del af['tax']"
   ]
  },
  {
   "cell_type": "code",
   "execution_count": null,
   "metadata": {
    "collapsed": false
   },
   "outputs": [],
   "source": [
    "af.head()"
   ]
  },
  {
   "cell_type": "code",
   "execution_count": null,
   "metadata": {
    "collapsed": false
   },
   "outputs": [],
   "source": [
    "hf['/buildings']=af"
   ]
  },
  {
   "cell_type": "code",
   "execution_count": null,
   "metadata": {
    "collapsed": true
   },
   "outputs": [],
   "source": [
    "hf.close()"
   ]
  },
  {
   "cell_type": "code",
   "execution_count": null,
   "metadata": {
    "collapsed": true
   },
   "outputs": [],
   "source": []
  }
 ],
 "metadata": {
  "kernelspec": {
   "display_name": "Python 2",
   "language": "python",
   "name": "python2"
  },
  "language_info": {
   "codemirror_mode": {
    "name": "ipython",
    "version": 2
   },
   "file_extension": ".py",
   "mimetype": "text/x-python",
   "name": "python",
   "nbconvert_exporter": "python",
   "pygments_lexer": "ipython2",
   "version": "2.7.11"
  }
 },
 "nbformat": 4,
 "nbformat_minor": 0
}
