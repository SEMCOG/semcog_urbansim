{
 "cells": [
  {
   "cell_type": "code",
   "execution_count": null,
   "metadata": {
    "collapsed": false,
    "scrolled": true
   },
   "outputs": [],
   "source": [
    "%matplotlib inline\n",
    "%load_ext  autoreload\n",
    "%autoreload 2\n",
    "\n",
    "import models, utils\n",
    "import orca\n",
    "import pandas as pd\n",
    "from urbansim.utils import misc, networks"
   ]
  },
  {
   "cell_type": "code",
   "execution_count": null,
   "metadata": {
    "collapsed": false
   },
   "outputs": [],
   "source": [
    "orca.run(['build_networks'])"
   ]
  },
  {
   "cell_type": "code",
   "execution_count": null,
   "metadata": {
    "collapsed": false
   },
   "outputs": [],
   "source": [
    "# orca.run([\"neighborhood_vars\", \n",
    "#         ], iter_vars=[2011], data_out=utils.get_run_filename(), out_interval=1)"
   ]
  },
  {
   "cell_type": "code",
   "execution_count": null,
   "metadata": {
    "collapsed": false
   },
   "outputs": [],
   "source": [
    "#nodes=orca.get_table('nodes')\n",
    "#nodes=nodes.to_frame()\n",
    "#parcels=orca.get_table('parcels')\n",
    "#parcels=parcels.to_frame().set_index('_node_id')"
   ]
  },
  {
   "cell_type": "code",
   "execution_count": null,
   "metadata": {
    "collapsed": false
   },
   "outputs": [],
   "source": [
    "#parcels=orca.get_table('parcels')\n",
    "#parcels=parcels.to_frame().set_index('_node_id')\n",
    "#parcels=pd.merge(parcels, nodes, left_index=True, right_index=True, how='left')\n",
    "#parcels.columns"
   ]
  },
  {
   "cell_type": "code",
   "execution_count": null,
   "metadata": {
    "collapsed": false
   },
   "outputs": [],
   "source": [
    "#for gentype in ['residential1','residential2','retail', 'office', 'industrial','medical']:\n",
    "#    pp=parcels[parcels[gentype]>0]\n",
    "#    print gentype\n",
    "#    #pp[gentype].plot(kind='hist',bins=20)\n",
    "#    print pp[gentype].value_counts(sort=False,ascending=True, bins=20)"
   ]
  },
  {
   "cell_type": "code",
   "execution_count": null,
   "metadata": {
    "collapsed": false
   },
   "outputs": [],
   "source": [
    "#nn=nodes[nodes.residential2>0]\n",
    "#nn.residential2.plot(kind='hist',bins=20)\n",
    "#nn.residential2.value_counts(sort=False,ascending=True, bins=20)"
   ]
  },
  {
   "cell_type": "code",
   "execution_count": null,
   "metadata": {
    "collapsed": false
   },
   "outputs": [],
   "source": [
    "#pp=parcels[parcels.residential1>0]\n",
    "#pp.residential1.plot(kind='hist',bins=20)\n",
    "#pp.residential1.value_counts(sort=False,ascending=True, bins=20)"
   ]
  },
  {
   "cell_type": "code",
   "execution_count": null,
   "metadata": {
    "collapsed": false
   },
   "outputs": [],
   "source": [
    "#nodes.columns"
   ]
  },
  {
   "cell_type": "code",
   "execution_count": null,
   "metadata": {
    "collapsed": false
   },
   "outputs": [],
   "source": [
    "#parcels=orca.get_table('parcels')\n",
    "#parcels=parcels.to_frame().set_index('_node_id')\n",
    "#parcels=pd.merge(parcels, nodes, left_index=True, right_index=True, how='left')\n",
    "#parcels.columns"
   ]
  },
  {
   "cell_type": "code",
   "execution_count": null,
   "metadata": {
    "collapsed": false,
    "scrolled": true
   },
   "outputs": [],
   "source": [
    "orca.run([\n",
    "        \n",
    "#     \"clear_cache\",            # recompute variables every year\n",
    "     \"neighborhood_vars\",      # neighborhood variables\n",
    "#     \"households_transition\",  # households transition\n",
    "#     \"households_relocation\",  # households relocation model\n",
    "#     \"jobs_transition\",        # jobs transition\n",
    "#     \"jobs_relocation\",        # jobs relocation model\n",
    "#     \"scheduled_development_events\",\n",
    "#     \"nrh_simulate\",           # non-residential rent hedonic\n",
    "#     \"rsh_simulate\",           # residential sales hedonic\n",
    "#     \"hlcm_simulate\",          # households location choice\n",
    "#     \"elcm_simulate\",          # employment location choice\n",
    "     \"price_vars\",             # compute average price measures\n",
    "     \"feasibility\",            # compute development feasibility\n",
    "     \"residential_developer\",   # build actual buildings,\n",
    "#     \"non_residential_developer\",   # build actual buildings\n",
    "#     \"government_jobs_scaling_model\",\n",
    "#     \"refiner\",\n",
    "#     \"gq_model\",\n",
    "#     \"travel_model\",\n",
    "], iter_vars=range(2016, 2017), data_out=utils.get_run_filename(), out_interval=1)"
   ]
  },
  {
   "cell_type": "code",
   "execution_count": null,
   "metadata": {
    "collapsed": false
   },
   "outputs": [],
   "source": [
    "bb=orca.get_table('buildings').to_frame()"
   ]
  },
  {
   "cell_type": "code",
   "execution_count": null,
   "metadata": {
    "collapsed": false
   },
   "outputs": [],
   "source": [
    "bb.columns"
   ]
  },
  {
   "cell_type": "code",
   "execution_count": null,
   "metadata": {
    "collapsed": false
   },
   "outputs": [],
   "source": [
    "nb=bb[bb.year_built>2015]"
   ]
  },
  {
   "cell_type": "code",
   "execution_count": null,
   "metadata": {
    "collapsed": true
   },
   "outputs": [],
   "source": [
    "parcels=orca.get_table('parcels').to_frame()"
   ]
  },
  {
   "cell_type": "code",
   "execution_count": null,
   "metadata": {
    "collapsed": false
   },
   "outputs": [],
   "source": [
    "newblg=pd.merge(nb,parcels, left_on='parcel_id', right_index=True, how='left')"
   ]
  },
  {
   "cell_type": "code",
   "execution_count": null,
   "metadata": {
    "collapsed": false
   },
   "outputs": [],
   "source": [
    "newblg.columns.values"
   ]
  },
  {
   "cell_type": "code",
   "execution_count": null,
   "metadata": {
    "collapsed": false
   },
   "outputs": [],
   "source": [
    "newblg.groupby(['year_built', 'city_id_y']).residential_units.sum()"
   ]
  },
  {
   "cell_type": "code",
   "execution_count": null,
   "metadata": {
    "collapsed": false
   },
   "outputs": [],
   "source": [
    "newblg[newblg.sev_value != 0].groupby(['year_built', 'city_id_y']).sev_value.mean()"
   ]
  },
  {
   "cell_type": "code",
   "execution_count": null,
   "metadata": {
    "collapsed": false
   },
   "outputs": [],
   "source": [
    "newblg.sev_value.plot(kind='hist', bins=100, range=[0, 5e5])"
   ]
  },
  {
   "cell_type": "code",
   "execution_count": null,
   "metadata": {
    "collapsed": true
   },
   "outputs": [],
   "source": [
    "newblg.to_csv('newbuildings.csv')"
   ]
  },
  {
   "cell_type": "code",
   "execution_count": null,
   "metadata": {
    "collapsed": true
   },
   "outputs": [],
   "source": [
    ""
   ]
  },
  {
   "cell_type": "code",
   "execution_count": null,
   "metadata": {
    "collapsed": false
   },
   "outputs": [],
   "source": [
    "bb.columns"
   ]
  },
  {
   "cell_type": "code",
   "execution_count": null,
   "metadata": {
    "collapsed": false
   },
   "outputs": [],
   "source": [
    "bb[bb.building_type_id == 81].improvement_value.plot(kind='hist', bins=100, range=[0, 1e6])"
   ]
  },
  {
   "cell_type": "code",
   "execution_count": null,
   "metadata": {
    "collapsed": false
   },
   "outputs": [],
   "source": [
    "lmhouse = bb[(bb.building_type_id == 81) & (bb.improvement_value < 1e5) & (bb.improvement_value > 100)]"
   ]
  },
  {
   "cell_type": "code",
   "execution_count": null,
   "metadata": {
    "collapsed": false
   },
   "outputs": [],
   "source": [
    "(lmhouse.improvement_value / lmhouse.building_sqft).plot(kind='hist', bins=100)"
   ]
  },
  {
   "cell_type": "code",
   "execution_count": null,
   "metadata": {
    "collapsed": false
   },
   "outputs": [],
   "source": [
    "lmhouse.year_built.plot(kind='hist', bins=100, range=[1920, 2010])"
   ]
  },
  {
   "cell_type": "code",
   "execution_count": null,
   "metadata": {
    "collapsed": false
   },
   "outputs": [],
   "source": [
    "bb[(bb.building_type_id == 81) & (bb.year_built > 1850) & (bb.improvement_value < 1.5e6)].plot(\"year_built\", \"improvement_value\", \"scatter\")"
   ]
  },
  {
   "cell_type": "code",
   "execution_count": null,
   "metadata": {
    "collapsed": false
   },
   "outputs": [],
   "source": [
    "bb[(bb.building_type_id == 81) & (bb.year_built > 1930) & (bb.year_built < 1980) & (bb.improvement_value < .15e6)].plot(\"year_built\", \"improvement_value\", \"hexbin\")"
   ]
  },
  {
   "cell_type": "code",
   "execution_count": null,
   "metadata": {
    "collapsed": false
   },
   "outputs": [],
   "source": [
    "bb[(bb.building_type_id.isin([80, 81, 82, 83, 84])) & (bb.improvement_value > 0)].groupby(\"city_id\").improvement_value.mean()"
   ]
  },
  {
   "cell_type": "code",
   "execution_count": null,
   "metadata": {
    "collapsed": false
   },
   "outputs": [],
   "source": [
    "bb[(bb.building_type_id.isin([80, 81, 82, 83, 84])) & (bb.improvement_value > 0)].groupby(\"city_id\").improvement_value.median()"
   ]
  },
  {
   "cell_type": "code",
   "execution_count": null,
   "metadata": {
    "collapsed": false
   },
   "outputs": [],
   "source": [
    "cities = orca.get_table(\"cities\").to_frame()"
   ]
  },
  {
   "cell_type": "code",
   "execution_count": null,
   "metadata": {
    "collapsed": false
   },
   "outputs": [],
   "source": [
    "cities.columns"
   ]
  },
  {
   "cell_type": "code",
   "execution_count": null,
   "metadata": {
    "collapsed": false
   },
   "outputs": [],
   "source": [
    "cities.loc[bb.groupby(\"city_id\").improvement_value.mean().index]"
   ]
  },
  {
   "cell_type": "code",
   "execution_count": null,
   "metadata": {
    "collapsed": true
   },
   "outputs": [],
   "source": [
    ""
   ]
  },
  {
   "cell_type": "code",
   "execution_count": null,
   "metadata": {
    "collapsed": true
   },
   "outputs": [],
   "source": [
    ""
   ]
  },
  {
   "cell_type": "markdown",
   "metadata": {},
   "source": [
    "# basic output tables "
   ]
  },
  {
   "cell_type": "code",
   "execution_count": null,
   "metadata": {
    "collapsed": false
   },
   "outputs": [],
   "source": [
    "#nodes\n",
    "nodes = orca.get_table('nodes').to_frame()\n",
    "nodes.columns"
   ]
  },
  {
   "cell_type": "code",
   "execution_count": null,
   "metadata": {
    "collapsed": false
   },
   "outputs": [],
   "source": [
    "nodes.columns"
   ]
  },
  {
   "cell_type": "code",
   "execution_count": null,
   "metadata": {
    "collapsed": false
   },
   "outputs": [],
   "source": [
    "#nodes[['new_far','sum_total_sqft','sum_parcel_size']]"
   ]
  },
  {
   "cell_type": "code",
   "execution_count": null,
   "metadata": {
    "collapsed": false
   },
   "outputs": [],
   "source": [
    "#feasibility\n",
    "feasi=orca.get_table('feasibility')\n",
    "#feasi.columns"
   ]
  },
  {
   "cell_type": "code",
   "execution_count": null,
   "metadata": {
    "collapsed": false
   },
   "outputs": [],
   "source": [
    "#parcels\n",
    "parcels = orca.get_table('parcels').to_frame()\n",
    "parcels.columns"
   ]
  },
  {
   "cell_type": "code",
   "execution_count": null,
   "metadata": {
    "collapsed": false
   },
   "outputs": [],
   "source": [
    "parcels.land_use_type_id.unique()"
   ]
  },
  {
   "cell_type": "code",
   "execution_count": null,
   "metadata": {
    "collapsed": false
   },
   "outputs": [],
   "source": [
    "orca.list_tables()"
   ]
  },
  {
   "cell_type": "code",
   "execution_count": null,
   "metadata": {
    "collapsed": false
   },
   "outputs": [],
   "source": [
    "#buildings\n",
    "buildings = orca.get_table('buildings').to_frame()\n",
    "buildings.columns"
   ]
  },
  {
   "cell_type": "code",
   "execution_count": null,
   "metadata": {
    "collapsed": true
   },
   "outputs": [],
   "source": [
    "#new buildings\n",
    "newbldgs=pd.read_csv(\"new_buildings.csv\")\n",
    "#newbldgs=buildings[buildings.year_built==2016]\n",
    "#newbldgs"
   ]
  },
  {
   "cell_type": "code",
   "execution_count": null,
   "metadata": {
    "collapsed": true
   },
   "outputs": [],
   "source": [
    "# zoning\n",
    "zoning = orca.get_table('zoning').to_frame()\n",
    "zoning.columns"
   ]
  },
  {
   "cell_type": "code",
   "execution_count": null,
   "metadata": {
    "collapsed": false
   },
   "outputs": [],
   "source": [
    "lone_house = orca.get_injectable('lone_house').to_frame()\n",
    "#lone_house"
   ]
  },
  {
   "cell_type": "code",
   "execution_count": null,
   "metadata": {
    "collapsed": true
   },
   "outputs": [],
   "source": [
    "pcllone=pd.merge(parcels, lone_house, left_index=True, right_index=True, how='left')"
   ]
  },
  {
   "cell_type": "code",
   "execution_count": null,
   "metadata": {
    "collapsed": true
   },
   "outputs": [],
   "source": [
    "pcllone.to_csv(\"parcel_lone_house.csv\")"
   ]
  },
  {
   "cell_type": "markdown",
   "metadata": {},
   "source": [
    "# Join network based indicators to ..."
   ]
  },
  {
   "cell_type": "code",
   "execution_count": null,
   "metadata": {
    "collapsed": true
   },
   "outputs": [],
   "source": [
    "# to parcels\n",
    "pclnode=pd.merge(parcels, nodes, left_on=\"_node_id\", right_index=True, how='left')\n",
    "#pclnode.to_csv('parcel_nodes.csv')"
   ]
  },
  {
   "cell_type": "code",
   "execution_count": null,
   "metadata": {
    "collapsed": true
   },
   "outputs": [],
   "source": [
    "pclnode.to_csv('parcel_nodes_lu_far.csv')"
   ]
  },
  {
   "cell_type": "code",
   "execution_count": null,
   "metadata": {
    "collapsed": false
   },
   "outputs": [],
   "source": [
    "# to buildings\n",
    "bldnode=pd.merge(buildings, pclnode, left_on='parcel_id', right_index=True, how='left')"
   ]
  },
  {
   "cell_type": "code",
   "execution_count": null,
   "metadata": {
    "collapsed": false
   },
   "outputs": [],
   "source": [
    "# to new buildings\n",
    "newbnode=pd.merge(newbldgs, pclnode, left_on='parcel_id', right_index=True, how='left')"
   ]
  },
  {
   "cell_type": "code",
   "execution_count": null,
   "metadata": {
    "collapsed": true
   },
   "outputs": [],
   "source": [
    "pclnode['far1']=pclnode.total_sqft/pclnode.parcel_size"
   ]
  },
  {
   "cell_type": "code",
   "execution_count": null,
   "metadata": {
    "collapsed": false
   },
   "outputs": [],
   "source": [
    "pclnode.columns"
   ]
  },
  {
   "cell_type": "code",
   "execution_count": null,
   "metadata": {
    "collapsed": false
   },
   "outputs": [],
   "source": [
    "pclnode[['new_far','max_far','parcel_size','total_sqft']].head()"
   ]
  },
  {
   "cell_type": "code",
   "execution_count": null,
   "metadata": {
    "collapsed": false
   },
   "outputs": [],
   "source": [
    "pclnode[pclnode['new_far']>pclnode['max_far']]"
   ]
  },
  {
   "cell_type": "code",
   "execution_count": null,
   "metadata": {
    "collapsed": false,
    "scrolled": true
   },
   "outputs": [],
   "source": [
    "pclnode[pclnode['new_far']<(pclnode['far1']-0.01)][['new_far','far1','_node_id']]"
   ]
  },
  {
   "cell_type": "code",
   "execution_count": null,
   "metadata": {
    "collapsed": false,
    "scrolled": true
   },
   "outputs": [],
   "source": [
    "pclnode[pclnode['new_parcel_size']<pclnode['parcel_size']][['new_parcel_size','parcel_size']]"
   ]
  },
  {
   "cell_type": "code",
   "execution_count": null,
   "metadata": {
    "collapsed": false
   },
   "outputs": [],
   "source": [
    "pclnode[(pclnode['new_pct_undev'])<pclnode['pct_undev']][['new_pct_undev','pct_undev']]"
   ]
  },
  {
   "cell_type": "markdown",
   "metadata": {},
   "source": [
    "# analysis"
   ]
  },
  {
   "cell_type": "code",
   "execution_count": null,
   "metadata": {
    "collapsed": false
   },
   "outputs": [],
   "source": [
    "#recent buildings correlates to \n",
    "bldrecent=bldnode[(bldnode.year_built>2011) & (bldnode.sqft_per_unit>0)]\n",
    "bldrecent.shape\n",
    "cort=bldrecent.corr()"
   ]
  },
  {
   "cell_type": "code",
   "execution_count": null,
   "metadata": {
    "collapsed": false
   },
   "outputs": [],
   "source": [
    "# sqft_per_unit\n",
    "#cort['sqft_per_unit']\n",
    "#bldrecent.plot(x='sqft_per_unit', y='ave_unit_sqft')"
   ]
  },
  {
   "cell_type": "code",
   "execution_count": null,
   "metadata": {
    "collapsed": false
   },
   "outputs": [],
   "source": [
    "# select parcels\n",
    "parcels.loc[1012389]"
   ]
  },
  {
   "cell_type": "code",
   "execution_count": null,
   "metadata": {
    "collapsed": true
   },
   "outputs": [],
   "source": [
    "# office use values counts\n",
    "npp.office.value_counts(sort=True,bins=50)"
   ]
  },
  {
   "cell_type": "code",
   "execution_count": null,
   "metadata": {
    "collapsed": false
   },
   "outputs": [],
   "source": [
    "#histogram for office prices based on network module\n",
    "npp=nodes_prices[nodes_prices.medical>0]\n",
    "npp.medical1k.plot(kind='hist',bins=200)"
   ]
  },
  {
   "cell_type": "code",
   "execution_count": null,
   "metadata": {
    "collapsed": false
   },
   "outputs": [],
   "source": [
    "#histogram for office prices based on network module\n",
    "npp=nodes_prices[nodes_prices.office1k>0]\n",
    "npp.office1k.plot(kind='hist',bins=200)"
   ]
  },
  {
   "cell_type": "code",
   "execution_count": null,
   "metadata": {
    "collapsed": false
   },
   "outputs": [],
   "source": [
    "pp=parcels[parcels.land_use_type_id==11  ]\n",
    "pp.parcel_sqft.plot(kind='hist',bins=40, range=[0, 100000])\n",
    "pp.parcel_sqft.value_counts(sort=True,bins=50)"
   ]
  },
  {
   "cell_type": "code",
   "execution_count": null,
   "metadata": {
    "collapsed": false
   },
   "outputs": [],
   "source": [
    "pd.unique(parcels.land_use_type_id)"
   ]
  },
  {
   "cell_type": "code",
   "execution_count": null,
   "metadata": {
    "collapsed": true
   },
   "outputs": [],
   "source": [
    "ps=buildings[(buildings.building_type_id == 81) & (buildings.residential_units == 1)].groupby(by=\"parcel_id\").building_type_id.count() == 1"
   ]
  },
  {
   "cell_type": "code",
   "execution_count": null,
   "metadata": {
    "collapsed": false
   },
   "outputs": [],
   "source": [
    "parcels.head()"
   ]
  },
  {
   "cell_type": "code",
   "execution_count": null,
   "metadata": {
    "collapsed": true
   },
   "outputs": [],
   "source": [
    ""
   ]
  },
  {
   "cell_type": "markdown",
   "metadata": {
    "collapsed": true
   },
   "source": [
    "# fix hdf5 data"
   ]
  },
  {
   "cell_type": "code",
   "execution_count": null,
   "metadata": {
    "collapsed": true
   },
   "outputs": [],
   "source": [
    "import numpy as np\n",
    "import pandas as pd"
   ]
  },
  {
   "cell_type": "code",
   "execution_count": null,
   "metadata": {
    "collapsed": false
   },
   "outputs": [],
   "source": [
    "hf=pd.HDFStore('./data/alderaan_semcog_data_fix.h5')"
   ]
  },
  {
   "cell_type": "code",
   "execution_count": null,
   "metadata": {
    "collapsed": false
   },
   "outputs": [],
   "source": [
    "hf"
   ]
  },
  {
   "cell_type": "code",
   "execution_count": null,
   "metadata": {
    "collapsed": false
   },
   "outputs": [],
   "source": [
    "hf[\"buildings\"] = hf[\"buildings\"][hf[\"buildings\"][\"building_type_id\"].notnull()]\n",
    "hf[\"buildings\"] = hf[\"buildings\"][hf[\"buildings\"][\"improvement_value\"].notnull()]"
   ]
  },
  {
   "cell_type": "code",
   "execution_count": null,
   "metadata": {
    "collapsed": false
   },
   "outputs": [],
   "source": [
    "lacal = hf[\"buildings\"]\n",
    "for c in lacal.columns:\n",
    "    print c, lacal[c].dtype\n",
    "    if lacal[c].dtype == np.float64:\n",
    "        lacal[c] = lacal[c].astype(np.int32)\n",
    "del hf[\"buildings\"]\n",
    "hf[\"buildings\"] = lacal"
   ]
  },
  {
   "cell_type": "code",
   "execution_count": null,
   "metadata": {
    "collapsed": false
   },
   "outputs": [],
   "source": [
    "hf['/zoning']['future_use'].unique()"
   ]
  },
  {
   "cell_type": "code",
   "execution_count": null,
   "metadata": {
    "collapsed": false
   },
   "outputs": [],
   "source": [
    "for item in hf.keys():\n",
    "    print item, hf[item].shape"
   ]
  },
  {
   "cell_type": "code",
   "execution_count": null,
   "metadata": {
    "collapsed": true
   },
   "outputs": [],
   "source": [
    "b=hf['/buildings']"
   ]
  },
  {
   "cell_type": "code",
   "execution_count": null,
   "metadata": {
    "collapsed": false
   },
   "outputs": [],
   "source": [
    "del b['owner_units']"
   ]
  },
  {
   "cell_type": "code",
   "execution_count": null,
   "metadata": {
    "collapsed": false
   },
   "outputs": [],
   "source": [
    "hf['/buildings']=b"
   ]
  },
  {
   "cell_type": "code",
   "execution_count": null,
   "metadata": {
    "collapsed": false
   },
   "outputs": [],
   "source": [
    "af=hf['/zoning']"
   ]
  },
  {
   "cell_type": "code",
   "execution_count": null,
   "metadata": {
    "collapsed": true
   },
   "outputs": [],
   "source": [
    "af['max_far'] = af['max_far']/100.0"
   ]
  },
  {
   "cell_type": "code",
   "execution_count": null,
   "metadata": {
    "collapsed": false
   },
   "outputs": [],
   "source": [
    "af.head()"
   ]
  },
  {
   "cell_type": "code",
   "execution_count": null,
   "metadata": {
    "collapsed": false
   },
   "outputs": [],
   "source": [
    "hf['/buildings']=af"
   ]
  },
  {
   "cell_type": "code",
   "execution_count": null,
   "metadata": {
    "collapsed": false
   },
   "outputs": [],
   "source": [
    "af.head()"
   ]
  },
  {
   "cell_type": "code",
   "execution_count": null,
   "metadata": {
    "collapsed": false
   },
   "outputs": [],
   "source": [
    "hf['/zoning']=af"
   ]
  },
  {
   "cell_type": "code",
   "execution_count": null,
   "metadata": {
    "collapsed": true
   },
   "outputs": [],
   "source": [
    "hf.close()"
   ]
  },
  {
   "cell_type": "code",
   "execution_count": null,
   "metadata": {
    "collapsed": false
   },
   "outputs": [],
   "source": [
    "# for t in hf.keys():\n",
    "#     df = hf[t]\n",
    "#     print \n",
    "#     print t\n",
    "#     print df.describe()\n",
    "    \n",
    "# building_types\n",
    "# land_use_types\n",
    "\n",
    "hf[\"building_types\"]"
   ]
  },
  {
   "cell_type": "code",
   "execution_count": null,
   "metadata": {
    "collapsed": true
   },
   "outputs": [],
   "source": [
    ""
   ]
  }
 ],
 "metadata": {
  "kernelspec": {
   "display_name": "Python [Root]",
   "language": "python",
   "name": "Python [Root]"
  },
  "language_info": {
   "codemirror_mode": {
    "name": "ipython",
    "version": 2.0
   },
   "file_extension": ".py",
   "mimetype": "text/x-python",
   "name": "python",
   "nbconvert_exporter": "python",
   "pygments_lexer": "ipython2",
   "version": "2.7.12"
  }
 },
 "nbformat": 4,
 "nbformat_minor": 0
}