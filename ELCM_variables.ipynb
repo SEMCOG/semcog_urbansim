{
 "cells": [
  {
   "cell_type": "code",
   "execution_count": 1,
   "metadata": {
    "collapsed": true
   },
   "outputs": [],
   "source": [
    "import pandas as pd\n",
    "import numpy as np\n",
    "import time\n",
    "import os\n",
    "import random\n",
    "#from urbansim.models import transition, relocation\n",
    "from urbansim.developer import sqftproforma, developer\n",
    "from urbansim.utils import misc, networks\n",
    "import dataset, variables, utils\n",
    "import pandana as pdna\n",
    "import models\n",
    "\n",
    "import orca"
   ]
  },
  {
   "cell_type": "code",
   "execution_count": 3,
   "metadata": {
    "collapsed": false
   },
   "outputs": [
    {
     "name": "stdout",
     "output_type": "stream",
     "text": [
      "Disaggregating sum_residential_units to buildings from nodes_walk\n",
      "Disaggregating percent_low_income to buildings from nodes_walk\n",
      "Disaggregating households to buildings from nodes_walk\n",
      "Disaggregating ave_lot_sqft to buildings from nodes_walk\n",
      "Disaggregating z_total_jobs to buildings from zones\n",
      "Disaggregating race_3_hhs to buildings from nodes_walk\n",
      "Disaggregating percent_mid_income to buildings from nodes_walk\n",
      "Disaggregating max_far to buildings from parcels\n",
      "Disaggregating logsum_pop_low_income to buildings from zones\n",
      "Disaggregating employment to buildings from zones\n",
      "Disaggregating lowinc_hhs to buildings from nodes_walk\n",
      "Disaggregating county_id to buildings from parcels\n",
      "Disaggregating drv_45min_jobs to buildings from nodes_drv\n",
      "Disaggregating sfdu to buildings from nodes_walk\n",
      "Disaggregating pct_undev to buildings from parcels\n",
      "Disaggregating node_r1500_sqft to buildings from nodes_walk\n",
      "Disaggregating medical to buildings from nodes_walk\n",
      "Disaggregating population to buildings from zones\n",
      "Disaggregating logsum_job_low_income to buildings from zones\n",
      "Disaggregating ave_unit_size to buildings from parcels\n",
      "Disaggregating percent_race4 to buildings from nodes_walk\n",
      "Disaggregating percent_race3 to buildings from nodes_walk\n",
      "Disaggregating percent_race2 to buildings from nodes_walk\n",
      "Disaggregating a_ln_emp_50min_transit to buildings from zones\n",
      "Disaggregating transit_jobs_50min to buildings from zones\n",
      "Disaggregating allowed to buildings from parcels\n",
      "Disaggregating census_block_id to buildings from parcels\n",
      "Disaggregating parcel_size to buildings from parcels\n",
      "Disaggregating total_sqft to buildings from parcels\n",
      "Disaggregating walk_15min_retail_jobs to buildings from nodes_walk\n",
      "Disaggregating percent_vacant_residential_units to buildings from zones\n",
      "Disaggregating max_office_far to buildings from nodes_walk\n",
      "Disaggregating node_r1500_acre to buildings from nodes_walk\n",
      "Disaggregating hhs_with_children to buildings from nodes_walk\n",
      "Disaggregating residential to buildings from nodes_walk\n",
      "Disaggregating taz to buildings from zones\n",
      "Disaggregating max_dua to buildings from parcels\n",
      "Disaggregating pptytax to buildings from parcels\n",
      "Disaggregating parcel_far to buildings from parcels\n",
      "Disaggregating ln_empden to buildings from nodes_walk\n",
      "Disaggregating transit_jobs_30min to buildings from zones\n",
      "Disaggregating ln_popden to buildings from nodes_walk\n",
      "Disaggregating school_id to buildings from parcels\n",
      "Disaggregating centroid_x to buildings from parcels\n",
      "Disaggregating centroid_y to buildings from parcels\n",
      "Disaggregating drv_15min_shopping_jobs to buildings from nodes_drv\n",
      "Disaggregating walk_30min_shopping_jobs to buildings from nodes_walk\n",
      "Disaggregating sum_nonresidential_units to buildings from nodes_walk\n",
      "Disaggregating walk_30min_retail_jobs to buildings from nodes_walk\n",
      "Disaggregating race_2_hhs to buildings from nodes_walk\n",
      "Disaggregating drv_15min_retail_jobs to buildings from nodes_drv\n",
      "Disaggregating land_cost to buildings from parcels\n",
      "Disaggregating housing_cost to buildings from nodes_walk\n",
      "Disaggregating total_units to buildings from parcels\n",
      "Disaggregating industrial to buildings from nodes_walk\n",
      "Disaggregating ln_empden_14 to buildings from zones\n",
      "Disaggregating ln_empden_16 to buildings from zones\n",
      "Disaggregating ln_empden_17 to buildings from zones\n",
      "Disaggregating ln_empden_10 to buildings from zones\n",
      "Disaggregating ln_empden_11 to buildings from zones\n",
      "Disaggregating ln_empden_12 to buildings from zones\n",
      "Disaggregating ln_empden_13 to buildings from zones\n",
      "Disaggregating ln_empden_18 to buildings from zones\n",
      "Disaggregating midinc_hhs to buildings from nodes_walk\n",
      "Disaggregating percent_hh_with_children to buildings from nodes_walk\n",
      "Disaggregating empden to buildings from zones\n",
      "t      index       point_x        point_y   category\n",
      "763      0  1.333410e+07   63146.730025  Hospitals\n",
      "764      1  1.334881e+07   62456.321521  Hospitals\n",
      "765      2  1.329579e+07  286586.841808  Hospitals\n",
      "766      3  1.331601e+07  279407.802171  Hospitals\n",
      "767      4  1.342404e+07  235124.891640  Hospitals\n",
      "768      5  1.321827e+07  295516.033823  Hospitals\n",
      "769      6  1.350176e+07  409433.081060  Hospitals\n",
      "770      7  1.335706e+07  399382.151939  Hospitals\n",
      "771      8  1.343518e+07  290095.324428  Hospitals\n",
      "772      9  1.343118e+07  300764.872535  Hospitals\n",
      "773     10  1.347744e+07  313322.621513  Hospitals\n",
      "774     11  1.346965e+07  318676.314076  Hospitals\n",
      "775     12  1.351539e+07  338559.593762  Hospitals\n",
      "776     13  1.347743e+07  313551.269395  Hospitals\n",
      "777     14  1.344298e+07  337193.075900  Hospitals\n",
      "778     15  1.347780e+07  312442.350032  Hospitals\n",
      "779     16  1.362982e+07  474102.403329  Hospitals\n",
      "780     17  1.340766e+07  305001.736528  Hospitals\n",
      "781     18  1.351867e+07  330156.855922  Hospitals\n",
      "782     19  1.351569e+07  325711.265026  Hospitals\n",
      "783     20  1.323792e+07  406821.474102  Hospitals\n",
      "784     21  1.338315e+07  327165.371054  Hospitals\n",
      "785     22  1.338965e+07  156242.001242  Hospitals\n",
      "786     23  1.351907e+07  399761.601853  Hospitals\n",
      "787     24  1.335186e+07  360773.257097  Hospitals\n",
      "788     25  1.336074e+07  306591.683990  Hospitals\n",
      "789     26  1.347796e+07  313052.320371  Hospitals\n",
      "790     27  1.347860e+07  312409.340160  Hospitals\n",
      "791     28  1.341284e+07  416763.430648  Hospitals\n",
      "792     29  1.340784e+07  415096.431865  Hospitals\n",
      "..     ...           ...            ...        ...\n",
      "795     32  1.340471e+07  345577.883113  Hospitals\n",
      "796     33  1.346848e+07  364828.398483  Hospitals\n",
      "797     34  1.341718e+07  408167.099642  Hospitals\n",
      "798     35  1.343979e+07  372131.309043  Hospitals\n",
      "799     36  1.343728e+07  351133.024434  Hospitals\n",
      "800     37  1.343677e+07  351211.339555  Hospitals\n",
      "801     38  1.345126e+07  433027.590105  Hospitals\n",
      "802     39  1.342156e+07  353423.445191  Hospitals\n",
      "803     40  1.341858e+07  269828.531349  Hospitals\n",
      "804     41  1.343614e+07  227047.876088  Hospitals\n",
      "805     42  1.346605e+07  410367.567055  Hospitals\n",
      "806     43  1.338204e+07  379837.931452  Hospitals\n",
      "807     44  1.347016e+07  349455.501050  Hospitals\n",
      "808     45  1.345367e+07  261172.413892  Hospitals\n",
      "809     46  1.333075e+07  269721.849568  Hospitals\n",
      "810     47  1.347184e+07  385503.221760  Hospitals\n",
      "811     48  1.349047e+07  369509.718055  Hospitals\n",
      "812     49  1.339432e+07  283758.676128  Hospitals\n",
      "813     50  1.323994e+07  183370.977300  Hospitals\n",
      "814     51  1.320969e+07  150581.854967  Hospitals\n",
      "815     52  1.311610e+07  273350.883719  Hospitals\n",
      "816     53  1.331769e+07  508376.251196  Hospitals\n",
      "817     54  1.340321e+07  571397.710772  Hospitals\n",
      "818     55  1.346545e+07  670987.920395  Hospitals\n",
      "819     56  1.355640e+07  743371.547927  Hospitals\n",
      "820     57  1.353081e+07  704644.831614  Hospitals\n",
      "821     58  1.331394e+07   80056.536611  Hospitals\n",
      "822     59  1.330695e+07   77101.085603  Hospitals\n",
      "823     60  1.332568e+07   70773.391579  Hospitals\n",
      "824     61  1.350523e+07  429681.355400  Hospitals\n",
      "\n",
      "[62 rows x 4 columns]\n",
      "Disaggregating sev_value to buildings from parcels\n",
      "Disaggregating acres to buildings from zones\n",
      "Disaggregating max_retail_far to buildings from nodes_walk\n",
      "Disaggregating drv_20min_pop to buildings from nodes_drv\n",
      "Disaggregating retail_jobs to buildings from nodes_walk\n",
      "Disaggregating race_4_hhs to buildings from nodes_walk\n",
      "Disaggregating race_1_hhs to buildings from nodes_walk\n",
      "Disaggregating acres to buildings from parcels\n",
      "Disaggregating jobs to buildings from nodes_walk\n",
      "Disaggregating retail_jobs to buildings from zones\n",
      "Disaggregating retail to buildings from nodes_walk\n",
      "Disaggregating ave_income to buildings from nodes_walk\n",
      "Disaggregating hhsize to buildings from nodes_walk\n",
      "Disaggregating drv_60min_jobs to buildings from nodes_drv\n",
      "Disaggregating households to buildings from zones\n",
      "<class 'orca.orca.DataFrameWrapper'>\n",
      "Disaggregating max_industrial_far to buildings from nodes_walk\n",
      "Disaggregating land_use_type_id to buildings from parcels\n",
      "Disaggregating ave_nonres_sqft_price to buildings from nodes_walk\n",
      "Disaggregating ln_empden_2 to buildings from zones\n",
      "Disaggregating office to buildings from nodes_walk\n",
      "Disaggregating drv_10min_pop to buildings from nodes_drv\n",
      "Disaggregating walk_15min_shopping_jobs to buildings from nodes_walk\n",
      "Disaggregating logsum_job_high_income to buildings from zones\n",
      "Disaggregating ln_empden_3 to buildings from zones\n",
      "Disaggregating ln_empden_1 to buildings from zones\n",
      "Disaggregating ln_empden_6 to buildings from zones\n",
      "Disaggregating ln_empden_7 to buildings from zones\n",
      "Disaggregating ln_empden_4 to buildings from zones\n",
      "Disaggregating ln_empden_5 to buildings from zones\n",
      "Disaggregating ln_empden_8 to buildings from zones\n",
      "Disaggregating ln_empden_9 to buildings from zones\n",
      "Disaggregating population to buildings from nodes_walk\n",
      "Disaggregating total_job_spaces to buildings from parcels\n",
      "Disaggregating tazce10_n to buildings from zones\n",
      "Disaggregating census_bg_id to buildings from parcels\n",
      "Disaggregating elem_school_perf to buildings from nodes_drv\n",
      "Disaggregating percent_high_income to buildings from nodes_walk\n",
      "Disaggregating drv_30min_retail_jobs to buildings from nodes_drv\n",
      "Disaggregating drv_30min_shopping_jobs to buildings from nodes_drv\n",
      "Disaggregating percent_vacant_job_spaces to buildings from zones\n",
      "Disaggregating a_ln_emp_26min_drive_alone to buildings from zones\n",
      "Disaggregating percent_race1 to buildings from nodes_walk\n",
      "Disaggregating logsum_pop_high_income to buildings from zones\n",
      "Disaggregating highinc_hhs to buildings from nodes_walk\n",
      "Disaggregating max_medical_far to buildings from nodes_walk\n",
      "Disaggregating ln_empden_15 to buildings from zones\n",
      "Disaggregating ave_unit_sqft to buildings from nodes_walk\n",
      "Disaggregating quarter_mile_to_transit to buildings from nodes_walk\n",
      "Disaggregating max_height to buildings from parcels\n",
      "Disaggregating drv_30min_jobs to buildings from nodes_drv\n",
      "Disaggregating a_ln_retail_emp_15min_drive_alone to buildings from zones\n"
     ]
    }
   ],
   "source": [
    "bb =orca.get_table('buildings').to_frame()"
   ]
  },
  {
   "cell_type": "code",
   "execution_count": 6,
   "metadata": {
    "collapsed": false
   },
   "outputs": [
    {
     "data": {
      "text/plain": [
       "460"
      ]
     },
     "execution_count": 6,
     "metadata": {},
     "output_type": "execute_result"
    }
   ],
   "source": [
    "len(bb.columns.values)"
   ]
  },
  {
   "cell_type": "code",
   "execution_count": 31,
   "metadata": {
    "collapsed": true
   },
   "outputs": [],
   "source": [
    "import matplotlib.pyplot as plt\n",
    "%matplotlib inline"
   ]
  },
  {
   "cell_type": "code",
   "execution_count": null,
   "metadata": {
    "collapsed": true
   },
   "outputs": [],
   "source": []
  },
  {
   "cell_type": "code",
   "execution_count": null,
   "metadata": {
    "collapsed": true
   },
   "outputs": [],
   "source": []
  },
  {
   "cell_type": "code",
   "execution_count": 25,
   "metadata": {
    "collapsed": true
   },
   "outputs": [],
   "source": [
    "import numpy as np"
   ]
  },
  {
   "cell_type": "code",
   "execution_count": 40,
   "metadata": {
    "collapsed": false
   },
   "outputs": [],
   "source": [
    "bbres= bb[bb.building_type_id.isin([81,82,83,84])]"
   ]
  },
  {
   "cell_type": "code",
   "execution_count": 47,
   "metadata": {
    "collapsed": true
   },
   "outputs": [],
   "source": [
    "bbres = bbres[bbres.sqft_price_res>20]"
   ]
  },
  {
   "cell_type": "code",
   "execution_count": 48,
   "metadata": {
    "collapsed": false
   },
   "outputs": [
    {
     "data": {
      "text/plain": [
       "building_id\n",
       "1097447    (232.745, 268.894]\n",
       "1097462    (152.401, 167.104]\n",
       "1097499    (195.367, 211.521]\n",
       "1097530        (268.894, 400]\n",
       "1097531    (181.259, 195.367]\n",
       "1097547    (195.367, 211.521]\n",
       "1097596    (195.367, 211.521]\n",
       "1097598    (211.521, 232.745]\n",
       "1097614    (152.401, 167.104]\n",
       "1097615    (195.367, 211.521]\n",
       "1097616    (195.367, 211.521]\n",
       "1097633    (195.367, 211.521]\n",
       "1097646        (268.894, 400]\n",
       "1097713    (181.259, 195.367]\n",
       "1097716    (195.367, 211.521]\n",
       "1097730    (195.367, 211.521]\n",
       "1097766    (211.521, 232.745]\n",
       "1097798    (195.367, 211.521]\n",
       "1097830    (211.521, 232.745]\n",
       "1097865    (195.367, 211.521]\n",
       "1097899     (137.37, 152.401]\n",
       "1097913    (195.367, 211.521]\n",
       "1097917    (181.259, 195.367]\n",
       "1097930    (181.259, 195.367]\n",
       "1097933    (211.521, 232.745]\n",
       "1097965    (211.521, 232.745]\n",
       "1097967    (211.521, 232.745]\n",
       "1097980    (195.367, 211.521]\n",
       "1097984    (211.521, 232.745]\n",
       "1098016    (195.367, 211.521]\n",
       "                  ...        \n",
       "6900448       (27.66, 35.514]\n",
       "6010882      (35.514, 43.419]\n",
       "6900449      (69.219, 78.212]\n",
       "6049442      (51.629, 60.308]\n",
       "4917960        (268.894, 400]\n",
       "2918903    (232.745, 268.894]\n",
       "2918901    (232.745, 268.894]\n",
       "2918902    (232.745, 268.894]\n",
       "2918900    (232.745, 268.894]\n",
       "2923546    (232.745, 268.894]\n",
       "2923467    (152.401, 167.104]\n",
       "2921865    (167.104, 181.259]\n",
       "2922155    (109.594, 122.668]\n",
       "2921877    (109.594, 122.668]\n",
       "2924198      (78.212, 87.938]\n",
       "2915731     (98.219, 109.594]\n",
       "2915730     (98.219, 109.594]\n",
       "2922941      (35.514, 43.419]\n",
       "2922812      (35.514, 43.419]\n",
       "2922946      (35.514, 43.419]\n",
       "2922948      (35.514, 43.419]\n",
       "2924546      (69.219, 78.212]\n",
       "2924542      (69.219, 78.212]\n",
       "6074166      (78.212, 87.938]\n",
       "2923571      (35.514, 43.419]\n",
       "2923570      (35.514, 43.419]\n",
       "2923569      (35.514, 43.419]\n",
       "2923572      (35.514, 43.419]\n",
       "2920954            [2, 27.66]\n",
       "6083419      (60.308, 69.219]\n",
       "Name: sqft_price_res, dtype: category\n",
       "Categories (20, object): [[2, 27.66] < (27.66, 35.514] < (35.514, 43.419] < (43.419, 51.629] ... (195.367, 211.521] < (211.521, 232.745] < (232.745, 268.894] < (268.894, 400]]"
      ]
     },
     "execution_count": 48,
     "metadata": {},
     "output_type": "execute_result"
    }
   ],
   "source": [
    "pd.qcut(bbres.sqft_price_res,20)"
   ]
  },
  {
   "cell_type": "code",
   "execution_count": 49,
   "metadata": {
    "collapsed": false
   },
   "outputs": [
    {
     "data": {
      "text/plain": [
       "<matplotlib.axes._subplots.AxesSubplot at 0x7fc6242bfcd0>"
      ]
     },
     "execution_count": 49,
     "metadata": {},
     "output_type": "execute_result"
    },
    {
     "data": {
      "image/png": "[encoded data removed]",
      "text/plain": [
       "<matplotlib.figure.Figure at 0x7fc6242e6ad0>"
      ]
     },
     "metadata": {},
     "output_type": "display_data"
    }
   ],
   "source": [
    "bbres.sqft_price_res.hist()"
   ]
  },
  {
   "cell_type": "code",
   "execution_count": 50,
   "metadata": {
    "collapsed": false
   },
   "outputs": [
    {
     "data": {
      "text/plain": [
       "(1135830, 460)"
      ]
     },
     "execution_count": 50,
     "metadata": {},
     "output_type": "execute_result"
    }
   ],
   "source": [
    "bbres.shape"
   ]
  },
  {
   "cell_type": "code",
   "execution_count": 4,
   "metadata": {
    "collapsed": true
   },
   "outputs": [],
   "source": [
    "bb.to_csv('buildings_fullv.csv')"
   ]
  },
  {
   "cell_type": "code",
   "execution_count": 2,
   "metadata": {
    "collapsed": false
   },
   "outputs": [
    {
     "name": "stdout",
     "output_type": "stream",
     "text": [
      "Running step 'build_networks'\n",
      "Time to execute step 'build_networks': 40.79 s\n",
      "Total time to execute iteration 1 with iteration value None: 40.79 s\n",
      "Running step 'neighborhood_vars'\n",
      "Computing accessibility variables\n",
      "Computing sum_residential_units\n",
      "Removed 164 rows because they contain missing values\n",
      "Computing sum_nonresidential_units\n",
      "Removed 164 rows because they contain missing values\n",
      "Computing ave_unit_sqft\n",
      "Removed 42 rows because they contain missing values\n",
      "Computing ave_lot_sqft\n",
      "Removed 164 rows because they contain missing values\n",
      "Computing population\n",
      "Computing households\n",
      "Computing midinc_hhs\n",
      "Computing lowinc_hhs\n",
      "Computing highinc_hhs\n",
      "Computing race_1_hhs\n",
      "Computing race_2_hhs\n",
      "Computing race_3_hhs\n",
      "Computing race_4_hhs\n",
      "Computing hhs_with_children\n",
      "Computing sfdu\n",
      "Computing hhsize\n",
      "Computing ave_income\n",
      "Computing residential\n",
      "Removed 42 rows because they contain missing values\n",
      "Computing retail\n",
      "Removed 3 rows because they contain missing values\n",
      "Computing office\n",
      "Removed 4 rows because they contain missing values\n",
      "Computing industrial\n",
      "Computing medical\n",
      "Computing max_industrial_far\n",
      "Computing max_office_far\n",
      "Computing max_retail_far\n",
      "Computing max_medical_far\n",
      "Computing jobs\n",
      "Removed 62 rows because they contain missing values\n",
      "Computing retail_jobs\n",
      "Computing node_r1500_sqft\n",
      "Computing residential\n",
      "Removed 42 rows because they contain missing values\n",
      "Computing ave_nonres_sqft_price\n",
      "Removed 7 rows because they contain missing values\n",
      "Computing retail\n",
      "Removed 3 rows because they contain missing values\n",
      "Computing office\n",
      "Removed 4 rows because they contain missing values\n",
      "Computing industrial\n",
      "Computing medical\n",
      "Computing quarter_mile_to_transit\n",
      "Computing walk_15min_retail_jobs\n",
      "Computing walk_15min_shopping_jobs\n",
      "Removed 55 rows because they contain missing values\n",
      "Computing walk_30min_retail_jobs\n",
      "Computing walk_30min_shopping_jobs\n",
      "Removed 55 rows because they contain missing values\n",
      "Computing accessibility variables\n",
      "Computing drv_30min_jobs\n",
      "Removed 62 rows because they contain missing values\n",
      "Computing drv_45min_jobs\n",
      "Removed 62 rows because they contain missing values\n",
      "Computing drv_60min_jobs\n",
      "Removed 62 rows because they contain missing values\n",
      "Computing drv_10min_pop\n",
      "Computing drv_20min_pop\n",
      "Computing drv_15min_retail_jobs\n",
      "Computing drv_15min_shopping_jobs\n",
      "Removed 55 rows because they contain missing values\n",
      "Computing drv_30min_retail_jobs\n",
      "Computing drv_30min_shopping_jobs\n",
      "Removed 55 rows because they contain missing values\n",
      "Computing elem_school_perf\n",
      "Time to execute step 'neighborhood_vars': 104.95 s\n",
      "Total time to execute iteration 1 with iteration value None: 104.96 s\n"
     ]
    }
   ],
   "source": [
    "orca.run([\"build_networks\"])\n",
    "orca.run([\"neighborhood_vars\"])"
   ]
  },
  {
   "cell_type": "code",
   "execution_count": 3,
   "metadata": {
    "collapsed": false
   },
   "outputs": [
    {
     "data": {
      "text/plain": [
       "['travel_data',\n",
       " 'tazcounts2015gq',\n",
       " 'zones',\n",
       " 'large_areas',\n",
       " 'access_drive_minutes',\n",
       " 'nodes_drv',\n",
       " 'tazcounts2020gq',\n",
       " 'tazcounts2035gq',\n",
       " 'employment_sectors',\n",
       " 'households',\n",
       " 'annual_employment_control_totals',\n",
       " 'annual_relocation_rates_for_households',\n",
       " 'nodes',\n",
       " 'building_types',\n",
       " 'buildings',\n",
       " 'jobs',\n",
       " 'tazcounts2030gq',\n",
       " 'access_walk_feet',\n",
       " 'tazcounts2040gq',\n",
       " 'zoning',\n",
       " 'persons',\n",
       " 'annual_household_control_totals',\n",
       " 'cities',\n",
       " 'annual_relocation_rates_for_jobs',\n",
       " 'counties',\n",
       " 'land_use_types',\n",
       " 'target_vacancies',\n",
       " 'home_based_status',\n",
       " 'transit_stops',\n",
       " 'nodes_walk',\n",
       " 'tazcounts2025gq',\n",
       " 'scheduled_development_events',\n",
       " 'building_sqft_per_job',\n",
       " 'parcels']"
      ]
     },
     "execution_count": 3,
     "metadata": {},
     "output_type": "execute_result"
    }
   ],
   "source": [
    "orca.list_tables()"
   ]
  },
  {
   "cell_type": "markdown",
   "metadata": {},
   "source": [
    "# Variables converted from OPUS(urbansim1) to ORCA(urbansim2)"
   ]
  },
  {
   "cell_type": "code",
   "execution_count": 35,
   "metadata": {
    "collapsed": false
   },
   "outputs": [],
   "source": [
    "#building type dummy variables (derived from building types table,we have 27 building types)\n",
    "df=pd.get_dummies(orca.merge_tables(target='buildings', tables=['building_types', 'buildings'], \n",
    "                            columns=[\"building_type_name \"])[\"building_type_name \"]).astype(bool)\n",
    "df.columns = [\"type_is_\" + i.strip().replace(\" \",'_') for i in df.columns]\n",
    "\n",
    "\n",
    "\n",
    "B_ln_nonres_sqft = np.log( orca.get_table('buildings').to_frame('non_residential_sqft')['non_residential_sqft'] )\n",
    "B_ln_sqft = np.log( orca.get_table('buildings').to_frame('building_sqft')['building_sqft'] )\n",
    "B_ln_land_area = np.log( orca.get_table('buildings').to_frame('land_area')['land_area'] )\n",
    "B_ln_lot_sqft = np.log(orca.get_table('buildings').to_frame('parcel_sqft')['parcel_sqft'])\n",
    "B_ln_sqft_unit = np.log( orca.get_table('buildings').to_frame('sqft_per_unit')['sqft_per_unit'] ) \n",
    "B_building_age = 2015 - orca.get_table('buildings').to_frame('year_built')['year_built']  #in simulation , use iter_var instead of 2015\n",
    "B_far=orca.merge_tables(target='buildings', tables=['parcels', 'buildings'], \n",
    "                            columns=[\"parcel_far\"])[\"parcel_far\"]\n",
    "B_ln_invfar = -np.log(B_far)\n",
    "B_is_pre_1945 = orca.get_table('buildings').to_frame('year_built')['year_built'] < 1945,\n",
    "B_is_newerthan2010 = orca.get_table('buildings').to_frame('year_built')['year_built'] > 2010,\n",
    "B_sqft_price = orca.get_table('buildings').to_frame('sqft_price_nonres')['sqft_price_nonres']\n",
    "B_ln_sqft_price = np.log( B_sqft_price )\n",
    "\n",
    "Z_jobs=orca.get_table('zones').to_frame('employment')['employment']\n",
    "Z_households=orca.get_table('zones').to_frame('households')['households']\n",
    "Z_ln_empden = np.log(orca.get_table('zones').to_frame('empden')['empden'])\n",
    "Z_ln_popden = np.log(orca.get_table('zones').to_frame('popden')['popden'])\n",
    "\n",
    "\n",
    "N_walk_quarter_mile_retail = orca.merge_tables(target='buildings', tables=['nodes_walk', 'buildings'], \n",
    "                            columns=[\"retail_jobs\"])[\"retail_jobs\"]\n",
    "N_ln_avginc = orca.merge_tables(target='buildings', tables=['nodes_walk', 'buildings'], \n",
    "                            columns=[\"ave_income\"])[\"ave_income\"]\n",
    "N_nonres_ave_price = orca.merge_tables(target='buildings', tables=['nodes_walk', 'buildings'], \n",
    "                            columns=[\"ave_nonres_sqft_price\"])[\"ave_nonres_sqft_price\"]\n",
    "\n",
    "# within quarter mile to transit stops\n",
    "N_close_to_transit = orca.merge_tables(target='buildings', tables=['nodes_walk', 'buildings'], \n",
    "                            columns=[\"quarter_mile_to_transit\"])[\"quarter_mile_to_transit\"]\n",
    "\n",
    "\n",
    "\n",
    "##########################################\n",
    "##### updated variables #####\n",
    "\n",
    "\n",
    "#---- old variables from Feburary -----#\n",
    "\n",
    "A_job_logsum_worker_ge_car=orca.merge_tables(target='buildings', tables=['zones', 'parcels', 'buildings'], \n",
    "                            columns=[\"logsum_work_more_worker_than_car\"])[\"logsum_work_more_worker_than_car\"]\n",
    "A_job_logsum_worker_lt_car=orca.merge_tables(target='buildings', tables=['zones', 'parcels', 'buildings'], \n",
    "                            columns=[\"logsum_work_less_worker_than_car\"])[\"logsum_work_less_worker_than_car\"]\n",
    "A_pop_logsum_worker_ge_car=orca.merge_tables(target='buildings', tables=['zones', 'parcels', 'buildings'], \n",
    "                            columns=[\"logsum_pop_more_worker_than_car\"])[\"logsum_pop_more_worker_than_car\"]\n",
    "A_pop_logsum_worker_lt_car=orca.merge_tables(target='buildings', tables=['zones', 'parcels', 'buildings'], \n",
    "                            columns=[\"logsum_pop_less_worker_than_car\"])[\"logsum_pop_less_worker_than_car\"]\n",
    "#transit jobs within 45 minutes based on travel model zone-to-zone transit total time\n",
    "td = orca.get_table('travel_data').to_frame('am_total_transit_time_walk').reset_index()\n",
    "zemp = orca.get_table('zones').to_frame('employment')\n",
    "temp = pd.merge(td,zemp, left_on = 'to_zone_id', right_index = True, how='left' )\n",
    "A_transit_jobs_45min = temp[temp.am_total_transit_time_walk <=45].groupby('from_zone_id').employment.sum()\n",
    "\n",
    "\n",
    "\n",
    "\n",
    "\n",
    "#---- new definition by March 22nd-----#\n",
    "A_job_logsum_high_income=orca.merge_tables(target='buildings', tables=['zones', 'parcels', 'buildings'], \n",
    "                            columns=[\"logsum_pop_high_income\"])[\"logsum_pop_high_income\"]\n",
    "A_job_logsum_low_income=orca.merge_tables(target='buildings', tables=['zones', 'parcels', 'buildings'], \n",
    "                            columns=[\"logsum_pop_low_income\"])[\"logsum_pop_low_income\"]\n",
    "A_pop_logsum_high_income=orca.merge_tables(target='buildings', tables=['zones', 'parcels', 'buildings'], \n",
    "                            columns=[\"logsum_pop_high_income\"])[\"logsum_pop_high_income\"]\n",
    "A_pop_logsum_low_income=orca.merge_tables(target='buildings', tables=['zones', 'parcels', 'buildings'], \n",
    "                            columns=[\"logsum_pop_low_income\"])[\"logsum_pop_low_income\"]\n",
    "#transit jobs within 50 minutes based on travel model zone-to-zone transit total time\n",
    "@orca.column('zones')\n",
    "def A_ln_emp_50min_transit(zones, travel_data):\n",
    "    transittime = travel_data.to_frame(\"am_transit_total_time\").reset_index()\n",
    "    zemp = zones.to_frame('employment')\n",
    "    temp = pd.merge(transittime,zemp, left_on = 'to_zone_id', right_index = True, how='left' )\n",
    "    return np.log1p(temp[temp.am_transit_total_time <=50].groupby('from_zone_id').employment.sum().fillna(0))\n"
   ]
  },
  {
   "cell_type": "markdown",
   "metadata": {},
   "source": [
    "# Variables haven't been converted from OPUS(urbansim1) to ORCA(urbansim2)"
   ]
  },
  {
   "cell_type": "code",
   "execution_count": null,
   "metadata": {
    "collapsed": true
   },
   "outputs": [],
   "source": [
    "#description: from OPUS(urbansim1) job_X_building interaction, summarization on number of jobs in the buildings that are in the same sector as the new jobs (chooser)\n",
    "B_same_sector_emp_in_bldg = urbansim_parcel.job_x_building.same_sector_employment_in_building,\n",
    "    \n",
    "#description: from OPUS job_X_building,the ratio of same sector jobs vs total jobs in the building    \n",
    "B_sector_density_in_building = (urbansim_parcel.job_x_building.same_sector_employment_in_building)/\n",
    "    (urbansim_parcel.building.number_of_non_home_based_jobs),\n",
    "     \n",
    "# number of jobs by sector vs total jobs at building level. total 18 sectors\n",
    "B_bldg_empratio_1 = urbansim_parcel.building.number_of_jobs_of_sector_1/urbansim_parcel.building.number_of_jobs\n",
    "B_bldg_empratio_2 = urbansim_parcel.building.number_of_jobs_of_sector_2/urbansim_parcel.building.number_of_jobs\n",
    "B_bldg_empratio_3 = urbansim_parcel.building.number_of_jobs_of_sector_3/urbansim_parcel.building.number_of_jobs\n",
    "B_bldg_empratio_4 = urbansim_parcel.building.number_of_jobs_of_sector_4/urbansim_parcel.building.number_of_jobs\n",
    "B_bldg_empratio_5 = urbansim_parcel.building.number_of_jobs_of_sector_5/urbansim_parcel.building.number_of_jobs\n",
    "B_bldg_empratio_6 = urbansim_parcel.building.number_of_jobs_of_sector_6/urbansim_parcel.building.number_of_jobs\n",
    "B_bldg_empratio_7 = urbansim_parcel.building.number_of_jobs_of_sector_7/urbansim_parcel.building.number_of_jobs\n",
    "B_bldg_empratio_8 = urbansim_parcel.building.number_of_jobs_of_sector_8/urbansim_parcel.building.number_of_jobs\n",
    "B_bldg_empratio_9 = urbansim_parcel.building.number_of_jobs_of_sector_9/urbansim_parcel.building.number_of_jobs\n",
    "B_bldg_empratio_10 = urbansim_parcel.building.number_of_jobs_of_sector_10/urbansim_parcel.building.number_of_jobs\n",
    "B_bldg_empratio_11 = urbansim_parcel.building.number_of_jobs_of_sector_11/urbansim_parcel.building.number_of_jobs\n",
    "B_bldg_empratio_12 = urbansim_parcel.building.number_of_jobs_of_sector_12/urbansim_parcel.building.number_of_jobs\n",
    "B_bldg_empratio_13 = urbansim_parcel.building.number_of_jobs_of_sector_13/urbansim_parcel.building.number_of_jobs\n",
    "B_bldg_empratio_14 = urbansim_parcel.building.number_of_jobs_of_sector_14/urbansim_parcel.building.number_of_jobs\n",
    "B_bldg_empratio_15 = urbansim_parcel.building.number_of_jobs_of_sector_15/urbansim_parcel.building.number_of_jobs\n",
    "B_bldg_empratio_16 = urbansim_parcel.building.number_of_jobs_of_sector_16/urbansim_parcel.building.number_of_jobs\n",
    "B_bldg_empratio_17 = urbansim_parcel.building.number_of_jobs_of_sector_17/urbansim_parcel.building.number_of_jobs\n",
    "B_bldg_empratio_18 = urbansim_parcel.building.number_of_jobs_of_sector_18/urbansim_parcel.building.number_of_jobs\n",
    "\n",
    "\n",
    "# zonal employment density by sector. this could be replaced by employment accessibility indicators\n",
    "Z_ln_zone_empden_1 = ln(building.disaggregate(urbansim_parcel.zone.number_of_jobs_of_sector_1)\n",
    "                      /building.disaggregate(zone.aggregate(parcel.parcel_sqft)/43560.0))\n",
    "Z_ln_zone_empden_2 = ln(building.disaggregate(urbansim_parcel.zone.number_of_jobs_of_sector_2)\n",
    "                      /building.disaggregate(zone.aggregate(parcel.parcel_sqft)/43560.0))\n",
    "Z_ln_zone_empden_3 = ln(building.disaggregate(urbansim_parcel.zone.number_of_jobs_of_sector_3)\n",
    "                      /building.disaggregate(zone.aggregate(parcel.parcel_sqft)/43560.0))\n",
    "Z_ln_zone_empden_4 = ln(building.disaggregate(urbansim_parcel.zone.number_of_jobs_of_sector_4)\n",
    "                      /building.disaggregate(zone.aggregate(parcel.parcel_sqft)/43560.0))\n",
    "Z_ln_zone_empden_5 = ln(building.disaggregate(urbansim_parcel.zone.number_of_jobs_of_sector_5)\n",
    "                      /building.disaggregate(zone.aggregate(parcel.parcel_sqft)/43560.0))\n",
    "Z_ln_zone_empden_6 = ln(building.disaggregate(urbansim_parcel.zone.number_of_jobs_of_sector_6)\n",
    "                      /building.disaggregate(zone.aggregate(parcel.parcel_sqft)/43560.0))\n",
    "Z_ln_zone_empden_7 = ln(building.disaggregate(urbansim_parcel.zone.number_of_jobs_of_sector_7)\n",
    "                      /building.disaggregate(zone.aggregate(parcel.parcel_sqft)/43560.0))\n",
    "Z_ln_zone_empden_8 = ln(building.disaggregate(urbansim_parcel.zone.number_of_jobs_of_sector_8)\n",
    "                      /building.disaggregate(zone.aggregate(parcel.parcel_sqft)/43560.0))\n",
    "Z_ln_zone_empden_9 = ln(building.disaggregate(urbansim_parcel.zone.number_of_jobs_of_sector_9)\n",
    "                      /building.disaggregate(zone.aggregate(parcel.parcel_sqft)/43560.0))\n",
    "Z_ln_zone_empden_10 = ln(building.disaggregate(urbansim_parcel.zone.number_of_jobs_of_sector_10)\n",
    "                      /building.disaggregate(zone.aggregate(parcel.parcel_sqft)/43560.0))\n",
    "Z_ln_zone_empden_11 = ln(building.disaggregate(urbansim_parcel.zone.number_of_jobs_of_sector_11)\n",
    "                      /building.disaggregate(zone.aggregate(parcel.parcel_sqft)/43560.0))\n",
    "Z_ln_zone_empden_12 = ln(building.disaggregate(urbansim_parcel.zone.number_of_jobs_of_sector_12)\n",
    "                      /building.disaggregate(zone.aggregate(parcel.parcel_sqft)/43560.0))\n",
    "Z_ln_zone_empden_13 = ln(building.disaggregate(urbansim_parcel.zone.number_of_jobs_of_sector_13)\n",
    "                      /building.disaggregate(zone.aggregate(parcel.parcel_sqft)/43560.0))\n",
    "Z_ln_zone_empden_14 = ln(building.disaggregate(urbansim_parcel.zone.number_of_jobs_of_sector_14)\n",
    "                      /building.disaggregate(zone.aggregate(parcel.parcel_sqft)/43560.0))\n",
    "Z_ln_zone_empden_15 = ln(building.disaggregate(urbansim_parcel.zone.number_of_jobs_of_sector_15)\n",
    "                      /building.disaggregate(zone.aggregate(parcel.parcel_sqft)/43560.0))\n",
    "Z_ln_zone_empden_16 = ln(building.disaggregate(urbansim_parcel.zone.number_of_jobs_of_sector_16)\n",
    "                      /building.disaggregate(zone.aggregate(parcel.parcel_sqft)/43560.0))\n",
    "Z_ln_zone_empden_17 = ln(building.disaggregate(urbansim_parcel.zone.number_of_jobs_of_sector_17)\n",
    "                      /building.disaggregate(zone.aggregate(parcel.parcel_sqft)/43560.0))\n",
    "Z_ln_zone_empden_18 = ln(building.disaggregate(urbansim_parcel.zone.number_of_jobs_of_sector_18)\n",
    "                      /building.disaggregate(zone.aggregate(parcel.parcel_sqft)/43560.0))"
   ]
  },
  {
   "cell_type": "markdown",
   "metadata": {},
   "source": [
    "# variables for future test"
   ]
  },
  {
   "cell_type": "code",
   "execution_count": null,
   "metadata": {
    "collapsed": true
   },
   "outputs": [],
   "source": [
    "======================================================================\n",
    "\n",
    "\n",
    "# N_auto_30min_jobs = orca.merge_tables(target='buildings', tables=['nodes_drv','buildings'], \n",
    "#                             columns=[\"drv_30min_jobs\"])[\"drv_30min_jobs\"]\n",
    "# N_auto_45min_jobs = orca.merge_tables(target='buildings', tables=['nodes_drv','buildings'], \n",
    "#                             columns=[\"drv_45min_jobs\"])[\"drv_45min_jobs\"]\n",
    "# N_auto_60min_jobs = orca.merge_tables(target='buildings', tables=['nodes_drv','buildings'], \n",
    "#                             columns=[\"drv_60min_jobs\"])[\"drv_60min_jobs\"]\n",
    "# N_auto_10min_pop = orca.merge_tables(target='buildings', tables=['nodes_drv','buildings'], \n",
    "#                             columns=[\"drv_30min_jobs\"])[\"drv_30min_jobs\"]\n",
    "# N_auto_20min_pop = orca.merge_tables(target='buildings', tables=['nodes_drv','buildings'], \n",
    "#                             columns=[\"drv_45min_jobs\"])[\"drv_45min_jobs\"]\n",
    "# N_auto_10min_retail = orca.merge_tables(target='buildings', tables=['nodes_drv','buildings'], \n",
    "#                             columns=[\"drv_10min_retail_jobs\"])[\"drv_10min_retail_jobs\"]"
   ]
  },
  {
   "cell_type": "code",
   "execution_count": null,
   "metadata": {
    "collapsed": true
   },
   "outputs": [],
   "source": []
  },
  {
   "cell_type": "code",
   "execution_count": null,
   "metadata": {
    "collapsed": true
   },
   "outputs": [],
   "source": []
  }
 ],
 "metadata": {
  "kernelspec": {
   "display_name": "Python [Root]",
   "language": "python",
   "name": "Python [Root]"
  },
  "language_info": {
   "codemirror_mode": {
    "name": "ipython",
    "version": 2
   },
   "file_extension": ".py",
   "mimetype": "text/x-python",
   "name": "python",
   "nbconvert_exporter": "python",
   "pygments_lexer": "ipython2",
   "version": "2.7.12"
  }
 },
 "nbformat": 4,
 "nbformat_minor": 0
}
