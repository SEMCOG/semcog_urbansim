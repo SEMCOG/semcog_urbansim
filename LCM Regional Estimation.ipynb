{
 "cells": [
  {
   "cell_type": "code",
   "execution_count": 1,
   "metadata": {},
   "outputs": [
    {
     "name": "stdout",
     "output_type": "stream",
     "text": [
      "using seed 271828\n"
     ]
    }
   ],
   "source": [
    "import orca\n",
    "import pandas as pd\n",
    "from urbansim.models import MNLDiscreteChoiceModel\n",
    "\n",
    "import models, utils\n",
    "from urbansim.utils import misc, networks\n",
    "import output_indicators\n",
    "\n",
    "%matplotlib inline\n",
    "import matplotlib.pyplot as plt\n",
    "plt.style.use('ggplot')"
   ]
  },
  {
   "cell_type": "code",
   "execution_count": null,
   "metadata": {},
   "outputs": [],
   "source": [
    "buildings = pd.HDFStore('building_store.h5').buildings\n",
    "\n",
    "buildings_nonres = buildings[buildings.non_residential_sqft > 0]\n",
    "\n",
    "jobs = orca.get_table('jobs').to_frame(['sector_id', 'building_id', 'home_based_status'])\n",
    "\n",
    "jobs.building_id = jobs.building_id.astype('int')\n"
   ]
  },
  {
   "cell_type": "markdown",
   "metadata": {},
   "source": [
    "## Sector 14"
   ]
  },
  {
   "cell_type": "code",
   "execution_count": 9,
   "metadata": {},
   "outputs": [
    {
     "name": "stdout",
     "output_type": "stream",
     "text": [
      "Null Log-liklihood: -17005.987\n",
      "Log-liklihood at convergence: -9218.098\n",
      "Log-liklihood Ratio: 0.458\n",
      "\n",
      "+------------------------------+-------------+------------+---------+\n",
      "| Component                    | Coefficient | Std. Error | T-Score |\n",
      "+------------------------------+-------------+------------+---------+\n",
      "| general_type_is_Medical      |    3.000    |   0.036    |  83.282 |\n",
      "| b_ln_non_residential_sqft    |    0.594    |   0.013    |  44.964 |\n",
      "| zones_ln_empden_14           |    0.620    |   0.022    |  28.678 |\n",
      "| nodes_walk_medical           |    0.004    |   0.000    |  17.575 |\n",
      "| nodes_drv_log_sum_60min_jobs |    0.137    |   0.030    |  4.572  |\n",
      "| nodes_drv_log_sum_20min_pop  |    0.054    |   0.030    |  1.776  |\n",
      "+------------------------------+-------------+------------+---------+\n",
      "None\n"
     ]
    },
    {
     "data": {
      "text/plain": [
       "<matplotlib.axes._subplots.AxesSubplot at 0x7fe96891e8d0>"
      ]
     },
     "execution_count": 9,
     "metadata": {},
     "output_type": "execute_result"
    },
    {
     "data": {
      "image/png": "[encoded data removed]",
      "text/plain": [
       "<matplotlib.figure.Figure at 0x7fe9689e8890>"
      ]
     },
     "metadata": {},
     "output_type": "display_data"
    }
   ],
   "source": [
    "dcm = MNLDiscreteChoiceModel(model_expression=['general_type_is_Medical', 'b_ln_non_residential_sqft', 'zones_ln_empden_14',\n",
    "                                               'nodes_walk_medical', 'nodes_drv_log_sum_60min_jobs', 'nodes_drv_log_sum_20min_pop'],\n",
    "                             sample_size=30,\n",
    "                             probability_mode='single_chooser',\n",
    "                             choice_mode='aggregate',\n",
    "                             estimation_sample_size=5000,\n",
    "                             choosers_fit_filters=\"(sector_id == 14) & (home_based_status == 0)\")\n",
    "\n",
    "dcm.fit(jobs, buildings_nonres, 'building_id')\n",
    "\n",
    "print dcm.report_fit()\n",
    "proba = dcm.probabilities(jobs, buildings_nonres).reset_index().set_index('alternative_id')[0]\n",
    "pd.DataFrame({'proba':proba, 'btype_id':buildings.building_type_id}).groupby('btype_id').sum().plot.bar()"
   ]
  },
  {
   "cell_type": "code",
   "execution_count": 4,
   "metadata": {},
   "outputs": [],
   "source": [
    "dcm.to_yaml('elcm14.yaml')"
   ]
  },
  {
   "cell_type": "markdown",
   "metadata": {},
   "source": [
    "## Sector 6"
   ]
  },
  {
   "cell_type": "code",
   "execution_count": 15,
   "metadata": {},
   "outputs": [
    {
     "name": "stdout",
     "output_type": "stream",
     "text": [
      "Null Log-liklihood: -17005.987\n",
      "Log-liklihood at convergence: -7886.429\n",
      "Log-liklihood Ratio: 0.536\n",
      "\n",
      "+------------------------------+-------------+------------+---------+\n",
      "| Component                    | Coefficient | Std. Error | T-Score |\n",
      "+------------------------------+-------------+------------+---------+\n",
      "| general_type_is_TCU          |    1.733    |   0.039    |  44.944 |\n",
      "| b_ln_non_residential_sqft    |    0.653    |   0.013    |  51.276 |\n",
      "| zones_ln_empden_6            |    2.121    |   0.036    |  58.494 |\n",
      "| nodes_drv_log_sum_60min_jobs |    0.166    |   0.010    |  17.382 |\n",
      "| building_age                 |    -0.008   |   0.001    |  -7.989 |\n",
      "+------------------------------+-------------+------------+---------+\n",
      "None\n"
     ]
    },
    {
     "data": {
      "text/plain": [
       "<matplotlib.axes._subplots.AxesSubplot at 0x7fe968417c90>"
      ]
     },
     "execution_count": 15,
     "metadata": {},
     "output_type": "execute_result"
    },
    {
     "data": {
      "image/png": "[encoded data removed]",
      "text/plain": [
       "<matplotlib.figure.Figure at 0x7fe96867cfd0>"
      ]
     },
     "metadata": {},
     "output_type": "display_data"
    }
   ],
   "source": [
    "dcm = MNLDiscreteChoiceModel(model_expression=['general_type_is_TCU', 'b_ln_non_residential_sqft', 'zones_ln_empden_6',\n",
    "                                               'nodes_drv_log_sum_60min_jobs', 'building_age'],\n",
    "                             sample_size=30,\n",
    "                             probability_mode='single_chooser',\n",
    "                             choice_mode='aggregate',\n",
    "                             estimation_sample_size=5000,\n",
    "                             choosers_fit_filters=\"(sector_id == 6) & (home_based_status == 0)\")\n",
    "\n",
    "dcm.fit(jobs, buildings_nonres, 'building_id')\n",
    "\n",
    "print dcm.report_fit()\n",
    "proba = dcm.probabilities(jobs, buildings_nonres).reset_index().set_index('alternative_id')[0]\n",
    "pd.DataFrame({'proba':proba, 'btype_id':buildings.building_type_id}).groupby('btype_id').sum().plot.bar()"
   ]
  },
  {
   "cell_type": "code",
   "execution_count": 13,
   "metadata": {},
   "outputs": [],
   "source": [
    "dcm.to_yaml('elcm6.yaml')"
   ]
  },
  {
   "cell_type": "markdown",
   "metadata": {},
   "source": [
    "## Sector 2"
   ]
  },
  {
   "cell_type": "code",
   "execution_count": 31,
   "metadata": {},
   "outputs": [
    {
     "name": "stdout",
     "output_type": "stream",
     "text": [
      "Null Log-liklihood: -17002.586\n",
      "Log-liklihood at convergence: -13928.372\n",
      "Log-liklihood Ratio: 0.181\n",
      "\n",
      "+--------------------------------------+-------------+------------+---------+\n",
      "| Component                            | Coefficient | Std. Error | T-Score |\n",
      "+--------------------------------------+-------------+------------+---------+\n",
      "| general_type_is_Office               |    1.203    |   0.036    |  33.067 |\n",
      "| general_type_is_Industrial           |    0.900    |   0.038    |  23.479 |\n",
      "| b_ln_non_residential_sqft            |    0.276    |   0.013    |  21.213 |\n",
      "| zones_ln_empden_2                    |    2.172    |   0.056    |  39.130 |\n",
      "| nodes_drv_log_sum_60min_jobs         |    0.081    |   0.010    |  8.199  |\n",
      "| building_age                         |    -0.013   |   0.001    | -16.205 |\n",
      "| nodes_walk_log_sum_residential_units |    -0.082   |   0.009    |  -8.630 |\n",
      "| sqft_price_nonres                    |    -0.002   |   0.000    |  -4.583 |\n",
      "+--------------------------------------+-------------+------------+---------+\n",
      "None\n"
     ]
    },
    {
     "data": {
      "text/plain": [
       "<matplotlib.axes._subplots.AxesSubplot at 0x7fe949219890>"
      ]
     },
     "execution_count": 31,
     "metadata": {},
     "output_type": "execute_result"
    },
    {
     "data": {
      "image/png": "[encoded data removed]",
      "text/plain": [
       "<matplotlib.figure.Figure at 0x7fe9492ade90>"
      ]
     },
     "metadata": {},
     "output_type": "display_data"
    }
   ],
   "source": [
    "dcm = MNLDiscreteChoiceModel(model_expression=['general_type_is_Office', 'general_type_is_Industrial', 'b_ln_non_residential_sqft', 'zones_ln_empden_2',\n",
    "                                               'nodes_drv_log_sum_60min_jobs', 'building_age', 'nodes_walk_log_sum_residential_units', 'sqft_price_nonres'],\n",
    "                             sample_size=30,\n",
    "                             probability_mode='single_chooser',\n",
    "                             choice_mode='aggregate',\n",
    "                             estimation_sample_size=5000,\n",
    "                             choosers_fit_filters=\"(sector_id == 2) & (home_based_status == 0)\")\n",
    "\n",
    "dcm.fit(jobs, buildings_nonres, 'building_id')\n",
    "\n",
    "print dcm.report_fit()\n",
    "proba = dcm.probabilities(jobs, buildings_nonres).reset_index().set_index('alternative_id')[0]\n",
    "pd.DataFrame({'proba':proba, 'btype_id':buildings.building_type_id}).groupby('btype_id').sum().plot.bar()"
   ]
  },
  {
   "cell_type": "code",
   "execution_count": 32,
   "metadata": {},
   "outputs": [],
   "source": [
    "dcm.to_yaml('elcm2.yaml')"
   ]
  },
  {
   "cell_type": "markdown",
   "metadata": {},
   "source": [
    "## Sector 3"
   ]
  },
  {
   "cell_type": "code",
   "execution_count": 47,
   "metadata": {},
   "outputs": [
    {
     "name": "stdout",
     "output_type": "stream",
     "text": [
      "Null Log-liklihood: -17005.987\n",
      "Log-liklihood at convergence: -7185.002\n",
      "Log-liklihood Ratio: 0.578\n",
      "\n",
      "+--------------------------------------+-------------+------------+---------+\n",
      "| Component                            | Coefficient | Std. Error | T-Score |\n",
      "+--------------------------------------+-------------+------------+---------+\n",
      "| general_type_is_Industrial           |    1.987    |   0.041    |  48.646 |\n",
      "| b_ln_non_residential_sqft            |    0.877    |   0.006    | 158.178 |\n",
      "| zones_ln_empden_3                    |    0.876    |   0.034    |  25.890 |\n",
      "| nodes_walk_log_sum_residential_units |    -0.064   |   0.013    |  -4.906 |\n",
      "| building_age                         |    -0.006   |   0.001    |  -6.021 |\n",
      "| nodes_walk_office                    |    0.001    |   0.000    |  2.276  |\n",
      "+--------------------------------------+-------------+------------+---------+\n",
      "None\n"
     ]
    },
    {
     "data": {
      "text/plain": [
       "<matplotlib.axes._subplots.AxesSubplot at 0x7fe9481c5f90>"
      ]
     },
     "execution_count": 47,
     "metadata": {},
     "output_type": "execute_result"
    },
    {
     "data": {
      "image/png": "[encoded data removed]",
      "text/plain": [
       "<matplotlib.figure.Figure at 0x7fe94822cc90>"
      ]
     },
     "metadata": {},
     "output_type": "display_data"
    }
   ],
   "source": [
    "dcm = MNLDiscreteChoiceModel(model_expression=['general_type_is_Industrial', 'b_ln_non_residential_sqft', 'zones_ln_empden_3',\n",
    "                                               'nodes_walk_log_sum_residential_units', 'building_age', 'nodes_walk_office'],\n",
    "                             sample_size=30,\n",
    "                             probability_mode='single_chooser',\n",
    "                             choice_mode='aggregate',\n",
    "                             estimation_sample_size=5000,\n",
    "                             choosers_fit_filters=\"(sector_id == 3) & (home_based_status == 0)\")\n",
    "\n",
    "dcm.fit(jobs, buildings_nonres, 'building_id')\n",
    "\n",
    "print dcm.report_fit()\n",
    "proba = dcm.probabilities(jobs, buildings_nonres).reset_index().set_index('alternative_id')[0]\n",
    "pd.DataFrame({'proba':proba, 'btype_id':buildings.building_type_id}).groupby('btype_id').sum().plot.bar()"
   ]
  },
  {
   "cell_type": "code",
   "execution_count": 48,
   "metadata": {},
   "outputs": [],
   "source": [
    "dcm.to_yaml('elcm3.yaml')"
   ]
  },
  {
   "cell_type": "markdown",
   "metadata": {},
   "source": [
    "## Sector 4"
   ]
  },
  {
   "cell_type": "code",
   "execution_count": 55,
   "metadata": {},
   "outputs": [
    {
     "name": "stdout",
     "output_type": "stream",
     "text": [
      "Null Log-liklihood: -17005.987\n",
      "Log-liklihood at convergence: -11214.384\n",
      "Log-liklihood Ratio: 0.341\n",
      "\n",
      "+--------------------------------------+-------------+------------+---------+\n",
      "| Component                            | Coefficient | Std. Error | T-Score |\n",
      "+--------------------------------------+-------------+------------+---------+\n",
      "| general_type_is_Industrial           |    0.876    |   0.033    |  26.608 |\n",
      "| b_ln_non_residential_sqft            |    0.630    |   0.011    |  55.147 |\n",
      "| zones_ln_empden_4                    |    1.994    |   0.046    |  43.657 |\n",
      "| nodes_walk_log_sum_residential_units |    -0.086   |   0.011    |  -7.992 |\n",
      "| building_age                         |    -0.011   |   0.001    | -14.106 |\n",
      "| nodes_drv_log_sum_45min_jobs         |    0.123    |   0.009    |  14.138 |\n",
      "+--------------------------------------+-------------+------------+---------+\n",
      "None\n"
     ]
    },
    {
     "data": {
      "text/plain": [
       "<matplotlib.axes._subplots.AxesSubplot at 0x7fe941b25850>"
      ]
     },
     "execution_count": 55,
     "metadata": {},
     "output_type": "execute_result"
    },
    {
     "data": {
      "image/png": "[encoded data removed]",
      "text/plain": [
       "<matplotlib.figure.Figure at 0x7fe941c1ca10>"
      ]
     },
     "metadata": {},
     "output_type": "display_data"
    }
   ],
   "source": [
    "dcm = MNLDiscreteChoiceModel(model_expression=['general_type_is_Industrial', 'b_ln_non_residential_sqft', 'zones_ln_empden_4',\n",
    "                                               'nodes_walk_log_sum_residential_units', 'building_age', 'nodes_drv_log_sum_45min_jobs'],\n",
    "                             sample_size=30,\n",
    "                             probability_mode='single_chooser',\n",
    "                             choice_mode='aggregate',\n",
    "                             estimation_sample_size=5000,\n",
    "                             choosers_fit_filters=\"(sector_id == 4) & (home_based_status == 0)\")\n",
    "\n",
    "dcm.fit(jobs, buildings_nonres, 'building_id')\n",
    "\n",
    "print dcm.report_fit()\n",
    "proba = dcm.probabilities(jobs, buildings_nonres).reset_index().set_index('alternative_id')[0]\n",
    "pd.DataFrame({'proba':proba, 'btype_id':buildings.building_type_id}).groupby('btype_id').sum().plot.bar()"
   ]
  },
  {
   "cell_type": "code",
   "execution_count": 56,
   "metadata": {},
   "outputs": [],
   "source": [
    "dcm.to_yaml('elcm4.yaml')"
   ]
  },
  {
   "cell_type": "markdown",
   "metadata": {},
   "source": [
    "## Sector 5"
   ]
  },
  {
   "cell_type": "code",
   "execution_count": 62,
   "metadata": {},
   "outputs": [
    {
     "name": "stdout",
     "output_type": "stream",
     "text": [
      "Null Log-liklihood: -17005.987\n",
      "Log-liklihood at convergence: -9700.188\n",
      "Log-liklihood Ratio: 0.430\n",
      "\n",
      "+------------------------------+-------------+------------+---------+\n",
      "| Component                    | Coefficient | Std. Error | T-Score |\n",
      "+------------------------------+-------------+------------+---------+\n",
      "| general_type_is_Retail       |    2.258    |   0.040    |  56.936 |\n",
      "| b_ln_non_residential_sqft    |    0.822    |   0.012    |  70.110 |\n",
      "| zones_ln_empden_5            |    0.795    |   0.033    |  23.993 |\n",
      "| nodes_drv_log_sum_45min_jobs |    0.013    |   0.010    |  1.382  |\n",
      "| building_age                 |    -0.014   |   0.001    | -16.802 |\n",
      "| nodes_walk_ave_income        |    0.008    |   0.005    |  1.861  |\n",
      "+------------------------------+-------------+------------+---------+\n",
      "None\n"
     ]
    },
    {
     "data": {
      "text/plain": [
       "<matplotlib.axes._subplots.AxesSubplot at 0x7fe8282bcf10>"
      ]
     },
     "execution_count": 62,
     "metadata": {},
     "output_type": "execute_result"
    },
    {
     "data": {
      "image/png": "[encoded data removed]",
      "text/plain": [
       "<matplotlib.figure.Figure at 0x7fe82855ed50>"
      ]
     },
     "metadata": {},
     "output_type": "display_data"
    }
   ],
   "source": [
    "dcm = MNLDiscreteChoiceModel(model_expression=['general_type_is_Retail', 'b_ln_non_residential_sqft', 'zones_ln_empden_5',\n",
    "                                               'nodes_drv_log_sum_45min_jobs', 'building_age', 'nodes_walk_ave_income'],\n",
    "                             sample_size=30,\n",
    "                             probability_mode='single_chooser',\n",
    "                             choice_mode='aggregate',\n",
    "                             estimation_sample_size=5000,\n",
    "                             choosers_fit_filters=\"(sector_id == 5) & (home_based_status == 0)\")\n",
    "\n",
    "dcm.fit(jobs, buildings_nonres, 'building_id')\n",
    "\n",
    "print dcm.report_fit()\n",
    "proba = dcm.probabilities(jobs, buildings_nonres).reset_index().set_index('alternative_id')[0]\n",
    "pd.DataFrame({'proba':proba, 'btype_id':buildings.building_type_id}).groupby('btype_id').sum().plot.bar()"
   ]
  },
  {
   "cell_type": "code",
   "execution_count": 63,
   "metadata": {},
   "outputs": [],
   "source": [
    "dcm.to_yaml('elcm5.yaml')"
   ]
  },
  {
   "cell_type": "markdown",
   "metadata": {},
   "source": [
    "## Sector 8"
   ]
  },
  {
   "cell_type": "code",
   "execution_count": 74,
   "metadata": {},
   "outputs": [
    {
     "name": "stdout",
     "output_type": "stream",
     "text": [
      "Null Log-liklihood: -17005.987\n",
      "Log-liklihood at convergence: -9306.277\n",
      "Log-liklihood Ratio: 0.453\n",
      "\n",
      "+------------------------------+-------------+------------+---------+\n",
      "| Component                    | Coefficient | Std. Error | T-Score |\n",
      "+------------------------------+-------------+------------+---------+\n",
      "| general_type_is_Office       |    1.533    |   0.036    |  42.010 |\n",
      "| b_ln_non_residential_sqft    |    0.728    |   0.012    |  59.043 |\n",
      "| zones_ln_empden_8            |    1.465    |   0.032    |  46.357 |\n",
      "| nodes_drv_log_sum_30min_jobs |    0.050    |   0.010    |  5.032  |\n",
      "| building_age                 |    -0.009   |   0.001    | -11.760 |\n",
      "+------------------------------+-------------+------------+---------+\n",
      "None\n"
     ]
    },
    {
     "data": {
      "text/plain": [
       "<matplotlib.axes._subplots.AxesSubplot at 0x7fe8236eba50>"
      ]
     },
     "execution_count": 74,
     "metadata": {},
     "output_type": "execute_result"
    },
    {
     "data": {
      "image/png": "[encoded data removed]",
      "text/plain": [
       "<matplotlib.figure.Figure at 0x7fe8237a3850>"
      ]
     },
     "metadata": {},
     "output_type": "display_data"
    }
   ],
   "source": [
    "dcm = MNLDiscreteChoiceModel(model_expression=['general_type_is_Office', 'b_ln_non_residential_sqft', 'zones_ln_empden_8',\n",
    "                                               'nodes_drv_log_sum_30min_jobs', 'building_age'],\n",
    "                             sample_size=30,\n",
    "                             probability_mode='single_chooser',\n",
    "                             choice_mode='aggregate',\n",
    "                             estimation_sample_size=5000,\n",
    "                             choosers_fit_filters=\"(sector_id == 8) & (home_based_status == 0)\")\n",
    "\n",
    "dcm.fit(jobs, buildings_nonres, 'building_id')\n",
    "\n",
    "print dcm.report_fit()\n",
    "proba = dcm.probabilities(jobs, buildings_nonres).reset_index().set_index('alternative_id')[0]\n",
    "pd.DataFrame({'proba':proba, 'btype_id':buildings.building_type_id}).groupby('btype_id').sum().plot.bar()"
   ]
  },
  {
   "cell_type": "code",
   "execution_count": 75,
   "metadata": {},
   "outputs": [],
   "source": [
    "dcm.to_yaml('elcm8.yaml')"
   ]
  },
  {
   "cell_type": "markdown",
   "metadata": {},
   "source": [
    "## Sector 9"
   ]
  },
  {
   "cell_type": "code",
   "execution_count": 80,
   "metadata": {},
   "outputs": [
    {
     "name": "stdout",
     "output_type": "stream",
     "text": [
      "Null Log-liklihood: -17005.987\n",
      "Log-liklihood at convergence: -9525.123\n",
      "Log-liklihood Ratio: 0.440\n",
      "\n",
      "+------------------------------+-------------+------------+---------+\n",
      "| Component                    | Coefficient | Std. Error | T-Score |\n",
      "+------------------------------+-------------+------------+---------+\n",
      "| general_type_is_Office       |    2.318    |   0.038    |  61.760 |\n",
      "| b_ln_non_residential_sqft    |    0.553    |   0.013    |  41.141 |\n",
      "| zones_ln_empden_9            |    0.870    |   0.026    |  33.578 |\n",
      "| nodes_drv_log_sum_45min_jobs |    0.026    |   0.010    |  2.478  |\n",
      "| building_age                 |    -0.013   |   0.001    | -16.723 |\n",
      "| nodes_walk_residential       |    0.002    |   0.000    |  9.852  |\n",
      "+------------------------------+-------------+------------+---------+\n",
      "None\n"
     ]
    },
    {
     "data": {
      "text/plain": [
       "<matplotlib.axes._subplots.AxesSubplot at 0x7fe8230d5710>"
      ]
     },
     "execution_count": 80,
     "metadata": {},
     "output_type": "execute_result"
    },
    {
     "data": {
      "image/png": "[encoded data removed]",
      "text/plain": [
       "<matplotlib.figure.Figure at 0x7fe823435c90>"
      ]
     },
     "metadata": {},
     "output_type": "display_data"
    }
   ],
   "source": [
    "dcm = MNLDiscreteChoiceModel(model_expression=['general_type_is_Office', 'b_ln_non_residential_sqft', 'zones_ln_empden_9',\n",
    "                                               'nodes_drv_log_sum_45min_jobs', 'building_age', 'nodes_walk_residential'],\n",
    "                             sample_size=30,\n",
    "                             probability_mode='single_chooser',\n",
    "                             choice_mode='aggregate',\n",
    "                             estimation_sample_size=5000,\n",
    "                             choosers_fit_filters=\"(sector_id == 9) & (home_based_status == 0)\")\n",
    "\n",
    "dcm.fit(jobs, buildings_nonres, 'building_id')\n",
    "\n",
    "print dcm.report_fit()\n",
    "proba = dcm.probabilities(jobs, buildings_nonres).reset_index().set_index('alternative_id')[0]\n",
    "pd.DataFrame({'proba':proba, 'btype_id':buildings.building_type_id}).groupby('btype_id').sum().plot.bar()"
   ]
  },
  {
   "cell_type": "code",
   "execution_count": 81,
   "metadata": {},
   "outputs": [],
   "source": [
    "dcm.to_yaml('elcm9.yaml')"
   ]
  },
  {
   "cell_type": "markdown",
   "metadata": {},
   "source": [
    "## ELCM10"
   ]
  },
  {
   "cell_type": "code",
   "execution_count": 84,
   "metadata": {},
   "outputs": [
    {
     "name": "stdout",
     "output_type": "stream",
     "text": [
      "Null Log-liklihood: -17005.987\n",
      "Log-liklihood at convergence: -7787.912\n",
      "Log-liklihood Ratio: 0.542\n",
      "\n",
      "+------------------------------+-------------+------------+---------+\n",
      "| Component                    | Coefficient | Std. Error | T-Score |\n",
      "+------------------------------+-------------+------------+---------+\n",
      "| general_type_is_Office       |    1.736    |   0.039    |  44.216 |\n",
      "| b_ln_non_residential_sqft    |    0.813    |   0.014    |  59.482 |\n",
      "| zones_ln_empden_10           |    0.953    |   0.022    |  43.179 |\n",
      "| nodes_drv_log_sum_45min_jobs |    0.094    |   0.011    |  8.540  |\n",
      "| building_age                 |    -0.012   |   0.001    | -14.258 |\n",
      "| nodes_walk_residential       |    0.001    |   0.000    |  2.985  |\n",
      "+------------------------------+-------------+------------+---------+\n",
      "None\n"
     ]
    },
    {
     "data": {
      "text/plain": [
       "<matplotlib.axes._subplots.AxesSubplot at 0x7fe822faf110>"
      ]
     },
     "execution_count": 84,
     "metadata": {},
     "output_type": "execute_result"
    },
    {
     "data": {
      "image/png": "[encoded data removed]",
      "text/plain": [
       "<matplotlib.figure.Figure at 0x7fe822d826d0>"
      ]
     },
     "metadata": {},
     "output_type": "display_data"
    }
   ],
   "source": [
    "dcm = MNLDiscreteChoiceModel(model_expression=['general_type_is_Office', 'b_ln_non_residential_sqft', 'zones_ln_empden_10',\n",
    "                                               'nodes_drv_log_sum_45min_jobs', 'building_age', 'nodes_walk_residential'],\n",
    "                             sample_size=30,\n",
    "                             probability_mode='single_chooser',\n",
    "                             choice_mode='aggregate',\n",
    "                             estimation_sample_size=5000,\n",
    "                             choosers_fit_filters=\"(sector_id == 10) & (home_based_status == 0)\")\n",
    "\n",
    "dcm.fit(jobs, buildings_nonres, 'building_id')\n",
    "\n",
    "print dcm.report_fit()\n",
    "proba = dcm.probabilities(jobs, buildings_nonres).reset_index().set_index('alternative_id')[0]\n",
    "pd.DataFrame({'proba':proba, 'btype_id':buildings.building_type_id}).groupby('btype_id').sum().plot.bar()"
   ]
  },
  {
   "cell_type": "code",
   "execution_count": 85,
   "metadata": {},
   "outputs": [],
   "source": [
    "dcm.to_yaml('elcm10.yaml')"
   ]
  },
  {
   "cell_type": "markdown",
   "metadata": {},
   "source": [
    "## Sector 11"
   ]
  },
  {
   "cell_type": "code",
   "execution_count": 88,
   "metadata": {},
   "outputs": [
    {
     "name": "stdout",
     "output_type": "stream",
     "text": [
      "Null Log-liklihood: -17005.987\n",
      "Log-liklihood at convergence: -2189.455\n",
      "Log-liklihood Ratio: 0.871\n",
      "\n",
      "+------------------------------+-------------+------------+---------+\n",
      "| Component                    | Coefficient | Std. Error | T-Score |\n",
      "+------------------------------+-------------+------------+---------+\n",
      "| general_type_is_Office       |    0.853    |   0.074    |  11.452 |\n",
      "| b_ln_non_residential_sqft    |    1.046    |   0.025    |  41.379 |\n",
      "| zones_ln_empden_11           |    2.920    |   0.038    |  77.463 |\n",
      "| nodes_drv_log_sum_30min_jobs |    0.451    |   0.021    |  22.005 |\n",
      "| building_age                 |    -0.025   |   0.002    | -16.192 |\n",
      "+------------------------------+-------------+------------+---------+\n",
      "None\n"
     ]
    },
    {
     "data": {
      "text/plain": [
       "<matplotlib.axes._subplots.AxesSubplot at 0x7fe822b66f90>"
      ]
     },
     "execution_count": 88,
     "metadata": {},
     "output_type": "execute_result"
    },
    {
     "data": {
      "image/png": "[encoded data removed]",
      "text/plain": [
       "<matplotlib.figure.Figure at 0x7fe822b30210>"
      ]
     },
     "metadata": {},
     "output_type": "display_data"
    }
   ],
   "source": [
    "dcm = MNLDiscreteChoiceModel(model_expression=['general_type_is_Office', 'b_ln_non_residential_sqft', 'zones_ln_empden_11',\n",
    "                                               'nodes_drv_log_sum_30min_jobs', 'building_age'],\n",
    "                             sample_size=30,\n",
    "                             probability_mode='single_chooser',\n",
    "                             choice_mode='aggregate',\n",
    "                             estimation_sample_size=5000,\n",
    "                             choosers_fit_filters=\"(sector_id == 11) & (home_based_status == 0)\")\n",
    "\n",
    "dcm.fit(jobs, buildings_nonres, 'building_id')\n",
    "\n",
    "print dcm.report_fit()\n",
    "proba = dcm.probabilities(jobs, buildings_nonres).reset_index().set_index('alternative_id')[0]\n",
    "pd.DataFrame({'proba':proba, 'btype_id':buildings.building_type_id}).groupby('btype_id').sum().plot.bar()"
   ]
  },
  {
   "cell_type": "code",
   "execution_count": 89,
   "metadata": {},
   "outputs": [],
   "source": [
    "dcm.to_yaml('elcm11.yaml')"
   ]
  },
  {
   "cell_type": "markdown",
   "metadata": {},
   "source": [
    "## Sector 16"
   ]
  },
  {
   "cell_type": "code",
   "execution_count": 97,
   "metadata": {},
   "outputs": [
    {
     "name": "stdout",
     "output_type": "stream",
     "text": [
      "Null Log-liklihood: -17005.987\n",
      "Log-liklihood at convergence: -10132.771\n",
      "Log-liklihood Ratio: 0.404\n",
      "\n",
      "+------------------------------+-------------+------------+---------+\n",
      "| Component                    | Coefficient | Std. Error | T-Score |\n",
      "+------------------------------+-------------+------------+---------+\n",
      "| general_type_is_Retail       |    1.969    |   0.046    |  43.244 |\n",
      "| building_type_id_is_26       |    2.355    |   0.041    |  56.774 |\n",
      "| b_ln_non_residential_sqft    |    0.699    |   0.012    |  57.100 |\n",
      "| zones_ln_empden_16           |    0.738    |   0.023    |  32.449 |\n",
      "| nodes_drv_log_sum_30min_jobs |    0.019    |   0.010    |  1.900  |\n",
      "| building_age                 |    -0.013   |   0.001    | -18.974 |\n",
      "+------------------------------+-------------+------------+---------+\n",
      "None\n"
     ]
    },
    {
     "data": {
      "text/plain": [
       "<matplotlib.axes._subplots.AxesSubplot at 0x7fe8222bab90>"
      ]
     },
     "execution_count": 97,
     "metadata": {},
     "output_type": "execute_result"
    },
    {
     "data": {
      "image/png": "[encoded data removed]",
      "text/plain": [
       "<matplotlib.figure.Figure at 0x7fe8225328d0>"
      ]
     },
     "metadata": {},
     "output_type": "display_data"
    }
   ],
   "source": [
    "dcm = MNLDiscreteChoiceModel(model_expression=['general_type_is_Retail', 'building_type_id_is_26', 'b_ln_non_residential_sqft', 'zones_ln_empden_16',\n",
    "                                               'nodes_drv_log_sum_30min_jobs', 'building_age'],\n",
    "                             sample_size=30,\n",
    "                             probability_mode='single_chooser',\n",
    "                             choice_mode='aggregate',\n",
    "                             estimation_sample_size=5000,\n",
    "                             choosers_fit_filters=\"(sector_id == 16) & (home_based_status == 0)\")\n",
    "\n",
    "dcm.fit(jobs, buildings_nonres, 'building_id')\n",
    "\n",
    "print dcm.report_fit()\n",
    "proba = dcm.probabilities(jobs, buildings_nonres).reset_index().set_index('alternative_id')[0]\n",
    "pd.DataFrame({'proba':proba, 'btype_id':buildings.building_type_id}).groupby('btype_id').sum().plot.bar()"
   ]
  },
  {
   "cell_type": "code",
   "execution_count": 98,
   "metadata": {},
   "outputs": [],
   "source": [
    "dcm.to_yaml('elcm16.yaml')"
   ]
  },
  {
   "cell_type": "markdown",
   "metadata": {},
   "source": [
    "## Sector 17"
   ]
  },
  {
   "cell_type": "code",
   "execution_count": 103,
   "metadata": {},
   "outputs": [
    {
     "name": "stdout",
     "output_type": "stream",
     "text": [
      "Null Log-liklihood: -17005.987\n",
      "Log-liklihood at convergence: -15226.013\n",
      "Log-liklihood Ratio: 0.105\n",
      "\n",
      "+------------------------------+-------------+------------+---------+\n",
      "| Component                    | Coefficient | Std. Error | T-Score |\n",
      "+------------------------------+-------------+------------+---------+\n",
      "| general_type_is_Retail       |    0.796    |   0.034    |  23.105 |\n",
      "| general_type_is_Office       |    0.657    |   0.041    |  16.030 |\n",
      "| b_ln_non_residential_sqft    |    0.497    |   0.010    |  47.662 |\n",
      "| zones_ln_empden_17           |    0.802    |   0.040    |  19.886 |\n",
      "| nodes_drv_log_sum_30min_jobs |    0.121    |   0.009    |  14.044 |\n",
      "| building_age                 |    -0.002   |   0.001    |  -2.291 |\n",
      "+------------------------------+-------------+------------+---------+\n",
      "None\n"
     ]
    },
    {
     "data": {
      "text/plain": [
       "<matplotlib.axes._subplots.AxesSubplot at 0x7fe821c81650>"
      ]
     },
     "execution_count": 103,
     "metadata": {},
     "output_type": "execute_result"
    },
    {
     "data": {
      "image/png": "[encoded data removed]",
      "text/plain": [
       "<matplotlib.figure.Figure at 0x7fe821fb85d0>"
      ]
     },
     "metadata": {},
     "output_type": "display_data"
    }
   ],
   "source": [
    "dcm = MNLDiscreteChoiceModel(model_expression=['general_type_is_Retail', 'general_type_is_Office', 'b_ln_non_residential_sqft', 'zones_ln_empden_17',\n",
    "                                               'nodes_drv_log_sum_30min_jobs', 'building_age'],\n",
    "                             sample_size=30,\n",
    "                             probability_mode='single_chooser',\n",
    "                             choice_mode='aggregate',\n",
    "                             estimation_sample_size=5000,\n",
    "                             choosers_fit_filters=\"(sector_id == 17) & (home_based_status == 0)\")\n",
    "\n",
    "dcm.fit(jobs, buildings_nonres, 'building_id')\n",
    "\n",
    "print dcm.report_fit()\n",
    "proba = dcm.probabilities(jobs, buildings_nonres).reset_index().set_index('alternative_id')[0]\n",
    "pd.DataFrame({'proba':proba, 'btype_id':buildings.building_type_id}).groupby('btype_id').sum().plot.bar()"
   ]
  },
  {
   "cell_type": "code",
   "execution_count": 104,
   "metadata": {},
   "outputs": [],
   "source": [
    "dcm.to_yaml('elcm17.yaml')"
   ]
  }
 ],
 "metadata": {
  "kernelspec": {
   "display_name": "Python 2",
   "language": "python",
   "name": "python2"
  },
  "language_info": {
   "codemirror_mode": {
    "name": "ipython",
    "version": 2
   },
   "file_extension": ".py",
   "mimetype": "text/x-python",
   "name": "python",
   "nbconvert_exporter": "python",
   "pygments_lexer": "ipython2",
   "version": "2.7.14"
  }
 },
 "nbformat": 4,
 "nbformat_minor": 2
}
