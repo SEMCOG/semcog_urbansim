{
 "metadata": {
  "name": "",
  "signature": "sha256:70737085a84ebabcdea791be3a1b2cc2fd5cfed491834a806cc89b7446886bc9"
 },
 "nbformat": 3,
 "nbformat_minor": 0,
 "worksheets": [
  {
   "cells": [
    {
     "cell_type": "heading",
     "level": 1,
     "metadata": {},
     "source": [
      "Residential Price Model"
     ]
    },
    {
     "cell_type": "heading",
     "level": 2,
     "metadata": {},
     "source": [
      "Imports"
     ]
    },
    {
     "cell_type": "code",
     "collapsed": false,
     "input": [
      "import numpy as np\n",
      "import pandas as pd"
     ],
     "language": "python",
     "metadata": {},
     "outputs": [],
     "prompt_number": 4
    },
    {
     "cell_type": "heading",
     "level": 2,
     "metadata": {},
     "source": [
      "Merge"
     ]
    },
    {
     "cell_type": "code",
     "collapsed": false,
     "input": [
      "def merge_buildings_parcels(buildings, parcels):\n",
      "    return pd.merge(buildings, parcels, left_on='parcel_id', right_index=True)"
     ],
     "language": "python",
     "metadata": {},
     "outputs": [],
     "prompt_number": 5
    },
    {
     "cell_type": "heading",
     "level": 2,
     "metadata": {},
     "source": [
      "Subset"
     ]
    },
    {
     "cell_type": "code",
     "collapsed": false,
     "input": [
      "def apply_filter_query(df, filters):\n",
      "    query = ' and '.join(filters)\n",
      "    return df.query(query)"
     ],
     "language": "python",
     "metadata": {},
     "outputs": [],
     "prompt_number": 6
    },
    {
     "cell_type": "code",
     "collapsed": false,
     "input": [
      "def filter_buildings(buildings):\n",
      "    filters = ['residential_units > 0',\n",
      "               'sqft_per_unit > 0',\n",
      "               'year_built > 1700',\n",
      "               'stories > 0',\n",
      "               'tax_exempt == 0',\n",
      "               '1e5 < unit_price_res < 1e7',\n",
      "               '16 <= building_type_id <= 20']\n",
      "    return apply_filter_query(buildings, filters)"
     ],
     "language": "python",
     "metadata": {},
     "outputs": [],
     "prompt_number": 7
    },
    {
     "cell_type": "heading",
     "level": 2,
     "metadata": {},
     "source": [
      "Calculations"
     ]
    },
    {
     "cell_type": "code",
     "collapsed": false,
     "input": [
      "def unit_price_res_column(buildings):\n",
      "    buildings['unit_price_res'] = buildings.improvement_value / buildings.residential_units\n",
      "    buildings['unit_price_res'][buildings['residential_units'] == 0] = 0\n",
      "    return buildings"
     ],
     "language": "python",
     "metadata": {},
     "outputs": [],
     "prompt_number": 8
    },
    {
     "cell_type": "code",
     "collapsed": false,
     "input": [
      "def res_price_model_segmentation_id(buildings):\n",
      "    buildings['segmentation_id'] = \\\n",
      "        (buildings.county_id + (buildings.building_type_id * 1e3)).astype(np.int32)\n",
      "    return buildings"
     ],
     "language": "python",
     "metadata": {},
     "outputs": [],
     "prompt_number": 9
    },
    {
     "cell_type": "code",
     "collapsed": false,
     "input": [
      "# calculate population density at the zonal level as people per acre\n",
      "# then broadcast out to the building level\n",
      "def population_density(buildings, households):\n",
      "    sqft_per_acre = 43560\n",
      "    \n",
      "    bldg_pop = households.groupby('building_id').persons.sum()\n",
      "    zone_pop = bldg_pop.groupby(buildings.zone_id).sum()\n",
      "    zone_acres = buildings.parcel_sqft.groupby(buildings.zone_id).sum() / sqft_per_acre\n",
      "    pop_density = (zone_pop / zone_acres).fillna(0)\n",
      "    buildings['popden'] = pd.Series(pop_density[buildings.zone_id].values, index=buildings.index)\n",
      "    return buildings"
     ],
     "language": "python",
     "metadata": {},
     "outputs": [],
     "prompt_number": 10
    },
    {
     "cell_type": "code",
     "collapsed": false,
     "input": [
      "def crime_rate(buildings, cities):\n",
      "    buildings['crime08'] = cities.crime08[buildings.city_id].values\n",
      "    return buildings"
     ],
     "language": "python",
     "metadata": {},
     "outputs": [],
     "prompt_number": 11
    },
    {
     "cell_type": "code",
     "collapsed": false,
     "input": [
      "def jobs_within_30_min(buildings, travel_data, jobs):\n",
      "    zones_within_30_min = (travel_data.reset_index(level='to_zone_id')\n",
      "                           .query('am_single_vehicle_to_work_travel_time < 30').to_zone_id)\n",
      "    job_counts = jobs.groupby('zone_id').size()\n",
      "    job_counts = pd.Series(\n",
      "        job_counts[zones_within_30_min].fillna(0).values, \n",
      "        index=zones_within_30_min.index).groupby(level=0).sum()\n",
      "    buildings['jobs_within_30_min'] = job_counts[buildings.zone_id].fillna(0).values\n",
      "    return buildings"
     ],
     "language": "python",
     "metadata": {},
     "outputs": [],
     "prompt_number": 12
    },
    {
     "cell_type": "heading",
     "level": 2,
     "metadata": {},
     "source": [
      "Pull Data, Apply Changes"
     ]
    },
    {
     "cell_type": "code",
     "collapsed": false,
     "input": [
      "data_store = pd.HDFStore('./data/semcog_data.h5', mode='r')"
     ],
     "language": "python",
     "metadata": {},
     "outputs": [],
     "prompt_number": 13
    },
    {
     "cell_type": "code",
     "collapsed": false,
     "input": [
      "buildings = merge_buildings_parcels(data_store['buildings'], data_store['parcels'])\n",
      "\n",
      "buildings = unit_price_res_column(buildings)\n",
      "buildings = res_price_model_segmentation_id(buildings)\n",
      "buildings = population_density(buildings, data_store['households'])\n",
      "buildings = crime_rate(buildings, data_store['cities'])\n",
      "buildings = jobs_within_30_min(buildings, data_store['travel_data'], data_store['jobs'])"
     ],
     "language": "python",
     "metadata": {},
     "outputs": [],
     "prompt_number": 14
    },
    {
     "cell_type": "heading",
     "level": 2,
     "metadata": {},
     "source": [
      "urbansim"
     ]
    },
    {
     "cell_type": "code",
     "collapsed": false,
     "input": [
      "from urbansim.models import HedonicModel"
     ],
     "language": "python",
     "metadata": {},
     "outputs": [],
     "prompt_number": 3
    },
    {
     "cell_type": "code",
     "collapsed": false,
     "input": [
      "def patsy_expression():\n",
      "    patsy_exp = ['I(year_built < 1940)',\n",
      "                 'year_built',\n",
      "                 'stories',\n",
      "                 'np.log1p(sqft_per_unit)',\n",
      "                 'np.log1p(popden)',\n",
      "                 'dist_hwy',\n",
      "                 'dist_road',\n",
      "                 'crime08',\n",
      "                 'np.log1p(jobs_within_30_min)']\n",
      "    patsy_exp = ' + '.join(patsy_exp)\n",
      "    return 'np.log(unit_price_res) ~ ' + patsy_exp\n",
      "model_expression = patsy_expression()"
     ],
     "language": "python",
     "metadata": {},
     "outputs": [],
     "prompt_number": 15
    },
    {
     "cell_type": "code",
     "collapsed": false,
     "input": [
      "estimate_filters = ['residential_units > 0',\n",
      "                   'sqft_per_unit > 0',\n",
      "                   'year_built > 1700',\n",
      "                   'stories > 0',\n",
      "                   'tax_exempt == 0',\n",
      "                   '1e5 < unit_price_res < 1e7',\n",
      "                   '16 <= building_type_id <= 20']"
     ],
     "language": "python",
     "metadata": {},
     "outputs": [],
     "prompt_number": 16
    },
    {
     "cell_type": "code",
     "collapsed": false,
     "input": [
      "simulate_filters = ['residential_units > 0',\n",
      "                    '16 <= building_type_id <= 20']"
     ],
     "language": "python",
     "metadata": {},
     "outputs": [],
     "prompt_number": 17
    },
    {
     "cell_type": "code",
     "collapsed": false,
     "input": [
      "segments = buildings.groupby('building_type_id') "
     ],
     "language": "python",
     "metadata": {},
     "outputs": [],
     "prompt_number": 19
    },
    {
     "cell_type": "code",
     "collapsed": false,
     "input": [
      "s16 = buildings.loc[segments.groups[16]]"
     ],
     "language": "python",
     "metadata": {},
     "outputs": [],
     "prompt_number": 22
    },
    {
     "cell_type": "code",
     "collapsed": false,
     "input": [
      "model = HedonicModel(estimate_filters, simulate_filters, model_expression,\n",
      "                     ytransform=np.exp, name='Residential Price Model')"
     ],
     "language": "python",
     "metadata": {},
     "outputs": [],
     "prompt_number": 18
    },
    {
     "cell_type": "code",
     "collapsed": false,
     "input": [
      "result = model.fit_model(s16)"
     ],
     "language": "python",
     "metadata": {},
     "outputs": [],
     "prompt_number": 23
    },
    {
     "cell_type": "code",
     "collapsed": false,
     "input": [
      "result.summary()"
     ],
     "language": "python",
     "metadata": {},
     "outputs": [
      {
       "html": [
        "<table class=\"simpletable\">\n",
        "<caption>OLS Regression Results</caption>\n",
        "<tr>\n",
        "  <th>Dep. Variable:</th>    <td>np.log(unit_price_res)</td> <th>  R-squared:         </th> <td>   0.214</td>\n",
        "</tr>\n",
        "<tr>\n",
        "  <th>Model:</th>                      <td>OLS</td>          <th>  Adj. R-squared:    </th> <td>   0.201</td>\n",
        "</tr>\n",
        "<tr>\n",
        "  <th>Method:</th>                <td>Least Squares</td>     <th>  F-statistic:       </th> <td>   16.56</td>\n",
        "</tr>\n",
        "<tr>\n",
        "  <th>Date:</th>                <td>Wed, 09 Apr 2014</td>    <th>  Prob (F-statistic):</th> <td>3.40e-24</td>\n",
        "</tr>\n",
        "<tr>\n",
        "  <th>Time:</th>                    <td>15:05:39</td>        <th>  Log-Likelihood:    </th> <td> -138.22</td>\n",
        "</tr>\n",
        "<tr>\n",
        "  <th>No. Observations:</th>         <td>   557</td>         <th>  AIC:               </th> <td>   296.4</td>\n",
        "</tr>\n",
        "<tr>\n",
        "  <th>Df Residuals:</th>             <td>   547</td>         <th>  BIC:               </th> <td>   339.7</td>\n",
        "</tr>\n",
        "<tr>\n",
        "  <th>Df Model:</th>                 <td>     9</td>         <th>                     </th>     <td> </td>   \n",
        "</tr>\n",
        "</table>\n",
        "<table class=\"simpletable\">\n",
        "<tr>\n",
        "                <td></td>                  <th>coef</th>     <th>std err</th>      <th>t</th>      <th>P>|t|</th> <th>[95.0% Conf. Int.]</th> \n",
        "</tr>\n",
        "<tr>\n",
        "  <th>Intercept</th>                    <td>    5.5657</td> <td>    1.684</td> <td>    3.306</td> <td> 0.001</td> <td>    2.259     8.873</td>\n",
        "</tr>\n",
        "<tr>\n",
        "  <th>I(year_built < 1940)[T.True]</th> <td>    0.1812</td> <td>    0.096</td> <td>    1.894</td> <td> 0.059</td> <td>   -0.007     0.369</td>\n",
        "</tr>\n",
        "<tr>\n",
        "  <th>year_built</th>                   <td>    0.0015</td> <td>    0.001</td> <td>    1.797</td> <td> 0.073</td> <td>   -0.000     0.003</td>\n",
        "</tr>\n",
        "<tr>\n",
        "  <th>stories</th>                      <td>   -0.0008</td> <td>    0.032</td> <td>   -0.025</td> <td> 0.980</td> <td>   -0.064     0.062</td>\n",
        "</tr>\n",
        "<tr>\n",
        "  <th>np.log1p(sqft_per_unit)</th>      <td>    0.3386</td> <td>    0.034</td> <td>    9.827</td> <td> 0.000</td> <td>    0.271     0.406</td>\n",
        "</tr>\n",
        "<tr>\n",
        "  <th>np.log1p(popden)</th>             <td>    0.0982</td> <td>    0.116</td> <td>    0.848</td> <td> 0.397</td> <td>   -0.129     0.326</td>\n",
        "</tr>\n",
        "<tr>\n",
        "  <th>dist_hwy</th>                     <td> 3.039e-07</td> <td> 1.15e-06</td> <td>    0.265</td> <td> 0.791</td> <td>-1.95e-06  2.55e-06</td>\n",
        "</tr>\n",
        "<tr>\n",
        "  <th>dist_road</th>                    <td> 1.067e-06</td> <td> 7.52e-06</td> <td>    0.142</td> <td> 0.887</td> <td>-1.37e-05  1.58e-05</td>\n",
        "</tr>\n",
        "<tr>\n",
        "  <th>crime08</th>                      <td>    0.0085</td> <td>    0.003</td> <td>    2.744</td> <td> 0.006</td> <td>    0.002     0.015</td>\n",
        "</tr>\n",
        "<tr>\n",
        "  <th>np.log1p(jobs_within_30_min)</th> <td>    0.0355</td> <td>    0.010</td> <td>    3.637</td> <td> 0.000</td> <td>    0.016     0.055</td>\n",
        "</tr>\n",
        "</table>\n",
        "<table class=\"simpletable\">\n",
        "<tr>\n",
        "  <th>Omnibus:</th>       <td>200.736</td> <th>  Durbin-Watson:     </th> <td>   1.767</td> \n",
        "</tr>\n",
        "<tr>\n",
        "  <th>Prob(Omnibus):</th> <td> 0.000</td>  <th>  Jarque-Bera (JB):  </th> <td> 846.926</td> \n",
        "</tr>\n",
        "<tr>\n",
        "  <th>Skew:</th>          <td> 1.594</td>  <th>  Prob(JB):          </th> <td>1.24e-184</td>\n",
        "</tr>\n",
        "<tr>\n",
        "  <th>Kurtosis:</th>      <td> 8.131</td>  <th>  Cond. No.          </th> <td>3.27e+06</td> \n",
        "</tr>\n",
        "</table>"
       ],
       "metadata": {},
       "output_type": "pyout",
       "prompt_number": 24,
       "text": [
        "<class 'statsmodels.iolib.summary.Summary'>\n",
        "\"\"\"\n",
        "                              OLS Regression Results                              \n",
        "==================================================================================\n",
        "Dep. Variable:     np.log(unit_price_res)   R-squared:                       0.214\n",
        "Model:                                OLS   Adj. R-squared:                  0.201\n",
        "Method:                     Least Squares   F-statistic:                     16.56\n",
        "Date:                    Wed, 09 Apr 2014   Prob (F-statistic):           3.40e-24\n",
        "Time:                            15:05:39   Log-Likelihood:                -138.22\n",
        "No. Observations:                     557   AIC:                             296.4\n",
        "Df Residuals:                         547   BIC:                             339.7\n",
        "Df Model:                               9                                         \n",
        "================================================================================================\n",
        "                                   coef    std err          t      P>|t|      [95.0% Conf. Int.]\n",
        "------------------------------------------------------------------------------------------------\n",
        "Intercept                        5.5657      1.684      3.306      0.001         2.259     8.873\n",
        "I(year_built < 1940)[T.True]     0.1812      0.096      1.894      0.059        -0.007     0.369\n",
        "year_built                       0.0015      0.001      1.797      0.073        -0.000     0.003\n",
        "stories                         -0.0008      0.032     -0.025      0.980        -0.064     0.062\n",
        "np.log1p(sqft_per_unit)          0.3386      0.034      9.827      0.000         0.271     0.406\n",
        "np.log1p(popden)                 0.0982      0.116      0.848      0.397        -0.129     0.326\n",
        "dist_hwy                      3.039e-07   1.15e-06      0.265      0.791     -1.95e-06  2.55e-06\n",
        "dist_road                     1.067e-06   7.52e-06      0.142      0.887     -1.37e-05  1.58e-05\n",
        "crime08                          0.0085      0.003      2.744      0.006         0.002     0.015\n",
        "np.log1p(jobs_within_30_min)     0.0355      0.010      3.637      0.000         0.016     0.055\n",
        "==============================================================================\n",
        "Omnibus:                      200.736   Durbin-Watson:                   1.767\n",
        "Prob(Omnibus):                  0.000   Jarque-Bera (JB):              846.926\n",
        "Skew:                           1.594   Prob(JB):                    1.24e-184\n",
        "Kurtosis:                       8.131   Cond. No.                     3.27e+06\n",
        "==============================================================================\n",
        "\n",
        "Warnings:\n",
        "[1] The condition number is large, 3.27e+06. This might indicate that there are\n",
        "strong multicollinearity or other numerical problems.\n",
        "\"\"\""
       ]
      }
     ],
     "prompt_number": 24
    },
    {
     "cell_type": "code",
     "collapsed": false,
     "input": [
      "new_unit_price_res = model.predict(s16)"
     ],
     "language": "python",
     "metadata": {},
     "outputs": [],
     "prompt_number": 26
    },
    {
     "cell_type": "code",
     "collapsed": false,
     "input": [
      "new_unit_price_res"
     ],
     "language": "python",
     "metadata": {},
     "outputs": [
      {
       "metadata": {},
       "output_type": "pyout",
       "prompt_number": 27,
       "text": [
        "311297     95694.685461\n",
        "311396    118529.728643\n",
        "311433     86784.010958\n",
        "311497    104063.207468\n",
        "311505    123073.999658\n",
        "311517    100814.016015\n",
        "311520    102737.091798\n",
        "311541     81818.037121\n",
        "311584     70467.799503\n",
        "311589     98886.099562\n",
        "311597     95793.405685\n",
        "311600    124432.180482\n",
        "311607    111219.705870\n",
        "311659     91454.300558\n",
        "311668    103948.173204\n",
        "...\n",
        "1905337    160930.509625\n",
        "1906003    170780.153647\n",
        "1906151    146042.188045\n",
        "1906163    184345.633612\n",
        "1906166    174243.604220\n",
        "1906661    160273.244530\n",
        "1906954    142515.450701\n",
        "1907083    136271.307936\n",
        "1908287    159830.997846\n",
        "1909489    140429.204542\n",
        "1910178    166503.266794\n",
        "1912754    151727.232457\n",
        "2124290    136870.786512\n",
        "2124384    115700.457335\n",
        "2124689     77288.054721\n",
        "Length: 10179, dtype: float64"
       ]
      }
     ],
     "prompt_number": 27
    },
    {
     "cell_type": "code",
     "collapsed": false,
     "input": [],
     "language": "python",
     "metadata": {},
     "outputs": []
    }
   ],
   "metadata": {}
  }
 ]
}