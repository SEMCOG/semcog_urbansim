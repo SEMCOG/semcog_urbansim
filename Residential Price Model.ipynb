{
 "metadata": {
  "name": "",
  "signature": "sha256:004ef9f72b12e4b62bf0faa1966aae570aa4b422407460d78526f287a1f0d176"
 },
 "nbformat": 3,
 "nbformat_minor": 0,
 "worksheets": [
  {
   "cells": [
    {
     "cell_type": "heading",
     "level": 1,
     "metadata": {},
     "source": [
      "Residential Price Model"
     ]
    },
    {
     "cell_type": "heading",
     "level": 2,
     "metadata": {},
     "source": [
      "Imports"
     ]
    },
    {
     "cell_type": "code",
     "collapsed": false,
     "input": [
      "import numpy as np\n",
      "import pandas as pd"
     ],
     "language": "python",
     "metadata": {},
     "outputs": [],
     "prompt_number": 1
    },
    {
     "cell_type": "heading",
     "level": 2,
     "metadata": {},
     "source": [
      "Merge"
     ]
    },
    {
     "cell_type": "code",
     "collapsed": false,
     "input": [
      "def merge_buildings_parcels(buildings, parcels):\n",
      "    return pd.merge(buildings, parcels, left_on='parcel_id', right_index=True)"
     ],
     "language": "python",
     "metadata": {},
     "outputs": [],
     "prompt_number": 2
    },
    {
     "cell_type": "heading",
     "level": 2,
     "metadata": {},
     "source": [
      "Calculations"
     ]
    },
    {
     "cell_type": "markdown",
     "metadata": {},
     "source": [
      "These functions add new columns to the buildings table by doing\n",
      "calculations and pulling data from other tables.\n",
      "They all modify the buildings table in-place but also return the\n",
      "buildings table for consistency with operations (like merges) that\n",
      "return entirely new tables."
     ]
    },
    {
     "cell_type": "code",
     "collapsed": false,
     "input": [
      "def unit_price_res_column(buildings):\n",
      "    \"\"\"\n",
      "    Calculate residential unit price as improvement_value per residential unit.\n",
      "    \n",
      "    \"\"\"\n",
      "    buildings['unit_price_res'] = buildings.improvement_value / buildings.residential_units\n",
      "    buildings['unit_price_res'][buildings['residential_units'] == 0] = 0\n",
      "    return buildings"
     ],
     "language": "python",
     "metadata": {},
     "outputs": [],
     "prompt_number": 21
    },
    {
     "cell_type": "code",
     "collapsed": false,
     "input": [
      "def population_density(buildings, households):\n",
      "    \"\"\"\n",
      "    Calculate population density at the zonal level as people per acre\n",
      "    then broadcast out to the building level.\n",
      "    \n",
      "    \"\"\"\n",
      "    sqft_per_acre = 43560\n",
      "    \n",
      "    bldg_pop = households.groupby('building_id').persons.sum()\n",
      "    zone_pop = bldg_pop.groupby(buildings.zone_id).sum()\n",
      "    zone_acres = buildings.parcel_sqft.groupby(buildings.zone_id).sum() / sqft_per_acre\n",
      "    pop_density = (zone_pop / zone_acres).fillna(0)\n",
      "    buildings['popden'] = pd.Series(pop_density[buildings.zone_id].values, \n",
      "                                    index=buildings.index)\n",
      "    return buildings"
     ],
     "language": "python",
     "metadata": {},
     "outputs": [],
     "prompt_number": 22
    },
    {
     "cell_type": "code",
     "collapsed": false,
     "input": [
      "def crime_rate(buildings, cities):\n",
      "    \"\"\"\n",
      "    Broadcast crime rate from the cities table to buildings.\n",
      "    \n",
      "    \"\"\"\n",
      "    buildings['crime08'] = cities.crime08[buildings.city_id].values\n",
      "    return buildings"
     ],
     "language": "python",
     "metadata": {},
     "outputs": [],
     "prompt_number": 6
    },
    {
     "cell_type": "code",
     "collapsed": false,
     "input": [
      "def jobs_within_30_min(buildings, travel_data, jobs):\n",
      "    \"\"\"\n",
      "    Calculate the number of jobs within thirty minutes of each building.\n",
      "    This is actually done at the zonal level and then broadcast\n",
      "    to buildings.\n",
      "    \n",
      "    \"\"\"\n",
      "    # The travel_data table has a multi-level index with from_zone_id\n",
      "    # and to_zone_id. We care about the travel time between zones so\n",
      "    # we want to move the to_zone_id into the DataFrame as a regular column\n",
      "    # and then keep all the zone pairs that are less than 30 minutes apart\n",
      "    zones_within_30_min = (travel_data.reset_index(level='to_zone_id')\n",
      "                           .query('am_single_vehicle_to_work_travel_time < 30').to_zone_id)\n",
      "\n",
      "    # The next step is to tabulate the number of jobs in each zone,\n",
      "    # broadcast that across the zones within range of each other zone,\n",
      "    # and finally group by the from_zone_id and total all the jobs within range.\n",
      "    job_counts = jobs.groupby('zone_id').size()\n",
      "    job_counts = pd.Series(\n",
      "        job_counts[zones_within_30_min].fillna(0).values, \n",
      "        index=zones_within_30_min.index).groupby(level=0).sum()\n",
      "    buildings['jobs_within_30_min'] = job_counts[buildings.zone_id].fillna(0).values\n",
      "    return buildings"
     ],
     "language": "python",
     "metadata": {},
     "outputs": [],
     "prompt_number": 23
    },
    {
     "cell_type": "heading",
     "level": 2,
     "metadata": {},
     "source": [
      "Pull Data, Apply Changes"
     ]
    },
    {
     "cell_type": "code",
     "collapsed": false,
     "input": [
      "data_store = pd.HDFStore('./data/semcog_data.h5', mode='r')"
     ],
     "language": "python",
     "metadata": {},
     "outputs": [],
     "prompt_number": 8
    },
    {
     "cell_type": "markdown",
     "metadata": {},
     "source": [
      "Putting all the calls to the data transformation functions in\n",
      "one cell allows me to easily re-run all the transformations when I\n",
      "change something or re-open the notebook."
     ]
    },
    {
     "cell_type": "code",
     "collapsed": false,
     "input": [
      "buildings = merge_buildings_parcels(data_store['buildings'], data_store['parcels'])\n",
      "\n",
      "buildings = unit_price_res_column(buildings)\n",
      "buildings = res_price_model_segmentation_id(buildings)\n",
      "buildings = population_density(buildings, data_store['households'])\n",
      "buildings = crime_rate(buildings, data_store['cities'])\n",
      "buildings = jobs_within_30_min(buildings, data_store['travel_data'], data_store['jobs'])"
     ],
     "language": "python",
     "metadata": {},
     "outputs": [],
     "prompt_number": 9
    },
    {
     "cell_type": "heading",
     "level": 2,
     "metadata": {},
     "source": [
      "Residential Unit Price Regression"
     ]
    },
    {
     "cell_type": "code",
     "collapsed": false,
     "input": [
      "from urbansim.models import HedonicModelGroup"
     ],
     "language": "python",
     "metadata": {},
     "outputs": [],
     "prompt_number": 12
    },
    {
     "cell_type": "markdown",
     "metadata": {},
     "source": [
      "The [patsy](http://patsy.readthedocs.org/en/latest/) expression defined below\n",
      "is the crux of the regression models.\n",
      "The terms in `patsy_exp` are are combined to express a model that's a\n",
      "combination of all the terms.\n",
      "\n",
      "The `I(...)` construction is used to embed regular Python in the model\n",
      "expression. Here `I(year_built < 1940)` results in a boolean column that\n",
      "flags whether a column was made before 1940.\n",
      "The ability to do this saves us from having to pre-populate the buildings\n",
      "table with such a column.\n",
      "\n",
      "Note that columns can also be transformed by any functions that are available in\n",
      "the namespace in which the patsy expression is evaluated.\n",
      "In UrbanSim [NumPy](http://www.numpy.org/) will always be available as `np`\n",
      "and [Pandas](http://pandas.pydata.org/) will always be available as `pd`."
     ]
    },
    {
     "cell_type": "code",
     "collapsed": false,
     "input": [
      "def patsy_expression():\n",
      "    patsy_exp = ['I(year_built < 1940)',\n",
      "                 'year_built',\n",
      "                 'stories',\n",
      "                 'np.log1p(sqft_per_unit)',\n",
      "                 'np.log1p(popden)',\n",
      "                 'dist_hwy',\n",
      "                 'dist_road',\n",
      "                 'crime08',\n",
      "                 'np.log1p(jobs_within_30_min)']\n",
      "    patsy_exp = ' + '.join(patsy_exp)\n",
      "    return 'np.log(unit_price_res) ~ ' + patsy_exp\n",
      "model_expression = patsy_expression()"
     ],
     "language": "python",
     "metadata": {},
     "outputs": [],
     "prompt_number": 13
    },
    {
     "cell_type": "markdown",
     "metadata": {},
     "source": [
      "Filters are combined with ` and ` and passed to the Pandas\n",
      "[query](http://pandas.pydata.org/pandas-docs/stable/indexing.html#the-query-method-experimental)\n",
      "method."
     ]
    },
    {
     "cell_type": "code",
     "collapsed": false,
     "input": [
      "estimate_filters = ['residential_units > 0',\n",
      "                    'sqft_per_unit > 0',\n",
      "                    'year_built > 1700',\n",
      "                    'stories > 0',\n",
      "                    'tax_exempt == 0',\n",
      "                    '1e5 < unit_price_res < 1e7',\n",
      "                    '16 <= building_type_id <= 20']"
     ],
     "language": "python",
     "metadata": {},
     "outputs": [],
     "prompt_number": 14
    },
    {
     "cell_type": "code",
     "collapsed": false,
     "input": [
      "simulate_filters = ['residential_units > 0',\n",
      "                    '16 <= building_type_id <= 20']"
     ],
     "language": "python",
     "metadata": {},
     "outputs": [],
     "prompt_number": 15
    },
    {
     "cell_type": "markdown",
     "metadata": {},
     "source": [
      "The `HedonicModelGroup` is a convenience for interfacing with several\n",
      "`HedonicModel`s that operate on different segments of the same table.\n",
      "With `HedonicModelGroup` all of the segment regressions can be defined\n",
      "separately and then called at the same time on the same table."
     ]
    },
    {
     "cell_type": "code",
     "collapsed": false,
     "input": [
      "group_keys = [16, 17, 18, 19, 20]\n",
      "hmg = HedonicModelGroup('building_type_id')\n",
      "for key in group_keys:\n",
      "    hmg.add_model_from_params(key, estimate_filters, simulate_filters,\n",
      "                              model_expression, ytransform=np.exp)"
     ],
     "language": "python",
     "metadata": {},
     "outputs": [],
     "prompt_number": 16
    },
    {
     "cell_type": "code",
     "collapsed": false,
     "input": [
      "fits = hmg.fit_models(buildings)"
     ],
     "language": "python",
     "metadata": {},
     "outputs": [],
     "prompt_number": 17
    },
    {
     "cell_type": "code",
     "collapsed": false,
     "input": [
      "fits[16].summary()"
     ],
     "language": "python",
     "metadata": {},
     "outputs": [
      {
       "html": [
        "<table class=\"simpletable\">\n",
        "<caption>OLS Regression Results</caption>\n",
        "<tr>\n",
        "  <th>Dep. Variable:</th>    <td>np.log(unit_price_res)</td> <th>  R-squared:         </th> <td>   0.214</td>\n",
        "</tr>\n",
        "<tr>\n",
        "  <th>Model:</th>                      <td>OLS</td>          <th>  Adj. R-squared:    </th> <td>   0.201</td>\n",
        "</tr>\n",
        "<tr>\n",
        "  <th>Method:</th>                <td>Least Squares</td>     <th>  F-statistic:       </th> <td>   16.56</td>\n",
        "</tr>\n",
        "<tr>\n",
        "  <th>Date:</th>                <td>Thu, 10 Apr 2014</td>    <th>  Prob (F-statistic):</th> <td>3.40e-24</td>\n",
        "</tr>\n",
        "<tr>\n",
        "  <th>Time:</th>                    <td>13:00:40</td>        <th>  Log-Likelihood:    </th> <td> -138.22</td>\n",
        "</tr>\n",
        "<tr>\n",
        "  <th>No. Observations:</th>         <td>   557</td>         <th>  AIC:               </th> <td>   296.4</td>\n",
        "</tr>\n",
        "<tr>\n",
        "  <th>Df Residuals:</th>             <td>   547</td>         <th>  BIC:               </th> <td>   339.7</td>\n",
        "</tr>\n",
        "<tr>\n",
        "  <th>Df Model:</th>                 <td>     9</td>         <th>                     </th>     <td> </td>   \n",
        "</tr>\n",
        "</table>\n",
        "<table class=\"simpletable\">\n",
        "<tr>\n",
        "                <td></td>                  <th>coef</th>     <th>std err</th>      <th>t</th>      <th>P>|t|</th> <th>[95.0% Conf. Int.]</th> \n",
        "</tr>\n",
        "<tr>\n",
        "  <th>Intercept</th>                    <td>    5.5657</td> <td>    1.684</td> <td>    3.306</td> <td> 0.001</td> <td>    2.259     8.873</td>\n",
        "</tr>\n",
        "<tr>\n",
        "  <th>I(year_built < 1940)[T.True]</th> <td>    0.1812</td> <td>    0.096</td> <td>    1.894</td> <td> 0.059</td> <td>   -0.007     0.369</td>\n",
        "</tr>\n",
        "<tr>\n",
        "  <th>year_built</th>                   <td>    0.0015</td> <td>    0.001</td> <td>    1.797</td> <td> 0.073</td> <td>   -0.000     0.003</td>\n",
        "</tr>\n",
        "<tr>\n",
        "  <th>stories</th>                      <td>   -0.0008</td> <td>    0.032</td> <td>   -0.025</td> <td> 0.980</td> <td>   -0.064     0.062</td>\n",
        "</tr>\n",
        "<tr>\n",
        "  <th>np.log1p(sqft_per_unit)</th>      <td>    0.3386</td> <td>    0.034</td> <td>    9.827</td> <td> 0.000</td> <td>    0.271     0.406</td>\n",
        "</tr>\n",
        "<tr>\n",
        "  <th>np.log1p(popden)</th>             <td>    0.0982</td> <td>    0.116</td> <td>    0.848</td> <td> 0.397</td> <td>   -0.129     0.326</td>\n",
        "</tr>\n",
        "<tr>\n",
        "  <th>dist_hwy</th>                     <td> 3.039e-07</td> <td> 1.15e-06</td> <td>    0.265</td> <td> 0.791</td> <td>-1.95e-06  2.55e-06</td>\n",
        "</tr>\n",
        "<tr>\n",
        "  <th>dist_road</th>                    <td> 1.067e-06</td> <td> 7.52e-06</td> <td>    0.142</td> <td> 0.887</td> <td>-1.37e-05  1.58e-05</td>\n",
        "</tr>\n",
        "<tr>\n",
        "  <th>crime08</th>                      <td>    0.0085</td> <td>    0.003</td> <td>    2.744</td> <td> 0.006</td> <td>    0.002     0.015</td>\n",
        "</tr>\n",
        "<tr>\n",
        "  <th>np.log1p(jobs_within_30_min)</th> <td>    0.0355</td> <td>    0.010</td> <td>    3.637</td> <td> 0.000</td> <td>    0.016     0.055</td>\n",
        "</tr>\n",
        "</table>\n",
        "<table class=\"simpletable\">\n",
        "<tr>\n",
        "  <th>Omnibus:</th>       <td>200.736</td> <th>  Durbin-Watson:     </th> <td>   1.767</td> \n",
        "</tr>\n",
        "<tr>\n",
        "  <th>Prob(Omnibus):</th> <td> 0.000</td>  <th>  Jarque-Bera (JB):  </th> <td> 846.926</td> \n",
        "</tr>\n",
        "<tr>\n",
        "  <th>Skew:</th>          <td> 1.594</td>  <th>  Prob(JB):          </th> <td>1.24e-184</td>\n",
        "</tr>\n",
        "<tr>\n",
        "  <th>Kurtosis:</th>      <td> 8.131</td>  <th>  Cond. No.          </th> <td>3.27e+06</td> \n",
        "</tr>\n",
        "</table>"
       ],
       "metadata": {},
       "output_type": "pyout",
       "prompt_number": 18,
       "text": [
        "<class 'statsmodels.iolib.summary.Summary'>\n",
        "\"\"\"\n",
        "                              OLS Regression Results                              \n",
        "==================================================================================\n",
        "Dep. Variable:     np.log(unit_price_res)   R-squared:                       0.214\n",
        "Model:                                OLS   Adj. R-squared:                  0.201\n",
        "Method:                     Least Squares   F-statistic:                     16.56\n",
        "Date:                    Thu, 10 Apr 2014   Prob (F-statistic):           3.40e-24\n",
        "Time:                            13:00:40   Log-Likelihood:                -138.22\n",
        "No. Observations:                     557   AIC:                             296.4\n",
        "Df Residuals:                         547   BIC:                             339.7\n",
        "Df Model:                               9                                         \n",
        "================================================================================================\n",
        "                                   coef    std err          t      P>|t|      [95.0% Conf. Int.]\n",
        "------------------------------------------------------------------------------------------------\n",
        "Intercept                        5.5657      1.684      3.306      0.001         2.259     8.873\n",
        "I(year_built < 1940)[T.True]     0.1812      0.096      1.894      0.059        -0.007     0.369\n",
        "year_built                       0.0015      0.001      1.797      0.073        -0.000     0.003\n",
        "stories                         -0.0008      0.032     -0.025      0.980        -0.064     0.062\n",
        "np.log1p(sqft_per_unit)          0.3386      0.034      9.827      0.000         0.271     0.406\n",
        "np.log1p(popden)                 0.0982      0.116      0.848      0.397        -0.129     0.326\n",
        "dist_hwy                      3.039e-07   1.15e-06      0.265      0.791     -1.95e-06  2.55e-06\n",
        "dist_road                     1.067e-06   7.52e-06      0.142      0.887     -1.37e-05  1.58e-05\n",
        "crime08                          0.0085      0.003      2.744      0.006         0.002     0.015\n",
        "np.log1p(jobs_within_30_min)     0.0355      0.010      3.637      0.000         0.016     0.055\n",
        "==============================================================================\n",
        "Omnibus:                      200.736   Durbin-Watson:                   1.767\n",
        "Prob(Omnibus):                  0.000   Jarque-Bera (JB):              846.926\n",
        "Skew:                           1.594   Prob(JB):                    1.24e-184\n",
        "Kurtosis:                       8.131   Cond. No.                     3.27e+06\n",
        "==============================================================================\n",
        "\n",
        "Warnings:\n",
        "[1] The condition number is large, 3.27e+06. This might indicate that there are\n",
        "strong multicollinearity or other numerical problems.\n",
        "\"\"\""
       ]
      }
     ],
     "prompt_number": 18
    },
    {
     "cell_type": "code",
     "collapsed": false,
     "input": [
      "new_unit_price_res = hmg.predict(buildings)"
     ],
     "language": "python",
     "metadata": {},
     "outputs": [],
     "prompt_number": 19
    },
    {
     "cell_type": "code",
     "collapsed": false,
     "input": [
      "new_unit_price_res"
     ],
     "language": "python",
     "metadata": {},
     "outputs": [
      {
       "metadata": {},
       "output_type": "pyout",
       "prompt_number": 20,
       "text": [
        "building_id\n",
        "311297          95694.685461\n",
        "311396         118529.728643\n",
        "311433          86784.010958\n",
        "311497         104063.207468\n",
        "311505         123073.999658\n",
        "311517         100814.016015\n",
        "311520         102737.091798\n",
        "311541          81818.037121\n",
        "311584          70467.799503\n",
        "311589          98886.099562\n",
        "311597          95793.405685\n",
        "311600         124432.180482\n",
        "311607         111219.705870\n",
        "311659          91454.300558\n",
        "311668         103948.173204\n",
        "...\n",
        "2061744        116059.278737\n",
        "2061748        190635.098387\n",
        "2061877        139886.207648\n",
        "2061881        154951.752677\n",
        "2062063        150858.389012\n",
        "2062246        161597.302180\n",
        "2062251        208524.871683\n",
        "2062979        194812.624824\n",
        "2062990        208823.405358\n",
        "2063778        190636.597017\n",
        "2063929        212735.365885\n",
        "2065253        200873.917622\n",
        "2065261        248989.817942\n",
        "2065263        225063.971638\n",
        "2124316         97445.522310\n",
        "Length: 1817653, dtype: float64"
       ]
      }
     ],
     "prompt_number": 20
    },
    {
     "cell_type": "heading",
     "level": 1,
     "metadata": {},
     "source": [
      "Residential LCM"
     ]
    },
    {
     "cell_type": "markdown",
     "metadata": {},
     "source": [
      "Currently this is only for demo and test purposes."
     ]
    },
    {
     "cell_type": "code",
     "collapsed": false,
     "input": [
      "from urbansim.models import LocationChoiceModel"
     ],
     "language": "python",
     "metadata": {},
     "outputs": [],
     "prompt_number": 10
    },
    {
     "cell_type": "code",
     "collapsed": false,
     "input": [
      "# printed as a convenience\n",
      "buildings.columns.tolist()"
     ],
     "language": "python",
     "metadata": {},
     "outputs": [
      {
       "metadata": {},
       "output_type": "pyout",
       "prompt_number": 26,
       "text": [
        "['building_id_old',\n",
        " 'building_type_id',\n",
        " 'improvement_value',\n",
        " 'land_area',\n",
        " 'non_residential_sqft',\n",
        " 'parcel_id',\n",
        " 'residential_units',\n",
        " 'sqft_per_unit',\n",
        " 'stories',\n",
        " 'tax_exempt',\n",
        " 'year_built',\n",
        " 'agri_land',\n",
        " 'centroid_x',\n",
        " 'centroid_y',\n",
        " 'city_id',\n",
        " 'county_id',\n",
        " 'dist_hwy',\n",
        " 'dist_road',\n",
        " 'floodprone',\n",
        " 'land_use_type_id',\n",
        " 'land_value',\n",
        " 'large_area_id',\n",
        " 'parcel_sqft',\n",
        " 'plan_id',\n",
        " 'plan_type_id',\n",
        " 'plannew',\n",
        " 'pptytax',\n",
        " 'repm_id',\n",
        " 'school_district_id',\n",
        " 'sewer2010',\n",
        " 'sewer2015',\n",
        " 'sewer2025',\n",
        " 'zone_id',\n",
        " 'unit_price_res',\n",
        " 'segmentation_id',\n",
        " 'popden',\n",
        " 'crime08',\n",
        " 'jobs_within_30_min']"
       ]
      }
     ],
     "prompt_number": 26
    },
    {
     "cell_type": "code",
     "collapsed": false,
     "input": [
      "# printed as a convenience\n",
      "data_store['households'].columns.tolist()"
     ],
     "language": "python",
     "metadata": {},
     "outputs": [
      {
       "metadata": {},
       "output_type": "pyout",
       "prompt_number": 25,
       "text": [
        "['age_of_head',\n",
        " 'building_id',\n",
        " 'cars',\n",
        " 'cars_old',\n",
        " 'children',\n",
        " 'income',\n",
        " 'large_area_id',\n",
        " 'persons',\n",
        " 'race_id',\n",
        " 'refinement_id',\n",
        " 'transaction_id',\n",
        " 'workers',\n",
        " 'workers_old',\n",
        " 'zone_id_000']"
       ]
      }
     ],
     "prompt_number": 25
    },
    {
     "cell_type": "markdown",
     "metadata": {},
     "source": [
      "This patsy expression is similar to the one defined above with one\n",
      "additional feature: here we're using patsy's `:` operator to make\n",
      "the model depend on the *interaction* of two columns.\n",
      "Again, this saves us from having to calculate that beforehand and\n",
      "add it to a table or somehow define it separately."
     ]
    },
    {
     "cell_type": "code",
     "collapsed": false,
     "input": [
      "patsy_expression = ['sqft_per_unit',\n",
      "                    'np.log1p(unit_price_res)',\n",
      "                    'income:unit_price_res']\n",
      "patsy_expression = ' + '.join(patsy_expression)"
     ],
     "language": "python",
     "metadata": {},
     "outputs": [],
     "prompt_number": 13
    },
    {
     "cell_type": "code",
     "collapsed": false,
     "input": [
      "estimation_filters = ['building_id > 0']"
     ],
     "language": "python",
     "metadata": {},
     "outputs": [],
     "prompt_number": 14
    },
    {
     "cell_type": "code",
     "collapsed": false,
     "input": [
      "households = data_store['households']"
     ],
     "language": "python",
     "metadata": {},
     "outputs": [],
     "prompt_number": 15
    },
    {
     "cell_type": "code",
     "collapsed": false,
     "input": [
      "# Not passing in any simulation filters here because I'm only\n",
      "# experimenting with estimation.\n",
      "lcm = LocationChoiceModel(estimation_filters, None, patsy_expression, 10, 'Test LCM')"
     ],
     "language": "python",
     "metadata": {},
     "outputs": [],
     "prompt_number": 27
    },
    {
     "cell_type": "code",
     "collapsed": false,
     "input": [
      "ll = lcm.fit(households, buildings, households.building_id)"
     ],
     "language": "python",
     "metadata": {},
     "outputs": [
      {
       "output_type": "stream",
       "stream": "stdout",
       "text": [
        "Removing 23 choice situations because chosen alt doesn't exist\n",
        "Null Log-liklihood: -4247709.968291"
       ]
      },
      {
       "output_type": "stream",
       "stream": "stdout",
       "text": [
        "\n",
        "Log-liklihood at convergence: -4246905.017500\n",
        "Log-liklihood ratio: 0.000190\n"
       ]
      }
     ],
     "prompt_number": 17
    },
    {
     "cell_type": "code",
     "collapsed": false,
     "input": [
      "# log-likelihood numbers\n",
      "ll"
     ],
     "language": "python",
     "metadata": {},
     "outputs": [
      {
       "metadata": {},
       "output_type": "pyout",
       "prompt_number": 18,
       "text": [
        "(array([[-4247709.96829057]]),\n",
        " array([[-4246905.01749958]]),\n",
        " array([[ 0.0001895]]))"
       ]
      }
     ],
     "prompt_number": 18
    },
    {
     "cell_type": "code",
     "collapsed": false,
     "input": [
      "# model coefficients and other info\n",
      "lcm.fit_results"
     ],
     "language": "python",
     "metadata": {},
     "outputs": [
      {
       "metadata": {},
       "output_type": "pyout",
       "prompt_number": 19,
       "text": [
        "[(1.703189170214881e-12, 4.9531482603675323e-07, 3.4385992114205389e-06),\n",
        " (1.7031864569135125e-12, 0.00010684287573360493, 1.5941039074613891e-08),\n",
        " (1.7031835952576496e-12, 5.7146000712374595e-15, 298.04073321422061)]"
       ]
      }
     ],
     "prompt_number": 19
    },
    {
     "cell_type": "code",
     "collapsed": false,
     "input": [
      "lcm.report_fit()"
     ],
     "language": "python",
     "metadata": {},
     "outputs": [
      {
       "output_type": "stream",
       "stream": "stdout",
       "text": [
        "Null Log-liklihood: [[-4247709.96829057]]\n",
        "Log-liklihood at convergence: [[-4246905.01749958]]\n",
        "Log-liklihood Ratio: [[ 0.0001895]]\n",
        "\n",
        "+--------------------------+-------------------+-------------------+-------------------+\n",
        "|        Component         |    Coefficient    |     Std. Error    |      T-Score      |\n",
        "+--------------------------+-------------------+-------------------+-------------------+\n",
        "|      sqft_per_unit       | 1.70318917021e-12 | 4.95314826037e-07 | 3.43859921142e-06 |\n",
        "| np.log1p(unit_price_res) | 1.70318645691e-12 | 0.000106842875734 | 1.59410390746e-08 |\n",
        "|  income:unit_price_res   | 1.70318359526e-12 | 5.71460007124e-15 |   298.040733214   |\n",
        "+--------------------------+-------------------+-------------------+-------------------+\n"
       ]
      }
     ],
     "prompt_number": 20
    },
    {
     "cell_type": "code",
     "collapsed": false,
     "input": [],
     "language": "python",
     "metadata": {},
     "outputs": []
    }
   ],
   "metadata": {}
  }
 ]
}