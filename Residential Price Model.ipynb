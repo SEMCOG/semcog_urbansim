{
 "metadata": {
  "name": "",
  "signature": "sha256:92e776c1b466b43b1591949fd9d17d5f1bee003d355564aff5f545a5fd3b36f9"
 },
 "nbformat": 3,
 "nbformat_minor": 0,
 "worksheets": [
  {
   "cells": [
    {
     "cell_type": "heading",
     "level": 1,
     "metadata": {},
     "source": [
      "Residential Price Model"
     ]
    },
    {
     "cell_type": "heading",
     "level": 2,
     "metadata": {},
     "source": [
      "Imports"
     ]
    },
    {
     "cell_type": "code",
     "collapsed": false,
     "input": [
      "import numpy as np\n",
      "import pandas as pd\n",
      "# import statsmodels.api as sm\n",
      "# import statsmodels.formula.api as smf\n",
      "# from patsy import dmatrices"
     ],
     "language": "python",
     "metadata": {},
     "outputs": [],
     "prompt_number": 1
    },
    {
     "cell_type": "heading",
     "level": 2,
     "metadata": {},
     "source": [
      "Merge"
     ]
    },
    {
     "cell_type": "code",
     "collapsed": false,
     "input": [
      "def merge_buildings_parcels(buildings, parcels):\n",
      "    return pd.merge(buildings, parcels, left_on='parcel_id', right_index=True)"
     ],
     "language": "python",
     "metadata": {},
     "outputs": [],
     "prompt_number": 2
    },
    {
     "cell_type": "heading",
     "level": 2,
     "metadata": {},
     "source": [
      "Subset"
     ]
    },
    {
     "cell_type": "code",
     "collapsed": false,
     "input": [
      "def apply_filter_query(df, filters):\n",
      "    query = ' and '.join(filters)\n",
      "    return df.query(query)"
     ],
     "language": "python",
     "metadata": {},
     "outputs": [],
     "prompt_number": 3
    },
    {
     "cell_type": "code",
     "collapsed": false,
     "input": [
      "def filter_buildings(buildings):\n",
      "    filters = ['residential_units > 0',\n",
      "               'sqft_per_unit > 0',\n",
      "               'year_built > 1700',\n",
      "               'stories > 0',\n",
      "               'tax_exempt == 0',\n",
      "               '1e5 < unit_price_res < 1e7',\n",
      "               '16 <= building_type_id <= 20']\n",
      "    return apply_filter_query(buildings, filters)"
     ],
     "language": "python",
     "metadata": {},
     "outputs": [],
     "prompt_number": 4
    },
    {
     "cell_type": "heading",
     "level": 2,
     "metadata": {},
     "source": [
      "Calculations"
     ]
    },
    {
     "cell_type": "code",
     "collapsed": false,
     "input": [
      "def unit_price_res_column(buildings):\n",
      "    buildings['unit_price_res'] = buildings.improvement_value / buildings.residential_units\n",
      "    buildings['unit_price_res'][buildings['residential_units'] == 0] = 0"
     ],
     "language": "python",
     "metadata": {},
     "outputs": [],
     "prompt_number": 5
    },
    {
     "cell_type": "code",
     "collapsed": false,
     "input": [
      "def res_price_model_segmentation_id(buildings):\n",
      "    buildings['segmentation_id'] = \\\n",
      "        (buildings.county_id + (buildings.building_type_id * 1e3)).astype(np.int32)"
     ],
     "language": "python",
     "metadata": {},
     "outputs": [],
     "prompt_number": 6
    },
    {
     "cell_type": "code",
     "collapsed": false,
     "input": [
      "# calculate population density at the zonal level as people per acre\n",
      "# then broadcast out to the building level\n",
      "def population_density(buildings, households):\n",
      "    sqft_per_acre = 43560\n",
      "    \n",
      "    bldg_pop = households.groupby('building_id').persons.sum()\n",
      "    zone_pop = bldg_pop.groupby(buildings.zone_id).sum()\n",
      "    zone_acres = buildings.parcel_sqft.groupby(buildings.zone_id).sum() / sqft_per_acre\n",
      "    pop_density = zone_pop / zone_acres\n",
      "    buildings['popden'] = pop_density[buildings.zone_id].values"
     ],
     "language": "python",
     "metadata": {},
     "outputs": [],
     "prompt_number": 7
    },
    {
     "cell_type": "code",
     "collapsed": false,
     "input": [
      "def crime_rate(buildings, cities):\n",
      "    buildings['crime08'] = cities.crime08[buildings.city_id].values"
     ],
     "language": "python",
     "metadata": {},
     "outputs": [],
     "prompt_number": 8
    },
    {
     "cell_type": "code",
     "collapsed": false,
     "input": [
      "def jobs_within_30_min(buildings, travel_data, jobs):\n",
      "    zones_within_30_min = (travel_data.reset_index(level='to_zone_id')\n",
      "                           .query('am_single_vehicle_to_work_travel_time < 30').to_zone_id)\n",
      "    job_counts = jobs.groupby('zone_id').size()\n",
      "    job_counts = pd.Series(\n",
      "        job_counts[zones_within_30_min].fillna(0).values, \n",
      "        index=zones_within_30_min.index).groupby(level=0).sum()\n",
      "    buildings['jobs_within_30_min'] = job_counts[buildings.zone_id].fillna(0).values"
     ],
     "language": "python",
     "metadata": {},
     "outputs": [],
     "prompt_number": 9
    },
    {
     "cell_type": "heading",
     "level": 2,
     "metadata": {},
     "source": [
      "Pull Data, Apply Changes"
     ]
    },
    {
     "cell_type": "code",
     "collapsed": false,
     "input": [
      "data_store = pd.HDFStore('./data/semcog_data.h5', mode='r')"
     ],
     "language": "python",
     "metadata": {},
     "outputs": [],
     "prompt_number": 11
    },
    {
     "cell_type": "code",
     "collapsed": false,
     "input": [
      "buildings = merge_buildings_parcels(data_store['buildings'], data_store['parcels'])\n",
      "\n",
      "unit_price_res_column(buildings)\n",
      "# buildings = filter_buildings(buildings)\n",
      "res_price_model_segmentation_id(buildings)\n",
      "population_density(buildings, data_store['households'])\n",
      "crime_rate(buildings, data_store['cities'])\n",
      "jobs_within_30_min(buildings, data_store['travel_data'], data_store['jobs'])"
     ],
     "language": "python",
     "metadata": {},
     "outputs": [],
     "prompt_number": 12
    },
    {
     "cell_type": "code",
     "collapsed": false,
     "input": [
      "import runsim"
     ],
     "language": "python",
     "metadata": {},
     "outputs": [],
     "prompt_number": 13
    },
    {
     "cell_type": "code",
     "collapsed": false,
     "input": [
      "reload(runsim)"
     ],
     "language": "python",
     "metadata": {},
     "outputs": [
      {
       "metadata": {},
       "output_type": "pyout",
       "prompt_number": 23,
       "text": [
        "<module 'runsim' from 'runsim.py'>"
       ]
      }
     ],
     "prompt_number": 23
    },
    {
     "cell_type": "code",
     "collapsed": false,
     "input": [
      "def patsy_expression():\n",
      "    patsy_exp = ['I(year_built < 1940)',\n",
      "                 'year_built',\n",
      "                 'stories',\n",
      "                 'np.log1p(sqft_per_unit)',\n",
      "                 'np.log1p(popden)',\n",
      "                 'dist_hwy',\n",
      "                 'dist_road',\n",
      "                 'crime08',\n",
      "                 'np.log1p(jobs_within_30_min)']\n",
      "    patsy_exp = ' + '.join(patsy_exp)\n",
      "    return 'np.log(unit_price_res) ~ ' + patsy_exp\n",
      "model_expression = patsy_expression()"
     ],
     "language": "python",
     "metadata": {},
     "outputs": [],
     "prompt_number": 18
    },
    {
     "cell_type": "code",
     "collapsed": false,
     "input": [
      "estimate_filters = ['residential_units > 0',\n",
      "                   'sqft_per_unit > 0',\n",
      "                   'year_built > 1700',\n",
      "                   'stories > 0',\n",
      "                   'tax_exempt == 0',\n",
      "                   '1e5 < unit_price_res < 1e7',\n",
      "                   '16 <= building_type_id <= 20']"
     ],
     "language": "python",
     "metadata": {},
     "outputs": [],
     "prompt_number": 15
    },
    {
     "cell_type": "code",
     "collapsed": false,
     "input": [
      "simulate_filters = ['residential_units > 0',\n",
      "                    '16 <= building_type_id <= 20']"
     ],
     "language": "python",
     "metadata": {},
     "outputs": [],
     "prompt_number": 16
    },
    {
     "cell_type": "code",
     "collapsed": false,
     "input": [
      "nt = runsim.run_year(buildings.query('16 <= building_type_id <= 20'), estimate_filters, simulate_filters, model_expression,\n",
      "                     'building_type_id', 'unit_price_res', year=2010, yexp=True)"
     ],
     "language": "python",
     "metadata": {},
     "outputs": [],
     "prompt_number": 24
    },
    {
     "cell_type": "heading",
     "level": 1,
     "metadata": {},
     "source": [
      "Segment"
     ]
    },
    {
     "cell_type": "code",
     "collapsed": false,
     "input": [
      "segments = buildings.groupby('building_type_id')"
     ],
     "language": "python",
     "metadata": {},
     "outputs": [],
     "prompt_number": 98
    },
    {
     "cell_type": "code",
     "collapsed": false,
     "input": [
      "for name, df in segments:\n",
      "    print name, len(df)"
     ],
     "language": "python",
     "metadata": {},
     "outputs": [
      {
       "output_type": "stream",
       "stream": "stdout",
       "text": [
        "16 557\n",
        "17 150838\n",
        "18 8882\n",
        "19 444\n",
        "20 735\n"
       ]
      }
     ],
     "prompt_number": 99
    },
    {
     "cell_type": "heading",
     "level": 1,
     "metadata": {},
     "source": [
      "Estimate"
     ]
    },
    {
     "cell_type": "code",
     "collapsed": false,
     "input": [
      "def estimate_res_price_model(segment):\n",
      "    model = smf.ols(formula=patsy_expression(), data=segment) \n",
      "    results = model.fit()\n",
      "    print results.summary()\n",
      "    \n",
      "    return results"
     ],
     "language": "python",
     "metadata": {},
     "outputs": [],
     "prompt_number": 101
    },
    {
     "cell_type": "code",
     "collapsed": false,
     "input": [
      "estimates = {name: estimate_res_price_model(df) for name, df in segments}"
     ],
     "language": "python",
     "metadata": {},
     "outputs": [
      {
       "output_type": "stream",
       "stream": "stdout",
       "text": [
        "                              OLS Regression Results                              \n",
        "==================================================================================\n",
        "Dep. Variable:     np.log(unit_price_res)   R-squared:                       0.198\n",
        "Model:                                OLS   Adj. R-squared:                  0.185\n",
        "Method:                     Least Squares   F-statistic:                     15.05\n",
        "Date:                    Wed, 02 Apr 2014   Prob (F-statistic):           5.77e-22\n",
        "Time:                            16:05:30   Log-Likelihood:                -143.71\n",
        "No. Observations:                     557   AIC:                             307.4\n",
        "Df Residuals:                         547   BIC:                             350.6\n",
        "Df Model:                               9                                         \n",
        "================================================================================================\n",
        "                                   coef    std err          t      P>|t|      [95.0% Conf. Int.]\n",
        "------------------------------------------------------------------------------------------------\n",
        "Intercept                        5.3138      1.704      3.118      0.002         1.966     8.661\n",
        "I(year_built < 1940)[T.True]     0.1898      0.097      1.964      0.050     -7.72e-05     0.380\n",
        "year_built                       0.0018      0.001      2.074      0.039      9.51e-05     0.004\n",
        "stories                          0.0037      0.032      0.113      0.910        -0.060     0.067\n",
        "np.log1p(sqft_per_unit)          0.3481      0.035      9.955      0.000         0.279     0.417\n",
        "np.log1p(popden)                -0.0420      0.069     -0.610      0.542        -0.177     0.093\n",
        "dist_hwy                     -9.926e-07   1.11e-06     -0.892      0.373     -3.18e-06  1.19e-06\n",
        "dist_road                    -7.997e-07   7.56e-06     -0.106      0.916     -1.57e-05  1.41e-05\n",
        "crime08                          0.0085      0.003      2.675      0.008         0.002     0.015\n",
        "np.log1p(jobs_within_30_min)     0.0106      0.007      1.540      0.124        -0.003     0.024\n",
        "==============================================================================\n",
        "Omnibus:                      201.888   Durbin-Watson:                   1.729\n",
        "Prob(Omnibus):                  0.000   Jarque-Bera (JB):              840.250\n",
        "Skew:                           1.611   Prob(JB):                    3.48e-183\n",
        "Kurtosis:                       8.082   Cond. No.                     3.28e+06\n",
        "==============================================================================\n",
        "\n",
        "Warnings:\n",
        "[1] The condition number is large, 3.28e+06. This might indicate that there are\n",
        "strong multicollinearity or other numerical problems.\n",
        "                              OLS Regression Results                              \n",
        "==================================================================================\n",
        "Dep. Variable:     np.log(unit_price_res)   R-squared:                       0.240\n",
        "Model:                                OLS   Adj. R-squared:                  0.240\n",
        "Method:                     Least Squares   F-statistic:                     5282.\n",
        "Date:                    Wed, 02 Apr 2014   Prob (F-statistic):               0.00\n",
        "Time:                            16:05:31   Log-Likelihood:                -46559.\n",
        "No. Observations:                  150754   AIC:                         9.314e+04\n",
        "Df Residuals:                      150744   BIC:                         9.324e+04\n",
        "Df Model:                               9                                         \n",
        "================================================================================================\n",
        "                                   coef    std err          t      P>|t|      [95.0% Conf. Int.]\n",
        "------------------------------------------------------------------------------------------------\n",
        "Intercept                        8.7658      0.106     83.007      0.000         8.559     8.973\n",
        "I(year_built < 1940)[T.True]     0.0540      0.005     10.919      0.000         0.044     0.064\n",
        "year_built                      -0.0007   5.37e-05    -12.568      0.000        -0.001    -0.001\n",
        "stories                          0.0809      0.003     30.030      0.000         0.076     0.086\n",
        "np.log1p(sqft_per_unit)          0.5464      0.003    201.345      0.000         0.541     0.552\n",
        "np.log1p(popden)                -0.1243      0.001   -101.830      0.000        -0.127    -0.122\n",
        "dist_hwy                     -3.175e-07   9.44e-08     -3.363      0.001     -5.03e-07 -1.32e-07\n",
        "dist_road                    -1.861e-05   9.05e-07    -20.559      0.000     -2.04e-05 -1.68e-05\n",
        "crime08                          0.0064   9.26e-05     68.595      0.000         0.006     0.007\n",
        "np.log1p(jobs_within_30_min)     0.0102      0.000     21.639      0.000         0.009     0.011\n",
        "==============================================================================\n",
        "Omnibus:                   108395.115   Durbin-Watson:                   0.864\n",
        "Prob(Omnibus):                  0.000   Jarque-Bera (JB):          3115889.246\n",
        "Skew:                           3.138   Prob(JB):                         0.00\n",
        "Kurtosis:                      24.370   Cond. No.                     1.99e+06\n",
        "==============================================================================\n",
        "\n",
        "Warnings:\n",
        "[1] The condition number is large, 1.99e+06. This might indicate that there are\n",
        "strong multicollinearity or other numerical problems."
       ]
      },
      {
       "output_type": "stream",
       "stream": "stdout",
       "text": [
        "\n",
        "                              OLS Regression Results                              \n",
        "==================================================================================\n",
        "Dep. Variable:     np.log(unit_price_res)   R-squared:                       0.267\n",
        "Model:                                OLS   Adj. R-squared:                  0.267\n",
        "Method:                     Least Squares   F-statistic:                     359.5\n",
        "Date:                    Wed, 02 Apr 2014   Prob (F-statistic):               0.00\n",
        "Time:                            16:05:32   Log-Likelihood:                -3497.8\n",
        "No. Observations:                    8877   AIC:                             7016.\n",
        "Df Residuals:                        8867   BIC:                             7087.\n",
        "Df Model:                               9                                         \n",
        "================================================================================================\n",
        "                                   coef    std err          t      P>|t|      [95.0% Conf. Int.]\n",
        "------------------------------------------------------------------------------------------------\n",
        "Intercept                       31.8956      1.283     24.851      0.000        29.380    34.412\n",
        "I(year_built < 1940)[T.True]    -0.4998      0.077     -6.478      0.000        -0.651    -0.349\n",
        "year_built                      -0.0125      0.001    -19.237      0.000        -0.014    -0.011\n",
        "stories                         -0.0011      0.007     -0.156      0.876        -0.014     0.012\n",
        "np.log1p(sqft_per_unit)          0.6596      0.012     53.561      0.000         0.635     0.684\n",
        "np.log1p(popden)                -0.1606      0.006    -25.837      0.000        -0.173    -0.148\n",
        "dist_hwy                     -4.257e-06   3.56e-07    -11.966      0.000     -4.95e-06 -3.56e-06\n",
        "dist_road                    -4.928e-05   4.46e-06    -11.050      0.000      -5.8e-05 -4.05e-05\n",
        "crime08                          0.0052      0.000     12.640      0.000         0.004     0.006\n",
        "np.log1p(jobs_within_30_min)     0.0099      0.001      6.759      0.000         0.007     0.013\n",
        "==============================================================================\n",
        "Omnibus:                     6514.590   Durbin-Watson:                   0.751\n",
        "Prob(Omnibus):                  0.000   Jarque-Bera (JB):           186152.078\n",
        "Skew:                           3.216   Prob(JB):                         0.00\n",
        "Kurtosis:                      24.492   Cond. No.                     6.89e+06\n",
        "==============================================================================\n",
        "\n",
        "Warnings:\n",
        "[1] The condition number is large, 6.89e+06. This might indicate that there are\n",
        "strong multicollinearity or other numerical problems."
       ]
      },
      {
       "output_type": "stream",
       "stream": "stdout",
       "text": [
        "\n",
        "                              OLS Regression Results                              \n",
        "==================================================================================\n",
        "Dep. Variable:     np.log(unit_price_res)   R-squared:                       0.121\n",
        "Model:                                OLS   Adj. R-squared:                  0.102\n",
        "Method:                     Least Squares   F-statistic:                     6.558\n",
        "Date:                    Wed, 02 Apr 2014   Prob (F-statistic):           8.79e-09\n",
        "Time:                            16:05:32   Log-Likelihood:                -404.08\n",
        "No. Observations:                     439   AIC:                             828.2\n",
        "Df Residuals:                         429   BIC:                             869.0\n",
        "Df Model:                               9                                         \n",
        "================================================================================================\n",
        "                                   coef    std err          t      P>|t|      [95.0% Conf. Int.]\n",
        "------------------------------------------------------------------------------------------------\n",
        "Intercept                       25.4507      4.028      6.318      0.000        17.533    33.369\n",
        "I(year_built < 1940)[T.True]    -0.2991      0.128     -2.330      0.020        -0.551    -0.047\n",
        "year_built                      -0.0063      0.002     -3.160      0.002        -0.010    -0.002\n",
        "stories                         -0.1338      0.042     -3.196      0.001        -0.216    -0.052\n",
        "np.log1p(sqft_per_unit)          0.1098      0.033      3.305      0.001         0.044     0.175\n",
        "np.log1p(popden)                -0.1390      0.041     -3.419      0.001        -0.219    -0.059\n",
        "dist_hwy                      3.712e-06   4.39e-06      0.846      0.398     -4.91e-06  1.23e-05\n",
        "dist_road                    -6.215e-05   8.48e-05     -0.733      0.464        -0.000     0.000\n",
        "crime08                         -0.0072      0.002     -4.241      0.000        -0.011    -0.004\n",
        "np.log1p(jobs_within_30_min)    -0.0544      0.018     -2.997      0.003        -0.090    -0.019\n",
        "==============================================================================\n",
        "Omnibus:                       17.981   Durbin-Watson:                   0.652\n",
        "Prob(Omnibus):                  0.000   Jarque-Bera (JB):               22.790\n",
        "Skew:                           0.380   Prob(JB):                     1.13e-05\n",
        "Kurtosis:                       3.817   Cond. No.                     1.73e+06\n",
        "==============================================================================\n",
        "\n",
        "Warnings:\n",
        "[1] The condition number is large, 1.73e+06. This might indicate that there are\n",
        "strong multicollinearity or other numerical problems.\n",
        "                              OLS Regression Results                              \n",
        "==================================================================================\n",
        "Dep. Variable:     np.log(unit_price_res)   R-squared:                       0.195\n",
        "Model:                                OLS   Adj. R-squared:                  0.185\n",
        "Method:                     Least Squares   F-statistic:                     19.52\n",
        "Date:                    Wed, 02 Apr 2014   Prob (F-statistic):           1.86e-29\n",
        "Time:                            16:05:32   Log-Likelihood:                -520.96\n",
        "No. Observations:                     735   AIC:                             1062.\n",
        "Df Residuals:                         725   BIC:                             1108.\n",
        "Df Model:                               9                                         \n",
        "================================================================================================\n",
        "                                   coef    std err          t      P>|t|      [95.0% Conf. Int.]\n",
        "------------------------------------------------------------------------------------------------\n",
        "Intercept                       23.9680      2.899      8.266      0.000        18.276    29.660\n",
        "I(year_built < 1940)[T.True]     0.1048      0.151      0.694      0.488        -0.192     0.401\n",
        "year_built                      -0.0059      0.001     -4.112      0.000        -0.009    -0.003\n",
        "stories                         -0.0327      0.070     -0.469      0.639        -0.170     0.104\n",
        "np.log1p(sqft_per_unit)         -0.0919      0.036     -2.569      0.010        -0.162    -0.022\n",
        "np.log1p(popden)                -0.0230      0.046     -0.501      0.616        -0.113     0.067\n",
        "dist_hwy                      1.224e-05   4.06e-06      3.012      0.003      4.26e-06  2.02e-05\n",
        "dist_road                       -0.0002   5.03e-05     -3.413      0.001        -0.000 -7.29e-05\n",
        "crime08                          0.0020      0.002      0.808      0.419        -0.003     0.007\n",
        "np.log1p(jobs_within_30_min)     0.0477      0.018      2.705      0.007         0.013     0.082\n",
        "==============================================================================\n",
        "Omnibus:                      465.491   Durbin-Watson:                   0.785\n",
        "Prob(Omnibus):                  0.000   Jarque-Bera (JB):             4919.996\n",
        "Skew:                           2.749   Prob(JB):                         0.00\n",
        "Kurtosis:                      14.420   Cond. No.                     1.41e+06\n",
        "==============================================================================\n",
        "\n",
        "Warnings:\n",
        "[1] The condition number is large, 1.41e+06. This might indicate that there are\n",
        "strong multicollinearity or other numerical problems."
       ]
      },
      {
       "output_type": "stream",
       "stream": "stdout",
       "text": [
        "\n"
       ]
      }
     ],
     "prompt_number": 105
    },
    {
     "cell_type": "code",
     "collapsed": false,
     "input": [
      "estimates[16].params"
     ],
     "language": "python",
     "metadata": {},
     "outputs": [
      {
       "metadata": {},
       "output_type": "pyout",
       "prompt_number": 107,
       "text": [
        "Intercept                       5.313782\n",
        "I(year_built < 1940)[T.True]    0.189772\n",
        "year_built                      0.001803\n",
        "stories                         0.003655\n",
        "np.log1p(sqft_per_unit)         0.348080\n",
        "np.log1p(popden)               -0.041975\n",
        "dist_hwy                       -0.000001\n",
        "dist_road                      -0.000001\n",
        "crime08                         0.008476\n",
        "np.log1p(jobs_within_30_min)    0.010619\n",
        "dtype: float64"
       ]
      }
     ],
     "prompt_number": 107
    },
    {
     "cell_type": "heading",
     "level": 2,
     "metadata": {},
     "source": [
      "Simulate"
     ]
    },
    {
     "cell_type": "code",
     "collapsed": false,
     "input": [
      "def simulate(segment, params):\n",
      "    _, est_data = dmatrices(patsy_expression(), segment, return_type='dataframe')\n",
      "    return est_data.dot(params)"
     ],
     "language": "python",
     "metadata": {},
     "outputs": [],
     "prompt_number": 108
    },
    {
     "cell_type": "code",
     "collapsed": false,
     "input": [
      "prices = {name: simulate(df, estimates[name].params) for name, df in segments}"
     ],
     "language": "python",
     "metadata": {},
     "outputs": [],
     "prompt_number": 109
    },
    {
     "cell_type": "code",
     "collapsed": false,
     "input": [],
     "language": "python",
     "metadata": {},
     "outputs": []
    }
   ],
   "metadata": {}
  }
 ]
}