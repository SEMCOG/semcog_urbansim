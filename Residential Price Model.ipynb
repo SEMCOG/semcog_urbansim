{
 "metadata": {
  "name": "",
  "signature": "sha256:5d8062f59cc5538f4d54e95556804a56f3fc02f432fdc33878f54c89323d0f6f"
 },
 "nbformat": 3,
 "nbformat_minor": 0,
 "worksheets": [
  {
   "cells": [
    {
     "cell_type": "heading",
     "level": 1,
     "metadata": {},
     "source": [
      "Residential Price Model"
     ]
    },
    {
     "cell_type": "heading",
     "level": 2,
     "metadata": {},
     "source": [
      "Imports"
     ]
    },
    {
     "cell_type": "code",
     "collapsed": false,
     "input": [
      "import numpy as np\n",
      "import pandas as pd\n",
      "import statsmodels.api as sm\n",
      "import statsmodels.formula.api as smf\n",
      "from patsy import dmatrices"
     ],
     "language": "python",
     "metadata": {},
     "outputs": [],
     "prompt_number": 47
    },
    {
     "cell_type": "heading",
     "level": 2,
     "metadata": {},
     "source": [
      "Merge"
     ]
    },
    {
     "cell_type": "code",
     "collapsed": false,
     "input": [
      "def merge_buildings_parcels(buildings, parcels):\n",
      "    return pd.merge(buildings, parcels, left_on='parcel_id', right_index=True)"
     ],
     "language": "python",
     "metadata": {},
     "outputs": [],
     "prompt_number": 5
    },
    {
     "cell_type": "heading",
     "level": 2,
     "metadata": {},
     "source": [
      "Subset"
     ]
    },
    {
     "cell_type": "code",
     "collapsed": false,
     "input": [
      "def apply_filter_query(df, filters):\n",
      "    query = ' and '.join(filters)\n",
      "    return df.query(query)"
     ],
     "language": "python",
     "metadata": {},
     "outputs": [],
     "prompt_number": 3
    },
    {
     "cell_type": "code",
     "collapsed": false,
     "input": [
      "def filter_buildings(buildings):\n",
      "    filters = ['residential_units > 0',\n",
      "               'sqft_per_unit > 0',\n",
      "               'year_built > 1700',\n",
      "               'stories > 0',\n",
      "               'tax_exempt == 0',\n",
      "               '1e5 < unit_price_res < 1e7',\n",
      "               '16 <= building_type_id <= 20']\n",
      "    return apply_filter_query(buildings, filters)"
     ],
     "language": "python",
     "metadata": {},
     "outputs": [],
     "prompt_number": 4
    },
    {
     "cell_type": "heading",
     "level": 2,
     "metadata": {},
     "source": [
      "Calculations"
     ]
    },
    {
     "cell_type": "code",
     "collapsed": false,
     "input": [
      "def unit_price_res_column(buildings):\n",
      "    buildings['unit_price_res'] = buildings.improvement_value / buildings.residential_units\n",
      "    buildings['unit_price_res'][buildings['residential_units'] == 0] = 0"
     ],
     "language": "python",
     "metadata": {},
     "outputs": [],
     "prompt_number": 6
    },
    {
     "cell_type": "code",
     "collapsed": false,
     "input": [
      "def res_price_model_segmentation_id(buildings):\n",
      "    buildings['segmentation_id'] = \\\n",
      "        (buildings.county_id + (buildings.building_type_id * 1e3)).astype(np.int32)"
     ],
     "language": "python",
     "metadata": {},
     "outputs": [],
     "prompt_number": 33
    },
    {
     "cell_type": "code",
     "collapsed": false,
     "input": [
      "# calculate population density at the zonal level as people per acre\n",
      "# then broadcast out to the building level\n",
      "def population_density(buildings, households):\n",
      "    sqft_per_acre = 43560\n",
      "    \n",
      "    bldg_pop = households.groupby('building_id').persons.sum()\n",
      "    zone_pop = bldg_pop.groupby(buildings.zone_id).sum()\n",
      "    zone_acres = buildings.parcel_sqft.groupby(buildings.zone_id).sum() / sqft_per_acre\n",
      "    pop_density = zone_pop / zone_acres\n",
      "    buildings['popden'] = pop_density[buildings.zone_id].values"
     ],
     "language": "python",
     "metadata": {},
     "outputs": [],
     "prompt_number": 8
    },
    {
     "cell_type": "code",
     "collapsed": false,
     "input": [
      "def crime_rate(buildings, cities):\n",
      "    buildings['crime08'] = cities.crime08[buildings.city_id].values"
     ],
     "language": "python",
     "metadata": {},
     "outputs": [],
     "prompt_number": 9
    },
    {
     "cell_type": "code",
     "collapsed": false,
     "input": [
      "def jobs_within_30_min(buildings, travel_data):\n",
      "    travel_data = (travel_data.reset_index(level='to_zone_id')\n",
      "                   .query('am_single_vehicle_to_work_travel_time < 30'))\n",
      "    job_counts = travel_data.to_zone_id.groupby(level=0).count()\n",
      "    buildings['jobs_within_30_min'] = job_counts[buildings.zone_id].values"
     ],
     "language": "python",
     "metadata": {},
     "outputs": [],
     "prompt_number": 10
    },
    {
     "cell_type": "heading",
     "level": 2,
     "metadata": {},
     "source": [
      "Pull Data, Apply Changes"
     ]
    },
    {
     "cell_type": "code",
     "collapsed": false,
     "input": [
      "data_store = pd.HDFStore('./data/semcog_data.h5', mode='r')"
     ],
     "language": "python",
     "metadata": {},
     "outputs": [],
     "prompt_number": 11
    },
    {
     "cell_type": "code",
     "collapsed": false,
     "input": [
      "buildings = merge_buildings_parcels(data_store['buildings'], data_store['parcels'])\n",
      "\n",
      "unit_price_res_column(buildings)\n",
      "buildings = filter_buildings(buildings)\n",
      "res_price_model_segmentation_id(buildings)\n",
      "population_density(buildings, data_store['households'])\n",
      "crime_rate(buildings, data_store['cities'])\n",
      "jobs_within_30_min(buildings, data_store['travel_data'])"
     ],
     "language": "python",
     "metadata": {},
     "outputs": [],
     "prompt_number": 34
    },
    {
     "cell_type": "heading",
     "level": 1,
     "metadata": {},
     "source": [
      "Segment"
     ]
    },
    {
     "cell_type": "code",
     "collapsed": false,
     "input": [
      "segments = buildings.groupby('building_type_id')"
     ],
     "language": "python",
     "metadata": {},
     "outputs": [],
     "prompt_number": 59
    },
    {
     "cell_type": "code",
     "collapsed": false,
     "input": [
      "for name, df in segments:\n",
      "    print name, len(df)"
     ],
     "language": "python",
     "metadata": {},
     "outputs": [
      {
       "output_type": "stream",
       "stream": "stdout",
       "text": [
        "16 557\n",
        "17 150838\n",
        "18 8882\n",
        "19 444\n",
        "20 735\n"
       ]
      }
     ],
     "prompt_number": 60
    },
    {
     "cell_type": "heading",
     "level": 1,
     "metadata": {},
     "source": [
      "Estimate"
     ]
    },
    {
     "cell_type": "code",
     "collapsed": false,
     "input": [
      "def estimate_res_price_model(segment):\n",
      "    patsy_exp = ['I(year_built < 1940)',\n",
      "                 'year_built',\n",
      "                 'stories',\n",
      "                 'np.log1p(sqft_per_unit)',\n",
      "                 'np.log1p(popden)',\n",
      "                 'dist_hwy',\n",
      "                 'dist_road',\n",
      "                 'crime08',\n",
      "                 'np.log1p(jobs_within_30_min)']\n",
      "    patsy_exp = ' + '.join(patsy_exp)\n",
      "#    est_data = dmatrix(patsy_exp, data=segment, return_type='dataframe')\n",
      "    \n",
      "#    depvar = segment['unit_price_res'].apply(np.log)\n",
      "    \n",
      "#    model = sm.OLS(depvar, data=est_data)\n",
      "    model = smf.ols(formula='np.log(unit_price_res) ~ ' + patsy_exp, data=segment) \n",
      "    results = model.fit()\n",
      "    print results.summary()\n",
      "    \n",
      "    return {'rsquared': results.rsquared,\n",
      "            'rsquared_adj': results.rsquared_adj,\n",
      "            'columns': segment.columns.tolist(),\n",
      "            'est_results': zip(results.params, results.bse, results.tvalues)}"
     ],
     "language": "python",
     "metadata": {},
     "outputs": [],
     "prompt_number": 73
    },
    {
     "cell_type": "code",
     "collapsed": false,
     "input": [
      "estimates = {name: estimate_res_price_model(df) for name, df in segments}"
     ],
     "language": "python",
     "metadata": {},
     "outputs": [
      {
       "output_type": "stream",
       "stream": "stdout",
       "text": [
        "                              OLS Regression Results                              \n",
        "==================================================================================\n",
        "Dep. Variable:     np.log(unit_price_res)   R-squared:                       0.216\n",
        "Model:                                OLS   Adj. R-squared:                  0.203\n",
        "Method:                     Least Squares   F-statistic:                     16.59\n",
        "Date:                    Tue, 01 Apr 2014   Prob (F-statistic):           3.27e-24\n",
        "Time:                            12:27:37   Log-Likelihood:                -138.23\n",
        "No. Observations:                     553   AIC:                             296.5\n",
        "Df Residuals:                         543   BIC:                             339.6\n",
        "Df Model:                               9                                         \n",
        "================================================================================================\n",
        "                                   coef    std err          t      P>|t|      [95.0% Conf. Int.]\n",
        "------------------------------------------------------------------------------------------------\n",
        "Intercept                        5.7806      1.692      3.417      0.001         2.457     9.104\n",
        "I(year_built < 1940)[T.True]     0.1621      0.097      1.669      0.096        -0.029     0.353\n",
        "year_built                       0.0015      0.001      1.718      0.086        -0.000     0.003\n",
        "stories                         -0.0060      0.032     -0.185      0.853        -0.070     0.058\n",
        "np.log1p(sqft_per_unit)          0.3399      0.035      9.801      0.000         0.272     0.408\n",
        "np.log1p(popden)                -0.0848      0.073     -1.154      0.249        -0.229     0.060\n",
        "dist_hwy                      3.393e-07   1.17e-06      0.290      0.772     -1.96e-06  2.64e-06\n",
        "dist_road                     7.247e-07   7.53e-06      0.096      0.923     -1.41e-05  1.55e-05\n",
        "crime08                          0.0059      0.003      1.792      0.074        -0.001     0.012\n",
        "np.log1p(jobs_within_30_min)     0.0752      0.021      3.612      0.000         0.034     0.116\n",
        "==============================================================================\n",
        "Omnibus:                      195.745   Durbin-Watson:                   1.773\n",
        "Prob(Omnibus):                  0.000   Jarque-Bera (JB):              800.634\n",
        "Skew:                           1.574   Prob(JB):                    1.39e-174\n",
        "Kurtosis:                       7.984   Cond. No.                     3.28e+06\n",
        "==============================================================================\n",
        "\n",
        "Warnings:\n",
        "[1] The condition number is large, 3.28e+06. This might indicate that there are\n",
        "strong multicollinearity or other numerical problems.\n",
        "                              OLS Regression Results                              \n",
        "==================================================================================\n",
        "Dep. Variable:     np.log(unit_price_res)   R-squared:                       0.243\n",
        "Model:                                OLS   Adj. R-squared:                  0.243\n",
        "Method:                     Least Squares   F-statistic:                     5369.\n",
        "Date:                    Tue, 01 Apr 2014   Prob (F-statistic):               0.00\n",
        "Time:                            12:27:39   Log-Likelihood:                -46194.\n",
        "No. Observations:                  150225   AIC:                         9.241e+04\n",
        "Df Residuals:                      150215   BIC:                         9.251e+04\n",
        "Df Model:                               9                                         \n",
        "================================================================================================\n",
        "                                   coef    std err          t      P>|t|      [95.0% Conf. Int.]\n",
        "------------------------------------------------------------------------------------------------\n",
        "Intercept                        7.9858      0.110     72.892      0.000         7.771     8.201\n",
        "I(year_built < 1940)[T.True]     0.0759      0.005     15.142      0.000         0.066     0.086\n",
        "year_built                      -0.0003   5.51e-05     -6.160      0.000        -0.000    -0.000\n",
        "stories                          0.0767      0.003     28.623      0.000         0.071     0.082\n",
        "np.log1p(sqft_per_unit)          0.5323      0.003    194.169      0.000         0.527     0.538\n",
        "np.log1p(popden)                -0.1330      0.001   -105.631      0.000        -0.135    -0.131\n",
        "dist_hwy                       8.58e-07   1.04e-07      8.276      0.000      6.55e-07  1.06e-06\n",
        "dist_road                    -1.374e-05   9.25e-07    -14.851      0.000     -1.56e-05 -1.19e-05\n",
        "crime08                          0.0056   9.61e-05     58.251      0.000         0.005     0.006\n",
        "np.log1p(jobs_within_30_min)     0.0606      0.002     33.356      0.000         0.057     0.064\n",
        "==============================================================================\n",
        "Omnibus:                   108698.950   Durbin-Watson:                   0.863\n",
        "Prob(Omnibus):                  0.000   Jarque-Bera (JB):          3186752.325\n",
        "Skew:                           3.161   Prob(JB):                         0.00\n",
        "Kurtosis:                      24.660   Cond. No.                     2.07e+06\n",
        "==============================================================================\n",
        "\n",
        "Warnings:\n",
        "[1] The condition number is large, 2.07e+06. This might indicate that there are\n",
        "strong multicollinearity or other numerical problems."
       ]
      },
      {
       "output_type": "stream",
       "stream": "stdout",
       "text": [
        "\n",
        "                              OLS Regression Results                              \n",
        "==================================================================================\n",
        "Dep. Variable:     np.log(unit_price_res)   R-squared:                       0.276\n",
        "Model:                                OLS   Adj. R-squared:                  0.275\n",
        "Method:                     Least Squares   F-statistic:                     365.3\n",
        "Date:                    Tue, 01 Apr 2014   Prob (F-statistic):               0.00\n",
        "Time:                            12:27:39   Log-Likelihood:                -3439.4\n",
        "No. Observations:                    8634   AIC:                             6899.\n",
        "Df Residuals:                        8624   BIC:                             6969.\n",
        "Df Model:                               9                                         \n",
        "================================================================================================\n",
        "                                   coef    std err          t      P>|t|      [95.0% Conf. Int.]\n",
        "------------------------------------------------------------------------------------------------\n",
        "Intercept                       29.5898      1.311     22.564      0.000        27.019    32.160\n",
        "I(year_built < 1940)[T.True]    -0.4518      0.078     -5.817      0.000        -0.604    -0.300\n",
        "year_built                      -0.0116      0.001    -17.531      0.000        -0.013    -0.010\n",
        "stories                         -0.0030      0.007     -0.422      0.673        -0.017     0.011\n",
        "np.log1p(sqft_per_unit)          0.6320      0.013     50.169      0.000         0.607     0.657\n",
        "np.log1p(popden)                -0.1670      0.006    -26.568      0.000        -0.179    -0.155\n",
        "dist_hwy                      -2.65e-07   4.99e-07     -0.531      0.596     -1.24e-06  7.14e-07\n",
        "dist_road                    -4.058e-05   4.66e-06     -8.714      0.000     -4.97e-05 -3.14e-05\n",
        "crime08                          0.0047      0.000     11.249      0.000         0.004     0.006\n",
        "np.log1p(jobs_within_30_min)     0.1276      0.011     11.825      0.000         0.106     0.149\n",
        "==============================================================================\n",
        "Omnibus:                     6281.359   Durbin-Watson:                   0.753\n",
        "Prob(Omnibus):                  0.000   Jarque-Bera (JB):           174617.869\n",
        "Skew:                           3.183   Prob(JB):                         0.00\n",
        "Kurtosis:                      24.092   Cond. No.                     6.99e+06\n",
        "==============================================================================\n",
        "\n",
        "Warnings:\n",
        "[1] The condition number is large, 6.99e+06. This might indicate that there are\n",
        "strong multicollinearity or other numerical problems."
       ]
      },
      {
       "output_type": "stream",
       "stream": "stdout",
       "text": [
        "\n",
        "                              OLS Regression Results                              \n",
        "==================================================================================\n",
        "Dep. Variable:     np.log(unit_price_res)   R-squared:                       0.096\n",
        "Model:                                OLS   Adj. R-squared:                  0.077\n",
        "Method:                     Least Squares   F-statistic:                     4.987\n",
        "Date:                    Tue, 01 Apr 2014   Prob (F-statistic):           2.14e-06\n",
        "Time:                            12:27:39   Log-Likelihood:                -404.42\n",
        "No. Observations:                     434   AIC:                             828.8\n",
        "Df Residuals:                         424   BIC:                             869.6\n",
        "Df Model:                               9                                         \n",
        "================================================================================================\n",
        "                                   coef    std err          t      P>|t|      [95.0% Conf. Int.]\n",
        "------------------------------------------------------------------------------------------------\n",
        "Intercept                       21.8729      3.970      5.509      0.000        14.069    29.677\n",
        "I(year_built < 1940)[T.True]    -0.3011      0.131     -2.293      0.022        -0.559    -0.043\n",
        "year_built                      -0.0054      0.002     -2.671      0.008        -0.009    -0.001\n",
        "stories                         -0.1159      0.042     -2.755      0.006        -0.199    -0.033\n",
        "np.log1p(sqft_per_unit)          0.0849      0.033      2.596      0.010         0.021     0.149\n",
        "np.log1p(popden)                -0.1390      0.045     -3.099      0.002        -0.227    -0.051\n",
        "dist_hwy                      1.644e-05   6.48e-06      2.538      0.012      3.71e-06  2.92e-05\n",
        "dist_road                       -0.0001    8.5e-05     -1.228      0.220        -0.000  6.27e-05\n",
        "crime08                         -0.0068      0.002     -3.540      0.000        -0.011    -0.003\n",
        "np.log1p(jobs_within_30_min)     0.1790      0.104      1.722      0.086        -0.025     0.383\n",
        "==============================================================================\n",
        "Omnibus:                       19.136   Durbin-Watson:                   0.615\n",
        "Prob(Omnibus):                  0.000   Jarque-Bera (JB):               21.804\n",
        "Skew:                           0.450   Prob(JB):                     1.84e-05\n",
        "Kurtosis:                       3.630   Cond. No.                     1.67e+06\n",
        "==============================================================================\n",
        "\n",
        "Warnings:\n",
        "[1] The condition number is large, 1.67e+06. This might indicate that there are\n",
        "strong multicollinearity or other numerical problems.\n",
        "                              OLS Regression Results                              \n",
        "==================================================================================\n",
        "Dep. Variable:     np.log(unit_price_res)   R-squared:                       0.202\n",
        "Model:                                OLS   Adj. R-squared:                  0.193\n",
        "Method:                     Least Squares   F-statistic:                     20.44\n",
        "Date:                    Tue, 01 Apr 2014   Prob (F-statistic):           7.66e-31\n",
        "Time:                            12:27:39   Log-Likelihood:                -517.59\n",
        "No. Observations:                     735   AIC:                             1055.\n",
        "Df Residuals:                         725   BIC:                             1101.\n",
        "Df Model:                               9                                         \n",
        "================================================================================================\n",
        "                                   coef    std err          t      P>|t|      [95.0% Conf. Int.]\n",
        "------------------------------------------------------------------------------------------------\n",
        "Intercept                       23.7047      2.867      8.268      0.000        18.076    29.333\n",
        "I(year_built < 1940)[T.True]     0.1034      0.150      0.691      0.490        -0.190     0.397\n",
        "year_built                      -0.0062      0.001     -4.334      0.000        -0.009    -0.003\n",
        "stories                          0.0321      0.069      0.465      0.642        -0.103     0.167\n",
        "np.log1p(sqft_per_unit)         -0.1066      0.036     -2.970      0.003        -0.177    -0.036\n",
        "np.log1p(popden)                -0.0359      0.046     -0.783      0.434        -0.126     0.054\n",
        "dist_hwy                      1.787e-05    4.3e-06      4.156      0.000      9.43e-06  2.63e-05\n",
        "dist_road                       -0.0002   4.85e-05     -3.546      0.000        -0.000 -7.68e-05\n",
        "crime08                          0.0002      0.003      0.094      0.925        -0.005     0.005\n",
        "np.log1p(jobs_within_30_min)     0.2276      0.061      3.749      0.000         0.108     0.347\n",
        "==============================================================================\n",
        "Omnibus:                      471.568   Durbin-Watson:                   0.770\n",
        "Prob(Omnibus):                  0.000   Jarque-Bera (JB):             5327.321\n",
        "Skew:                           2.769   Prob(JB):                         0.00\n",
        "Kurtosis:                      14.970   Cond. No.                     1.40e+06\n",
        "==============================================================================\n",
        "\n",
        "Warnings:\n",
        "[1] The condition number is large, 1.4e+06. This might indicate that there are\n",
        "strong multicollinearity or other numerical problems."
       ]
      },
      {
       "output_type": "stream",
       "stream": "stdout",
       "text": [
        "\n"
       ]
      }
     ],
     "prompt_number": 74
    },
    {
     "cell_type": "code",
     "collapsed": false,
     "input": [],
     "language": "python",
     "metadata": {},
     "outputs": []
    }
   ],
   "metadata": {}
  }
 ]
}