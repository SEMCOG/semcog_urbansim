{
 "metadata": {
  "name": "",
  "signature": "sha256:15a571d3f1d798aa5427b95a11f1bef20ad3d6d720e005909b8ed6cd50d55f9a"
 },
 "nbformat": 3,
 "nbformat_minor": 0,
 "worksheets": [
  {
   "cells": [
    {
     "cell_type": "code",
     "collapsed": true,
     "input": [
      "%load_ext autoreload\n",
      "%autoreload 1\n",
      "%aimport models\n",
      "%aimport dataset"
     ],
     "language": "python",
     "metadata": {},
     "outputs": [],
     "prompt_number": 1
    },
    {
     "cell_type": "code",
     "collapsed": true,
     "input": [
      "dset = dataset.SemcogDataset(\"data/semcog_data.h5\")"
     ],
     "language": "python",
     "metadata": {},
     "outputs": [],
     "prompt_number": 2
    },
    {
     "cell_type": "code",
     "collapsed": true,
     "input": [
      "YEARS = range(2011, 2031)\n",
      "MODEL_LIST = [\n",
      "    \"households_transition\",  # households transition\n",
      "    \"jobs_transition\",        # jobs transition\n",
      "    \"households_relocation\",  # households relocation model\n",
      "    \"jobs_relocation\",        # jobs relocation model\n",
      "    \"hlcm_simulate\",          # households location choice (owner)\n",
      "    \"elcm_simulate\",          # employment location choice\n",
      "    \"nrh_simulate\",           # non-residential rent hedonic\n",
      "    \"rsh_simulate\",           # residential sales hedonic\n",
      "]\n",
      "models._run_models(dset, MODEL_LIST, YEARS)"
     ],
     "language": "python",
     "metadata": {},
     "outputs": [
      {
       "output_type": "stream",
       "stream": "stdout",
       "text": [
        "Computing variables\n",
        "Fetching buildings\n",
        "Fetching travel_data"
       ]
      },
      {
       "output_type": "stream",
       "stream": "stdout",
       "text": [
        "\n",
        "Fetching parcels"
       ]
      },
      {
       "output_type": "stream",
       "stream": "stdout",
       "text": [
        "\n",
        "Fetching households"
       ]
      },
      {
       "output_type": "stream",
       "stream": "stdout",
       "text": [
        "\n",
        "Fetching jobs"
       ]
      },
      {
       "output_type": "stream",
       "stream": "stdout",
       "text": [
        "\n",
        "Fetching cities"
       ]
      },
      {
       "output_type": "stream",
       "stream": "stdout",
       "text": [
        "\n",
        "Fetching building_sqft_per_job"
       ]
      },
      {
       "output_type": "stream",
       "stream": "stdout",
       "text": [
        "\n",
        "\n",
        "households_transition\n"
       ]
      },
      {
       "output_type": "stream",
       "stream": "stdout",
       "text": [
        "\n",
        "Fetching annual_household_control_totals\n",
        "Fetching persons\n",
        "Model households_transition executed in 5.301s"
       ]
      },
      {
       "output_type": "stream",
       "stream": "stdout",
       "text": [
        "\n",
        "\n",
        "jobs_transition\n",
        "\n",
        "Fetching annual_employment_control_totals\n",
        "Model jobs_transition executed in 0.722s"
       ]
      },
      {
       "output_type": "stream",
       "stream": "stdout",
       "text": [
        "\n",
        "\n",
        "households_relocation\n",
        "\n",
        "Running relocation\n",
        "\n",
        "Total currently unplaced: 1257"
       ]
      },
      {
       "output_type": "stream",
       "stream": "stdout",
       "text": [
        "\n",
        "Total currently unplaced: 93488"
       ]
      },
      {
       "output_type": "stream",
       "stream": "stdout",
       "text": [
        "\n",
        "Model households_relocation executed in 0.756s\n",
        "\n",
        "jobs_relocation\n",
        "\n",
        "Running relocation\n",
        "\n",
        "Total currently unplaced: 9675"
       ]
      },
      {
       "output_type": "stream",
       "stream": "stdout",
       "text": [
        "\n",
        "Total currently unplaced: 153890"
       ]
      },
      {
       "output_type": "stream",
       "stream": "stdout",
       "text": [
        "\n",
        "Model jobs_relocation executed in 0.718s\n",
        "\n",
        "hlcm_simulate\n",
        "\n",
        "There are 2224980 total available units"
       ]
      },
      {
       "output_type": "stream",
       "stream": "stdout",
       "text": [
        "\n",
        "    and 1846037 total choosers\n",
        "    but there are 22365 overfull buildings"
       ]
      },
      {
       "output_type": "stream",
       "stream": "stdout",
       "text": [
        "\n",
        "    for a total of 498043 empty units"
       ]
      },
      {
       "output_type": "stream",
       "stream": "stdout",
       "text": [
        "\n",
        "    in 356384 buildings total in the region\n",
        "Running location choice model simulation\n",
        "\n",
        "Assigned 93488 choosers to new units"
       ]
      },
      {
       "output_type": "stream",
       "stream": "stdout",
       "text": [
        "\n",
        "Total currently unplaced: 0"
       ]
      },
      {
       "output_type": "stream",
       "stream": "stdout",
       "text": [
        "\n",
        "Model hlcm_simulate executed in 14.793s\n",
        "\n",
        "elcm_simulate\n",
        "\n",
        "There are 4302903 total available units"
       ]
      },
      {
       "output_type": "stream",
       "stream": "stdout",
       "text": [
        "\n",
        "    and 1812373 total choosers\n",
        "    but there are 34474 overfull buildings"
       ]
      },
      {
       "output_type": "stream",
       "stream": "stdout",
       "text": [
        "\n",
        "    for a total of 3394552 empty units"
       ]
      },
      {
       "output_type": "stream",
       "stream": "stdout",
       "text": [
        "\n",
        "    in 163633 buildings total in the region\n",
        "Running location choice model simulation\n",
        "\n",
        "Assigned 153890 choosers to new units"
       ]
      },
      {
       "output_type": "stream",
       "stream": "stdout",
       "text": [
        "\n",
        "Total currently unplaced: 0"
       ]
      },
      {
       "output_type": "stream",
       "stream": "stdout",
       "text": [
        "\n",
        "Model elcm_simulate executed in 49.597s\n",
        "\n",
        "nrh_simulate\n",
        "\n",
        "Running hedonic simulation\n",
        "\n",
        "count    1.178970e+05\n",
        "mean     1.956206e+01\n",
        "std      1.221944e+01\n",
        "min      1.873748e-08\n",
        "25%      1.044650e+01\n",
        "50%      1.804145e+01\n",
        "75%      2.629816e+01\n",
        "max      3.696156e+02\n",
        "dtype: float64"
       ]
      },
      {
       "output_type": "stream",
       "stream": "stdout",
       "text": [
        "\n",
        "Model nrh_simulate executed in 0.395s\n",
        "\n",
        "rsh_simulate\n",
        "\n",
        "Running hedonic simulation\n",
        "\n",
        "count    1817653.000000\n",
        "mean      118556.168199\n",
        "std        31192.886472\n",
        "min         4132.957880\n",
        "25%       100837.260243\n",
        "50%       115100.229942\n",
        "75%       132182.775341\n",
        "max      6696306.169579\n",
        "dtype: float64"
       ]
      },
      {
       "output_type": "stream",
       "stream": "stdout",
       "text": [
        "\n",
        "Model rsh_simulate executed in 3.288s"
       ]
      },
      {
       "output_type": "stream",
       "stream": "stdout",
       "text": [
        "\n",
        "Year 2011 completed in 87.779s\n",
        "Computing variables\n",
        "\n",
        "households_transition\n"
       ]
      },
      {
       "output_type": "stream",
       "stream": "stdout",
       "text": [
        "\n",
        "Model households_transition executed in 6.302s"
       ]
      },
      {
       "output_type": "stream",
       "stream": "stdout",
       "text": [
        "\n",
        "\n",
        "jobs_transition\n",
        "\n",
        "Model jobs_transition executed in 1.041s"
       ]
      },
      {
       "output_type": "stream",
       "stream": "stdout",
       "text": [
        "\n",
        "\n",
        "households_relocation\n",
        "\n",
        "Running relocation\n",
        "\n",
        "Total currently unplaced: 2652"
       ]
      },
      {
       "output_type": "stream",
       "stream": "stdout",
       "text": [
        "\n",
        "Total currently unplaced: 94970"
       ]
      },
      {
       "output_type": "stream",
       "stream": "stdout",
       "text": [
        "\n",
        "Model households_relocation executed in 0.859s\n",
        "\n",
        "jobs_relocation\n",
        "\n",
        "Running relocation\n",
        "\n",
        "Total currently unplaced: 15994"
       ]
      },
      {
       "output_type": "stream",
       "stream": "stdout",
       "text": [
        "\n",
        "Total currently unplaced: 160994"
       ]
      },
      {
       "output_type": "stream",
       "stream": "stdout",
       "text": [
        "\n",
        "Model jobs_relocation executed in 0.712s\n",
        "\n",
        "hlcm_simulate\n",
        "\n",
        "There are 2224980 total available units"
       ]
      },
      {
       "output_type": "stream",
       "stream": "stdout",
       "text": [
        "\n",
        "    and 1848689 total choosers\n",
        "    but there are 20040 overfull buildings"
       ]
      },
      {
       "output_type": "stream",
       "stream": "stdout",
       "text": [
        "\n",
        "    for a total of 493850 empty units"
       ]
      },
      {
       "output_type": "stream",
       "stream": "stdout",
       "text": [
        "\n",
        "    in 373329 buildings total in the region\n",
        "Running location choice model simulation\n",
        "\n",
        "Assigned 94970 choosers to new units"
       ]
      },
      {
       "output_type": "stream",
       "stream": "stdout",
       "text": [
        "\n",
        "Total currently unplaced: 0"
       ]
      },
      {
       "output_type": "stream",
       "stream": "stdout",
       "text": [
        "\n",
        "Model hlcm_simulate executed in 13.738s\n",
        "\n",
        "elcm_simulate\n",
        "\n",
        "There are 4302903 total available units"
       ]
      },
      {
       "output_type": "stream",
       "stream": "stdout",
       "text": [
        "\n",
        "    and 1828367 total choosers\n",
        "    but there are 32629 overfull buildings"
       ]
      },
      {
       "output_type": "stream",
       "stream": "stdout",
       "text": [
        "\n",
        "    for a total of 3298816 empty units"
       ]
      },
      {
       "output_type": "stream",
       "stream": "stdout",
       "text": [
        "\n",
        "    in 163941 buildings total in the region\n",
        "Running location choice model simulation\n",
        "\n",
        "Assigned 160994 choosers to new units"
       ]
      },
      {
       "output_type": "stream",
       "stream": "stdout",
       "text": [
        "\n",
        "Total currently unplaced: 0"
       ]
      },
      {
       "output_type": "stream",
       "stream": "stdout",
       "text": [
        "\n",
        "Model elcm_simulate executed in 46.868s\n",
        "\n",
        "nrh_simulate\n",
        "\n",
        "Running hedonic simulation\n",
        "\n",
        "count    1.178970e+05\n",
        "mean     1.956206e+01\n",
        "std      1.221944e+01\n",
        "min      1.873748e-08\n",
        "25%      1.044650e+01\n",
        "50%      1.804145e+01\n",
        "75%      2.629816e+01\n",
        "max      3.696156e+02\n",
        "dtype: float64"
       ]
      },
      {
       "output_type": "stream",
       "stream": "stdout",
       "text": [
        "\n",
        "Model nrh_simulate executed in 0.412s\n",
        "\n",
        "rsh_simulate\n",
        "\n",
        "Running hedonic simulation\n",
        "\n",
        "count    1817653.000000\n",
        "mean      118556.168199\n",
        "std        31192.886472\n",
        "min         4132.957880\n",
        "25%       100837.260243\n",
        "50%       115100.229942\n",
        "75%       132182.775341\n",
        "max      6696306.169579\n",
        "dtype: float64"
       ]
      },
      {
       "output_type": "stream",
       "stream": "stdout",
       "text": [
        "\n",
        "Model rsh_simulate executed in 2.930s"
       ]
      },
      {
       "output_type": "stream",
       "stream": "stdout",
       "text": [
        "\n",
        "Year 2012 completed in 80.118s\n"
       ]
      }
     ],
     "prompt_number": 3
    },
    {
     "cell_type": "code",
     "collapsed": true,
     "input": [],
     "language": "python",
     "metadata": {},
     "outputs": []
    }
   ],
   "metadata": {}
  }
 ]
}