{
 "cells": [
  {
   "cell_type": "code",
   "execution_count": 1,
   "metadata": {
    "collapsed": false
   },
   "outputs": [],
   "source": [
    "%load_ext autoreload\n",
    "%autoreload 2\n",
    "import orca\n",
    "import models, utils\n",
    "from urbansim.utils import misc, networks"
   ]
  },
  {
   "cell_type": "code",
   "execution_count": 2,
   "metadata": {
    "collapsed": false
   },
   "outputs": [
    {
     "name": "stdout",
     "output_type": "stream",
     "text": [
      "Running step 'build_networks'\n",
      "Time to execute step 'build_networks': 45.26 s\n",
      "Total time to execute iteration 1 with iteration value None: 45.26 s\n"
     ]
    }
   ],
   "source": [
    "orca.run(['build_networks'])"
   ]
  },
  {
   "cell_type": "code",
   "execution_count": 3,
   "metadata": {
    "collapsed": false
   },
   "outputs": [
    {
     "name": "stdout",
     "output_type": "stream",
     "text": [
      "Running iteration 1 with iteration value 2015\n",
      "Running step 'neighborhood_vars'\n",
      "Computing accessibility variables\n",
      "Computing sum_residential_units\n",
      "Removed 164 rows because they contain missing values\n",
      "Computing sum_nonresidential_units\n",
      "Removed 164 rows because they contain missing values\n",
      "Computing ave_unit_sqft\n",
      "Removed 42 rows because they contain missing values\n",
      "Computing ave_lot_sqft\n",
      "Removed 164 rows because they contain missing values\n",
      "Computing population\n",
      "Computing households\n",
      "Computing midinc_hhs\n",
      "Computing lowinc_hhs\n",
      "Computing highinc_hhs\n",
      "Computing race_1_hhs\n",
      "Computing race_2_hhs\n",
      "Computing race_3_hhs\n",
      "Computing race_4_hhs\n",
      "Computing hhs_with_children\n",
      "Computing sfdu\n",
      "Computing hhsize\n",
      "Computing ave_income\n",
      "Computing residential\n",
      "Removed 42 rows because they contain missing values\n",
      "Computing retail\n",
      "Removed 3 rows because they contain missing values\n",
      "Computing office\n",
      "Removed 4 rows because they contain missing values\n",
      "Computing industrial\n",
      "Computing medical\n",
      "Computing max_industrial_far\n",
      "Computing max_office_far\n",
      "Computing max_retail_far\n",
      "Computing max_medical_far\n",
      "Computing jobs\n",
      "Removed 62 rows because they contain missing values\n",
      "Computing retail_jobs\n",
      "Computing node_r1500_sqft\n",
      "Computing residential\n",
      "Removed 42 rows because they contain missing values\n",
      "Computing ave_nonres_sqft_price\n",
      "Removed 7 rows because they contain missing values\n",
      "Computing retail\n",
      "Removed 3 rows because they contain missing values\n",
      "Computing office\n",
      "Removed 4 rows because they contain missing values\n",
      "Computing industrial\n",
      "Computing medical\n",
      "Computing quarter_mile_to_transit\n",
      "Computing walk_15min_retail_jobs\n",
      "Computing walk_15min_shopping_jobs\n",
      "Removed 55 rows because they contain missing values\n",
      "Computing walk_30min_retail_jobs\n",
      "Computing walk_30min_shopping_jobs\n",
      "Removed 55 rows because they contain missing values\n",
      "Computing accessibility variables\n",
      "Computing drv_30min_jobs\n",
      "Removed 62 rows because they contain missing values\n",
      "Computing drv_45min_jobs\n",
      "Removed 62 rows because they contain missing values\n",
      "Computing drv_60min_jobs\n",
      "Removed 62 rows because they contain missing values\n",
      "Computing drv_10min_pop\n",
      "Computing drv_20min_pop\n",
      "Computing drv_15min_retail_jobs\n",
      "Computing drv_15min_shopping_jobs\n",
      "Removed 55 rows because they contain missing values\n",
      "Computing drv_30min_retail_jobs\n",
      "Computing drv_30min_shopping_jobs\n",
      "Removed 55 rows because they contain missing values\n",
      "Computing elem_school_perf\n",
      "Time to execute step 'neighborhood_vars': 104.96 s\n",
      "Running step 'households_transition'\n",
      "Time to execute step 'households_transition': 41.17 s\n",
      "Running step 'fix_lpr'\n"
     ]
    },
    {
     "ename": "ValueError",
     "evalue": "Fewer non-zero entries in p than size",
     "traceback": [
      "\u001b[1;31m---------------------------------------------------------------------------\u001b[0m",
      "\u001b[1;31mValueError\u001b[0m                                Traceback (most recent call last)",
      "\u001b[1;32m<ipython-input-3-d267fb5413f9>\u001b[0m in \u001b[0;36m<module>\u001b[1;34m()\u001b[0m\n\u001b[0;32m     22\u001b[0m ], iter_vars=[2015, 2016],\n\u001b[0;32m     23\u001b[0m          \u001b[1;31m# data_out=utils.get_run_filename(),\u001b[0m\u001b[1;33m\u001b[0m\u001b[1;33m\u001b[0m\u001b[0m\n\u001b[1;32m---> 24\u001b[1;33m          out_interval=1)\n\u001b[0m",
      "\u001b[1;32m/home/da/anaconda2/lib/python2.7/site-packages/orca-1.3.0-py2.7.egg/orca/orca.pyc\u001b[0m in \u001b[0;36mrun\u001b[1;34m(steps, iter_vars, data_out, out_interval)\u001b[0m\n\u001b[0;32m   1874\u001b[0m                 \u001b[0mstep\u001b[0m \u001b[1;33m=\u001b[0m \u001b[0mget_step\u001b[0m\u001b[1;33m(\u001b[0m\u001b[0mstep_name\u001b[0m\u001b[1;33m)\u001b[0m\u001b[1;33m\u001b[0m\u001b[0m\n\u001b[0;32m   1875\u001b[0m                 \u001b[0mt2\u001b[0m \u001b[1;33m=\u001b[0m \u001b[0mtime\u001b[0m\u001b[1;33m.\u001b[0m\u001b[0mtime\u001b[0m\u001b[1;33m(\u001b[0m\u001b[1;33m)\u001b[0m\u001b[1;33m\u001b[0m\u001b[0m\n\u001b[1;32m-> 1876\u001b[1;33m                 \u001b[0mstep\u001b[0m\u001b[1;33m(\u001b[0m\u001b[1;33m)\u001b[0m\u001b[1;33m\u001b[0m\u001b[0m\n\u001b[0m\u001b[0;32m   1877\u001b[0m                 print(\"Time to execute step '{}': {:.2f} s\".format(\n\u001b[0;32m   1878\u001b[0m                       step_name, time.time() - t2))\n",
      "\u001b[1;32m/home/da/anaconda2/lib/python2.7/site-packages/orca-1.3.0-py2.7.egg/orca/orca.pyc\u001b[0m in \u001b[0;36m__call__\u001b[1;34m(self)\u001b[0m\n\u001b[0;32m    778\u001b[0m             kwargs = _collect_variables(names=self._argspec.args,\n\u001b[0;32m    779\u001b[0m                                         expressions=self._argspec.defaults)\n\u001b[1;32m--> 780\u001b[1;33m             \u001b[1;32mreturn\u001b[0m \u001b[0mself\u001b[0m\u001b[1;33m.\u001b[0m\u001b[0m_func\u001b[0m\u001b[1;33m(\u001b[0m\u001b[1;33m**\u001b[0m\u001b[0mkwargs\u001b[0m\u001b[1;33m)\u001b[0m\u001b[1;33m\u001b[0m\u001b[0m\n\u001b[0m\u001b[0;32m    781\u001b[0m \u001b[1;33m\u001b[0m\u001b[0m\n\u001b[0;32m    782\u001b[0m     \u001b[1;32mdef\u001b[0m \u001b[0m_tables_used\u001b[0m\u001b[1;33m(\u001b[0m\u001b[0mself\u001b[0m\u001b[1;33m)\u001b[0m\u001b[1;33m:\u001b[0m\u001b[1;33m\u001b[0m\u001b[0m\n",
      "\u001b[1;32m/home/da/semcog/semcog_urbansim/models.pyc\u001b[0m in \u001b[0;36mfix_lpr\u001b[1;34m(households, persons, iter_var, workers_emloyment_rates_by_large_area)\u001b[0m\n\u001b[0;32m    244\u001b[0m             \u001b[0mprob\u001b[0m \u001b[1;33m=\u001b[0m \u001b[0mp\u001b[0m\u001b[1;33m[\u001b[0m\u001b[0mselect\u001b[0m \u001b[1;33m&\u001b[0m \u001b[0memployed\u001b[0m\u001b[1;33m]\u001b[0m\u001b[1;33m.\u001b[0m\u001b[0mweight\u001b[0m\u001b[1;33m\u001b[0m\u001b[0m\n\u001b[0;32m    245\u001b[0m             \u001b[0mprob\u001b[0m \u001b[1;33m/=\u001b[0m \u001b[0mprob\u001b[0m\u001b[1;33m.\u001b[0m\u001b[0msum\u001b[0m\u001b[1;33m(\u001b[0m\u001b[1;33m)\u001b[0m\u001b[1;33m\u001b[0m\u001b[0m\n\u001b[1;32m--> 246\u001b[1;33m             \u001b[0mnew_unemploy\u001b[0m\u001b[1;33m.\u001b[0m\u001b[0mappend\u001b[0m\u001b[1;33m(\u001b[0m\u001b[0mchoice\u001b[0m\u001b[1;33m(\u001b[0m\u001b[0mp\u001b[0m\u001b[1;33m[\u001b[0m\u001b[0mselect\u001b[0m \u001b[1;33m&\u001b[0m \u001b[0memployed\u001b[0m\u001b[1;33m]\u001b[0m\u001b[1;33m.\u001b[0m\u001b[0mindex\u001b[0m\u001b[1;33m,\u001b[0m \u001b[0mint\u001b[0m\u001b[1;33m(\u001b[0m\u001b[0mnum_workers\u001b[0m \u001b[1;33m-\u001b[0m \u001b[0mlpr_workers\u001b[0m\u001b[1;33m)\u001b[0m\u001b[1;33m,\u001b[0m \u001b[0mFalse\u001b[0m\u001b[1;33m,\u001b[0m \u001b[0mp\u001b[0m\u001b[1;33m=\u001b[0m\u001b[0mprob\u001b[0m\u001b[1;33m)\u001b[0m\u001b[1;33m)\u001b[0m\u001b[1;33m\u001b[0m\u001b[0m\n\u001b[0m\u001b[0;32m    247\u001b[0m \u001b[1;33m\u001b[0m\u001b[0m\n\u001b[0;32m    248\u001b[0m         \u001b[1;31m# print large_area_id, row.age_min, row.age_max, select.sum(), num_workers, lpr_workers, lpr\u001b[0m\u001b[1;33m\u001b[0m\u001b[1;33m\u001b[0m\u001b[0m\n",
      "\u001b[1;32mmtrand.pyx\u001b[0m in \u001b[0;36mmtrand.RandomState.choice (numpy/random/mtrand/mtrand.c:16370)\u001b[1;34m()\u001b[0m\n",
      "\u001b[1;31mValueError\u001b[0m: Fewer non-zero entries in p than size"
     ],
     "output_type": "error"
    }
   ],
   "source": [
    "orca.run([\n",
    "     \"neighborhood_vars\",      # neighborhood variables #worked\n",
    "     \"households_transition\",  # households transition  #worked\n",
    "     \"fix_lpr\",\n",
    "     \"households_relocation\",  # households relocation model\n",
    "     \"jobs_transition\",        # jobs transition\n",
    "     \"jobs_relocation\",        # jobs relocation model\n",
    "     \"scheduled_development_events\",\n",
    "     \"nrh_simulate\",           # non-residential rent hedonic\n",
    "     \"rsh_simulate\",           # residential sales hedonic\n",
    "     \"hlcm_simulate\",          # households location choice\n",
    "     \"elcm_simulate\",          # employment location choice\n",
    "     \"price_vars\",             # compute average price measures\n",
    "     \"feasibility\",            # compute development feasibility\n",
    "     \"residential_developer\",   # build actual buildings,\n",
    "     \"non_residential_developer\",   # build actual buildings\n",
    "     \"government_jobs_scaling_model\",\n",
    "     \"refiner\",\n",
    "     # \"gq_model\", Fixme: we have new data so need new approach\n",
    "     # \"travel_model\", Fixme: on hold\n",
    "     # \"housing_value_update\", Fixme: maybe we don't need\n",
    "], iter_vars=[2015, 2016],\n",
    "         # data_out=utils.get_run_filename(), \n",
    "         out_interval=1)"
   ]
  },
  {
   "cell_type": "code",
   "execution_count": null,
   "metadata": {
    "collapsed": true
   },
   "outputs": [],
   "source": [
    ""
   ]
  }
 ],
 "metadata": {
  "kernelspec": {
   "display_name": "Python [Root]",
   "language": "python",
   "name": "Python [Root]"
  },
  "language_info": {
   "codemirror_mode": {
    "name": "ipython",
    "version": 2.0
   },
   "file_extension": ".py",
   "mimetype": "text/x-python",
   "name": "python",
   "nbconvert_exporter": "python",
   "pygments_lexer": "ipython2",
   "version": "2.7.12"
  }
 },
 "nbformat": 4,
 "nbformat_minor": 0
}