{
 "metadata": {
  "name": "",
  "signature": "sha256:f4be505f89b37ffb88ab16f66bcc7c6bd0c3ea3a6406c26e0e7deb822729eb3d"
 },
 "nbformat": 3,
 "nbformat_minor": 0,
 "worksheets": [
  {
   "cells": [
    {
     "cell_type": "code",
     "collapsed": true,
     "input": [
      "%load_ext autoreload\n",
      "%autoreload 2\n",
      "import models, utils\n",
      "import urbansim.sim.simulation as sim"
     ],
     "language": "python",
     "metadata": {},
     "outputs": [],
     "prompt_number": 1
    },
    {
     "cell_type": "code",
     "collapsed": false,
     "input": [
      "from urbansim.utils import misc, networks"
     ],
     "language": "python",
     "metadata": {},
     "outputs": [],
     "prompt_number": 2
    },
    {
     "cell_type": "code",
     "collapsed": false,
     "input": [
      "sim.run(['build_networks'])"
     ],
     "language": "python",
     "metadata": {},
     "outputs": [
      {
       "output_type": "stream",
       "stream": "stdout",
       "text": [
        "Running model 'build_networks'\n",
        "Time to execute model 'build_networks': 21.70s"
       ]
      },
      {
       "output_type": "stream",
       "stream": "stdout",
       "text": [
        "\n",
        "Total time to execute: 21.70s\n"
       ]
      }
     ],
     "prompt_number": 3
    },
    {
     "cell_type": "code",
     "collapsed": false,
     "input": [
      "sim.run([\n",
      "    \"clear_cache\",            # recompute variables every year\n",
      "    \"neighborhood_vars\",      # neighborhood variables\n",
      "    \"households_transition\",  # households transition\n",
      "    \"households_relocation\",  # households relocation model\n",
      "    \"jobs_transition\",        # jobs transition\n",
      "    \"jobs_relocation\",        # jobs relocation model\n",
      "    \"scheduled_development_events\",\n",
      "    \"nrh_simulate\",           # non-residential rent hedonic\n",
      "    \"rsh_simulate\",           # residential sales hedonic\n",
      "    \"hlcm_simulate\",          # households location choice\n",
      "    \"elcm_simulate\",          # employment location choice\n",
      "    \"price_vars\",             # compute average price measures\n",
      "    \"feasibility\",            # compute development feasibility\n",
      "    \"residential_developer\",   # build actual buildings,\n",
      "    \"non_residential_developer\",   # build actual buildings\n",
      "    \"government_jobs_scaling_model\",\n",
      "    \"refiner\",\n",
      "    \"gq_model\",\n",
      "    \"travel_model\",\n",
      "], years=range(2012, 2041), data_out=utils.get_run_filename(), out_interval=7)"
     ],
     "language": "python",
     "metadata": {},
     "outputs": [
      {
       "output_type": "stream",
       "stream": "stdout",
       "text": [
        "Running year 2012\n",
        "Running model 'clear_cache'\n",
        "Time to execute model 'clear_cache': 0.04s\n",
        "Running model 'neighborhood_vars'\n",
        "Computing accessibility variables"
       ]
      },
      {
       "output_type": "stream",
       "stream": "stdout",
       "text": [
        "\n",
        "Computing sum_residential_units\n",
        "Computing sum_nonresidential_units"
       ]
      },
      {
       "output_type": "stream",
       "stream": "stdout",
       "text": [
        "\n",
        "Computing ave_unit_sqft"
       ]
      },
      {
       "output_type": "stream",
       "stream": "stdout",
       "text": [
        "\n",
        "Computing ave_lot_sqft"
       ]
      },
      {
       "output_type": "stream",
       "stream": "stdout",
       "text": [
        "\n",
        "Computing population"
       ]
      },
      {
       "output_type": "stream",
       "stream": "stdout",
       "text": [
        "\n",
        "Computing poor"
       ]
      },
      {
       "output_type": "stream",
       "stream": "stdout",
       "text": [
        "\n",
        "Computing sfdu"
       ]
      },
      {
       "output_type": "stream",
       "stream": "stdout",
       "text": [
        "\n",
        "Computing hhsize"
       ]
      },
      {
       "output_type": "stream",
       "stream": "stdout",
       "text": [
        "\n",
        "Computing jobs"
       ]
      },
      {
       "output_type": "stream",
       "stream": "stdout",
       "text": [
        "\n",
        "Computing ave_income"
       ]
      },
      {
       "output_type": "stream",
       "stream": "stdout",
       "text": [
        "\n",
        "       sum_residential_units  sum_nonresidential_units  ave_unit_sqft  \\\n",
        "count          209150.000000             209150.000000  209150.000000   \n",
        "mean                3.248922                  2.414219       5.681933   \n",
        "std                 1.978435                  2.405564       2.968490   \n",
        "min                 0.000000                  0.000000       0.000000   \n",
        "25%                 1.822084                  0.000000       6.495617   \n",
        "50%                 3.908965                  1.945910       7.067929   \n",
        "75%                 4.811503                  4.508325       7.407352   \n",
        "max                 7.469827                 10.058174      11.373530   \n",
        "\n",
        "        ave_lot_sqft     population           poor           sfdu  \\\n",
        "count  209150.000000  209150.000000  209150.000000  209150.000000   \n",
        "mean        7.630221       3.816513       2.680713       2.946458   \n",
        "std         3.859336       2.240884       1.930621       1.906995   \n",
        "min         0.000000       0.000000       0.000000       0.000000   \n",
        "25%         8.258072       2.479031       0.579835       0.991517   \n",
        "50%         9.013516       4.696638       2.946367       3.565029   \n",
        "75%         9.752878       5.522268       4.313789       4.507637   \n",
        "max        16.495399       7.513422       7.141783       6.467862   \n",
        "\n",
        "              hhsize           jobs     ave_income  \n",
        "count  209150.000000  209150.000000  209150.000000  \n",
        "mean        0.995917       1.881320       8.783069  \n",
        "std         0.528507       2.021754       4.571769  \n",
        "min         0.000000       0.000000       0.000000  \n",
        "25%         1.046787       0.000000      10.353616  \n",
        "50%         1.233755       1.208480      10.994078  \n",
        "75%         1.316614       3.526361      11.387536  \n",
        "max         2.302585       9.663897      12.971273  "
       ]
      },
      {
       "output_type": "stream",
       "stream": "stdout",
       "text": [
        "\n",
        "count      209150.000000\n",
        "mean     10189590.303500\n",
        "std      12118099.974139\n",
        "min         23035.000000\n",
        "25%       4083711.250000\n",
        "50%       4160339.500000\n",
        "75%      16176785.750000\n",
        "max      59223691.000000\n",
        "dtype: float64"
       ]
      },
      {
       "output_type": "stream",
       "stream": "stdout",
       "text": [
        "\n",
        "Time to execute model 'neighborhood_vars': 10.09s\n",
        "Running model 'households_transition'\n",
        "Time to execute model 'households_transition': 155.82s"
       ]
      },
      {
       "output_type": "stream",
       "stream": "stdout",
       "text": [
        "\n",
        "Running model 'households_relocation'\n",
        "Total currently unplaced: 107232"
       ]
      },
      {
       "output_type": "stream",
       "stream": "stdout",
       "text": [
        "\n",
        "Time to execute model 'households_relocation': 1.83s\n",
        "Running model 'jobs_transition'\n",
        "Time to execute model 'jobs_transition': 5.16s"
       ]
      },
      {
       "output_type": "stream",
       "stream": "stdout",
       "text": [
        "\n",
        "Running model 'jobs_relocation'\n",
        "Total currently unplaced: 44061"
       ]
      },
      {
       "output_type": "stream",
       "stream": "stdout",
       "text": [
        "\n",
        "Time to execute model 'jobs_relocation': 0.87s\n",
        "Running model 'scheduled_development_events'\n",
        "Time to execute model 'scheduled_development_events': 0.37s"
       ]
      },
      {
       "output_type": "stream",
       "stream": "stdout",
       "text": [
        "\n",
        "Running model 'nrh_simulate'\n",
        "count    1.180260e+05\n",
        "mean     2.256564e+01\n",
        "std      9.544229e+01\n",
        "min      8.518862e-10\n",
        "25%      1.066315e+01\n",
        "50%      1.860710e+01\n",
        "75%      2.749110e+01\n",
        "max      7.612720e+03\n",
        "dtype: float64"
       ]
      },
      {
       "output_type": "stream",
       "stream": "stdout",
       "text": [
        "\n",
        "Time to execute model 'nrh_simulate': 6.86s\n",
        "Running model 'rsh_simulate'\n",
        "count    1817653.000000\n",
        "mean          45.745204\n",
        "std          198.712808\n",
        "min            0.000002\n",
        "25%           34.635039\n",
        "50%           40.799372\n",
        "75%           46.187467\n",
        "max        17752.384534\n",
        "dtype: float64"
       ]
      },
      {
       "output_type": "stream",
       "stream": "stdout",
       "text": [
        "\n",
        "Time to execute model 'rsh_simulate': 5.47s"
       ]
      },
      {
       "output_type": "stream",
       "stream": "stdout",
       "text": [
        "\n",
        "Running model 'hlcm_simulate'\n",
        "There are 2224980 total available units"
       ]
      },
      {
       "output_type": "stream",
       "stream": "stdout",
       "text": [
        "\n",
        "    and 1848504 total choosers\n",
        "    but there are 21992 overfull buildings"
       ]
      },
      {
       "output_type": "stream",
       "stream": "stdout",
       "text": [
        "\n",
        "    for a total of 508735 temporarily empty units"
       ]
      },
      {
       "output_type": "stream",
       "stream": "stdout",
       "text": [
        "\n",
        "    in 366196 buildings total in the region\n",
        "Assigned 107232 choosers to new units"
       ]
      },
      {
       "output_type": "stream",
       "stream": "stdout",
       "text": [
        "\n",
        "Total currently unplaced: 0"
       ]
      },
      {
       "output_type": "stream",
       "stream": "stdout",
       "text": [
        "\n",
        "    and there are now 376476 empty units"
       ]
      },
      {
       "output_type": "stream",
       "stream": "stdout",
       "text": [
        "\n",
        "    and 21992 overfull buildings"
       ]
      },
      {
       "output_type": "stream",
       "stream": "stdout",
       "text": [
        "\n",
        "Time to execute model 'hlcm_simulate': 9.89s\n",
        "Running model 'elcm_simulate'\n",
        "There are 641834 total available units"
       ]
      },
      {
       "output_type": "stream",
       "stream": "stdout",
       "text": [
        "\n",
        "    and 402865 total choosers\n",
        "    but there are 7348 overfull buildings\n",
        "    for a total of 422808 temporarily empty units"
       ]
      },
      {
       "output_type": "stream",
       "stream": "stdout",
       "text": [
        "\n",
        "    in 20490 buildings total in the region\n",
        "Assigned 7922 choosers to new units"
       ]
      },
      {
       "output_type": "stream",
       "stream": "stdout",
       "text": [
        "\n",
        "Total currently unplaced: 0"
       ]
      },
      {
       "output_type": "stream",
       "stream": "stdout",
       "text": [
        "\n",
        "    and there are now 246891 empty units\n",
        "    and 7348 overfull buildings\n",
        "There are 1730727 total available units"
       ]
      },
      {
       "output_type": "stream",
       "stream": "stdout",
       "text": [
        "\n",
        "    and 236882 total choosers\n",
        "    but there are 3587 overfull buildings\n",
        "    for a total of 1597769 temporarily empty units"
       ]
      },
      {
       "output_type": "stream",
       "stream": "stdout",
       "text": [
        "\n",
        "    in 25928 buildings total in the region\n",
        "Assigned 5602 choosers to new units"
       ]
      },
      {
       "output_type": "stream",
       "stream": "stdout",
       "text": [
        "\n",
        "Total currently unplaced: 0"
       ]
      },
      {
       "output_type": "stream",
       "stream": "stdout",
       "text": [
        "\n",
        "    and there are now 1499447 empty units\n",
        "    and 3587 overfull buildings\n",
        "There are 93493 total available units"
       ]
      },
      {
       "output_type": "stream",
       "stream": "stdout",
       "text": [
        "\n",
        "    and 43359 total choosers\n",
        "    but there are 1428 overfull buildings\n",
        "    for a total of 67739 temporarily empty units"
       ]
      },
      {
       "output_type": "stream",
       "stream": "stdout",
       "text": [
        "\n",
        "    in 15330 buildings total in the region\n",
        "Assigned 1301 choosers to new units"
       ]
      },
      {
       "output_type": "stream",
       "stream": "stdout",
       "text": [
        "\n",
        "Total currently unplaced: 0"
       ]
      },
      {
       "output_type": "stream",
       "stream": "stdout",
       "text": [
        "\n",
        "    and there are now 51435 empty units\n",
        "    and 1428 overfull buildings\n",
        "There are 504940 total available units"
       ]
      },
      {
       "output_type": "stream",
       "stream": "stdout",
       "text": [
        "\n",
        "    and 274053 total choosers\n",
        "    but there are 5914 overfull buildings\n",
        "    for a total of 366689 temporarily empty units"
       ]
      },
      {
       "output_type": "stream",
       "stream": "stdout",
       "text": [
        "\n",
        "    in 24226 buildings total in the region\n",
        "Assigned 6593 choosers to new units"
       ]
      },
      {
       "output_type": "stream",
       "stream": "stdout",
       "text": [
        "\n",
        "Total currently unplaced: 0"
       ]
      },
      {
       "output_type": "stream",
       "stream": "stdout",
       "text": [
        "\n",
        "    and there are now 237480 empty units\n",
        "    and 5914 overfull buildings\n",
        "There are 68854 total available units"
       ]
      },
      {
       "output_type": "stream",
       "stream": "stdout",
       "text": [
        "\n",
        "    and 37131 total choosers\n",
        "    but there are 1108 overfull buildings\n",
        "    for a total of 50291 temporarily empty units\n",
        "    in 6804 buildings total in the region\n",
        "Assigned 870 choosers to new units"
       ]
      },
      {
       "output_type": "stream",
       "stream": "stdout",
       "text": [
        "\n",
        "Total currently unplaced: 0"
       ]
      },
      {
       "output_type": "stream",
       "stream": "stdout",
       "text": [
        "\n",
        "    and there are now 32593 empty units\n",
        "    and 1108 overfull buildings\n",
        "There are 894303 total available units"
       ]
      },
      {
       "output_type": "stream",
       "stream": "stdout",
       "text": [
        "\n",
        "    and 611697 total choosers\n",
        "    but there are 12274 overfull buildings\n",
        "    for a total of 577926 temporarily empty units"
       ]
      },
      {
       "output_type": "stream",
       "stream": "stdout",
       "text": [
        "\n",
        "    in 32891 buildings total in the region\n",
        "Assigned 22398 choosers to new units"
       ]
      },
      {
       "output_type": "stream",
       "stream": "stdout",
       "text": [
        "\n",
        "Total currently unplaced: 0"
       ]
      },
      {
       "output_type": "stream",
       "stream": "stdout",
       "text": [
        "\n",
        "    and there are now 305004 empty units\n",
        "    and 12274 overfull buildings\n",
        "There are 103621 total available units"
       ]
      },
      {
       "output_type": "stream",
       "stream": "stdout",
       "text": [
        "\n",
        "    and 42018 total choosers\n",
        "    but there are 1132 overfull buildings\n",
        "    for a total of 78154 temporarily empty units"
       ]
      },
      {
       "output_type": "stream",
       "stream": "stdout",
       "text": [
        "\n",
        "    in 17607 buildings total in the region\n",
        "Assigned 1273 choosers to new units"
       ]
      },
      {
       "output_type": "stream",
       "stream": "stdout",
       "text": [
        "\n",
        "Total currently unplaced: 0"
       ]
      },
      {
       "output_type": "stream",
       "stream": "stdout",
       "text": [
        "\n",
        "    and there are now 62876 empty units\n",
        "    and 1132 overfull buildings\n",
        "There are 266108 total available units"
       ]
      },
      {
       "output_type": "stream",
       "stream": "stdout",
       "text": [
        "\n",
        "    and 180362 total choosers\n",
        "    but there are 8547 overfull buildings\n",
        "    for a total of 199729 temporarily empty units"
       ]
      },
      {
       "output_type": "stream",
       "stream": "stdout",
       "text": [
        "\n",
        "    in 18849 buildings total in the region\n",
        "Assigned 3083 choosers to new units"
       ]
      },
      {
       "output_type": "stream",
       "stream": "stdout",
       "text": [
        "\n",
        "Total currently unplaced: 0"
       ]
      },
      {
       "output_type": "stream",
       "stream": "stdout",
       "text": [
        "\n",
        "    and there are now 88829 empty units\n",
        "    and 8547 overfull buildings\n",
        "Time to execute model 'elcm_simulate': 24.32s"
       ]
      },
      {
       "output_type": "stream",
       "stream": "stdout",
       "text": [
        "\n",
        "Running model 'price_vars'\n",
        "Computing accessibility variables\n",
        "Computing residential\n",
        "Computing retail"
       ]
      },
      {
       "output_type": "stream",
       "stream": "stdout",
       "text": [
        "\n",
        "Computing office"
       ]
      },
      {
       "output_type": "stream",
       "stream": "stdout",
       "text": [
        "\n",
        "Computing industrial"
       ]
      },
      {
       "output_type": "stream",
       "stream": "stdout",
       "text": [
        "\n",
        "         residential         retail         office     industrial\n",
        "count  209150.000000  209150.000000  209150.000000  209150.000000\n",
        "mean       34.686448      20.001684      17.441059       6.813843\n",
        "std       100.349001      14.257213      12.872557       7.589079\n",
        "min         0.000000       0.000000       0.000000       0.000000\n",
        "25%        22.815247       0.000000       0.000000       0.000000\n",
        "50%        34.245470      24.154033      22.622917       4.586630\n",
        "75%        41.767718      30.911280      27.939013      13.341805\n",
        "max      5474.895020     101.982399      44.823769      60.000000"
       ]
      },
      {
       "output_type": "stream",
       "stream": "stdout",
       "text": [
        "\n",
        "count      209150.000000\n",
        "mean     10189590.303500\n",
        "std      12118099.974139\n",
        "min         23035.000000\n",
        "25%       4083711.250000\n",
        "50%       4160339.500000\n",
        "75%      16176785.750000\n",
        "max      59223691.000000\n",
        "dtype: float64\n",
        "Time to execute model 'price_vars': 4.09s\n",
        "Running model 'feasibility'\n",
        "Describe of the yearly rent by use"
       ]
      },
      {
       "output_type": "stream",
       "stream": "stdout",
       "text": [
        "\n",
        "               retail      industrial          office     residential\n",
        "count  1837676.000000  1837676.000000  1837676.000000  1837676.000000\n",
        "mean        22.999224        8.114994       21.526558        1.827580\n",
        "std         11.483797        7.019632       10.460323        2.330004\n",
        "min          0.000000        0.000000        0.000000        0.000000\n",
        "25%         13.366914        0.000000       18.049873        1.382165\n",
        "50%         25.349598        6.997551       24.679895        1.754619\n",
        "75%         31.016184       13.640645       29.018337        2.071247\n",
        "max        101.982399       60.000000       44.823769      254.029492"
       ]
      },
      {
       "output_type": "stream",
       "stream": "stdout",
       "text": [
        "\n",
        "Computing feasibility for form mixedoffice\n",
        "Computing feasibility for form industrial"
       ]
      },
      {
       "output_type": "stream",
       "stream": "stdout",
       "text": [
        "\n",
        "Computing feasibility for form office"
       ]
      },
      {
       "output_type": "stream",
       "stream": "stdout",
       "text": [
        "\n",
        "Computing feasibility for form residential"
       ]
      },
      {
       "output_type": "stream",
       "stream": "stdout",
       "text": [
        "\n",
        "Computing feasibility for form mixedresidential"
       ]
      },
      {
       "output_type": "stream",
       "stream": "stdout",
       "text": [
        "\n",
        "Computing feasibility for form retail"
       ]
      },
      {
       "output_type": "stream",
       "stream": "stdout",
       "text": [
        "\n",
        "Time to execute model 'feasibility': 27.12s"
       ]
      },
      {
       "output_type": "stream",
       "stream": "stdout",
       "text": [
        "\n",
        "Running model 'residential_developer'\n",
        "Number of agents: 1,848,504"
       ]
      },
      {
       "output_type": "stream",
       "stream": "stdout",
       "text": [
        "\n",
        "Number of agent spaces: 2,224,980\n",
        "Current vacancy = 0.17\n",
        "Target vacancy = 0.20, target of new units = 85,650\n",
        "1,713,195 feasible buildings before running developer\n",
        "Sum of net units that are profitable: 280,215"
       ]
      },
      {
       "output_type": "stream",
       "stream": "stdout",
       "text": [
        "\n",
        "Adding 589 buildings with 86,552 residential_units"
       ]
      },
      {
       "output_type": "stream",
       "stream": "stdout",
       "text": [
        "\n",
        "1,712,606 feasible buildings after running developer\n",
        "Time to execute model 'residential_developer': 3.55s"
       ]
      },
      {
       "output_type": "stream",
       "stream": "stdout",
       "text": [
        "\n",
        "Running model 'non_residential_developer'\n",
        "Number of agents: 1,828,367"
       ]
      },
      {
       "output_type": "stream",
       "stream": "stdout",
       "text": [
        "\n",
        "Number of agent spaces: 4,299,517\n",
        "Current vacancy = 0.57\n",
        "Target vacancy = 0.60, target of new units = 271,400\n",
        "1,712,606 feasible buildings before running developer\n",
        "Sum of net units that are profitable: 118,814,533"
       ]
      },
      {
       "output_type": "stream",
       "stream": "stdout",
       "text": [
        "\n",
        "Adding 965 buildings with 274,926 job_spaces"
       ]
      },
      {
       "output_type": "stream",
       "stream": "stdout",
       "text": [
        "\n",
        "1,711,641 feasible buildings after running developer\n",
        "Time to execute model 'non_residential_developer': 33.59s"
       ]
      },
      {
       "output_type": "stream",
       "stream": "stdout",
       "text": [
        "\n",
        "Running model 'government_jobs_scaling_model'\n",
        "Time to execute model 'government_jobs_scaling_model': 0.07s"
       ]
      },
      {
       "output_type": "stream",
       "stream": "stdout",
       "text": [
        "\n",
        "Running model 'refiner'\n",
        "No building in parcel 2357424."
       ]
      },
      {
       "output_type": "stream",
       "stream": "stdout",
       "text": [
        "\n",
        "Time to execute model 'refiner': 10.00s"
       ]
      },
      {
       "output_type": "stream",
       "stream": "stdout",
       "text": [
        "\n",
        "Running model 'gq_model'\n",
        "Time to execute model 'gq_model': 0.01s\n",
        "Running model 'travel_model'\n",
        "Time to execute model 'travel_model': 0.00s\n",
        "Total time to execute year 2012: 299.14s\n",
        "Running year 2013\n",
        "Running model 'clear_cache'\n",
        "Time to execute model 'clear_cache': 0.01s\n",
        "Running model 'neighborhood_vars'\n",
        "Computing accessibility variables"
       ]
      },
      {
       "output_type": "stream",
       "stream": "stdout",
       "text": [
        "\n",
        "Computing sum_residential_units\n",
        "Computing sum_nonresidential_units"
       ]
      },
      {
       "output_type": "stream",
       "stream": "stdout",
       "text": [
        "\n",
        "Computing ave_unit_sqft"
       ]
      },
      {
       "output_type": "stream",
       "stream": "stdout",
       "text": [
        "\n",
        "Computing ave_lot_sqft"
       ]
      },
      {
       "output_type": "stream",
       "stream": "stdout",
       "text": [
        "\n",
        "Computing population"
       ]
      },
      {
       "output_type": "stream",
       "stream": "stdout",
       "text": [
        "\n",
        "Computing poor"
       ]
      },
      {
       "output_type": "stream",
       "stream": "stdout",
       "text": [
        "\n",
        "Computing sfdu"
       ]
      },
      {
       "output_type": "stream",
       "stream": "stdout",
       "text": [
        "\n",
        "Computing hhsize"
       ]
      },
      {
       "output_type": "stream",
       "stream": "stdout",
       "text": [
        "\n",
        "Computing jobs"
       ]
      },
      {
       "output_type": "stream",
       "stream": "stdout",
       "text": [
        "\n",
        "Computing ave_income"
       ]
      },
      {
       "output_type": "stream",
       "stream": "stdout",
       "text": [
        "\n",
        "       sum_residential_units  sum_nonresidential_units  ave_unit_sqft  \\\n",
        "count          209150.000000             209150.000000  209150.000000   \n",
        "mean                3.258786                  2.496581       5.684915   \n",
        "std                 1.983223                  2.416572       2.965097   \n",
        "min                 0.000000                  0.000000       0.000000   \n",
        "25%                 1.846637                  0.000000       6.496393   \n",
        "50%                 3.916085                  2.142978       7.067441   \n",
        "75%                 4.819665                  4.604187       7.406615   \n",
        "max                 8.255659                 10.058174      11.373530   \n",
        "\n",
        "        ave_lot_sqft     population           poor           sfdu  \\\n",
        "count  209150.000000  209150.000000  209150.000000  209150.000000   \n",
        "mean        7.632427       3.821182       2.698243       2.946818   \n",
        "std         3.860655       2.237901       1.918925       1.906714   \n",
        "min         0.000000       0.000000       0.000000       0.000000   \n",
        "25%         8.259466       2.515788       0.683266       0.993189   \n",
        "50%         9.016077       4.700480       2.974210       3.565406   \n",
        "75%         9.755361       5.519574       4.321634       4.507717   \n",
        "max        16.495399       7.921030       7.077371       6.467862   \n",
        "\n",
        "              hhsize           jobs     ave_income  \n",
        "count  209150.000000  209150.000000  209150.000000  \n",
        "mean        0.996828       1.922677       8.794555  \n",
        "std         0.526646       2.015163       4.568834  \n",
        "min         0.000000       0.000000       0.000000  \n",
        "25%         1.070773       0.000000      10.381568  \n",
        "50%         1.232399       1.316375      11.007091  \n",
        "75%         1.312186       3.557476      11.382680  \n",
        "max         2.302585       9.653744      12.971273  "
       ]
      },
      {
       "output_type": "stream",
       "stream": "stdout",
       "text": [
        "\n",
        "count      209150.000000\n",
        "mean     10189590.303500\n",
        "std      12118099.974139\n",
        "min         23035.000000\n",
        "25%       4083711.250000\n",
        "50%       4160339.500000\n",
        "75%      16176785.750000\n",
        "max      59223691.000000\n",
        "dtype: float64\n",
        "Time to execute model 'neighborhood_vars': 14.38s"
       ]
      },
      {
       "output_type": "stream",
       "stream": "stdout",
       "text": [
        "\n",
        "Running model 'households_transition'\n",
        "Time to execute model 'households_transition': 124.46s"
       ]
      },
      {
       "output_type": "stream",
       "stream": "stdout",
       "text": [
        "\n",
        "Running model 'households_relocation'\n",
        "Total currently unplaced: 27512"
       ]
      },
      {
       "output_type": "stream",
       "stream": "stdout",
       "text": [
        "\n",
        "Time to execute model 'households_relocation': 4.02s\n",
        "Running model 'jobs_transition'\n",
        "Time to execute model 'jobs_transition': 6.25s"
       ]
      },
      {
       "output_type": "stream",
       "stream": "stdout",
       "text": [
        "\n",
        "Running model 'jobs_relocation'\n",
        "Total currently unplaced: 23244"
       ]
      },
      {
       "output_type": "stream",
       "stream": "stdout",
       "text": [
        "\n",
        "Time to execute model 'jobs_relocation': 2.16s\n",
        "Running model 'scheduled_development_events'\n",
        "Time to execute model 'scheduled_development_events': 0.46s"
       ]
      },
      {
       "output_type": "stream",
       "stream": "stdout",
       "text": [
        "\n",
        "Running model 'nrh_simulate'\n",
        "count    1.187030e+05\n",
        "mean     2.262563e+01\n",
        "std      9.471010e+01\n",
        "min      8.543722e-10\n",
        "25%      1.068936e+01\n",
        "50%      1.866199e+01\n",
        "75%      2.763319e+01\n",
        "max      7.612916e+03\n",
        "dtype: float64"
       ]
      },
      {
       "output_type": "stream",
       "stream": "stdout",
       "text": [
        "\n",
        "Time to execute model 'nrh_simulate': 6.73s\n",
        "Running model 'rsh_simulate'\n",
        "count    1818242.000000\n",
        "mean          45.330882\n",
        "std          178.466605\n",
        "min            0.000002\n",
        "25%           34.833884\n",
        "50%           40.991078\n",
        "75%           46.237103\n",
        "max        18771.616844\n",
        "dtype: float64"
       ]
      },
      {
       "output_type": "stream",
       "stream": "stdout",
       "text": [
        "\n",
        "Time to execute model 'rsh_simulate': 5.55s"
       ]
      },
      {
       "output_type": "stream",
       "stream": "stdout",
       "text": [
        "\n",
        "Running model 'hlcm_simulate'\n",
        "There are 2311532 total available units"
       ]
      },
      {
       "output_type": "stream",
       "stream": "stdout",
       "text": [
        "\n",
        "    and 1853353 total choosers\n",
        "    but there are 21403 overfull buildings"
       ]
      },
      {
       "output_type": "stream",
       "stream": "stdout",
       "text": [
        "\n",
        "    for a total of 509908 temporarily empty units"
       ]
      },
      {
       "output_type": "stream",
       "stream": "stdout",
       "text": [
        "\n",
        "    in 329134 buildings total in the region\n",
        "Assigned 27177 choosers to new units"
       ]
      },
      {
       "output_type": "stream",
       "stream": "stdout",
       "text": [
        "\n",
        "Total currently unplaced: 335"
       ]
      },
      {
       "output_type": "stream",
       "stream": "stdout",
       "text": [
        "\n",
        "    and there are now 458514 empty units"
       ]
      },
      {
       "output_type": "stream",
       "stream": "stdout",
       "text": [
        "\n",
        "    and 21403 overfull buildings"
       ]
      },
      {
       "output_type": "stream",
       "stream": "stdout",
       "text": [
        "\n",
        "Time to execute model 'hlcm_simulate': 9.55s\n",
        "Running model 'elcm_simulate'\n",
        "There are 678825 total available units"
       ]
      },
      {
       "output_type": "stream",
       "stream": "stdout",
       "text": [
        "\n",
        "    and 405691 total choosers\n",
        "    but there are 7299 overfull buildings\n",
        "    for a total of 452659 temporarily empty units"
       ]
      },
      {
       "output_type": "stream",
       "stream": "stdout",
       "text": [
        "\n",
        "    in 20754 buildings total in the region\n",
        "Assigned 5086 choosers to new units"
       ]
      },
      {
       "output_type": "stream",
       "stream": "stdout",
       "text": [
        "\n",
        "Total currently unplaced: 0"
       ]
      },
      {
       "output_type": "stream",
       "stream": "stdout",
       "text": [
        "\n",
        "    and there are now 277841 empty units\n",
        "    and 7299 overfull buildings\n",
        "There are 1733204 total available units"
       ]
      },
      {
       "output_type": "stream",
       "stream": "stdout",
       "text": [
        "\n",
        "    and 238211 total choosers\n",
        "    but there are 3573 overfull buildings\n",
        "    for a total of 1595049 temporarily empty units"
       ]
      },
      {
       "output_type": "stream",
       "stream": "stdout",
       "text": [
        "\n",
        "    in 25970 buildings total in the region\n",
        "Assigned 2578 choosers to new units"
       ]
      },
      {
       "output_type": "stream",
       "stream": "stdout",
       "text": [
        "\n",
        "Total currently unplaced: 0"
       ]
      },
      {
       "output_type": "stream",
       "stream": "stdout",
       "text": [
        "\n",
        "    and there are now 1494218 empty units\n",
        "    and 3573 overfull buildings\n",
        "There are 111583 total available units"
       ]
      },
      {
       "output_type": "stream",
       "stream": "stdout",
       "text": [
        "\n",
        "    and 44049 total choosers\n",
        "    but there are 1425 overfull buildings\n",
        "    for a total of 84624 temporarily empty units"
       ]
      },
      {
       "output_type": "stream",
       "stream": "stdout",
       "text": [
        "\n",
        "    in 15382 buildings total in the region\n",
        "Assigned 806 choosers to new units"
       ]
      },
      {
       "output_type": "stream",
       "stream": "stdout",
       "text": [
        "\n",
        "Total currently unplaced: 0"
       ]
      },
      {
       "output_type": "stream",
       "stream": "stdout",
       "text": [
        "\n",
        "    and there are now 68497 empty units\n",
        "    and 1425 overfull buildings\n",
        "There are 536059 total available units"
       ]
      },
      {
       "output_type": "stream",
       "stream": "stdout",
       "text": [
        "\n",
        "    and 276350 total choosers\n",
        "    but there are 5882 overfull buildings\n",
        "    for a total of 391759 temporarily empty units"
       ]
      },
      {
       "output_type": "stream",
       "stream": "stdout",
       "text": [
        "\n",
        "    in 24455 buildings total in the region\n",
        "Assigned 3353 choosers to new units"
       ]
      },
      {
       "output_type": "stream",
       "stream": "stdout",
       "text": [
        "\n",
        "Total currently unplaced: 0"
       ]
      },
      {
       "output_type": "stream",
       "stream": "stdout",
       "text": [
        "\n",
        "    and there are now 263700 empty units\n",
        "    and 5882 overfull buildings\n",
        "There are 80650 total available units"
       ]
      },
      {
       "output_type": "stream",
       "stream": "stdout",
       "text": [
        "\n",
        "    and 37562 total choosers\n",
        "    but there are 1104 overfull buildings\n",
        "    for a total of 61192 temporarily empty units"
       ]
      },
      {
       "output_type": "stream",
       "stream": "stdout",
       "text": [
        "\n",
        "    in 6842 buildings total in the region\n",
        "Assigned 563 choosers to new units"
       ]
      },
      {
       "output_type": "stream",
       "stream": "stdout",
       "text": [
        "\n",
        "Total currently unplaced: 0"
       ]
      },
      {
       "output_type": "stream",
       "stream": "stdout",
       "text": [
        "\n",
        "    and there are now 43722 empty units\n",
        "    and 1104 overfull buildings\n",
        "There are 968081 total available units"
       ]
      },
      {
       "output_type": "stream",
       "stream": "stdout",
       "text": [
        "\n",
        "    and 621419 total choosers\n",
        "    but there are 12481 overfull buildings\n",
        "    for a total of 641154 temporarily empty units"
       ]
      },
      {
       "output_type": "stream",
       "stream": "stdout",
       "text": [
        "\n",
        "    in 33320 buildings total in the region\n",
        "Assigned 11949 choosers to new units"
       ]
      },
      {
       "output_type": "stream",
       "stream": "stdout",
       "text": [
        "\n",
        "Total currently unplaced: 0"
       ]
      },
      {
       "output_type": "stream",
       "stream": "stdout",
       "text": [
        "\n",
        "    and there are now 361110 empty units\n",
        "    and 12481 overfull buildings\n",
        "There are 122710 total available units"
       ]
      },
      {
       "output_type": "stream",
       "stream": "stdout",
       "text": [
        "\n",
        "    and 42815 total choosers\n",
        "    but there are 1128 overfull buildings\n",
        "    for a total of 95527 temporarily empty units"
       ]
      },
      {
       "output_type": "stream",
       "stream": "stdout",
       "text": [
        "\n",
        "    in 17664 buildings total in the region\n",
        "Assigned 945 choosers to new units"
       ]
      },
      {
       "output_type": "stream",
       "stream": "stdout",
       "text": [
        "\n",
        "Total currently unplaced: 0"
       ]
      },
      {
       "output_type": "stream",
       "stream": "stdout",
       "text": [
        "\n",
        "    and there are now 80956 empty units\n",
        "    and 1128 overfull buildings\n",
        "There are 290515 total available units"
       ]
      },
      {
       "output_type": "stream",
       "stream": "stdout",
       "text": [
        "\n",
        "    and 183071 total choosers\n",
        "    but there are 8408 overfull buildings\n",
        "    for a total of 221438 temporarily empty units"
       ]
      },
      {
       "output_type": "stream",
       "stream": "stdout",
       "text": [
        "\n",
        "    in 18998 buildings total in the region\n",
        "Assigned 3113 choosers to new units"
       ]
      },
      {
       "output_type": "stream",
       "stream": "stdout",
       "text": [
        "\n",
        "Total currently unplaced: 0"
       ]
      },
      {
       "output_type": "stream",
       "stream": "stdout",
       "text": [
        "\n",
        "    and there are now 110808 empty units\n",
        "    and 8408 overfull buildings\n",
        "Time to execute model 'elcm_simulate': 24.54s"
       ]
      },
      {
       "output_type": "stream",
       "stream": "stdout",
       "text": [
        "\n",
        "Running model 'price_vars'\n",
        "Computing accessibility variables\n",
        "Computing residential\n",
        "Computing retail"
       ]
      },
      {
       "output_type": "stream",
       "stream": "stdout",
       "text": [
        "\n",
        "Computing office"
       ]
      },
      {
       "output_type": "stream",
       "stream": "stdout",
       "text": [
        "\n",
        "Computing industrial"
       ]
      },
      {
       "output_type": "stream",
       "stream": "stdout",
       "text": [
        "\n",
        "         residential         retail         office     industrial\n",
        "count  209150.000000  209150.000000  209150.000000  209150.000000\n",
        "mean       33.919226      19.802095      17.006622       6.793370\n",
        "std        79.630405      13.763636      12.657634       7.562886\n",
        "min         0.000000       0.000000       0.000000       0.000000\n",
        "25%        22.972627       3.770545       0.000000       0.000000\n",
        "50%        34.378483      23.980375      21.796056       4.589708\n",
        "75%        41.782161      30.521546      27.425123      13.298478\n",
        "max      3990.092529     102.053642      45.291962      60.000000"
       ]
      },
      {
       "output_type": "stream",
       "stream": "stdout",
       "text": [
        "\n",
        "count      209150.000000\n",
        "mean     10189590.303500\n",
        "std      12118099.974139\n",
        "min         23035.000000\n",
        "25%       4083711.250000\n",
        "50%       4160339.500000\n",
        "75%      16176785.750000\n",
        "max      59223691.000000\n",
        "dtype: float64\n",
        "Time to execute model 'price_vars': 4.06s\n",
        "Running model 'feasibility'\n",
        "Describe of the yearly rent by use"
       ]
      },
      {
       "output_type": "stream",
       "stream": "stdout",
       "text": [
        "\n",
        "               retail      industrial          office     residential\n",
        "count  1837676.000000  1837676.000000  1837676.000000  1837676.000000\n",
        "mean        22.844627        8.095896       20.901919        1.817905\n",
        "std         10.947384        6.995862       10.365725        1.865406\n",
        "min          0.000000        0.000000        0.000000        0.000000\n",
        "25%         13.477409        0.000000       16.802723        1.386881\n",
        "50%         25.194838        6.965278       24.056093        1.761521\n",
        "75%         30.690673       13.600701       28.317001        2.073732\n",
        "max        102.053642       60.000000       45.291962      199.252112"
       ]
      },
      {
       "output_type": "stream",
       "stream": "stdout",
       "text": [
        "\n",
        "Computing feasibility for form mixedoffice\n",
        "Computing feasibility for form industrial"
       ]
      },
      {
       "output_type": "stream",
       "stream": "stdout",
       "text": [
        "\n",
        "Computing feasibility for form office"
       ]
      },
      {
       "output_type": "stream",
       "stream": "stdout",
       "text": [
        "\n",
        "Computing feasibility for form residential"
       ]
      },
      {
       "output_type": "stream",
       "stream": "stdout",
       "text": [
        "\n",
        "Computing feasibility for form mixedresidential"
       ]
      },
      {
       "output_type": "stream",
       "stream": "stdout",
       "text": [
        "\n",
        "Computing feasibility for form retail"
       ]
      },
      {
       "output_type": "stream",
       "stream": "stdout",
       "text": [
        "\n",
        "Time to execute model 'feasibility': 27.13s"
       ]
      },
      {
       "output_type": "stream",
       "stream": "stdout",
       "text": [
        "\n",
        "Running model 'residential_developer'\n",
        "Number of agents: 1,853,353"
       ]
      },
      {
       "output_type": "stream",
       "stream": "stdout",
       "text": [
        "\n",
        "Number of agent spaces: 2,311,532\n",
        "Current vacancy = 0.20\n",
        "Target vacancy = 0.20, target of new units = 5,159\n",
        "1,722,047 feasible buildings before running developer\n",
        "Sum of net units that are profitable: 190,142"
       ]
      },
      {
       "output_type": "stream",
       "stream": "stdout",
       "text": [
        "\n",
        "Adding 37 buildings with 5,234 residential_units"
       ]
      },
      {
       "output_type": "stream",
       "stream": "stdout",
       "text": [
        "\n",
        "1,722,010 feasible buildings after running developer\n",
        "Time to execute model 'residential_developer': 3.33s"
       ]
      },
      {
       "output_type": "stream",
       "stream": "stdout",
       "text": [
        "\n",
        "Running model 'non_residential_developer'\n",
        "Number of agents: 1,849,168"
       ]
      },
      {
       "output_type": "stream",
       "stream": "stdout",
       "text": [
        "\n",
        "Number of agent spaces: 4,522,023\n",
        "Current vacancy = 0.59\n",
        "Target vacancy = 0.60, target of new units = 100,897\n",
        "1,722,010 feasible buildings before running developer\n",
        "Sum of net units that are profitable: 120,040,166"
       ]
      },
      {
       "output_type": "stream",
       "stream": "stdout",
       "text": [
        "\n",
        "Adding 384 buildings with 103,903 job_spaces"
       ]
      },
      {
       "output_type": "stream",
       "stream": "stdout",
       "text": [
        "\n",
        "1,721,626 feasible buildings after running developer\n",
        "Time to execute model 'non_residential_developer': 33.92s"
       ]
      },
      {
       "output_type": "stream",
       "stream": "stdout",
       "text": [
        "\n",
        "Running model 'government_jobs_scaling_model'\n",
        "Time to execute model 'government_jobs_scaling_model': 0.42s"
       ]
      },
      {
       "output_type": "stream",
       "stream": "stdout",
       "text": [
        "\n",
        "Running model 'refiner'\n",
        "Time to execute model 'refiner': 3.31s"
       ]
      },
      {
       "output_type": "stream",
       "stream": "stdout",
       "text": [
        "\n",
        "Running model 'gq_model'\n",
        "Time to execute model 'gq_model': 0.01s\n",
        "Running model 'travel_model'\n",
        "Time to execute model 'travel_model': 0.00s\n",
        "Total time to execute year 2013: 270.31s\n",
        "Running year 2014\n",
        "Running model 'clear_cache'\n",
        "Time to execute model 'clear_cache': 0.01s\n",
        "Running model 'neighborhood_vars'\n",
        "Computing accessibility variables"
       ]
      },
      {
       "output_type": "stream",
       "stream": "stdout",
       "text": [
        "\n",
        "Computing sum_residential_units\n",
        "Computing sum_nonresidential_units"
       ]
      },
      {
       "output_type": "stream",
       "stream": "stdout",
       "text": [
        "\n",
        "Computing ave_unit_sqft"
       ]
      },
      {
       "output_type": "stream",
       "stream": "stdout",
       "text": [
        "\n",
        "Computing ave_lot_sqft"
       ]
      },
      {
       "output_type": "stream",
       "stream": "stdout",
       "text": [
        "\n",
        "Computing population"
       ]
      },
      {
       "output_type": "stream",
       "stream": "stdout",
       "text": [
        "\n",
        "Computing poor"
       ]
      },
      {
       "output_type": "stream",
       "stream": "stdout",
       "text": [
        "\n",
        "Computing sfdu"
       ]
      },
      {
       "output_type": "stream",
       "stream": "stdout",
       "text": [
        "\n",
        "Computing hhsize"
       ]
      },
      {
       "output_type": "stream",
       "stream": "stdout",
       "text": [
        "\n",
        "Computing jobs"
       ]
      },
      {
       "output_type": "stream",
       "stream": "stdout",
       "text": [
        "\n",
        "Computing ave_income"
       ]
      },
      {
       "output_type": "stream",
       "stream": "stdout",
       "text": [
        "\n",
        "       sum_residential_units  sum_nonresidential_units  ave_unit_sqft  \\\n",
        "count          209150.000000             209150.000000  209150.000000   \n",
        "mean                3.259125                  2.525407       5.684596   \n",
        "std                 1.983619                  2.421242       2.964947   \n",
        "min                 0.000000                  0.000000       0.000000   \n",
        "25%                 1.846637                  0.000000       6.496031   \n",
        "50%                 3.916372                  2.206524       7.067236   \n",
        "75%                 4.819916                  4.635627       7.406119   \n",
        "max                 8.255659                 10.058174      11.373530   \n",
        "\n",
        "        ave_lot_sqft     population           poor           sfdu  \\\n",
        "count  209150.000000  209150.000000  209150.000000  209150.000000   \n",
        "mean        7.633920       3.824020       2.702798       2.946839   \n",
        "std         3.861661       2.235150       1.916195       1.906700   \n",
        "min         0.000000       0.000000       0.000000       0.000000   \n",
        "25%         8.260079       2.543254       0.693147       0.993371   \n",
        "50%         9.016847       4.701399       2.982579       3.565406   \n",
        "75%         9.757024       5.519095       4.325946       4.507717   \n",
        "max        16.495399       7.917436       7.066572       6.467862   \n",
        "\n",
        "              hhsize           jobs     ave_income  \n",
        "count  209150.000000  209150.000000  209150.000000  \n",
        "mean        0.996651       1.948498       8.801507  \n",
        "std         0.525456       2.013826       4.563905  \n",
        "min         0.000000       0.000000       0.000000  \n",
        "25%         1.073000       0.000000      10.388182  \n",
        "50%         1.231257       1.386294      11.007703  \n",
        "75%         1.310583       3.580346      11.381195  \n",
        "max         2.302585       9.650980      12.971273  "
       ]
      },
      {
       "output_type": "stream",
       "stream": "stdout",
       "text": [
        "\n",
        "count      209150.000000\n",
        "mean     10189590.303500\n",
        "std      12118099.974139\n",
        "min         23035.000000\n",
        "25%       4083711.250000\n",
        "50%       4160339.500000\n",
        "75%      16176785.750000\n",
        "max      59223691.000000\n",
        "dtype: float64\n",
        "Time to execute model 'neighborhood_vars': 14.26s"
       ]
      },
      {
       "output_type": "stream",
       "stream": "stdout",
       "text": [
        "\n",
        "Running model 'households_transition'\n",
        "Time to execute model 'households_transition': 125.61s"
       ]
      },
      {
       "output_type": "stream",
       "stream": "stdout",
       "text": [
        "\n",
        "Running model 'households_relocation'\n",
        "Total currently unplaced: 26534"
       ]
      },
      {
       "output_type": "stream",
       "stream": "stdout",
       "text": [
        "\n",
        "Time to execute model 'households_relocation': 4.04s\n",
        "Running model 'jobs_transition'\n",
        "Time to execute model 'jobs_transition': 5.52s"
       ]
      },
      {
       "output_type": "stream",
       "stream": "stdout",
       "text": [
        "\n",
        "Running model 'jobs_relocation'\n",
        "Total currently unplaced: 18269"
       ]
      },
      {
       "output_type": "stream",
       "stream": "stdout",
       "text": [
        "\n",
        "Time to execute model 'jobs_relocation': 2.19s\n",
        "Running model 'scheduled_development_events'\n",
        "Time to execute model 'scheduled_development_events': 0.46s"
       ]
      },
      {
       "output_type": "stream",
       "stream": "stdout",
       "text": [
        "\n",
        "Running model 'nrh_simulate'\n",
        "count    1.190620e+05\n",
        "mean     2.265326e+01\n",
        "std      9.472174e+01\n",
        "min      8.558552e-10\n",
        "25%      1.070701e+01\n",
        "50%      1.867625e+01\n",
        "75%      2.766219e+01\n",
        "max      7.615265e+03\n",
        "dtype: float64"
       ]
      },
      {
       "output_type": "stream",
       "stream": "stdout",
       "text": [
        "\n",
        "Time to execute model 'nrh_simulate': 6.75s\n",
        "Running model 'rsh_simulate'\n",
        "count    1818279.000000\n",
        "mean          46.025912\n",
        "std          207.226104\n",
        "min            0.000002\n",
        "25%           34.850471\n",
        "50%           40.997481\n",
        "75%           46.223573\n",
        "max        18931.090219\n",
        "dtype: float64"
       ]
      },
      {
       "output_type": "stream",
       "stream": "stdout",
       "text": [
        "\n",
        "Time to execute model 'rsh_simulate': 5.61s"
       ]
      },
      {
       "output_type": "stream",
       "stream": "stdout",
       "text": [
        "\n",
        "Running model 'hlcm_simulate'\n",
        "There are 2316766 total available units"
       ]
      },
      {
       "output_type": "stream",
       "stream": "stdout",
       "text": [
        "\n",
        "    and 1858127 total choosers\n",
        "    but there are 21107 overfull buildings"
       ]
      },
      {
       "output_type": "stream",
       "stream": "stdout",
       "text": [
        "\n",
        "    for a total of 508913 temporarily empty units"
       ]
      },
      {
       "output_type": "stream",
       "stream": "stdout",
       "text": [
        "\n",
        "    in 334287 buildings total in the region\n",
        "Assigned 26038 choosers to new units"
       ]
      },
      {
       "output_type": "stream",
       "stream": "stdout",
       "text": [
        "\n",
        "Total currently unplaced: 496"
       ]
      },
      {
       "output_type": "stream",
       "stream": "stdout",
       "text": [
        "\n",
        "    and there are now 459135 empty units"
       ]
      },
      {
       "output_type": "stream",
       "stream": "stdout",
       "text": [
        "\n",
        "    and 21107 overfull buildings"
       ]
      },
      {
       "output_type": "stream",
       "stream": "stdout",
       "text": [
        "\n",
        "Time to execute model 'hlcm_simulate': 9.54s\n",
        "Running model 'elcm_simulate'\n",
        "There are 697855 total available units"
       ]
      },
      {
       "output_type": "stream",
       "stream": "stdout",
       "text": [
        "\n",
        "    and 407863 total choosers\n",
        "    but there are 7269 overfull buildings\n",
        "    for a total of 467096 temporarily empty units"
       ]
      },
      {
       "output_type": "stream",
       "stream": "stdout",
       "text": [
        "\n",
        "    in 20917 buildings total in the region\n",
        "Assigned 4300 choosers to new units"
       ]
      },
      {
       "output_type": "stream",
       "stream": "stdout",
       "text": [
        "\n",
        "Total currently unplaced: 0"
       ]
      },
      {
       "output_type": "stream",
       "stream": "stdout",
       "text": [
        "\n",
        "    and there are now 293935 empty units\n",
        "    and 7269 overfull buildings\n",
        "There are 1735143 total available units"
       ]
      },
      {
       "output_type": "stream",
       "stream": "stdout",
       "text": [
        "\n",
        "    and 238882 total choosers\n",
        "    but there are 3558 overfull buildings\n",
        "    for a total of 1595073 temporarily empty units"
       ]
      },
      {
       "output_type": "stream",
       "stream": "stdout",
       "text": [
        "\n",
        "    in 26009 buildings total in the region\n",
        "Assigned 1998 choosers to new units"
       ]
      },
      {
       "output_type": "stream",
       "stream": "stdout",
       "text": [
        "\n",
        "Total currently unplaced: 0"
       ]
      },
      {
       "output_type": "stream",
       "stream": "stdout",
       "text": [
        "\n",
        "    and there are now 1494948 empty units\n",
        "    and 3558 overfull buildings\n",
        "There are 122313 total available units"
       ]
      },
      {
       "output_type": "stream",
       "stream": "stdout",
       "text": [
        "\n",
        "    and 44588 total choosers\n",
        "    but there are 1425 overfull buildings\n",
        "    for a total of 94613 temporarily empty units"
       ]
      },
      {
       "output_type": "stream",
       "stream": "stdout",
       "text": [
        "\n",
        "    in 15420 buildings total in the region\n",
        "Assigned 676 choosers to new units"
       ]
      },
      {
       "output_type": "stream",
       "stream": "stdout",
       "text": [
        "\n",
        "Total currently unplaced: 0"
       ]
      },
      {
       "output_type": "stream",
       "stream": "stdout",
       "text": [
        "\n",
        "    and there are now 78562 empty units\n",
        "    and 1425 overfull buildings\n",
        "There are 549479 total available units"
       ]
      },
      {
       "output_type": "stream",
       "stream": "stdout",
       "text": [
        "\n",
        "    and 277965 total choosers\n",
        "    but there are 5854 overfull buildings\n",
        "    for a total of 402357 temporarily empty units"
       ]
      },
      {
       "output_type": "stream",
       "stream": "stdout",
       "text": [
        "\n",
        "    in 24556 buildings total in the region\n",
        "Assigned 2966 choosers to new units"
       ]
      },
      {
       "output_type": "stream",
       "stream": "stdout",
       "text": [
        "\n",
        "Total currently unplaced: 0"
       ]
      },
      {
       "output_type": "stream",
       "stream": "stdout",
       "text": [
        "\n",
        "    and there are now 275158 empty units\n",
        "    and 5854 overfull buildings\n",
        "There are 86613 total available units"
       ]
      },
      {
       "output_type": "stream",
       "stream": "stdout",
       "text": [
        "\n",
        "    and 37856 total choosers\n",
        "    but there are 1104 overfull buildings\n",
        "    for a total of 66632 temporarily empty units"
       ]
      },
      {
       "output_type": "stream",
       "stream": "stdout",
       "text": [
        "\n",
        "    in 6874 buildings total in the region\n",
        "Assigned 461 choosers to new units"
       ]
      },
      {
       "output_type": "stream",
       "stream": "stdout",
       "text": [
        "\n",
        "Total currently unplaced: 0"
       ]
      },
      {
       "output_type": "stream",
       "stream": "stdout",
       "text": [
        "\n",
        "    and there are now 49294 empty units\n",
        "    and 1104 overfull buildings\n",
        "There are 994315 total available units"
       ]
      },
      {
       "output_type": "stream",
       "stream": "stdout",
       "text": [
        "\n",
        "    and 628806 total choosers\n",
        "    but there are 12464 overfull buildings\n",
        "    for a total of 655995 temporarily empty units"
       ]
      },
      {
       "output_type": "stream",
       "stream": "stdout",
       "text": [
        "\n",
        "    in 33534 buildings total in the region\n",
        "Assigned 10169 choosers to new units"
       ]
      },
      {
       "output_type": "stream",
       "stream": "stdout",
       "text": [
        "\n",
        "Total currently unplaced: 0"
       ]
      },
      {
       "output_type": "stream",
       "stream": "stdout",
       "text": [
        "\n",
        "    and there are now 378141 empty units\n",
        "    and 12464 overfull buildings\n",
        "There are 127782 total available units"
       ]
      },
      {
       "output_type": "stream",
       "stream": "stdout",
       "text": [
        "\n",
        "    and 43135 total choosers\n",
        "    but there are 1122 overfull buildings\n",
        "    for a total of 99600 temporarily empty units"
       ]
      },
      {
       "output_type": "stream",
       "stream": "stdout",
       "text": [
        "\n",
        "    in 17686 buildings total in the region\n",
        "Assigned 515 choosers to new units"
       ]
      },
      {
       "output_type": "stream",
       "stream": "stdout",
       "text": [
        "\n",
        "Total currently unplaced: 0"
       ]
      },
      {
       "output_type": "stream",
       "stream": "stdout",
       "text": [
        "\n",
        "    and there are now 85282 empty units\n",
        "    and 1122 overfull buildings\n",
        "There are 303698 total available units"
       ]
      },
      {
       "output_type": "stream",
       "stream": "stdout",
       "text": [
        "\n",
        "    and 184813 total choosers\n",
        "    but there are 8392 overfull buildings\n",
        "    for a total of 231798 temporarily empty units"
       ]
      },
      {
       "output_type": "stream",
       "stream": "stdout",
       "text": [
        "\n",
        "    in 19064 buildings total in the region\n",
        "Assigned 2373 choosers to new units"
       ]
      },
      {
       "output_type": "stream",
       "stream": "stdout",
       "text": [
        "\n",
        "Total currently unplaced: 0"
       ]
      },
      {
       "output_type": "stream",
       "stream": "stdout",
       "text": [
        "\n",
        "    and there are now 121428 empty units\n",
        "    and 8392 overfull buildings\n",
        "Time to execute model 'elcm_simulate': 24.48s"
       ]
      },
      {
       "output_type": "stream",
       "stream": "stdout",
       "text": [
        "\n",
        "Running model 'price_vars'\n",
        "Computing accessibility variables\n",
        "Computing residential\n",
        "Computing retail"
       ]
      },
      {
       "output_type": "stream",
       "stream": "stdout",
       "text": [
        "\n",
        "Computing office"
       ]
      },
      {
       "output_type": "stream",
       "stream": "stdout",
       "text": [
        "\n",
        "Computing industrial"
       ]
      },
      {
       "output_type": "stream",
       "stream": "stdout",
       "text": [
        "\n",
        "         residential         retail         office     industrial\n",
        "count  209150.000000  209150.000000  209150.000000  209150.000000\n",
        "mean       34.507556      19.713702      16.855439       6.795468\n",
        "std        95.168865      13.587202      12.575488       7.564571\n",
        "min         0.000000       0.000000       0.000000       0.000000\n",
        "25%        22.981117       7.809174       0.000000       0.000000\n",
        "50%        34.362329      23.864254      21.527983       4.594378\n",
        "75%        41.764454      30.332527      27.234086      13.309006\n",
        "max      4875.237793     102.080711      45.330921      60.000000"
       ]
      },
      {
       "output_type": "stream",
       "stream": "stdout",
       "text": [
        "\n",
        "count      209150.000000\n",
        "mean     10189590.303500\n",
        "std      12118099.974139\n",
        "min         23035.000000\n",
        "25%       4083711.250000\n",
        "50%       4160339.500000\n",
        "75%      16176785.750000\n",
        "max      59223691.000000\n",
        "dtype: float64\n",
        "Time to execute model 'price_vars': 4.10s\n",
        "Running model 'feasibility'\n",
        "Describe of the yearly rent by use"
       ]
      },
      {
       "output_type": "stream",
       "stream": "stdout",
       "text": [
        "\n",
        "               retail      industrial          office     residential\n",
        "count  1837676.000000  1837676.000000  1837676.000000  1837676.000000\n",
        "mean        22.752900        8.100052       20.674203        1.828271\n",
        "std         10.766637        6.997353       10.312873        2.201904\n",
        "min          0.000000        0.000000        0.000000        0.000000\n",
        "25%         13.498619        0.000000       16.423141        1.387196\n",
        "50%         25.087904        6.972539       23.848927        1.761379\n",
        "75%         30.509249       13.620399       28.070183        2.073110\n",
        "max        102.080711       60.000000       45.330921      242.777466"
       ]
      },
      {
       "output_type": "stream",
       "stream": "stdout",
       "text": [
        "\n",
        "Computing feasibility for form mixedoffice\n",
        "Computing feasibility for form industrial"
       ]
      },
      {
       "output_type": "stream",
       "stream": "stdout",
       "text": [
        "\n",
        "Computing feasibility for form office"
       ]
      },
      {
       "output_type": "stream",
       "stream": "stdout",
       "text": [
        "\n",
        "Computing feasibility for form residential"
       ]
      },
      {
       "output_type": "stream",
       "stream": "stdout",
       "text": [
        "\n",
        "Computing feasibility for form mixedresidential"
       ]
      },
      {
       "output_type": "stream",
       "stream": "stdout",
       "text": [
        "\n",
        "Computing feasibility for form retail"
       ]
      },
      {
       "output_type": "stream",
       "stream": "stdout",
       "text": [
        "\n",
        "Time to execute model 'feasibility': 27.33s"
       ]
      },
      {
       "output_type": "stream",
       "stream": "stdout",
       "text": [
        "\n",
        "Running model 'residential_developer'\n",
        "Number of agents: 1,858,127"
       ]
      },
      {
       "output_type": "stream",
       "stream": "stdout",
       "text": [
        "\n",
        "Number of agent spaces: 2,316,766\n",
        "Current vacancy = 0.20\n",
        "Target vacancy = 0.20, target of new units = 5,892\n",
        "1,724,783 feasible buildings before running developer\n",
        "Sum of net units that are profitable: 184,045"
       ]
      },
      {
       "output_type": "stream",
       "stream": "stdout",
       "text": [
        "\n",
        "Adding 62 buildings with 6,028 residential_units"
       ]
      },
      {
       "output_type": "stream",
       "stream": "stdout",
       "text": [
        "\n",
        "1,724,721 feasible buildings after running developer\n",
        "Time to execute model 'residential_developer': 3.31s"
       ]
      },
      {
       "output_type": "stream",
       "stream": "stdout",
       "text": [
        "\n",
        "Running model 'non_residential_developer'\n",
        "Number of agents: 1,863,908"
       ]
      },
      {
       "output_type": "stream",
       "stream": "stdout",
       "text": [
        "\n",
        "Number of agent spaces: 4,619,113\n",
        "Current vacancy = 0.60\n",
        "Target vacancy = 0.60, target of new units = 40,657\n",
        "1,724,721 feasible buildings before running developer\n",
        "Sum of net units that are profitable: 120,520,427"
       ]
      },
      {
       "output_type": "stream",
       "stream": "stdout",
       "text": [
        "\n",
        "Adding 157 buildings with 41,314 job_spaces"
       ]
      },
      {
       "output_type": "stream",
       "stream": "stdout",
       "text": [
        "\n",
        "1,724,564 feasible buildings after running developer\n",
        "Time to execute model 'non_residential_developer': 33.98s"
       ]
      },
      {
       "output_type": "stream",
       "stream": "stdout",
       "text": [
        "\n",
        "Running model 'government_jobs_scaling_model'\n",
        "Time to execute model 'government_jobs_scaling_model': 0.44s"
       ]
      },
      {
       "output_type": "stream",
       "stream": "stdout",
       "text": [
        "\n",
        "Running model 'refiner'\n",
        "No building in parcel 8187878."
       ]
      },
      {
       "output_type": "stream",
       "stream": "stdout",
       "text": [
        "\n",
        "Time to execute model 'refiner': 2.54s"
       ]
      },
      {
       "output_type": "stream",
       "stream": "stdout",
       "text": [
        "\n",
        "Running model 'gq_model'\n",
        "Time to execute model 'gq_model': 0.00s\n",
        "Running model 'travel_model'\n",
        "Time to execute model 'travel_model': 0.00s\n",
        "Total time to execute year 2014: 270.17s\n",
        "Running year 2015\n",
        "Running model 'clear_cache'\n",
        "Time to execute model 'clear_cache': 0.01s\n",
        "Running model 'neighborhood_vars'\n",
        "Computing accessibility variables"
       ]
      },
      {
       "output_type": "stream",
       "stream": "stdout",
       "text": [
        "\n",
        "Computing sum_residential_units\n",
        "Computing sum_nonresidential_units"
       ]
      },
      {
       "output_type": "stream",
       "stream": "stdout",
       "text": [
        "\n",
        "Computing ave_unit_sqft"
       ]
      },
      {
       "output_type": "stream",
       "stream": "stdout",
       "text": [
        "\n",
        "Computing ave_lot_sqft"
       ]
      },
      {
       "output_type": "stream",
       "stream": "stdout",
       "text": [
        "\n",
        "Computing population"
       ]
      },
      {
       "output_type": "stream",
       "stream": "stdout",
       "text": [
        "\n",
        "Computing poor"
       ]
      },
      {
       "output_type": "stream",
       "stream": "stdout",
       "text": [
        "\n",
        "Computing sfdu"
       ]
      },
      {
       "output_type": "stream",
       "stream": "stdout",
       "text": [
        "\n",
        "Computing hhsize"
       ]
      },
      {
       "output_type": "stream",
       "stream": "stdout",
       "text": [
        "\n",
        "Computing jobs"
       ]
      },
      {
       "output_type": "stream",
       "stream": "stdout",
       "text": [
        "\n",
        "Computing ave_income"
       ]
      },
      {
       "output_type": "stream",
       "stream": "stdout",
       "text": [
        "\n",
        "       sum_residential_units  sum_nonresidential_units  ave_unit_sqft  \\\n",
        "count          209150.000000             209150.000000  209150.000000   \n",
        "mean                3.259401                  2.537890       5.684383   \n",
        "std                 1.983979                  2.423360       2.964866   \n",
        "min                 0.000000                  0.000000       0.000000   \n",
        "25%                 1.846637                  0.000000       6.495982   \n",
        "50%                 3.916451                  2.234213       7.066967   \n",
        "75%                 4.820185                  4.650126       7.405961   \n",
        "max                 8.255659                 10.058174      11.373530   \n",
        "\n",
        "        ave_lot_sqft     population           poor           sfdu  \\\n",
        "count  209150.000000  209150.000000  209150.000000  209150.000000   \n",
        "mean        7.635093       3.823794       2.704543       2.946861   \n",
        "std         3.862477       2.234446       1.914547       1.906692   \n",
        "min         0.000000       0.000000       0.000000       0.000000   \n",
        "25%         8.260574       2.547564       0.693147       0.993371   \n",
        "50%         9.017448       4.700756       2.986750       3.565406   \n",
        "75%         9.758469       5.518722       4.327794       4.507717   \n",
        "max        16.495399       7.915134       7.078732       6.467862   \n",
        "\n",
        "              hhsize           jobs     ave_income  \n",
        "count  209150.000000  209150.000000  209150.000000  \n",
        "mean        0.996097       1.965185       8.803376  \n",
        "std         0.524822       2.014249       4.562528  \n",
        "min         0.000000       0.000000       0.000000  \n",
        "25%         1.073724       0.000000      10.393707  \n",
        "50%         1.230025       1.420728      11.008484  \n",
        "75%         1.309177       3.597379      11.379575  \n",
        "max         2.302585       9.648144      12.971273  "
       ]
      },
      {
       "output_type": "stream",
       "stream": "stdout",
       "text": [
        "\n",
        "count      209150.000000\n",
        "mean     10189590.303500\n",
        "std      12118099.974139\n",
        "min         23035.000000\n",
        "25%       4083711.250000\n",
        "50%       4160339.500000\n",
        "75%      16176785.750000\n",
        "max      59223691.000000\n",
        "dtype: float64\n",
        "Time to execute model 'neighborhood_vars': 14.11s"
       ]
      },
      {
       "output_type": "stream",
       "stream": "stdout",
       "text": [
        "\n",
        "Running model 'households_transition'\n",
        "Time to execute model 'households_transition': 126.14s"
       ]
      },
      {
       "output_type": "stream",
       "stream": "stdout",
       "text": [
        "\n",
        "Running model 'households_relocation'\n",
        "Total currently unplaced: 26501"
       ]
      },
      {
       "output_type": "stream",
       "stream": "stdout",
       "text": [
        "\n",
        "Time to execute model 'households_relocation': 4.05s\n",
        "Running model 'jobs_transition'\n",
        "Time to execute model 'jobs_transition': 5.55s"
       ]
      },
      {
       "output_type": "stream",
       "stream": "stdout",
       "text": [
        "\n",
        "Running model 'jobs_relocation'\n",
        "Total currently unplaced: 15477"
       ]
      },
      {
       "output_type": "stream",
       "stream": "stdout",
       "text": [
        "\n",
        "Time to execute model 'jobs_relocation': 2.23s\n",
        "Running model 'scheduled_development_events'\n",
        "Time to execute model 'scheduled_development_events': 0.47s"
       ]
      },
      {
       "output_type": "stream",
       "stream": "stdout",
       "text": [
        "\n",
        "Running model 'nrh_simulate'\n",
        "count    1.193010e+05\n",
        "mean     2.267864e+01\n",
        "std      9.474451e+01\n",
        "min      8.567039e-10\n",
        "25%      1.070986e+01\n",
        "50%      1.869192e+01\n",
        "75%      2.768005e+01\n",
        "max      7.615632e+03\n",
        "dtype: float64"
       ]
      },
      {
       "output_type": "stream",
       "stream": "stdout",
       "text": [
        "\n",
        "Time to execute model 'nrh_simulate': 6.74s\n",
        "Running model 'rsh_simulate'\n",
        "count    1818341.000000\n",
        "mean          46.465591\n",
        "std          226.117909\n",
        "min            0.000002\n",
        "25%           34.880244\n",
        "50%           40.996171\n",
        "75%           46.210671\n",
        "max        19034.690128\n",
        "dtype: float64"
       ]
      },
      {
       "output_type": "stream",
       "stream": "stdout",
       "text": [
        "\n",
        "Time to execute model 'rsh_simulate': 5.59s"
       ]
      },
      {
       "output_type": "stream",
       "stream": "stdout",
       "text": [
        "\n",
        "Running model 'hlcm_simulate'\n",
        "There are 2322794 total available units"
       ]
      },
      {
       "output_type": "stream",
       "stream": "stdout",
       "text": [
        "\n",
        "    and 1863495 total choosers\n",
        "    but there are 21023 overfull buildings"
       ]
      },
      {
       "output_type": "stream",
       "stream": "stdout",
       "text": [
        "\n",
        "    for a total of 509285 temporarily empty units"
       ]
      },
      {
       "output_type": "stream",
       "stream": "stdout",
       "text": [
        "\n",
        "    in 339062 buildings total in the region\n",
        "Assigned 25755 choosers to new units"
       ]
      },
      {
       "output_type": "stream",
       "stream": "stdout",
       "text": [
        "\n",
        "Total currently unplaced: 746"
       ]
      },
      {
       "output_type": "stream",
       "stream": "stdout",
       "text": [
        "\n",
        "    and there are now 460045 empty units"
       ]
      },
      {
       "output_type": "stream",
       "stream": "stdout",
       "text": [
        "\n",
        "    and 21023 overfull buildings"
       ]
      },
      {
       "output_type": "stream",
       "stream": "stdout",
       "text": [
        "\n",
        "Time to execute model 'hlcm_simulate': 9.66s\n",
        "Running model 'elcm_simulate'\n",
        "There are 709774 total available units"
       ]
      },
      {
       "output_type": "stream",
       "stream": "stdout",
       "text": [
        "\n",
        "    and 409109 total choosers\n",
        "    but there are 7215 overfull buildings\n",
        "    for a total of 475676 temporarily empty units"
       ]
      },
      {
       "output_type": "stream",
       "stream": "stdout",
       "text": [
        "\n",
        "    in 21049 buildings total in the region\n",
        "Assigned 3809 choosers to new units"
       ]
      },
      {
       "output_type": "stream",
       "stream": "stdout",
       "text": [
        "\n",
        "Total currently unplaced: 0"
       ]
      },
      {
       "output_type": "stream",
       "stream": "stdout",
       "text": [
        "\n",
        "    and there are now 304217 empty units\n",
        "    and 7215 overfull buildings\n",
        "There are 1736628 total available units"
       ]
      },
      {
       "output_type": "stream",
       "stream": "stdout",
       "text": [
        "\n",
        "    and 239195 total choosers\n",
        "    but there are 3543 overfull buildings\n",
        "    for a total of 1595126 temporarily empty units"
       ]
      },
      {
       "output_type": "stream",
       "stream": "stdout",
       "text": [
        "\n",
        "    in 26034 buildings total in the region\n",
        "Assigned 1773 choosers to new units"
       ]
      },
      {
       "output_type": "stream",
       "stream": "stdout",
       "text": [
        "\n",
        "Total currently unplaced: 0"
       ]
      },
      {
       "output_type": "stream",
       "stream": "stdout",
       "text": [
        "\n",
        "    and there are now 1495540 empty units\n",
        "    and 3543 overfull buildings\n",
        "There are 125064 total available units"
       ]
      },
      {
       "output_type": "stream",
       "stream": "stdout",
       "text": [
        "\n",
        "    and 45045 total choosers\n",
        "    but there are 1421 overfull buildings\n",
        "    for a total of 96800 temporarily empty units"
       ]
      },
      {
       "output_type": "stream",
       "stream": "stdout",
       "text": [
        "\n",
        "    in 15443 buildings total in the region\n",
        "Assigned 658 choosers to new units"
       ]
      },
      {
       "output_type": "stream",
       "stream": "stdout",
       "text": [
        "\n",
        "Total currently unplaced: 0"
       ]
      },
      {
       "output_type": "stream",
       "stream": "stdout",
       "text": [
        "\n",
        "    and there are now 80853 empty units\n",
        "    and 1421 overfull buildings\n",
        "There are 556625 total available units"
       ]
      },
      {
       "output_type": "stream",
       "stream": "stdout",
       "text": [
        "\n",
        "    and 278894 total choosers\n",
        "    but there are 5829 overfull buildings\n",
        "    for a total of 407262 temporarily empty units"
       ]
      },
      {
       "output_type": "stream",
       "stream": "stdout",
       "text": [
        "\n",
        "    in 24642 buildings total in the region\n",
        "Assigned 2645 choosers to new units"
       ]
      },
      {
       "output_type": "stream",
       "stream": "stdout",
       "text": [
        "\n",
        "Total currently unplaced: 0"
       ]
      },
      {
       "output_type": "stream",
       "stream": "stdout",
       "text": [
        "\n",
        "    and there are now 281148 empty units\n",
        "    and 5829 overfull buildings\n",
        "There are 90409 total available units"
       ]
      },
      {
       "output_type": "stream",
       "stream": "stdout",
       "text": [
        "\n",
        "    and 38063 total choosers\n",
        "    but there are 1095 overfull buildings\n",
        "    for a total of 70068 temporarily empty units"
       ]
      },
      {
       "output_type": "stream",
       "stream": "stdout",
       "text": [
        "\n",
        "    in 6896 buildings total in the region\n",
        "Assigned 429 choosers to new units"
       ]
      },
      {
       "output_type": "stream",
       "stream": "stdout",
       "text": [
        "\n",
        "Total currently unplaced: 0"
       ]
      },
      {
       "output_type": "stream",
       "stream": "stdout",
       "text": [
        "\n",
        "    and there are now 52856 empty units\n",
        "    and 1095 overfull buildings\n",
        "There are 1010954 total available units"
       ]
      },
      {
       "output_type": "stream",
       "stream": "stdout",
       "text": [
        "\n",
        "    and 634608 total choosers\n",
        "    but there are 12400 overfull buildings\n",
        "    for a total of 662754 temporarily empty units"
       ]
      },
      {
       "output_type": "stream",
       "stream": "stdout",
       "text": [
        "\n",
        "    in 33754 buildings total in the region\n",
        "Assigned 9200 choosers to new units"
       ]
      },
      {
       "output_type": "stream",
       "stream": "stdout",
       "text": [
        "\n",
        "Total currently unplaced: 0"
       ]
      },
      {
       "output_type": "stream",
       "stream": "stdout",
       "text": [
        "\n",
        "    and there are now 388104 empty units\n",
        "    and 12400 overfull buildings\n",
        "There are 130291 total available units"
       ]
      },
      {
       "output_type": "stream",
       "stream": "stdout",
       "text": [
        "\n",
        "    and 43384 total choosers\n",
        "    but there are 1110 overfull buildings\n",
        "    for a total of 102605 temporarily empty units"
       ]
      },
      {
       "output_type": "stream",
       "stream": "stdout",
       "text": [
        "\n",
        "    in 17702 buildings total in the region\n",
        "Assigned 481 choosers to new units"
       ]
      },
      {
       "output_type": "stream",
       "stream": "stdout",
       "text": [
        "\n",
        "Total currently unplaced: 0"
       ]
      },
      {
       "output_type": "stream",
       "stream": "stdout",
       "text": [
        "\n",
        "    and there are now 87524 empty units\n",
        "    and 1110 overfull buildings\n",
        "There are 311571 total available units"
       ]
      },
      {
       "output_type": "stream",
       "stream": "stdout",
       "text": [
        "\n",
        "    and 185867 total choosers\n",
        "    but there are 8388 overfull buildings\n",
        "    for a total of 237254 temporarily empty units"
       ]
      },
      {
       "output_type": "stream",
       "stream": "stdout",
       "text": [
        "\n",
        "    in 19115 buildings total in the region\n",
        "Assigned 1775 choosers to new units"
       ]
      },
      {
       "output_type": "stream",
       "stream": "stdout",
       "text": [
        "\n",
        "Total currently unplaced: 0"
       ]
      },
      {
       "output_type": "stream",
       "stream": "stdout",
       "text": [
        "\n",
        "    and there are now 127679 empty units\n",
        "    and 8388 overfull buildings\n",
        "Time to execute model 'elcm_simulate': 24.39s"
       ]
      },
      {
       "output_type": "stream",
       "stream": "stdout",
       "text": [
        "\n",
        "Running model 'price_vars'\n",
        "Computing accessibility variables\n",
        "Computing residential\n",
        "Computing retail"
       ]
      },
      {
       "output_type": "stream",
       "stream": "stdout",
       "text": [
        "\n",
        "Computing office"
       ]
      },
      {
       "output_type": "stream",
       "stream": "stdout",
       "text": [
        "\n",
        "Computing industrial"
       ]
      },
      {
       "output_type": "stream",
       "stream": "stdout",
       "text": [
        "\n",
        "         residential         retail         office     industrial\n",
        "count  209150.000000  209150.000000  209150.000000  209150.000000\n",
        "mean       34.871299      19.700278      16.791364       6.797498\n",
        "std       105.106409      13.533803      12.546247       7.566902\n",
        "min         0.000000       0.000000       0.000000       0.000000\n",
        "25%        22.982490       8.007856       0.000000       0.000000\n",
        "50%        34.360949      23.839607      21.432989       4.598026\n",
        "75%        41.753617      30.283094      27.181665      13.316159\n",
        "max      5471.670898     102.096680      45.363022      60.000000"
       ]
      },
      {
       "output_type": "stream",
       "stream": "stdout",
       "text": [
        "\n",
        "count      209150.000000\n",
        "mean     10189590.303500\n",
        "std      12118099.974139\n",
        "min         23035.000000\n",
        "25%       4083711.250000\n",
        "50%       4160339.500000\n",
        "75%      16176785.750000\n",
        "max      59223691.000000\n",
        "dtype: float64\n",
        "Time to execute model 'price_vars': 4.14s\n",
        "Running model 'feasibility'\n",
        "Describe of the yearly rent by use"
       ]
      },
      {
       "output_type": "stream",
       "stream": "stdout",
       "text": [
        "\n",
        "               retail      industrial          office     residential\n",
        "count  1837676.000000  1837676.000000  1837676.000000  1837676.000000\n",
        "mean        22.731619        8.103364       20.582281        1.834665\n",
        "std         10.697768        6.999809       10.298278        2.415371\n",
        "min          0.000000        0.000000        0.000000        0.000000\n",
        "25%         13.512957        0.000000       16.268961        1.387648\n",
        "50%         25.055155        6.972992       23.750427        1.761064\n",
        "75%         30.446405       13.631044       27.981426        2.072756\n",
        "max        102.096680       60.000000       45.363022      271.308691"
       ]
      },
      {
       "output_type": "stream",
       "stream": "stdout",
       "text": [
        "\n",
        "Computing feasibility for form mixedoffice\n",
        "Computing feasibility for form industrial"
       ]
      },
      {
       "output_type": "stream",
       "stream": "stdout",
       "text": [
        "\n",
        "Computing feasibility for form office"
       ]
      },
      {
       "output_type": "stream",
       "stream": "stdout",
       "text": [
        "\n",
        "Computing feasibility for form residential"
       ]
      },
      {
       "output_type": "stream",
       "stream": "stdout",
       "text": [
        "\n",
        "Computing feasibility for form mixedresidential"
       ]
      },
      {
       "output_type": "stream",
       "stream": "stdout",
       "text": [
        "\n",
        "Computing feasibility for form retail"
       ]
      },
      {
       "output_type": "stream",
       "stream": "stdout",
       "text": [
        "\n",
        "Time to execute model 'feasibility': 27.42s"
       ]
      },
      {
       "output_type": "stream",
       "stream": "stdout",
       "text": [
        "\n",
        "Running model 'residential_developer'\n",
        "Number of agents: 1,863,495"
       ]
      },
      {
       "output_type": "stream",
       "stream": "stdout",
       "text": [
        "\n",
        "Number of agent spaces: 2,322,794\n",
        "Current vacancy = 0.20\n",
        "Target vacancy = 0.20, target of new units = 6,574\n",
        "1,726,698 feasible buildings before running developer\n",
        "Sum of net units that are profitable: 175,351"
       ]
      },
      {
       "output_type": "stream",
       "stream": "stdout",
       "text": [
        "\n",
        "Adding 82 buildings with 6,680 residential_units"
       ]
      },
      {
       "output_type": "stream",
       "stream": "stdout",
       "text": [
        "\n",
        "1,726,616 feasible buildings after running developer\n",
        "Time to execute model 'residential_developer': 3.32s"
       ]
      },
      {
       "output_type": "stream",
       "stream": "stdout",
       "text": [
        "\n",
        "Running model 'non_residential_developer'\n",
        "Number of agents: 1,874,165"
       ]
      },
      {
       "output_type": "stream",
       "stream": "stdout",
       "text": [
        "\n",
        "Number of agent spaces: 4,670,907\n",
        "Current vacancy = 0.60\n",
        "Target vacancy = 0.60, target of new units = 14,505\n",
        "1,726,616 feasible buildings before running developer\n",
        "Sum of net units that are profitable: 120,755,741"
       ]
      },
      {
       "output_type": "stream",
       "stream": "stdout",
       "text": [
        "\n",
        "Adding 58 buildings with 15,017 job_spaces"
       ]
      },
      {
       "output_type": "stream",
       "stream": "stdout",
       "text": [
        "\n",
        "1,726,558 feasible buildings after running developer\n",
        "Time to execute model 'non_residential_developer': 36.66s"
       ]
      },
      {
       "output_type": "stream",
       "stream": "stdout",
       "text": [
        "\n",
        "Running model 'government_jobs_scaling_model'\n",
        "Time to execute model 'government_jobs_scaling_model': 0.44s"
       ]
      },
      {
       "output_type": "stream",
       "stream": "stdout",
       "text": [
        "\n",
        "Running model 'refiner'\n",
        "Time to execute model 'refiner': 27.14s"
       ]
      },
      {
       "output_type": "stream",
       "stream": "stdout",
       "text": [
        "\n",
        "Running model 'gq_model'\n",
        "2015\n",
        "Large area id 3\n",
        "Large area id 5"
       ]
      },
      {
       "output_type": "stream",
       "stream": "stdout",
       "text": [
        "\n",
        "Large area id 93"
       ]
      },
      {
       "output_type": "stream",
       "stream": "stdout",
       "text": [
        "\n",
        "Large area id 99\n",
        "Large area id 115"
       ]
      },
      {
       "output_type": "stream",
       "stream": "stdout",
       "text": [
        "\n",
        "Large area id 125"
       ]
      },
      {
       "output_type": "stream",
       "stream": "stdout",
       "text": [
        "\n",
        "Large area id 147"
       ]
      },
      {
       "output_type": "stream",
       "stream": "stdout",
       "text": [
        "\n",
        "Large area id 161"
       ]
      },
      {
       "output_type": "stream",
       "stream": "stdout",
       "text": [
        "\n",
        "2020"
       ]
      },
      {
       "output_type": "stream",
       "stream": "stdout",
       "text": [
        "\n",
        "Large area id 3\n",
        "Large area id 5"
       ]
      },
      {
       "output_type": "stream",
       "stream": "stdout",
       "text": [
        "\n",
        "Large area id 93"
       ]
      },
      {
       "output_type": "stream",
       "stream": "stdout",
       "text": [
        "\n",
        "Large area id 99"
       ]
      },
      {
       "output_type": "stream",
       "stream": "stdout",
       "text": [
        "\n",
        "Large area id 115\n",
        "Large area id 125"
       ]
      },
      {
       "output_type": "stream",
       "stream": "stdout",
       "text": [
        "\n",
        "Large area id 147"
       ]
      },
      {
       "output_type": "stream",
       "stream": "stdout",
       "text": [
        "\n",
        "Large area id 161\n",
        "2025"
       ]
      },
      {
       "output_type": "stream",
       "stream": "stdout",
       "text": [
        "\n",
        "Large area id 3\n",
        "Large area id 5"
       ]
      },
      {
       "output_type": "stream",
       "stream": "stdout",
       "text": [
        "\n",
        "Large area id 93"
       ]
      },
      {
       "output_type": "stream",
       "stream": "stdout",
       "text": [
        "\n",
        "Large area id 99\n",
        "Large area id 115"
       ]
      },
      {
       "output_type": "stream",
       "stream": "stdout",
       "text": [
        "\n",
        "Large area id 125"
       ]
      },
      {
       "output_type": "stream",
       "stream": "stdout",
       "text": [
        "\n",
        "Large area id 147"
       ]
      },
      {
       "output_type": "stream",
       "stream": "stdout",
       "text": [
        "\n",
        "Large area id 161\n",
        "2030"
       ]
      },
      {
       "output_type": "stream",
       "stream": "stdout",
       "text": [
        "\n",
        "Large area id 3\n",
        "Large area id 5"
       ]
      },
      {
       "output_type": "stream",
       "stream": "stdout",
       "text": [
        "\n",
        "Large area id 93\n",
        "Large area id 99"
       ]
      },
      {
       "output_type": "stream",
       "stream": "stdout",
       "text": [
        "\n",
        "Large area id 115"
       ]
      },
      {
       "output_type": "stream",
       "stream": "stdout",
       "text": [
        "\n",
        "Large area id 125"
       ]
      },
      {
       "output_type": "stream",
       "stream": "stdout",
       "text": [
        "\n",
        "Large area id 147"
       ]
      },
      {
       "output_type": "stream",
       "stream": "stdout",
       "text": [
        "\n",
        "Large area id 161\n",
        "2035"
       ]
      },
      {
       "output_type": "stream",
       "stream": "stdout",
       "text": [
        "\n",
        "Large area id 3\n",
        "Large area id 5"
       ]
      },
      {
       "output_type": "stream",
       "stream": "stdout",
       "text": [
        "\n",
        "Large area id 93"
       ]
      },
      {
       "output_type": "stream",
       "stream": "stdout",
       "text": [
        "\n",
        "Large area id 99\n",
        "Large area id 115"
       ]
      },
      {
       "output_type": "stream",
       "stream": "stdout",
       "text": [
        "\n",
        "Large area id 125"
       ]
      },
      {
       "output_type": "stream",
       "stream": "stdout",
       "text": [
        "\n",
        "Large area id 147"
       ]
      },
      {
       "output_type": "stream",
       "stream": "stdout",
       "text": [
        "\n",
        "Large area id 161\n",
        "2040"
       ]
      },
      {
       "output_type": "stream",
       "stream": "stdout",
       "text": [
        "\n",
        "Large area id 3\n",
        "Large area id 5"
       ]
      },
      {
       "output_type": "stream",
       "stream": "stdout",
       "text": [
        "\n",
        "Large area id 93"
       ]
      },
      {
       "output_type": "stream",
       "stream": "stdout",
       "text": [
        "\n",
        "Large area id 99"
       ]
      },
      {
       "output_type": "stream",
       "stream": "stdout",
       "text": [
        "\n",
        "Large area id 115"
       ]
      },
      {
       "output_type": "stream",
       "stream": "stdout",
       "text": [
        "\n",
        "Large area id 125"
       ]
      },
      {
       "output_type": "stream",
       "stream": "stdout",
       "text": [
        "\n",
        "Large area id 147"
       ]
      },
      {
       "output_type": "stream",
       "stream": "stdout",
       "text": [
        "\n",
        "Large area id 161\n",
        "Time to execute model 'gq_model': 6.82s"
       ]
      },
      {
       "output_type": "stream",
       "stream": "stderr",
       "text": [
        "c:\\urbansim\\urbansim\\sim\\simulation.py:236: SettingWithCopyWarning: A value is trying to be set on a copy of a slice from a DataFrame\n",
        "  self._frame[column_name].loc[series.index] = series\n",
        "c:\\Anaconda\\lib\\site-packages\\pandas\\computation\\expressions.py:184: UserWarning: evaluating in Python space because the '*' operator is not supported by numexpr for the bool dtype, use '&' instead\n",
        "  unsupported[op_str]))\n"
       ]
      },
      {
       "output_type": "stream",
       "stream": "stdout",
       "text": [
        "\n",
        "Running model 'travel_model'\n",
        "Time to execute model 'travel_model': 18.18s"
       ]
      },
      {
       "output_type": "stream",
       "stream": "stdout",
       "text": [
        "\n",
        "Total time to execute year 2015: 323.05s\n"
       ]
      }
     ],
     "prompt_number": 4
    },
    {
     "cell_type": "code",
     "collapsed": false,
     "input": [],
     "language": "python",
     "metadata": {},
     "outputs": []
    }
   ],
   "metadata": {}
  }
 ]
}