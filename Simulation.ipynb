{
 "metadata": {
  "name": "",
  "signature": "sha256:6c51e9691a04add3faa6fe6d008be35790805e72d6b3e368b11c742f3139e6aa"
 },
 "nbformat": 3,
 "nbformat_minor": 0,
 "worksheets": [
  {
   "cells": [
    {
     "cell_type": "code",
     "collapsed": true,
     "input": [
      "%load_ext autoreload\n",
      "%autoreload 1\n",
      "%aimport bayarea.models\n",
      "%aimport bayarea.dataset\n",
      "%aimport bayarea.feasibility\n",
      "%aimport bayarea.developer\n",
      "models = bayarea.models\n",
      "dataset = bayarea.dataset\n",
      "feasibility = bayarea.feasibility\n",
      "developer = bayarea.developer"
     ],
     "language": "python",
     "metadata": {},
     "outputs": [],
     "prompt_number": 1
    },
    {
     "cell_type": "code",
     "collapsed": true,
     "input": [
      "dset = dataset.BayAreaDataset(\"data/bayarea.h5\")"
     ],
     "language": "python",
     "metadata": {},
     "outputs": [],
     "prompt_number": 2
    },
    {
     "cell_type": "code",
     "collapsed": true,
     "input": [
      "models.build_networks()"
     ],
     "language": "python",
     "metadata": {},
     "outputs": [],
     "prompt_number": 3
    },
    {
     "cell_type": "code",
     "collapsed": true,
     "input": [
      "NUM_YEARS = 1\n",
      "MODEL_LIST = [\n",
      "    \"neighborhood_vars\",      # accessibility variables\n",
      "    \"rsh_simulate\",           # residential sales hedonic\n",
      "    \"rrh_simulate\",           # residenital rent hedonic\n",
      "    \"households_relocation\",  # households relocation model\n",
      "    \"hlcmo_simulate\",         # households location choice (owner)\n",
      "    \"hlcmr_simulate\",         # households location choice (renter)\n",
      "    \"households_transition\",  # households transition\n",
      "    \"nrh_simulate\",           # non-residential rent hedonic\n",
      "    \"jobs_relocation\",        # jobs relocation model\n",
      "    \"elcm_simulate\",          # employment location choice\n",
      "    \"jobs_transition\",        # jobs transition\n",
      "    \"price_vars\",             # compute average price measures\n",
      "    \"feasibility\",            # compute development feasibility\n",
      "    \"developer\"               # build actual buildings\n",
      "]\n",
      "import time\n",
      "for i in range(NUM_YEARS):\n",
      "    t1 = time.time()\n",
      "    for model in MODEL_LIST:\n",
      "        t2 = time.time()\n",
      "        print \"\\n\" + model + \"\\n\"\n",
      "        if model == \"feasibility\": feasibility.feasibility_run(dset)\n",
      "        elif model == \"developer\": developer.developer_run(dset)\n",
      "        else: getattr(models, model)(dset)\n",
      "        print \"Model %s executed in %.3fs\" % (model, time.time()-t2)\n",
      "    print \"Year %d completed in %.3fs\" % (i+1, time.time()-t1)"
     ],
     "language": "python",
     "metadata": {},
     "outputs": []
    },
    {
     "cell_type": "code",
     "collapsed": true,
     "input": [],
     "language": "python",
     "metadata": {},
     "outputs": []
    }
   ],
   "metadata": {}
  }
 ]
}