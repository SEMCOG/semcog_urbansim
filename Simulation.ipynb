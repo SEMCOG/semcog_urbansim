{
 "metadata": {
  "name": "",
  "signature": "sha256:52e446af93a6fff4c9ea5e6af6122f435cd4f941432b74b4903f1b8c69b5a516"
 },
 "nbformat": 3,
 "nbformat_minor": 0,
 "worksheets": [
  {
   "cells": [
    {
     "cell_type": "code",
     "collapsed": true,
     "input": [
      "%load_ext autoreload\n",
      "%autoreload 2\n",
      "%aimport models\n",
      "%aimport dataset"
     ],
     "language": "python",
     "metadata": {},
     "outputs": [],
     "prompt_number": 1
    },
    {
     "cell_type": "code",
     "collapsed": false,
     "input": [
      "from urbansim.utils import misc\n",
      "runnum = misc.get_run_number()"
     ],
     "language": "python",
     "metadata": {},
     "outputs": [],
     "prompt_number": 2
    },
    {
     "cell_type": "code",
     "collapsed": false,
     "input": [
      "# import logging\n",
      "# from urbansim.utils import logutil\n",
      "# logutil.set_log_level(logging.DEBUG)\n",
      "# logutil.log_to_file('./runs/log%s.log'%runnum)"
     ],
     "language": "python",
     "metadata": {},
     "outputs": [],
     "prompt_number": 3
    },
    {
     "cell_type": "code",
     "collapsed": false,
     "input": [
      "dset = dataset.SemcogDataset(\"data/semcog_data.h5\")\n",
      "models.build_networks(dset)"
     ],
     "language": "python",
     "metadata": {},
     "outputs": [
      {
       "output_type": "stream",
       "stream": "stdout",
       "text": [
        "Fetching cities\n",
        "Fetching parcels"
       ]
      },
      {
       "output_type": "stream",
       "stream": "stdout",
       "text": [
        "\n"
       ]
      }
     ],
     "prompt_number": 4
    },
    {
     "cell_type": "code",
     "collapsed": true,
     "input": [
      "YEARS = range(2013, 2014)\n",
      "MODEL_LIST = [\n",
      "    \"clear_cache\",            # recompute variables every year\n",
      "    \"neighborhood_vars\",      # neighborhood variables\n",
      "    \"households_transition\",  # households transition\n",
      "    \"households_relocation\",  # households relocation model\n",
      "    \"jobs_transition\",        # jobs transition\n",
      "    \"jobs_relocation\",        # jobs relocation model\n",
      "    \"scheduled_development_events\",\n",
      "#     \"cache_variables\",        # this is the variable computation time\n",
      "    \"nrh_simulate\",           # non-residential rent hedonic\n",
      "    \"rsh_simulate\",           # residential sales hedonic\n",
      "    \"hlcm_simulate\",          # households location choice\n",
      "    \"elcm_simulate\",          # employment location choice\n",
      "    \"price_vars\",             # compute average price measures\n",
      "    \"feasibility\",            # compute development feasibility\n",
      "    \"residential_developer\",   # build actual buildings\n",
      "    \"non_residential_developer\",   # build actual buildings\n",
      "    \"government_jobs_scaling_model\",\n",
      "    \"refiner\",\n",
      "    \"aging_model\",\n",
      "    \"income_inflation_model\",\n",
      "    \"travel_model\",\n",
      "]\n",
      "#dset.debug = True\n",
      "models._run_models(dset, MODEL_LIST, YEARS)"
     ],
     "language": "python",
     "metadata": {},
     "outputs": [
      {
       "output_type": "stream",
       "stream": "stdout",
       "text": [
        "\n",
        "clear_cache\n",
        "\n",
        "Model clear_cache executed in 0.000s\n",
        "\n",
        "neighborhood_vars\n",
        "\n",
        "Computing accessibility variables\n",
        "Computing sum_residential_units\n",
        "    Fields available to accvar = residential_units, _node_id0\n",
        "Fetching buildings\n",
        "    dataframe = buildings, varname=residential_units"
       ]
      },
      {
       "output_type": "stream",
       "stream": "stdout",
       "text": [
        "\n",
        "    radius = 500, aggregation = AGG_SUM, decay = DECAY_LINEAR\n",
        "Computing sum_nonresidential_units"
       ]
      },
      {
       "output_type": "stream",
       "stream": "stdout",
       "text": [
        "\n",
        "    Fields available to accvar = job_spaces, _node_id0\n",
        "Fetching building_sqft_per_job"
       ]
      },
      {
       "output_type": "stream",
       "stream": "stdout",
       "text": [
        "\n",
        "    dataframe = buildings, varname=job_spaces"
       ]
      },
      {
       "output_type": "stream",
       "stream": "stdout",
       "text": [
        "\n",
        "    radius = 500, aggregation = AGG_SUM, decay = DECAY_LINEAR\n",
        "Computing ave_unit_sqft"
       ]
      },
      {
       "output_type": "stream",
       "stream": "stdout",
       "text": [
        "\n",
        "    Fields available to accvar = sqft_per_unit, _node_id0\n",
        "    dataframe = buildings, varname=sqft_per_unit\n",
        "    radius = 500, aggregation = AGG_AVE, decay = DECAY_FLAT\n",
        "Computing ave_lot_sqft"
       ]
      },
      {
       "output_type": "stream",
       "stream": "stdout",
       "text": [
        "\n",
        "    Fields available to accvar = land_area, _node_id0\n",
        "    dataframe = buildings, varname=land_area\n",
        "    radius = 500, aggregation = AGG_AVE, decay = DECAY_FLAT\n",
        "Computing population"
       ]
      },
      {
       "output_type": "stream",
       "stream": "stdout",
       "text": [
        "\n",
        "    Fields available to accvar = persons, _node_id0\n",
        "Fetching households\n",
        "    dataframe = households, varname=persons"
       ]
      },
      {
       "output_type": "stream",
       "stream": "stdout",
       "text": [
        "\n",
        "    radius = 500, aggregation = AGG_SUM, decay = DECAY_LINEAR\n",
        "Computing poor"
       ]
      },
      {
       "output_type": "stream",
       "stream": "stdout",
       "text": [
        "\n",
        "    Fields available to accvar = persons, income, _node_id0\n",
        "    Filters = ['income < 40000']"
       ]
      },
      {
       "output_type": "stream",
       "stream": "stdout",
       "text": [
        "\n",
        "    dataframe = households, varname=persons\n",
        "    radius = 500, aggregation = AGG_SUM, decay = DECAY_LINEAR\n",
        "Computing sfdu"
       ]
      },
      {
       "output_type": "stream",
       "stream": "stdout",
       "text": [
        "\n",
        "    Fields available to accvar = building_type_id, _node_id0\n",
        "    Filters = ['building_type_id == 17']"
       ]
      },
      {
       "output_type": "stream",
       "stream": "stdout",
       "text": [
        "\n",
        "    dataframe = buildings, varname=None\n",
        "    radius = 500, aggregation = AGG_SUM, decay = DECAY_LINEAR\n",
        "Computing hhsize"
       ]
      },
      {
       "output_type": "stream",
       "stream": "stdout",
       "text": [
        "\n",
        "    Fields available to accvar = persons, _node_id0\n",
        "    dataframe = households, varname=persons\n",
        "    radius = 500, aggregation = AGG_AVE, decay = DECAY_FLAT\n",
        "Computing jobs"
       ]
      },
      {
       "output_type": "stream",
       "stream": "stdout",
       "text": [
        "\n",
        "    Fields available to accvar = _node_id0\n",
        "Fetching jobs\n",
        "    dataframe = jobs, varname=None"
       ]
      },
      {
       "output_type": "stream",
       "stream": "stdout",
       "text": [
        "\n",
        "    radius = 500, aggregation = AGG_SUM, decay = DECAY_LINEAR\n",
        "Computing ave_income"
       ]
      },
      {
       "output_type": "stream",
       "stream": "stdout",
       "text": [
        "\n",
        "    Fields available to accvar = income, _node_id0\n",
        "    dataframe = households, varname=income\n",
        "    radius = 500, aggregation = AGG_AVE, decay = DECAY_FLAT\n",
        "Done"
       ]
      },
      {
       "output_type": "stream",
       "stream": "stdout",
       "text": [
        "\n",
        "Model neighborhood_vars executed in 25.272s\n",
        "\n",
        "households_transition\n",
        "\n",
        "Fetching annual_household_control_totals\n",
        "Fetching persons"
       ]
      },
      {
       "output_type": "stream",
       "stream": "stdout",
       "text": [
        "\n",
        "Model households_transition executed in 19.553s"
       ]
      },
      {
       "output_type": "stream",
       "stream": "stdout",
       "text": [
        "\n",
        "\n",
        "households_relocation\n",
        "\n",
        "Fetching annual_relocation_rates_for_households\n",
        "Total currently unplaced: 36640"
       ]
      },
      {
       "output_type": "stream",
       "stream": "stdout",
       "text": [
        "\n",
        "Model households_relocation executed in 1.936s\n",
        "\n",
        "jobs_transition\n",
        "\n",
        "Fetching annual_employment_control_totals\n",
        "Model jobs_transition executed in 5.348s"
       ]
      },
      {
       "output_type": "stream",
       "stream": "stdout",
       "text": [
        "\n",
        "\n",
        "jobs_relocation\n",
        "\n",
        "Fetching annual_relocation_rates_for_jobs\n",
        "Total currently unplaced: 68951"
       ]
      },
      {
       "output_type": "stream",
       "stream": "stdout",
       "text": [
        "\n",
        "Model jobs_relocation executed in 0.589s\n",
        "\n",
        "scheduled_development_events\n",
        "\n",
        "Model scheduled_development_events executed in 0.235s"
       ]
      },
      {
       "output_type": "stream",
       "stream": "stdout",
       "text": [
        "\n",
        "\n",
        "nrh_simulate\n",
        "\n",
        "Fetching zones"
       ]
      },
      {
       "output_type": "stream",
       "stream": "stdout",
       "text": [
        "\n",
        "Fetching travel_data"
       ]
      },
      {
       "output_type": "stream",
       "stream": "stdout",
       "text": [
        "\n",
        "Running hedonic simulation\n"
       ]
      },
      {
       "output_type": "stream",
       "stream": "stdout",
       "text": [
        "\n",
        "count    1.178630e+05\n",
        "mean     2.260698e+01\n",
        "std      9.533867e+01\n",
        "min      8.613306e-10\n",
        "25%      1.066010e+01\n",
        "50%      1.865239e+01\n",
        "75%      2.760569e+01\n",
        "max      7.616156e+03\n",
        "dtype: float64"
       ]
      },
      {
       "output_type": "stream",
       "stream": "stdout",
       "text": [
        "\n",
        "Model nrh_simulate executed in 113.443s"
       ]
      },
      {
       "output_type": "stream",
       "stream": "stdout",
       "text": [
        "\n",
        "\n",
        "rsh_simulate\n",
        "\n",
        "Running hedonic simulation\n"
       ]
      },
      {
       "output_type": "stream",
       "stream": "stdout",
       "text": [
        "\n",
        "count    1817653.000000\n",
        "mean          34.655615\n",
        "std           65.256834\n",
        "min            0.000290\n",
        "25%           28.806817\n",
        "50%           33.429800\n",
        "75%           37.612484\n",
        "max         6773.199406\n",
        "dtype: float64"
       ]
      },
      {
       "output_type": "stream",
       "stream": "stdout",
       "text": [
        "\n",
        "Model rsh_simulate executed in 6.978s"
       ]
      },
      {
       "output_type": "stream",
       "stream": "stdout",
       "text": [
        "\n",
        "\n",
        "hlcm_simulate\n",
        "\n",
        "There are 2224980 total available units"
       ]
      },
      {
       "output_type": "stream",
       "stream": "stdout",
       "text": [
        "\n",
        "    and 1872593 total choosers\n",
        "    but there are 24517 overfull buildings"
       ]
      },
      {
       "output_type": "stream",
       "stream": "stdout",
       "text": [
        "\n",
        "    for a total of 436453 empty units"
       ]
      },
      {
       "output_type": "stream",
       "stream": "stdout",
       "text": [
        "\n",
        "    in 298028 buildings total in the region\n",
        "Running location choice model simulation\n"
       ]
      },
      {
       "output_type": "stream",
       "stream": "stdout",
       "text": [
        "\n",
        "Assigned 36640 choosers to new units"
       ]
      },
      {
       "output_type": "stream",
       "stream": "stdout",
       "text": [
        "\n",
        "Total currently unplaced: 0"
       ]
      },
      {
       "output_type": "stream",
       "stream": "stdout",
       "text": [
        "\n",
        "Model hlcm_simulate executed in 215.003s"
       ]
      },
      {
       "output_type": "stream",
       "stream": "stdout",
       "text": [
        "\n",
        "\n",
        "elcm_simulate\n",
        "\n",
        "There are 640617 total available units"
       ]
      },
      {
       "output_type": "stream",
       "stream": "stdout",
       "text": [
        "\n",
        "    and 405691 total choosers\n",
        "    but there are 7333 overfull buildings\n",
        "    for a total of 422066 empty units"
       ]
      },
      {
       "output_type": "stream",
       "stream": "stdout",
       "text": [
        "\n",
        "    in 20462 buildings total in the region\n",
        "There are 1729370 total available units"
       ]
      },
      {
       "output_type": "stream",
       "stream": "stdout",
       "text": [
        "\n",
        "    and 238211 total choosers\n",
        "    but there are 3574 overfull buildings\n",
        "    for a total of 1596531 empty units"
       ]
      },
      {
       "output_type": "stream",
       "stream": "stdout",
       "text": [
        "\n",
        "    in 25911 buildings total in the region\n",
        "There are 92703 total available units"
       ]
      },
      {
       "output_type": "stream",
       "stream": "stdout",
       "text": [
        "\n",
        "    and 44049 total choosers\n",
        "    but there are 1433 overfull buildings\n",
        "    for a total of 66915 empty units"
       ]
      },
      {
       "output_type": "stream",
       "stream": "stdout",
       "text": [
        "\n",
        "    in 15315 buildings total in the region\n",
        "There are 501557 total available units"
       ]
      },
      {
       "output_type": "stream",
       "stream": "stdout",
       "text": [
        "\n",
        "    and 276350 total choosers\n",
        "    but there are 5908 overfull buildings\n",
        "    for a total of 363293 empty units"
       ]
      },
      {
       "output_type": "stream",
       "stream": "stdout",
       "text": [
        "\n",
        "    in 24198 buildings total in the region\n",
        "There are 68466 total available units"
       ]
      },
      {
       "output_type": "stream",
       "stream": "stdout",
       "text": [
        "\n",
        "    and 37562 total choosers\n",
        "    but there are 1103 overfull buildings\n",
        "    for a total of 49903 empty units"
       ]
      },
      {
       "output_type": "stream",
       "stream": "stdout",
       "text": [
        "\n",
        "    in 6799 buildings total in the region\n",
        "There are 887439 total available units"
       ]
      },
      {
       "output_type": "stream",
       "stream": "stdout",
       "text": [
        "\n",
        "    and 621419 total choosers\n",
        "    but there are 12307 overfull buildings\n",
        "    for a total of 571452 empty units"
       ]
      },
      {
       "output_type": "stream",
       "stream": "stdout",
       "text": [
        "\n",
        "    in 32781 buildings total in the region\n",
        "There are 104269 total available units"
       ]
      },
      {
       "output_type": "stream",
       "stream": "stdout",
       "text": [
        "\n",
        "    and 42815 total choosers\n",
        "    but there are 1135 overfull buildings\n",
        "    for a total of 77960 empty units"
       ]
      },
      {
       "output_type": "stream",
       "stream": "stdout",
       "text": [
        "\n",
        "    in 17596 buildings total in the region\n",
        "There are 262113 total available units"
       ]
      },
      {
       "output_type": "stream",
       "stream": "stdout",
       "text": [
        "\n",
        "    and 183071 total choosers\n",
        "    but there are 3385 overfull buildings\n",
        "    for a total of 196533 empty units"
       ]
      },
      {
       "output_type": "stream",
       "stream": "stdout",
       "text": [
        "\n",
        "    in 19200 buildings total in the region\n",
        "ELCM for large area 3\n",
        "Running location choice model simulation\n",
        "\n",
        "Assigned 11232 choosers to new units"
       ]
      },
      {
       "output_type": "stream",
       "stream": "stdout",
       "text": [
        "\n",
        "Total currently unplaced: 57719"
       ]
      },
      {
       "output_type": "stream",
       "stream": "stdout",
       "text": [
        "\n",
        "ELCM for large area 5"
       ]
      },
      {
       "output_type": "stream",
       "stream": "stdout",
       "text": [
        "\n",
        "Running location choice model simulation\n",
        "\n",
        "Assigned 7116 choosers to new units"
       ]
      },
      {
       "output_type": "stream",
       "stream": "stdout",
       "text": [
        "\n",
        "Total currently unplaced: 50603"
       ]
      },
      {
       "output_type": "stream",
       "stream": "stdout",
       "text": [
        "\n",
        "ELCM for large area 93"
       ]
      },
      {
       "output_type": "stream",
       "stream": "stdout",
       "text": [
        "\n",
        "Running location choice model simulation\n",
        "\n",
        "Assigned 1916 choosers to new units"
       ]
      },
      {
       "output_type": "stream",
       "stream": "stdout",
       "text": [
        "\n",
        "Total currently unplaced: 48687"
       ]
      },
      {
       "output_type": "stream",
       "stream": "stdout",
       "text": [
        "\n",
        "ELCM for large area 99"
       ]
      },
      {
       "output_type": "stream",
       "stream": "stdout",
       "text": [
        "\n",
        "Running location choice model simulation\n",
        "\n",
        "Assigned 9089 choosers to new units"
       ]
      },
      {
       "output_type": "stream",
       "stream": "stdout",
       "text": [
        "\n",
        "Total currently unplaced: 39598"
       ]
      },
      {
       "output_type": "stream",
       "stream": "stdout",
       "text": [
        "\n",
        "ELCM for large area 115"
       ]
      },
      {
       "output_type": "stream",
       "stream": "stdout",
       "text": [
        "\n",
        "Running location choice model simulation\n",
        "\n",
        "Assigned 1300 choosers to new units"
       ]
      },
      {
       "output_type": "stream",
       "stream": "stdout",
       "text": [
        "\n",
        "Total currently unplaced: 38298"
       ]
      },
      {
       "output_type": "stream",
       "stream": "stdout",
       "text": [
        "\n",
        "ELCM for large area 125"
       ]
      },
      {
       "output_type": "stream",
       "stream": "stdout",
       "text": [
        "\n",
        "Running location choice model simulation\n",
        "\n",
        "Assigned 31130 choosers to new units"
       ]
      },
      {
       "output_type": "stream",
       "stream": "stdout",
       "text": [
        "\n",
        "Total currently unplaced: 7168"
       ]
      },
      {
       "output_type": "stream",
       "stream": "stdout",
       "text": [
        "\n",
        "ELCM for large area 147"
       ]
      },
      {
       "output_type": "stream",
       "stream": "stdout",
       "text": [
        "\n",
        "Running location choice model simulation\n",
        "\n",
        "Assigned 2035 choosers to new units"
       ]
      },
      {
       "output_type": "stream",
       "stream": "stdout",
       "text": [
        "\n",
        "Total currently unplaced: 5133"
       ]
      },
      {
       "output_type": "stream",
       "stream": "stdout",
       "text": [
        "\n",
        "ELCM for large area 161"
       ]
      },
      {
       "output_type": "stream",
       "stream": "stdout",
       "text": [
        "\n",
        "Running location choice model simulation\n",
        "\n",
        "Assigned 5133 choosers to new units"
       ]
      },
      {
       "output_type": "stream",
       "stream": "stdout",
       "text": [
        "\n",
        "Total currently unplaced: 0"
       ]
      },
      {
       "output_type": "stream",
       "stream": "stdout",
       "text": [
        "\n",
        "Model elcm_simulate executed in 808.831s"
       ]
      },
      {
       "output_type": "stream",
       "stream": "stdout",
       "text": [
        "\n",
        "\n",
        "price_vars\n",
        "\n",
        "Computing accessibility variables\n",
        "Computing residential\n",
        "    Fields available to accvar = sqft_price_res, _node_id0\n",
        "    dataframe = buildings, varname=sqft_price_res\n",
        "    radius = 2000, aggregation = AGG_AVE, decay = DECAY_FLAT\n",
        "Computing retail"
       ]
      },
      {
       "output_type": "stream",
       "stream": "stdout",
       "text": [
        "\n",
        "    Fields available to accvar = sqft_price_nonres, general_type, _node_id0\n",
        "    Filters = ['general_type == \"Retail\"']"
       ]
      },
      {
       "output_type": "stream",
       "stream": "stdout",
       "text": [
        "\n",
        "    dataframe = buildings, varname=sqft_price_nonres\n",
        "    radius = 2000, aggregation = AGG_AVE, decay = DECAY_FLAT\n",
        "Computing office"
       ]
      },
      {
       "output_type": "stream",
       "stream": "stdout",
       "text": [
        "\n",
        "    Fields available to accvar = sqft_price_nonres, general_type, _node_id0\n",
        "    Filters = ['general_type == \"Office\"']"
       ]
      },
      {
       "output_type": "stream",
       "stream": "stdout",
       "text": [
        "\n",
        "    dataframe = buildings, varname=sqft_price_nonres\n",
        "    radius = 2000, aggregation = AGG_AVE, decay = DECAY_FLAT\n",
        "Computing industrial"
       ]
      },
      {
       "output_type": "stream",
       "stream": "stdout",
       "text": [
        "\n",
        "    Fields available to accvar = sqft_price_nonres, general_type, _node_id0\n",
        "    Filters = ['general_type == \"Industrial\"']"
       ]
      },
      {
       "output_type": "stream",
       "stream": "stdout",
       "text": [
        "\n",
        "    dataframe = buildings, varname=sqft_price_nonres\n",
        "    radius = 2000, aggregation = AGG_AVE, decay = DECAY_FLAT\n",
        "Done"
       ]
      },
      {
       "output_type": "stream",
       "stream": "stdout",
       "text": [
        "\n",
        "Model price_vars executed in 3.109s\n",
        "\n",
        "feasibility\n",
        "\n",
        "              retail     industrial         office    residential\n",
        "count  500000.000000  500000.000000  500000.000000  500000.000000\n",
        "mean        1.646743       6.611460       1.646439       1.891374\n",
        "std         2.870004     264.059223       1.741462       4.686389\n",
        "min         0.000000       0.000000       0.000000       0.000000\n",
        "25%         0.844510       0.000000       0.835052       1.187873\n",
        "50%         1.462845       0.353787       1.495059       1.457450\n",
        "75%         2.044823       0.816645       2.111455       1.791125\n",
        "max       184.333337   15839.500000      95.589624     539.941504"
       ]
      },
      {
       "output_type": "stream",
       "stream": "stdout",
       "text": [
        "\n",
        "Computing feasibility for form mixedoffice\n",
        "Computing feasibility for form industrial"
       ]
      },
      {
       "output_type": "stream",
       "stream": "stdout",
       "text": [
        "\n",
        "Computing feasibility for form office"
       ]
      },
      {
       "output_type": "stream",
       "stream": "stdout",
       "text": [
        "\n",
        "Computing feasibility for form residential"
       ]
      },
      {
       "output_type": "stream",
       "stream": "stdout",
       "text": [
        "\n",
        "Computing feasibility for form mixedresidential"
       ]
      },
      {
       "output_type": "stream",
       "stream": "stdout",
       "text": [
        "\n",
        "Computing feasibility for form retail"
       ]
      },
      {
       "output_type": "stream",
       "stream": "stdout",
       "text": [
        "\n",
        "Model feasibility executed in 21.490s"
       ]
      },
      {
       "output_type": "stream",
       "stream": "stdout",
       "text": [
        "\n",
        "\n",
        "residential_developer\n",
        "\n",
        "Number of agents: 1853537\n",
        "Number of agent spaces: 2224980\n",
        "Current vacancy = 0.17\n",
        "Target vacancy = 0.20, target of new units = 91941\n",
        "Sum of net units that are profitable"
       ]
      },
      {
       "output_type": "stream",
       "stream": "stdout",
       "text": [
        " 270866.0\n",
        "Adding 421 buildings with 92,356.0 residential units\n",
        "Model residential_developer executed in 3.121s"
       ]
      },
      {
       "output_type": "stream",
       "stream": "stdout",
       "text": [
        "\n",
        "\n",
        "non_residential_developer\n",
        "\n",
        "Number of agents: 1849168"
       ]
      },
      {
       "output_type": "stream",
       "stream": "stdout",
       "text": [
        "\n",
        "Number of agent spaces: 4286534\n",
        "Current vacancy = 0.57\n",
        "Target vacancy = 0.60, target of new units = 336386\n",
        "Sum of net units that are profitable"
       ]
      },
      {
       "output_type": "stream",
       "stream": "stdout",
       "text": [
        " 302273.0\n",
        "WARNING THERE WERE NOT ENOUGH PROFITABLE UNITS TO MATCH DEMAND\n",
        "Adding 4762 buildings with 153,233,178.05 non-residential sqft\n",
        "Model non_residential_developer executed in 3.866s"
       ]
      },
      {
       "output_type": "stream",
       "stream": "stdout",
       "text": [
        "\n",
        "\n",
        "government_jobs_scaling_model\n",
        "\n",
        "Model government_jobs_scaling_model executed in 0.012s\n",
        "\n",
        "refiner\n",
        "\n",
        "Model refiner executed in 1.987s"
       ]
      },
      {
       "output_type": "stream",
       "stream": "stdout",
       "text": [
        "\n",
        "\n",
        "aging_model\n",
        "\n",
        "count    4664246.000000\n",
        "mean          37.690113\n",
        "std           22.551554\n",
        "min            0.000000\n",
        "25%           18.000000\n",
        "50%           38.000000\n",
        "75%           55.000000\n",
        "max           93.000000\n",
        "dtype: float64"
       ]
      },
      {
       "output_type": "stream",
       "stream": "stdout",
       "text": [
        "\n",
        "count    4664246.000000\n",
        "mean          38.690113\n",
        "std           22.551554\n",
        "min            1.000000\n",
        "25%           19.000000\n",
        "50%           39.000000\n",
        "75%           56.000000\n",
        "max           94.000000\n",
        "dtype: float64"
       ]
      },
      {
       "output_type": "stream",
       "stream": "stdout",
       "text": [
        "\n",
        "Model aging_model executed in 2.215s\n",
        "\n",
        "income_inflation_model\n",
        "\n",
        "count    1853537.000000\n",
        "mean       71263.303906\n",
        "std        69151.543270\n",
        "min            0.000000\n",
        "25%        27013.000000\n",
        "50%        53750.000000\n",
        "75%        91713.000000\n",
        "max       924912.000000\n",
        "dtype: float64"
       ]
      },
      {
       "output_type": "stream",
       "stream": "stdout",
       "text": [
        "\n",
        "count    1853537.000000\n",
        "mean       71975.936945\n",
        "std        69843.058704\n",
        "min            0.000000\n",
        "25%        27283.130000\n",
        "50%        54287.500000\n",
        "75%        92630.130000\n",
        "max       934161.120000\n",
        "dtype: float64"
       ]
      },
      {
       "output_type": "stream",
       "stream": "stdout",
       "text": [
        "\n",
        "Model income_inflation_model executed in 1.265s\n",
        "\n",
        "travel_model\n",
        "\n",
        "Model travel_model executed in 9.919s"
       ]
      },
      {
       "output_type": "stream",
       "stream": "stdout",
       "text": [
        "\n",
        "Year 2013 completed in 1244.178s\n"
       ]
      },
      {
       "output_type": "stream",
       "stream": "stderr",
       "text": [
        "c:\\Anaconda\\lib\\site-packages\\pandas\\core\\frame.py:1712: UserWarning: Boolean Series key will be reindexed to match DataFrame index.\n",
        "  \"DataFrame index.\", UserWarning)\n"
       ]
      }
     ],
     "prompt_number": 5
    },
    {
     "cell_type": "code",
     "collapsed": false,
     "input": [
      "import pandas as pd, numpy as np\n",
      "\n",
      "##Unplaced agents\n",
      "print 'Unplaced households'\n",
      "print dset.households.building_id.isnull().sum()\n",
      "print 'Unplaced jobs'\n",
      "print dset.jobs.building_id.isnull().sum()\n",
      "\n",
      "\n",
      "##County summary\n",
      "bp = pd.merge(dset.buildings,dset.parcels,left_on='parcel_id',right_index=True)\n",
      "bp['plid'] = bp.large_area_id\n",
      "merged_hh = pd.merge(dset.households,bp,left_on='building_id',right_index=True)\n",
      "print 'Households by large_area_id'\n",
      "print merged_hh.groupby('plid').size()\n",
      "\n",
      "if 'zone_id' in dset.jobs.columns:\n",
      "    del dset.jobs['zone_id']\n",
      "merged_jobs = pd.merge(dset.jobs,bp,left_on='building_id',right_index=True)\n",
      "print 'Jobs by county'\n",
      "print merged_jobs.groupby('plid').size()\n",
      "\n",
      "##Zonal summary\n",
      "zonal_indicators = pd.DataFrame(index=np.unique(bp.zone_id.values))\n",
      "zonal_indicators['hh'] = merged_hh.groupby('zone_id').size()\n",
      "zonal_indicators['emp'] = merged_jobs.groupby('zone_id').size()\n",
      "zonal_indicators.fillna(0).to_csv('./runs/zonal_indicators%s.csv'%runnum)\n",
      "print 'Zonal indicators exported to runs dir'"
     ],
     "language": "python",
     "metadata": {},
     "outputs": [
      {
       "output_type": "stream",
       "stream": "stdout",
       "text": [
        "Unplaced households\n",
        "0\n",
        "Unplaced jobs\n",
        "0\n",
        "Households by large_area_id"
       ]
      },
      {
       "output_type": "stream",
       "stream": "stdout",
       "text": [
        "\n",
        "plid\n",
        "3       437676\n",
        "5       253402\n",
        "93       69225\n",
        "99      337872\n",
        "115      59941\n",
        "125     491374\n",
        "147      64283\n",
        "161     139764\n",
        "dtype: int64"
       ]
      },
      {
       "output_type": "stream",
       "stream": "stdout",
       "text": [
        "\n",
        "Jobs by county"
       ]
      },
      {
       "output_type": "stream",
       "stream": "stdout",
       "text": [
        "\n",
        "plid\n",
        "3       405671\n",
        "5       238179\n",
        "93       44044\n",
        "99      276312\n",
        "115      37559\n",
        "125     627882\n",
        "147      42814\n",
        "161     176707\n",
        "dtype: int64"
       ]
      },
      {
       "output_type": "stream",
       "stream": "stdout",
       "text": [
        "\n",
        "Zonal indicators exported to runs dir"
       ]
      },
      {
       "output_type": "stream",
       "stream": "stdout",
       "text": [
        "\n"
       ]
      }
     ],
     "prompt_number": 7
    },
    {
     "cell_type": "code",
     "collapsed": false,
     "input": [
      "zonal_indicators = pd.DataFrame(index=np.unique(dset.parcels.zone_id.values))\n",
      "merged_persons = pd.merge(dset.persons, merged_hh, left_on='household_id', right_index=True)\n",
      "zonal_indicators['acrestotal'] = dset.parcels.groupby('zone_id').parcel_sqft.sum()/43560.0\n",
      "zonal_indicators['households'] = merged_hh.groupby('zone_id').size()\n",
      "zonal_indicators['hhPop'] = merged_hh.groupby('zone_id').persons.sum()\n",
      "zonal_indicators['EmpPrinc'] = merged_jobs.groupby('zone_id').size()\n",
      "zonal_indicators['workers'] = merged_hh.groupby('zone_id').workers.sum()\n",
      "zonal_indicators['Agegrp1'] = merged_persons[merged_persons.age<=4].groupby('zone_id').size()\n",
      "zonal_indicators['Agegrp2'] = merged_persons[(merged_persons.age>=5)*(merged_persons.age<=17)].groupby('zone_id').size()\n",
      "zonal_indicators['Agegrp3'] = merged_persons[(merged_persons.age>=18)*(merged_persons.age<=34)].groupby('zone_id').size()\n",
      "zonal_indicators['Agegrp4'] = merged_persons[(merged_persons.age>=35)*(merged_persons.age<=64)].groupby('zone_id').size()\n",
      "zonal_indicators['Agegrp5'] = merged_persons[merged_persons.age>=65].groupby('zone_id').size()\n",
      "enroll_ratios = pd.read_csv(\"data/enroll_ratio_by_taz.csv\")\n",
      "school_age_by_district = pd.DataFrame({'children':merged_persons[(merged_persons.age>=5)*(merged_persons.age<=17)].groupby('school_district_id').size()})\n",
      "enroll_ratios = pd.merge(enroll_ratios,school_age_by_district,left_on='school_district_id',right_index=True)\n",
      "enroll_ratios['enrolled'] = enroll_ratios.enroll_ratio*enroll_ratios.children\n",
      "enrolled = enroll_ratios.groupby('zone_id').enrolled.sum()\n",
      "zonal_indicators['k12enroll'] = np.round(enrolled)\n",
      "# zonal_indicators['PopDens'] = zonal_indicators.HHPop/(dset.parcels.groupby('zone_id').parcel_sqft.sum()/43560)\n",
      "# zonal_indicators['EmpBasic'] = merged_jobs[merged_jobs.sector_id.isin([1,3])].groupby('zone_id').size()\n",
      "# zonal_indicators['EmpNonBas'] = merged_jobs[~merged_jobs.sector_id.isin([1,3])].groupby('zone_id').size()\n",
      "zonal_indicators['sector1'] = merged_jobs[merged_jobs.sector_id==1].groupby('zone_id').size()\n",
      "zonal_indicators['sector2'] = merged_jobs[merged_jobs.sector_id==2].groupby('zone_id').size()\n",
      "zonal_indicators['sector3'] = merged_jobs[merged_jobs.sector_id==3].groupby('zone_id').size()\n",
      "zonal_indicators['sector4'] = merged_jobs[merged_jobs.sector_id==4].groupby('zone_id').size()\n",
      "zonal_indicators['sector5'] = merged_jobs[merged_jobs.sector_id==5].groupby('zone_id').size()\n",
      "zonal_indicators['sector6'] = merged_jobs[merged_jobs.sector_id==6].groupby('zone_id').size()\n",
      "zonal_indicators['sector7'] = merged_jobs[merged_jobs.sector_id==7].groupby('zone_id').size()\n",
      "zonal_indicators['sector8'] = merged_jobs[merged_jobs.sector_id==8].groupby('zone_id').size()\n",
      "zonal_indicators['sector9'] = merged_jobs[merged_jobs.sector_id==9].groupby('zone_id').size()\n",
      "zonal_indicators['sector10'] = merged_jobs[merged_jobs.sector_id==10].groupby('zone_id').size()\n",
      "zonal_indicators['sector11'] = merged_jobs[merged_jobs.sector_id==11].groupby('zone_id').size()\n",
      "zonal_indicators['sector12'] = merged_jobs[merged_jobs.sector_id==12].groupby('zone_id').size()\n",
      "zonal_indicators['sector13'] = merged_jobs[merged_jobs.sector_id==13].groupby('zone_id').size()\n",
      "zonal_indicators['sector14'] = merged_jobs[merged_jobs.sector_id==14].groupby('zone_id').size()\n",
      "zonal_indicators['sector15'] = merged_jobs[merged_jobs.sector_id==15].groupby('zone_id').size()\n",
      "zonal_indicators['sector16'] = merged_jobs[merged_jobs.sector_id==16].groupby('zone_id').size()\n",
      "zonal_indicators['sector17'] = merged_jobs[merged_jobs.sector_id==17].groupby('zone_id').size()\n",
      "zonal_indicators['sector18'] = merged_jobs[merged_jobs.sector_id==18].groupby('zone_id').size()\n",
      "zonal_indicators['sector19'] = merged_jobs[merged_jobs.sector_id==19].groupby('zone_id').size()\n",
      "zonal_indicators['sector20'] = merged_jobs[merged_jobs.sector_id==20].groupby('zone_id').size()"
     ],
     "language": "python",
     "metadata": {},
     "outputs": [],
     "prompt_number": 47
    },
    {
     "cell_type": "code",
     "collapsed": false,
     "input": [
      "zonal_indicators.k12enroll"
     ],
     "language": "python",
     "metadata": {},
     "outputs": [
      {
       "metadata": {},
       "output_type": "pyout",
       "prompt_number": 48,
       "text": [
        "1101    NaN\n",
        "1102    NaN\n",
        "1103    NaN\n",
        "1104    673\n",
        "1111    NaN\n",
        "1112    517\n",
        "1113    NaN\n",
        "1114    208\n",
        "1121    NaN\n",
        "1122    397\n",
        "1123    NaN\n",
        "1201    NaN\n",
        "1202    NaN\n",
        "1203    NaN\n",
        "1211    NaN\n",
        "...\n",
        "73112     NaN\n",
        "73113     NaN\n",
        "73201    3078\n",
        "73202     NaN\n",
        "73301      28\n",
        "73302     NaN\n",
        "73303     NaN\n",
        "73304     NaN\n",
        "73401     NaN\n",
        "73402     NaN\n",
        "73403     NaN\n",
        "73404     NaN\n",
        "73405     NaN\n",
        "73406     NaN\n",
        "73407     NaN\n",
        "Name: k12enroll, Length: 2806, dtype: float64"
       ]
      }
     ],
     "prompt_number": 48
    },
    {
     "cell_type": "code",
     "collapsed": false,
     "input": [
      "school_age_by_district = pd.DataFrame({'children':merged_persons[(merged_persons.age>=5)*(merged_persons.age<=17)].groupby('school_district_id').size()})"
     ],
     "language": "python",
     "metadata": {},
     "outputs": [],
     "prompt_number": 38
    },
    {
     "cell_type": "code",
     "collapsed": false,
     "input": [
      "enroll_ratios = pd.read_csv(\"data/enroll_ratio_by_taz.csv\")\n",
      "print enroll_ratios\n",
      "enroll_ratios = pd.merge(enroll_ratios,school_age_by_district,left_on='school_district_id',right_index=True)"
     ],
     "language": "python",
     "metadata": {},
     "outputs": [
      {
       "output_type": "stream",
       "stream": "stdout",
       "text": [
        "      school_id  TotalEnrol  zone_2000_id  zone_id  school_district_id  \\\n",
        "0          9365         693          1664    29833               63240   \n",
        "1          7497         814          1649    29802               63240   \n",
        "2          2684         334          1667    29836               63240   \n",
        "3          3496         539          1659    29803               63240   \n",
        "4          3521        1242          1652    29812               63240   \n",
        "5          8894         557          1653    29821               63240   \n",
        "6          7523         876          1659    29827               63240   \n",
        "7          9415         906          1664    29833               63240   \n",
        "8          8801         411          2696    70022               63240   \n",
        "9          3522         370          1648    29801               63240   \n",
        "10         3380         306          2385    43507               63240   \n",
        "11         9330          28          1659    29827               63240   \n",
        "12         7720         420          2747    71112               47080   \n",
        "13         3038        1467          2745    71003               47080   \n",
        "14         3037         242          2743    71002               47080   \n",
        "15         4717         170          2745    71003               47080   \n",
        "16         8715         709          2741    70603               47080   \n",
        "17         6553         676          2741    70603               47080   \n",
        "18         8618         386          2741    70603               47080   \n",
        "19         1573         360          1745    31040               50130   \n",
        "20          116         403          1750    31111               50130   \n",
        "21         1499         299          1755    31132               50130   \n",
        "22          677         847          1755    31132               50130   \n",
        "23         2105        1322          1749    31102               50130   \n",
        "24         3124         304          1748    31101               50130   \n",
        "25         3353         339          1749    31102               50130   \n",
        "26         8781          40          1748    31101               50130   \n",
        "27         3713         257          1755    31132               50130   \n",
        "28         9208         540          1970    34102               50040   \n",
        "29           88         925          1970    34102               50040   \n",
        "...         ...         ...           ...      ...                 ...   \n",
        "1546       1260         312           539    13560               82405   \n",
        "1547       3990         262           539    13560               82405   \n",
        "1548        681         313           529    13521               82405   \n",
        "1549       5945         262           533    13531               82405   \n",
        "1550       2956         678           534    13532               82405   \n",
        "1551       1216         502           765    17321               82080   \n",
        "1552       1840        1431           766    17322               82080   \n",
        "1553        545         556           765    17321               82080   \n",
        "1554       2964         458           765    17321               82080   \n",
        "1555       8799         735           675    16010               82130   \n",
        "1556       8898         329           675    16010               82130   \n",
        "1557       3260        1107           686    16300               82130   \n",
        "1558       6678         768           688    16312               82130   \n",
        "1559       6590         421           688    16312               82130   \n",
        "1560       9025         184           710    16600               82130   \n",
        "1561       6679         378           710    16600               82130   \n",
        "1562       6680         398           715    16642               82130   \n",
        "1563       9295          27           710    16600               82130   \n",
        "1564       9295          27           710    16600               82130   \n",
        "1565        124         320           783    18012               82140   \n",
        "1566       8950         274           781    18000               82140   \n",
        "1567       8261           1           781    18000               82140   \n",
        "1568       1239         447           782    18011               82140   \n",
        "1569       1941         743           782    18011               82140   \n",
        "1570       2149        1077           788    18120               82140   \n",
        "1571       1888         305           804    18410               82140   \n",
        "1572       4167         343           785    18022               82140   \n",
        "1573       3997         203           785    18022               82140   \n",
        "1574       1762          36           784    18021               82140   \n",
        "1575       4981           0           781    18000               82140   \n",
        "\n",
        "                              NAME  schage_children  enroll_ratio  \n",
        "0     South Lyon Community Schools             8075      0.085820  \n",
        "1     South Lyon Community Schools             8075      0.100805  \n",
        "2     South Lyon Community Schools             8075      0.041362  \n",
        "3     South Lyon Community Schools             8075      0.066749  \n",
        "4     South Lyon Community Schools             8075      0.153808  \n",
        "5     South Lyon Community Schools             8075      0.068978  \n",
        "6     South Lyon Community Schools             8075      0.108483  \n",
        "7     South Lyon Community Schools             8075      0.112198  \n",
        "8     South Lyon Community Schools             8075      0.050898  \n",
        "9     South Lyon Community Schools             8075      0.045820  \n",
        "10    South Lyon Community Schools             8075      0.037895  \n",
        "11    South Lyon Community Schools             8075      0.003467  \n",
        "12      Pinckney Community Schools             5208      0.080645  \n",
        "13      Pinckney Community Schools             5208      0.281682  \n",
        "14      Pinckney Community Schools             5208      0.046467  \n",
        "15      Pinckney Community Schools             5208      0.032642  \n",
        "16      Pinckney Community Schools             5208      0.136137  \n",
        "17      Pinckney Community Schools             5208      0.129800  \n",
        "18      Pinckney Community Schools             5208      0.074117  \n",
        "19         Lakeview Public Schools             2819      0.127705  \n",
        "20         Lakeview Public Schools             2819      0.142958  \n",
        "21         Lakeview Public Schools             2819      0.106066  \n",
        "22         Lakeview Public Schools             2819      0.300461  \n",
        "23         Lakeview Public Schools             2819      0.468961  \n",
        "24         Lakeview Public Schools             2819      0.107840  \n",
        "25         Lakeview Public Schools             2819      0.120255  \n",
        "26         Lakeview Public Schools             2819      0.014189  \n",
        "27         Lakeview Public Schools             2819      0.091167  \n",
        "28              Anchor Bay Schools             6966      0.077519  \n",
        "29              Anchor Bay Schools             6966      0.132788  \n",
        "...                            ...              ...           ...  \n",
        "1546   Southgate Community Schools             4827      0.064636  \n",
        "1547   Southgate Community Schools             4827      0.054278  \n",
        "1548   Southgate Community Schools             4827      0.064844  \n",
        "1549   Southgate Community Schools             4827      0.054278  \n",
        "1550   Southgate Community Schools             4827      0.140460  \n",
        "1551        Inkster Public Schools             2290      0.219214  \n",
        "1552        Inkster Public Schools             2290      0.624891  \n",
        "1553        Inkster Public Schools             2290      0.242795  \n",
        "1554        Inkster Public Schools             2290      0.200000  \n",
        "1555     Romulus Community Schools             4585      0.160305  \n",
        "1556     Romulus Community Schools             4585      0.071756  \n",
        "1557     Romulus Community Schools             4585      0.241439  \n",
        "1558     Romulus Community Schools             4585      0.167503  \n",
        "1559     Romulus Community Schools             4585      0.091821  \n",
        "1560     Romulus Community Schools             4585      0.040131  \n",
        "1561     Romulus Community Schools             4585      0.082443  \n",
        "1562     Romulus Community Schools             4585      0.086805  \n",
        "1563     Romulus Community Schools             4585      0.005889  \n",
        "1564     Romulus Community Schools             4585      0.005889  \n",
        "1565         South Redford Schools             4082      0.078393  \n",
        "1566         South Redford Schools             4082      0.067124  \n",
        "1567         South Redford Schools             4082      0.000245  \n",
        "1568         South Redford Schools             4082      0.109505  \n",
        "1569         South Redford Schools             4082      0.182019  \n",
        "1570         South Redford Schools             4082      0.263841  \n",
        "1571         South Redford Schools             4082      0.074718  \n",
        "1572         South Redford Schools             4082      0.084027  \n",
        "1573         South Redford Schools             4082      0.049731  \n",
        "1574         South Redford Schools             4082      0.008819  \n",
        "1575         South Redford Schools             4082      0.000000  \n",
        "\n",
        "[1576 rows x 8 columns]\n"
       ]
      }
     ],
     "prompt_number": 39
    },
    {
     "cell_type": "code",
     "collapsed": false,
     "input": [
      "enroll_ratios['enrolled'] = enroll_ratios.enroll_ratio*enroll_ratios.children\n",
      "enrolled = enroll_ratios.groupby('zone_id').enrolled.sum()"
     ],
     "language": "python",
     "metadata": {},
     "outputs": [],
     "prompt_number": 43
    },
    {
     "cell_type": "code",
     "collapsed": false,
     "input": [
      "enrolled"
     ],
     "language": "python",
     "metadata": {},
     "outputs": [
      {
       "metadata": {},
       "output_type": "pyout",
       "prompt_number": 44,
       "text": [
        "zone_id\n",
        "1104        672.804140\n",
        "1112        516.533989\n",
        "1114        207.736469\n",
        "1122        396.757996\n",
        "1212        576.421986\n",
        "1221       1342.801097\n",
        "1231        401.436764\n",
        "1302       1281.977372\n",
        "1313          6.555969\n",
        "1401          0.000000\n",
        "1402        334.062686\n",
        "1421        502.497685\n",
        "1422        591.393888\n",
        "1501       1011.545593\n",
        "1511        447.288456\n",
        "...\n",
        "70405       565.753847\n",
        "70522       716.449953\n",
        "70603      1798.204299\n",
        "71002       245.717359\n",
        "71003      1662.145931\n",
        "71112       426.451611\n",
        "72012      4142.735671\n",
        "72021       130.585118\n",
        "72022       727.986312\n",
        "73000       894.527125\n",
        "73021      4995.478410\n",
        "73022       506.277501\n",
        "73031       543.549467\n",
        "73201      3077.536136\n",
        "73301        27.734807\n",
        "Name: enrolled, Length: 1085, dtype: float64"
       ]
      }
     ],
     "prompt_number": 44
    },
    {
     "cell_type": "code",
     "collapsed": false,
     "input": [],
     "language": "python",
     "metadata": {},
     "outputs": [],
     "prompt_number": 20
    },
    {
     "cell_type": "code",
     "collapsed": false,
     "input": [
      "dset.households.persons"
     ],
     "language": "python",
     "metadata": {},
     "outputs": [
      {
       "metadata": {},
       "output_type": "pyout",
       "prompt_number": 15,
       "text": [
        "1116651    1\n",
        "1050163    1\n",
        "1274626    1\n",
        "1020390    3\n",
        "1153212    1\n",
        "1252211    1\n",
        "1179101    1\n",
        "1269646    5\n",
        "1213930    3\n",
        "1116270    2\n",
        "1207738    4\n",
        "1446656    6\n",
        "1024636    2\n",
        "1308308    2\n",
        "1108740    1\n",
        "...\n",
        "8434388    4\n",
        "8434389    4\n",
        "8434390    1\n",
        "8434391    1\n",
        "8434392    2\n",
        "8434393    2\n",
        "8434394    3\n",
        "8434395    4\n",
        "8434396    3\n",
        "8434397    3\n",
        "8434398    1\n",
        "8434399    1\n",
        "8434400    1\n",
        "8434401    1\n",
        "8434402    2\n",
        "Name: persons, Length: 1853537, dtype: float64"
       ]
      }
     ],
     "prompt_number": 15
    },
    {
     "cell_type": "code",
     "collapsed": true,
     "input": [
      "import os\n",
      "dset.save_output(os.path.join(misc.runs_dir(), \"run%d.h5\" % runnum))"
     ],
     "language": "python",
     "metadata": {},
     "outputs": [
      {
       "output_type": "stream",
       "stream": "stdout",
       "text": [
        "Writing travel_data to disk\n",
        "Writing zones to disk"
       ]
      },
      {
       "output_type": "stream",
       "stream": "stdout",
       "text": [
        "\n",
        "Writing buildings to disk"
       ]
      },
      {
       "output_type": "stream",
       "stream": "stdout",
       "text": [
        "\n",
        "Writing jobs to disk"
       ]
      },
      {
       "output_type": "stream",
       "stream": "stdout",
       "text": [
        "\n",
        "Writing annual_employment_control_totals to disk"
       ]
      },
      {
       "output_type": "stream",
       "stream": "stdout",
       "text": [
        "\n",
        "Writing nodes_prices to disk\n",
        "Writing feasibility to disk"
       ]
      },
      {
       "output_type": "stream",
       "stream": "stdout",
       "text": [
        "\n",
        "Writing annual_relocation_rates_for_jobs to disk\n",
        "Writing households to disk"
       ]
      },
      {
       "output_type": "stream",
       "stream": "stdout",
       "text": [
        "\n",
        "Writing persons to disk"
       ]
      },
      {
       "output_type": "stream",
       "stream": "stdout",
       "text": [
        "\n",
        "Writing annual_household_control_totals to disk"
       ]
      },
      {
       "output_type": "stream",
       "stream": "stdout",
       "text": [
        "\n",
        "Writing building_sqft_per_job to disk\n",
        "Writing annual_relocation_rates_for_households to disk"
       ]
      },
      {
       "output_type": "stream",
       "stream": "stdout",
       "text": [
        "\n",
        "Writing nodes to disk\n",
        "Writing cities to disk"
       ]
      },
      {
       "output_type": "stream",
       "stream": "stdout",
       "text": [
        "\n",
        "Writing parcels to disk"
       ]
      },
      {
       "output_type": "stream",
       "stream": "stdout",
       "text": [
        "\n"
       ]
      }
     ],
     "prompt_number": 6
    }
   ],
   "metadata": {}
  }
 ]
}