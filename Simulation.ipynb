{
 "cells": [
  {
   "cell_type": "code",
   "execution_count": 1,
   "metadata": {
    "collapsed": false
   },
   "outputs": [],
   "source": [
    "%load_ext autoreload\n",
    "%autoreload 2\n",
    "import models, utils\n",
    "#import urbansim.sim.simulation as sim\n",
    "import orca"
   ]
  },
  {
   "cell_type": "code",
   "execution_count": 2,
   "metadata": {
    "collapsed": false
   },
   "outputs": [],
   "source": [
    "from urbansim.utils import misc, networks"
   ]
  },
  {
   "cell_type": "code",
   "execution_count": 3,
   "metadata": {
    "collapsed": false
   },
   "outputs": [
    {
     "name": "stderr",
     "output_type": "stream",
     "text": [
      "dataset.py:34: SettingWithCopyWarning: \n",
      "A value is trying to be set on a copy of a slice from a DataFrame\n",
      "\n",
      "See the caveats in the documentation: http://pandas.pydata.org/pandas-docs/stable/indexing.html#indexing-view-versus-copy\n",
      "  buildings.sqft_price_nonres[buildings.sqft_price_nonres==np.inf] = 0\n",
      "dataset.py:36: SettingWithCopyWarning: \n",
      "A value is trying to be set on a copy of a slice from a DataFrame\n",
      "\n",
      "See the caveats in the documentation: http://pandas.pydata.org/pandas-docs/stable/indexing.html#indexing-view-versus-copy\n",
      "  buildings.sqft_price_res[buildings.sqft_price_res==np.inf] = 0\n"
     ]
    },
    {
     "name": "stdout",
     "output_type": "stream",
     "text": [
      "Running step 'build_networks'\n",
      "Time to execute step 'build_networks': 33.79 s\n",
      "Total time to execute iteration 1 with iteration value None: 33.79 s\n"
     ]
    }
   ],
   "source": [
    "orca.run(['build_networks'])"
   ]
  },
  {
   "cell_type": "code",
   "execution_count": 4,
   "metadata": {
    "collapsed": false
   },
   "outputs": [
    {
     "name": "stdout",
     "output_type": "stream",
     "text": [
      "Running iteration 1 with iteration value 2011\n",
      "Running step 'travel_model'\n",
      "Time to execute step 'travel_model': 5.79 s\n",
      "Total time to execute iteration 1 with iteration value 2011: 5.79 s\n"
     ]
    }
   ],
   "source": [
    "orca.run([\n",
    "#     \"clear_cache\",            # recompute variables every year\n",
    "#     \"neighborhood_vars\",      # neighborhood variables\n",
    "#     \"households_transition\",  # households transition\n",
    "#     \"households_relocation\",  # households relocation model\n",
    "#     \"jobs_transition\",        # jobs transition\n",
    "#     \"jobs_relocation\",        # jobs relocation model\n",
    "#     \"scheduled_development_events\",\n",
    "#     \"nrh_simulate\",           # non-residential rent hedonic\n",
    "#     \"rsh_simulate\",           # residential sales hedonic\n",
    "#     \"hlcm_simulate\",          # households location choice\n",
    "#     \"elcm_simulate\",          # employment location choice\n",
    "#     \"price_vars\",             # compute average price measures\n",
    "#     \"feasibility\",            # compute development feasibility\n",
    "#     \"residential_developer\",   # build actual buildings,\n",
    "#     \"non_residential_developer\",   # build actual buildings\n",
    "#     \"government_jobs_scaling_model\",\n",
    "#     \"refiner\",\n",
    "#     \"gq_model\",\n",
    "     \"travel_model\",\n",
    "], iter_vars=[2011], data_out=utils.get_run_filename(), out_interval=1)"
   ]
  },
  {
   "cell_type": "code",
   "execution_count": null,
   "metadata": {
    "collapsed": true
   },
   "outputs": [],
   "source": []
  }
 ],
 "metadata": {
  "kernelspec": {
   "display_name": "Python 2",
   "language": "python",
   "name": "python2"
  },
  "language_info": {
   "codemirror_mode": {
    "name": "ipython",
    "version": 2
   },
   "file_extension": ".py",
   "mimetype": "text/x-python",
   "name": "python",
   "nbconvert_exporter": "python",
   "pygments_lexer": "ipython2",
   "version": "2.7.11"
  }
 },
 "nbformat": 4,
 "nbformat_minor": 0
}
