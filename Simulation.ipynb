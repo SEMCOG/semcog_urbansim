{
 "metadata": {
  "name": "",
  "signature": "sha256:4dd71af2a6b888b92c7297269df25a28e06d663948533d37aa76db14920a4960"
 },
 "nbformat": 3,
 "nbformat_minor": 0,
 "worksheets": [
  {
   "cells": [
    {
     "cell_type": "code",
     "collapsed": true,
     "input": [
      "%load_ext autoreload\n",
      "%autoreload 2\n",
      "import models, utils\n",
      "import urbansim.sim.simulation as sim"
     ],
     "language": "python",
     "metadata": {},
     "outputs": [],
     "prompt_number": 1
    },
    {
     "cell_type": "code",
     "collapsed": false,
     "input": [
      "sim.run(['build_networks'])"
     ],
     "language": "python",
     "metadata": {},
     "outputs": [
      {
       "output_type": "stream",
       "stream": "stdout",
       "text": [
        "Running model 'build_networks'\n",
        "Time to execute model 'build_networks': 21.68s"
       ]
      },
      {
       "output_type": "stream",
       "stream": "stdout",
       "text": [
        "\n",
        "Total time to execute: 21.68s\n"
       ]
      }
     ],
     "prompt_number": 2
    },
    {
     "cell_type": "code",
     "collapsed": false,
     "input": [
      "sim.run([\n",
      "    \"clear_cache\",            # recompute variables every year\n",
      "    \"neighborhood_vars\",      # neighborhood variables\n",
      "    \"households_transition\",  # households transition\n",
      "    \"households_relocation\",  # households relocation model\n",
      "    \"jobs_transition\",        # jobs transition\n",
      "    \"jobs_relocation\",        # jobs relocation model\n",
      "    \"scheduled_development_events\",\n",
      "    \"nrh_simulate\",           # non-residential rent hedonic\n",
      "    \"rsh_simulate\",           # residential sales hedonic\n",
      "    \"hlcm_simulate\",          # households location choice\n",
      "    \"elcm_simulate\",          # employment location choice\n",
      "    \"price_vars\",             # compute average price measures\n",
      "    \"feasibility\",            # compute development feasibility\n",
      "    \"residential_developer\",   # build actual buildings,\n",
      "    \"non_residential_developer\",   # build actual buildings\n",
      "    \"government_jobs_scaling_model\",\n",
      "    \"refiner\",\n",
      "    \"gq_model\",\n",
      "    \"travel_model\",\n",
      "], years=range(2012, 2041), data_out=utils.get_run_filename(), out_interval=7)"
     ],
     "language": "python",
     "metadata": {},
     "outputs": [
      {
       "output_type": "stream",
       "stream": "stdout",
       "text": [
        "Running year 2012\n",
        "Running model 'clear_cache'\n",
        "Time to execute model 'clear_cache': 0.04s\n",
        "Running model 'neighborhood_vars'\n",
        "Computing accessibility variables\n",
        "Computing sum_residential_units"
       ]
      },
      {
       "output_type": "stream",
       "stream": "stdout",
       "text": [
        "\n",
        "Computing sum_nonresidential_units"
       ]
      },
      {
       "output_type": "stream",
       "stream": "stdout",
       "text": [
        "\n",
        "Computing ave_unit_sqft"
       ]
      },
      {
       "output_type": "stream",
       "stream": "stdout",
       "text": [
        "\n",
        "Computing ave_lot_sqft"
       ]
      },
      {
       "output_type": "stream",
       "stream": "stdout",
       "text": [
        "\n",
        "Computing population"
       ]
      },
      {
       "output_type": "stream",
       "stream": "stdout",
       "text": [
        "\n",
        "Computing poor"
       ]
      },
      {
       "output_type": "stream",
       "stream": "stdout",
       "text": [
        "\n",
        "Computing sfdu"
       ]
      },
      {
       "output_type": "stream",
       "stream": "stdout",
       "text": [
        "\n",
        "Computing hhsize"
       ]
      },
      {
       "output_type": "stream",
       "stream": "stdout",
       "text": [
        "\n",
        "Computing jobs"
       ]
      },
      {
       "output_type": "stream",
       "stream": "stdout",
       "text": [
        "\n",
        "Computing ave_income"
       ]
      },
      {
       "output_type": "stream",
       "stream": "stdout",
       "text": [
        "\n",
        "Time to execute model 'neighborhood_vars': 25.68s"
       ]
      },
      {
       "output_type": "stream",
       "stream": "stdout",
       "text": [
        "\n",
        "Running model 'households_transition'\n",
        "Time to execute model 'households_transition': 210.28s"
       ]
      },
      {
       "output_type": "stream",
       "stream": "stdout",
       "text": [
        "\n",
        "Running model 'households_relocation'\n",
        "Total currently unplaced: 107272"
       ]
      },
      {
       "output_type": "stream",
       "stream": "stdout",
       "text": [
        "\n",
        "Time to execute model 'households_relocation': 1.86s\n",
        "Running model 'jobs_transition'\n",
        "Time to execute model 'jobs_transition': 7.38s"
       ]
      },
      {
       "output_type": "stream",
       "stream": "stdout",
       "text": [
        "\n",
        "Running model 'jobs_relocation'\n",
        "Total currently unplaced: 44061"
       ]
      },
      {
       "output_type": "stream",
       "stream": "stdout",
       "text": [
        "\n",
        "Time to execute model 'jobs_relocation': 3.71s\n",
        "Running model 'scheduled_development_events'\n",
        "Time to execute model 'scheduled_development_events': 0.38s"
       ]
      },
      {
       "output_type": "stream",
       "stream": "stdout",
       "text": [
        "\n",
        "Running model 'nrh_simulate'\n",
        "Dropped 33267 rows because they contained nans"
       ]
      },
      {
       "output_type": "stream",
       "stream": "stdout",
       "text": [
        "\n",
        "count    1.114670e+05\n",
        "mean     2.295526e+01\n",
        "std      9.354050e+01\n",
        "min      8.539564e-10\n",
        "25%      1.106289e+01\n",
        "50%      1.909271e+01\n",
        "75%      2.792247e+01\n",
        "max      7.614159e+03\n",
        "dtype: float64"
       ]
      },
      {
       "output_type": "stream",
       "stream": "stdout",
       "text": [
        "\n",
        "Time to execute model 'nrh_simulate': 47.82s\n",
        "Running model 'rsh_simulate'\n",
        "Dropped 33267 rows because they contained nans"
       ]
      },
      {
       "output_type": "stream",
       "stream": "stdout",
       "text": [
        "\n",
        "count    1792405.000000\n",
        "mean          34.680539\n",
        "std           63.546801\n",
        "min            0.000291\n",
        "25%           28.982499\n",
        "50%           33.433065\n",
        "75%           37.588336\n",
        "max         6590.469549\n",
        "dtype: float64"
       ]
      },
      {
       "output_type": "stream",
       "stream": "stdout",
       "text": [
        "\n",
        "Time to execute model 'rsh_simulate': 5.87s"
       ]
      },
      {
       "output_type": "stream",
       "stream": "stdout",
       "text": [
        "\n",
        "Running model 'hlcm_simulate'\n",
        "Dropped 33267 rows because they contained nans"
       ]
      },
      {
       "output_type": "stream",
       "stream": "stdout",
       "text": [
        "\n",
        "There are 2196570 total available units\n",
        "    and 1848504 total choosers\n",
        "    but there are 21752 overfull buildings"
       ]
      },
      {
       "output_type": "stream",
       "stream": "stdout",
       "text": [
        "\n",
        "    for a total of 499940 empty units"
       ]
      },
      {
       "output_type": "stream",
       "stream": "stdout",
       "text": [
        "\n",
        "    in 358338 buildings total in the region\n",
        "Assigned 107272 choosers to new units"
       ]
      },
      {
       "output_type": "stream",
       "stream": "stdout",
       "text": [
        "\n",
        "Total currently unplaced: 0"
       ]
      },
      {
       "output_type": "stream",
       "stream": "stdout",
       "text": [
        "\n",
        "Time to execute model 'hlcm_simulate': 13.53s\n",
        "Running model 'elcm_simulate'\n",
        "Dropped 954 rows because they contained nans"
       ]
      },
      {
       "output_type": "stream",
       "stream": "stdout",
       "text": [
        "\n",
        "There are 553837 total available units\n",
        "    and 402865 total choosers\n",
        "    but there are 7103 overfull buildings\n",
        "    for a total of 368484 empty units"
       ]
      },
      {
       "output_type": "stream",
       "stream": "stdout",
       "text": [
        "\n",
        "    in 19842 buildings total in the region\n",
        "Assigned 7864 choosers to new units"
       ]
      },
      {
       "output_type": "stream",
       "stream": "stdout",
       "text": [
        "\n",
        "Total currently unplaced: 0"
       ]
      },
      {
       "output_type": "stream",
       "stream": "stdout",
       "text": [
        "\n",
        "Dropped 25780 rows because they contained nans"
       ]
      },
      {
       "output_type": "stream",
       "stream": "stdout",
       "text": [
        "\n",
        "There are 1605629 total available units\n",
        "    and 236882 total choosers\n",
        "    but there are 3057 overfull buildings\n",
        "    for a total of 1508657 empty units"
       ]
      },
      {
       "output_type": "stream",
       "stream": "stdout",
       "text": [
        "\n",
        "    in 25304 buildings total in the region\n",
        "Assigned 5640 choosers to new units"
       ]
      },
      {
       "output_type": "stream",
       "stream": "stdout",
       "text": [
        "\n",
        "Total currently unplaced: 0"
       ]
      },
      {
       "output_type": "stream",
       "stream": "stdout",
       "text": [
        "\n",
        "There are 93493 total available units"
       ]
      },
      {
       "output_type": "stream",
       "stream": "stdout",
       "text": [
        "\n",
        "    and 43359 total choosers\n",
        "    but there are 1429 overfull buildings\n",
        "    for a total of 67723 empty units"
       ]
      },
      {
       "output_type": "stream",
       "stream": "stdout",
       "text": [
        "\n",
        "    in 15326 buildings total in the region\n",
        "Assigned 1282 choosers to new units"
       ]
      },
      {
       "output_type": "stream",
       "stream": "stdout",
       "text": [
        "\n",
        "Total currently unplaced: 0"
       ]
      },
      {
       "output_type": "stream",
       "stream": "stdout",
       "text": [
        "\n",
        "Dropped 848 rows because they contained nans"
       ]
      },
      {
       "output_type": "stream",
       "stream": "stdout",
       "text": [
        "\n",
        "There are 443784 total available units\n",
        "    and 274053 total choosers\n",
        "    but there are 5763 overfull buildings\n",
        "    for a total of 319085 empty units"
       ]
      },
      {
       "output_type": "stream",
       "stream": "stdout",
       "text": [
        "\n",
        "    in 23537 buildings total in the region\n",
        "Assigned 6610 choosers to new units"
       ]
      },
      {
       "output_type": "stream",
       "stream": "stdout",
       "text": [
        "\n",
        "Total currently unplaced: 0"
       ]
      },
      {
       "output_type": "stream",
       "stream": "stdout",
       "text": [
        "\n",
        "Dropped 470 rows because they contained nans"
       ]
      },
      {
       "output_type": "stream",
       "stream": "stdout",
       "text": [
        "\n",
        "There are 66088 total available units\n",
        "    and 37131 total choosers\n",
        "    but there are 1089 overfull buildings\n",
        "    for a total of 48152 empty units\n",
        "    in 6740 buildings total in the region\n",
        "Assigned 843 choosers to new units"
       ]
      },
      {
       "output_type": "stream",
       "stream": "stdout",
       "text": [
        "\n",
        "Total currently unplaced: 0"
       ]
      },
      {
       "output_type": "stream",
       "stream": "stdout",
       "text": [
        "\n",
        "Dropped 1170 rows because they contained nans"
       ]
      },
      {
       "output_type": "stream",
       "stream": "stdout",
       "text": [
        "\n",
        "There are 797503 total available units\n",
        "    and 611697 total choosers\n",
        "    but there are 12010 overfull buildings\n",
        "    for a total of 526873 empty units"
       ]
      },
      {
       "output_type": "stream",
       "stream": "stdout",
       "text": [
        "\n",
        "    in 32026 buildings total in the region\n",
        "Assigned 22477 choosers to new units"
       ]
      },
      {
       "output_type": "stream",
       "stream": "stdout",
       "text": [
        "\n",
        "Total currently unplaced: 0"
       ]
      },
      {
       "output_type": "stream",
       "stream": "stdout",
       "text": [
        "\n",
        "Dropped 119 rows because they contained nans"
       ]
      },
      {
       "output_type": "stream",
       "stream": "stdout",
       "text": [
        "\n",
        "There are 95168 total available units\n",
        "    and 42018 total choosers\n",
        "    but there are 1129 overfull buildings\n",
        "    for a total of 71708 empty units"
       ]
      },
      {
       "output_type": "stream",
       "stream": "stdout",
       "text": [
        "\n",
        "    in 17499 buildings total in the region\n",
        "Assigned 1282 choosers to new units"
       ]
      },
      {
       "output_type": "stream",
       "stream": "stdout",
       "text": [
        "\n",
        "Total currently unplaced: 0"
       ]
      },
      {
       "output_type": "stream",
       "stream": "stdout",
       "text": [
        "\n",
        "Dropped 3926 rows because they contained nans"
       ]
      },
      {
       "output_type": "stream",
       "stream": "stdout",
       "text": [
        "\n",
        "There are 240940 total available units\n",
        "    and 180362 total choosers\n",
        "    but there are 3292 overfull buildings\n",
        "    for a total of 182861 empty units"
       ]
      },
      {
       "output_type": "stream",
       "stream": "stdout",
       "text": [
        "\n",
        "    in 18733 buildings total in the region\n",
        "Assigned 3139 choosers to new units"
       ]
      },
      {
       "output_type": "stream",
       "stream": "stdout",
       "text": [
        "\n",
        "Total currently unplaced: 0"
       ]
      },
      {
       "output_type": "stream",
       "stream": "stdout",
       "text": [
        "\n",
        "Time to execute model 'elcm_simulate': 59.29s"
       ]
      },
      {
       "output_type": "stream",
       "stream": "stdout",
       "text": [
        "\n",
        "Running model 'price_vars'\n",
        "Computing accessibility variables\n",
        "Computing residential\n",
        "Computing retail"
       ]
      },
      {
       "output_type": "stream",
       "stream": "stdout",
       "text": [
        "\n",
        "Computing office"
       ]
      },
      {
       "output_type": "stream",
       "stream": "stdout",
       "text": [
        "\n",
        "Computing industrial"
       ]
      },
      {
       "output_type": "stream",
       "stream": "stdout",
       "text": [
        "\n",
        "Time to execute model 'price_vars': 2.76s"
       ]
      },
      {
       "output_type": "stream",
       "stream": "stdout",
       "text": [
        "\n",
        "Running model 'feasibility'\n",
        "Describe of the yearly rent by use"
       ]
      },
      {
       "output_type": "stream",
       "stream": "stdout",
       "text": [
        "\n",
        "               retail      industrial          office     residential\n",
        "count  1837676.000000  1837676.000000  1837676.000000  1837676.000000\n",
        "mean        23.393569        8.330178       22.079883        1.437554\n",
        "std         11.897139        7.554595       15.259779        0.839663\n",
        "min          0.000000        0.000000        0.000000        0.000000\n",
        "25%         13.759050        0.000000       18.314867        1.148880\n",
        "50%         25.566736        7.228496       25.043756        1.429500\n",
        "75%         31.249269       13.826059       29.345516        1.665379\n",
        "max        199.468033      125.379257     1060.776001       90.982532"
       ]
      },
      {
       "output_type": "stream",
       "stream": "stdout",
       "text": [
        "\n",
        "Computing feasibility for form mixedoffice\n",
        "Computing feasibility for form industrial"
       ]
      },
      {
       "output_type": "stream",
       "stream": "stdout",
       "text": [
        "\n",
        "Computing feasibility for form office"
       ]
      },
      {
       "output_type": "stream",
       "stream": "stdout",
       "text": [
        "\n",
        "Computing feasibility for form residential"
       ]
      },
      {
       "output_type": "stream",
       "stream": "stdout",
       "text": [
        "\n",
        "Computing feasibility for form mixedresidential"
       ]
      },
      {
       "output_type": "stream",
       "stream": "stdout",
       "text": [
        "\n",
        "Computing feasibility for form retail"
       ]
      },
      {
       "output_type": "stream",
       "stream": "stdout",
       "text": [
        "\n",
        "Time to execute model 'feasibility': 40.12s"
       ]
      },
      {
       "output_type": "stream",
       "stream": "stdout",
       "text": [
        "\n",
        "Running model 'residential_developer'\n",
        "Number of agents: 1,848,504"
       ]
      },
      {
       "output_type": "stream",
       "stream": "stdout",
       "text": [
        "\n",
        "Number of agent spaces: 2,224,980\n",
        "Current vacancy = 0.17\n",
        "Target vacancy = 0.20, target of new units = 85,650\n",
        "Sum of net units that are profitable: 110,825"
       ]
      },
      {
       "output_type": "stream",
       "stream": "stdout",
       "text": [
        "\n",
        "Adding 833 buildings with 86,347.0 residential_units"
       ]
      },
      {
       "output_type": "stream",
       "stream": "stdout",
       "text": [
        "\n",
        "Time to execute model 'residential_developer': 5.64s"
       ]
      },
      {
       "output_type": "stream",
       "stream": "stdout",
       "text": [
        "\n",
        "Running model 'non_residential_developer'\n",
        "Number of agents: 1,828,367"
       ]
      },
      {
       "output_type": "stream",
       "stream": "stdout",
       "text": [
        "\n",
        "Number of agent spaces: 4,296,792\n",
        "Current vacancy = 0.57\n",
        "Target vacancy = 0.60, target of new units = 274,125\n",
        "Sum of net units that are profitable: 117,718,788"
       ]
      },
      {
       "output_type": "stream",
       "stream": "stdout",
       "text": [
        "\n",
        "Adding 1072 buildings with 277,938.0 job_spaces"
       ]
      },
      {
       "output_type": "stream",
       "stream": "stdout",
       "text": [
        "\n",
        "Time to execute model 'non_residential_developer': 41.46s"
       ]
      },
      {
       "output_type": "stream",
       "stream": "stdout",
       "text": [
        "\n",
        "Running model 'government_jobs_scaling_model'\n",
        "Time to execute model 'government_jobs_scaling_model': 0.07s"
       ]
      },
      {
       "output_type": "stream",
       "stream": "stdout",
       "text": [
        "\n",
        "Running model 'refiner'\n",
        "No building in parcel 2357424."
       ]
      },
      {
       "output_type": "stream",
       "stream": "stdout",
       "text": [
        "\n",
        "Time to execute model 'refiner': 76.32s"
       ]
      },
      {
       "output_type": "stream",
       "stream": "stdout",
       "text": [
        "\n",
        "Running model 'gq_model'\n",
        "Time to execute model 'gq_model': 0.01s\n",
        "Running model 'travel_model'\n",
        "Time to execute model 'travel_model': 0.00s\n",
        "Total time to execute year 2012: 542.23s\n"
       ]
      },
      {
       "output_type": "stream",
       "stream": "stderr",
       "text": [
        "c:\\urbansim\\urbansim\\sim\\simulation.py:236: SettingWithCopyWarning: A value is trying to be set on a copy of a slice from a DataFrame\n",
        "  self._frame[column_name].loc[series.index] = series\n"
       ]
      }
     ],
     "prompt_number": 3
    }
   ],
   "metadata": {}
  }
 ]
}