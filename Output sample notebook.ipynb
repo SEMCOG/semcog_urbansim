{
 "metadata": {
  "name": "",
  "signature": "sha256:09acced46cf52ab083296de939a647197cd63c618fa59190afba2f1d4c7f6086"
 },
 "nbformat": 3,
 "nbformat_minor": 0,
 "worksheets": [
  {
   "cells": [
    {
     "cell_type": "code",
     "collapsed": false,
     "input": [
      "import models\n",
      "import dataset\n",
      "import pandas as pd\n",
      "import folium  # make sure it is synthicity/folium\n",
      "\n",
      "folium.initialize_notebook()"
     ],
     "language": "python",
     "metadata": {},
     "outputs": [
      {
       "html": [
        "<link rel=\"stylesheet\" href=\"http://cdn.leafletjs.com/leaflet-0.7.2/leaflet.css\" />\n",
        "<style>\n",
        "    .leaflet-popup-content {\n",
        "        color: black !important;\n",
        "    }\n",
        "\n",
        "    .leaflet-control-zoom-in {\n",
        "        text-decoration: none !important;\n",
        "    }\n",
        "\n",
        "    .leaflet-control-zoom-out {\n",
        "        text-decoration: none !important;\n",
        "    }\n",
        "</style>"
       ],
       "metadata": {},
       "output_type": "display_data",
       "text": [
        "<IPython.core.display.HTML at 0x4a3ca90>"
       ]
      },
      {
       "html": [
        "<script>\n",
        "\n",
        "  var folium_event = new CustomEvent(\n",
        "    \"folium_libs_loaded\",\n",
        "    {bubbles: true, cancelable: true}\n",
        "  );\n",
        "\n",
        "  var load_folium_charts = function(){\n",
        "    window.dispatchEvent(folium_event);\n",
        "  };\n",
        "\n",
        " var load_folium_libs = function(){\n",
        "    console.log('Loading all Folium libraries...')\n",
        "    $.getScript(\"http://cdn.leafletjs.com/leaflet-0.7.2/leaflet.js\", function(){\n",
        "      $.getScript('https://wrobstory.github.io/leaflet-dvf/leaflet-dvf.markers.min.js', function(){\n",
        "          if (window['vg'] === undefined){\n",
        "            $.getScript(\"http://wrobstory.github.io/vega/vega.v1.3.3.js\", function(){\n",
        "              load_folium_charts();\n",
        "          });\n",
        "        } else {\n",
        "          load_folium_charts();\n",
        "        }\n",
        "      });\n",
        "    });\n",
        "  };\n",
        "\n",
        " if(typeof define === \"function\" && define.amd){\n",
        "      var load_paths = {\n",
        "        paths: {\n",
        "          topojson:'http://d3js.org/topojson.v1.min',\n",
        "          queue: 'http://d3js.org/queue.v1.min',\n",
        "          d3: 'http://d3js.org/d3.v3.min'\n",
        "        }\n",
        "      };\n",
        "      var libs = ['d3', 'queue', 'topojson'];\n",
        "      for (var i=0; i < libs.length; i++){\n",
        "        lib = libs[i]\n",
        "        if (window[lib] !== undefined){\n",
        "          delete load_paths.paths[lib]\n",
        "        };\n",
        "      };\n",
        "      if (Object.keys(load_paths.paths).length != 0){\n",
        "        require.config(load_paths);\n",
        "        require([\"queue\"], function(queue){\n",
        "          window.queue = queue;\n",
        "        });\n",
        "        require([\"d3\"], function(d3){\n",
        "            console.log('Loading from require.js...')\n",
        "            window.d3 = d3;\n",
        "            require([\"topojson\"], function(topojson){\n",
        "                window.topojson = topojson;\n",
        "                load_folium_libs();\n",
        "            });\n",
        "        });\n",
        "      } else {\n",
        "        load_folium_libs();\n",
        "      }\n",
        "\n",
        " }else{\n",
        "      console.log('Require.js not found!');\n",
        "      throw \"Require.js not found!\"\n",
        " };\n",
        "\n",
        "</script>"
       ],
       "metadata": {},
       "output_type": "display_data",
       "text": [
        "<IPython.core.display.HTML at 0x4a3cad0>"
       ]
      }
     ],
     "prompt_number": 2
    },
    {
     "cell_type": "code",
     "collapsed": false,
     "input": [
      "# make sure BASE_H5 has unit_price_res and all other variables to compare\n",
      "BASE_H5 = \"runs/run11_2012.h5\"\n",
      "SIM_H5 = \"runs/run13_2016.h5\""
     ],
     "language": "python",
     "metadata": {},
     "outputs": [],
     "prompt_number": 3
    },
    {
     "cell_type": "code",
     "collapsed": false,
     "input": [
      "base_dset = dataset.SemcogDataset(BASE_H5)\n",
      "sim_dset = dataset.SemcogDataset(SIM_H5)"
     ],
     "language": "python",
     "metadata": {},
     "outputs": [
      {
       "output_type": "stream",
       "stream": "stdout",
       "text": [
        "Fetching cities\n",
        "Fetching cities"
       ]
      },
      {
       "output_type": "stream",
       "stream": "stdout",
       "text": [
        "\n"
       ]
      }
     ],
     "prompt_number": 4
    },
    {
     "cell_type": "code",
     "collapsed": false,
     "input": [
      "base_blds = base_dset.buildings\n",
      "sim_blds = sim_dset.buildings\n",
      "\n",
      "base_blds = pd.merge(base_blds, base_dset.parcels, left_on='parcel_id', right_index=True)"
     ],
     "language": "python",
     "metadata": {},
     "outputs": [
      {
       "output_type": "stream",
       "stream": "stdout",
       "text": [
        "Fetching buildings\n",
        "Fetching buildings"
       ]
      },
      {
       "output_type": "stream",
       "stream": "stdout",
       "text": [
        "\n",
        "Fetching parcels"
       ]
      },
      {
       "output_type": "stream",
       "stream": "stdout",
       "text": [
        "\n"
       ]
      }
     ],
     "prompt_number": 5
    },
    {
     "cell_type": "code",
     "collapsed": false,
     "input": [
      "diff = pd.DataFrame()\n",
      "diff['unit_price_res'] = ((sim_blds.unit_price_res / base_blds.unit_price_res) - 1) * 100\n",
      "diff['unit_price_nonres'] = ((sim_blds.unit_price_nonres / base_blds.unit_price_nonres) - 1) * 100\n",
      "diff['zone_id'] = base_blds.zone_id\n",
      "\n",
      "diff = diff.groupby('zone_id').mean()\n",
      "diff['zone_id2'] = [int(x) for x in diff.index]\n",
      "\n",
      "diff.unit_price_res = diff.unit_price_res.astype(float).fillna(0)\n",
      "diff.unit_price_nonres = diff.unit_price_nonres.astype(float).fillna(0)"
     ],
     "language": "python",
     "metadata": {},
     "outputs": [],
     "prompt_number": 6
    },
    {
     "cell_type": "code",
     "collapsed": false,
     "input": [
      "# need to get the TAZ id\n",
      "dset = dataset.SemcogDataset('data/semcog_data.h5')\n",
      "diff = pd.merge(diff, dset.zones, left_on='zone_id2', right_index=True)"
     ],
     "language": "python",
     "metadata": {},
     "outputs": [
      {
       "output_type": "stream",
       "stream": "stdout",
       "text": [
        "Fetching cities\n",
        "Fetching zones"
       ]
      },
      {
       "output_type": "stream",
       "stream": "stdout",
       "text": [
        "\n"
       ]
      }
     ],
     "prompt_number": 7
    },
    {
     "cell_type": "code",
     "collapsed": false,
     "input": [
      "map_unit_price_res = folium.Map(location=[42.322,-83.176], zoom_start=10)\n",
      "\n",
      "# the scale should be computed according to the distribution of data\n",
      "threshold_scale = [-0.5, -0.2, 0, 0.2, 0.5]\n",
      "\n",
      "map_unit_price_res.geo_json(geo_path='data/tazs.json',\n",
      "                            data=diff,\n",
      "                            columns=['taz', 'unit_price_res'],\n",
      "                            key_on='feature.properties.TAZ',\n",
      "                            threshold_scale=threshold_scale,\n",
      "                            legend_name='mean unit_price_res percentage change',\n",
      "                            fill_color='RdYlGn')\n",
      "\n",
      "map_unit_price_res.create_map(\"map_unit_price_res.html\")\n",
      "map_unit_price_res"
     ],
     "language": "python",
     "metadata": {},
     "outputs": [
      {
       "html": [
        "<iframe class=\"folium-iframe\" src=\"files/map_unit_price_res.html\" style=\"width: 960px; height: 500px; border: none; margin-left: 75px;\" scrolling=\"no\"></iframe>"
       ],
       "metadata": {},
       "output_type": "pyout",
       "prompt_number": 10,
       "text": [
        "<folium.folium.Map at 0x652cfd0>"
       ]
      }
     ],
     "prompt_number": 10
    },
    {
     "cell_type": "heading",
     "level": 1,
     "metadata": {},
     "source": [
      "    "
     ]
    },
    {
     "cell_type": "code",
     "collapsed": false,
     "input": [
      "map_unit_price_nonres = folium.Map(location=[42.322,-83.176], zoom_start=10)\n",
      "\n",
      "threshold_scale = [-0.5, -0.2, 0, 0.2, 0.5]\n",
      "\n",
      "map_unit_price_nonres.geo_json(geo_path='data/tazs.json',\n",
      "                            data=diff,\n",
      "                            columns=['taz', 'unit_price_nonres'],\n",
      "                            key_on='feature.properties.TAZ',\n",
      "                            threshold_scale=threshold_scale,\n",
      "                            legend_name='mean unit_price_nonres percentage change',\n",
      "                            fill_color='RdYlGn')\n",
      "\n",
      "map_unit_price_nonres.create_map(\"map_unit_price_nonres.html\")\n",
      "map_unit_price_nonres"
     ],
     "language": "python",
     "metadata": {},
     "outputs": [
      {
       "html": [
        "<iframe class=\"folium-iframe\" src=\"files/map_unit_price_nonres.html\" style=\"width: 960px; height: 500px; border: none; margin-left: 75px;\" scrolling=\"no\"></iframe>"
       ],
       "metadata": {},
       "output_type": "pyout",
       "prompt_number": 11,
       "text": [
        "<folium.folium.Map at 0x4d1e990>"
       ]
      }
     ],
     "prompt_number": 11
    },
    {
     "cell_type": "code",
     "collapsed": false,
     "input": [],
     "language": "python",
     "metadata": {},
     "outputs": [],
     "prompt_number": 9
    }
   ],
   "metadata": {}
  }
 ]
}