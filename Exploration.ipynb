{
 "metadata": {
  "name": "",
  "signature": "sha256:58bf6e17ea1318a397f5a5f2119081c087acb784cbf3a3b4c90906ad23bbc412"
 },
 "nbformat": 3,
 "nbformat_minor": 0,
 "worksheets": [
  {
   "cells": [
    {
     "cell_type": "code",
     "collapsed": false,
     "input": [
      "import models\n",
      "import dataset\n",
      "import pandas as pd\n",
      "import folium  # make sure it is synthicity/folium\n",
      "\n",
      "folium.initialize_notebook()"
     ],
     "language": "python",
     "metadata": {},
     "outputs": [
      {
       "html": [
        "<link rel=\"stylesheet\" href=\"http://cdn.leafletjs.com/leaflet-0.7.2/leaflet.css\" />\n",
        "<style>\n",
        "    .leaflet-popup-content {\n",
        "        color: black !important;\n",
        "    }\n",
        "\n",
        "    .leaflet-control-zoom-in {\n",
        "        text-decoration: none !important;\n",
        "    }\n",
        "\n",
        "    .leaflet-control-zoom-out {\n",
        "        text-decoration: none !important;\n",
        "    }\n",
        "</style>"
       ],
       "metadata": {},
       "output_type": "display_data",
       "text": [
        "<IPython.core.display.HTML at 0x108e0b4d0>"
       ]
      },
      {
       "html": [
        "<script>\n",
        "\n",
        "  var folium_event = new CustomEvent(\n",
        "    \"folium_libs_loaded\",\n",
        "    {bubbles: true, cancelable: true}\n",
        "  );\n",
        "\n",
        "  var load_folium_charts = function(){\n",
        "    window.dispatchEvent(folium_event);\n",
        "  };\n",
        "\n",
        " var load_folium_libs = function(){\n",
        "    console.log('Loading all Folium libraries...')\n",
        "    $.getScript(\"http://cdn.leafletjs.com/leaflet-0.7.2/leaflet.js\", function(){\n",
        "      $.getScript('https://wrobstory.github.io/leaflet-dvf/leaflet-dvf.markers.min.js', function(){\n",
        "          if (window['vg'] === undefined){\n",
        "            $.getScript(\"http://wrobstory.github.io/vega/vega.v1.3.3.js\", function(){\n",
        "              load_folium_charts();\n",
        "          });\n",
        "        } else {\n",
        "          load_folium_charts();\n",
        "        }\n",
        "      });\n",
        "    });\n",
        "  };\n",
        "\n",
        " if(typeof define === \"function\" && define.amd){\n",
        "      var load_paths = {\n",
        "        paths: {\n",
        "          topojson:'http://d3js.org/topojson.v1.min',\n",
        "          queue: 'http://d3js.org/queue.v1.min',\n",
        "          d3: 'http://d3js.org/d3.v3.min'\n",
        "        }\n",
        "      };\n",
        "      var libs = ['d3', 'queue', 'topojson'];\n",
        "      for (var i=0; i < libs.length; i++){\n",
        "        lib = libs[i]\n",
        "        if (window[lib] !== undefined){\n",
        "          delete load_paths.paths[lib]\n",
        "        };\n",
        "      };\n",
        "      if (Object.keys(load_paths.paths).length != 0){\n",
        "        require.config(load_paths);\n",
        "        require([\"queue\"], function(queue){\n",
        "          window.queue = queue;\n",
        "        });\n",
        "        require([\"d3\"], function(d3){\n",
        "            console.log('Loading from require.js...')\n",
        "            window.d3 = d3;\n",
        "            require([\"topojson\"], function(topojson){\n",
        "                window.topojson = topojson;\n",
        "                load_folium_libs();\n",
        "            });\n",
        "        });\n",
        "      } else {\n",
        "        load_folium_libs();\n",
        "      }\n",
        "\n",
        " }else{\n",
        "      console.log('Require.js not found!');\n",
        "      throw \"Require.js not found!\"\n",
        " };\n",
        "\n",
        "</script>"
       ],
       "metadata": {},
       "output_type": "display_data",
       "text": [
        "<IPython.core.display.HTML at 0x108e0b3d0>"
       ]
      }
     ],
     "prompt_number": 1
    },
    {
     "cell_type": "code",
     "collapsed": false,
     "input": [
      "# make sure BASE_H5 has unit_price_res and all other variables to compare\n",
      "BASE_H5 = \"data/semcog_data.h5\"\n",
      "SIM_H5 = \"runs/run7.h5\"\n",
      "base_dset = dataset.SemcogDataset(BASE_H5)\n",
      "sim_dset = dataset.SemcogDataset(SIM_H5)\n",
      "base_blds = base_dset.view(\"buildings\")\n",
      "sim_blds = sim_dset.view(\"buildings\")"
     ],
     "language": "python",
     "metadata": {},
     "outputs": [
      {
       "output_type": "stream",
       "stream": "stdout",
       "text": [
        "Fetching cities\n",
        "Fetching cities\n"
       ]
      }
     ],
     "prompt_number": 2
    },
    {
     "cell_type": "code",
     "collapsed": false,
     "input": [
      "diff = pd.DataFrame()\n",
      "diff['unit_price_res'] = base_blds.unit_price_res_est\n",
      "diff['unit_price_nonres'] = base_blds.unit_price_nonres_est\n",
      "diff['sim_unit_price_res'] = sim_blds.unit_price_res\n",
      "diff['sim_unit_price_nonres'] = sim_blds.unit_price_nonres\n",
      "diff['zone_id'] = base_blds.zone_id"
     ],
     "language": "python",
     "metadata": {},
     "outputs": [],
     "prompt_number": 18
    },
    {
     "cell_type": "code",
     "collapsed": false,
     "input": [
      "print diff.describe()\n",
      "zone_diff = diff.groupby('zone_id').quantile()"
     ],
     "language": "python",
     "metadata": {},
     "outputs": [
      {
       "output_type": "stream",
       "stream": "stdout",
       "text": [
        "       unit_price_res  unit_price_nonres  sim_unit_price_res  \\\n",
        "count  1822331.000000      203357.000000      1817653.000000   \n",
        "mean        42.189812         114.725765       118570.370173   \n",
        "std        843.323219        7297.523629        31183.609177   \n",
        "min          0.000000           0.000000         4134.911621   \n",
        "25%         15.300857          12.995952       100854.492188   \n",
        "50%         29.338674          27.209302       115113.789062   \n",
        "75%         38.284250          44.359913       132184.375000   \n",
        "max     836629.000000     1348083.000000      6694606.000000   \n",
        "\n",
        "       sim_unit_price_nonres         zone_id  \n",
        "count           1.178970e+05  2122930.000000  \n",
        "mean            1.956571e+01    26553.236126  \n",
        "std             1.222084e+01    16919.568560  \n",
        "min             1.873776e-08     1101.000000  \n",
        "25%             1.044945e+01    13842.000000  \n",
        "50%             1.804454e+01    24322.000000  \n",
        "75%             2.630043e+01    33332.000000  \n",
        "max             3.696985e+02    73407.000000  \n",
        "\n",
        "[8 rows x 5 columns]\n"
       ]
      }
     ],
     "prompt_number": 24
    },
    {
     "cell_type": "code",
     "collapsed": false,
     "input": [
      "zone_diff['taz'] = base_dset.zones.taz\n",
      "print zone_diff.describe()"
     ],
     "language": "python",
     "metadata": {},
     "outputs": [
      {
       "output_type": "stream",
       "stream": "stdout",
       "text": [
        "       unit_price_res  unit_price_nonres  sim_unit_price_res  \\\n",
        "count     2687.000000        2784.000000         2682.000000   \n",
        "mean        65.459322          31.552844       120244.807342   \n",
        "std       1352.906308          26.895521        28181.823930   \n",
        "min          0.035714           0.000000         6212.009766   \n",
        "25%         20.187809          18.243416       106502.239258   \n",
        "50%         29.300746          27.780640       116436.970703   \n",
        "75%         37.001972          39.293205       130478.487305   \n",
        "max      69111.197198         380.109983       741745.562500   \n",
        "\n",
        "       sim_unit_price_nonres       zone_id  \n",
        "count            2629.000000   2806.000000  \n",
        "mean               21.192765  28994.184248  \n",
        "std                 9.597793  17591.205529  \n",
        "min                 1.593548   1101.000000  \n",
        "25%                14.205997  16521.250000  \n",
        "50%                21.683341  26311.500000  \n",
        "75%                27.274752  40295.750000  \n",
        "max               161.023987  73407.000000  \n",
        "\n",
        "[8 rows x 5 columns]\n"
       ]
      }
     ],
     "prompt_number": 58
    },
    {
     "cell_type": "code",
     "collapsed": true,
     "input": [
      "def make_map(zone_diff, col):\n",
      "    map_unit_price_res = folium.Map(location=[42.322,-83.176], zoom_start=10)\n",
      "    threshold_scale = [zone_diff[col].quantile(.1*i) for i in range(11)]\n",
      "    map_unit_price_res.geo_json(geo_path='data/tazs.json',\n",
      "                                data=zone_diff,\n",
      "                                columns=['taz', col],\n",
      "                                key_on='feature.properties.TAZ',\n",
      "                                threshold_scale=threshold_scale,\n",
      "                                legend_name=col+' (quantile scale)',\n",
      "                                fill_color='RdYlGn',\n",
      "                                data_out='%s.json'%col)\n",
      "\n",
      "    map_unit_price_res.create_map(\"indicators_%s.html\"%col)\n",
      "    return map_unit_price_res\n",
      "\n",
      "for col in zone_diff.columns:\n",
      "    if col == 'taz': continue\n",
      "    make_map(zone_diff, col)\n",
      "make_map(zone_diff, 'sim_unit_price_res')"
     ],
     "language": "python",
     "metadata": {},
     "outputs": [
      {
       "html": [
        "<iframe class=\"folium-iframe\" src=\"files/indicators_sim_unit_price_res.html\" style=\"width: 960px; height: 500px; border: none; margin-left: 75px;\" scrolling=\"no\"></iframe>"
       ],
       "metadata": {},
       "output_type": "pyout",
       "prompt_number": 66,
       "text": [
        "<folium.folium.Map at 0x13dc8a7d0>"
       ]
      }
     ],
     "prompt_number": 66
    },
    {
     "cell_type": "code",
     "collapsed": false,
     "input": [],
     "language": "python",
     "metadata": {},
     "outputs": []
    }
   ],
   "metadata": {}
  }
 ]
}