{
 "metadata": {
  "name": "",
  "signature": "sha256:2129df48b8b669c35a42b7839fe3e1a3907a362ef953ce0597d6cb941cd57b12"
 },
 "nbformat": 3,
 "nbformat_minor": 0,
 "worksheets": [
  {
   "cells": [
    {
     "cell_type": "code",
     "collapsed": false,
     "input": [
      "import models\n",
      "import dataset\n",
      "import pandas as pd\n",
      "import folium  # make sure it is synthicity/folium\n",
      "\n",
      "folium.initialize_notebook()"
     ],
     "language": "python",
     "metadata": {},
     "outputs": [
      {
       "html": [
        "<link rel=\"stylesheet\" href=\"http://cdn.leafletjs.com/leaflet-0.7.2/leaflet.css\" />\n",
        "<style>\n",
        "    .leaflet-popup-content {\n",
        "        color: black !important;\n",
        "    }\n",
        "\n",
        "    .leaflet-control-zoom-in {\n",
        "        text-decoration: none !important;\n",
        "    }\n",
        "\n",
        "    .leaflet-control-zoom-out {\n",
        "        text-decoration: none !important;\n",
        "    }\n",
        "</style>"
       ],
       "metadata": {},
       "output_type": "display_data",
       "text": [
        "<IPython.core.display.HTML at 0x108f0a4d0>"
       ]
      },
      {
       "html": [
        "<script>\n",
        "\n",
        "  var folium_event = new CustomEvent(\n",
        "    \"folium_libs_loaded\",\n",
        "    {bubbles: true, cancelable: true}\n",
        "  );\n",
        "\n",
        "  var load_folium_charts = function(){\n",
        "    window.dispatchEvent(folium_event);\n",
        "  };\n",
        "\n",
        " var load_folium_libs = function(){\n",
        "    console.log('Loading all Folium libraries...')\n",
        "    $.getScript(\"http://cdn.leafletjs.com/leaflet-0.7.2/leaflet.js\", function(){\n",
        "      $.getScript('https://wrobstory.github.io/leaflet-dvf/leaflet-dvf.markers.min.js', function(){\n",
        "          if (window['vg'] === undefined){\n",
        "            $.getScript(\"http://wrobstory.github.io/vega/vega.v1.3.3.js\", function(){\n",
        "              load_folium_charts();\n",
        "          });\n",
        "        } else {\n",
        "          load_folium_charts();\n",
        "        }\n",
        "      });\n",
        "    });\n",
        "  };\n",
        "\n",
        " if(typeof define === \"function\" && define.amd){\n",
        "      var load_paths = {\n",
        "        paths: {\n",
        "          topojson:'http://d3js.org/topojson.v1.min',\n",
        "          queue: 'http://d3js.org/queue.v1.min',\n",
        "          d3: 'http://d3js.org/d3.v3.min'\n",
        "        }\n",
        "      };\n",
        "      var libs = ['d3', 'queue', 'topojson'];\n",
        "      for (var i=0; i < libs.length; i++){\n",
        "        lib = libs[i]\n",
        "        if (window[lib] !== undefined){\n",
        "          delete load_paths.paths[lib]\n",
        "        };\n",
        "      };\n",
        "      if (Object.keys(load_paths.paths).length != 0){\n",
        "        require.config(load_paths);\n",
        "        require([\"queue\"], function(queue){\n",
        "          window.queue = queue;\n",
        "        });\n",
        "        require([\"d3\"], function(d3){\n",
        "            console.log('Loading from require.js...')\n",
        "            window.d3 = d3;\n",
        "            require([\"topojson\"], function(topojson){\n",
        "                window.topojson = topojson;\n",
        "                load_folium_libs();\n",
        "            });\n",
        "        });\n",
        "      } else {\n",
        "        load_folium_libs();\n",
        "      }\n",
        "\n",
        " }else{\n",
        "      console.log('Require.js not found!');\n",
        "      throw \"Require.js not found!\"\n",
        " };\n",
        "\n",
        "</script>"
       ],
       "metadata": {},
       "output_type": "display_data",
       "text": [
        "<IPython.core.display.HTML at 0x108f0a3d0>"
       ]
      }
     ],
     "prompt_number": 1
    },
    {
     "cell_type": "code",
     "collapsed": false,
     "input": [
      "# make sure BASE_H5 has unit_price_res and all other variables to compare\n",
      "BASE_H5 = \"data/semcog_data.h5\"\n",
      "SIM_H5 = \"runs/run7.h5\"\n",
      "base_dset = dataset.SemcogDataset(BASE_H5)\n",
      "sim_dset = dataset.SemcogDataset(SIM_H5)\n",
      "base_blds = base_dset.view(\"buildings\").build_df()\n",
      "sim_blds = sim_dset.view(\"buildings\")\n",
      "base_blds['sim_unit_price_res'] = sim_blds.unit_price_res\n",
      "base_blds['sim_unit_price_nonres'] = sim_blds.unit_price_nonres"
     ],
     "language": "python",
     "metadata": {},
     "outputs": [
      {
       "output_type": "stream",
       "stream": "stdout",
       "text": [
        "Fetching cities\n",
        "Fetching cities\n",
        "Fetching buildings\n",
        "Fetching parcels"
       ]
      },
      {
       "output_type": "stream",
       "stream": "stdout",
       "text": [
        "\n",
        "Fetching zones"
       ]
      },
      {
       "output_type": "stream",
       "stream": "stdout",
       "text": [
        "\n",
        "Fetching households\n",
        "Fetching building_sqft_per_job"
       ]
      },
      {
       "output_type": "stream",
       "stream": "stdout",
       "text": [
        "\n",
        "Fetching travel_data"
       ]
      },
      {
       "output_type": "stream",
       "stream": "stdout",
       "text": [
        "\n",
        "Fetching jobs"
       ]
      },
      {
       "output_type": "stream",
       "stream": "stdout",
       "text": [
        "\n",
        "Fetching buildings"
       ]
      },
      {
       "output_type": "stream",
       "stream": "stdout",
       "text": [
        "\n"
       ]
      }
     ],
     "prompt_number": 2
    },
    {
     "cell_type": "code",
     "collapsed": false,
     "input": [
      "zone_diff = base_blds.groupby('zone_id').quantile()\n",
      "zone_diff['taz'] = base_dset.zones.taz"
     ],
     "language": "python",
     "metadata": {},
     "outputs": [],
     "prompt_number": 3
    },
    {
     "cell_type": "code",
     "collapsed": true,
     "input": [
      "import os\n",
      "def make_map(zone_diff, col):\n",
      "    cwd = os.getcwd()\n",
      "    os.chdir('output')\n",
      "    map_unit_price_res = folium.Map(location=[42.322,-83.176], zoom_start=10)\n",
      "    threshold_scale = [zone_diff[col].quantile(.1*i) for i in range(11)]\n",
      "    map_unit_price_res.geo_json(geo_path='../data/tazs.json',\n",
      "                                data=zone_diff,\n",
      "                                columns=['taz', col],\n",
      "                                key_on='feature.properties.TAZ',\n",
      "                                threshold_scale=threshold_scale,\n",
      "                                legend_name=col+' (quantile scale)',\n",
      "                                fill_color='RdYlGn',\n",
      "                                data_out='json/%s.json'%col)\n",
      "\n",
      "    map_unit_price_res.create_map(\"indicators_%s.html\"%col)\n",
      "    os.chdir(cwd)\n",
      "    return map_unit_price_res\n",
      "\n",
      "for col in zone_diff.columns:\n",
      "    if col == 'taz': continue\n",
      "    make_map(zone_diff, col)"
     ],
     "language": "python",
     "metadata": {},
     "outputs": [],
     "prompt_number": 4
    },
    {
     "cell_type": "code",
     "collapsed": false,
     "input": [
      "import SimpleHTTPServer, SocketServer\n",
      "SocketServer.TCPServer((\"\", 8000), SimpleHTTPServer.SimpleHTTPRequestHandler).serve_forever()"
     ],
     "language": "python",
     "metadata": {},
     "outputs": [
      {
       "output_type": "stream",
       "stream": "stderr",
       "text": [
        "127.0.0.1 - - [03/Jun/2014 16:50:15] \"GET /output/ HTTP/1.1\" 200 -\n",
        "127.0.0.1 - - [03/Jun/2014 16:50:22] \"GET /output/indicators_unit_price_res_est.html HTTP/1.1\" 200 -\n"
       ]
      },
      {
       "output_type": "stream",
       "stream": "stderr",
       "text": [
        "127.0.0.1 - - [03/Jun/2014 16:50:22] \"GET /output/json/unit_price_res_est.json HTTP/1.1\" 200 -\n",
        "127.0.0.1 - - [03/Jun/2014 16:50:31] \"GET /output/indicators_unit_price_nonres_est.html HTTP/1.1\" 200 -\n"
       ]
      },
      {
       "output_type": "stream",
       "stream": "stderr",
       "text": [
        "127.0.0.1 - - [03/Jun/2014 16:50:31] \"GET /output/json/unit_price_nonres_est.json HTTP/1.1\" 200 -\n",
        "127.0.0.1 - - [03/Jun/2014 16:50:37] \"GET /output/indicators_sim_unit_price_nonres.html HTTP/1.1\" 200 -\n"
       ]
      },
      {
       "output_type": "stream",
       "stream": "stderr",
       "text": [
        "127.0.0.1 - - [03/Jun/2014 16:50:37] \"GET /output/json/sim_unit_price_nonres.json HTTP/1.1\" 200 -\n",
        "127.0.0.1 - - [03/Jun/2014 16:50:44] \"GET /output/indicators_jobs_within_30_min.html HTTP/1.1\" 200 -\n"
       ]
      }
     ]
    },
    {
     "cell_type": "markdown",
     "metadata": {},
     "source": [
      "Below is a link to view the indicators.\n",
      "\n",
      "[CLICK HERE](http://localhost:8000/output/)"
     ]
    },
    {
     "cell_type": "code",
     "collapsed": false,
     "input": [],
     "language": "python",
     "metadata": {},
     "outputs": []
    }
   ],
   "metadata": {}
  }
 ]
}