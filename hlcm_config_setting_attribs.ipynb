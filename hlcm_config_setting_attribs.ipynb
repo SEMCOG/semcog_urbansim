{
 "cells": [
  {
   "cell_type": "code",
   "execution_count": 2,
   "metadata": {
    "collapsed": true
   },
   "outputs": [],
   "source": [
    "import os\n",
    "from urbansim.utils import misc\n",
    "from urbansim.models.dcm import MNLDiscreteChoiceModel"
   ]
  },
  {
   "cell_type": "code",
   "execution_count": 8,
   "metadata": {},
   "outputs": [],
   "source": [
    "hlcm_configs = [f for f in os.listdir('./configs') if f.startswith('hlcm') & ('constraints' not in f) & (len(f) > 9)]"
   ]
  },
  {
   "cell_type": "code",
   "execution_count": 24,
   "metadata": {},
   "outputs": [],
   "source": [
    "for cfg in hlcm_configs:\n",
    "    model = MNLDiscreteChoiceModel.from_yaml(str_or_buffer=misc.config(cfg))\n",
    "    lid = int(model.alts_fit_filters.split(\" == \")[-1][:-1])\n",
    "    model.alts_predict_filters = 'large_area_id == %s' % lid\n",
    "    model.sample_size = 100\n",
    "    model.estimation_sample_size = 2000\n",
    "    model.prediction_sample_size = 100\n",
    "    model.choice_mode = 'individual'\n",
    "    model.probability_mode = 'full_product'\n",
    "    model.to_yaml(misc.config(cfg))"
   ]
  },
  {
   "cell_type": "code",
   "execution_count": 26,
   "metadata": {},
   "outputs": [
    {
     "name": "stdout",
     "output_type": "stream",
     "text": [
      "- hlcm400099.yaml\n",
      "- hlcm200115.yaml\n",
      "- hlcm100125.yaml\n",
      "- hlcm100161.yaml\n",
      "- hlcm200093.yaml\n",
      "- hlcm300099.yaml\n",
      "- hlcm400147.yaml\n",
      "- hlcm100093.yaml\n",
      "- hlcm200125.yaml\n",
      "- hlcm100147.yaml\n",
      "- hlcm100005.yaml\n",
      "- hlcm200003.yaml\n",
      "- hlcm400003.yaml\n",
      "- hlcm200161.yaml\n",
      "- hlcm300005.yaml\n",
      "- hlcm300147.yaml\n",
      "- hlcm400115.yaml\n",
      "- hlcm300115.yaml\n",
      "- hlcm400125.yaml\n",
      "- hlcm400161.yaml\n",
      "- hlcm300125.yaml\n",
      "- hlcm300161.yaml\n",
      "- hlcm200005.yaml\n",
      "- hlcm400093.yaml\n",
      "- hlcm100003.yaml\n",
      "- hlcm100099.yaml\n",
      "- hlcm100115.yaml\n",
      "- hlcm400005.yaml\n",
      "- hlcm200099.yaml\n",
      "- hlcm300003.yaml\n",
      "- hlcm200147.yaml\n",
      "- hlcm300093.yaml\n"
     ]
    }
   ],
   "source": [
    "for cfg in hlcm_configs:\n",
    "    print '- ' + cfg"
   ]
  }
 ],
 "metadata": {
  "kernelspec": {
   "display_name": "Python 2",
   "language": "python",
   "name": "python2"
  },
  "language_info": {
   "codemirror_mode": {
    "name": "ipython",
    "version": 2
   },
   "file_extension": ".py",
   "mimetype": "text/x-python",
   "name": "python",
   "nbconvert_exporter": "python",
   "pygments_lexer": "ipython2",
   "version": "2.7.12"
  }
 },
 "nbformat": 4,
 "nbformat_minor": 2
}
