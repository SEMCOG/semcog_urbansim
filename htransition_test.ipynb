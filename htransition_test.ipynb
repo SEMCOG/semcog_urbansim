{
 "metadata": {
  "name": "",
  "signature": "sha256:82b8cfeeeb5ce0e2737716456c8b4d42562a7212542b4153b65e3413a23548d3"
 },
 "nbformat": 3,
 "nbformat_minor": 0,
 "worksheets": [
  {
   "cells": [
    {
     "cell_type": "code",
     "collapsed": false,
     "input": [
      "import urbansim.sim.simulation as sim\n",
      "import os\n",
      "import pandas as pd\n",
      "from urbansim.utils import misc"
     ],
     "language": "python",
     "metadata": {},
     "outputs": [],
     "prompt_number": 1
    },
    {
     "cell_type": "code",
     "collapsed": false,
     "input": [
      "sim.add_injectable(\"store\", pd.HDFStore(os.path.join(misc.data_dir(),\n",
      "                                                     \"semcog_data.h5\"), mode=\"r\"))"
     ],
     "language": "python",
     "metadata": {},
     "outputs": [],
     "prompt_number": 2
    },
    {
     "cell_type": "code",
     "collapsed": false,
     "input": [
      "@sim.table_source('annual_household_control_totals')\n",
      "def annual_household_control_totals(store):\n",
      "    df = store['annual_household_control_totals']\n",
      "    return df\n",
      "\n",
      "@sim.table_source('households')\n",
      "def households(store):\n",
      "    df = store['households']\n",
      "    return df\n",
      "    \n",
      "@sim.table_source('persons')\n",
      "def persons(store):\n",
      "    df = store['persons']\n",
      "    return df"
     ],
     "language": "python",
     "metadata": {},
     "outputs": [],
     "prompt_number": 3
    },
    {
     "cell_type": "code",
     "collapsed": false,
     "input": [
      "import numpy as np, pandas as pd\n",
      "from urbansim.models import transition, relocation\n",
      "@sim.model('households_transition')\n",
      "def households_transition(households, persons, annual_household_control_totals, year):\n",
      "    ct = annual_household_control_totals.to_frame()\n",
      "    for col in ct.columns:\n",
      "        i = 0\n",
      "        if col.endswith('_max'):\n",
      "            if len(ct[col][ct[col]==-1]) > 0:\n",
      "                ct[col][ct[col]==-1] = np.inf\n",
      "                i+=1\n",
      "            if i > 0:\n",
      "                ct[col] = ct[col] + 1\n",
      "    tran = transition.TabularTotalsTransition(ct, 'total_number_of_households')\n",
      "    model = transition.TransitionModel(tran)\n",
      "    hh = households.to_frame(households.local_columns)\n",
      "    p = persons.to_frame(persons.local_columns)\n",
      "    new, added_hh_idx, new_linked = \\\n",
      "        model.transition(hh, year,\n",
      "                         linked_tables={'linked': (p, 'household_id')})\n",
      "    new.loc[added_hh_idx, \"building_id\"] = -1\n",
      "    sim.add_table(\"households\", new)\n",
      "    sim.add_table(\"persons\", new_linked['linked'])"
     ],
     "language": "python",
     "metadata": {},
     "outputs": [],
     "prompt_number": 4
    },
    {
     "cell_type": "code",
     "collapsed": false,
     "input": [
      "sim.run([\n",
      "    \"households_transition\",  # households transition\n",
      "#     \"households_relocation\",  # households relocation model\n",
      "], years=range(2012, 2014))"
     ],
     "language": "python",
     "metadata": {},
     "outputs": [
      {
       "output_type": "stream",
       "stream": "stdout",
       "text": [
        "Running year 2012\n",
        "Running model 'households_transition'\n",
        "Time to execute model 'households_transition': 219.56s"
       ]
      },
      {
       "output_type": "stream",
       "stream": "stdout",
       "text": [
        "\n",
        "Total time to execute year 2012: 219.56s\n",
        "Running year 2013\n",
        "Running model 'households_transition'\n",
        "Time to execute model 'households_transition': 128.61s"
       ]
      },
      {
       "output_type": "stream",
       "stream": "stdout",
       "text": [
        "\n",
        "Total time to execute year 2013: 128.61s\n"
       ]
      }
     ],
     "prompt_number": 5
    },
    {
     "cell_type": "code",
     "collapsed": false,
     "input": [
      "print sim.get_injectable('year')\n",
      "hh_sim = sim.get_table('households').to_frame()\n",
      "\n",
      "store = sim.get_injectable('store')\n",
      "hh_base = store['households']"
     ],
     "language": "python",
     "metadata": {},
     "outputs": [
      {
       "output_type": "stream",
       "stream": "stdout",
       "text": [
        "2023\n"
       ]
      }
     ],
     "prompt_number": 21
    }
   ],
   "metadata": {}
  }
 ]
}