{
 "cells": [
  {
   "cell_type": "code",
   "execution_count": 1,
   "metadata": {
    "collapsed": false
   },
   "outputs": [],
   "source": [
    "import os\n",
    "import pandas as pd\n",
    "from urbansim.utils import misc\n",
    "import orca"
   ]
  },
  {
   "cell_type": "code",
   "execution_count": 2,
   "metadata": {
    "collapsed": false
   },
   "outputs": [],
   "source": [
    "orca.add_injectable(\"store\", pd.HDFStore(os.path.join(misc.data_dir(),\n",
    "                                                     \"semcog_data.h5\"), mode=\"r\"))"
   ]
  },
  {
   "cell_type": "code",
   "execution_count": 4,
   "metadata": {
    "collapsed": false
   },
   "outputs": [],
   "source": [
    "@orca.table('annual_household_control_totals')\n",
    "def annual_household_control_totals(store):\n",
    "    df = store['annual_household_control_totals']\n",
    "    return df\n",
    "\n",
    "@orca.table('households')\n",
    "def households(store):\n",
    "    df = store['households']\n",
    "    return df\n",
    "    \n",
    "@orca.table('persons')\n",
    "def persons(store):\n",
    "    df = store['persons']\n",
    "    return df"
   ]
  },
  {
   "cell_type": "code",
   "execution_count": 10,
   "metadata": {
    "collapsed": false
   },
   "outputs": [],
   "source": [
    "import numpy as np, pandas as pd\n",
    "from urbansim.models import transition, relocation\n",
    "@orca.step('households_transition')\n",
    "def households_transition(households, persons, annual_household_control_totals, iter_var):\n",
    "    ct = annual_household_control_totals.to_frame()\n",
    "    for col in ct.columns:\n",
    "        i = 0\n",
    "        if col.endswith('_max'):\n",
    "            if len(ct[col][ct[col]==-1]) > 0:\n",
    "                ct[col][ct[col]==-1] = np.inf\n",
    "                i+=1\n",
    "            if i > 0:\n",
    "                ct[col] = ct[col] + 1\n",
    "    tran = transition.TabularTotalsTransition(ct, 'total_number_of_households')\n",
    "    model = transition.TransitionModel(tran)\n",
    "    hh = households.to_frame(households.local_columns)\n",
    "    p = persons.to_frame(persons.local_columns)\n",
    "    new, added_hh_idx, new_linked = \\\n",
    "        model.transition(hh, iter_var,\n",
    "                         linked_tables={'linked': (p, 'household_id')})\n",
    "    new.loc[added_hh_idx, \"building_id\"] = -1\n",
    "    orca.add_table(\"households\", new)\n",
    "    orca.add_table(\"persons\", new_linked['linked'])"
   ]
  },
  {
   "cell_type": "code",
   "execution_count": 11,
   "metadata": {
    "collapsed": false
   },
   "outputs": [
    {
     "name": "stdout",
     "output_type": "stream",
     "text": [
      "Running iteration 1 with iteration value 2012\n",
      "Running step 'households_transition'\n",
      "Time to execute step 'households_transition': 136.04 s\n",
      "Total time to execute iteration 1 with iteration value 2012: 136.04 s\n",
      "Running iteration 2 with iteration value 2013\n",
      "Running step 'households_transition'\n",
      "Time to execute step 'households_transition': 117.70 s\n",
      "Total time to execute iteration 2 with iteration value 2013: 117.70 s\n"
     ]
    },
    {
     "name": "stderr",
     "output_type": "stream",
     "text": [
      "/home/da/anaconda2/lib/python2.7/site-packages/ipykernel/__main__.py:10: SettingWithCopyWarning: \n",
      "A value is trying to be set on a copy of a slice from a DataFrame\n",
      "\n",
      "See the caveats in the documentation: http://pandas.pydata.org/pandas-docs/stable/indexing.html#indexing-view-versus-copy\n"
     ]
    }
   ],
   "source": [
    "orca.run([\n",
    "    \"households_transition\",  # households transition\n",
    "#     \"households_relocation\",  # households relocation model\n",
    "], iter_vars=range(2012, 2014))"
   ]
  },
  {
   "cell_type": "code",
   "execution_count": 13,
   "metadata": {
    "collapsed": false
   },
   "outputs": [
    {
     "name": "stdout",
     "output_type": "stream",
     "text": [
      "2013\n"
     ]
    }
   ],
   "source": [
    "print orca.get_injectable('iter_var')\n",
    "hh_sim = orca.get_table('households').to_frame()\n",
    "\n",
    "store = orca.get_injectable('store')\n",
    "hh_base = store['households']"
   ]
  },
  {
   "cell_type": "code",
   "execution_count": null,
   "metadata": {
    "collapsed": true
   },
   "outputs": [],
   "source": []
  }
 ],
 "metadata": {
  "kernelspec": {
   "display_name": "Python [Root]",
   "language": "python",
   "name": "Python [Root]"
  },
  "language_info": {
   "codemirror_mode": {
    "name": "ipython",
    "version": 2
   },
   "file_extension": ".py",
   "mimetype": "text/x-python",
   "name": "python",
   "nbconvert_exporter": "python",
   "pygments_lexer": "ipython2",
   "version": "2.7.12"
  }
 },
 "nbformat": 4,
 "nbformat_minor": 0
}
