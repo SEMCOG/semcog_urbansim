{
 "metadata": {
  "name": "",
  "signature": "sha256:dba4f577074f369667f4f7e97500f979c272d8bcc06b6043addf98fc1c9c775e"
 },
 "nbformat": 3,
 "nbformat_minor": 0,
 "worksheets": [
  {
   "cells": [
    {
     "cell_type": "code",
     "collapsed": false,
     "input": [
      "import pandas as pd"
     ],
     "language": "python",
     "metadata": {},
     "outputs": [],
     "prompt_number": 1
    },
    {
     "cell_type": "code",
     "collapsed": false,
     "input": [
      "##Load new data\n",
      "table = pd.read_csv('c://users//janowicz//dropbox//semcog//annual_employment_control_totals.csv').set_index('year')\n",
      "\n",
      "##Connect to hdf5 store\n",
      "store = pd.HDFStore('.\\data\\semcog_data.h5')\n",
      "\n",
      "##Replace existing table in hdf5 with the newly loaded one\n",
      "store['annual_employment_control_totals'] = table\n",
      "\n",
      "##Close connection\n",
      "store.close()"
     ],
     "language": "python",
     "metadata": {},
     "outputs": [],
     "prompt_number": 2
    }
   ],
   "metadata": {}
  }
 ]
}