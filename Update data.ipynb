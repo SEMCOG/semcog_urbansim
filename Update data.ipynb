{
 "metadata": {
  "name": "",
  "signature": "sha256:71529d7580443ffc534a9efd0b4d640efc881c5a7987e4d86a0dee3c457291a7"
 },
 "nbformat": 3,
 "nbformat_minor": 0,
 "worksheets": [
  {
   "cells": [
    {
     "cell_type": "code",
     "collapsed": false,
     "input": [
      "import pandas as pd"
     ],
     "language": "python",
     "metadata": {},
     "outputs": []
    },
    {
     "cell_type": "code",
     "collapsed": false,
     "input": [
      "##Load new data\n",
      "table = pd.read_csv('.\\inputs\\annual_employment_control_totals.csv')\n",
      "\n",
      "##Connect to hdf5 store\n",
      "store = pd.HDFStore('.\\data\\semcog_data.h5')\n",
      "\n",
      "##Replace existing table in hdf5 with the newly loaded one\n",
      "store['annual_employment_control_totals'] = table\n",
      "\n",
      "##Close connection\n",
      "store.close()"
     ],
     "language": "python",
     "metadata": {},
     "outputs": []
    }
   ],
   "metadata": {}
  }
 ]
}