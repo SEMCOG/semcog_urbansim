{
 "metadata": {
  "name": ""
 },
 "nbformat": 3,
 "nbformat_minor": 0,
 "worksheets": [
  {
   "cells": [
    {
     "cell_type": "code",
     "collapsed": false,
     "input": [
      "import numpy as np, pandas as pd\n",
      "from urbansim.models import MNLLocationChoiceModel, RegressionModelGroup, transition\n",
      "from developer import developer, feasibility\n",
      "from urbansim.urbansim import dataset\n",
      "from variables import var_calc\n",
      "\n",
      "dset = dataset.Dataset('data//semcog_data.h5')\n",
      "vacant_residential_units, vacant_job_spaces = var_calc.calculate(dset)"
     ],
     "language": "python",
     "metadata": {},
     "outputs": [
      {
       "output_type": "stream",
       "stream": "stdout",
       "text": [
        "Fetching buildings\n",
        "Fetching modify_table"
       ]
      },
      {
       "output_type": "stream",
       "stream": "stdout",
       "text": [
        "\n",
        "Fetching parcels\n",
        "Fetching modify_table"
       ]
      },
      {
       "output_type": "stream",
       "stream": "stdout",
       "text": [
        "\n",
        "Fetching households\n",
        "Fetching modify_table"
       ]
      },
      {
       "output_type": "stream",
       "stream": "stdout",
       "text": [
        "\n",
        "Fetching jobs\n",
        "Fetching modify_table"
       ]
      },
      {
       "output_type": "stream",
       "stream": "stdout",
       "text": [
        "\n",
        "Fetching cities"
       ]
      },
      {
       "output_type": "stream",
       "stream": "stdout",
       "text": [
        "\n",
        "Fetching modify_table\n",
        "Fetching travel_data\n",
        "Fetching modify_table"
       ]
      },
      {
       "output_type": "stream",
       "stream": "stdout",
       "text": [
        "\n",
        "Fetching building_sqft_per_job"
       ]
      },
      {
       "output_type": "stream",
       "stream": "stdout",
       "text": [
        "\n",
        "Fetching modify_table\n"
       ]
      }
     ],
     "prompt_number": 1
    },
    {
     "cell_type": "heading",
     "level": 2,
     "metadata": {},
     "source": [
      "Base year estimation "
     ]
    },
    {
     "cell_type": "code",
     "collapsed": false,
     "input": [
      "###HLCM\n",
      "#Agents for estimation\n",
      "households_for_estimation = dset.households.loc[np.random.choice(dset.households.index, size=15000, replace=False)]\n",
      "#Filters on agents\n",
      "agent_estimation_filters = ['building_id > 0']\n",
      "agents_simulation_filters = None\n",
      "##Specification\n",
      "patsy_expression = ['sqft_per_unit',\n",
      "                    'income:np.log1p(unit_price_res)',\n",
      "                    'jobs_within_30_min',\n",
      "                    'crime08',\n",
      "                    'popden']\n",
      "patsy_expression = ' + '.join(patsy_expression)\n",
      "#Filters on alternatives\n",
      "estimation_filters = ['building_id > 0']\n",
      "simulation_filters = ['residential_units>0',\n",
      "                      'building_type_id in [16,17,18,19,20]']\n",
      "interaction_filters = ['income*5 > unit_price_res']\n",
      "##Instantiate HCLM\n",
      "hlcm = MNLLocationChoiceModel(\n",
      "    patsy_expression, 10,\n",
      "    choosers_fit_filters=agent_estimation_filters, choosers_predict_filters=agents_simulation_filters,\n",
      "    alts_fit_filters=estimation_filters, alts_predict_filters=simulation_filters,interaction_predict_filters=interaction_filters,\n",
      "    choice_column='building_id', name='HLCM')\n",
      "##Estimate\n",
      "hlcm.fit(households_for_estimation, dset.buildings, households_for_estimation.building_id)\n",
      "hlcm.report_fit()\n",
      "\n",
      "\n",
      "###ELCM\n",
      "#Agents for estimation\n",
      "jobs_for_estimation = dset.jobs_for_estimation\n",
      "#Filters on agents\n",
      "agent_estimation_filters = ['home_based_status == 0']\n",
      "agents_simulation_filters = None\n",
      "##Specification\n",
      "patsy_expression = ['np.log1p(non_residential_sqft)',\n",
      "                    'np.log1p(improvement_value)',\n",
      "                    'jobs_within_30_min',\n",
      "                    'popden',\n",
      "                    'crime08']\n",
      "patsy_expression = ' + '.join(patsy_expression)\n",
      "#Filters on alternatives\n",
      "estimation_filters = ['building_id > 0']\n",
      "simulation_filters = ['non_residential_sqft>0',\n",
      "                      'building_type_id not in [16,17,18,19,20]']\n",
      "##Instantiate ELCM\n",
      "elcm = MNLLocationChoiceModel(\n",
      "    patsy_expression, 10,\n",
      "    choosers_fit_filters=agent_estimation_filters, choosers_predict_filters=agents_simulation_filters,\n",
      "    alts_fit_filters=estimation_filters, alts_predict_filters=simulation_filters,\n",
      "    choice_column='building_id', name='ELCM')\n",
      "##Estimate\n",
      "elcm.fit(jobs_for_estimation, dset.buildings, jobs_for_estimation.building_id)\n",
      "elcm.report_fit()\n",
      "\n",
      "\n",
      "\n",
      "###REPM\n",
      "##Model specification\n",
      "def patsy_expression():\n",
      "    patsy_exp = ['I(year_built < 1940)',\n",
      "                 'year_built',\n",
      "                 'stories',\n",
      "                 'np.log1p(sqft_per_unit)',\n",
      "                 'np.log1p(popden)',\n",
      "                 'dist_hwy',\n",
      "                 'dist_road',\n",
      "                 'crime08',\n",
      "                 'np.log1p(jobs_within_30_min)']\n",
      "    patsy_exp = ' + '.join(patsy_exp)\n",
      "    return 'np.log(unit_price_res) ~ ' + patsy_exp\n",
      "model_expression = patsy_expression()\n",
      "##Estimation filters\n",
      "estimate_filters = ['residential_units > 0',\n",
      "                    'sqft_per_unit > 0',\n",
      "                    'year_built > 1700',\n",
      "                    'stories > 0',\n",
      "                    'tax_exempt == 0',\n",
      "                    '1e5 < unit_price_res < 1e7',\n",
      "                    '16 <= building_type_id <= 20']\n",
      "##Simulation filters\n",
      "simulate_filters = ['residential_units > 0',\n",
      "                    '16 <= building_type_id <= 20']\n",
      "##Segmentation\n",
      "group_keys = [16, 17, 18, 19, 20]\n",
      "hmg = RegressionModelGroup('building_type_id')\n",
      "for key in group_keys:\n",
      "    hmg.add_model_from_params(key, estimate_filters, simulate_filters,\n",
      "                              model_expression, ytransform=np.exp)\n",
      "##Estimate\n",
      "fits = hmg.fit(dset.buildings)"
     ],
     "language": "python",
     "metadata": {},
     "outputs": [
      {
       "output_type": "stream",
       "stream": "stdout",
       "text": [
        "Removing 1 choice situations because chosen alt doesn't exist\n",
        "Null Log-liklihood: -34536.474"
       ]
      },
      {
       "output_type": "stream",
       "stream": "stdout",
       "text": [
        "\n",
        "Log-liklihood at convergence: -33281.703\n",
        "Log-liklihood Ratio: 0.036\n",
        "\n",
        "+---------------------------------+-------------+------------+---------+\n",
        "| Component                       | Coefficient | Std. Error | T-Score |\n",
        "+---------------------------------+-------------+------------+---------+\n",
        "| sqft_per_unit                   |    -0.000   |   0.000    | -18.440 |\n",
        "| income:np.log1p(unit_price_res) |    0.000    |   0.000    | 202.700 |\n",
        "| jobs_within_30_min              |    0.000    |   0.000    |  1.679  |\n",
        "| crime08                         |    0.000    |   0.000    |  0.127  |\n",
        "| popden                          |    -0.000   |   0.002    |  -0.029 |\n",
        "+---------------------------------+-------------+------------+---------+\n",
        "Fetching jobs_for_estimation\n",
        "Fetching modify_table\n",
        "Removing 48000 choice situations because chosen alt doesn't exist"
       ]
      },
      {
       "output_type": "stream",
       "stream": "stdout",
       "text": [
        "\n",
        "Null Log-liklihood: -110524.084"
       ]
      },
      {
       "output_type": "stream",
       "stream": "stdout",
       "text": [
        "\n",
        "Log-liklihood at convergence: -15821.650\n",
        "Log-liklihood Ratio: 0.857\n",
        "\n",
        "+--------------------------------+-------------+------------+---------+\n",
        "| Component                      | Coefficient | Std. Error | T-Score |\n",
        "+--------------------------------+-------------+------------+---------+\n",
        "| np.log1p(non_residential_sqft) |    0.601    |   0.003    | 197.261 |\n",
        "| np.log1p(improvement_value)    |    0.266    |   0.002    | 116.621 |\n",
        "| jobs_within_30_min             |    0.000    |   0.000    |  29.464 |\n",
        "| popden                         |    -0.043   |   0.002    | -18.247 |\n",
        "| crime08                        |    -0.004   |   0.001    |  -8.830 |\n",
        "+--------------------------------+-------------+------------+---------+\n"
       ]
      }
     ],
     "prompt_number": "*"
    },
    {
     "cell_type": "heading",
     "level": 2,
     "metadata": {},
     "source": [
      "Model Simulation"
     ]
    },
    {
     "cell_type": "code",
     "collapsed": false,
     "input": [
      "for year in range (2011,2021):\n",
      "    \n",
      "    vacant_residential_units, vacant_job_spaces = var_calc.calculate(dset)\n",
      "    \n",
      "    ##Record county-level hh/job counts\n",
      "    dset.households['county_id'] = dset.buildings.county_id[dset.households.building_id].values\n",
      "    dset.jobs['county_id'] = dset.buildings.county_id[dset.jobs.building_id].values\n",
      "    starting_hh = dset.households.groupby('county_id').size()\n",
      "    starting_emp = dset.jobs.groupby('county_id').size()\n",
      "    \n",
      "    ##Household transition\n",
      "    ct = dset.fetch('annual_household_control_totals')\n",
      "    totals_field = ct.reset_index().groupby('year').total_number_of_households.sum()\n",
      "    ct = pd.DataFrame({'total_number_of_households':totals_field})\n",
      "    tran = transition.TabularTotalsTransition(ct, 'total_number_of_households')\n",
      "    model = transition.TransitionModel(tran)\n",
      "    new, added_hh_idx, new_linked = model.transition(\n",
      "            dset.households, year, linked_tables={'linked': (dset.persons, 'household_id')})\n",
      "    dset.households = new\n",
      "    dset.persons = new_linked['linked']\n",
      "    \n",
      "    ##Employment transition\n",
      "    ct_emp = dset.fetch('annual_employment_control_totals')\n",
      "    totals_field = ct_emp.reset_index().groupby('year').total_number_of_jobs.sum()\n",
      "    ct_emp = pd.DataFrame({'total_number_of_jobs':totals_field})\n",
      "    tran = transition.TabularTotalsTransition(ct_emp, 'total_number_of_jobs')\n",
      "    model = transition.TransitionModel(tran)\n",
      "    new, added_jobs_idx, new_linked = model.transition(dset.jobs, year)\n",
      "    dset.jobs = new\n",
      "    \n",
      "    ###HLCM\n",
      "    new_assignments = hlcm.predict(dset.households.loc[added_hh_idx], vacant_residential_units)\n",
      "    dset.households.loc[added_hh_idx,'building_id'] = new_assignments\n",
      "    \n",
      "    ###ELCM\n",
      "    new_assignments = elcm.predict(dset.jobs.loc[added_jobs_idx], vacant_job_spaces)\n",
      "    dset.jobs.loc[added_jobs_idx,'building_id'] = new_assignments\n",
      "    \n",
      "    ####REPM\n",
      "    new_unit_price_res = hmg.predict(dset.buildings)\n",
      "    dset.buildings.loc[new_unit_price_res.index.values, 'unit_price_res'] = new_unit_price_res\n",
      "    \n",
      "    ##County-level hh/job growth indicator\n",
      "    dset.households['county_id'] = dset.buildings.county_id[dset.households.building_id].values\n",
      "    dset.jobs['county_id'] = dset.buildings.county_id[dset.jobs.building_id].values\n",
      "    ending_hh = dset.households.groupby('county_id').size()\n",
      "    ending_emp = dset.jobs.groupby('county_id').size()\n",
      "    print 'HH diffs'\n",
      "    print ending_hh - starting_hh\n",
      "    print 'EMP diffs'\n",
      "    print ending_emp - starting_emp\n",
      "    \n",
      "    \n",
      "    ####PROFORMA\n",
      "    feasibility.feasibility_run(dset,year)\n",
      "    \n",
      "    ##Record starting non-residential sqft by county\n",
      "    dset.buildings['county_id'] = dset.parcels.county_id[dset.buildings.parcel_id].values\n",
      "    starting_nonres = dset.buildings.groupby('county_id').non_residential_sqft.sum()\n",
      "    \n",
      "    ##Non-residential proformas\n",
      "    nr_buildings = developer.exec_developer(dset, year, \"jobs\", \"job_spaces\",\n",
      "                   [21,22,23,24,27,28,32,33,39], nonres=True)\n",
      "    dset.buildings = dset.buildings[['building_id_old', 'building_type_id', 'improvement_value', 'land_area',\n",
      "         'non_residential_sqft', 'parcel_id', 'residential_units', 'sqft_per_unit',\n",
      "         'stories', 'tax_exempt', 'year_built']]\n",
      "    dset.buildings = pd.concat([dset.buildings,nr_buildings])\n",
      "    \n",
      "    ##County-level non-residential-sqft growth indicator\n",
      "    dset.buildings['county_id'] = dset.parcels.county_id[dset.buildings.parcel_id].values\n",
      "    ending_nonres = dset.buildings.groupby('county_id').non_residential_sqft.sum()\n",
      "    print 'Nonres sqft diffs'\n",
      "    print ending_nonres - starting_nonres\n",
      "    \n",
      "    ##Record starting residential units by county\n",
      "    dset.buildings['county_id'] = dset.parcels.county_id[dset.buildings.parcel_id].values\n",
      "    starting_resunits = dset.buildings.groupby('county_id').residential_units.sum()\n",
      "    \n",
      "    ##Residential proformas\n",
      "    res_buildings = developer.exec_developer(dset, year, \"households\", \"residential_units\", [16, 17, 18, 19])\n",
      "    dset.buildings = pd.concat([dset.buildings,res_buildings])\n",
      "    \n",
      "    ##County-level residential unit growth indicator\n",
      "    dset.buildings['county_id'] = dset.parcels.county_id[dset.buildings.parcel_id].values\n",
      "    ending_resunits = dset.buildings.groupby('county_id').residential_units.sum()\n",
      "    print 'Resunit diffs'\n",
      "    print ending_resunits - starting_resunits\n"
     ],
     "language": "python",
     "metadata": {},
     "outputs": [
      {
       "output_type": "stream",
       "stream": "stdout",
       "text": [
        "Fetching annual_household_control_totals\n",
        "Fetching modify_table"
       ]
      },
      {
       "output_type": "stream",
       "stream": "stdout",
       "text": [
        "\n",
        "Fetching persons\n",
        "Fetching modify_table"
       ]
      },
      {
       "output_type": "stream",
       "stream": "stdout",
       "text": [
        "\n",
        "Fetching annual_employment_control_totals"
       ]
      }
     ],
     "prompt_number": "*"
    }
   ],
   "metadata": {}
  }
 ]
}