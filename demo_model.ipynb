{
 "metadata": {
  "name": "",
  "signature": "sha256:80eaa551dad432a91331f4d9336f51abc3f16cca521f7e54355e051cbc635375"
 },
 "nbformat": 3,
 "nbformat_minor": 0,
 "worksheets": [
  {
   "cells": [
    {
     "cell_type": "code",
     "collapsed": false,
     "input": [
      "import pandas as pd, numpy as np\n",
      "from urbansim.models import transition"
     ],
     "language": "python",
     "metadata": {},
     "outputs": [],
     "prompt_number": 1
    },
    {
     "cell_type": "heading",
     "level": 4,
     "metadata": {},
     "source": [
      "Import the simulation framework"
     ]
    },
    {
     "cell_type": "code",
     "collapsed": false,
     "input": [
      "import urbansim.sim.simulation as sim"
     ],
     "language": "python",
     "metadata": {},
     "outputs": [],
     "prompt_number": 2
    },
    {
     "cell_type": "heading",
     "level": 4,
     "metadata": {},
     "source": [
      "Connect to data store, register it as an injectable"
     ]
    },
    {
     "cell_type": "code",
     "collapsed": false,
     "input": [
      "semcog_hdfstore = pd.HDFStore(\"data/semcog_data.h5\", mode=\"r\")\n",
      "sim.add_injectable(\"store\", semcog_hdfstore)"
     ],
     "language": "python",
     "metadata": {},
     "outputs": [],
     "prompt_number": 3
    },
    {
     "cell_type": "heading",
     "level": 4,
     "metadata": {},
     "source": [
      "Register data tables that will be used in the simulation"
     ]
    },
    {
     "cell_type": "code",
     "collapsed": false,
     "input": [
      "@sim.table_source('jobs') \n",
      "def jobs(store): \n",
      "    df = store['jobs']\n",
      "    return df\n",
      "\n",
      "@sim.table_source('annual_employment_control_totals')\n",
      "def annual_employment_control_totals(store):\n",
      "    df = store['annual_employment_control_totals']\n",
      "    return df"
     ],
     "language": "python",
     "metadata": {},
     "outputs": [],
     "prompt_number": 4
    },
    {
     "cell_type": "heading",
     "level": 4,
     "metadata": {},
     "source": [
      "Register your models"
     ]
    },
    {
     "cell_type": "code",
     "collapsed": false,
     "input": [
      "@sim.model('jobs_transition')\n",
      "def jobs_transition(jobs, annual_employment_control_totals, year): \n",
      "    ct_emp = annual_employment_control_totals.to_frame()\n",
      "    ct_emp = ct_emp.reset_index().set_index('year')\n",
      "    tran = transition.TabularTotalsTransition(ct_emp, 'total_number_of_jobs')\n",
      "    model = transition.TransitionModel(tran)\n",
      "    j = jobs.to_frame(jobs.local_columns)\n",
      "    new, added_jobs_idx, new_linked = model.transition(j, year)\n",
      "    new.loc[added_jobs_idx, \"building_id\"] = -1\n",
      "    sim.add_table(\"jobs\", new)\n",
      "    \n",
      "@sim.model('print_year')\n",
      "def print_year(year):\n",
      "    print '*** the year is {} ***'.format(year)"
     ],
     "language": "python",
     "metadata": {},
     "outputs": [],
     "prompt_number": 5
    },
    {
     "cell_type": "heading",
     "level": 4,
     "metadata": {},
     "source": [
      "A demonstration of running the above models"
     ]
    },
    {
     "cell_type": "code",
     "collapsed": false,
     "input": [
      "jobs = sim.get_table('jobs')\n",
      "print jobs.to_frame().describe()"
     ],
     "language": "python",
     "metadata": {},
     "outputs": [
      {
       "output_type": "stream",
       "stream": "stdout",
       "text": [
        "          building_id  home_based_status   large_area_id   refinement_id  \\\n",
        "count  1802698.000000     1802698.000000  1802698.000000  1802698.000000   \n",
        "mean   1136018.727322           0.056793       81.458019     1506.527465   \n",
        "std     575892.098090           0.231447       59.702540     3611.653113   \n",
        "min          5.000000           0.000000        3.000000       -1.000000   \n",
        "25%     669479.000000           0.000000        5.000000       -1.000000   \n",
        "50%    1091864.000000           0.000000       99.000000       -1.000000   \n",
        "75%    1554926.000000           0.000000      125.000000       -1.000000   \n",
        "max    2125005.000000           1.000000      161.000000    16532.000000   \n",
        "\n",
        "            sector_id            sqft  transaction_id         zone_id  \n",
        "count  1802698.000000  1802698.000000  1802698.000000  1802698.000000  \n",
        "mean        11.075054      541.766230     1506.510297    25326.484033  \n",
        "std          5.562257      164.103961     3611.660194    14402.584539  \n",
        "min          1.000000      225.000000       -1.000000     1101.000000  \n",
        "25%          5.000000      400.000000       -1.000000    16212.000000  \n",
        "50%         12.000000      550.000000       -1.000000    23211.000000  \n",
        "75%         16.000000      700.000000       -1.000000    32030.000000  \n",
        "max         20.000000     1000.000000    16532.000000    73407.000000  \n"
       ]
      }
     ],
     "prompt_number": 6
    },
    {
     "cell_type": "code",
     "collapsed": false,
     "input": [
      "sim.run([\"print_year\", \"jobs_transition\"], years=range(2012, 2018), data_out='runs/test_run.h5', out_interval=5)"
     ],
     "language": "python",
     "metadata": {},
     "outputs": [
      {
       "output_type": "stream",
       "stream": "stdout",
       "text": [
        "Running year 2012\n",
        "Running model 'print_year'\n",
        "*** the year is 2012 ***\n",
        "Time to execute model 'print_year': 0.00s\n",
        "Running model 'jobs_transition'\n",
        "Time to execute model 'jobs_transition': 5.05s"
       ]
      },
      {
       "output_type": "stream",
       "stream": "stdout",
       "text": [
        "\n",
        "Total time to execute year 2012: 5.05s\n",
        "Running year 2013\n",
        "Running model 'print_year'\n",
        "*** the year is 2013 ***\n",
        "Time to execute model 'print_year': 0.00s\n",
        "Running model 'jobs_transition'\n",
        "Time to execute model 'jobs_transition': 4.79s"
       ]
      },
      {
       "output_type": "stream",
       "stream": "stdout",
       "text": [
        "\n",
        "Total time to execute year 2013: 4.79s\n",
        "Running year 2014\n",
        "Running model 'print_year'\n",
        "*** the year is 2014 ***\n",
        "Time to execute model 'print_year': 0.00s\n",
        "Running model 'jobs_transition'\n",
        "Time to execute model 'jobs_transition': 4.85s"
       ]
      },
      {
       "output_type": "stream",
       "stream": "stdout",
       "text": [
        "\n",
        "Total time to execute year 2014: 4.85s\n",
        "Running year 2015\n",
        "Running model 'print_year'\n",
        "*** the year is 2015 ***\n",
        "Time to execute model 'print_year': 0.00s\n",
        "Running model 'jobs_transition'\n",
        "Time to execute model 'jobs_transition': 4.97s"
       ]
      },
      {
       "output_type": "stream",
       "stream": "stdout",
       "text": [
        "\n",
        "Total time to execute year 2015: 4.97s\n",
        "Running year 2016\n",
        "Running model 'print_year'\n",
        "*** the year is 2016 ***\n",
        "Time to execute model 'print_year': 0.00s\n",
        "Running model 'jobs_transition'\n",
        "Time to execute model 'jobs_transition': 5.00s"
       ]
      },
      {
       "output_type": "stream",
       "stream": "stdout",
       "text": [
        "\n",
        "Total time to execute year 2016: 5.00s\n",
        "Running year 2017"
       ]
      },
      {
       "output_type": "stream",
       "stream": "stdout",
       "text": [
        "\n",
        "Running model 'print_year'\n",
        "*** the year is 2017 ***\n",
        "Time to execute model 'print_year': 0.00s\n",
        "Running model 'jobs_transition'\n",
        "Time to execute model 'jobs_transition': 5.01s"
       ]
      },
      {
       "output_type": "stream",
       "stream": "stdout",
       "text": [
        "\n",
        "Total time to execute year 2017: 5.01s\n"
       ]
      }
     ],
     "prompt_number": 7
    },
    {
     "cell_type": "code",
     "collapsed": false,
     "input": [
      "sim.get_table('jobs').to_frame().describe()"
     ],
     "language": "python",
     "metadata": {},
     "outputs": [
      {
       "html": [
        "<div style=\"max-height:1000px;max-width:1500px;overflow:auto;\">\n",
        "<table border=\"1\" class=\"dataframe\">\n",
        "  <thead>\n",
        "    <tr style=\"text-align: right;\">\n",
        "      <th></th>\n",
        "      <th>building_id</th>\n",
        "      <th>home_based_status</th>\n",
        "      <th>large_area_id</th>\n",
        "      <th>refinement_id</th>\n",
        "      <th>sector_id</th>\n",
        "      <th>sqft</th>\n",
        "      <th>transaction_id</th>\n",
        "      <th>zone_id</th>\n",
        "    </tr>\n",
        "  </thead>\n",
        "  <tbody>\n",
        "    <tr>\n",
        "      <th>count</th>\n",
        "      <td> 1878528.000000</td>\n",
        "      <td> 1878528.000000</td>\n",
        "      <td> 1878528.000000</td>\n",
        "      <td> 1878528.000000</td>\n",
        "      <td> 1878528.000000</td>\n",
        "      <td> 1878528.000000</td>\n",
        "      <td> 1878528.000000</td>\n",
        "      <td> 1878528.000000</td>\n",
        "    </tr>\n",
        "    <tr>\n",
        "      <th>mean</th>\n",
        "      <td> 1062355.720686</td>\n",
        "      <td>       0.059283</td>\n",
        "      <td>      82.543900</td>\n",
        "      <td>    1536.914100</td>\n",
        "      <td>      11.113095</td>\n",
        "      <td>     537.541176</td>\n",
        "      <td>    1536.897550</td>\n",
        "      <td>   25434.678911</td>\n",
        "    </tr>\n",
        "    <tr>\n",
        "      <th>std</th>\n",
        "      <td>  622194.541805</td>\n",
        "      <td>       0.236154</td>\n",
        "      <td>      59.357909</td>\n",
        "      <td>    3640.486519</td>\n",
        "      <td>       5.451368</td>\n",
        "      <td>     163.648043</td>\n",
        "      <td>    3640.493429</td>\n",
        "      <td>   14364.289892</td>\n",
        "    </tr>\n",
        "    <tr>\n",
        "      <th>min</th>\n",
        "      <td>      -1.000000</td>\n",
        "      <td>       0.000000</td>\n",
        "      <td>       3.000000</td>\n",
        "      <td>      -1.000000</td>\n",
        "      <td>       1.000000</td>\n",
        "      <td>     225.000000</td>\n",
        "      <td>      -1.000000</td>\n",
        "      <td>    1101.000000</td>\n",
        "    </tr>\n",
        "    <tr>\n",
        "      <th>25%</th>\n",
        "      <td>  553043.000000</td>\n",
        "      <td>       0.000000</td>\n",
        "      <td>       5.000000</td>\n",
        "      <td>      -1.000000</td>\n",
        "      <td>       5.000000</td>\n",
        "      <td>     400.000000</td>\n",
        "      <td>      -1.000000</td>\n",
        "      <td>   16400.000000</td>\n",
        "    </tr>\n",
        "    <tr>\n",
        "      <th>50%</th>\n",
        "      <td> 1072170.000000</td>\n",
        "      <td>       0.000000</td>\n",
        "      <td>      99.000000</td>\n",
        "      <td>      -1.000000</td>\n",
        "      <td>      12.000000</td>\n",
        "      <td>     550.000000</td>\n",
        "      <td>      -1.000000</td>\n",
        "      <td>   23222.000000</td>\n",
        "    </tr>\n",
        "    <tr>\n",
        "      <th>75%</th>\n",
        "      <td> 1535056.000000</td>\n",
        "      <td>       0.000000</td>\n",
        "      <td>     125.000000</td>\n",
        "      <td>      -1.000000</td>\n",
        "      <td>      16.000000</td>\n",
        "      <td>     700.000000</td>\n",
        "      <td>      -1.000000</td>\n",
        "      <td>   31730.000000</td>\n",
        "    </tr>\n",
        "    <tr>\n",
        "      <th>max</th>\n",
        "      <td> 2125005.000000</td>\n",
        "      <td>       1.000000</td>\n",
        "      <td>     161.000000</td>\n",
        "      <td>   16532.000000</td>\n",
        "      <td>      20.000000</td>\n",
        "      <td>    1000.000000</td>\n",
        "      <td>   16532.000000</td>\n",
        "      <td>   73407.000000</td>\n",
        "    </tr>\n",
        "  </tbody>\n",
        "</table>\n",
        "</div>"
       ],
       "metadata": {},
       "output_type": "pyout",
       "prompt_number": 8,
       "text": [
        "          building_id  home_based_status   large_area_id   refinement_id  \\\n",
        "count  1878528.000000     1878528.000000  1878528.000000  1878528.000000   \n",
        "mean   1062355.720686           0.059283       82.543900     1536.914100   \n",
        "std     622194.541805           0.236154       59.357909     3640.486519   \n",
        "min         -1.000000           0.000000        3.000000       -1.000000   \n",
        "25%     553043.000000           0.000000        5.000000       -1.000000   \n",
        "50%    1072170.000000           0.000000       99.000000       -1.000000   \n",
        "75%    1535056.000000           0.000000      125.000000       -1.000000   \n",
        "max    2125005.000000           1.000000      161.000000    16532.000000   \n",
        "\n",
        "            sector_id            sqft  transaction_id         zone_id  \n",
        "count  1878528.000000  1878528.000000  1878528.000000  1878528.000000  \n",
        "mean        11.113095      537.541176     1536.897550    25434.678911  \n",
        "std          5.451368      163.648043     3640.493429    14364.289892  \n",
        "min          1.000000      225.000000       -1.000000     1101.000000  \n",
        "25%          5.000000      400.000000       -1.000000    16400.000000  \n",
        "50%         12.000000      550.000000       -1.000000    23222.000000  \n",
        "75%         16.000000      700.000000       -1.000000    31730.000000  \n",
        "max         20.000000     1000.000000    16532.000000    73407.000000  "
       ]
      }
     ],
     "prompt_number": 8
    },
    {
     "cell_type": "code",
     "collapsed": false,
     "input": [
      "print sim._TABLES\n",
      "print sim._MODELS\n",
      "print sim._INJECTABLES\n",
      "\n",
      "##show add_injectable and how it updates the _INJECTABLES list, then show the dictionaries up at top of sim (empty dicts)"
     ],
     "language": "python",
     "metadata": {},
     "outputs": [
      {
       "output_type": "stream",
       "stream": "stdout",
       "text": [
        "{'jobs': <urbansim.sim.simulation.DataFrameWrapper object at 0x0000000019F62A58>, 'annual_employment_control_totals': <urbansim.sim.simulation.DataFrameWrapper object at 0x0000000016632E80>}\n",
        "{'jobs_transition': <urbansim.sim.simulation._ModelFuncWrapper object at 0x000000001663B9B0>, 'print_year': <urbansim.sim.simulation._ModelFuncWrapper object at 0x000000001663B940>}\n",
        "{'store': <class 'pandas.io.pytables.HDFStore'>\n",
        "File path: data/semcog_data.h5\n",
        "/annual_employment_control_totals                                         frame        (shape->[9920,2])    \n",
        "/annual_household_control_totals                                          frame        (shape->[145514,11]) \n",
        "/annual_relocation_rates_for_households                                   frame        (shape->[63,5])      \n",
        "/annual_relocation_rates_for_jobs                                         frame        (shape->[20,2])      \n",
        "/building_sqft_per_job                                                    frame        (shape->[115251,1])  \n",
        "/building_types                                                           frame        (shape->[1,7])       \n",
        "/buildings                                                                frame        (shape->[2122930,11])\n",
        "/cities                                                                   frame        (shape->[236,9])     \n",
        "/counties                                                                 frame        (shape->[1,1])       \n",
        "/demolition_cost_per_sqft                                                 frame        (shape->[69,3])      \n",
        "/development_constraints                                                  frame        (shape->[772,6])     \n",
        "/development_project_proposals                                            frame        (shape->[270,6])     \n",
        "/development_template_components                                          frame        (shape->[97,8])      \n",
        "/development_templates                                                    frame        (shape->[93,11])     \n",
        "/employment_adhoc_sector_group_definitions                                frame        (shape->[40,2])      \n",
        "/employment_adhoc_sector_groups                                           frame        (shape->[8,2])       \n",
        "/employment_events                                                        frame        (shape->[216,9])     \n",
        "/employment_sectors                                                       frame        (shape->[20,2])      \n",
        "/generic_land_use_types                                                   frame        (shape->[1,1])       \n",
        "/home_based_employment_location_choice_model_coefficients                 frame        (shape->[17,5])      \n",
        "/home_based_employment_location_choice_model_specification                frame        (shape->[17,5])      \n",
        "/home_based_status                                                        frame        (shape->[2,2])       \n",
        "/household_location_choice_model_coefficients                             frame        (shape->[40,5])      \n",
        "/household_location_choice_model_specification                            frame        (shape->[40,5])      \n",
        "/households                                                               frame        (shape->[1844780,14])\n",
        "/job_building_types                                                       frame        (shape->[2,3])       \n",
        "/jobs                                                                     frame        (shape->[1802698,8]) \n",
        "/jobs_for_estimation                                                      frame        (shape->[51000,7])   \n",
        "/land_use_types                                                           frame        (shape->[1,7])       \n",
        "/large_areas                                                              frame        (shape->[1,3])       \n",
        "/non_home_based_employment_location_choice_model_coefficients             frame        (shape->[270,5])     \n",
        "/non_home_based_employment_location_choice_model_specification            frame        (shape->[270,5])     \n",
        "/parcels                                                                  frame        (shape->[1837676,22])\n",
        "/persons                                                                  frame        (shape->[4638561,14])\n",
        "/plans                                                                    frame        (shape->[457,4])     \n",
        "/real_estate_price_model_coefficients                                     frame        (shape->[2064,5])    \n",
        "/real_estate_price_model_specification                                    frame        (shape->[2064,4])    \n",
        "/refinements                                                              frame        (shape->[664,8])     \n",
        "/school_districts                                                         frame        (shape->[243,6])     \n",
        "/target_vacancies                                                         frame        (shape->[4712,2])    \n",
        "/travel_data                                                              frame        (shape->[8404201,5]) \n",
        "/urbansim_constants                                                       frame        (shape->[1,19])      \n",
        "/velocity_functions                                                       frame        (shape->[1,4])       \n",
        "/zones                                                                    frame        (shape->[1,2])       , 'year': 2017}"
       ]
      },
      {
       "output_type": "stream",
       "stream": "stdout",
       "text": [
        "\n"
       ]
      }
     ],
     "prompt_number": 9
    },
    {
     "cell_type": "code",
     "collapsed": false,
     "input": [],
     "language": "python",
     "metadata": {},
     "outputs": []
    }
   ],
   "metadata": {}
  }
 ]
}