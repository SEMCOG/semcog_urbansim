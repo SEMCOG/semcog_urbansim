{
 "cells": [
  {
   "cell_type": "code",
   "execution_count": 1,
   "metadata": {
    "collapsed": false
   },
   "outputs": [],
   "source": [
    "import os\n",
    "import pandas as pd, numpy as np\n",
    "from urbansim.models import transition\n",
    "import orca\n",
    "from urbansim.utils import misc"
   ]
  },
  {
   "cell_type": "markdown",
   "metadata": {},
   "source": [
    "#### Import the simulation framework"
   ]
  },
  {
   "cell_type": "code",
   "execution_count": null,
   "metadata": {
    "collapsed": false
   },
   "outputs": [],
   "source": [
    "#import urbansim.sim.simulation as sim"
   ]
  },
  {
   "cell_type": "markdown",
   "metadata": {},
   "source": [
    "#### Connect to data store, register it as an injectable"
   ]
  },
  {
   "cell_type": "code",
   "execution_count": 2,
   "metadata": {
    "collapsed": false
   },
   "outputs": [],
   "source": [
    "semcog_hdfstore = pd.HDFStore(\"data/semcog_data.h5\", mode=\"r\")\n",
    "orca.add_injectable(\"store\", semcog_hdfstore)"
   ]
  },
  {
   "cell_type": "code",
   "execution_count": null,
   "metadata": {
    "collapsed": false
   },
   "outputs": [],
   "source": [
    "semcog_hdfstore"
   ]
  },
  {
   "cell_type": "markdown",
   "metadata": {},
   "source": [
    "#### Register data tables that will be used in the simulation"
   ]
  },
  {
   "cell_type": "code",
   "execution_count": 3,
   "metadata": {
    "collapsed": false
   },
   "outputs": [],
   "source": [
    "@orca.table('jobs') \n",
    "def jobs(store): \n",
    "    df = store['jobs']\n",
    "    return df\n",
    "\n",
    "@orca.table('buildings') \n",
    "def jobs(store): \n",
    "    df = store['buildings']\n",
    "    return df\n",
    "\n",
    "@orca.table('annual_employment_control_totals')\n",
    "def annual_employment_control_totals(store):\n",
    "    df = store['annual_employment_control_totals']\n",
    "    return df"
   ]
  },
  {
   "cell_type": "code",
   "execution_count": 5,
   "metadata": {
    "collapsed": true
   },
   "outputs": [],
   "source": [
    "buildings = orca.get_table('buildings').to_frame()"
   ]
  },
  {
   "cell_type": "code",
   "execution_count": 10,
   "metadata": {
    "collapsed": false
   },
   "outputs": [
    {
     "data": {
      "text/plain": [
       "False"
      ]
     },
     "execution_count": 10,
     "metadata": {},
     "output_type": "execute_result"
    }
   ],
   "source": [
    "buildings.duplicated().any()"
   ]
  },
  {
   "cell_type": "markdown",
   "metadata": {},
   "source": [
    "#### Register your models"
   ]
  },
  {
   "cell_type": "code",
   "execution_count": null,
   "metadata": {
    "collapsed": false
   },
   "outputs": [],
   "source": [
    "@orca.step('jobs_transition')\n",
    "def jobs_transition(jobs, annual_employment_control_totals,iter_var): \n",
    "    ct_emp = annual_employment_control_totals.to_frame()\n",
    "    ct_emp = ct_emp.reset_index().set_index('year')\n",
    "    tran = transition.TabularTotalsTransition(ct_emp, 'total_number_of_jobs')\n",
    "    model = transition.TransitionModel(tran)\n",
    "    j = jobs.to_frame(jobs.local_columns)\n",
    "    #print \"j\"\n",
    "    new, added_jobs_idx, new_linked = model.transition(j, iter_var)\n",
    "    new.loc[added_jobs_idx, \"building_id\"] = -1\n",
    "    orca.add_table(\"jobs\", new)\n",
    "    \n",
    "@orca.step('print_year')\n",
    "def print_year(iter_var):\n",
    "    print '*** the year is {} ***'.format(iter_var)"
   ]
  },
  {
   "cell_type": "markdown",
   "metadata": {},
   "source": [
    "#### A demonstration of running the above models"
   ]
  },
  {
   "cell_type": "code",
   "execution_count": null,
   "metadata": {
    "collapsed": false
   },
   "outputs": [],
   "source": [
    "#jobs = orca.get_table('jobs')\n",
    "#print jobs.to_frame().describe()"
   ]
  },
  {
   "cell_type": "code",
   "execution_count": null,
   "metadata": {
    "collapsed": false
   },
   "outputs": [],
   "source": [
    "jobs.to_frame().head()"
   ]
  },
  {
   "cell_type": "code",
   "execution_count": null,
   "metadata": {
    "collapsed": false
   },
   "outputs": [],
   "source": [
    "orca.run([\"print_year\",\"jobs_transition\"], iter_vars=[2010], data_out='runs/test_run.h5', out_interval=1)"
   ]
  },
  {
   "cell_type": "code",
   "execution_count": null,
   "metadata": {
    "collapsed": false
   },
   "outputs": [],
   "source": [
    "orca.get_table('jobs').to_frame().describe()"
   ]
  },
  {
   "cell_type": "code",
   "execution_count": null,
   "metadata": {
    "collapsed": false
   },
   "outputs": [],
   "source": [
    "print orca._TABLES\n",
    "print orca._MODELS\n",
    "print orca._INJECTABLES\n",
    "\n",
    "##show add_injectable and how it updates the _INJECTABLES list, then show the dictionaries up at top of sim (empty dicts)"
   ]
  },
  {
   "cell_type": "code",
   "execution_count": null,
   "metadata": {
    "collapsed": false
   },
   "outputs": [],
   "source": []
  }
 ],
 "metadata": {
  "kernelspec": {
   "display_name": "Python [Root]",
   "language": "python",
   "name": "Python [Root]"
  },
  "language_info": {
   "codemirror_mode": {
    "name": "ipython",
    "version": 2
   },
   "file_extension": ".py",
   "mimetype": "text/x-python",
   "name": "python",
   "nbconvert_exporter": "python",
   "pygments_lexer": "ipython2",
   "version": "2.7.12"
  }
 },
 "nbformat": 4,
 "nbformat_minor": 0
}
